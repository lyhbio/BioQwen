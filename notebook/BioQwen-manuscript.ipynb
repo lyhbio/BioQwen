{
 "cells": [
  {
   "cell_type": "markdown",
   "id": "caadf4fe-b766-4b88-9889-ac7ac0752593",
   "metadata": {
    "jp-MarkdownHeadingCollapsed": true
   },
   "source": [
    "### Model\n",
    "- Qwen 0.5B Base\n",
    "- Qwen 1.8B Base\n",
    "### Data:\n",
    "- Resource: General + Medical\n",
    "- Format: ChatML\n",
    "### Method\n",
    "- SFT\n",
    "- QLoRA + FlashAttention2 + Two-Stage\n",
    "#### Two-Stage\n",
    "- Stage 1: Understanding Tasks = 20w\n",
    "- Stage 2: Understanding Tasks + Generation Tasks = 20w + 20w\n",
    "### Downstream\n",
    "- NER\n",
    "- RE\n",
    "- Translation\n",
    "- QA\n",
    "### BioQwen\n",
    "- BioQwen 0.5B\n",
    "- BioQwen 1.8B"
   ]
  },
  {
   "cell_type": "markdown",
   "id": "a0eea0d3-81b6-4415-b106-f96a0b7210a0",
   "metadata": {
    "jp-MarkdownHeadingCollapsed": true
   },
   "source": [
    "## Import"
   ]
  },
  {
   "cell_type": "code",
   "execution_count": 1,
   "id": "845d04c0-1a86-42e4-8abf-d7a0c560f24a",
   "metadata": {},
   "outputs": [],
   "source": [
    "# !pip install bitsandbytes gradio trl peft ipywidgets wandb zhconv datasets transformers accelerate matplotlib pandas torch"
   ]
  },
  {
   "cell_type": "code",
   "execution_count": 2,
   "id": "5ccb46b4-ba7f-4164-a60b-61c79d951b18",
   "metadata": {},
   "outputs": [],
   "source": [
    "import os\n",
    "import math\n",
    "import copy\n",
    "import json\n",
    "import torch\n",
    "import torch.nn as nn\n",
    "import concurrent.futures\n",
    "import pandas as pd\n",
    "import bitsandbytes as bnb\n",
    "import gradio as gr\n",
    "from accelerate.state import PartialState\n",
    "from trl import get_kbit_device_map, KTOTrainer, KTOConfig, DPOTrainer\n",
    "from zhconv import convert\n",
    "\n",
    "from peft import LoraConfig, get_peft_model, PeftModel, prepare_model_for_kbit_training\n",
    "from datasets import load_dataset, concatenate_datasets, Dataset, load_from_disk\n",
    "from transformers import (\n",
    "    AutoTokenizer, \n",
    "    AutoModelForCausalLM, \n",
    "    BitsAndBytesConfig, \n",
    "    Trainer, \n",
    "    TrainingArguments,\n",
    "    TextStreamer,\n",
    "    pipeline, \n",
    "    AutoModelForSequenceClassification, \n",
    "    LlamaTokenizer\n",
    ")\n",
    "\n",
    "import matplotlib.pyplot as plt"
   ]
  },
  {
   "cell_type": "code",
   "execution_count": 4,
   "id": "c6b26734-002f-4060-8901-99f60b669f06",
   "metadata": {},
   "outputs": [],
   "source": [
    "train_mode = 'qlora'\n",
    "max_length = 1024"
   ]
  },
  {
   "cell_type": "code",
   "execution_count": 5,
   "id": "0326a123-0437-47f0-8f45-a8f265bf121b",
   "metadata": {},
   "outputs": [
    {
     "data": {
      "text/plain": [
       "4"
      ]
     },
     "execution_count": 5,
     "metadata": {},
     "output_type": "execute_result"
    }
   ],
   "source": [
    "torch.cuda.device_count()"
   ]
  },
  {
   "cell_type": "markdown",
   "id": "3d85ec9a-57c4-42b7-ae4d-bf296d79da72",
   "metadata": {
    "jp-MarkdownHeadingCollapsed": true
   },
   "source": [
    "## Data"
   ]
  },
  {
   "cell_type": "markdown",
   "id": "842068c3-75e6-4020-a923-aedb5640abda",
   "metadata": {
    "jp-MarkdownHeadingCollapsed": true
   },
   "source": [
    "### COIG 44694 -> 36525"
   ]
  },
  {
   "cell_type": "markdown",
   "id": "0e994396-c519-482e-a009-fdbf921bea07",
   "metadata": {},
   "source": [
    "- Title: COIG-CQIA: Quality is All You Need for Chinese Instruction Fine-tuning\n",
    "- Link: https://arxiv.org/abs/2403.18058"
   ]
  },
  {
   "cell_type": "code",
   "execution_count": 56,
   "id": "4543c32d-9266-4c4d-8ca8-0922831788e1",
   "metadata": {},
   "outputs": [
    {
     "data": {
      "text/plain": [
       "DatasetDict({\n",
       "    train: Dataset({\n",
       "        features: ['instruction', 'input', 'output', 'task_type', 'domain', 'metadata', 'answer_from', 'human_verified', 'copyright'],\n",
       "        num_rows: 44694\n",
       "    })\n",
       "})"
      ]
     },
     "execution_count": 56,
     "metadata": {},
     "output_type": "execute_result"
    }
   ],
   "source": [
    "general_data = load_dataset('json', data_files='data/COIG-CQIA/COIG-CQIA-full.jsonl')\n",
    "general_data"
   ]
  },
  {
   "cell_type": "code",
   "execution_count": 57,
   "id": "4a1e76e7-914d-4913-aa80-6fcfb793f7d1",
   "metadata": {},
   "outputs": [
    {
     "data": {
      "text/plain": [
       "DatasetDict({\n",
       "    train: Dataset({\n",
       "        features: ['instruction', 'input', 'output', 'task_type', 'domain', 'metadata', 'answer_from', 'human_verified', 'copyright'],\n",
       "        num_rows: 42847\n",
       "    })\n",
       "})"
      ]
     },
     "execution_count": 57,
     "metadata": {},
     "output_type": "execute_result"
    }
   ],
   "source": [
    "general_data.filter(lambda x: x['answer_from'] == 'human')"
   ]
  },
  {
   "cell_type": "code",
   "execution_count": 58,
   "id": "31ca53f4-502f-416c-94ee-c72446615eb8",
   "metadata": {},
   "outputs": [
    {
     "data": {
      "text/plain": [
       "{'instruction': '请判断下面文本中是否包含[人名,地名,机构名]等词汇，如果存在，返回包含词汇对应的标签，如果不存在，返回No',\n",
       " 'input': '文本：与上年相比，巢湖和滇池污染程度有所加重，太湖有所减轻。\\n',\n",
       " 'output': '地名\\n',\n",
       " 'task_type': {'major': ['分类'], 'minor': ['实体判断']},\n",
       " 'domain': ['通用'],\n",
       " 'metadata': '暂无元数据信息',\n",
       " 'answer_from': 'human',\n",
       " 'human_verified': False,\n",
       " 'copyright': '暂无版权及作者信息'}"
      ]
     },
     "execution_count": 58,
     "metadata": {},
     "output_type": "execute_result"
    }
   ],
   "source": [
    "general_data['train'].shuffle()[0]"
   ]
  },
  {
   "cell_type": "code",
   "execution_count": 59,
   "id": "2161203d-d309-4f0a-bc5b-5b99e717df62",
   "metadata": {},
   "outputs": [],
   "source": [
    "# remove medical-related content\n",
    "general_data = general_data.filter(lambda x: not any(domain in x['domain'] for domain in ['医学', '医疗', '药物']))\n",
    "general_data"
   ]
  },
  {
   "cell_type": "code",
   "execution_count": 60,
   "id": "1d8bb15e-2c22-406c-b588-18b39dcff378",
   "metadata": {},
   "outputs": [
    {
     "data": {
      "text/plain": [
       "DatasetDict({\n",
       "    train: Dataset({\n",
       "        features: ['instruction', 'input', 'output'],\n",
       "        num_rows: 44694\n",
       "    })\n",
       "})"
      ]
     },
     "execution_count": 60,
     "metadata": {},
     "output_type": "execute_result"
    }
   ],
   "source": [
    "selected_general_data = general_data.map(remove_columns=['task_type', 'domain', 'metadata', 'answer_from', 'human_verified', 'copyright'])\n",
    "selected_general_data"
   ]
  },
  {
   "cell_type": "code",
   "execution_count": 61,
   "id": "fd316997-f4c2-4d23-b99f-14ae67d0bd4f",
   "metadata": {},
   "outputs": [],
   "source": [
    "selected_general_data = selected_general_data['train']"
   ]
  },
  {
   "cell_type": "code",
   "execution_count": 62,
   "id": "af304a14-641b-4611-9e66-932f39c0ed67",
   "metadata": {},
   "outputs": [
    {
     "data": {
      "text/plain": [
       "{'instruction': '你是一名领域专家，对体验效用这个概念非常了解，请给出详细的解释',\n",
       " 'input': '',\n",
       " 'output': '#### 体验效用概述\\n\\nKahnemanetal.(1997)在借鉴积极心理学知识的基础上开创性地区分了经济学中的两种效用：决策效用(decisionutility)和体验效用(experiencedutility)。他们认为，在当前经济学的决策理论中，效用是指决策效用，结果和属性的效用是指它们在决策中的权重。也就是说，效用是通过观察到的选择来推导出的，而且又用于解释这些选择(Kahneman&Thaler，2006)。体验效用是边沁所指的效用，即幸福与痛苦，指导着“我们应该做什么”和“将要做什么”。积极效用是能带来快乐的倾向，与此相反，带来痛苦的倾向就是消极效用。在区分两种效用的基础上，他们提出了基于体验效用时刻评价方式的体验幸(experiencedwell-being)的概念。#### 体验效用、预测效用和决策效用\\n\\n体验效用、预测效用和决策效用(experienced、predicted、decisionutility)是三种探讨效用的方式，它们之间存在着很大的差异(Kahneman，1994；Kahneman，Frederickson，Schrciber和Redelmeier，1993；Kahneman和Snell，1992；Varey和Kahneman，1992)。实质上，体验效用非常重要(这个术语可以使我们得出经历才是最重要的假定，在这里我将否定这个假定。但是我们可以在这些主要差异存在的同时，将它的意义拓展到包括很多种类的目标实现中)。如果你品尝两种啤酒，那么对于每种啤酒的体验都是真实(体验)效用。预测效用是指你对每种体验会有多好的判断，很可能是基于你对以前体验的记忆而做出的。为了衡量你的决策效用，我将让你对每种啤酒做出评价。依据决策效用能推论出你的选择。我可以观察你选择哪种啤酒。\\n这三种效用可能会冲突。啤酒A(拥有更多的体验效用)的口感可能会好于啤酒B，但是你的预测可能正相反。举个例子，你可能有种天真的想法，认为你有段时间没有喝的啤酒的口感会很好。你的预测可能就是基于你很长时间没有喝过啤酒B了。否则你就会预测A的口感会更好，但是依据人们都喜欢追求变化这样一个普遍的启发式，无论如何你还是会选择B。依据体验效用，这种追求变化的启发式可能会让你失望。\\n以下是一个极具戏剧性的预测效用和体验效用相冲突的例子。Sieff，Dawes和Loewenstein(1999)让做过艾滋病检测的人预测：如果检验结果是阳性时，或如果检验结果是阴性时，他们得到检验结果五周后的感觉。那些得到了阳性结果的人认为他们会比实际感觉到的更快乐些，而那些得到阴性结果的人同样低估了他们的不快乐程度。人们适应的速度比他们想象得要快。\\n在一个不是那么戏剧性的例子中，Kahneman和Snell(1992)探索了人们在主要目的只是获得快乐的情景中的预测失败：体验愉悦和避免疼痛。在一项研究中，他们要求被试预测在连续的八个晚上，若每晚都会在听一首曲子的同时吃一种普通的低脂酸奶，他们能吃多少这种酸奶。被试最初倾向于讨厌这种酸奶，并且他们预测(平均水平)伴随着重复次数的增多，将越来越不喜欢这种酸奶。但是，他们每次体验后的评分却显示这与他们的预测相反。在这八天中，他们倾向于更加喜欢这种酸奶——或者说更少的讨厌。最后一次的评分与在这个实验中真正的目标实现最为符合，因为他们使用几乎所有的知识来做的这个评分。现在还不清楚哪些心理机制可以解释这个链条的变化，但是似乎被试关于口感的朴素理论并不能将它们包括在内。\\n我们不能很好的记住体验效用是我们不能很好的预测我们的体验的一部分原因。我们倾向于忽视体验的持续时间，我们对于体验的判断常常过分地依赖于体验的结尾及其最好或者最差的点。在Kahneman，Frederickson，Schreiber和Redelmeier(1993)的实验中，每个被试都接受两个不愉快的体验：让被试把手放在很冷的水里一分钟；把手放在很冷的水中一分半钟，但是后来的半分钟水稍微不那么冷了，但是还是能让人感觉很不舒服。多数被试倾向于重复持续时间较长的实验，并且他们认为，尽管持续时间较长的刺激包含的不舒服的总量更多，但其刺激比时间较短的刺激给他们的感觉要好些。当然，由于在实验中提供给被试体验，所以这类实验与我们评估事件的效用有关，但是这更一般地提出，我们在学习什么能让我们实现目标时存在着困难这样一个问题。\\n规范性理论是关于体验效用的，或者一般地说是关于真实效用的。在理想情况下，你的判断和决策要与你的体验效用相一致。但是正如我们将要看到的，它们并不一致。多数实例中，选择依据的都是决策效用，而不是体验效用。很多证据表明，一个人在一种情景下做的选择常常与另一种情景下所做的选择不相一致。在这些情景下，两种选择都反映了“决策效用”，但是二者不能都反映真实(或者体验)效用。\\n我们的选择“揭示”了效用，这种观点是经济学中的一个通用的假设，它之所以使人受到误导，是因为我们的选择只是揭示出了决策效用。我们的实际选择可能并不能导致最好的结果。这些选择可能是由于偏差造成的。'}"
      ]
     },
     "execution_count": 62,
     "metadata": {},
     "output_type": "execute_result"
    }
   ],
   "source": [
    "selected_general_data.shuffle()[0]"
   ]
  },
  {
   "cell_type": "markdown",
   "id": "c7e28404-0497-4f02-b9e5-2623e2de0f5e",
   "metadata": {
    "jp-MarkdownHeadingCollapsed": true
   },
   "source": [
    "### QA 763629"
   ]
  },
  {
   "cell_type": "markdown",
   "id": "a3bf17dc-0281-4bc5-ad82-cb35177bc93b",
   "metadata": {},
   "source": [
    "- Title: MedChatZH: a Better Medical Adviser Learns from Better Instructions\n",
    "- Link: https://arxiv.org/abs/2309.01114"
   ]
  },
  {
   "cell_type": "markdown",
   "id": "1a280720-4114-4a15-929e-a1d2557fa688",
   "metadata": {},
   "source": [
    "#### Load"
   ]
  },
  {
   "cell_type": "code",
   "execution_count": 7,
   "id": "3a464943-f49a-48f7-bb6a-65adb4945529",
   "metadata": {
    "scrolled": true
   },
   "outputs": [
    {
     "data": {
      "text/plain": [
       "DatasetDict({\n",
       "    train: Dataset({\n",
       "        features: ['instruction', 'input', 'output'],\n",
       "        num_rows: 763629\n",
       "    })\n",
       "})"
      ]
     },
     "execution_count": 7,
     "metadata": {},
     "output_type": "execute_result"
    }
   ],
   "source": [
    "qa_data = load_dataset('json', data_files='data/MedChatZH/MedChatZH_train.json')\n",
    "qa_data"
   ]
  },
  {
   "cell_type": "code",
   "execution_count": 8,
   "id": "d33847f6-59fc-40ae-a1e8-70fa970985c8",
   "metadata": {},
   "outputs": [
    {
     "data": {
      "text/plain": [
       "{'instruction': '女人吃什么能补气血',\n",
       " 'input': '',\n",
       " 'output': '女人吃什么能补气血，补气血吃的东西特别的多，下面就是补气血需要吃哪些食物。红豆，红豆不仅营养成分高，女性多食物还能帮助起到排毒养颜的效果，因为其铁质含量相当丰富，具有很好的补血功能。莲藕，莲藕含丰富淀粉及各种营养物质，有最符合人体所需求的各种营养，能帮助起到补气益血，增强免疫力的作用，而且容易消化。菠菜，这是最常见的蔬菜，也是有名的补血食物，菠菜内含有丰富的铁质胡萝卜素，所以菠菜可以算是补血蔬菜中的重要食物。如果不爱吃胡萝卜，那就多吃点蔬菜吧。桑葚干，桑葚干是目前水果及其制品中含天然铁最丰富的，每100克含铁\\n42. 5毫克，是水果中的补血果。一般建议将桑葚干煮粥吃，每日食用一碗桑葚粥不但可以补血，还可以美容。牛奶，牛奶最宜人，平补血脉、益心、长肌肉、令人身体健康、面目光悦、志不急，故为子者常须供之，以为常食。因此女性朋友可以通过多喝牛奶来达到补气血、滋养的功效。红枣，天方健红枣是补血的人首选的食物，它含有大量的环磷酸腺苷，它能调节人体的新陈代谢，使新细胞迅速生成，死细胞很快被消除，并能增强骨髓造血功能，增强血液中红细胞的含量。龙眼肉，龙眼肉就是桂圆肉，任何一家超市都有售。龙眼肉除了含丰富的铁质外还含有蔗糖。补血的同时还能治疗健忘、心悸、神经衰弱和失眠症。龙眼汤、龙眼胶、龙眼酒之类也是很好的补血食物等。气血这种病不可怕，不用担心，不要有心里有压力，可以从多方面可以补的，平常多注意休息。'}"
      ]
     },
     "execution_count": 8,
     "metadata": {},
     "output_type": "execute_result"
    }
   ],
   "source": [
    "qa_data['train'].shuffle()[0]"
   ]
  },
  {
   "cell_type": "markdown",
   "id": "225ba1f9-73ad-46e5-a4e2-bcb1011265e5",
   "metadata": {},
   "source": [
    "#### Eliminate low-quality data"
   ]
  },
  {
   "cell_type": "code",
   "execution_count": 9,
   "id": "cd5c252b-9150-4e67-9761-aa9bf9e10042",
   "metadata": {},
   "outputs": [
    {
     "name": "stderr",
     "output_type": "stream",
     "text": [
      "Special tokens have been added in the vocabulary, make sure the associated word embeddings are fine-tuned or trained.\n"
     ]
    },
    {
     "data": {
      "text/plain": [
       "Qwen2TokenizerFast(name_or_path='bio-qwen-stage1-merged/', vocab_size=151643, model_max_length=32768, is_fast=True, padding_side='right', truncation_side='right', special_tokens={'eos_token': '<|endoftext|>', 'pad_token': '<|padoftext|>', 'additional_special_tokens': ['<|im_start|>', '<|im_end|>']}, clean_up_tokenization_spaces=False),  added_tokens_decoder={\n",
       "\t151643: AddedToken(\"<|endoftext|>\", rstrip=False, lstrip=False, single_word=False, normalized=False, special=True),\n",
       "\t151644: AddedToken(\"<|im_start|>\", rstrip=False, lstrip=False, single_word=False, normalized=False, special=True),\n",
       "\t151645: AddedToken(\"<|im_end|>\", rstrip=False, lstrip=False, single_word=False, normalized=False, special=True),\n",
       "\t151646: AddedToken(\"<|padoftext|>\", rstrip=False, lstrip=False, single_word=False, normalized=False, special=True),\n",
       "}"
      ]
     },
     "execution_count": 9,
     "metadata": {},
     "output_type": "execute_result"
    }
   ],
   "source": [
    "bioqwen_tokenizer = AutoTokenizer.from_pretrained(\"yueqingyou/BioQwen-1.8B\")\n",
    "bioqwen_tokenizer"
   ]
  },
  {
   "cell_type": "code",
   "execution_count": 13,
   "id": "3be0f484-b61d-48d8-90ee-b211b50b16e2",
   "metadata": {},
   "outputs": [
    {
     "data": {
      "text/plain": [
       "DatasetDict({\n",
       "    train: Dataset({\n",
       "        features: ['instruction', 'input', 'output'],\n",
       "        num_rows: 727633\n",
       "    })\n",
       "})"
      ]
     },
     "execution_count": 13,
     "metadata": {},
     "output_type": "execute_result"
    }
   ],
   "source": [
    "qa_data = qa_data.filter(lambda x: len(bioqwen_tokenizer.encode(x['instruction'] + x['input'])) < (max_length * 0.5) and \n",
    "                         len(bioqwen_tokenizer.encode(x['output'])) < (max_length * 0.5))\n",
    "\n",
    "qa_data"
   ]
  },
  {
   "cell_type": "code",
   "execution_count": 22,
   "id": "f8a8f9ef-9614-4ebc-905a-0ac96d41516a",
   "metadata": {},
   "outputs": [
    {
     "name": "stderr",
     "output_type": "stream",
     "text": [
      "You are using the default legacy behaviour of the <class 'transformers.models.llama.tokenization_llama.LlamaTokenizer'>. This is expected, and simply means that the `legacy` (previous) behavior will be used so nothing changes for you. If you want to use the new behaviour, set `legacy=False`. This should only be set if you understand what it means, and thoroughly read the reason why this was added as explained in https://github.com/huggingface/transformers/pull/24565\n"
     ]
    },
    {
     "data": {
      "application/vnd.jupyter.widget-view+json": {
       "model_id": "9030ffbca72e4d0e9fe2924436d7df77",
       "version_major": 2,
       "version_minor": 0
      },
      "text/plain": [
       "Loading checkpoint shards:   0%|          | 0/7 [00:00<?, ?it/s]"
      ]
     },
     "metadata": {},
     "output_type": "display_data"
    }
   ],
   "source": [
    "tokenizer = LlamaTokenizer.from_pretrained(\"model/Ziya-LLaMA-7B-Reward\", add_eos_token=True)\n",
    "\n",
    "reward_model = AutoModelForSequenceClassification.from_pretrained(\"model/Ziya-LLaMA-7B-Reward\", \n",
    "                                                                  trust_remote_code=True,\n",
    "                                                                  torch_dtype=torch.bfloat16,\n",
    "                                                                 ).eval().cuda()"
   ]
  },
  {
   "cell_type": "code",
   "execution_count": 23,
   "id": "fdae5430-2a32-4218-b6fc-6eb79b065cb0",
   "metadata": {},
   "outputs": [],
   "source": [
    "def reward(query, response):\n",
    "    prefix_user = \"Human:\"\n",
    "    prefix_bot = \"\\n\\nAssistant:\"\n",
    "    text = prefix_user+query+prefix_bot+response\n",
    "    batch = tokenizer(text, return_tensors=\"pt\",padding=True,truncation=True,max_length=1024)\n",
    "    \n",
    "    with torch.no_grad():\n",
    "        reward = reward_model(batch['input_ids'].cuda(), attention_mask = batch['attention_mask'].cuda())\n",
    "        return reward.item()"
   ]
  },
  {
   "cell_type": "code",
   "execution_count": 12,
   "id": "beac462d-8fdc-41a8-aba4-2b0920bc7a28",
   "metadata": {},
   "outputs": [],
   "source": [
    "def append_score_batch(examples):\n",
    "    prompts = [inp + instr for inp, instr in zip(examples['input'], examples['instruction'])]\n",
    "    responses = examples['output']\n",
    "    scores = [reward(prompt, response) for prompt, response in zip(prompts, responses)]  # Assuming reward is vectorized\n",
    "    examples['score'] = scores\n",
    "    return examples"
   ]
  },
  {
   "cell_type": "markdown",
   "id": "477cbba0-7973-4696-9fa9-2c0891c5f518",
   "metadata": {},
   "source": [
    "#### Save"
   ]
  },
  {
   "cell_type": "code",
   "execution_count": 14,
   "id": "296e7fcc-0809-4d78-bd2c-630f292cb602",
   "metadata": {},
   "outputs": [
    {
     "data": {
      "text/html": [
       "<div>\n",
       "<style scoped>\n",
       "    .dataframe tbody tr th:only-of-type {\n",
       "        vertical-align: middle;\n",
       "    }\n",
       "\n",
       "    .dataframe tbody tr th {\n",
       "        vertical-align: top;\n",
       "    }\n",
       "\n",
       "    .dataframe thead th {\n",
       "        text-align: right;\n",
       "    }\n",
       "</style>\n",
       "<table border=\"1\" class=\"dataframe\">\n",
       "  <thead>\n",
       "    <tr style=\"text-align: right;\">\n",
       "      <th></th>\n",
       "      <th>score</th>\n",
       "    </tr>\n",
       "  </thead>\n",
       "  <tbody>\n",
       "    <tr>\n",
       "      <th>0</th>\n",
       "      <td>1.539062</td>\n",
       "    </tr>\n",
       "    <tr>\n",
       "      <th>1</th>\n",
       "      <td>3.218750</td>\n",
       "    </tr>\n",
       "    <tr>\n",
       "      <th>2</th>\n",
       "      <td>-0.027222</td>\n",
       "    </tr>\n",
       "    <tr>\n",
       "      <th>3</th>\n",
       "      <td>2.218750</td>\n",
       "    </tr>\n",
       "    <tr>\n",
       "      <th>4</th>\n",
       "      <td>1.273438</td>\n",
       "    </tr>\n",
       "  </tbody>\n",
       "</table>\n",
       "</div>"
      ],
      "text/plain": [
       "      score\n",
       "0  1.539062\n",
       "1  3.218750\n",
       "2 -0.027222\n",
       "3  2.218750\n",
       "4  1.273438"
      ]
     },
     "execution_count": 14,
     "metadata": {},
     "output_type": "execute_result"
    }
   ],
   "source": [
    "scores = pd.read_json('score-qa-data/final_results.json')\n",
    "scores.columns = ['score']\n",
    "scores.head()"
   ]
  },
  {
   "cell_type": "code",
   "execution_count": 15,
   "id": "95a5f7fa-5ae5-4ced-be66-b2943247d9dd",
   "metadata": {},
   "outputs": [
    {
     "data": {
      "text/plain": [
       "(727633, 1)"
      ]
     },
     "execution_count": 15,
     "metadata": {},
     "output_type": "execute_result"
    }
   ],
   "source": [
    "scores.shape"
   ]
  },
  {
   "cell_type": "code",
   "execution_count": 16,
   "id": "573e02c1-74fb-45b1-8b9c-f26a5c017a4e",
   "metadata": {},
   "outputs": [
    {
     "data": {
      "text/plain": [
       "(score   -12.75\n",
       " dtype: float64,\n",
       " score    7.125\n",
       " dtype: float64)"
      ]
     },
     "execution_count": 16,
     "metadata": {},
     "output_type": "execute_result"
    }
   ],
   "source": [
    "scores.min(), scores.max()"
   ]
  },
  {
   "cell_type": "code",
   "execution_count": 30,
   "id": "5e5ccd61-3617-4891-a375-7d49f95d889c",
   "metadata": {},
   "outputs": [
    {
     "data": {
      "image/png": "[encoded data removed]",
      "text/plain": [
       "<Figure size 1000x600 with 1 Axes>"
      ]
     },
     "metadata": {},
     "output_type": "display_data"
    }
   ],
   "source": [
    "# Define score bins\n",
    "bins = [-13, -10, -7, -4, -1, 2, 5, 8]\n",
    "labels = ['-13 to -10', '-10 to -7', '-7 to -4', '-4 to -1', '-1 to 2', '2 to 5', '5 to 8']\n",
    "\n",
    "# Assign scores to bins\n",
    "scores['score_range'] = pd.cut(scores['score'], bins=bins, labels=labels)\n",
    "\n",
    "# Calculate frequency for each score range\n",
    "score_counts = scores['score_range'].value_counts().sort_index()\n",
    "\n",
    "# Plot histogram\n",
    "plt.figure(figsize=(10, 6))\n",
    "bars = plt.bar(score_counts.index, score_counts.values, color='skyblue', edgecolor='black')\n",
    "\n",
    "# Add count labels on each bar\n",
    "for bar in bars:\n",
    "    yval = bar.get_height()\n",
    "    plt.text(bar.get_x() + bar.get_width()/2, yval + 0.1, int(yval), ha='center', va='bottom')\n",
    "\n",
    "plt.xlabel('Score Range')\n",
    "plt.ylabel('Frequency')\n",
    "#plt.title('Frequency Distribution of Scores')\n",
    "plt.xticks(rotation=45)\n",
    "plt.gca().spines['top'].set_visible(False)  # Hide the top spine\n",
    "plt.gca().spines['right'].set_visible(False)  # Hide the right spine\n",
    "plt.tight_layout()\n",
    "plt.show()"
   ]
  },
  {
   "cell_type": "code",
   "execution_count": 31,
   "id": "95df913d-7f31-4501-be2c-27266c8cb2b3",
   "metadata": {},
   "outputs": [
    {
     "name": "stderr",
     "output_type": "stream",
     "text": [
      "/tmp/ipykernel_829816/223471496.py:6: SettingWithCopyWarning: \n",
      "A value is trying to be set on a copy of a slice from a DataFrame.\n",
      "Try using .loc[row_indexer,col_indexer] = value instead\n",
      "\n",
      "See the caveats in the documentation: https://pandas.pydata.org/pandas-docs/stable/user_guide/indexing.html#returning-a-view-versus-a-copy\n",
      "  filtered_scores['score_range'] = pd.cut(filtered_scores['score'], bins=bins, labels=labels)\n"
     ]
    },
    {
     "data": {
      "image/png": "[encoded data removed]",
      "text/plain": [
       "<Figure size 1000x600 with 1 Axes>"
      ]
     },
     "metadata": {},
     "output_type": "display_data"
    }
   ],
   "source": [
    "# Define score bins\n",
    "bins = [2, 3, 4, 5, 6, 7, 8]\n",
    "labels = ['2 to 3', '3 to 4', '4 to 5', '5 to 6', '6 to 7', '7 to 8']\n",
    "\n",
    "# Assign scores to bins\n",
    "filtered_scores['score_range'] = pd.cut(filtered_scores['score'], bins=bins, labels=labels)\n",
    "\n",
    "# Calculate frequency for each score range\n",
    "score_counts = filtered_scores['score_range'].value_counts().sort_index()\n",
    "\n",
    "# Plot histogram\n",
    "plt.figure(figsize=(10, 6))\n",
    "bars = plt.bar(score_counts.index, score_counts.values, color='skyblue', edgecolor='black')\n",
    "\n",
    "# Add count labels on each bar\n",
    "for bar in bars:\n",
    "    yval = bar.get_height()\n",
    "    plt.text(bar.get_x() + bar.get_width() / 2, yval + 0.1, int(yval), ha='center', va='bottom')\n",
    "\n",
    "plt.xlabel('Score Range')\n",
    "plt.ylabel('Frequency')\n",
    "# plt.title('Frequency Distribution of Filtered Scores')\n",
    "plt.xticks(rotation=45)\n",
    "plt.gca().spines['top'].set_visible(False)  # Hide the top spine\n",
    "plt.gca().spines['right'].set_visible(False)  # Hide the right spine\n",
    "plt.tight_layout()\n",
    "plt.show()"
   ]
  },
  {
   "cell_type": "code",
   "execution_count": 46,
   "id": "11273183-9418-4bd0-927b-1be0fddc4994",
   "metadata": {},
   "outputs": [
    {
     "data": {
      "text/plain": [
       "Dataset({\n",
       "    features: ['instruction', 'input', 'output'],\n",
       "    num_rows: 188335\n",
       "})"
      ]
     },
     "execution_count": 46,
     "metadata": {},
     "output_type": "execute_result"
    }
   ],
   "source": [
    "filtered_qa_data = qa_data['train'].select(filtered_scores.index)\n",
    "filtered_qa_data"
   ]
  },
  {
   "cell_type": "code",
   "execution_count": 47,
   "id": "a97f89d6-30dc-45f2-9d4e-5044c43b8fd9",
   "metadata": {},
   "outputs": [
    {
     "data": {
      "application/vnd.jupyter.widget-view+json": {
       "model_id": "a5ffd3aa554b46c491be190389bd319a",
       "version_major": 2,
       "version_minor": 0
      },
      "text/plain": [
       "Saving the dataset (0/1 shards):   0%|          | 0/188335 [00:00<?, ? examples/s]"
      ]
     },
     "metadata": {},
     "output_type": "display_data"
    }
   ],
   "source": [
    "filtered_qa_data.save_to_disk('filtered_qa_data')"
   ]
  },
  {
   "cell_type": "markdown",
   "id": "512fd274-f7d1-4d2d-99ae-cbea48ad0a1c",
   "metadata": {},
   "source": [
    "#### Load"
   ]
  },
  {
   "cell_type": "code",
   "execution_count": 48,
   "id": "23e77866-1641-4558-87bb-6eb3e6b6165d",
   "metadata": {},
   "outputs": [
    {
     "data": {
      "text/plain": [
       "Dataset({\n",
       "    features: ['instruction', 'input', 'output'],\n",
       "    num_rows: 188335\n",
       "})"
      ]
     },
     "execution_count": 48,
     "metadata": {},
     "output_type": "execute_result"
    }
   ],
   "source": [
    "selected_qa_data = load_from_disk('filtered_qa_data/')\n",
    "selected_qa_data"
   ]
  },
  {
   "cell_type": "markdown",
   "id": "123dd6f6-9a46-40dc-96f2-0d1a51d21590",
   "metadata": {
    "jp-MarkdownHeadingCollapsed": true
   },
   "source": [
    "### Understanding Tasks(RE NER MT) 157328"
   ]
  },
  {
   "cell_type": "markdown",
   "id": "061fb67e-37f2-46a4-b6e2-a647a78bd784",
   "metadata": {},
   "source": [
    "- Title: Taiyi: A Bilingual Fine-Tuned Large Language Model for Diverse Biomedical Tasks\n",
    "- Link: https://arxiv.org/abs/2311.11608"
   ]
  },
  {
   "cell_type": "code",
   "execution_count": 5,
   "id": "072727ab-cd09-4d86-8d6f-6c098dca582e",
   "metadata": {},
   "outputs": [
    {
     "data": {
      "text/plain": [
       "DatasetDict({\n",
       "    train: Dataset({\n",
       "        features: ['conversation_id', 'category', 'dataset', 'language', 'conversation'],\n",
       "        num_rows: 3829368\n",
       "    })\n",
       "})"
      ]
     },
     "execution_count": 5,
     "metadata": {},
     "output_type": "execute_result"
    }
   ],
   "source": [
    "other_data = load_dataset('json', data_files='data/Taiyi_Instruction_Data_001/Taiyi_Instruction_Data_001.jsonl')\n",
    "other_data"
   ]
  },
  {
   "cell_type": "code",
   "execution_count": 6,
   "id": "e20ece53-7f02-45aa-9a42-12dab3622d3c",
   "metadata": {},
   "outputs": [
    {
     "data": {
      "text/plain": [
       "{'conversation_id': 9055,\n",
       " 'category': 'TC',\n",
       " 'dataset': 'bc7_litcovid',\n",
       " 'language': 'en',\n",
       " 'conversation': [{'human': 'Document triage: \"Origin and cross-species transmission of bat coronaviruses in China. Bats are presumed reservoirs of diverse coronaviruses (CoVs) including progenitors of Severe Acute Respiratory Syndrome (SARS)-CoV and SARS-CoV-2, the causative agent of COVID-19. However, the evolution and diversification of these coronaviruses remains poorly understood. Here we use a Bayesian statistical framework and a large sequence data set from bat-CoVs (including 630 novel CoV sequences) in China to study their macroevolution, cross-species transmission and dispersal. We find that host-switching occurs more frequently and across more distantly related host taxa in alpha- than beta-CoVs, and is more highly constrained by phylogenetic distance for beta-CoVs. We show that inter-family and -genus switching is most common in Rhinolophidae and the genus Rhinolophus. Our analyses identify the host taxa and geographic regions that define hotspots of CoV evolutionary diversity in China that could help target bat-CoV discovery for proactive zoonotic disease surveillance. Finally, we present a phylogenetic analysis suggesting a likely origin for SARS-CoV-2 in Rhinolophus spp. bats.\"\\nLabels: Case Report, Prevention, Transmission, Diagnosis, Mechanism, Treatment, Epidemic Forecasting',\n",
       "   'assistant': 'Result: Transmission; Mechanism'}]}"
      ]
     },
     "execution_count": 6,
     "metadata": {},
     "output_type": "execute_result"
    }
   ],
   "source": [
    "other_data['train'].shuffle()[0]"
   ]
  },
  {
   "cell_type": "markdown",
   "id": "fa5c6087-d68d-4485-a7af-9e0230c6d135",
   "metadata": {},
   "source": [
    "##### Filter"
   ]
  },
  {
   "cell_type": "code",
   "execution_count": 22,
   "id": "ae559fe9-6faa-4c5a-a0e8-ebfd59f285ae",
   "metadata": {},
   "outputs": [
    {
     "data": {
      "text/plain": [
       "DatasetDict({\n",
       "    train: Dataset({\n",
       "        features: ['conversation_id', 'category', 'dataset', 'language', 'conversation'],\n",
       "        num_rows: 195568\n",
       "    })\n",
       "})"
      ]
     },
     "execution_count": 22,
     "metadata": {},
     "output_type": "execute_result"
    }
   ],
   "source": [
    "filtered_other_data = other_data.filter(lambda x: x['category'] in ['NER', 'RE', 'MT-zh2en', 'MT-en2zh'])\n",
    "filtered_other_data"
   ]
  },
  {
   "cell_type": "code",
   "execution_count": 23,
   "id": "b0287cfb-6511-4642-a788-16a3c48c1931",
   "metadata": {},
   "outputs": [
    {
     "data": {
      "text/plain": [
       "{'conversation_id': 86,\n",
       " 'category': 'NER',\n",
       " 'dataset': 'tmvar_v2',\n",
       " 'language': 'en',\n",
       " 'conversation': [{'human': 'What are the DNAMutation, ProteinMutation, SNP entities in the following text?\\nMolecular analysis of acute intermittent porphyria: mutation screening in 20 patients in Germany reveals 11 novel mutations. Acute intermittent porphyria (AIP) is a very rare autosomal dominant disorder with low penetrance. Mutations in the gene of the porphobilinogen deaminase (PBG-D), also called hydroxymethylbilane synthase (HMBS), cause a partial deficiency of this enzyme of the heme biosynthetic pathway. Overstimulation of heme biosynthesis causes clinical symptoms. Because of the variability of the symptoms, diagnosis is often delayed. Using two approaches for genetic analysis, first in a stepwise manner, then sequencing extensive parts of the gene, the screening of the DNA of 20 unrelated individuals revealed 20 different mutations, 11 of which had not been reported previously. The novel mutations affected intron 1 (33 + 2 T-->C), exon 5 (181 G-->C), intron 6 (267-61 del 8 bp), intron 7 (345-1 G-->C), intron 9 (498 + 15 G-->T and 499-13 Delta-14 bp indel TGA), intron 13 (825 + 1 G-->C and 825 + 2 T-->C), exon 15 (962 G-A, 1067 del A and 1067-1068 ins 5 bp). The other nine mutations detected affected intron 14, exons 6, 7, 8, 9, 10 (3x) and 12. In the majority of AIP patients, the genotype does not predict phenotypic expression. Since the sudden manifestation of the disease maybe prevented by early diagnosis, identification of AIP gene carriers is the best preventive measure. This was performed in five families, revealing 10 additional AIP gene carriers.',\n",
       "   'assistant': 'DNAMutation: 962 G-A; 498 + 15 G-->T\\n'}]}"
      ]
     },
     "execution_count": 23,
     "metadata": {},
     "output_type": "execute_result"
    }
   ],
   "source": [
    "filtered_other_data['train'].shuffle()[0]"
   ]
  },
  {
   "cell_type": "code",
   "execution_count": 24,
   "id": "3f36f319-77ff-4913-a8dd-4d906672bb93",
   "metadata": {},
   "outputs": [
    {
     "data": {
      "application/vnd.jupyter.widget-view+json": {
       "model_id": "851d7ca01e8c4eb497ff6989556e63c4",
       "version_major": 2,
       "version_minor": 0
      },
      "text/plain": [
       "Map:   0%|          | 0/195568 [00:00<?, ? examples/s]"
      ]
     },
     "metadata": {},
     "output_type": "display_data"
    },
    {
     "data": {
      "text/plain": [
       "DatasetDict({\n",
       "    train: Dataset({\n",
       "        features: ['instruction', 'input', 'output'],\n",
       "        num_rows: 195568\n",
       "    })\n",
       "})"
      ]
     },
     "execution_count": 24,
     "metadata": {},
     "output_type": "execute_result"
    }
   ],
   "source": [
    "def filter_fields(example):\n",
    "    example = example['conversation'][0]\n",
    "    return {\n",
    "        'instruction': example['human'],\n",
    "        'input': '',\n",
    "        'output': example['assistant']\n",
    "    }\n",
    "\n",
    "selected_filtered_other_data = filtered_other_data.map(filter_fields, remove_columns=filtered_other_data['train'].column_names)\n",
    "selected_filtered_other_data"
   ]
  },
  {
   "cell_type": "code",
   "execution_count": 25,
   "id": "6586f81d-bab5-497f-bb06-dfecd51521f1",
   "metadata": {},
   "outputs": [],
   "source": [
    "selected_filtered_other_data = selected_filtered_other_data['train']"
   ]
  },
  {
   "cell_type": "code",
   "execution_count": 27,
   "id": "3ccc6c52-6635-4aaa-afa0-023009c0d2b2",
   "metadata": {},
   "outputs": [
    {
     "data": {
      "text/plain": [
       "{'instruction': 'Please translate the following sentences into Chinese: \"Prevalence of loss of activities of daily living and influencing factors in elderly population in China\"',\n",
       " 'input': '',\n",
       " 'output': '中国老年人日常生活活动能力损失现况及影响因素分析'}"
      ]
     },
     "execution_count": 27,
     "metadata": {},
     "output_type": "execute_result"
    }
   ],
   "source": [
    "selected_filtered_other_data.shuffle()[0]"
   ]
  },
  {
   "cell_type": "markdown",
   "id": "c9151b9d-def1-4a01-8661-db995b380055",
   "metadata": {
    "jp-MarkdownHeadingCollapsed": true
   },
   "source": [
    "### Self Cognition 80"
   ]
  },
  {
   "cell_type": "code",
   "execution_count": 2,
   "id": "93502326-d49e-4cd6-a4f0-78536f5df63d",
   "metadata": {},
   "outputs": [],
   "source": [
    "cognition_data = load_dataset('json', data_files='data/self_cognition.json')\n",
    "cognition_data"
   ]
  },
  {
   "cell_type": "code",
   "execution_count": 29,
   "id": "2e2b2261-fd0f-496b-9d55-68dcc7391e2d",
   "metadata": {},
   "outputs": [],
   "source": [
    "cognition_data = cognition_data['train']"
   ]
  },
  {
   "cell_type": "code",
   "execution_count": 40,
   "id": "8ebf3924-ad44-4238-9827-7f2b5021466f",
   "metadata": {},
   "outputs": [
    {
     "data": {
      "text/plain": [
       "{'output': '您好，我的名字是千问生物智能助手，请问有什么可以帮助您的吗？',\n",
       " 'instruction': '你好，我叫小明，请问你叫什么名字',\n",
       " 'input': ''}"
      ]
     },
     "execution_count": 40,
     "metadata": {},
     "output_type": "execute_result"
    }
   ],
   "source": [
    "cognition_data.shuffle()[0]"
   ]
  },
  {
   "cell_type": "markdown",
   "id": "de75a870-e906-4a76-8446-32b15cae180e",
   "metadata": {
    "jp-MarkdownHeadingCollapsed": true
   },
   "source": [
    "### Remove long content"
   ]
  },
  {
   "cell_type": "code",
   "execution_count": 80,
   "id": "52f00e59-2d6d-469a-af94-b3dd8cf99508",
   "metadata": {
    "scrolled": true
   },
   "outputs": [
    {
     "data": {
      "application/vnd.jupyter.widget-view+json": {
       "model_id": "a9a67c0567134c4781eea5eb7a02e682",
       "version_major": 2,
       "version_minor": 0
      },
      "text/plain": [
       "Filter:   0%|          | 0/33003 [00:00<?, ? examples/s]"
      ]
     },
     "metadata": {},
     "output_type": "display_data"
    },
    {
     "data": {
      "text/plain": [
       "Dataset({\n",
       "    features: ['instruction', 'input', 'output'],\n",
       "    num_rows: 33003\n",
       "})"
      ]
     },
     "execution_count": 80,
     "metadata": {},
     "output_type": "execute_result"
    }
   ],
   "source": [
    "selected_general_data = selected_general_data.filter(lambda x: len(bioqwen_tokenizer.encode(x['instruction'] + x['input'] + x['output'])) < max_length - 100)\n",
    "selected_general_data"
   ]
  },
  {
   "cell_type": "code",
   "execution_count": 81,
   "id": "b144c0ec-ec48-4f04-a98a-2f47d4ef3807",
   "metadata": {},
   "outputs": [
    {
     "data": {
      "text/plain": [
       "Dataset({\n",
       "    features: ['instruction', 'input', 'output'],\n",
       "    num_rows: 251495\n",
       "})"
      ]
     },
     "execution_count": 81,
     "metadata": {},
     "output_type": "execute_result"
    }
   ],
   "source": [
    "selected_qa_data"
   ]
  },
  {
   "cell_type": "code",
   "execution_count": 82,
   "id": "97d8ffc8-5f8a-4dcd-81e7-a9f2c6c903d3",
   "metadata": {},
   "outputs": [
    {
     "data": {
      "text/plain": [
       "Dataset({\n",
       "    features: ['output', 'instruction', 'input'],\n",
       "    num_rows: 83\n",
       "})"
      ]
     },
     "execution_count": 82,
     "metadata": {},
     "output_type": "execute_result"
    }
   ],
   "source": [
    "cognition_data"
   ]
  },
  {
   "cell_type": "code",
   "execution_count": 3,
   "id": "2697f4da-0503-4e11-8734-be4f3b594a88",
   "metadata": {
    "scrolled": true
   },
   "outputs": [],
   "source": [
    "selected_filtered_other_data = selected_filtered_other_data.filter(lambda x: len(bioqwen_tokenizer.encode(x['instruction'] + x['input'])) < (max_length * 0.5) and \n",
    "                                                                   len(bioqwen_tokenizer.encode(x['output'])) < (max_length * 0.5))\n",
    "selected_filtered_other_data"
   ]
  },
  {
   "cell_type": "code",
   "execution_count": 7,
   "id": "ae30a57f-0be3-4016-b18d-0e724e94c645",
   "metadata": {},
   "outputs": [
    {
     "data": {
      "text/plain": [
       "(288086, 288086)"
      ]
     },
     "execution_count": 7,
     "metadata": {},
     "output_type": "execute_result"
    }
   ],
   "source": [
    "question = qa_data['train']['instruction']\n",
    "output = qa_data['train']['output']\n",
    "len(question), len(output)"
   ]
  },
  {
   "cell_type": "code",
   "execution_count": 8,
   "id": "e53568a0-fe76-4194-962f-6d6ecba8cb21",
   "metadata": {},
   "outputs": [
    {
     "data": {
      "text/plain": [
       "('提供一些预防牙周病的方法和最好的治疗方案。牙周病治疗，口腔保健',\n",
       " '预防牙周病的方法包括定期刷牙、使用牙线进行清洁、注意口腔卫生和饮食习惯等。最好的治疗方案会根据患者的具体情况而定，可能会包括口腔清洁治疗、局部或全身药物治疗、手术治疗等。如果患者遵守医生给出的治疗方案并保持良好的口腔卫生习惯，可以有效地预防和治疗牙周病。同时，也建议定期到牙医处接受口腔检查和清洁，以及留意口腔状况，尽早发现并治疗相关问题。')"
      ]
     },
     "execution_count": 8,
     "metadata": {},
     "output_type": "execute_result"
    }
   ],
   "source": [
    "question[10], output[10]"
   ]
  },
  {
   "cell_type": "code",
   "execution_count": 9,
   "id": "07be0799-41d0-4884-9b35-8fdedd159b85",
   "metadata": {
    "scrolled": true
   },
   "outputs": [
    {
     "data": {
      "text/plain": [
       "'建议不要盲目刮痧。刮痧对于某些特定情况可能有帮助，但对于门头小粒状硬痘是否有效尚无科学证据支持。\\n\\n针对门头小粒状硬痘，建议采取以下措施：\\n\\n* **保持清洁：**每天使用温和的洁面乳清洗门头，以清除多余的油脂和污垢。\\n* **使用非粉刺产品：**选择专门针对敏感和痤疮皮肤配制的护肤品和化妆品。避免使用含香料、染料或刺激性成分的产品。\\n* **保湿：**使用不含油的保湿霜来滋润门头，防止因干燥而产生更多皮脂。\\n* **避免挤痘痘：**挤痘痘会加重炎症，导致疤痕形成。\\n* **咨询皮肤科医生：**如果经过一段时间的自我护理后，门头小粒状硬痘仍未改善，建议咨询皮肤科医生。医生可以评估你的皮肤状况并推荐合适的治疗方案，如局部用药或光疗。\\n\\n刮痧是一种传统疗法，其疗效因人而异。对于门头小粒状硬痘，刮痧可能无法提供显著改善。此外，刮痧还可能导致皮肤损伤或瘀青，加重皮肤问题。\\n\\n在尝试任何新疗法之前，始终建议咨询合格的医疗专业人员。'"
      ]
     },
     "execution_count": 9,
     "metadata": {},
     "output_type": "execute_result"
    }
   ],
   "source": [
    "response = gemini_model.generate_content(\"一开始门头长了很多红痘痘，脸上也有少，做了一段时间的面部清理和护理好多了，现在门头上没有红痘有的是小粒状的硬痘，护理的人说毛孔堵涩排不出毒素让刮痧\")\n",
    "result = response.candidates[0].content.parts[0].text\n",
    "result"
   ]
  },
  {
   "cell_type": "code",
   "execution_count": 10,
   "id": "9fdb1af6-9d4b-4d18-981d-86a23de1a404",
   "metadata": {},
   "outputs": [],
   "source": [
    "def generate_content_with_thread(prompt, rejected):\n",
    "    try:\n",
    "        response = gemini_model.generate_content(prompt)\n",
    "        if not response.candidates:\n",
    "            raise ValueError(\"No candidates returned from the model\")\n",
    "        return {\n",
    "            'instruction': prompt,\n",
    "            'chosen': response.candidates[0].content.parts[0].text,\n",
    "            'rejected': rejected\n",
    "        }\n",
    "    except Exception as e:\n",
    "        print(f\"Error processing prompt '{prompt}': {str(e)[:20]}\")\n",
    "\n",
    "def generate_dpo_dataset(prompts, rejected_texts):\n",
    "    with open('dpo_data.jsonl', 'w') as file:\n",
    "        with concurrent.futures.ThreadPoolExecutor(max_workers=3) as executor:\n",
    "            futures = [executor.submit(generate_content_with_thread, p, r) for p, r in zip(prompts, rejected_texts)]\n",
    "            for future in concurrent.futures.as_completed(futures):\n",
    "                try:\n",
    "                    result = future.result()\n",
    "                    if result:\n",
    "                        file.write(json.dumps(result, ensure_ascii=False) + '\\n')\n",
    "                        file.flush()\n",
    "                except Exception as exc:\n",
    "                    print(f'Generated an exception: {exc}')"
   ]
  },
  {
   "cell_type": "code",
   "execution_count": null,
   "id": "f936f1ba-a0c8-4cad-bc38-b998518da8d4",
   "metadata": {
    "scrolled": true
   },
   "outputs": [
    {
     "name": "stdout",
     "output_type": "stream",
     "text": [
      "Error processing prompt '弱精患者治疗误区，对弱精症经常拥有的救治误区有哪些？最近去医院仔细检查被告之患上了弱精症，如果不及时救治的话还会干扰受孕，通说对弱精症经常拥有救治误区，担心自己也会走进这些误区，所以想要理解一下。想要问一下医生对弱精症经常拥有的救治误区有哪些。': list index (0) out o\n",
      "Error processing prompt '我想请问一下我得水痘第四天了能少量吸烟吗？憋了好几天已经憋不住了对病情会有什么影响吗': list index (0) out o\n",
      "Error processing prompt '治疗外痔疮用什么药更好？，女32岁知道身体有不适的感觉，就没用去看，请问：治疗外痔疮用什么药更好？': list index (0) out o\n",
      "Error processing prompt '得了宫颈炎，日常要注意什么？，得了宫颈炎，日常要注意什么？平常有什么东西排出，很是烦脑。可以根治吗': list index (0) out o\n",
      "Error processing prompt '上周在医院检查确诊是有生殖器疱疹感染已经治疗了一段时间了，最近是要考虑出差。我现在想知道生殖器疱疹感染治愈标准是什么？': list index (0) out o\n",
      "Error processing prompt '之前吃利培酮后到5月6号后阳痿，然后停药一直阳痿，请问怎么医治.': list index (0) out o\n",
      "Error processing prompt '我包皮太长，龟头露不出来。而且总觉得有异味很不卫生，如果做割包皮手术的话多久可以恢复，对我以后会不会有影响。': list index (0) out o\n",
      "Error processing prompt '注射用阿莫西林钠舒巴坦钠的副作用（不良反应）': list index (0) out o\n",
      "Error processing prompt '月经推迟6天了最近两天腹部有点疼，肚子还有胀气，胃热。但是还有想来月经的感觉，请问这是怎么回事？': list index (0) out o\n",
      "Error processing prompt '就是我上上个月，月经推迟22，4月26号来的，来了7天，比以往的多三天，上个月推迟6天，6月2号来的，来了四天，前三天经量少，颜色黑，怎么回事，没有性生活，': list index (0) out o\n",
      "Error processing prompt '肛门肿了如何护理，最近不知道怎么回事肛门一直有脓水，而且还肿疼男人，好了一段时间就疼，请问肛门肿了如何护理': list index (0) out o\n",
      "Error processing prompt '以前割过痔疮，现在又有了，大便不出血，就是在用纸搽的时候，用力了就会有点血迹。苦恼的是大便后一割小时肛门处就会有黏黏的感觉，而且搞的内裤很臭。': list index (0) out o\n",
      "Error processing prompt '白带异常，阴部瘙痒，检查了说宫颈糜烂，有囊肿，请问怎么治疗？': list index (0) out o\n",
      "Error processing prompt '请问医生用了妇肤康喷雾剂和聚甲酚磺醛栓之后出现冲洗阴道会有洗出块状的皮是不是继续用药呢？': list index (0) out o\n",
      "Error processing prompt '以前我的身体一直都非常的好，可是最近这几天不知道是怎么了，总是觉得肚子特别的痛，然后我喝了好多的开水，才有了明显的好转。今天早上我发现我的下体出血了，这种情况让我非常的害怕，但是我的一个朋友说这是正常现象，这是月经来了。': list index (0) out o\n",
      "Error processing prompt '上月16号来的月经，这个月没来但是有点血，是怎么回事、': list index (0) out o\n",
      "Error processing prompt '输卵管炎症。造影单结果是双侧输卵管通（炎症）5月21号做了通水，医生说左侧偶尔能听到噗噗的水声，右侧通但是输卵管是细的。另外我排卵也不好，卵泡长不大就萎缩了，吃了克罗米芬卵泡不够圆。': list index (0) out o\n",
      "Error processing prompt '我就是这段时间内老是想去厕所。但是没有喝很多的水。到了晚上更是想要厕所。在排尿的时候，尿道还很疼痛。排完了一会有想去了。请问医生这是尿频吗。这样要怎么治疗啊': list index (0) out o\n",
      "Error processing prompt '医生，你好，我想问问我这次来月经，有血块，肚子也不怎么疼，就是偶尔尖疼一下': list index (0) out o\n",
      "Error processing prompt '怀孕了80天下体总有水一样的东西流出，有霉菌性阴道炎。请问是怎么回事？': list index (0) out o\n",
      "Error processing prompt '请问有人知道诺瑞玛吗，我去医院看了几次早泄都没看好，好憋屈啊，现在听哥们说诺瑞玛不错，但还没试过': list index (0) out o\n",
      "Error processing prompt '今天去了六七次厕所，大便形状正常，就是里边带有一些粘稠的东西好像还有点血丝，需要怎么治疗': list index (0) out o\n",
      "Error processing prompt '医生你好。缩肛运动？？理解不了。缩肛运动怎么个做。具体怎么做不清楚。': list index (0) out o\n",
      "Error processing prompt '我身上现在长了很多小黑色的点，像猴子又不太像，有大有小，一直都在出，不知道该怎么办，不过我知我知道我身上有一个特别大的，而且捏着根的1，是不是印的小的，该怎么治疗呢？': list index (0) out o\n",
      "Error processing prompt '宫颈炎一度严重吗？，今天去做仔细检查，医生说我宫颈炎I度，您好严重吗，如何治': list index (0) out o\n",
      "Error processing prompt '约3年病史，反复发作，每次在阴痉包皮上有一个水疱，一周左右自愈，伴有头疼，精神不振。': list index (0) out o\n",
      "Error processing prompt '刚做完人流两个月，最近屁股老是疼，肠胃不好，最近也经常拉肚子，以前就有肠胃炎，坐着一会屁股就疼，不坐着就没事，尤其是半躺着更疼，不知道是不是人流的关系还是肛门出现了问题，今天大便有一点血，而且便是黑色的固体状': list index (0) out o\n",
      "Error processing prompt '我是在去年不知道怎么回事屁股周围就痒了，有时候痒得不行，是不是皮肤出现了什么问题': list index (0) out o\n",
      "Error processing prompt '医生你好！我检查宫颈光滑-满意，癌症筛查无细菌病毒-无。可有重度炎症，老公每次做爱后下部痒，是什么原？他有膀胱炎和前列腺炎，还做了手术。': list index (0) out o\n",
      "Error processing prompt '女宝宝3岁阴蒂有点大遮挡尿道口小便向后尿，怎么回事需要手术吗': list index (0) out o\n",
      "Error processing prompt '我最近月经完一周后有白带带血，然后一直有液体流出，后面像来月经那样来血，想问下是什么原因？是否需要去就诊？': list index (0) out o\n",
      "Error processing prompt '人流手术后便秘腿有点酸正常吗，您好昨天做的人流手术回来后就没怎么出血了量很少颜色也很浅今天几乎没有了小腹没有明显疼痛有点便秘腿有点酸正常吗': list index (0) out o\n",
      "Error processing prompt '请解析《难经》中的射干是什么意思？': list index (0) out o\n",
      "Error processing prompt '我是顺产生的孩子，生完孩子42天的时候和老公同房了，但是同房时出现了阴道出血的症状，不过量并不大。但是之后的几天一直都有阴道出血，肚子也不痛，没有其它的不适感，就是感觉心理压大。': list index (0) out o\n",
      "Error processing prompt '你好人流后22天同房体外射精会不会怀孕': list index (0) out o\n",
      "Error processing prompt '结婚2年了，妻子怀不上，她到医院检查一切正常。我做的精液常规检查，医生说是无精症，不会怀孕的，我想请问下治疗无精的医院，怎么治疗才能好、': list index (0) out o\n",
      "Error processing prompt '今天勃起的时候，发现龟头左边有块红斑': list index (0) out o\n",
      "Error processing prompt '医生你好我月经每个月都会往后推比如说上个月是20号来的下个月就是25号来下下个月1号来时间不确定不过都会在一个星期内就在2015年一直挺健康的我一下就得了胃病治到现在才好一些根也没断治胃病这段时间慢性咽喉炎也开始发作痔疮也是的今年4月中旬我得了外阴瘙痒＋上白带有异味然后又是尿路感染我都记不清是什么时候开始来月经右下腹会疼痛月经一开始总有褐色的东西排出来月经里面总有些东西不只是血': list index (0) out o\n",
      "Error processing prompt '马上就快来姨妈了，不小心射里边了，没射大里边会不会怀孕？': list index (0) out o\n",
      "Error processing prompt '盐酸氯米帕明片与哪些肝药不能一起服用？会不会影响药效？盐酸氯米帕明片和肝药': list index (0) out o\n",
      "Error processing prompt '感觉憋的，但尿不多，在睡觉的时候，想尿又尿不多': list index (0) out o\n",
      "Error processing prompt '以前是跳绳时会有少量的尿流出，现在我只要咳嗽就会有大量的尿流出，请问是什么原因？': list index (0) out o\n",
      "Error processing prompt '人流后一周去复查了，流的很干净，但是半个月又流血了，': list index (0) out o\n",
      "Error processing prompt '检查出支原体感染之后就在家里调理，感觉还是没好转，妇科支原体感染吃什么消炎药会好': list index (0) out o\n",
      "Error processing prompt '男性不孕不育检查项目有哪些？，我和老婆结婚有一年的时间一直都想要个孩也没做避孕措都是一直都没怀上孩家人都很着老婆去医院仔细检没问现在我的压力好请医生详解。男性不孕不育检查项目有哪些？': list index (0) out o\n",
      "Error processing prompt '小腿至脚发凉，腰膝酸软，口干，阳强易举，不射精的话会有透明液体从龟头流出，做爱有阳痿早泄的症状，不知道该吃什么药，去年看的中医说是阴虚火旺，吃知柏地黄丸一个月没什么效果，想想对症吃药。舌苔如下': list index (0) out o\n",
      "Error processing prompt '我想了解一下关于先天性肛门闭锁和直肠阴道瘘的治疗方式和检查需要什么东西？我们什么时候可以过来就诊检查？': list index (0) out o\n",
      "Error processing prompt '人流手术后第十二天，做了B超显示宫腔积液，第十一天就没有血丝，问题严重吗？': list index (0) out o\n",
      "Error processing prompt '阴囊感染刺痛，该用哪些药物治疗呢？，自觉阴囊处瘙痒刺痛，很难受，该用哪些药治疗？': list index (0) out o\n",
      "Error processing prompt '女24岁，我月经不太正常，我是12号完事，我9月14与老公同床外射我会怀孕吗？': No candidates return\n",
      "Error processing prompt '我今年24岁，手淫有好几年了，有尿频症状，有晨勃，请问怎么治疗。': list index (0) out o\n",
      "Error processing prompt '请求医生帮助诊断剖腹产后分泌物增多，伴随异味的症状。剖腹产后74天了，一直没来月经，最近分泌物增多，类似排卵期的透明能拉丝的，伴随有异味': list index (0) out o\n",
      "Error processing prompt '无精症射精什么颜色': list index (0) out o\n",
      "Error processing prompt '你好，我和老公在备孕，但是我一直下面痒，而且白带异常麻烦问下，我该怎么办': list index (0) out o\n",
      "Error processing prompt '上个月9号来的姨妈，也是晚了四天。这个月5.6.7都有同房，只有一次没有带套外射了，今早测了一下是一条杠，现在肚子疼，胸胀，有怀孕的可能吗': list index (0) out o\n",
      "Error processing prompt '针对以下药物，使用过多是否会有负作用？红茴香注射液': list index (0) out o\n",
      "Error processing prompt '弱精症治疗期间需要留意什么，专家们好，我和丈夫结婚2年多了，不知晓怎么回事总是怀不上孩子，头两天他去医院做了个检查，检查说他是弱精症，想问下弱精症这种病要如何治疗比较好呢，平时要留意什么呢，谢谢': list index (0) out o\n",
      "Error processing prompt '你好，我刚检查的尖锐是阳性，请问，用干扰素栓有效果吗？': list index (0) out o\n",
      "Error processing prompt '我有龟头炎可是我老婆怀孕了对胎儿有没有影响啊': list index (0) out o\n",
      "Error processing prompt '药流完一个月后正常情况不流血，但只要运动完后还是会流血，这种情况可以用阴道清洗剂吗，时而阴道会痒': list index (0) out o\n",
      "Error processing prompt '在做爱没带套后第二天发现得啦龟头炎紧接着身体出现不适，舌苔很白给有豆腐渣试的，今天突然发热啦37.2这是事后第5天会不会艾滋病传染啦': list index (0) out o\n",
      "Error processing prompt '肋骨骨折6根多长时间能好什么时间能过性生活': list index (0) out o\n",
      "Error processing prompt '今年34月经不调已经有一年的时间了，阴道干涩是最近两个月的时间，请问老师需要什么样的检查？': list index (0) out o\n",
      "Error processing prompt '龟头炎早期怎么治疗': list index (0) out o\n",
      "Error processing prompt '结婚后一直射精异常导致现在还没有宝宝，想要知道人工受精针对人群有哪些': list index (0) out o\n",
      "Error processing prompt '性交的时候不小心没戴好避孕套夹破了龟头一点皮，已经4个月了，没用过药，也没看过医生，龟头表面皮自行恢复长得还是有点慢，龟头摸起来不疼，也没出血，不知道该怎么办，请医生们帮帮忙，不知道自己去买什么药？平时需要注意什么，谢谢你们。': list index (0) out o\n",
      "Error processing prompt '12月27日来的月经到现在还没来上次来了5天1月24号做过一个射在了里面事后吃了药到现在还没来月经正常吗？会怀孕吗': list index (0) out o\n",
      "Error processing prompt '请选择一种剂量较低的镇痛药物，并请说明对身体可能产生的影响依托索利安胶囊': list index (0) out o\n",
      "Error processing prompt '肛门周围有点痒，用纸擦屁股的时候冬天的时候经常走路走多了，肛门周围会有点痒，然后有时候走着走着感觉出血，上厕所用纸擦的时候会有少量血迹，一开始是肛门周围，今天上厕所之后擦了一下，发现不止肛门周围，用纸稍微向肛门里面擦的时候也有血迹出来，不过不是流出来的那种，就是有一点一点的血迹会出血迹': list index (0) out o\n",
      "Error processing prompt '过度手淫导致早泄，停止手淫可以治疗好吗？老婆已经埋怨好久了我应该怎么办好？': list index (0) out o\n",
      "Error processing prompt '上个月是21号来的，然后3号吃了药9号就有点点肚子疼来了两天姨妈，现在就是上厕所一直几滴几滴的滴是这么回事？（上厕所看到颜色是土灰色的）': list index (0) out o\n",
      "Error processing prompt '最近两年，每次月经走后一周到十天后，都会有像白带一样的东西流出，味道特别难闻，': list index (0) out o\n",
      "Error processing prompt '痒的话很久以前就开始了不过从昨晚才看到又长水痘的迹象，外阴很红，又痛。': list index (0) out o\n",
      "Error processing prompt '您好，我来月经三个星期了，每天量都不多，在来月经这期间的第三个星期同房会怀孕吗？谢谢': list index (0) out o\n",
      "Error processing prompt '怀孕之前有宫颈糜烂二度，治疗之后怀孕了就没有复发。这是间隔了三年。最近半年大姨妈来了之后要八九天才能干净。但是就三天左右是正常经血，之后慢慢的就是很少，到第五天左右就是褐色的液体。这次是大姨妈来了七天之后同房了，结果就一直有褐色液体不干净。': list index (0) out o\n",
      "Error processing prompt '急性宫颈炎治疗方法有什么，你好，最近身体不舒服，咨询一下这种疾病，急性宫颈炎治疗方法有什么？': list index (0) out o\n",
      "Error processing prompt '医生，我的外阴长了一个小小的痘儿，好像有脓包还是肉色的我看不清，请问这是为什么，是病吗？我应该怎么治疗？': list index (0) out o\n",
      "Error processing prompt '我每到月经来都不能碰凉水，一碰就少了，但这个月月经刚来时碰了凉水像没来一样，平时也就量少一点，这次怎么会这样？会不会有什么问题啊？我好担心': list index (0) out o\n",
      "Error processing prompt '乳头有硬块按压不痛月经前后也不太痛就最近有点痛': list index (0) out o\n",
      "Error processing prompt '银杏蜜环口服溶液一次服用三支过量了呕吐怎么办？': list index (0) out o\n",
      "Error processing prompt '前天大便干燥，然后感觉肛门裂了吧，有些疼，果真出血了，昨天排便还是会有，不过今天拉肚子了，怎么还是会呀？到底是什么问题呀': list index (0) out o\n",
      "Error processing prompt '我2013有阴道炎特别的药，也一直去医院开药了也洗了，现在是不痒了但是天天都有白带有点豆腐渣的样子，一直去医院检查都说是阴道炎吃了药还是不好，怎么办呢？': list index (0) out o\n",
      "Error processing prompt '月经后十天白带多无异味无色是不是饮食不规范': list index (0) out o\n",
      "Error processing prompt '阴囊上会长尖锐湿疣吗': list index (0) out o\n",
      "Error processing prompt '孕妇子宫粘连怎么办': list index (0) out o\n",
      "Error processing prompt '我最近总是觉得下体特别的难受，还长了很多的小水泡，奇痒无比，每天都要用温水清洗下体才会感觉舒服一点，医生检查过后说是梅毒疾病，把我吓了一跳，以前身体都没有什么症状的。': list index (0) out o\n",
      "Error processing prompt '附睾炎一个月了，还有余块还疼很是难受想问下男性附睾炎怎么消肿快': list index (0) out o\n",
      "Error processing prompt '您好，我想了解一下附属医院是否为男人提供结扎手术，我已经有一个男孩和一个女孩了，不打算再要孩子。': list index (0) out o\n",
      "Error processing prompt '和男友第一次发生性关系，第二天下体刺痛，老想上厕所，还来月经，请问是什么原因，需要怎么解决呢，谢谢！': list index (0) out o\n",
      "Error processing prompt '我是出现这种情况：性生活过程中时间太快，有时还没进入阴道就射精了，另外阴茎有些短小，总之性生活不和谐，请问如何治疗？': list index (0) out o\n",
      "Error processing prompt '以下病症患者是否可以服用复方甘草口服液？肝功能异常': list index (0) out o\n",
      "Error processing prompt '上个月我是24号来的月经，这个月的日期还没到，这几天我是易孕期，我跟我男朋友同过房，但是他有时候用了避孕套有时候没用，没用的时候我也没感觉到他射精子进去，昨天我在美柚上发现我的怀孕几率是百分之一，这样的情况下我会不会怀孕啊？': list index (0) out o\n",
      "Error processing prompt '肛门长个肉疙瘩是什么情况，没去过医院，这几天发现肛门长个肉疙瘩，请问这是怎么回事？': list index (0) out o\n",
      "Error processing prompt '月经断断续续的来就是一天就来2次都不用卫生巾了用护垫就可以了上个月治疗过盆腔炎和这个有没有关系啊持续3天了就晚上来一点早上来一点其他时间没有': list index (0) out o\n",
      "Error processing prompt '请帮我分析以下症状可能是哪种疾病以及应该怎么治疗？尿频冬天严重时一天十七八次，吃复方石韦胶囊加盐酸左氧氟沙星片就好点停药就复发。': list index (0) out o\n",
      "Error processing prompt '吃了紧急避孕药来事的时候头几天量少过几天就好了': list index (0) out o\n",
      "Error processing prompt '宫颈炎应该怎样治疗，得了宫颈炎非常痛苦，您好怎样才能自愈？在乎怎样的协助：得了宫颈炎非常痛苦，您好怎样才能自愈？': list index (0) out o\n",
      "Error processing prompt '右边肚子痛慢慢的又转到小腹痛怎么回事，痛也就三天这样就不痛了，去医院做阴超也检查不出什么': list index (0) out o\n",
      "Error processing prompt '子宫内膜炎应该怎么去机芯治疗，下腹涨痛，腰底也痛化验、仔细检查结果：子宫内膜炎在乎怎样的帮助：该怎样治疗，要多长时间': list index (0) out o\n",
      "Error processing prompt '我今年3月份查出解脲支原体阳性，服用阿奇霉素15天，没有复查。6月份又不舒服，复查又是阳性，吃阿奇霉素15天复查还是阳性，但是症状基本没有了，我在三甲医院看的，没做药敏，现在该怎么办，已经失去信心了，14年也查出阳性吃了两盒就转阴了': list index (0) out o\n",
      "Error processing prompt '外阴会长米粒大的小疙瘩是怎么了，为什么女性的外阴会长米粒大的小疙瘩呢？外阴整个有点痒，两侧象肿了一样，会是什么病呢？请您回答具体点？和什么有关系呢？谢谢': list index (0) out o\n",
      "Error processing prompt '如果怀孕4周多了，那时还不知道怀孕了，有同房行为，会影响宝宝吗？': list index (0) out o\n",
      "Error processing prompt '我上次月经3.10来17完的，但是我昨天檫阴道的时候有一点血丝，然后就又没有了，今天也有一点血丝，粉色的，而且我头晕头痛，这几天咳嗽感冒，今天咳嗽吐痰带一点血丝，可是我以前从来都来月经的时候不是粉色血丝': list index (0) out o\n",
      "Error processing prompt '我好像是的了早期梅毒，生殖器官上有感染.去医院看过，一年后复发，第一次复发是在和男朋友接吻后(已分，第一次谈恋爱),3或者4个月左右，后来又去挂盐水，一个月后再次复发，到现在是两个月左右时间又复发了.': list index (0) out o\n",
      "Error processing prompt '前列腺炎困扰我已久尿黄尿等待，生殖器勃起时间短': list index (0) out o\n",
      "Error processing prompt '男朋友对我挺好，每次在一起都会主动亲吻抚摸就是不和我做，也不让摸他下面，让他脱裤子都很难，宁愿用手给我解决都不和我做，但是我装作无意间碰几次也硬了呀，为什么就不想做呢，他说他性冷淡，性冷淡还会硬吗？': list index (0) out o\n",
      "Error processing prompt '危险期做爱影响本月正常来月经吗？避孕药服用后在做爱，还有可能受孕么？': list index (0) out o\n",
      "Error processing prompt '如果没怀孕，多次吃紧急避孕药，会如何，会导致不孕吗': list index (0) out o\n",
      "Error processing prompt '医生您好，昨天我去做阴超，说里面有小肌瘤和太多血块，然后医生开了药，吃了快清和桂枝茯苓丸血又来了，会有事吗': list index (0) out o\n",
      "Error processing prompt '为什么产后大肚子，来月经的时候手和脚都长': list index (0) out o\n",
      "Error processing prompt '生活中，下体阴道刚开始柔软淡红色不痛不痒的湿疣，皮疹也不明显，但严重时，下体会痛痒不适，少量的出血及脓性分泌物淤积，非常的苦恼，就去医院检查，被诊断为尖锐湿疣。': list index (0) out o\n",
      "Error processing prompt '我刚来月经需要注意什么吗': list index (0) out o\n",
      "Error processing prompt '我最近注意到阴茎底部左侧一厘米有些隐隐痛，也有早泄的情况，我想问一下这是怎么回事。': list index (0) out o\n",
      "Error processing prompt '查经验能否查出是否患炎症，我检查出有酶菌性阴道炎，连续输了七天液，我老公通过查精液能否查出他有没有炎症？': list index (0) out o\n",
      "Error processing prompt '女生第一次以后，一直有痛。已经三天了，是什么情况？': list index (0) out o\n",
      "Error processing prompt '支原体性阴道炎是什么疾病，外阴好痒20113月份化验、检查结果：支原体性阴道炎支原体性阴道炎是一种什么病？': list index (0) out o\n",
      "Error processing prompt '橡实主治什么？': list index (0) out o\n",
      "Error processing prompt '性心理问题如何缓解？性交时性快感很低': list index (0) out o\n",
      "Error processing prompt '我最近和一段时间老是感觉下体不舒服，就去医院检查了一下，医生说是感染了HPV病毒，我听了以后很害怕，我对于HPV病毒是怎么传染的，一点也不知道，有知道的可以告诉我，非常感谢。': list index (0) out o\n",
      "Error processing prompt '我的经期是上个月10号18号同过房有怀孕的可能吗': list index (0) out o\n",
      "Error processing prompt '我今年45岁，2017年1月31日中午来的例假，到今天8天了，中间和每月不太一样，每次都是到第六天几乎就没有了，这个月到第五天久和每个月第六天差不多但颜色很深而且今天还有虽然量很少但颜色笔前两天浅了向红色中兑了水而且小肚子有点疼': list index (0) out o\n",
      "Error processing prompt '你好！请问13岁孩子生殖器官发育太快，什么情况？': list index (0) out o\n",
      "Error processing prompt '我也不知道是怎么回事我还以为是大姨妈又来啦垫啦姨妈纸还是有点血今天又没有啦之前有做过宫颈炎手术': list index (0) out o\n",
      "Error processing prompt '你好，不到一分钟，做过一次背神经切除，效果不好，不知道是医院的问题还是别的原因，带上安全套效果会好一些，咋回事呢？': list index (0) out o\n",
      "Error processing prompt '用哪些方法治疗输精管不通最好？，我跟老婆结婚已经有五年了，一直都想要个孩子可是老婆始终没有怀孕，后来去医院我做了一些常规的不孕不育检查，医生说我患上了输精管不通，用西药治疗已经有一年多了，还没有能够治好。': list index (0) out o\n",
      "Error processing prompt '白带多，而且有异味，去医院检查了电子阴道镜是正常的，白带检查清洁度二，无滴虫和霉菌，但是诊断为带下病湿热。今天去拿了超薄细胞检测，有中度炎症，这个报告我没给医生看，严重吗？之前医生给我开了替硝唑酸和康妇炎胶囊还有洗的。主要想问这个tct检查严重吗': list index (0) out o\n",
      "Error processing prompt '我要生二胎，月经后几天容易受孕，最佳时间是好久': list index (0) out o\n",
      "Error processing prompt '上环一年多了，月经期时间长，十几天才干净，肚子疼这是怎么回事呢': list index (0) out o\n",
      "Error processing prompt '可以选择哪些安全有效的药品用于女性控制不孕？想选个比避孕套方便些的避孕措施。': list index (0) out o\n",
      "Error processing prompt '第一次来月经为什么流量很少，是怎么回事，要多注意什么': list index (0) out o\n",
      "Error processing prompt '舍友得了梅毒，餐具一起洗过，宿舍是坐便器。还用过一个脸盆，我俩上痘痘的，会被传染吗': list index (0) out o\n",
      "Error processing prompt '2年，tt太小时间短，太不起来，腰酸背痛，么精神': list index (0) out o\n",
      "Error processing prompt '宫体513648mm内膜9mm宫颈28mm宫颈管内可见3mm的分离暗区右侧卵巢可见大小约1919mm卵泡': list index (0) out o\n",
      "Error processing prompt '接近肛门长包疼痛是肛瘘吗，在屁股上快接近肛门的地方长了个小的包，在复发的时候有疼痛感，自己挤压的时候有脓血.过一段时间自己会消失但是经常反复发作.去医院看过说是肛瘘，要动手术，说要有可能会弄到肠子上.这到底是什么病？应该怎么治？会与肠子上有关吗？': list index (0) out o\n",
      "Error processing prompt '我排卵期带避孕套了，就是男朋友等阴茎软了才拿出来这样，会怀孕吗？还有套子还是在阴茎上的': list index (0) out o\n",
      "Error processing prompt '老公较近性冷淡是什么原因造成的？，男42觉得私处很不舒服，那种感觉也无法形容，影响工作和生活非常烦，请问老公较近性冷淡是什么原因造成的？': list index (0) out o\n",
      "Error processing prompt '生气引起的乳房肿痛有几天了吃的乳癖消片不见好': list index (0) out o\n",
      "Error processing prompt '15号来的月经，23号同房，24号服用金敏婷，到今天到今天都五天了，也没有出现撤退性出血，却出现腰酸疼，还有点恶心，是不是避孕失败了': list index (0) out o\n",
      "Error processing prompt '以下症状出现在月经期间，请问可能是什么原因？肚子疼。': list index (0) out o\n",
      "Error processing prompt '药流清宫后前四天肚子不痛，血也快干净了。但是第五六肚子跟痛经一样痛，血也是黑的。21岁第一次怀孕': list index (0) out o\n",
      "Error processing prompt '清宫一个月没来月经，阴超显示宫腔分界不清，可能有残留，医生开药催经，然后经期吊缩宫针＋中药活血化瘀，经后复查阴超没事了，只是内膜回声不均，可隔一天发现少量出血，开始粉红，后面有点褐色，第二天就很少很少，去厕所用纸巾擦就见有一点点，这正常吗？': list index (0) out o\n",
      "Error processing prompt '子宫性不孕是怎样引起的，我和老公离婚好几年了，也一直想要个孩子，但是一直怀不上，家里人都催我们了，之后去医院仔细检查，老公身体没问题，我是子宫性不孕。在乎怎样的帮助：子宫性不孕是怎样引来的': list index (0) out o\n",
      "Error processing prompt '白带异常有血丝之前有宫颈糜烂经治疗后病情稳定，后医生开了替甲硝唑胶囊和乳酸菌颗粒，阴道用药期间白带也好了血丝也没了第四天，老公带套用手帮忙塞药，后情不自禁他又抚摸阴道外面，高潮来了二次。第二天白带有点发黄并微微带有点血丝并且肚角左侧有酸痛感怎么回事': list index (0) out o\n",
      "Error processing prompt '我这个月还没有来大姨妈，上个月好像是8来的大姨妈，为什么这个月还没来啊？是什么原因吗？': list index (0) out o\n",
      "Error processing prompt '您好我月经最后一天和男朋友发生关系有部分射进去了会不会怀孕': list index (0) out o\n",
      "Error processing prompt '痔疮。痔疮去年好像进入第二阶段了，一直都是内痔，现在痔核如果上厕所太用力会脱出，过一周或两周左右回自动缩回，前几天太用力导致脱出且外围肿起来了，涂了几天马应龙已经不痛了，但是还没有缩回，昨天蹲厕所有大量鲜血，但完全没有痛感，这种情况是恶化了么？不想做手术，能有其他药可以缓解么？': list index (0) out o\n",
      "Error processing prompt '上个月来姨妈之后的第五天左右有过一次性生活射进去了一点点这个月已经推迟六天了以前都是提前的没有推迟过是不是怀孕了': list index (0) out o\n",
      "Error processing prompt '5月25号做的药流，7月一号还没有而且用试纸检测也没有怀孕是怎么回事。药流后多久来月经正常': list index (0) out o\n",
      "Error processing prompt '你好，我从春节后开始出现屁股尾椎左边疼酸痛，正面仰卧承受不了，再后来出现肛门周围酸麻，下半夜，早上如厕，疼痛历害，请问我这个是什么症状呀！': list index (0) out o\n",
      "Error processing prompt '以下情况是否会影响AMH水平？女性自慰': list index (0) out o\n",
      "Error processing prompt '今天去医院去做了妇科检查，查出有炎症，什么支原体衣原体感染的，还说的挺严重的，去做了冲洗还打了点滴。求助-': list index (0) out o\n",
      "Error processing prompt '我产后坐完月子去检查，有白带，医生开药给我塞，但宫内还有积液，塞药有影响吗': list index (0) out o\n",
      "Error processing prompt '发现前列腺囊肿需要如何能缓解呢，真的非常苦恼，我早前被诊断出前列腺炎，现在就是尿急尿痛尿不尽，而且偶尔还会尿分叉，性生活方面也开始出现问题了，我还很年轻，真的感到非常的无助，请问：发现前列腺囊肿需要如何能缓解呢': list index (0) out o\n",
      "Error processing prompt '包皮过长会引起精液发黄吗如果不是那么精液发黄是怎么引起的该怎么办': list index (0) out o\n",
      "Error processing prompt '我活动量少，发现自己患上了外痔，想了解外痔有哪些危害如何治疗？': list index (0) out o\n",
      "Error processing prompt '我这个月两边乳房变大胀痛，乳头轻轻触碰有有感觉，我没避孕，以前没有这种情况的，前两天有点反胃的现象，吐不出来，我一月二十号来的月经，': list index (0) out o\n",
      "Error processing prompt '上次性生活后就开始出现小便次数多，过来一天左右，出现小便末尾刺痛感，特别的不舒服，而且会发出一些难闻的味道，这是怎么回事啊，可以吃一些什么药': list index (0) out o\n",
      "Error processing prompt '有前列腺炎，晚上睡着了就勃起，年晚反复6.7次睡不好，起来就好了入睡还是如此。睡不好，白天晕晕乎乎没精神能帮帮忙我在么治疗吗。跪求': list index (0) out o\n",
      "Error processing prompt '月经过去四天了，最近排卵总在月经过去五天左右就开始排，今天医生开了补佳乐，现在开始吃晚不晚？照片是上个月经期去查的性激素，上个月吃了一个月的补佳乐黄体酮，月经还是没有血只有黑褐色分泌物。': list index (0) out o\n",
      "Error processing prompt '3个月前做过肛裂手术，肛门口在手术时曾经开过切口的，虽然如今已愈合，但那里的神经特别敏感，常有像针扎的刺痛感，之前以为只是时间问题，但情况并不是这样，曾经回院复查说没问题，是我太敏感。但这种疼痛这么久了还存在，很不舒服，常常被困扰，究竟这是怎么回事？有什么方法能治愈？': list index (0) out o\n",
      "Error processing prompt '生孩子的时候累出痔疮了，不疼，医生说以后自己会进去的，没事，现在都快一年了，还没进去，不疼不痒不出血，就是肛门多了一块肉，这是怎么回事医生': list index (0) out o\n",
      "Error processing prompt '，我第一次有性交，处女膜破了后有少量出血，第二天晚上又性交了，而且吃了避孕药，吃过后第二天早上又性交一次，现在少有出血，四五天后也就是月经期，是月经吗？怎么回事？': list index (0) out o\n",
      "Error processing prompt '阴茎变得短小怎么回事很明显怎么才能恢复': list index (0) out o\n",
      "Error processing prompt '用保妇康栓的药，用过之后火辣辣的痛这是为什么？_?': list index (0) out o\n",
      "Error processing prompt '下列药物有哪些禁忌人群？硝酸甘油片': list index (0) out o\n",
      "Error processing prompt '我2月11日凌晨3点排卵期与老公同房，11日吃的避孕药，12日晚又同房未做措施，刚好还是在排卵期，16日这几天总是出现尿频，肚子胀，有想大便的感觉，可是排不出来，请问会不会怀孕？': list index (0) out o\n",
      "Error processing prompt '请描述阴道出血的病因诊断方法': list index (0) out o\n",
      "Error processing prompt '最近这几天外阴总是好痒，特别吃辣椒粉时候这是为什么呢，前几天我去检查过妇科还没这样但去检查回来吃了几天药后就觉得很痒': list index (0) out o\n",
      "Error processing prompt '月经过后几天出现瘙痒后来没事了做爱以后才流淡黄色水有点味没有瘙痒疼痛': list index (0) out o\n",
      "Error processing prompt '男婴两个月生殖器官红肿包头红还往外流白色的东西，晚上带了一晚尿不湿早上起来就这样了，是什么毛病？怎么医治，用什么药呢？': list index (0) out o\n",
      "Error processing prompt '女，15岁，昨天洗澡的时候发现阴部有皮屑还有点红，没发生过性生活(*?ω?)请问是什么原因引起的，有什么办法治好，要吃药吗？': list index (0) out o\n",
      "Error processing prompt '少精弱精能治疗好不？，男人少精弱精能治疗好吗，想知道下男性的精液少精弱精能治疗好的吗，是什么原因的么，怎么就会少精弱精的，要怎么办啊，还能怀孕的吗，要怎么办啊，一直都绝不会怀孕的，怎么治疗的，会不会致使不孕不育的，没不舒服的，怎么办啊？': list index (0) out o\n",
      "Error processing prompt '接触的异性朋友多了，每次都有带套，会得艾滋病毒吗': list index (0) out o\n",
      "Error processing prompt '我怀孕二十多天了，刚刚上厕所发现了一点点红血，这种情况有没有事情啊，': list index (0) out o\n",
      "Error processing prompt '包皮过长割包皮行吗？，我自己推测有点包皮过长，平常不勃起的时候刚好现出尿道口，勃起能全部现出龟头，因为龟头一直包着，经常擦洗没炎症，房事的时候基本只有1-2分钟就收工了。怎么办？': list index (0) out o\n",
      "Error processing prompt '您好！我女朋友是在两小时之内吃的避孕药左炔诺孕酮滴丸，会有效果吗？': list index (0) out o\n",
      "Error processing prompt '这两天经常发烧，口腔也不好，淋巴结痛，阴毛长痘痘，经常犯困，上几天有过性生活，龟头没有异样': list index (0) out o\n",
      "Error processing prompt '你好大夫，我今年28岁，最近突然之间阳具不举，大概有一个月了，以前从没有这种现象，有性欲望但影不起来，一个月了和爱人一共2次，而且很快就阳痿早泄了。': list index (0) out o\n",
      "Error processing prompt '最初右下腹部伴随腹股沟处灼热，蔓延上半身灼热刺痛。发现是同房后第二天整个下腹部灼热，全腹部ct阴道镜检查没事，人乳头瘤病毒检测阳性84.2，是什么病，是这个病毒引起的这些症状吗': list index (0) out o\n",
      "Error processing prompt '我和老公刚刚结婚，老公今天博士毕业，我需要明年博士毕业，所以我们打算先不要孩子。什么避孕套比较好？用多了好吗': list index (0) out o\n",
      "Error processing prompt '女性肛裂怎么引起的': list index (0) out o\n",
      "Error processing prompt '就今天用手指弄了就出了一点点血有什么危害吗': list index (0) out o\n",
      "Error processing prompt '我4号例假结束5号晚上内射了还有一点点血会怀孕吗': list index (0) out o\n",
      "Error processing prompt '肝病引起阳痿怎么治疗，你好，我正处在男性肝病晚期。现在我的运动有限，晚上不能够跃身。我很忧心这种疾病对我的生存的干扰。我想问几下，在这种疾病的晚期我能活多久，它如何会干扰我的生存。一个人在肝脏晚期能活多久？': list index (0) out o\n",
      "Error processing prompt '做了无痛人流15做爱了能不能吃避孕药谢谢': list index (0) out o\n",
      "Error processing prompt '我不清洗好久就会痒有的时候很不舒服然后普通的用毛巾和盆子洗阴部还是会很痒而且阴唇会站住一边还会有一些白色小点在那里求帮助': list index (0) out o\n",
      "Error processing prompt '我最近便秘的时候会出血，便后会有疼痛、下坠感，但是排便顺畅的时候就没什么问题。这种情况可能是什么原因引起的呢？痔疮会自愈吗？': list index (0) out o\n",
      "Error processing prompt '月经结束第一天，同房后避孕套上有血，无明显不适': list index (0) out o\n",
      "Error processing prompt '生殖器疱疹在龟头下边有红肿上面有水疱不到半年就复发了好几次吃很多药当时好了不到20天就又复发': list index (0) out o\n",
      "Error processing prompt '可以在网上查看或咨询哪些性病常见的症状？性交时刺痛，疹疙瘩等等': list index (0) out o\n",
      "Error processing prompt '出现腰疼，白带增多的情况，去医院做检查，医生说是宫颈上长了多个囊肿，': list index (0) out o\n",
      "Error processing prompt '从生完孩子后，有时候会外阴胀痛，好像充着血，疼的厉害，是怎么回事？': list index (0) out o\n",
      "Error processing prompt '人乳头瘤病毒阳性59是什么意思': list index (0) out o\n",
      "Error processing prompt '我同事最近便秘，他老是觉得自己排便艰难、费力；排便不畅；大便干结、硬便，排便不净感；便秘伴有腹痛或腹部不适。': list index (0) out o\n",
      "Error processing prompt '药流一星期干净了，当晚同房了，老公射里面了，会怀孕吗？能说避孕药吗？': list index (0) out o\n",
      "Error processing prompt '请问大便出血，有少量附着表面，手纸都被染红，血色鲜红，无痛感，是怎么回事，第一次，': list index (0) out o\n",
      "Error processing prompt '精子正常形态是什么样，本人最近不知道怎么回事下体特别不舒服，而且也不晨勃了，请问精子正常形态是什么样': list index (0) out o\n",
      "Error processing prompt '你好，我最近发现阴唇根部和尿道口有像鱼籽似的疙瘩，不疼不痒，就是自己能感觉别扭，走路不得劲！白带有增多，没有臭味！这是怎么了？怎么能治好了？': list index (0) out o\n",
      "Error processing prompt '精索静脉曲张忌哪些，我洗澡的时候发现自己的睾丸一大一小，而且好像有一边比较低，摸上去觉得血管好像都特别大，跟蚯蚓盘在睾丸里似的，请问：精索静脉曲张忌什么': list index (0) out o\n",
      "Error processing prompt '肛门周围有红点该怎么办，昨天老公说肛门不舒服，说是像是起了什么东西，我看了看是肛门旁边有小红点，请问肛门周围有红点怎么办？': list index (0) out o\n",
      "Error processing prompt '早泄应该如何医治，时间长了没做性交，隔几天后作的话，第一次时间短大约1分钟左右，后来就好了可以持续10分钟左右。这是不是早泄。第一次为什么那么短呢': list index (0) out o\n",
      "Error processing prompt '什么是早期肛裂？我以前有便秘的，但是最近感觉到下面很痛很痛，特别是拉大便的时候感觉到更加痛，很难忍受，后来就去医院检查，医生说我这种情况是肛裂导致的，现在给我开了一些药，按照医生的方法去做好受了少少。': list index (0) out o\n",
      "Error processing prompt '排卵不正常是怎么回事，医生你好，排卵不正常是怎么回事，是不是说我的输卵管堵了，卵子不出来还是什么意思，': list index (0) out o\n",
      "Error processing prompt '附睾畸形产生的危害有哪些？，老公睾丸那边好象长得有点古怪，去仔细检查，说是附睾畸形，对受孕有一定的影响，这样忆起了确实是，我们结婚好几年了，也一直没孩子。附睾畸形有什么危害啊？': list index (0) out o\n",
      "Error processing prompt '月经来临期小腹痛，前两天流透明黄色液体伴有淡红血色，小腹疼痛，腰轻微痛，现在已经在流深点儿的鲜红血液，正在吃治疗盆腔炎的中药，上次和这次月经中间发生过关系，感觉不是排卵期有怀孕的可能吗？还是盆腔炎引起的，通过什么可以检测。': list index (0) out o\n",
      "Error processing prompt '我做了包皮手术，拆线了五天了，晚上不小心勃起开了个小口怎么办啊': list index (0) out o\n",
      "Error processing prompt '我想问下我上次月经来是4月28号五月21号跟男友做了爱因为是第一次比较紧张没进去太多但到后面就有粘液一样的东西躺我俩还擦了我查了一下我在安全期但是我担心在23号我就吃了避孕药我能怀孕么': list index (0) out o\n",
      "Error processing prompt '少精症怎么治疗呢': list index (0) out o\n",
      "Error processing prompt '宫颈靡烂术后能喝鲫鱼汤吗，本人下体特别痒，而且内衣上总是黄黄的，怎么回事？请问宫颈靡烂术后能喝鲫鱼汤吗': list index (0) out o\n",
      "Error processing prompt '六天前乳房突然挤不出奶还疼，晚上打起高烧，乳房红肿，疼痛，后去医院打消炎针就不那么痛了，也不那么红了，但是乳房里的奶无论怎样都就不出来，怎么办': list index (0) out o\n",
      "Error processing prompt '我得尖锐湿疣一个月了，这几天有点痒，今天发现有一个红点子，我很害怕复发': list index (0) out o\n",
      "Error processing prompt '白带检查里只有两项异常，白细胞酯酶两个加号，乙酰氨基葡萄糖苷酶弱阳，请问这是怎么了？如果只是洗液清洗外阴，能治愈吗？': list index (0) out o\n",
      "Error processing prompt '不了解阳痿早泄治疗方法有哪些，我最近刚谈了个女朋友，可是在我们发生关系的时候我再次出现了早泄，我以为是正常的，可是连续再次出现了2次早泄的问题，我很没面子，我以前经常的性交，我怕是这个问题引发的早泄，不知晓这个病应当怎么治疗啊？': list index (0) out o\n",
      "Error processing prompt '请问脸上和后颈部长痘痘和螨虫，浑身很懒，还有点性功能下降，是什么原因': list index (0) out o\n",
      "Error processing prompt '你好，我痔疮出血有一段时间了，天天用马应龙也不见好，现在出血严重起来了，拉屎肛门特别痛。': list index (0) out o\n",
      "Error processing prompt '已经霉菌性阴道炎很多年了...经常复发..每次都用硝呋太尔制霉素阴道软胶囊...会不会产生抗药性...根本不管用呀...这两个月这都第三次用药了...之前每次犯病我都自己买这个药...是不是用多了这个药没有用了': list index (0) out o\n",
      "Error processing prompt '治疗女性急性膀胱炎方法是什么': list index (0) out o\n",
      "Error processing prompt '上次月经是3月2号左右结束的，4号左右吃了紧急避孕药，之后到现在都没有来月经，吃药之前月经最迟也才推迟了五天而已，这次是正常的药物副作用还是有什么病？不治疗的话对以后有影响么？': list index (0) out o\n",
      "Error processing prompt '我今年45岁，5月因单纯性子宫内膜增生做了诊刮术。之后月经周期一直很正常。从10月13日来月经一直到今天一直淋漓不尽，请问是怎么回事，应如何对症治疗？': list index (0) out o\n",
      "Error processing prompt '做了前列腺液检查，然后做什么检查，上个星期五做了前列腺液仔细检查，医生开了3种药吃，当天晚上性生活就再次出现有射精备感没但没射出来，以为是做了前列腺液仔细检查的原因，过了两天一样是有射精感觉，但是没射出来，之前射精都是很正常的，今天看了几下医生开的药说明书，其中赛洛多辛胶囊，不良反应有逆行射精副作用，我想问这个药不吃了，停药多长时间会恢复正常。': list index (0) out o\n",
      "Error processing prompt '你好！我4月28号晚上来的月经，5月5号房事会怀孕吗？': list index (0) out o\n",
      "Error processing prompt '之前去医院检查，有盆腔炎，开了中药，医生说等中药喝完了，没有血丝，就开始吃宫炎胶囊': list index (0) out o\n",
      "Error processing prompt '最近因生气，胸部严重缩水，请问还能恢复吗？应该怎么做？': list index (0) out o\n",
      "Error processing prompt '对象还有两天就月经了，今天刚做完房事，请问用不用吃避孕药，如果吃了会有危害吗': list index (0) out o\n",
      "Error processing prompt '只是有点痒感明显没有过不洁性交，我一直很注意的没有和人发生过不洁性交，但是现在有点担心会感染上性病，请帮我看看吧！': list index (0) out o\n",
      "Error processing prompt '为什么同房有声音，我去年结的婚，最近总是肚子小腹疼痛，尤其是来事那几天，很害怕影响生育，而且十分的怕冷，怕寒。请问为什么同房有声音': list index (0) out o\n",
      "Error processing prompt '我最近白带异常增多，应该怎么办？': list index (0) out o\n",
      "Error processing prompt '医生，宝宝放屁的时候，使劲哭。和抻懒腰。会带出点粑粑。油油的，那是什么原因，可以吃妈咪爱么': list index (0) out o\n",
      "Error processing prompt '深圳做完包皮手术后，感觉有些勃起困难。，我做包皮手术之后15天，这15天内勃起很正常，可是这几天感觉勃不起来了': list index (0) out o\n",
      "Error processing prompt '患包皮龟头炎有一段时间，反反复复，如今痒感增强，内包皮龟头沟出有明显的白色如皮状的物体，可擦拭，好像是得了包皮龟头炎': list index (0) out o\n",
      "Error processing prompt '生殖器上长有一些小水泡，细小的，颜色是淡红，几天后发展成为脓疱，逐渐破溃，糜烂溃疡，连成一片，像菜花，感觉非常疼痛。医生说是生殖器疱疹。': list index (0) out o\n",
      "Error processing prompt '白带发黄有绿色怎么办？': list index (0) out o\n",
      "Error processing prompt '男性三十二岁，结婚八年一直没有孩子，夫妻俩一起去医院做了全面检查，查出问题在我这边，我得了死精症，我我平时身体都很好，没有任何不适，甚至都很少感冒的': list index (0) out o\n",
      "Error processing prompt '我是出生十二小时。在蚌埠市第一人民医院动的手术，手术后已有十八年了。现在大小便失禁，生殖器官硬不起。': list index (0) out o\n",
      "Error processing prompt '高危行为后两周可以检测吗，准确率高不高，一周前有过一次高危行为，现在很焦虑': list index (0) out o\n",
      "Error processing prompt '请问做前列腺液检查疼吗？我最近总是尿频，几乎一个小时要上2次厕所，而且还尿急，如果尿有了不马上去解决的话，就好像要尿到裤子里了一样，真的好痛苦啊，还有就是，每次尿完尿后，就感觉尿道口像被火烧过了一样。去医院医生让我做前列腺液检查！': list index (0) out o\n",
      "Error processing prompt '前列腺精液检查需要几天不能同房，本人最近不知道怎么回事下体特别不舒服，而且也不晨勃了，请问前列腺精液检查需要几天不能同房': list index (0) out o\n",
      "Error processing prompt '包皮过长手术多久可以恢复正常，包皮过长手术后，多长时间可以恢复正常，多长时间可以实施性生活': list index (0) out o\n",
      "Error processing prompt '月经推迟五天同房两次没有安全措施体温升高': list index (0) out o\n",
      "Error processing prompt '你好，医生，月经迟了十天，测了两次都是一条线，没怀孕，那要吃什么能催月经快点来，买的益母草颗粒，喝喝会有效吗': list index (0) out o\n",
      "Error processing prompt '出现输卵管积水怎样治比较好？，输卵管积水，去医院检查了，不是很严重，但是我一直都不舒服，而且迟迟没有怀孕，请问：出现输卵管积水怎样治比较好？': list index (0) out o\n",
      "Error processing prompt '去年屁股蛋上就长了疙瘩，没在意，今年看了一下是红色的，跟蚊子叮了一样，有半个小拇指头那么大，是怎么回事': list index (0) out o\n",
      "Error processing prompt '输卵管积水的主要症状有啥，输卵管积水，去医院检查了，不是很严重，但是我一直都不舒服，而且迟迟没有怀孕，请问：女性输卵管积水的主要症状是什么': list index (0) out o\n",
      "Error processing prompt '从小手淫，现在已经好几年了，现在有了女朋友，结果发现自己重度早泄，后悔莫及，也有发现自己手淫时间越来越短，我能治好吗？': list index (0) out o\n",
      "Error processing prompt '白带最近黄黄得有结痂是怀孕了吗因为月经过后第二天做爱不小心漏了一点精子怕怀孕同房后到现在有13天了试纸能测出来嘛': list index (0) out o\n",
      "Error processing prompt '排卵试纸强阳已经三天了，什么时候排卵？，病情描述：我从排卵试纸以出现强阳就安排同房，可是第二天起来一侧还是强阳，好像比第一天还强了，只好再次同房。今天再测还是强阳，我这几天每隔几个小时测一次，用了十几个试纸，各个都是强阳，我简直要疯了，我和老公都不想再同房了，请问这样会不会怀孕？曾经治疗情况和效果：没有治疗过想得到怎样的帮助：连续3天强阳到底有没排卵': list index (0) out o\n",
      "Error processing prompt '怀孕6周了同房有一点出血，第二天早上白带也有一点': list index (0) out o\n",
      "Error processing prompt '房事前一小时吃了避孕药，会有效果吗，如果吃多了会如何。': list index (0) out o\n",
      "Error processing prompt '2月初6药流的，大概8、9天就干净了然后就是上小厕时白带有血，': list index (0) out o\n",
      "Error processing prompt '我就关于我太太检查出单纯性疱疹病毒II型抗体IGM呈阳性这个问题问了您，请问这个有没有可能是我传染给我的妻子的，到底是怎么回事？谢谢，我是不是也去检查一下？': list index (0) out o\n",
      "Error processing prompt '产后45天去复检说长滴虫，做了十次冲洗，现在两月了流出褐色分泌物，还有点痒。': list index (0) out o\n",
      "Error processing prompt '你好我17岁我下面有异味白带黄外阴有时候会有一点点痒不过也不是特别痒那种医生就只说我下面脏白带多白细胞阳性清洁度2我好害怕会得个什么病。': list index (0) out o\n",
      "Error processing prompt '我是无痛人流和宫颈糜烂一起做的，术后第二天就不出血了，隔了56天又出血了，量不多少于月经量，有时是是咖啡色的血有时是淡红色的，到现在以经有15天了正常吗': list index (0) out o\n",
      "Error processing prompt '月经不调，想怀孕，性激素有点高，那个卵泡生成素低，促黄体素高，请问可以怀孕吗': list index (0) out o\n",
      "Error processing prompt '我今年年初1月份来过大姨妈，之后一直到现在都没有来大姨妈。有五个月了吧。今天白色裤子上有黄褐色的印记，有点像血又有点不像不知道这是来大姨妈还是什么？': list index (0) out o\n",
      "Error processing prompt '前几天尿尿最后出现流出乳白色液体，查了下是尿滴白，这两天排尿最后会夹杂一些浑浊液体，可能是尿浑浊，尿尿的时候尿道也不痛，也没有其他的感觉，就是如果刻意去想的话就会感觉有尿意，请问这是尿路感染还是前列腺问题？需要用什么药吗': list index (0) out o\n",
      "Error processing prompt '女人尿频怎么回事': list index (0) out o\n",
      "Error processing prompt '我在没结婚之前手淫过多，现在每次在做爱的时候，一般3、5分钟就射精了。这是不是肾虚了？该怎么办？': list index (0) out o\n",
      "Error processing prompt '请问一下，去医院检查性病全面检查，都需要检查哪些性病呢？？一般多久可以去检查比较准确符合医学的标准呢？？谢谢': list index (0) out o\n",
      "Error processing prompt '媳妇快生了，医生检查说孩子发育个子比较大。且头部向上，胎心为180。医生先给输了催生的液体，现在又换成了小苏打。请问还能顺产吗？': list index (0) out o\n",
      "Error processing prompt '经期时性爱没有做安全措施会不会怀孕或者感染': list index (0) out o\n",
      "Error processing prompt '今天检查单纯生殖器疱疹igm阴性igg阳性这是咋了生殖器上没有长过水泡': list index (0) out o\n",
      "Error processing prompt '腹胀，很久都没有排便，有时候用外塞药用于缓解，可是大便十分干燥，导致严重腹胀，但是很难受，影响正常生活。': list index (0) out o\n",
      "Error processing prompt '我和男朋友做完后。他下面痛，他告诉我，医生说了是我原因。他需要花好几万才能治疗好': list index (0) out o\n",
      "Error processing prompt '半个月前出现外阴瘙痒，阴道口瘙痒的症状，后来例假，阴道口就像冬天手开裂一样的疼，例假过后正常了一个礼拜，现在又开始痒，洗阴道的时候阴道口里面明显有块肉，请问这是怎么回事': list index (0) out o\n",
      "Error processing prompt '你好我4月21号来一次月经，5月14号同房会不会怀孕吗，我的月经周期一般是27天，但是今天19号了，还没来月经，真害怕怀孕了': list index (0) out o\n",
      "Error processing prompt '您好，我还没到月经，可是内裤上有带红的脏东西，是什么原因': list index (0) out o\n",
      "Error processing prompt '每次来月经都有血块是怎么回事？怎么才能调理，伴有腹痛': list index (0) out o\n",
      "Error processing prompt '16年9月份查出肺结核后，服药治疗至今，最近几个月发现到月经干净后的第8或第9天开始有红血丝，大约有2-3天，是蛋清样的分泌物中有红血丝，小腿发酸，月经其部双腿酸的厉害。请问这是排卵期的红血丝吗，正常吗': list index (0) out o\n",
      "Error processing prompt '阴阳两虚阳痿早泄是如何造成的呢，1，阴阳两虚2，勃起无力，早泄3，阴囊湿冷4，性欲低5，腰膝怕冷吃什么中成药比较好？': list index (0) out o\n",
      "Error processing prompt '怀孕38天出现褐色物，检查后没事，后来就断断续续有褐色物偶尔出黑色血，服药六七天了，这是咋会儿事': list index (0) out o\n",
      "Error processing prompt '我阴唇上长了白色的颗粒，不疼不痒，像脂肪粒，想请问一下医生这是什么东西。': list index (0) out o\n",
      "Error processing prompt '最近来月经前四天血挺正常的，后面就一点点褐色的要拖拉好多天才会干净，吃了药还是这样': list index (0) out o\n",
      "Error processing prompt '包茎包皮价格大约多少，我是个有包茎的男但我需要有理解性交治疗。我不知晓治疗包茎要多少因为家里的条件是不允许的。如果手术对我的健康有很好的干包茎的价格是多少？': list index (0) out o\n",
      "Error processing prompt '你好月经量少，生完老大的时候就三四天生完老二以后最多三天就没有了也没有夫妻生活是怎么引起的，': list index (0) out o\n",
      "Error processing prompt '我是这个月初来得姨妈，来姨妈期间和男朋友啪啪啪，这个月末姨妈又来了是怎么回事不会怀孕了吧？': list index (0) out o\n",
      "Error processing prompt '逆行射精与手淫有关系吗，无': list index (0) out o\n",
      "Error processing prompt '人工流产出血一个星期没血了同房过后又出血，不是鲜血，褐黑的颜色，现在又是有褐色带有点黄这是怎么回事': list index (0) out o\n",
      "Error processing prompt '张医生，你好。最近和女朋友长期分居，不能满足性生活。常常自己一人解决，这样有什么危害吗？': list index (0) out o\n",
      "Error processing prompt '宫颈息肉的症状都有些什么，这几天感觉身体很不舒服，平常时间或性生活过后有极少量点滴破皮，色呈鲜红，有时被误以为是“回经”少数人的出血量可与月经相像。去医院仔细检查医生说是宫颈息肉。在乎怎样的协助：宫颈息肉的症状一般都有什么呢': list index (0) out o\n",
      "Error processing prompt '我混合痔已经好多年了，一直有去医院动手术切除，痔疮已经没了，最近一年时间因为痔疮大便出血，每次都有肠子掉出来。这个情况严重吗？': list index (0) out o\n",
      "Error processing prompt '龟头淡是否要以用达克宁擦，龟头淡是否要以用达克宁擦': list index (0) out o\n",
      "Error processing prompt '近一个月心情不是很好，以前都正常，就这个月。。。例假就不正常了，只是阴道口有一点点血，不像以前是的往外流了，这是为什么？': list index (0) out o\n",
      "Error processing prompt '我主要是多年的手淫导致现在严重早泄，就隔着裤子摩擦都能很快射精死精，右腰里面肾位置酸痛不适，尤其是手淫后一两天，虚汗多。疾病是早泄和死精，希望得到的帮助是只要能治好，什么方法都行。我已经患病大于半年，曾到西苑医院泌尿科就诊过。': list index (0) out o\n",
      "Error processing prompt '月经正常，还有三天该来月经，老公进去了一下没射，处女膜破了，然后流了四天的血，是月经提前了吗？会怀孕不？': list index (0) out o\n",
      "Error processing prompt '你好，医生，我这个月的14号来月经，可是11号晚上同房，有可能会怀孕吗？': list index (0) out o\n",
      "Error processing prompt '月经后6天体外会怀孕吗？平时周期在36天左右': list index (0) out o\n",
      "Error processing prompt '开始有症状的时候心里就有点担心了，就担心这样的症状是性病，但是我不知道这个是不是，也不知道怎么治': list index (0) out o\n",
      "Error processing prompt '以下药品不可一起服用？口服降糖药和利他林，两种同时治疗是否可以？': list index (0) out o\n",
      "Error processing prompt '早泄的症状具体有哪些？，本人69男，突然感觉到身体有些不舒服，但是不知道怎么回事，请问：早泄的症状具体有哪些？': list index (0) out o\n",
      "Error processing prompt '我想问医生个事，阴茎什么样的功能才算是性功能正常啊，硬度什么的都正常呢，最好详细些我想问医生个事，阴茎什么样的功能才算是性功能正常啊，硬度什么的都正常呢，最好详细些': list index (0) out o\n",
      "Error processing prompt '这些药品是否容易上瘾？流行的镇痛剂，可口可乐等饮料等。': list index (0) out o\n",
      "Error processing prompt '我以前做了包皮手术了，现在发现系带也短，怎么办': list index (0) out o\n",
      "Error processing prompt '我是龟头，包皮掉皮。有臭味有时候还会痒痒的这是什么原因呢医生': list index (0) out o\n",
      "Error processing prompt '做完包皮手术第五天每天换药打针今天自己拆纱布然后又出血和渗液的情况阴茎下部肿的厉害': list index (0) out o\n",
      "Error processing prompt '我一直比较注意这方面的，但是就那么一次，怎么就感染上了这个性病啊': list index (0) out o\n",
      "Error processing prompt ':15日来月经的21日干净了，23日24日都在同房可是25日才排卵日你说这样怀孕机率高吗？': list index (0) out o\n",
      "Error processing prompt '我最近出现了射精时大腿根部疼痛的情况，请问这是什么问题？': list index (0) out o\n",
      "Error processing prompt '前几天我发现下部有异味，后来我每天都换内裤，之后我又用卫生纸，结果发现卫生纸上是黄绿色的，这到底是怎么回事呢？': list index (0) out o\n",
      "Error processing prompt '你好！我是产后2个月便秘，大便出来有血，是怎么回事': list index (0) out o\n",
      "Error processing prompt '正常阴茎尺寸是多少？，我今年22岁了，处过一个女朋友，但是因为我包皮过长，以前没发育好，有点短小，性生活不是很和谐就分手了，我真的非常的苦恼，请问：正常阴茎尺寸是多少？': list index (0) out o\n",
      "Error processing prompt '促卵泡生成素9.00黄体生成素12.19正常吗月经第二天做B超说内膜0.4没有优势卵泡吃促排药能怀孕吗': list index (0) out o\n",
      "Error processing prompt '肛门大便时疼痛，已经快两周了，大便有的时候感觉带血': list index (0) out o\n",
      "Error processing prompt '请问来月经啦同房啦，会怎么样，有什么病吗': list index (0) out o\n",
      "Error processing prompt '医生你好，我偏胖，下体阴道口旁边的肉有一天突然肿了一小块后来有变小过一段时间没有完全好到最近天热可能细菌感染，和走路的摩擦变得越来越大，现在已经有两个手指的宽度了，影响坐不动它也有点痛，坐下来压倒就更痛了不红，就像平时的皮肤肿起来，里面硬硬的像是里面有颗肉球': list index (0) out o\n",
      "Error processing prompt '小儿肛裂会自愈吗': list index (0) out o\n",
      "Error processing prompt '我月经是这个月4号来的，感觉前几天来的月经颜色是黑色，后面几天的颜色是褐色，颜色很淡，到现在都还有回，请问是怎么回事呢': list index (0) out o\n",
      "Error processing prompt '您好，今天没忍住自慰了一次，用面巾纸擦了龟头，会感染艾滋病吗？不知道纸上会不会有病毒，麻烦了，求解答': list index (0) out o\n",
      "Error processing prompt '我刚做过三天宫颈管炎治疗，做完下身就里外都痒，排卵期白带成豆腐渣状，没有排卵的迹象，想要二胎，不知影响怀孕吗。': list index (0) out o\n",
      "Error processing prompt '4月27同房了半途带套没有射白带这几天增多胸部有点疼怎么回事会不会怀孕了': list index (0) out o\n",
      "Error processing prompt '手淫的危害是什么，详细病情及咨询目的：手淫本次发病及持续的时间：1 年目前一般情况：夜尿频，每晚四五次，无滴白尿痛感，无分叉，B超检查过前列腺，好象说是正常。射精后夜尿次数明显增多。且此后四五天都是如此。一直在治疗，无甚效果。该补肾还是治前列腺呢？第一次问题补充：现在我弄不清楚是前列腺问题还是肾虚问题，如果十天左右不刺激不勃起不充血，夜尿明显减少到两次左右，前': list index (0) out o\n",
      "Error processing prompt '解脲支原体感染治疗期间症状？我前些天去检查了支原体，结果显示支原体阳性，怎么办？': list index (0) out o\n",
      "Error processing prompt '来月经时第一天肚子很疼走路还不稳还吐': list index (0) out o\n",
      "Error processing prompt '我从一开始来月经就不正常，最近想要孩子但是一直没怀上，但是有一个月我去测过排卵，但是我是来玩事第十几天去测的，当时卵泡最大的才0.9': list index (0) out o\n",
      "Error processing prompt '最近我的症状是赤白带、崩中、白带，有什么中药可以建议吗？': list index (0) out o\n",
      "Error processing prompt '该怎么治早期输卵管积水？，输卵管积水已经有很多年了，期间也一直都在治疗，现在年纪慢慢大起来了，希望尽快有一个自己的孩子，所以很着急，请问：该怎么治早期输卵管积水？': list index (0) out o\n",
      "Error processing prompt '轻度宫颈粘连症状': list index (0) out o\n",
      "Error processing prompt '月经量越来越少是怎么回事，闺蜜用了布经草中药热敷包很有用。': list index (0) out o\n",
      "Error processing prompt '输卵管积水一般会是怎么样治的呢，我去年结的婚，最近总是肚子小腹疼痛，尤其是来事那几天，很害怕影响生育，而且十分的怕冷，怕寒。请问患有外阴白斑该如何治呢输卵管积水一般会是怎么样治的呢': list index (0) out o\n",
      "Error processing prompt '我以绝经五年了，最近白带不多非常少，淡黄色，无味，有点粘，是不是有问题。': list index (0) out o\n",
      "Error processing prompt '大夫您好。我是检查出来感染了hpv16.39.52，我曾经和老公口过，会不会口腔也会感染，还担心，口腔下壁最近出现了好多小红疹子': list index (0) out o\n",
      "Error processing prompt '阴道出血在经期和非经期有何区别，对于症状较轻的女性应该选择哪种治疗方式？周期间性出血的原因及最佳治疗方式': list index (0) out o\n",
      "Error processing prompt '月经来了，能不能做跳绳和跳远的运动。马上体育考试能参加吗？如果强行参加考试会造成什么后果。': list index (0) out o\n",
      "Error processing prompt '推荐一种中药，治疗肺失肃降。': list index (0) out o\n",
      "Error processing prompt '肛门附近长了个小东西还有一个类似息肉一样肛裂半个月现在好了一些里面还能看到一个小白色类似口腔溃疡一样': list index (0) out o\n",
      "Error processing prompt '我14号来完例假的，20号晚上十点左右进行了一次，但是体外射精，第二次有一点射进去了，第二天早上做了一次，体内射，事后不到两个小时吃了紧急避孕药，还会怀孕吗，怀孕几率大嘛': list index (0) out o\n",
      "Error processing prompt '想用个延时产品，诺瑞玛哥们说用者不错，就像问问延时喷剂都有哪些功效': list index (0) out o\n",
      "Error processing prompt '使用以下避孕措施是否会引起妇科炎症？节育环': list index (0) out o\n",
      "Error processing prompt '三十七天了下面还是有血一般什么时候才会干净，是不是冷的东西吃了下面不干净的啊': list index (0) out o\n",
      "Error processing prompt '感觉阴道多了块肉？会不会是子宫下垂如果是怎么办？': list index (0) out o\n",
      "Error processing prompt '同房后出血是什么问题，我十月、十一月经期都长达十几天，吃止血药好了。到医院医生也说不出为什么，让连续三个月状再去看。结果同房后出血，请问是什么问题？急盼回复，谢谢！第一次问题补充：医生请帮忙尽快回复。谢谢！另明年想要孩子，这种情况可以吗？': list index (0) out o\n",
      "Error processing prompt '怀孕期44天，怀孕时还可以做爱吗？如果怀孕时做爱，会不会有危险': list index (0) out o\n",
      "Error processing prompt '白带常规检查注意什么': list index (0) out o\n",
      "Error processing prompt '第一次的时候没有血也是不很疼，可是他已经进去了，我之前不知道处女膜的位置以为在很里面，现在才知道就在外面的1-2cm，那么我这种情况到底是怎么样呢': list index (0) out o\n",
      "Error processing prompt '做完睾丸活检手术后，几天可以上班。有什么要注意的事项。。。。。。。': list index (0) out o\n",
      "Error processing prompt '最近这段时间经常会出现外阴瘙痒的情况，我仔细的看了一下是外阴，长了一些白色的斑块，而且分泌物也比较多，到医院进行了检查，医生告诉我是外阴白斑的疾病，我现在特别的担心我想要了解一下外阴白斑的治疗。': list index (0) out o\n",
      "Error processing prompt '怀孕期间得了霉菌性阴道炎，会对胎儿造成脑积水吗？七个月检查说有点脑积水，是因为霉菌性阴道炎导致的吗？': list index (0) out o\n",
      "Error processing prompt '前几天我去做妇科检查，医生说我患有宫颈息肉，但是我一直没有感觉自己得病，请问，宫颈息肉的症状都有哪些.': list index (0) out o\n",
      "Error processing prompt '治疗早泄要花多少钱，我现在和老婆做爱的时间越来越短，以前一直都在10分钟以上，现在基本都不到2分钟，治疗早泄要花多少钱？': list index (0) out o\n",
      "Error processing prompt '咨询一下阴道炎怎么回事，身体一直不是很好，最近几个月白带增多，伴发阴部瘙痒，常有阴道烧灼感、疼痛，有时还可反复出现尿频、尿痛、排尿不适。去医院仔细检查说是性阴道炎，对于这个不是很了解。性阴道炎症状有哪些？': list index (0) out o\n",
      "Error processing prompt '半月前尿频小便次数腰酸背是痛，前列腺炎会影响性功能吗你们怎么治疗': list index (0) out o\n",
      "Error processing prompt '宫颈检查，细菌细泡检查，hvp高危性直检查': list index (0) out o\n",
      "Error processing prompt '痔疮，屁眼外面周围有肉，跟随屁眼张开张开，便后擦屁股有血，会疼痛。': list index (0) out o\n",
      "Error processing prompt '我在五月31号同房后吃了紧急避孕…五月例假大概九号十号来的，然后这个月六月11号和男友同房他带了套但是我总感觉有东西流出来…但是他说套没破…也带好了…这样会不会怀孕…': list index (0) out o\n",
      "Error processing prompt '深圳哪里看男科比较好，性生活时间很短，进去后不到一分钟就射精，但是稍事休息接着第二次时间30多分钟射。勃起还好，硬度也很好。': list index (0) out o\n",
      "Error processing prompt '有轻度宫颈糜烂还感染了HPV39，53，81该用什么药治疗啊': list index (0) out o\n",
      "Error processing prompt '外痔疮怎么治好': list index (0) out o\n",
      "Error processing prompt '我现在子宫里面没有孕囊19号做了HCG在检查是4520号截止20hcg是50医生开了米非司酮60粒24号检查hcg280今天见26号检查要去hcg489': list index (0) out o\n",
      "Error processing prompt '做完爱阴道出血该怎么治疗，产后做完爱阴道出血化验、检查结果：不要曾经的治疗情况和效果：没治疗是什么病': list index (0) out o\n",
      "Error processing prompt '最后一次月经是四月20几，具体不记得哪天了，6月19b超显示怀孕6周五天，是五月7号怀上的吗？可是那次是体外射精啊': list index (0) out o\n",
      "Error processing prompt '过度手淫导致的阳痿早泄，尿频尿急尿不尽，还有点性冷淡，勃起硬度不够时间短，可以治愈吗？': list index (0) out o\n",
      "Error processing prompt '我一年前就有脱肛了，而且不能自动收回，需要手帮助收加，一般不便血，不痛。': list index (0) out o\n",
      "Error processing prompt '最近两个月发病，下唇部有一个像小菜花是的部分，颜色略发黑时痒时痛': list index (0) out o\n",
      "Error processing prompt '以下物质是什么？甘露醇': list index (0) out o\n",
      "Error processing prompt '你好，检查出有霉菌性阴道炎，医生开的克霉唑栓，上克霉唑栓的时候出血是怎么回事？继续上药还是停药？': list index (0) out o\n",
      "Error processing prompt '我的性生活时间有点短，总是觉得控制不住想射精，短时也就七八分钟左右，长时十一二分钟，晨勃还没有问题，就是工作累时偶尔没有，大约有一年左右了': list index (0) out o\n",
      "Error processing prompt '外阴瘙痒会不会交叉感染，外阴瘙痒去皮肤科仔细检查，支原体衣原体和HPV采样，会不会交叉感染，仔细检查完医生说他们主要看性病的': list index (0) out o\n",
      "Error processing prompt '包皮过长有什么害处？我想问一下包皮过长会有什么危害。请问包皮过长会有什么危害，治疗的吗，费用多少，对ML有影响吗，第一进去不成功，是不是因为这个过长。每次以为是进去了，后来却不是，是包皮翻上来的感觉。': list index (0) out o\n",
      "Error processing prompt '检查精子的成活率要禁欲几天': list index (0) out o\n",
      "Error processing prompt '引产第15天基本上没什么了，可是今天怎么又有血了，想知道是不是来月经了？': list index (0) out o\n",
      "Error processing prompt '男性女性化是什么意思？是否以后就不能房事或没有精子了吗？': list index (0) out o\n",
      "Error processing prompt '女性结扎手术影响衰老不': list index (0) out o\n",
      "Error processing prompt '女15岁昨天和男朋友爱爱的时候没有带TT，没有内射而且射出来的好像也不是精液是纯透明的，前天刚刚吃的舒婷避孕药，会不会怀孕啊！！！': No candidates return\n",
      "Error processing prompt '你好，我想问一下我4月25的来月经，5月没来我就试了一下结果有怀孕，可是今天会有咖啡色的血怎么办': list index (0) out o\n",
      "Error processing prompt '包皮过长怎样治疗较有效？，说起来挺不好意思的，我的阴茎有点短小，而且和女朋友爱爱时也没有那种性快感，我感觉可能是因为自己包皮过长导致的，所以就想去做手术，请问：包皮过长怎样治疗较有效？': list index (0) out o\n",
      "Error processing prompt '如果我的父母突然窒息，请问应该做些什么呢？这可能是因为哪些原因造成的？': list index (0) out o\n",
      "Error processing prompt '请问小便带血并且刺痛是怎么回事，好几次同房过后上厕所特别疼，出现有两三次了。现在都不敢同房了？': list index (0) out o\n",
      "Error processing prompt '通常情况下男方不孕不育检查项目有哪些？，和妻子结婚已经很多年了，没有采取避孕措施，但是一直没有孩子，去医院检查出我患病，请问通常情况下男方不孕不育检查项目有哪些？': list index (0) out o\n",
      "Error processing prompt '请问一下感觉乳房整个都硬硬的，前一个月检查又说没问题，而且乳头小，是怎么回事？乳头有内陷，洗澡时，水温高一点，刺激到了就凸出来，但乳头很小': list index (0) out o\n",
      "Error processing prompt '小孩睾丸不下来怎么办': list index (0) out o\n",
      "Error processing prompt '绝经期子宫内膜0.9cm注意什么，医生你好，我52岁，女绝经期，子宫内膜0.9cm，盆腔积液，白带增多泛黄，小腹坠痛，请问绝经期子宫内膜0.9cm注意什么': list index (0) out o\n",
      "Error processing prompt '这两天我的私处好痒，而且还有疼痛感，我买了私处清洁用品来用，但是还是没有什么效果，这是怎么回事啊？': list index (0) out o\n",
      "Error processing prompt '十多岁的女生第一次会不会怀孕？吃避孕药有没有用？': list index (0) out o\n",
      "Error processing prompt '我想请问下，我患的逆行射精应该怎么处理？': list index (0) out o\n",
      "Error processing prompt '蛋下垂，性生活时间不长，请问这是什么原因': list index (0) out o\n",
      "Error processing prompt '刚开始龟头瘙痒，后来去洗了一次澡，接着就不是很痒了，现在也不太痒了，可是总看着有点发红，请问医生这是什么症状，需不需要吃消炎药？': list index (0) out o\n",
      "Error processing prompt '每次来月经还算准时，前两天量特别大，之后就很少了，只是一直淋漓不尽，一直持续半个月左右，想问一下这到底是什么原因引起的，还有怎么治疗？谢谢': list index (0) out o\n",
      "Error processing prompt '维D2果糖酸钙注射液的副作用（不良反应）': list index (0) out o\n",
      "Error processing prompt '我8月20号来的月经，24.26.28号和情人做爱很多次都进去了，9月2号和老公同房事后一个小时吃了紧急避孕药了，月经周期是25天，二个月检查的时候说孕囊偏大受孕早，我也不知道孩子是谁的几率大': list index (0) out o\n",
      "Error processing prompt '经期没完全干净就同房，一个晚上之后阴道口出现黄白黏黏的东西，感觉没什么味道，不知道算不算是白带异常，还是什么病？有时候稍微感觉有一点点痒': list index (0) out o\n",
      "Error processing prompt '13号用可丽蓝测出怀孕2-3周，可是最近两天老是偶尔有褐色分泌物流出，还没有去医院检查，这是不是流产了？是怎么回事呢？我该怎么办？': list index (0) out o\n",
      "Error processing prompt '我最近发现自己绝经己两年，近一个多月来，发现内裤有黄色(类似尿液)颜色的分泌物，请问这种分泌物有什么问题？': list index (0) out o\n",
      "Error processing prompt '我肛周脓肿引流术做了至今16天了，目前刀口还有一条缝，引流条也不再塞了，当时还输液9天消炎，现在每天高锰酸盐坐浴，刀口有些水肿，医生又开了口服的消炎药吃一周。不知我这种情况形成肛裂的可能性大吗？如何养护最好不形成肛瘘？': list index (0) out o\n",
      "Error processing prompt '我每次月经都提前5天，这次19号来的，中午有点红的，一直到现在都不见红的了，然后我的下面瘙痒痒痒的，能不能用红核妇洁洗液？这个原因是不是我来月经期间老公强迫做的原因，那我怎么做能让月经来，平常都是7天，可是就一天就没有了，请问医生我该怎么办？': list index (0) out o\n",
      "Error processing prompt '精子少怀孕机会大不大，本人最近不知道怎么回事下体特别不舒服，而且也不晨勃了，请问精子少怀孕机会大不大': list index (0) out o\n",
      "Error processing prompt '我得了外阴白斑，有破裂现象，晚上奇痒，不断扩大，例假前厉害。我想知道是否可以去门诊就诊，是否需要收拾？': list index (0) out o\n",
      "Error processing prompt '解脲支原体为阳性怎么治？解脲支原体呈阳性，治疗过一次，好了之后没多久又复发了。': list index (0) out o\n",
      "Error processing prompt '怀孕五个月了就不可以有性生活吗，有了下面就会感觉有点痒吗，这样情况有三天了，这对宝宝有影响吗，这是一种病吗，会不会一直下去，我该怎么办': list index (0) out o\n",
      "Error processing prompt '你好我以前来月经时间一直不是很正常最近一年刚刚开始有规律但是不管怎么样都是量多颜色正常且持续7到8天，只有一点点反应比如腰酸轻微的痛经什么的这个月的确是按时来了现在第三天但是都是很少一点点褐色然后身体十分的虚弱头晕眼花浑身发冷喝了三天红糖生姜水也没什么用。性生活这个月基本带套不过也有体外射精的紧急避孕药大概在三月底四月初服用过一次。想问一下有可能是怀孕嘛？还是什么其他的病症？': list index (0) out o\n",
      "Error processing prompt '我现在是中学生，以前从来没有过痛经，这次不知道怎么回事挺严重的疼的出冷汗还有呕吐，再说怎么回事啊？': list index (0) out o\n",
      "Error processing prompt '请医生给出以下妇科常见疾病的药物建议及使用方式。宫颈癌预防药的使用方法以及使用年限。': list index (0) out o\n",
      "Error processing prompt '有半年了3度，其它没有别的病，我身体一直都很好，请问郑医生我的重度宫颈糜烂能跟治好吗': list index (0) out o\n",
      "Error processing prompt '大夫，我女朋友月经是5.19-5.25结束的，30号我们做爱了，带了安全套，但是射精比较多，又动了几下，没有及时拔出来，之后发现床上有类似精液的东西，很担心是从根部外溢，现在6.22号了月经还是没来，女朋友不想试纸，现在很担心会怀孕': list index (0) out o\n",
      "Error processing prompt '我还没结婚现在的工作是印刷请问做这工作会对要孩子有影响吗？': list index (0) out o\n",
      "Error processing prompt '主要病症：手淫高潮后无精子射出发病时间：昨天过去病史：无，请问我这是什么病，戒掉后会恢复吗': list index (0) out o\n",
      "Error processing prompt '我已经生过二个小孩子了，打胎两次，上环多年，现在取环好几个月了，取环后月经就一到两天就没有了，我到医院做过B超，尿检，防癌检查，都没有什么问题，': list index (0) out o\n",
      "Error processing prompt '请问使用天南星对哪些疾病有疗效？': list index (0) out o\n",
      "Error processing prompt '我前两天洗澡的时候发现生殖器上面长了小红点，很是搔痒难受，去看医生，检查说是尖锐湿疣，需要马上治疗才好。': list index (0) out o\n",
      "Error processing prompt '我今年十六，每个月会有三到四次手淫，这样对身体有什么影响吗？': list index (0) out o\n",
      "Error processing prompt '孕期盆腔炎痛怎么办': list index (0) out o\n",
      "Error processing prompt '大便有血，跟针管喷似的，我以经做过两次手朮了，都是用皮巾拴的，现在又范了请问马应龙与肛泰同时用行吗？不想老做手术了，用以上两种药物多长时间能见效？谢': list index (0) out o\n",
      "Error processing prompt '前列腺增生病症的治疗方法有哪些？': list index (0) out o\n",
      "Error processing prompt '医生您好我今年21岁这个月月初和男朋友发生关系我是第一次男朋友不是第一次但是他说跟我做的时候下面会痛是为什么呢之前他有过性行为但是没有痛过是我的问题吗': list index (0) out o\n",
      "Error processing prompt '关于下列性健康问题，请医生提供咨询。无法达到高潮。': list index (0) out o\n",
      "Error processing prompt '小腹疼，有点像大姨妈来的那种疼，大姨妈延迟12天了，请问一下是什么原因勒': list index (0) out o\n",
      "Error processing prompt '这几天由于肠胃引起的感冒，拉肚子，然后拉了两天，菊花为什么肿起来了？': list index (0) out o\n",
      "Error processing prompt '请简单解释一下乌头毒素的毒理作用。': list index (0) out o\n",
      "Error processing prompt '九号来月经十三号已完，二十九号晚上桐房但有带套会不会怀孕呢？': list index (0) out o\n",
      "Error processing prompt '肛裂引起的肛周脓肿，做了引流术后形成肛瘘的几率是多少？': list index (0) out o\n",
      "Error processing prompt '男性阴囊长出红疹疙瘩是什么病？这样的情况是不是性病啊，严重吗，很纠结呢，想请医生帮我看看！': list index (0) out o\n",
      "Error processing prompt '在不，我现在在哺乳期，乳房一大一小，大的一侧有时猴奶多憋胀的疼痛也挤不空是什么原因啊？': list index (0) out o\n",
      "Error processing prompt '该怎么治疗尖锐湿疣能彻底治好啊？我也是最近才检查确诊的，想问问医生怎么治疗尖锐湿疣能彻底治好啊？': list index (0) out o\n",
      "Error processing prompt '我最近出现了一些症状，想向您咨询一下。昨天是月经第一天，量少，只有红色的血块，然后和男友同房，戴的小雨伞，同房后到今天没有经血，并且小腹疼痛。我该吃什么药或者怎么办？': list index (0) out o\n",
      "Error processing prompt '请推荐一种中药治疗疫毒内盛证。': list index (0) out o\n",
      "Error processing prompt '已经连续好几个月了，一直都有大姨妈，也不多，但是每天都有，太烦人了，和男朋友分手也快三年了，最近几个月才有这种情况，吃什么药能止血啊，月见草和蔓越莓这些都有用么': list index (0) out o\n",
      "Error processing prompt '阳痿早泄有手淫腰酸病肾虚怎么治疗我好些年': list index (0) out o\n",
      "Error processing prompt '精液不液化的原因，医生你好，你能告诉我精液不液化的原因吗？自从医生给我说我是精子不液化我就很是费解，不知道怎么办，我平时偶尔喝酒抽烟，但是也不可能是这个病，你能告诉我这是什么原因吗？精液不液化的原因': list index (0) out o\n",
      "Error processing prompt '我2天性交3次吃紧急避孕药有用吗？只吃一次就行？不会怀孕吧，心里有点担心': list index (0) out o\n",
      "Error processing prompt '肉毒中毒的病因是什么？': list index (0) out o\n",
      "Error processing prompt '45天胸不胀痛了，流的褐色东西是怎么回事': list index (0) out o\n",
      "Error processing prompt '尿路感染的病因是什么？请描述尿路感染的病因': list index (0) out o\n",
      "Error processing prompt '月经来了同床会有什么样的后果，会不会有什么病，以后会不会有什么影响': list index (0) out o\n",
      "Error processing prompt '龟头有小肉粒不痛不痒是什么': list index (0) out o\n",
      "Error processing prompt '我有宫腔粘连3和盆腔粘连III的问题，想咨询一下是否需要做宫腔镜手术。': list index (0) out o\n",
      "Error processing prompt '我一直都想要个二胎宝宝，尤其自己的年龄限制一直都怀孕不上的，昨天在医院做了输卵管造影发现我的输卵管粘连了。': list index (0) out o\n",
      "Error processing prompt '经量少影响怀孕吗？，请问我这一年来每次来月经时经量都很少，就第二天多点，第四天就感觉护垫有一点点粉红，四天结束（以前一二三天都很多，六天结束），这影响怀孕吗第一次问题补充：大概有一年了，我每次月经来前一周，我的乳房就涨痛的厉害，不能碰（以前从没有），请问这要紧吗？还有如何检查输卵管是否堵塞？': list index (0) out o\n",
      "Error processing prompt '你好，我是前列腺炎患者，4年了，就尿频，最近勃起有障碍，没有晨勃了，怎么办，和前列腺炎有关系吗': list index (0) out o\n",
      "Error processing prompt '最近一次来月经之前流出了很多咖啡色的东西，而且第一天的时候量还特别的少，每次上厕所一擦的时候都是咖啡色，过了一天之后才见到红色的，这次月经推迟了几天，还轻微的伴有小腹疼痛，朋友说咖啡色是正常的，可是我以前没有这个症状，这是第一次发现的。': list index (0) out o\n",
      "Error processing prompt '安全套的研究有哪些？请描述安全套的研究': list index (0) out o\n",
      "Error processing prompt '宫颈湿疣的预防措施有哪些？': list index (0) out o\n",
      "Error processing prompt '性生活太频繁，激烈也会得生殖器毛囊炎么？': list index (0) out o\n",
      "Error processing prompt '昨天找了个朋友戴了安全套几分钟完事他没有帮我口添也没有任何接触就那几分钟传染几率大不大？': list index (0) out o\n",
      "Error processing prompt '盆腔炎好治疗方法是什么，我今年25岁，已婚，有性生活，没怀上过，在2009年当时也是刚刚破身之后觉着下面不舒服，就到医院仔细检查妇科医生说有盆腔炎，09年还做了利普刀手术，现在每次月经完干净过了几天就已经开始再次出现极少量血，但是又用不着带卫生巾，不过把内裤搞的很脏这样的情况持继十几天就好了，直到他今天在一次去医院仔细检查我以为是月经不调，现在仔细检查又有盆腔炎，在乎怎样的帮助：不想得妇科疾病': list index (0) out o\n",
      "Error processing prompt '我是在上个礼拜，去红灯区找了个朋友解决了生理需求。然后这几天突然发现自己的生殖器有些不大对劲，因为我的龟头总是红红的，很疼，而且我开始尿频，总想尿尿，我怀疑是梅毒。': list index (0) out o\n",
      "Error processing prompt '同房一周了，但有一次没做措施，但没射进去，现在小腹很痛，前两天下边流血了，很少，月经推了一周，今天早上用试纸测的是一条杠，怎么回事，肚子疼几天了怎么治': list index (0) out o\n",
      "Error processing prompt '4月2号来的月经，4月24号卵泡监测19*19,4月25号卵泡监测已经排了，内膜10，4月11号医生开了丹七，服用到今天，4月25号又开了还少，丹七和还少能同时服用吗，治啥的？': list index (0) out o\n",
      "Error processing prompt '阴道炎和盆腔积液，治疗好长时间一直都治不好，，，医生说阴道炎不严重过氧化氢和白细胞酯酶是-其他的都和参考范围一样积液是1.9乘1.4': list index (0) out o\n",
      "Error processing prompt '我三月有四十天没有来月经就到医院去检查了，没有什么问题，医生就给我开了地屈孕酮片吃了七天，停药三天来了月经，颜色经量都很正常，开始四月不到二十天就来了，这次也是半个月就来了，而且经量非常少，颜色也很淡': list index (0) out o\n",
      "Error processing prompt '感觉像包皮龟头炎，；但自己又不确定，龟头上冠状处都有颗粒好像，包皮也感觉像变厚了，，现在有干燥脱皮现象': list index (0) out o\n",
      "Error processing prompt '男朋友在我阴道口想试试进不进去，结果蹭了好久进不去，射了，一部分射在床上，一部分射在下面，但我不知道有没有流进去，就赶紧爬起来拿喷头冲洗，不知道这样会不会怀孕，急': list index (0) out o\n",
      "Error processing prompt '女朋友5月27号来的月经，6月3号女朋友说还没有完全干净，没有血就一些褐色液体，带套同房有没有关系，一周后女朋友说又流了一些类似月经的东西但是不多，2天左右就没了，可是这几天就发烧感冒了肚子疼，跟那天同房有关系吗？会不会得什么病，应该不会怀孕吧': list index (0) out o\n",
      "Error processing prompt '20岁了，阴茎如何增大，可以食疗吗或者运动': list index (0) out o\n",
      "Error processing prompt '我今天为止吃了五天六味地黄丸，下个月初5号左右是排卵期，想怀孕可以吗？': list index (0) out o\n",
      "Error processing prompt '老公带我去检查，结果是衣原体感染，感觉影响不大，怎么别人说的那么严重，妇科衣原体感染的危害大吗。': list index (0) out o\n",
      "Error processing prompt '医生你好，我是一个还有半个月到预产期的孕妇，但是最近几天感觉痔疮很严重，会不会影响顺产呢？只有十几天时间了有没有什么办法缓解痔疮的': list index (0) out o\n",
      "Error processing prompt '因为我阴唇的形状不是让我特别满意，所以最近这段时间我想要去做一个阴唇整形手术，对于这种手术我是非常重视的，': list index (0) out o\n",
      "Error processing prompt '前几天检查hpv53tct正常，中度炎症无症状，我想问传染吗？如果传染怎么防止传染给孩子，和老公': list index (0) out o\n",
      "Error processing prompt '男性睾囊刺痛是怎么回事啊，前天开始疼的，感冒过后就这样了': list index (0) out o\n",
      "Error processing prompt '我是5月四号来的月经，十号走的月经，二十多号跟我男朋友在一起内射的，具体那一天不清楚了，6月一号下午又跟我男朋友在一起也是内射的，6月的1号上午，和6月四号，和6月七号跟我前男友在一起也是内射的，现在月经还没来，昨天买了试制测的没怀孕，我想请问我这么个情况会是怀孕了吗？如果是怀孕了那孩子是谁的': list index (0) out o\n",
      "Error processing prompt '性爱，为何和我老婆初次性交时，我阴茎会流血呢？?': list index (0) out o\n",
      "Error processing prompt '我想问一下我最近的症状，可能是什么引起的。我有勃起不坚的情况，同时有分泌物引起的瘙痒感。这种情况应该怎么处理？': list index (0) out o\n",
      "Error processing prompt '72小时之内吃了一片避孕药怎么办，我在72小时之内吃了毓婷的第一片可是过了16个小时': list index (0) out o\n",
      "Error processing prompt '肛门灼热疼痛怎么办，肛门有灼热感。特别痛。每次排便都不敢用手纸擦': list index (0) out o\n",
      "Error processing prompt '药流流不干净最明显的表现': list index (0) out o\n",
      "Error processing prompt '宫颈性不孕具体要怎么检查，三年不怀孕了，多次的检查都是宫颈性有不孕了，宫颈性不孕具体要怎么检查': list index (0) out o\n",
      "Error processing prompt '21号做的人流，人流前有阴道炎症，上了三天药才手术，后来一直清水洗下体，有几天用专用的小盆洗的，术后4、5天还没有痒的症状，最近开始才有，伴有褐色黄褐色液体，无异味，术后11天还留这些正常么？另外想问问会不会影响术后恢复，会不会引起宫腔粘连后积液等疾病？谢谢': list index (0) out o\n",
      "Error processing prompt '阿司匹林治疗感冒发热时，有哪些使用限制和可能的副作用？发热，感冒。': list index (0) out o\n",
      "Error processing prompt '颈糜烂2度严重吗？，您好医生我的病情严重吗？因为是专业术语我们普通百姓不懂！除了上栓剂最好多长时间上一次，在月经前还是后，上要期间可以同房不？': list index (0) out o\n",
      "Error processing prompt '想请问一下男性精子活力低能治疗吗，到医院检查，已经吃了半年大夫开的药，吃了也没有好转，我想知道到底能不能治疗？': list index (0) out o\n",
      "Error processing prompt '如何减轻痔疮引起的不适感？按压肛门部位': list index (0) out o\n",
      "Error processing prompt '性欲亢进的预防措施有哪些？': list index (0) out o\n",
      "Error processing prompt '男的淋病严重么': list index (0) out o\n",
      "Error processing prompt '昨天龟头和包皮系带连接处有些溃烂，是不是龟头炎？有异味': list index (0) out o\n",
      "Error processing prompt '医生，请问，如果还是处女，4月份第一支和5月份第二支子宫颈癌的针都打了，如果到了6月份可以和男朋友做爱吗？': list index (0) out o\n",
      "Error processing prompt '咨询一下无精症，有没有专门治这个的。去检查的时候医生让做试管婴儿，但家里人不同意做。': list index (0) out o\n",
      "Error processing prompt '下面症状需要进行哪些治疗措施？阴茎短小，不足10厘米': list index (0) out o\n",
      "Error processing prompt '龟头细菌感染会不会自愈': list index (0) out o\n",
      "Error processing prompt '我最近几个月觉得自己经期很不正常，有时候一个月来两次，月经量还有点多，有点会痛经，平时非经期的时候白带有点多，还会有点味道，我担心自己得了妇科病。': list index (0) out o\n",
      "Error processing prompt '非静脉推荐服用孕酮几片可以有效避孕？不想要怀孕，可以吃孕酮几片起到避孕的效果吗？': list index (0) out o\n",
      "Error processing prompt '月经提前几天来了，今天来月经也不多就是那种深红色。还带一块一块的脏东西？会有什么影响呢？': list index (0) out o\n",
      "Error processing prompt '小孩七岁半了，阴茎短小，五岁时做过包皮手术，后面去检查医生说是因为有点肥胖的原因，但是都过两年了吧，好像还没有长一样，非常担心，': list index (0) out o\n",
      "Error processing prompt '今晚塞甲硝唑发现阴道内有个圆圆肉肉的东西，我滴虫性阴道炎，今年32': list index (0) out o\n",
      "Error processing prompt '如何锻炼可以提供性功能呢，男，35岁，我性能能差，朋友说可以锻炼来提高性功能，请问；如何锻炼可以提供性功能呢': list index (0) out o\n",
      "Error processing prompt '痔疮什么样才好了，今天同房过了，会怎么样？': list index (0) out o\n",
      "Error processing prompt '四个月引产后二十天了，就最开始输了几天水后来吃了点头孢克肟分散片。就没有吃药了。现在觉得身体还好，昨天复查医生给我开了珍母口服液。需要喝吗？': list index (0) out o\n",
      "Error processing prompt '医生你好，我就是想问问？我做爱不多以后，一个星期左右就会有一次晚上睡着了以后遗精。这个正常吗？': list index (0) out o\n",
      "Error processing prompt '现在是月经的第三天，小肚子一直涨涨的，前两天也疼，但可以忍受，今天疼的真的忍不了，涨疼涨疼的，请问是怎么回事': list index (0) out o\n",
      "Error processing prompt '宫颈炎栓剂，医生，您好！我有宫颈炎，现在在用栓剂和洗液治疗，可以这二天发现有乳白色的膏状的东东从阴道排出，好怕怕呀！不知道是什么东西！请医生帮忙解答一下！': list index (0) out o\n",
      "Error processing prompt '我就是上个月去医院检查生殖器上的疙瘩，医生说的染上了尖锐湿疣了，当时就给我做的手术，但是现在还不到一个月就复发了，则么办？是咋回事呢？': list index (0) out o\n",
      "Error processing prompt '我一般3天一次，过后肚子不舒服身上发热，到底怎么了': list index (0) out o\n",
      "Error processing prompt '右边屁股疼怎么回事？弯下去就痛，就是连续痛个几天子': list index (0) out o\n",
      "Error processing prompt '你好！医生，那个我买邦尔洁清洗那个阴道，看了医生，白带化验出来没问题，但是医生建议我买来清洗一下，因为我白带很多，黄黄，就是想详细知道怎么使用？我24周了': list index (0) out o\n",
      "Error processing prompt '4月27来的例假，现在肚子这几天有同房，正在备孕，想知道做的排卵监测，什么时候可以同房': list index (0) out o\n",
      "Error processing prompt '医生，你好，我不小心在月经期间同房了，会有什么影响': list index (0) out o\n",
      "Error processing prompt '顺产7天感觉膀胱随时有尿意，尿尿时还有下坠感，好难受': list index (0) out o\n",
      "Error processing prompt '阳痿，勃起困难，下半身容易出汗。有时未进去就以射精': list index (0) out o\n",
      "Error processing prompt '你好，我14岁经常射精，精液好像快没了，呢如果我现在以后不手淫了，第二性征还会发育吗，我十分担心': No candidates return\n",
      "Error processing prompt '不知道怎么回事这个月来月经时头晕，肚子痛腰特别胀酸，以前没有这么痛胀过的，是什么问题呢？月经一般多有些谈，该怎么办？': list index (0) out o\n",
      "Error processing prompt '上一次来月经走后，过了俩个礼拜，乳房上面出现红血丝，还有疼痛感，我希望您帮我分析一下为什么会这样子，还有解决的办法': list index (0) out o\n",
      "Error processing prompt '请求医生推荐治疗痔疮带血、异物脱出、疼痛的方法。痔疮几年了，大便带血，最近有异物脱出，疼痛。': list index (0) out o\n",
      "Error processing prompt '我第一次打飞机会有事吗？会影响发育吗？要怎么办': list index (0) out o\n",
      "Error processing prompt '乳房及乳头痛疼怎么回事，和老公房事以后针扎般痛疼': list index (0) out o\n",
      "Error processing prompt '乳头内陷没长出来应该怎么办？，乳头在里面没长出来怎么办？': list index (0) out o\n",
      "Error processing prompt '男性不育症的原因有有什么，结婚好几年，一直没有孩子，去医院检查是男性不育，男性不育症的原因有有什么': list index (0) out o\n",
      "Error processing prompt '月经结束三天了，有一点点褐色的分泌物，和老公同房了，有什么后果啊': list index (0) out o\n",
      "Error processing prompt '慢性盆腔炎都有哪些症状，我想问下慢性盆腔炎的症状，因为想多了解一些妇科方面的技术。': list index (0) out o\n",
      "Error processing prompt '肛瘘挂线掉皮筋需要几天': list index (0) out o\n",
      "Error processing prompt '以前月经血量挺多，肚子疼半天，剩下的几天没有什么事。这次血量太少了，肚子偶尔会疼，腰也疼。': list index (0) out o\n",
      "Error processing prompt '我来月经同房了又吃了紧急避孕药现在月经9天了不没！我该怎么办': list index (0) out o\n",
      "Error processing prompt '患了我的阳痿应该如何治疗？，最近小便的时候，尿道很痛，在房事方面，很快就射精了，勃起的时间好呢短的，这种情况有一段时间了，觉着很烦，就去医院看了医生，医生说是阳痿早泄，患了阳痿应该如何治疗？': list index (0) out o\n",
      "Error processing prompt '盆腔炎是不是很严重啊？并发期是什么样的状况': list index (0) out o\n",
      "Error processing prompt '男性慢性淋病的护理是什么？': list index (0) out o\n",
      "Error processing prompt '最近两次姓生活后都是带血和血块，在县医院做泌尿系统的B超、肾功能和尿液化验都没有事': list index (0) out o\n",
      "Error processing prompt '月经不调医生开黄体酮胶囊和补佳乐还没吃完有点出血怎么回事': list index (0) out o\n",
      "Error processing prompt '我这几天乳房疼，有肿块，就去买了乳癖消胶囊和逍遥丸，吃后，乳头有点痒痒，还发红，，就一个乳房这样，是怎么回事': list index (0) out o\n",
      "Error processing prompt '今天上午，小腹突然特别疼，但是大约半小时好多了，这是怎么回事呢，快来大姨妈了': list index (0) out o\n",
      "Error processing prompt '拍片了以为是尾椎疼结果检查正常痔疮也检查了也没事但是好几天了不能座肛门右边甚的半个屁股都是疼的怎么回事啊': list index (0) out o\n",
      "Error processing prompt '得外痔后该怎么办？，我发现自己只要坐的久肛门就会出血，而且平时吃点辛辣的东西就火辣辣的疼，我去医院检查了，医生说我这个是外痔，请问：得外痔后该怎么办？': list index (0) out o\n",
      "Error processing prompt '我下体两侧有红肿，想请问可能是什么病情？': list index (0) out o\n",
      "Error processing prompt '我刚结婚老婆月经有十天没没来了。不知道是不是怀孕了。这期间可以同房吗？': list index (0) out o\n",
      "Error processing prompt '人流后12天突然小腹胀痛，手术后都挺好的呀，现在疼为什么啊': list index (0) out o\n",
      "Error processing prompt '女性，未婚，在月经期间肚子左边疼，但不是特别的刺痛，感觉像是输卵管的位置，请问是不是要怎么调理一下，': list index (0) out o\n",
      "Error processing prompt '自己结婚三年，自认为挺注意个人卫生的，可就是在备孕的时候发现自己得了宫颈炎，症状不是很明显，医生说不太严重能治愈，可是老公和自己都很注意个人卫生的呀。': list index (0) out o\n",
      "Error processing prompt '我去找过朋友，在那种地方的床单上躺过，如果回家洗澡的时侯把背上身上粘有艾滋病毒的水溅在牙刷杯子上第二天别人用的时候刷出血了会传染吗': list index (0) out o\n",
      "Error processing prompt '得了死精症应该怎么去治，直到今天妻子怀孕过两次，但都小产了。前几天，我去医院仔细检查，大夫说我得的是死精症，不知晓以后还能不能要孩子，很难过她再次小产。': list index (0) out o\n",
      "Error processing prompt '我想确认一下自己有没有感染艾滋病，没有过性行为，过去一年了': list index (0) out o\n",
      "Error processing prompt '与女性朋友只接吻，没有做别的，会不会的艾滋病，请医生帮我看看，今天第7天去做抗体检测合适么': list index (0) out o\n",
      "Error processing prompt '包皮过长的患者怎么治疗？，哪家医院包皮手术好？前不久我的老婆刚刚因为患上了疾病入院治疗到现在还没有治愈现在我又患上了包皮过长的疾我要怎么办才好。包皮过长的患者怎么治疗？': list index (0) out o\n",
      "Error processing prompt '包皮红肿期间遗精会加重病情吗，包皮红肿期间遗精会加重病情吗在乎怎样的帮助：包皮红肿期间遗精会加重病情吗': list index (0) out o\n",
      "Error processing prompt '精子不达标怎样治疗，我结婚四年了，一直没有小孩，检查结果：前列腺：白细胞+ +   脓细胞2—9h/n. 卵磷子+     精子检查：快速前向11.5%  慢速前向18.5% 其它都可以，医生说精子不达标可能由前列腺炎引起，请问还有什么原因可导致精子快慢速不达标？如何治疗？注：病毒检查呈阴性。': list index (0) out o\n",
      "Error processing prompt '大约十天左右，出看一不说是病毒性疱疹。买点药是阿昔洛韦片跟阿昔洛凝胶，刚三四天的时候见了效＼果。可过三四天又复发，求求我该怎么办': list index (0) out o\n",
      "Error processing prompt '该怎么治疗尖锐湿疣能够治好？我已经检查确诊了，想请医生帮我看看！': list index (0) out o\n",
      "Error processing prompt '解脲支原体能够自愈吗？附睾很痛，大腿内侧有灼热感，医生让我检查解脲支原体，结果为解脲支原体阳性。': list index (0) out o\n",
      "Error processing prompt '长时间按摩睾丸有什么害处': list index (0) out o\n",
      "Error processing prompt '人流一个月后来月经，量很多，肚子很痛，这是怎么回事': list index (0) out o\n",
      "Error processing prompt '泌尿系统感染怎么得的': list index (0) out o\n",
      "Error processing prompt '肛门外有两三个小肉疙瘩，是痔疮吗？不痛也不痒，大便有一点血，其余的没什么': list index (0) out o\n",
      "Error processing prompt '今天我去医院做检查，医生说我性激素六项查出我的雌激素分泌过低，出现卵巢早衰的现象。我现在特别的担心，害怕雌激素过少会影响我的日常生活，想知道是什么原因导致雌激素分泌不足的。': list index (0) out o\n",
      "Error processing prompt '前一月开始，夜尿多，老婆说过性生活多了。': list index (0) out o\n",
      "Error processing prompt '请问医生，白带太多了，有什么办法医，有药可以吃吗': list index (0) out o\n",
      "Error processing prompt '肛门潮湿，不痒，有红色斑，怎么医疗，吃什么药，': list index (0) out o\n",
      "Error processing prompt '请求建议采取何种避孕措施较安全可行？18岁，第一次要开阔视野，采取何种措施较保险？': list index (0) out o\n",
      "Error processing prompt '怀孕7个月确诊染上淋菌！距分娩还有2个月，如果痊愈了还会不会传染给胎儿': list index (0) out o\n",
      "Error processing prompt '最近宝宝在医院检查出来睾丸积液，想问一下小孩睾丸积液是怎么回事？': list index (0) out o\n",
      "Error processing prompt '2岁男童睾丸有多大，我今年36岁，最近感觉身体不舒服，白天的时候又时候头晕晕的，工作也影响了，晚上睡不着了就，我吃了药不太管用的啊，请问2岁男童睾丸有多大': list index (0) out o\n",
      "Error processing prompt '刚同完房就吃的紧急避孕药几天后的血是姨妈吗？': list index (0) out o\n",
      "Error processing prompt '治疗卵巢囊肿患者哪些方法好呢，我去年结的婚，最近总是肚子小腹疼痛，尤其是来事那几天，很害怕影响生育，而且十分的怕冷，怕寒。请问患有外阴白斑该如何治呢治疗卵巢囊肿患者哪些方法好呢': list index (0) out o\n",
      "Error processing prompt '输精管堵塞治疗的方法有哪些，我是家中的独子又是晚婚，所以结婚后家人就一直催着要孩子，我们也非常的努力着，可是就是没有动静，后来到医院里做了检查，发现是我的输精管不通造成的，这种病好不好治疗': list index (0) out o\n",
      "Error processing prompt '我感觉肛门时不时隐隐发痒，瘙痒不严重，非急性，拍照后发现有轻度的溃烂出血。可能是什么疾病？需要如何治疗？平时生活需要注意什么？有何治疗建议？': list index (0) out o\n",
      "Error processing prompt '来姨妈前胸有点胀痛，来了姨妈后也胀痛，小腹也痛，整个人都觉得好沉重的感觉，脑子也容易遗忘东西。': list index (0) out o\n",
      "Error processing prompt '我去年做过人流，今年又怀孕了，现在还是不想要、可以再做人流吗？下面有滴虫对人流有没有影响？': list index (0) out o\n",
      "Error processing prompt '姨妈走后想来一次结果我的没水怎么回事？：是我紧张造成的吗？他的后来也突然硬不起来我也是醉了怎么办？是心理因素吗？这': list index (0) out o\n",
      "Error processing prompt '肛门两边有痔疮，有时候痒，经常便秘，想拉拉不出来，要拉也要蹲厕所很久！肚子经常胀气，吃饭没胃口': list index (0) out o\n",
      "Error processing prompt '射精后阴道精液会大量流出怎么办，患者年龄：２２第一次问题补充：问题是每次他射精后，过一会就会有空气从我阴道出来，他射的精液也都会大量流出，而不是少量？我也知道少量是正常的，但是我感觉好像是全都流出来了？怎么办？谁能帮我解惑？': list index (0) out o\n",
      "Error processing prompt '我不知道怎么就感染上了尖锐湿疣，我是绝对没有外遇的，就是经常去上海出差而已，但是现在被告知感染上了尖锐湿疣了，咋办？': list index (0) out o\n",
      "Error processing prompt '白带检查出來阴道白细胞上升，没有其他的阴道炎，外阴红，阴道有热热的感觉。请问用什么药？': list index (0) out o\n",
      "Error processing prompt '你好医生我女朋友21我21女方子宫后位我们再排卵期的前几天进行了房事这样会怀孕么': list index (0) out o\n",
      "Error processing prompt '脱肛怎么办才好': list index (0) out o\n",
      "Error processing prompt '前几天发现冠状沟有小疙瘩，没有什么其他地方出现不好的症状，想问问医生会是什么病呢，怎么治比较好啊？': list index (0) out o\n",
      "Error processing prompt '支原体弱阳性您好，一周前与朋友同居，今天发现尿道有分泌物，伴轻微尿痛，经查有前列腺炎，支原体弱阳性想问下男性支原体弱阳性该吃什么药': list index (0) out o\n",
      "Error processing prompt '14岁，天天裸睡和不穿内裤加上增肌训练会使发育的更好吗？按摩睾丸时手的温度过高会使精子质量下降吗？': list index (0) out o\n",
      "Error processing prompt '昨天晚上一时冲动和朋友无套性交害怕传染艾滋病不会有事吧': list index (0) out o\n",
      "Error processing prompt '4月14号月经来4月30号性爱时体外射精会怀孕的机率有多大': list index (0) out o\n",
      "Error processing prompt '子宫内膜对女性有什么影响？老是感觉小腹疼，同房第二天很严重，去检查了说是子宫内膜炎，这病还有什么危害吗？': list index (0) out o\n",
      "Error processing prompt '网球肘怎么医': Timeout of 60.0s exc\n",
      "Error processing prompt '您好，请问我胃部有些不适，之前查胃镜出现了幽门螺旋杆菌、十二指肠溃疡和慢性胃炎糜烂。现在还在吃胃病的药（奥美拉唑）治疗，近期感觉咽喉有异物感，经过鼻镜喉镜检查，发现扁桃体有息肉，同时吃东西感觉梗，特别是吃药胶囊时特别明显，我很担心食道出现了问题，想请问是不是上次胃镜检查没有拍的清楚，导致食道长了什么？': Timeout of 60.0s exc\n",
      "Error processing prompt '你好！做亲子鉴定需要什么手续？鉴定报告多长时间能出来？': Timeout of 60.0s exc\n",
      "Error processing prompt '医生你好月经刚走一两天就啪啪处女膜坏了这样会怀孕吗？': list index (0) out o\n",
      "Error processing prompt '霉菌性阴道炎该如何正确治疗？，我经常会再次出现下边痒，严重时坐卧不安，总想用力去抓，但抓了以后又再次出现红肿，医生说是霉菌取了一周的药，但感觉效果不太好，您好用什么药效果最好': list index (0) out o\n",
      "Error processing prompt '我一亲戚今年26周岁，去年5月结婚至今未怀孕，男方是离婚的并已有一孩子。我那亲戚去医院多次检查过，每隔几个月就去检查卵泡，其疹断都是卵泡个数少。': list index (0) out o\n",
      "Error processing prompt '患轻微卵巢早衰如何治，患者女，目前闭经一年，去医院就诊检查得知是卵巢早衰，请问患轻微卵巢早衰如何治': list index (0) out o\n",
      "Error processing prompt '龟头上长满了小疙瘩': list index (0) out o\n",
      "Error processing prompt '请问，例假期间能吃排便的药吗？吃了对身体有什么不好的影响吗？': list index (0) out o\n",
      "Error processing prompt '为什么一行房过后第二天就来月经，这样会不会造怀孕': list index (0) out o\n",
      "Error processing prompt '请详细介绍以下医学术语的定义和应用。化疗': list index (0) out o\n",
      "Error processing prompt '支原体阴道炎病因是什么': list index (0) out o\n",
      "Error processing prompt '白带异味该如何治疗好一些呢，总是感觉自己的白带不正常，并且附带着气味，也觉得量也不一样，哪我这是什么情况，请问：白带异味该如何治疗好一些呢': list index (0) out o\n",
      "Error processing prompt '白带有点多，略微有点痒，查了白带，只有两项异样，白细胞酯酶两个加号，乙酰氨基葡萄糖苷酶弱阳性，请问我这是怎么了？': list index (0) out o\n",
      "Error processing prompt '卵泡1.7*1.6*1.2属于什么卵泡，昨天卵泡监测长到1.7*1.6*1.2请问这个卵泡多久会成熟啊': list index (0) out o\n",
      "Error processing prompt '33岁男性，从小胡须就少，而且喉结较小，皮肤白嫩，脚毛没有，一直勃起不好，最近晨勃也消失了，就做了激素六项检查，除了睾酮276偏低，其余都正常': list index (0) out o\n",
      "Error processing prompt '感染到hpv是什么原因引起的': list index (0) out o\n",
      "Error processing prompt '平时大便很少是为什么，最近不知道怎么回事肛门一直有脓水，而且还肿疼男人，好了一段时间就疼，请问平时大便很少是为什么': list index (0) out o\n",
      "Error processing prompt '前几天和老婆爱爱，昨天感觉生殖器那里又痛又痒的，今天发现有两个小黄色水泡，于是今天特意请假去看了男科，也做了检查，医生说是生殖器疱疹。': list index (0) out o\n",
      "Error processing prompt '上个月14号来的月经这个月11号和男友同房在体外射精会怀孕么？': list index (0) out o\n",
      "Error processing prompt '南昌包皮手术哪个医院好？南昌包皮切除手术多少钱？已经20多岁了，包皮很长，想去切包皮。从来没有到医院做过手术，有点蒙圈。我要准备什么还有注意什么，带什么东西？南昌包皮环切手术费用？': list index (0) out o\n",
      "Error processing prompt '先天性卵巢发育不全主要表现': list index (0) out o\n",
      "Error processing prompt '去医院检查到阴道炎但是好像感染了尿道。因为上厕所伴有血还尿痛但是下面不痒。现在这种情况怎么根治': list index (0) out o\n",
      "Error processing prompt '哪些方法治疗睾丸炎会有效果呢，昨天晚上洗澡的时候摸到自己的睾丸觉得有点疼，尽早起来好像有点发烧，下午就更严重了，我去医院检查了说我是得了睾丸炎，我真的非常担心，请问：哪些方法治疗睾丸炎会有效果呢': list index (0) out o\n",
      "Error processing prompt '肛门经常痒且干，今天清洗时发现个白色肉粒': list index (0) out o\n",
      "Error processing prompt '问输精管堵塞有哪些治疗方法？，你好，我和老婆同居多年还没有孩子，后来去医院一查，结果是我的输精管阻塞，当时没有要做手术，不知道都有哪些方法可以治疗该病啊？': list index (0) out o\n",
      "Error processing prompt '宫颈糜烂未愈，现有液体排出，感觉内裤有，尿骚味，怎么治，会是宫颈癌吗，需要手术吗，': list index (0) out o\n",
      "Error processing prompt '我到了很多医院查检过、吃过很多药、都无效果、后来到成都华西医院查检结果为、原发痛经、医生只开了一样药、吲哚美辛缓释胶囊、每个月来月经时、一天一次一颗、每个月都要吃三颗、吃了一二年了。': list index (0) out o\n",
      "Error processing prompt '阴道上皮内瘤样变的病因是什么？': list index (0) out o\n",
      "Error processing prompt '如果药流没留干净的话我想问一下都有什么症状？我该怎么办': list index (0) out o\n",
      "Error processing prompt '子宫和卵巢多大正常，本人下体特别痒，而且内衣上总是黄黄的，怎么回事？请问子宫和卵巢多大正常': list index (0) out o\n",
      "Error processing prompt '白带稀薄如水异味很重。对性生活得反感是怎么回事？来月经前后外阴痒是怎么回事？': list index (0) out o\n",
      "Error processing prompt '我的阴道口这几天突然长出了一些黄豆大的小包，一开始痒痒的，后来变得有些疼痛。而且这几天尿尿很频繁，没有喝多少水，还经常往厕所跑，尿尿还有点疼。怀疑是得了尖锐湿疣。': list index (0) out o\n",
      "Error processing prompt '每个月12号来月经，这个月月底同房会怀孕吗？麻烦帮我看看': list index (0) out o\n",
      "Error processing prompt '同房后出血会不会是怀孕初期症状28岁最近发现特别喜欢吃酸的': list index (0) out o\n",
      "Error processing prompt '怀孕25周，做过宫颈糜烂手术，现在有少量褐色分泌物，白带检查正常': list index (0) out o\n",
      "Error processing prompt '我最近尿道感染犯了好几次，今天又发作了，我想知道不吃药只靠喝水可以吗？还是要吃什么药？然后为什么会反复发作呢？谢谢。': list index (0) out o\n",
      "Error processing prompt '引起男性尿道炎的原因到底是什么，病情描述：引起男性尿道炎的原因到底是什么呢？曾经治疗情况和效果：引起男性尿道炎的原因到底是什么呢？想得到怎样的帮助：引起男性尿道炎的原因到底是什么呢？': list index (0) out o\n",
      "Error processing prompt '浓氯化钠注射液药理作用': list index (0) out o\n",
      "Error processing prompt '阴道两侧长了很多小疙瘩，用手一动还有点疼！都快一个月了！白带有点多，还痒！尤其是晚上痒得严重！': list index (0) out o\n",
      "Error processing prompt '月经周期25天。16年12月31号来月经6号干净9号和14号同房15号同房体外射精，现在怀孕。请问可能是哪天怀孕的': list index (0) out o\n",
      "Error processing prompt '我现在和男朋友同居中，之前有些阴道炎症，但是我一直没有很在意，前段时间白带开始带血，而且味道很重，有时候性交还很痛，去医院检查说有宫颈炎': list index (0) out o\n",
      "Error processing prompt '最近小腹感觉不舒服，刚开始以为是炎症，没想到过了几天更加不舒服，就想着可能是得了妇科病，去医院检查了，说可能是子宫内膜的问题，特备害怕是子宫内膜癌': list index (0) out o\n",
      "Error processing prompt '有时候会很严重托回去了还会出来。来姨妈的那几天出很严重。也不知道痔疮会不会影响月经。每次上厕所不会有便血。有时候一蹲下来也会出来一些。': list index (0) out o\n",
      "Error processing prompt '六周自然流产今天第二天还有点血正常吗？这样让它自己流能留的干净么？需要喝益母草么？': list index (0) out o\n",
      "Error processing prompt '您好：我家孩子今年13岁，小鸡还跟小时候一样很小，请问这是什么原因': list index (0) out o\n",
      "Error processing prompt '我和我女朋友在24号那天做的爱破处了，晚上我女朋友就发烧了，体温达到了37.7度，我想知道这可能是什么引起的？': list index (0) out o\n",
      "Error processing prompt '5月份打完胎，月经一直很混乱，七月份8号来的，八月份14号来的，九月份24号来的。到现在月经还没来，是怀孕了吗，小腹还有点隐隐作痛': list index (0) out o\n",
      "Error processing prompt '怀孕41天，孕囊和HCG都在下降，医生说有自然流产的迹象，开了米非司酮和益母草，头孢丙烯药。': list index (0) out o\n",
      "Error processing prompt '是包皮过长有什么危害吗？，从小尿尿的时候，就会滴滴拉拉的，还会起一些泡泡，在包皮里面有残存的尿液，气味很大，阴茎勃起的时候，龟头不能够自然现出来，去医院做了仔细检查，诊断我这是包皮过长，非常担心会有什么危害？': list index (0) out o\n",
      "Error processing prompt '如果有豆腐渣样的白带会自己排出来么？有什么症状，去了一个私立医院说我阴道里有脏东西非让我在她那里冲洗，可是我没有，随后我就去了正规三甲医院查说我有一点阴道炎让我每天坐浴就可以了。坐浴会出来脏东西么我自己坐浴4天了什么都没出来，我自己用一次性冲洗器冲洗的时候有一点絮状物，我想知道如果有脏东西，我坐浴和冲洗会出来么': list index (0) out o\n",
      "Error processing prompt '我感染尖锐湿疣，九月做了激光手术，10月30号做了梅毒艾滋血液化验，为阴性，我想问一下患了尖锐湿疣也会患梅毒吗，如果患了梅毒是不做了血液化验就能查出来': list index (0) out o\n",
      "Error processing prompt '你好，之前大腿内部有一点轻微擦，伤昨天和一陌生男子互撸了一管他还舔了我的乳头这样算高危性行为吗？需要吃阻断吗会得艾滋吗？': list index (0) out o\n",
      "Error processing prompt '月经来了快一个月了，一直不干净，也没有其他症状，这是为什么': list index (0) out o\n",
      "Error processing prompt '最近两天发现尿道口有水肿，就是早上上完大号以后，等一下，脱裤子发现尿道口肿了，像嘴唇一样，但是过了2小时左右就恢复了，是什么原因啊，只是在早上大便后会这样，而且最近2天才发现的。我24岁，没有什么不适感，要不是脱裤子看到了，都不知道': list index (0) out o\n",
      "Error processing prompt '怀孕六个月了我还是抽烟，请问宝宝畸形效率高低': list index (0) out o\n",
      "Error processing prompt '我老婆说性没感觉，说我不会刺激她，我不知道该怎么办？': list index (0) out o\n",
      "Error processing prompt '吸氧是否会对身体产生负面影响？': list index (0) out o\n",
      "Error processing prompt '前天洗澡发现阴茎体上有五至六个细小点'去医院查说可能是尖锐湿疣正在化验.以前没得过这病有点紧张请问医生该怎么治才能治愈？.': list index (0) out o\n",
      "Error processing prompt '头部阴部毛囊炎怎么办': list index (0) out o\n",
      "Error processing prompt '生殖器疱疹4月初初次发现，四月中旬治疗，方法是打了6天点滴，半导体激光每天照射一个小时，每天中药灌肠，最后一天又给我喷雾，然后打了封闭针，做完了这些又给我取了转基因子胶囊一个疗程的。': list index (0) out o\n",
      "Error processing prompt '这个月发生过几次性关系，然后来月经的时候阴道特别痒，月经好了以后白带多内裤都湿了，而且下面还是痒的恨，这个是怎么回事？': list index (0) out o\n",
      "Error processing prompt '孕期怀孕八个月阴部瘙痒红肿流黄水怎么办求药': list index (0) out o\n",
      "Error processing prompt '大姨妈是深褐色量少只是上完厕所有一点偶尔自己出一点是什么情况？持续了三四天之前没出现过这种情况。有吃过避孕药。跟这个有关吗？': list index (0) out o\n",
      "Error processing prompt '给以下症状提供治疗建议：阴唇上面有瘙痒抓破的地方有白泡': list index (0) out o\n",
      "Error processing prompt '请提供以下疾病的治疗方法：尿道炎': list index (0) out o\n",
      "Error processing prompt '从上个月开始，我的阴茎就长了好多小红点，疹子一样，颜色有点深，有点发痒，上厕所的时候会觉得有点痛，后来去医院检查出来说是尖锐湿疣。': list index (0) out o\n",
      "Error processing prompt '医生，你好，请问，哪些症状表示患了妇科病？': list index (0) out o\n",
      "Error processing prompt '性生活不足一分钟怎么办？自贡华新友好医院医生，我的情况已经出现很久一段时间了，就是每次过性生活的时候我最多就只能坚持一两分钟，然后就射精了！因为这个问题我老婆已经不是一次抱怨我了，请问这种情况能不能恢复呀？在哪里治疗会好一点呢？': list index (0) out o\n",
      "Error processing prompt '医生您好，我最近月经不调，经期退后50-60天甚至更久，我没有性生活，去B超检查显示内膜太薄，医生建议我使用人工周期调理，请问这是怎么回事呢？': list index (0) out o\n",
      "Error processing prompt '阴茎短，睾丸感觉也小是不是不正常，阴茎短，睾丸感觉也比别人的小，想变长一点儿，除了手术，喝药有什么办法，变长么': list index (0) out o\n",
      "Error processing prompt '输卵管伞端粘连怎么办，不治疗会不会怀孕，或者只吃药可以么，不想去医院治疗可以么，输卵管伞端粘连要怎么办比较好。': list index (0) out o\n",
      "Error processing prompt '不育是怎么才导致了？，一直没母乳喂养，从离婚后就已经开始努力要孩子了，可是这也有一年多了，老婆还是没怀上，老婆着急的自己去做了仔细检查，没什么事，忍耐说是我的问题，没想到我去一查，说是患不育症。不育是怎么才导致了？': list index (0) out o\n",
      "Error processing prompt '哺乳期昨天刚刚来的例假，晚上就感觉拉大便的时候有些疼痛，今天早上更厉害了，不过不拉粑粑的时候不疼': list index (0) out o\n",
      "Error processing prompt '白带是褐色的去医院检查了阴道分泌物什么都是正常的有少量的白细胞但医生说没有大问题，还是褐色的，怎么回事': list index (0) out o\n",
      "Error processing prompt '阴道炎服药觉得好了有必要继续服用吗？，我才又去医院仔细检查，才知晓没流干净，就又手术了一次。我个人觉着可能会是那段时间得的妇科病，这以后白带多有异味。这次的妇科病和上次的人流有关系吗？': list index (0) out o\n",
      "Error processing prompt '我老婆下面经常水湿湿的，请问用什么好，医生': list index (0) out o\n",
      "Error processing prompt '今天化验了白带常规，白细胞三个加号，白细胞酯酶阳性，过氧化氢阳性，PH值4.8，其他项全部是阴性严重吗，需要用药治疗吗？谢谢！': list index (0) out o\n",
      "Error processing prompt '请问需要患者本人出示哪些身份证件才能挂号？身份证/护照/临时居民身份证': list index (0) out o\n",
      "Error processing prompt '小阴唇囊肿，不痛不痒，请问手术会不会复发，做手术多长时间恢复，现在是备孕期间，没有小孩': list index (0) out o\n",
      "Error processing prompt '平常月经正常，就前二个月经没来，直段正月初八现了一点点，直到二十八，同房后白天五.六天来有少量血流出而晚上却没有': list index (0) out o\n",
      "Error processing prompt '前列腺炎和附睾炎的区别': list index (0) out o\n",
      "Error processing prompt '前庭大腺切除后对性生活有影响么？，岁22岁。今年7月月经完后行过房事发现阴部疼痛感，后来逐渐肿胀疼痛加剧，到医院检查才知道右侧前庭蘘肿，吃了消炎药打了几天点滴后来有用了阴道塞片，肿块消除也不痛了。10月初也是月经之后左侧开始肿痛，请问需要手术治疗么？如果切除的话对以后的性生活是否会有影响？费用高么？谢谢！': list index (0) out o\n",
      "Error processing prompt '有治疗早泄的好方法吗，我最近因为工作压力大，回来都没怎么和老婆同房，但是最近同房后才发现自己好象有早泄的现象了，有时候刚刚出去还没抽插就已经出的了，我很怕会影响我以后的受孕。': list index (0) out o\n",
      "Error processing prompt '月经刚干净检查看不到有宫颈息肉，但月经干净10天后检查又长出息肉，是怎么回事？息肉长出来就开始出血，一个月30天有20天都在出血。每个月都这样恶性循环有半年了，': list index (0) out o\n",
      "Error processing prompt '以下情况是否需要进行紧急避孕措施？具体有哪些方式可以选择？事后避孕': list index (0) out o\n",
      "Error processing prompt '导致阳痿早泄的原因是什么呢？，我有一个好朋友得了阳痿早泄，但是他现在年龄还不是很大啊，正是青年呢，不知道是什么原因得了阳痿早泄。我害怕我以后也会有这种情况，所以想知道原因才能预防。': list index (0) out o\n",
      "Error processing prompt '包皮过长术后要注意什么？，最近这段时间我有点阳痿早泄，包皮有点长，每次阴茎勃起的时候，龟头无法自己现出来，都要用手去拨一下，包皮里有残存的尿液，气味难闻，我就去做了包皮手术。怎么办？': list index (0) out o\n",
      "Error processing prompt '性功能障碍的高发人群是怎样的？，总是听说男的有性功能障碍。请问性功能障碍的高发人群是什么呢？': list index (0) out o\n",
      "Error processing prompt '我最近觉得白带增多了，颜色白的，经常觉得内裤湿湿的、黏黏的，很不舒服，但是我下体不痒，没有其他的症状，我担心这是患了阴道炎，感觉这样的白带很不正常。': list index (0) out o\n",
      "Error processing prompt '月经前两个星期会有褐色的白带出现，我是不是得了什么病啊？会对身体有很大的影响吗？原因是什么？': list index (0) out o\n",
      "Error processing prompt '我有一个想法就是我现在还是处男，我怕某天突如其来的灾难让我死的时候还是处男，我觉得这样很悲惨，可能是我太想要性生活了，当我看到一些新闻比如某某儿童死亡，我会觉得这个男孩死的时候还是处男，这样我就得到了安慰，这是什么情况啊': list index (0) out o\n",
      "Error processing prompt '医生我做痔疮手术已经43天了，昨天晚上吃饭不小心吃了点儿辣的很少，吐了点儿，今天早晨上完厕所肛门瘙痒，刚才我看居然有血，但很少，可能是因为最近压力大或者辣的吗？我该怎么办？': list index (0) out o\n",
      "Error processing prompt '围绝经期前后的外阴白色病变最好不要吃那些食物？': list index (0) out o\n",
      "Error processing prompt '以下药物会对患者治疗产生什么样的不良反应？同服珂珂酮的利尿剂': list index (0) out o\n",
      "Error processing prompt '化疗后7天肛门肿痛…排便的时候更厉害…是什么原因啊…怎么办上厕所疼的要命': list index (0) out o\n",
      "Error processing prompt '精液射出2个多小时了，怎么还未液化？现在和刚射出的，闻着看着摸着都是一样的，没有什么明显变化。正常的液化，是完全变成水样，没有一点粘度的吗？': list index (0) out o\n",
      "Error processing prompt '顺产之后就松弛了，怎么办呢？朋友都说用露卡菲娅好的': list index (0) out o\n",
      "Error processing prompt '你好，我的月经不正正月二十六来的，到现在就没有来。可我想问的是我这几天和我老公行房，可我怕怀孕，因为我这年纪也不适合怀孕我想问有没有什么补救或者用什么药可以避免怀孕': list index (0) out o\n",
      "Error processing prompt '前列腺炎，。吃了半年中药前列腺好了，。勃起还不行，晨勃因为一次感冒腰疼了一天，晨勃也没了，但是平时看片手淫都还是很硬的，。尿少，黄，早晨根本没尿，这是咋回事啊。怎么才能好医院都检查了': list index (0) out o\n",
      "Error processing prompt '医生你好，我查出左侧畸胎瘤，但是阴到出血是什么原因，阴道出血能手术吗': list index (0) out o\n",
      "Error processing prompt '使用何种药物需要格外关注其可能带来的不良反应？红霉素': list index (0) out o\n",
      "Error processing prompt '性生活的时候，精子不射到里边会导致怀孕么？': list index (0) out o\n",
      "Error processing prompt '要怎么样丰胸不会反弹呢，要吃什么丰胸最好呢？': list index (0) out o\n",
      "Error processing prompt '无痛人流后是否可以洗澡，今天，刚做完无痛人流回来可以洗头，洗澡吗？': list index (0) out o\n",
      "Error processing prompt '原本月经都在15号来的上个月突然推迟了十几天才来，加上每个月排卵期有少少出血，这个月突然白带多了出血多了，但现在看来又像是提前来月经，现在分不清到底是月经还是非经期出血~': list index (0) out o\n",
      "Error processing prompt '怀孕后出血是什么原因': list index (0) out o\n",
      "Error processing prompt '现在性生活越来越不行了，这几次基本上是勃不起来的状态。唉，我也不知道要怎么办了？希望各位医生帮帮忙': list index (0) out o\n",
      "Error processing prompt '子宫内膜息肉手术后可以自由行走吗': list index (0) out o\n",
      "Error processing prompt '同房时有臭鸡蛋味道，偶尔有豆腐渣状白带分泌，白带检查清洁度三度，未见滴虫和霉菌，白细胞，到底是细菌性还是霉菌性阴道炎，应该如何治疗？谢谢！': list index (0) out o\n",
      "Error processing prompt '专家们好：我今年17岁了，来月经4天了，这4天里我肚子一直疼，不想吃饭，在床上躺着，今天早上还呕的。是怎么回事？谢谢专家们': list index (0) out o\n",
      "Error processing prompt '龟头异味重怎样治疗严重吗': list index (0) out o\n",
      "Error processing prompt '有子宫内膜炎还怀孕怎么办？，患宫颈炎时可再次出现白带增多，但是白带多不一定是宫颈炎。白带是阴道黏膜、宫颈管及子宫内膜腺体的混和分泌物。白带多是不是得了宫颈炎？': list index (0) out o\n",
      "Error processing prompt '跟男朋友同房，没有洗澡，带了避孕套，事后冲澡了，俩天后总有小便感和灼烧感，上厕所没有，有也就一点还特别疼，应该是尿路感染，一年前得过一次，这次跟同房有关吗？': list index (0) out o\n",
      "Error processing prompt '阴道瘙痒，干涩，检查是霉菌性阴道炎，有宫颈纳囊和盆腔积液': list index (0) out o\n",
      "Error processing prompt '你好，我想问一下，跟男友第一次在一起，但我确实是第一次为何没有处女膜呢，不是说破了的话会流血嘛！为何也没血呢？什么情况？': list index (0) out o\n",
      "Error processing prompt '9号晚上十一点多和我男朋友事后他内射了，事后二小时我吃的硫婷第一颗，第二天中午有事忘了吃，晚上9点才吃的第二颗，到现在也没有留红，我在网上查的，留红代谢才算避孕成功，还有就是前三四天到现在胃疼、出虚汗！这是怎么回事呢？': list index (0) out o\n",
      "Error processing prompt '性行为过程中注意哪些方面有助于避免性病感染？安全性行为方法': list index (0) out o\n",
      "Error processing prompt '淋病是怎么引起的？尿道前部有烧灼感、刺痛或灼热辣痛，排尿时疼痛明显加剧，甚至向小腹或脊柱放射。还有尿频尿急的表现。什么原因引起男性淋病？怎样进行预防？': list index (0) out o\n",
      "Error processing prompt '会出现两次白带拉丝吗，10号早上出现了白带拉丝最长十几公分，8号早上，10号晚上，11号早上，13号晚上都有安排，可是15号上厕所，手纸擦的时候又有白带拉丝的现状，这是怎么回事，没有用排卵试纸，月经不规律': list index (0) out o\n",
      "Error processing prompt '七月份打的胎这个月例假还没来会不会怀孕！26号同床的，现在就是担心会不会在怀孕！': list index (0) out o\n",
      "Error processing prompt '昨天晚上喝多了，和一个陌生男做了，之后第二天醒来发现手机上面有他留的言，说对不起，自己得了淋病，然后还是抵不住诱惑，和我做了，我瞬间天昏地暗，这就意味着我将要被他感染了。': list index (0) out o\n",
      "Error processing prompt '阴蒂上最近长了好几个白点点是咋了？最近检查发现的情况医生说有可能是尖锐湿疣的可能，想问问看是咋回事？': list index (0) out o\n",
      "Error processing prompt '您好！我和男朋友还没有结婚，2号晚上冲动了，没做措施，3号的晚上11点口服左炔诺孕酮片紧急避孕药，今天6号下午又没有做措施，该怎么选择避孕药，避孕效果越好！谢谢！': list index (0) out o\n",
      "Error processing prompt '你好。我是新婚夫妻，婚后夫妻生活和谐，一直想怀宝宝，但是，都没有怀上，不知道是不是我有妇科病，想咨询一下': list index (0) out o\n",
      "Error processing prompt '屁股沟有一个小脓包，特别疼，站也不是坐也不是，都快走不了路了。也不敢碰，听他们说这是痔疮，我也不懂，也不敢去医院。': list index (0) out o\n",
      "Error processing prompt '我用了一支开赛露上厕所之后肚子还是憋的怎么办': list index (0) out o\n",
      "Error processing prompt '四岁男孩，老是尿尿，有时候不到十分钟就尿，尿的也很少，尿道口红，晚上睡觉时候不尿，怎么回事，医生说是包皮过长引起的': list index (0) out o\n",
      "Error processing prompt '跟男朋友是第一次，体外射精，我很怕会怀孕，请问这样怀孕的几率大么，早孕的症状是什么，很担心，觉得现在的自己和平常没有什么异常。': list index (0) out o\n",
      "Error processing prompt '我想问一下最近阴囊及阴茎有些痒，挠之后长了个小豆子，后面不痛不痒还挤出了白色的东西，请问这种情况是怎么回事呢？': list index (0) out o\n",
      "Error processing prompt '我现在已经尖锐性湿疹很多年了，差不多就是在阴道两边很多的不平，看起来就是菜花一样的东西，现在我物理治疗了也是很多年了，我一直都是吃西药，感觉就是身体很糟糕': list index (0) out o\n",
      "Error processing prompt '人流后经常私处瘙痒，白带呈黄绿色，人流两个月后意外受精吃避孕药会怎么样？会不会不会生育，之前人流是因为过多服用避孕药怕孩子不健康才不要的': list index (0) out o\n",
      "Error processing prompt '肛门黑色素瘤早期身体反应': list index (0) out o\n",
      "Error processing prompt '三个月没来月经了，没有怀孕，医院阴超检查结果是没有问题，子宫内膜5mm，医生说近期不会来姨妈，让我很迷茫。。我想测性激素六项，医生让我姨妈来了再测。。但是就是不来啊，最近人很疲惫，下腹也不舒服。。喝了很多益母草还是没来，也吃了红枣桂圆。。吃乌鸡白凤丸有用吗，有什么催经方法': list index (0) out o\n",
      "Error processing prompt '霉菌性阴道炎一年多，一直反反复复不好，用了很多药都没有用，希望医生能告诉我怎么办': list index (0) out o\n",
      "Error processing prompt '姨妈来血很少，而且感觉好像不是姨妈，来还没有多少次': list index (0) out o\n",
      "Error processing prompt '遗精两年应该怎么解决，特别现在早上下来感觉我尿胀每个月都有5次约莫的遗精': list index (0) out o\n",
      "Error processing prompt '最近总是尿频尿急，一天厕所上个不停的，而且尿道还有骚痒的感觉，好像有蚂蚁在里面爬一样。尿道口还出现了黄色的分泌物，量还挺多的，特别是早晨起床的时候最严重，医院的检查结果说是淋病。': list index (0) out o\n",
      "Error processing prompt '包皮过长好几年了，再加上平时不太注意性生活卫生保健，最近生意繁忙老是抽烟喝酒，总觉得有分泌物，瘙痒，小便疼痛，夜尿频多。排尿时感到尿道灼热和轻微的刺痛，尿液一般为透明，能看到其中有淋菌丝，尿道口红肿，灼痛，流粘脓液等。想知道淋病的早期症状是什么。': list index (0) out o\n",
      "Error processing prompt '药流后有阴道炎该怎么治疗，上个星期2吃了药流的药，昨天是检查流干净了，也没有流血。昨天发现有点细菌感染，今天发现更加严重了变成阴道炎了。请问我改怎么治疗': list index (0) out o\n",
      "Error processing prompt '粘性渗出性薄膜的鉴别诊断': list index (0) out o\n",
      "Error processing prompt '普罗雌烯乳膏的用法用量': list index (0) out o\n",
      "Error processing prompt '前几天我去做妇科检查，医生说我患有宫颈息肉，但是我一直没有感觉自己得病，请问，宫颈息肉的症状有哪些，应该注意什么。': list index (0) out o\n",
      "Error processing prompt '治疗早泄要多少费用才能治好，我现在每次跟女友性生活都有早泄的现象，性生活时间短，而且刚插进就射精了。': list index (0) out o\n",
      "Error processing prompt '什么原因会导致附睾畸形？，左侧睾丸有胀痛感。喝水后不长时间有小便感。5天前到医院男科看大夫。同时做抽血化验和生殖器分泌物仔细检查。仔细检查的时候发觉是附睾畸形，什么原因会导致附睾畸形？': list index (0) out o\n",
      "Error processing prompt '你好医生，我这个月6号第一次发生性关系，然后连续几天都有出血，出血量不算太大，9号就没有出血了，但是今天又有点血，是怎么回事，求解答，谢谢': list index (0) out o\n",
      "Error processing prompt '了不怀孕包皮经常疼痛难忍得不得了，经常出精液。': list index (0) out o\n",
      "Error processing prompt '我的经期时间要到十五六号来，可一号就有一点血，我以为是月经来了，可垫了卫生巾也只有一点点，不知道怎么回事？': list index (0) out o\n",
      "Error processing prompt '射精精液从白色到褐色该怎么办血精细菌感染怎么办好烦啊': list index (0) out o\n",
      "Error processing prompt '昨天外阴旁边长了个类似粉刺的东西，整体发点白，四周有点红，还有点疼，最近没有不结的性生活，最近白带也挺多，昨天刚服了消炎药，您说怎么办才好': list index (0) out o\n",
      "Error processing prompt '6月4号来的月经，但是昨天晚上腹痛，今天早上上厕所有学，去医院检查怀孕了，但是孕酮才3.08，医生说不需要保胎，等两天在去检查如果孕酮提升的话在保胎是这样的吗？': list index (0) out o\n",
      "Error processing prompt '我4年前检查有解脲支原体，一直未治愈，希望医生给我指导方法。': list index (0) out o\n",
      "Error processing prompt '请求专家提供治疗以下情况的建议屁眼一擦屁股就破皮，纸上有血，好几年了': list index (0) out o\n",
      "Error processing prompt '造成死精症的原因是什么？，结婚好几年了也一直没孩子，本来以为是老婆的原因，我俩一起去做了仔细检查，老婆是正常的，说我是因为死精症引来的不孕不育，所以我很愧疚': list index (0) out o\n",
      "Error processing prompt '问题描述：闭经5年了，期间断断续续服过中药和西药，服药期间能来月经，停药就闭经，也用了很多激素药物，输卵管是通的，没避孕，从没怀孕过，想做试管婴儿': list index (0) out o\n",
      "Error processing prompt '产后54天同房后发现有点血，拿纸擦才看到。请问这是什么情况？': list index (0) out o\n",
      "Error processing prompt '你好，我一直性冷淡，是一种病吗，好几年了，有治疗的方法吗': list index (0) out o\n",
      "Error processing prompt '近期在外面找了好几次朋友，我这两天感觉自己的身体不舒服，是不是患上了淋病': list index (0) out o\n",
      "Error processing prompt '龟头有点红、然后我就看网上医生的意见、去买了达克宁、清洗完龟头我就涂上了、涂完过一会龟头有点痒是怎么回事啊？': list index (0) out o\n",
      "Error processing prompt '结婚几年来，妻子不怀孕，近期我们都去检查，我也做精液检查，精子在高倍视力下偶见一个，精子活力为“0”级。': list index (0) out o\n",
      "Error processing prompt '前段时间查出有阴道炎及宫颈糜烂，最近用药艾利克和甲硝维参阴道泡腾片，最近阴部不痒了，也没见什么白带，不知道是不是正在用药的原因，不知道好了没有，想知道好了的症状有哪些？如果现在停了药会不会复发？': list index (0) out o\n",
      "Error processing prompt '阳痿和做手术有关吗，在一个和心情有关，要是做手术到这的阳痿还能治吗': list index (0) out o\n",
      "Error processing prompt '第一次出了点血，会不会怀孕呢！希望医生帮忙分析一下，怎么样才不容易怀孕呢！': list index (0) out o\n",
      "Error processing prompt '排卵期同房，体外射精，但是射到阴道口，请问怀孕几率大吗？': list index (0) out o\n",
      "Error processing prompt '做完宫颈活检后注意事项': list index (0) out o\n",
      "Error processing prompt '手淫导致的早泄，是不是海绵体受到了损伤，海绵体的再生周期是多少？': list index (0) out o\n",
      "Error processing prompt '我自从生完孩子带上环后月经的量就非常大，尤其是刚来的头三天内，感觉就一股股的像尿尿，刚垫上的卫生巾就透了。晚上睡觉是更不安全经常湿透到床单上，非常苦恼，请医生给个解决办法。': list index (0) out o\n",
      "Error processing prompt '听说备孕禁欲7天精子质量好，我昨天射了一次精但感觉没有射干净，没射干净的精子还会存在精囊里吗？过7天后再受精的时候会不会把这次没射完的精子一起射出？': list index (0) out o\n",
      "Error processing prompt '别嘌呤醇片禁忌症是什么？': list index (0) out o\n",
      "Error processing prompt '您好，外阴瘙痒干疼，可以用苏打片洗吗？用什么药更有效果': list index (0) out o\n",
      "Error processing prompt '得了老年性阴道炎怎么处理，水样白带，色黄，无异味，不疼也不痒。病发时间一年左右。化验、仔细检查结果：霉菌、滴虫（-）白血球+++曾经的治疗情况和效果：口服硝呋太尔，阴道用的是什么凝胶，无明显好转。在乎怎样的帮助：怎样进行祛除病患': list index (0) out o\n",
      "Error processing prompt '宫颈粘连都会腹痛吗': list index (0) out o\n",
      "Error processing prompt '现在来月经了，可是一下上厕所，一下又上厕所，并且上厕所阴道还痛，怎么办': list index (0) out o\n",
      "Error processing prompt '排卵期是月经的前14天吗，本人下体特别痒，而且内衣上总是黄黄的，怎么回事？请问排卵期是月经的前14天吗': list index (0) out o\n",
      "Error processing prompt '精液精子在體外的的方自然乾掉那....那些精液精子還會造成懷孕嗎？？精液精子在身體的任何地方乾掉去洗澡會液外流進陰道裡然後造成懷孕嗎？？好像有月經ㄌ這樣會懷孕嗎？？幫幫我': list index (0) out o\n",
      "Error processing prompt '龟头炎，到医院打了三天的吊针，消炎了也消肿了，但现在就是挺痒的，是怎么回事？': list index (0) out o\n",
      "Error processing prompt '我感染尖锐湿疣，九月做了激光手术，10月30号做了梅毒艾滋血液化验，为阴性，很害怕，这个病听说很严重，求医生救救我。': list index (0) out o\n",
      "Error processing prompt '我可能是过性生活时，碰伤了，出现了尿频尿急尿有血，我估计是得了急性尿道炎，请问怎么治疗最好，我今天去挂消炎药了': list index (0) out o\n",
      "Error processing prompt '我和我老公因为工作原因异地分居，家公家婆小孩都在他那边，近两个月我去他那两趟他每晩都没回来也没性生活，他说要做事，忙要赚钱，而且一个星期可能就给我打一个电话，他是不是出轨了？去年他也出过轨': list index (0) out o\n",
      "Error processing prompt '我最近这段时间怀疑自己是宫颈粘连，怎么检查，需要检查多长时间？': list index (0) out o\n",
      "Error processing prompt '龟头上有红点过几天面积变大有指甲盖那么大一片，龟头上有红点过几天面积变大有指甲盖那么大一片红还裂开一个像芝麻一样大小的口子碰了会很疼是什么病该怎么治疗': list index (0) out o\n",
      "Error processing prompt '饮酒时可以吃中成药吗？': list index (0) out o\n",
      "Error processing prompt '济南什么医院能治疗肛瘘？，本人患有肛瘘': list index (0) out o\n",
      "Error processing prompt '洗完得衣服上边有蚂蚁，请问一下蚂蚁在太阳下可以晒死吗？晒多久可以晒死': list index (0) out o\n",
      "Error processing prompt '排卵期倒数第二天没有射，但是进去了，会怀孕吗，几率大不大？需要吃药避孕吗': list index (0) out o\n",
      "Error processing prompt '割包皮水肿是啥原因，我的包皮从小就感觉很长，小时候我不懂，现在大了听别人说包皮太长对各个方面都不是很好，我就去医院做了腐蚀包皮的手术，但是我腐蚀包皮手术之后我感觉我的阴茎有点水肿，很疼啊，这个怎么办啊？需要有几天彻底恢复啊？': list index (0) out o\n",
      "Error processing prompt '弱精能否做人跟工授精？，活动力百分之五十妻子拍暖正常一侧输卵管通畅一侧通而不畅您好能不能够做人工受精：': list index (0) out o\n",
      "Error processing prompt '上个月底出现附睾疼痛。去医院检查为附睾炎。输液一个星期。不通了。但两侧睾丸摸起来都有硬块。医生说只能吃药慢慢好。吃了半个月药了。感觉还没什么好转。有没有更好的办法': list index (0) out o\n",
      "Error processing prompt '例假两个多月没来了，一个月的时候验孕棒显示没怀孕，现在两个月来，这几天小腹疼了四五天了，感觉大姨妈一样来的疼，可是还是没来，怎么办噻': list index (0) out o\n",
      "Error processing prompt '痔疮便血都会有什么危害性呢？我也不记不得是什么时候的事情了，只是好几年前我就发现我患有痔疮，一开始的时候没有什么症状，后来经常会感觉到疼痛并且在大便的时候会有出血的现象，次数多了心里就开始有些担心了。': list index (0) out o\n",
      "Error processing prompt '怎么办啊，我15号排卵期，同房了，今天才21号，昨天同房时就留了一点血，今早起来上厕所，还有一坨黑色的东西从阴道掉下来，而且乳头很黑，不知道是不是怀孕了，': list index (0) out o\n",
      "Error processing prompt '上个月15号来的大姨妈，25号同房了，并且带避孕套了，而且没有射精，这个月都推迟5天了，还没来怎么回事？': list index (0) out o\n",
      "Error processing prompt '阴道有炎症会怀孕吗月经退了13天这个星期吃的多喝水多不知道是怎么回事': list index (0) out o\n",
      "Error processing prompt '医生，你好，我昨天是月经第13天，监测了卵泡，打了促排针5000，昨天晚上11多安排了一次同房，打算明天早上再安排一次，那我后天早上是否可以去重新做一个阴超，看一下卵泡是否已排？这样会不会有影响': list index (0) out o\n",
      "Error processing prompt '拉粑粑啦出血了？而且是经常性的，这是什么病啊': list index (0) out o\n",
      "Error processing prompt '是不是阴道炎啊，最近经期结束不久，阴部瘙痒，很难受，平常有性生活。': list index (0) out o\n",
      "Error processing prompt '七月一号晚上七点做爱之后发现安全套坏了但是精液都流在了沙发上不知道有没有进入阴道而且七月一号左右也正是要来月经的时候。五月和六月后是在一号左右来的。今天已经三号了。会不会怀孕啊。想得到怎样的': list index (0) out o\n",
      "Error processing prompt '你好！请问下龟头组织有经脉还有血管吗？第一次发现龟头有一条像经脉又像血管样子。每次过三天到四天就会在出现一条。龟头有两边是吧，右边有5天条像经脉又像血管样子。左边有4条。看样子好像都是在连接一起的。到现在有一个月了一共9条像经脉又像血管的。。。没有不痛不痒不适应感觉。请各位专家能不能帮我详细解答下。因为我现在压力很大。不敢去看医生。': list index (0) out o\n",
      "Error processing prompt '腹部痛，月经不规则。性后出血，看医生打过消炎针折腾了几个礼拜之后病情好转，但是还有点痛，医生经过诊断为性病批衣菌，给了4粒抗生素治疗。': list index (0) out o\n",
      "Error processing prompt '屁股上了很多痘痘很痒有点红越长越多怎么办啊': list index (0) out o\n",
      "Error processing prompt '最近发现身体长了好多痘痘我怕是艾滋病不知道该怎么办，还有龟头总有点骚痒，不知道该怎么办。': list index (0) out o\n",
      "Error processing prompt '得了输卵管堵塞应该怎样治疗，最近总是感觉腰酸背痛，小腹也有一种下坠的感觉，不放心去医院检查了，说是有输卵不通，请问：得了输卵管堵塞应该怎样治疗': list index (0) out o\n",
      "Error processing prompt '包皮过长，会有什么影响吗包皮过长，会有什么影响吗包皮过长，会有什么影响吗': list index (0) out o\n",
      "Error processing prompt '我是同性恋我和我男朋友都是未成年人第一次搞搞会得艾滋吗第二天我腹泻肚子痛': list index (0) out o\n",
      "Error processing prompt '阴茎勃起就分泌前列腺液，而且特别多，射精也快，精液呈黄色': list index (0) out o\n",
      "Error processing prompt '到哪确诊输卵管粘连，目前已确诊为输卵管粘连，我还是未婚，我担心这个疾病会导致我不孕，请问到哪确诊输卵管粘连': list index (0) out o\n",
      "Error processing prompt '给出以下症状，这可能意味着什么？性行为后出现轻微不适感，没有皮肤破损或溃烂': list index (0) out o\n",
      "Error processing prompt '晨勃很强但性生活不勃起吃什么药中药还是西药好': list index (0) out o\n",
      "Error processing prompt '阴茎上面起了3个痘痘是什么原因，没有不良嗜好，请问有什么药物治疗吗？': list index (0) out o\n",
      "Error processing prompt '16岁，上个月15号来月经，21号完事，25号同房，两个小时后吃了避孕药，这个月1号出现流血情况': list index (0) out o\n",
      "Error processing prompt '白带发黄什么原因，月经总往后推迟来月经时肚子有点疼，但是这种情况还是偏少': list index (0) out o\n",
      "Error processing prompt '孕妇霉菌阴道炎如何治疗，外阴瘙痒用药就好用不着用强怎样能治愈外观，黄色，上皮细胞三个加号': list index (0) out o\n",
      "Error processing prompt '无痛人流二个月零二十天了，身上还没有来月经，怎么办？': list index (0) out o\n",
      "Error processing prompt '你好我请问一下，我老公每天早上他那个都硬硬的，这样好不好影响生活': list index (0) out o\n",
      "Error processing prompt '5.2是月经的第四天内射吃了避孕药5.9号撤退性出血了然后5.11晚上有点内射会怀孕吗血还有点是黑色的。': list index (0) out o\n",
      "Error processing prompt '已经生孩子八年多了，前段时间无意发现能挤出少量乳汁，想请问这种情况能催乳吗？': list index (0) out o\n",
      "Error processing prompt '最近下体特别的不舒服，而且很痒，有时候还会有疼痛感，仔细一看，下体长了好多的红色丘疹，到医院检查才知道原来自己得了尖锐湿疣。': list index (0) out o\n",
      "Error processing prompt '医生我不知道是不是添了女生的阴部嘴角两边长了两个红色斑点。我嘴唇嘴角有溃疡，，请问是什么病': list index (0) out o\n",
      "Error processing prompt '产后恢复使用阴道哑铃，阴道哑铃掉到地上脏了怎么办？': list index (0) out o\n",
      "Error processing prompt '跟男朋友性交后出血好几天了，又不像月经，这是什么原因呢': list index (0) out o\n",
      "Error processing prompt '我主要是不排卵，你们医院有克罗米芬吗？希望医生帮我。是什么原因，谢医生。': list index (0) out o\n",
      "Error processing prompt '输精管堵塞应该怎样治能好，上个星期我到医院去做全面仔细检查，医生说我输精管堵塞，请问输精管堵塞应该怎样治能好': list index (0) out o\n",
      "Error processing prompt '两个月没有同房，影响检查精子质量吗？我们所在的区医院没有男科，我应该挂哪个科室？': list index (0) out o\n",
      "Error processing prompt '尿多是怎么回事！会不会影响不孕。小时候喜欢尿床': list index (0) out o\n",
      "Error processing prompt '我目前还是单身，只是以前谈过几个女朋友，都有发生过关系，最近一个星期都没有性生活了，但生殖器上却长了许多红色的疱疹，有点痒，怕是患上了生殖器疱疹。': list index (0) out o\n",
      "Error processing prompt '老婆今年进入更年期因为绝经性生活怎么也过不好怎么改善更年期的性生活的质量呢？老婆今年49更年期是不是来的太早了？': list index (0) out o\n",
      "Error processing prompt '你好，我想问一下怀孕后期肚子下面耻骨疼而且疼得厉害是怎么回事啊': list index (0) out o\n",
      "Error processing prompt '有什么自我防护的办法可以预防尿道感染？': list index (0) out o\n",
      "Error processing prompt '阴茎增大的锻炼方法是真的还是假': list index (0) out o\n",
      "Error processing prompt '我之前和一个朋友一起吃饭，因为她生活作风不检点，最近查出来患有梅毒病，因为之前和她一起吃过饭，所以很担心，但是又不好意思去医院检查，想了解一下关于初期男性梅毒患者有什么表现症状。': list index (0) out o\n",
      "Error processing prompt '每次月经都会提前7天，来也是七天，来的前一天腰会疼，每三个月会来四次，现在是提前10天两个月来了三次': list index (0) out o\n",
      "Error processing prompt '您好，我前段时间发现阴道口有颗粒，期间来月经前小腹疼痛，经血较黑，尿尿有时候小腹疼痛，害怕是尖锐湿疣，本人已经三年没有性经历，请问怎么判断？食用白醋涂抹有变白现象': list index (0) out o\n",
      "Error processing prompt '外阴烧灼刺激感的治疗和预防方法': list index (0) out o\n",
      "Error processing prompt '吸奶器吸到奶出来怎么办，我没有生过小孩，怎办怎么办，会好严重码？我好害怕？': list index (0) out o\n",
      "Error processing prompt '男朋友用中指全部进去了。没有血但第二天轻微疼痛。。请问处女膜破裂了吗': list index (0) out o\n",
      "Error processing prompt '对于女性的私密问题，应该如何科学应对？阴道炎': list index (0) out o\n",
      "Error processing prompt '我女朋友16號月經，28號同房，我不小心射了進去，會懷孕嗎？？': list index (0) out o\n",
      "Error processing prompt '如何治疗卵巢性不孕，我2年前结婚的，那时候还小，不想要宝宝，觉得自己还是个孩子。去年家里人在催了，我和老公就开始准备要宝宝了，可是却一直怀不上。我急忙去医院检查，居然查出卵巢性不孕症。': list index (0) out o\n",
      "Error processing prompt '月经不调吧，每次来都会推迟几天，推迟天数不一定，经量很多，偶尔有血块，一般来7天以上，头3天就一点点，用护垫就可以了，然后就特别多持续了7天还没停，肚子不疼，腰不酸。': list index (0) out o\n",
      "Error processing prompt '用什么方法治外阴白斑有效？，我去年结的婚，最近总是肚子小腹疼痛，尤其是来事那几天，很害怕影响生育，而且十分的怕冷，怕寒。请问用什么方法治外阴白斑有效？': list index (0) out o\n",
      "Error processing prompt '阴道炎，买了妇洁舒洗液，但是我现在是怀孕中，不知道能不能放进阴道中，放入后有影响吗？': list index (0) out o\n",
      "Error processing prompt '肛门乳头瘤癌变的症状': list index (0) out o\n",
      "Error processing prompt '女，20岁。屈螺酮炔雌醇片有什么做用，吃多了会怎么样？来月经的时候可以吃吗': list index (0) out o\n",
      "Error processing prompt '半年服用天然山羊奶出现便秘，请问需要马上看医生吗？性生活也失常了': list index (0) out o\n",
      "Error processing prompt '你好，医生，我去年四月份初患生殖器疱疹，治好后今年6月中旬复发，现在一直在治，效果不好，求你帮帮我。': list index (0) out o\n",
      "Error processing prompt '性病怎么样能看好性病是不是因为不干净所以才引起的吃药能不能看好': list index (0) out o\n",
      "Error processing prompt '医生，你好，请问细菌性阴道炎，清洁度一度，未明确意义的非典型性鳞状上皮细胞，怎么治疗？': list index (0) out o\n",
      "Error processing prompt '月经12天，B超检查仍然没有卵泡是怎么回事': list index (0) out o\n",
      "Error processing prompt '弱精症的主要病因是什么，和妻子结婚已经很多年了，没有避孕措施，但是一直没有怀孕，去医院检查了才知道，请问弱精症的主要病因是什么': list index (0) out o\n",
      "Error processing prompt '第三次霉菌性阴道炎了，昨天下午感觉特别痒特别难受，昨晚至今晚塞了双唑泰之后接着外擦克霉唑乳膏，还配着妇炎消胶囊，是晚上塞药的时候特别痒，奇痒无比，过段时间就没感觉了，克霉唑乳膏一天擦三次，白天擦都没感觉。': list index (0) out o\n",
      "Error processing prompt '我想问一下，60小时前行房事，未采取避孕措施，不能确定是否体内射精。请问是否可以服用毓婷？': list index (0) out o\n",
      "Error processing prompt '男朋友动我的时候不知道疼，一点反应都没有': list index (0) out o\n",
      "Error processing prompt '只是白带异常没有其他症状是怎么回事': list index (0) out o\n",
      "Error processing prompt '就是我和我男友很纠结不知道第一次能不能避孕？': list index (0) out o\n",
      "Error processing prompt '阴茎勃起不坚龟头很敏感怎么治？，阴茎勃起不坚，龟头很敏感，做爱的时候没法享受，有什么方法摆平？': list index (0) out o\n",
      "Error processing prompt '大夫您好我怀孕六周左右做的流产之后一点血也没有我每天偶尔擦擦地洗洗碗十天后和老公合房了会有得月痨病吗？': list index (0) out o\n",
      "Error processing prompt '月经前两天同房的怀孕的话，月经还会正常来嘛？月经前两天有排卵的可能吗': list index (0) out o\n",
      "Error processing prompt '我的生殖器上面长了很多的红色的小疱疹的，刚开始没有太在意，可是最近疱疹变得越来越大了，而且慢慢的也连成了一片，用手会挤出很多的黄色脓水，有时排尿的时候都会感觉到有疼痛的感觉的，在医院检查确实患上了生殖器疱疹。': list index (0) out o\n",
      "Error processing prompt '我屁股好痒，又有痘痘，这个会导致阴道也痒吗？这个是怎么回事啊': list index (0) out o\n",
      "Error processing prompt '我有个难言之隐一直困惑着我：都结婚两年了一直没有孩子，去医院检查才知道是无精造成的。检查时发现睾丸有结节，自己也感觉有点痛。': list index (0) out o\n",
      "Error processing prompt '痔疮的检查项目有什么，最近不知道怎么回事肛门一直有脓水，而且还肿疼男人，好了一段时间就疼，请问痔疮的检查项目有什么': list index (0) out o\n",
      "Error processing prompt '我昨天大便发现有点出血，没有吃辣椒，想请问一下是什么原因，需要在家里怎么处理还是要去医院？谢谢。': list index (0) out o\n",
      "Error processing prompt '前两天，发现自己下面长了个肉啾啾，就去医院看，医生让做了个HPV检测，说是HPV11。我在网上查了一下，又咨询了，医生说是尖锐湿疣。这病有哪些症状。': list index (0) out o\n",
      "Error processing prompt '我46周岁8月份月经期是20号，以前几个月都是提前2-7，这次我在9月17有同房没有避孕措施，在经期推辞5天25号中午又有一次同房，请问会怀孕吗，如果紧急避孕是不是要吃毓婷可以在28中午之前都有效，有必要紧急避孕药吗，恳请回复谢谢医生': list index (0) out o\n",
      "Error processing prompt '如果晨勃时可以正常做爱其余时间不可以这是怎么回事': list index (0) out o\n",
      "Error processing prompt '下身瘙痒然后流很多黄脓在用洁尔阴清洗但还是没见好而且越来越多该怎么治': list index (0) out o\n",
      "Error processing prompt '上个月检查支原体是阴性，怎么这个月又去检查又变成弱阳性的呢，请问怎么回事': list index (0) out o\n",
      "Error processing prompt '射精后，精液里有血。，在做爱前手淫过！半月前射出来的精子里带有少量血液，休息一个星期后射出来的精子血没了，最后一点有点发黄。怎麽回事？': list index (0) out o\n",
      "Error processing prompt '请问藏毒证中有哪些表现？': list index (0) out o\n",
      "Error processing prompt '你好，外阴瘙痒，白带黄色。该用什么药，怎么治疗。。。中医好还是西医': list index (0) out o\n",
      "Error processing prompt '你好医生向你请教一个问题第一次同房没有出血这是怎么一回事呢': list index (0) out o\n",
      "Error processing prompt '卵巢混合性生殖细胞-性索间质肿瘤的简介是？': list index (0) out o\n",
      "Error processing prompt '拉大便的时候有血，我有痔疮，以前都没有，这几天好像辣的吃多了一点就这样了，大便也不痛。拉了之后有一点辣辣的痛。': list index (0) out o\n",
      "Error processing prompt '去医院检查，医生给我做个妇科检查，看了看宫颈阴道，给我开了聚维酮碘溶液，三维制霉素栓，妇炎舒胶囊。': list index (0) out o\n",
      "Error processing prompt '我现在做完无痛人流已经快一个星期了，一开始不敢吃冷的食物，不敢动冷水，什么东西都十分在意。可是最近感觉自己没有口味，想吃一些水果来调节一下饮食。同时听别人说，流产后吃一些水果，可以利于身体的恢复。': list index (0) out o\n",
      "Error processing prompt '造成早泄的原因有哪些？，我发觉最近和老婆同房的时候老是力不从心，很早就射出精液，老婆为这事和我闹，这真是所有男性最大的悲哀啊。造成早泄的原因有哪些？': list index (0) out o\n",
      "Error processing prompt '怀孕后盆腔积液会对胎儿产生影响吗，病情描述：我的彩超单子上盆腔可见游离液性暗区，范围约：1。4×0。9cm曾经治疗情况和效果：医生让我用微波治疗和输液想得到怎样的帮助：怎样治疗效果最好，我想要小孩，如果没有治好就怀孕了对胎儿有影响吗': list index (0) out o\n",
      "Error processing prompt '制霉素片(深红色糖衣片)的用法，得了霉菌性阴，无': list index (0) out o\n",
      "Error processing prompt '我最后一次月经是8月20号，9月16号验血确定怀孕！HCG是32.79孕酮50多！但是9月19号阴道有点黑褐色的分泌物！当天去验血复检结果是HCG127多，孕酮70多～医生说指数都挺好的就开了点孕酮针和一些保胎药给我，为什么会一直出血呢，量也不多，就是一点点。只是上大号后会多一点！今天是出血第三天了': list index (0) out o\n",
      "Error processing prompt '怀孕的最佳日子是哪一天，请问月经周期是30天，怀孕应该在哪几天要好呢？': list index (0) out o\n",
      "Error processing prompt '男性遗精阳痿如何治疗？，我今年38岁了，我的妻子是女强人，她时常上班不在家，每次回去就想跟我做爱宣泄，可是我总是让她不满意，渐渐的我们很少答话，很少做爱，很少回家，后来在儿子的调合下，妻子让我去理解救治，彻底恢复我的男人本色、': list index (0) out o\n",
      "Error processing prompt '请问男的阳痿是怎么回事，最近发现我有些早泄了，刚开始没注意，有时候还没做完就软了，早泄怎么恢复？平常要注意什么吗？早泄对身体有害吗？对于做爱好吗？会不会影响下一代？': list index (0) out o\n",
      "Error processing prompt '你好！阴蒂萎缩应该怎么治能治好吗？请医生给我一个答案！谢谢！': list index (0) out o\n",
      "Error processing prompt '我结婚几年了，现在打算要孩子，但是我一直都是属于月经不调一类的，月经有时是一个月来一次，有时又几个月不来，到医院检查说是多囊卵巢，所以不好怀上。就到医院监测卵泡的发育情况，但是监测几次都没看见长，现在我就来咨询下卵泡破裂的症状。': list index (0) out o\n",
      "Error processing prompt '不孕症的症状和表现有哪些，输卵管不育症状有哪些输卵管不育症状有哪些呢，是什么原因导致的呢？输卵管不育症状有哪些': list index (0) out o\n",
      "Error processing prompt '肾虚，出现4次遗精3次遗精连续过了一天又遗了一次，为什么遗精的时候有时会梦到以前看黄色的短片': list index (0) out o\n",
      "Error processing prompt '由于人比较胖，夏天每年都会大腿内侧，外阴附近瘙痒，一抓就破皮，每次都要使用一段药膏，才能稍微好点，最近比较严重，反反复复！': list index (0) out o\n",
      "Error processing prompt '我最近在使用阴道栓剂，第四天后发生一次性行为，出现了阴道出血，我想知道是否需要去医院。': list index (0) out o\n",
      "Error processing prompt '卵巢疼痛怎么样治较好？，最近才发现的这种情况，自己也不知道该怎么办了，卵巢疼痛是为什么？还会冒虚汗。': list index (0) out o\n",
      "Error processing prompt '肌肉注射打过敏针水时打到血管怎么回事？会怎么样？有不良反应吗': list index (0) out o\n",
      "Error processing prompt '我是5月9号来月经，6月3号同房会怀孕吗？': list index (0) out o\n",
      "Error processing prompt '我是多年的痔疮，脱肛加肛裂，以前脱肛能脱进去，现在脱不进去了，下坠痛。': list index (0) out o\n",
      "Error processing prompt '有过2个孩子，之前有阴道炎，没有治疗，后来阴道痒疼时间有半年，都是自己买一下洗液，前个有月房事有出血，才去医院检查，大夫说宫颈糜烂。': list index (0) out o\n",
      "Error processing prompt '单位一起去做检查，说我有轻度的宫颈糜烂，要不要治疗，我怕越来越严重，慢慢的变成中度，中度是什么症状啊': list index (0) out o\n",
      "Error processing prompt '今天距离经期还有半个月，肚子很疼，今天还流了好多血怎么回事，从上次月经至今天只有今天有一次房事，采取了避孕措施': list index (0) out o\n",
      "Error processing prompt '如何有效预防输卵管堵塞，要如何有效的预防工作输卵管堵塞啊': list index (0) out o\n",
      "Error processing prompt '最近这半年，我总是感冒发烧，浑身没劲，头晕晕的很，前几天发现阴道口长了个肉瘤，摸上去尖尖的，像是菜花状，不疼不痒的，去医院检查，医生说是尖锐湿疣。': list index (0) out o\n",
      "Error processing prompt '早上起来拉了三次肚子，现在疼得不能走路，有什么方法止疼': Timeout of 60.0s exc\n",
      "Error processing prompt '我和老公结婚两年多，没有刻意的避孕，但是就是怀不上孩子，我偷偷的去医院看了医生，说我不孕，开了好多药，我想知道在生活习惯中我要注意点什么。': Timeout of 60.0s exc\n",
      "Error processing prompt '六个月宝宝指甲长得快，但是有点外翘是什么？谢谢！': Timeout of 60.0s exc\n",
      "Error processing prompt '脚的大拇指下长了跖疣，一开始以为是鸡眼用鸡眼贴越贴越多了，就像这样情况用什么药膏好？': Timeout of 60.0s exc\n",
      "Error processing prompt '气管痉，经常发作，时间半小时左右，发作时应采取什么措施': Timeout of 60.0s exc\n",
      "Error processing prompt '经常高烧呕吐去医院检查不出症状检查了好多次都检查不出什么已经65了折腾不起啊': Timeout of 60.0s exc\n",
      "Error processing prompt '我是变声期前段时间感冒了嗓子哑一直没好哑了三周又发烧了现在只有一点点哑了但总不好是变声期吗？会不会是得了声带肿瘤了？': Timeout of 60.0s exc\n",
      "Error processing prompt '我验孕棒测了4次都没有怀孕，用不用去医院做检查看看呢？': Timeout of 60.0s exc\n",
      "Error processing prompt '小孩4个月发现右边手脚都比左边粗，而且比较明显，心里很担心，求帮忙解答，小孩活泼，手脚动的都很灵活': Timeout of 60.0s exc\n",
      "Error processing prompt '医生你好，最近我女儿在喝水药，晚上老是尿湿内裤，她自己也不知道': Timeout of 60.0s exc\n",
      "Error processing prompt '下面检查项目有什么注意事项？宫颈涂片': Timeout of 60.0s exc\n",
      "Error processing prompt '重酒石酸去甲肾上腺素的副作用（不良反应）': Timeout of 60.0s exc\n",
      "Error processing prompt '我们家的鸡今天脚动不了了怎么回事就是脚到不了了其他地方都好好的昨天也好好的': Timeout of 60.0s exc\n",
      "Error processing prompt '我妈做过脊椎压缩骨折的手术，骨水泥。后来右侧拉了一下，都大半年了，老是感觉右侧疼痛，有时还胀气很厉害，很疼。磁共振结果是脊椎水肿。': Timeout of 60.0s exc\n",
      "Error processing prompt '主要症状血尿，医生介意膀胱前列腺全切，放化疗治疗，我担心父亲年龄大受不了，想保守治疗可以吗': Timeout of 60.0s exc\n",
      "Error processing prompt '口服西替利嗪胶囊后有什么常见副作用？西替利嗪': Timeout of 60.0s exc\n",
      "Error processing prompt '最近打呼噜声大，晚上睡觉还冒汗，晚上经常上厕所，睡眠不足，身上没劲。': Timeout of 60.0s exc\n",
      "Error processing prompt '胆囊炎。11月6日夜晚感觉腹部疼痛难忍伴有肋骨后背疼痛。': Timeout of 60.0s exc\n",
      "Error processing prompt '精子增多症的诊断是什么？': list index (0) out o\n",
      "Error processing prompt '尖锐湿疣三个月了，长了5颗。一颗大，四颗小。可以用外用药治疗吗？': list index (0) out o\n",
      "Error processing prompt '螺内脂片药理作用': list index (0) out o\n",
      "Error processing prompt '宫颈息肉宫腔镜手术后需要休息多久呢': list index (0) out o\n",
      "Error processing prompt '5月5日吃了一次避孕失败，6月3日做了宫腔镜人流，7月7日来的月经，7月13日干净的，7月20日同房，7月21日早上又吃了左炔诺孕酮片紧急避孕药，还会怀孕吗？这次会不会避孕失败？？是易孕期': list index (0) out o\n",
      "Error processing prompt '解脲脲原体程阳性，会影响怀孕吗？会导致胎停育吗？': list index (0) out o\n",
      "Error processing prompt '女人宫颈糜烂的病因是什么，请问宫颈糜烂是怎么形成的呢我应该多注意些什么对病情有好转？': list index (0) out o\n",
      "Error processing prompt '做爱的时候避孕套破了会不会怀孕？但是他没有射': list index (0) out o\n",
      "Error processing prompt '我也不知道是咋回事就染上了尖锐湿疣了，现在都做了一次激光了，但是我发现又长了，怎么办？用啥办法治疗好？': list index (0) out o\n",
      "Error processing prompt '我来月经每次都正常就这个月不正常而且还不走都快一个月了，期间我吃了调月经得药后来又吃止血药了前天没了我跟老公同房了之后就又来了是什么原因': list index (0) out o\n",
      "Error processing prompt '附睾炎治疗的最佳时间': list index (0) out o\n",
      "Error processing prompt '氟伏沙明片禁忌症是什么？什么是氟伏沙明片禁忌症？': list index (0) out o\n",
      "Error processing prompt '发现子宫内膜炎如何治疗好？，身体很不舒服，时不时的总感觉小腹疼，跟针扎似得，然后就去医院仔细检查，医生说我是子宫内膜炎，发现子宫内膜炎如何治疗好？': list index (0) out o\n",
      "Error processing prompt '请问月经来前三四天就会有咖啡色分泌物流出来是怎么回事': list index (0) out o\n",
      "Error processing prompt '宫颈hpv阳性症状是什么': list index (0) out o\n",
      "Error processing prompt '医治宫颈炎的方法有什么呢，你好，最近身体不舒服，咨询一下这种疾病，治疗宫颈炎的方法有什么呢': list index (0) out o\n",
      "Error processing prompt '我上次和女朋友发生了关系，当时觉得生殖器有点不太舒服。后来从上个礼拜开始，我发现自己的生殖器有点红肿，尤其是龟头那里，又红又痒，不太舒服。我怀疑自己得了淋病。': list index (0) out o\n",
      "Error processing prompt '为什么别人来月经的时候都有腰酸背痛而我却没有，而且还量小，这对生育能力有什么影响吗': list index (0) out o\n",
      "Error processing prompt '每天个月经期过后不久，都很容易得尿路感染': list index (0) out o\n",
      "Error processing prompt '广州越秀阳痿早泄最好的医院？，本人30岁，有不良手淫习惯，掉头发严重还有晚上失眠，不敢谈恋爱，2分钟不到就泄了，很自卑…': list index (0) out o\n",
      "Error processing prompt '什么样的情况需要做支原体啊，白带异常属于支原体吗？还是盆腔炎引起的': list index (0) out o\n",
      "Error processing prompt '我来月经正常一个星期后现在又来了，这是怎么回事呀': list index (0) out o\n",
      "Error processing prompt '输精管堵塞应怎么办？，我结婚有二年了，老婆一直也没有怀孕，双方家长很是着急，我们去医院做了检查，结果医生说是我的输精管堵塞，我输精管堵塞应怎么办？': list index (0) out o\n",
      "Error processing prompt '我是做过子宫切除术的现在下面老有异味像狐臭味请问是咋回事呢？': list index (0) out o\n",
      "Error processing prompt '这两个月月经乱，记得上一次月经来了一个多月，吃了中药停了大概十天又来了，也是来了一个多月月经不停，现在红伴黑色，医生说是那个卵巢什么综合症': list index (0) out o\n",
      "Error processing prompt '您好医师！阴道瘙痒被我抓出血了怎么办？可以用甲硝锉栓吗？': list index (0) out o\n",
      "Error processing prompt '我上次月经是5.19来的，今天带避孕套射的时候掉里面了，会不会怀孕？': list index (0) out o\n",
      "Error processing prompt '但是没有流血，那是是否还有处女膜，要是真的发生性，，还会不会流血': list index (0) out o\n",
      "Error processing prompt '假如我得了阳痿这个病能怎么办呢，在乎怎样的帮助：请告诉我怎么治疗': list index (0) out o\n",
      "Error processing prompt '直肠手术后膀胱不勃起没性功能是咋回事，好像有点漏是这原因吗': list index (0) out o\n",
      "Error processing prompt '霉菌阴道炎阴道用药有效吗，我看些有关这方面资料，可是，我阴道无痛无痒，只是白带有异味。在月经过后，就有这异味了。不知晓为什么会有血色，有时是血块。霉菌阴道炎阴道用药有效吗': list index (0) out o\n",
      "Error processing prompt '最近几天有些不舒服，阴道下面非常痒，有的时候走路恨不得想抓一下了，但是又不行，那感觉很痛苦。自己用镜子一照发现自己阴唇部长有很多小颗粒一样的东西，今天去医院做了检查，医生说我患有尖锐湿疣。': list index (0) out o\n",
      "Error processing prompt '尖锐湿疣治疗三个月后复发现在又治疗一个月了没有长出疣体，我怕再复发怎么办？': list index (0) out o\n",
      "Error processing prompt '这个月8号来的月经，这个月25号怎么又来了呀，提前了十一天': list index (0) out o\n",
      "Error processing prompt '12月19号来月经，12月28号同房，怀孕的幾率大嗎？会不会受孕呢': list index (0) out o\n",
      "Error processing prompt '深圳男科哪个医院好，发病友一年多了，一开始不在意，就是坐在办公室久了，腰疼，阴囊潮湿！': list index (0) out o\n",
      "Error processing prompt '5月4日人流过一次，中途爱过一次紧急避孕药，5月29日来的月经。现在是6月份。从上次月经第一天距离现在已经过去了31天，还没有来月经，而且昨天也就是30号做爱内射两次，应该吃避孕药吗。而且现在一点来月经的感觉都没有。我今年已经吃了三四次避孕药了，这次不吃饿话可以吗？': list index (0) out o\n",
      "Error processing prompt '女阴会阴出现红色结痂斑块的治疗和预防方法': list index (0) out o\n",
      "Error processing prompt '子宫内膜炎治疗是有效果的？，女，52岁。我前两年已经绝经了，但是最近这段时间总是觉得外阴和阴道口非常的瘙痒，而且分泌物的气味也很重，请问：子宫内膜炎治疗是有效果的？': list index (0) out o\n",
      "Error processing prompt '经查是EB病毒感染，请问是如何感染？感染的途竞。': list index (0) out o\n",
      "Error processing prompt '包皮过长要怎么样治才合适一些呢，我的包皮好像有点长，就是软的时候皮长了很多，挺的时候头也露不出来，而且平时洗澡觉得龟头那块味可重了，我担心长期这样下去会得龟头炎，请问：包皮过长要怎么样治才合适一些呢': list index (0) out o\n",
      "Error processing prompt '以前有内痔去年三月份突然肛门口长了个小肉丁不疼不痒的快一年呀好像还在长': list index (0) out o\n",
      "Error processing prompt '未成年的我处女膜破了，还多次做爱，对以后怀孕有影响吗？': list index (0) out o\n",
      "Error processing prompt '17岁了月经从来没来过个去检查是子宫偏小还有盆腔积液怎么调理月经才来': list index (0) out o\n",
      "Error processing prompt '每个月来姨妈都会胀肚子腰痛胸胀这个是什么原因呢': list index (0) out o\n",
      "Error processing prompt '医生你好！我没有怀孕但是为什么挤出奶水，水样，有时白，咸的，俩边都有，偶尔痒，就是老公经常揉还吸很用力，不知道是不是这样影响？': list index (0) out o\n",
      "Error processing prompt '坚持不到一分钟就射是怎么回事怎么办。。。。。。。。。。。。': list index (0) out o\n",
      "Error processing prompt '以前有刺激过一次，记忆力马上就不行了，情系一直都不稳定，检查激素都正常，月经就是不来': list index (0) out o\n",
      "Error processing prompt '上次月经是4月29号完的。5月1号和2号3号都同床了。但没有射进去。会怀孕吗。第一次做爱。': list index (0) out o\n",
      "Error processing prompt '我想问一下宫颈糜烂复查什么事都没有，没有癌变，开点药回来洗和塞，今天同房了，为什么小腹有点痛，白带有血丝，腰有点酸': list index (0) out o\n",
      "Error processing prompt '最近白带异常，白带是褐色的，平常都没有出现，这2个月也没有性事，网上说考虑子宫糜烂是这样吗？': list index (0) out o\n",
      "Error processing prompt '你好，昨天去医院做妇科检查的时候，检查到有输卵管有不通的情况，但是平时没有什么症状，医生说输卵管不通会影响怀孕，所以比较着急治疗。': list index (0) out o\n",
      "Error processing prompt '今年20岁了，最近一周做梦老是做春梦，然后就几乎每天晚上都会遗精，都持续一周了。该怎么办啊，是哪里出问题了吗？': list index (0) out o\n",
      "Error processing prompt '针对以下性健康问题，请提供解决方案：性病传染方式': list index (0) out o\n",
      "Error processing prompt '请问医生我65岁精液有浅红色的是怎么回事？': list index (0) out o\n",
      "Error processing prompt '妇科！去年老家打胎时检查有妇科炎症，3月20在花都狮岭医院检查有妇科问题。3月27拿结果，现在也没搞懂是什么毛病，毛病的起因是什么。医生说的是比较严重，怕转癌。平时身体没什么异样，打胎后，来过一次月经，是上个月多少号忘了。没有家族史。这病严重吗？心里很着急，好治吗？治好会断根吗？谢谢医生帮帮忙？': list index (0) out o\n",
      "Error processing prompt '怎么正确使用苏打水？配比是多少呢，现在准备要二胎，这个真的有帮助吗，谢谢': list index (0) out o\n",
      "Error processing prompt '最近洗澡发现阴茎上面好多的水泡，没过两天阴囊又开始痒，阴茎也痛了起来。很担心，去医院检查说是生殖器疱疹': list index (0) out o\n",
      "Error processing prompt '包皮手术后的治疗及保养？，手术后第3天了纱布包无力龟头光缩回去缝合处没渗血症状': list index (0) out o\n",
      "Error processing prompt '确定药品过敏引发的不良反应有哪些？药疹': list index (0) out o\n",
      "Error processing prompt '请介绍一下什么是以下术语：肝脏硬化、前列腺炎和葡萄胎': list index (0) out o\n",
      "Error processing prompt '引产后子宫下垂以后还要怀孕怎么办': list index (0) out o\n",
      "Error processing prompt '下面病症会对排便产生影响吗？痔疮': list index (0) out o\n",
      "Error processing prompt '我在哺乳期，这段时间白带增多还是黄色的，可以用药吗': list index (0) out o\n",
      "Error processing prompt '我检查确诊是尖锐湿疣了，现在用什么办法治疗尖锐湿疣好一些呢？》麻烦医生给说一下能治疗好尖锐湿疣的办法！': list index (0) out o\n",
      "Error processing prompt '养特别是到了晚间就养，还有月经快来之前就有，但月经过后就没了，从生到孩子后才有的，看了很多医生只管当时，哎': list index (0) out o\n",
      "Error processing prompt '生殖器内有红点请问是什么问题，我有盆腔炎和宫颈糜烂和这个有关系吗？怎么治愈': list index (0) out o\n",
      "Error processing prompt '输卵管轻微积水怎么治疗': list index (0) out o\n",
      "Error processing prompt '右边阴唇肿了，疼痛是怎么回事？怎么治疗，昨天晚上肿的现在有点疼痛': list index (0) out o\n",
      "Error processing prompt '包皮内侧长出了小肉疙瘩': list index (0) out o\n",
      "Error processing prompt '罩丸一个会大起来是什么原因。从10岁到现在，有时小有时会大。疼痛有一点': list index (0) out o\n",
      "Error processing prompt '我的包皮红肿了咋治，包皮比较长，有些红肿和疼痛，大概持续了2天，请问包皮红肿了咋治': list index (0) out o\n",
      "Error processing prompt '包皮龟头炎不治疗的话有什么伤害？，龟头瘙痒，去进行咨询了一下医生说有可能是包皮龟头炎，包皮龟头炎严重吗？': list index (0) out o\n",
      "Error processing prompt '您好请问18号晚上同床和19号早上同床都流里面了，我是易孕期排卵日但是19号下午我吃避孕药了请问这样怀孕的可能性大吗？': list index (0) out o\n",
      "Error processing prompt '不排卵怎么办，想问下医生结婚1年都不怀孕，做的检查说是不排卵的，是什么原因的，为什么这样的，还能怀孕的么，有什么方法能怀孕的么，不排卵应该怎么办的，能治疗好的么。': list index (0) out o\n",
      "Error processing prompt '霉菌性阴道炎可以同房么？前两天检查霉菌已经减少了，可是因为不知道能不能，已经同房过一次，有带避孕套，这样对治疗有没有影响？对身体会有什么样的危害？会不会说留下什么后遗症？': list index (0) out o\n",
      "Error processing prompt '医院，我跟男朋友同房后吃了避孕药在一次同房后吃的。后来又同房了两次。但是胸胀的痛会不会是怀孕了啊？': list index (0) out o\n",
      "Error processing prompt '月经走后4,5天同房容易怀孕吗，比较着急，需要吃紧急避孕药吗': list index (0) out o\n",
      "Error processing prompt '做爱后晚上清洗了下面的，可是一两天后，阴唇里面有一点点痒和一点点红，有几颗小的红点点，应该怎么办呢': list index (0) out o\n",
      "Error processing prompt '我总觉得自己的包皮有些长，早晚也会经常清洗，可是还是会发现包皮的里面有一些白色的分泌物，还会有味道。听别人说包皮过长容易给女人带来妇科疾病，我想去医院割包皮。': list index (0) out o\n",
      "Error processing prompt '全套性病检查大概需要多少钱？？？高危后多久检查合适？？？': list index (0) out o\n",
      "Error processing prompt '淋病奈瑟菌阳性能根治吗': list index (0) out o\n",
      "Error processing prompt '阴毛里面长了一片白色痘痘好多，女，昨天长的，开始就几个白色的痘痘，其余的是红色痘痘，今天白色痘痘长了好多，有点疼，跟青春痘一样白色的笼包': list index (0) out o\n",
      "Error processing prompt '深圳治早泄好的医院，早泄...': list index (0) out o\n",
      "Error processing prompt '，结婚多年一直没怀上小宝，刚开始量少色黑周期短，最近慢慢的面黄长斑，阴道干涩性冷淡，并且有两个月没来月经了，害怕闭经。': list index (0) out o\n",
      "Error processing prompt '啃鸡爪的时候有一块小骨头卡在喉咙很难受': list index (0) out o\n",
      "Error processing prompt '大姨妈一直来已经来了10分钟了则么办哦哦哦': list index (0) out o\n",
      "Error processing prompt '请问排卵试纸要在月经干净几天后用怎么用是每天测一次吗测到强阳后什么时候同房最容易受孕': list index (0) out o\n",
      "Error processing prompt '为什么大便时有针扎样胀痛偶尔有少量血': list index (0) out o\n",
      "Error processing prompt '月经推迟五天时不时肚子疼一般都是28天这次可能因因为节食或者压力大': list index (0) out o\n",
      "Error processing prompt '性功能障碍检查的费用该如何处置呢，检查出来的男性功能障碍，老婆一直都不离不弃的陪我治疗，但是一起没有起色，我内心真的很愧疚，打算治不好也不想连累我老婆了，但是我真的舍不得啊，请问：性功能障碍检查的费用该如何处置呢': list index (0) out o\n",
      "Error processing prompt '提供痔疮的自我诊断方法及自我保健措施。': list index (0) out o\n",
      "Error processing prompt '二胎抛腹产三个月后复查，彩超没问题，做了tct，还做了阴道分泌物检查，有霉菌，宫颈有炎症，后开药治疗，有塞得和洗的，停药三个月了，还是有时候出血，颜色发褐色': list index (0) out o\n",
      "Error processing prompt '最近换了工作环境，比较辛苦，心情也很糟糕，大姨妈推迟一个多月了，上周三有几滴褐色的血，就只有一次后噢来就没有了，大前天白带有点血丝，也是一次就没有了。从昨天开始到今天又有一点褐色分泌物。除了心情很差没有任何不适感，白带之前是正常的，而且我也没有怀孕！4月初左右照了B超，体检，都没有问题。': list index (0) out o\n",
      "Error processing prompt '你好我上个月差不多20号男朋友不小心内射了21号吃了紧急避孕药月经一般都是25号来上个月27号来了这个月月初中旬都做过没戴套没内射请问怀孕的几率大吗我应该要什么时候用验孕棒测试一下呢': list index (0) out o\n",
      "Error processing prompt '我十月中旬做了宫颈糜烂的手术，和抽取盆腔积液，两三个月以后同房出过血，估计可能是没恢复好，过了一阵再同房就没有血了。可是昨天同房又出血了，还带血块儿，去医院检查了阴道镜和b超都没有问题，那是什么原因出的血。': list index (0) out o\n",
      "Error processing prompt '怎么治睾丸疼痛呢啊！': list index (0) out o\n",
      "Error processing prompt '阴道炎严重吗？平时没有感觉，不疼不痒，房事儿也不难受': list index (0) out o\n",
      "Error processing prompt '白带少，偏黄，有时候类似豆腐渣一样。月经也有点不调，月经前两天正常，第三天开始几乎就没有了，很浑浊': list index (0) out o\n",
      "Error processing prompt '外阴疼痛是怎么回事啊': list index (0) out o\n",
      "Error processing prompt '男人不能生育是什么原因，无': list index (0) out o\n",
      "Error processing prompt '最近龟头有小红点，而且有异味，包皮龟头那里还红肿了，每次性生活之后感觉都有尿频的情况，是怎么回事，这个是不是包皮过长引起的啊，': list index (0) out o\n",
      "Error processing prompt '我同房十六天做的血检，没怀孕，末次月经是四月二号，准不准呢，还用再测吗？': list index (0) out o\n",
      "Error processing prompt '不排卵的治疗和预防方法': list index (0) out o\n",
      "Error processing prompt '在一个星期前，肛门口肿胀，以为是外痔，后叫老公帮我拍照，发照片去寻问说是肛周脓肿，后脓肿部位，慢慢渗出液体，其臭无比，去潮南振武医院检查做输液处理，现在脓肿已基本消失，说要完全好，就是要手术处理，请问一下，想能不能有什么药物可以彻底治愈。': list index (0) out o\n",
      "Error processing prompt '来月经的前三天，肚子一阵阵的痛，昨天晚上来月经肚子非常难受，月经量比也前多，颜色合以前不一样': list index (0) out o\n",
      "Error processing prompt '母乳期同房后会出血子宫时常隐隐作痛是怎么回事呢？十月份照了B超和白带常规及防癌检都说正常': list index (0) out o\n",
      "Error processing prompt '肛门有黑色肿块脱出的原因是什么？什么是肛门有黑色肿块脱出的原因？': list index (0) out o\n",
      "Error processing prompt '你好医生我三个月没来月经但是没怀孕去医院检查子宫大小正常内膜0.9cm然后开了黄体酮吃了两天小腹有点疼请问为什么呀': list index (0) out o\n",
      "Error processing prompt '五月一号来的月经到了六月二号都没有来六月二号做爱射里面了会怀孕吗？五月份没有过夫妻生活': list index (0) out o\n",
      "Error processing prompt '人流后37天没来月经该怎么办，我26岁，上次和男友做爱没保护，现在已经怀上了，但是不想要这个孩子，准备做掉，请问人流后37天没来月经该怎么办？': list index (0) out o\n",
      "Error processing prompt '阴道炎和宫颈炎怎么治呢，白带呈脓色除了异味腰酸疼在乎怎样的帮助：想知道阴道炎和宫颈炎吃药有效果吗': list index (0) out o\n",
      "Error processing prompt '我想咨询一下精子检查结果出现异常的治疗方法。': list index (0) out o\n",
      "Error processing prompt '性功能障碍是啥意思': list index (0) out o\n",
      "Error processing prompt '这个月5号来的14号吃了毓婷今天19号下面又出血是什么情况': list index (0) out o\n",
      "Error processing prompt '感觉下面不舒服去检查了一下说是尖锐湿疣，我不知道要怎么治疗才合适': list index (0) out o\n",
      "Error processing prompt '排卵白带发黄正常吗': list index (0) out o\n",
      "Error processing prompt '我本月十一号来的月经，今天有同房是否会导致怀孕的可能求解，因为我还不准备怀孕': list index (0) out o\n",
      "Error processing prompt '如果真的要用小鸡鸡捂气球，怎么办呢，这样做会有哪些危险呢？': list index (0) out o\n",
      "Error processing prompt '您好！请问我三月初第一次啪啪了，到现在也没来大姨妈也没怀孕是什么情况？？？': list index (0) out o\n",
      "Error processing prompt '尖锐湿疣能彻底治好吗？有什么好的治愈性的办法呢？谁能给我说一下呢我已经快要崩溃了呢！': list index (0) out o\n",
      "Error processing prompt '有点痒，洗澡时发现的，平时没注意，有过阴道炎，有过性生活，但近期没有了，白带也有点不正常': list index (0) out o\n",
      "Error processing prompt '我最近月经干净后同房发现有点出血，连续三天都这样，想请问这是怎么回事？': list index (0) out o\n",
      "Error processing prompt '手淫过度会引发起睾丸癌吗，你好！我叫cico，今年17快18岁..我两年前已经开始经常手淫，而且还要至到射精..您好会不会致使睾丸癌？曾经的治疗情况和效果：在乎怎样的帮助：麻烦帮帮忙解惑一下，谢谢！': list index (0) out o\n",
      "Error processing prompt '最近阴部有点不舒服，每天都很痒，想去抓又感觉不好意思，很是难受，去医院检查，结果是支原体阳性，医生说是支原体感染了。': list index (0) out o\n",
      "Error processing prompt '有霉菌性外阴炎能怎么治疗？，患霉菌性外阴炎将进3个月，这个月感觉已康复，过了性生活，可是感觉为什么又复发了呢，请问：有霉菌性外阴炎能怎么治疗？': list index (0) out o\n",
      "Error processing prompt '最近感觉阴道有点出血，特别是在性交以后，而且感觉到自己大小便有点不太顺利，有的是吧还感觉到下腹有点肿痛，后来常规检查发现是阴道癌。': list index (0) out o\n",
      "Error processing prompt '我那次也是喝醉了就我们就发生了关系，当时很后悔，怎么也没想到会得了性病啊，请问我现在该怎么办': list index (0) out o\n",
      "Error processing prompt '有死精症该如何治疗呢，您好医生，我想在这里咨询一下有死精症该如何治疗呢？结婚也有两三年了，一直没有孩子，父母都在催我们赶紧要孩子。一结果去了医院检查才发现我患有死精症。患有死精症应该如何治疗呢？': list index (0) out o\n",
      "Error processing prompt '我从月经初潮时就有痛经的毛病，本来以为时间长了就好了，谁知这都几年过去了，每次月经来的时候还是痛苦不堪。': list index (0) out o\n",
      "Error processing prompt '包皮环切手术有何风险？，包皮环切手术有何风险，术后会不会有什么后遗症，及手术前注意事项，以及手术价格有多少.': list index (0) out o\n",
      "Error processing prompt '尖锐湿疣，1月发现肛门有尖锐湿疣，去就诊后涂了一阵子咪喹莫特没太大效果，后来至皮肤病医院看，说要用光动力治疗法。先是激光了一次将肛门口的疣体清除，后来又做了3次光动力，目前仍然在治疗中，说还要再多做几次光动力才有可能完全清楚肛管内的疣体。': list index (0) out o\n",
      "Error processing prompt '肌肉拉伤后做爱一次有影响吗膝盖内侧和委中穴周围疼痛': list index (0) out o\n",
      "Error processing prompt '耻骨联合分离治疗，无': list index (0) out o\n",
      "Error processing prompt '痔疮初期有什么征兆？乌鲁木齐能治疗吗？，我感觉肛门疼痛有个疙瘩不知道是不是痔疮': list index (0) out o\n",
      "Error processing prompt '肾阳虚引起前列腺功能减退。2011年6月初下腹和肛门处难受，去西南医院泌尿外科确定为前列腺炎，吃了前后7个月西药和中成药，没反应，身体好像很虚了，2012年6月又去了重庆中医院，按前列腺吃中药冶4个月，就刚吃前两天有效。2014年11月干了几天重活小便不畅，肛门处坠胀严重，去了四川眉山中医院男科确定为肾阳虚引起的前列腺功能减退，吃了半个月药小便顺畅，但肛门处还是坠胀，就前两天吃药好些，后面就不行。': list index (0) out o\n",
      "Error processing prompt '刻意戒除手淫会起反作用吗1111112111': list index (0) out o\n",
      "Error processing prompt '药流后多长时间不能同房': list index (0) out o\n",
      "Error processing prompt '上上周吃过紧急避孕药，上周也是然后今天差不多是月经最后一天做爱了会怀孕吗？还要在吃一次吗？': list index (0) out o\n",
      "Error processing prompt '来完月经下面痒还有黄色液体排出这是怎么回事': list index (0) out o\n",
      "Error processing prompt '药流十天了，白带多，但没有异味，小腹偶尔有点点痛，请问正常吗': list index (0) out o\n",
      "Error processing prompt '病毒性鸡眼怎么治疗': list index (0) out o\n",
      "Error processing prompt '细菌阴道炎白带像水一样，用了硝呋太尔制霉素阴胶囊没什么用，请求医生帮忙，': list index (0) out o\n",
      "Error processing prompt '生完宝宝阴道松弛怎么办生完宝宝阴道松弛怎么办': list index (0) out o\n",
      "Error processing prompt '请为我推荐一款对阴液亏虚有帮助的中药材。': list index (0) out o\n",
      "Error processing prompt '已育有小孩。以前月经周期准时32天，年初吃过一次毓婷，今年周期一直是28、29、35、36天。上个月9月7号来的月经，持续4天，9月20号又吃了一次毓婷，9月26日出血了，持续2天多，10月16日又来血了，和以往不太一样的是，这一次一来就很痛，想问下这次的出血有没有什么问题啊': list index (0) out o\n",
      "Error processing prompt '我以前也有个淋病，我去医院输液就好了，我想问淋病光吃药可以好吗，吃什么药可以好': list index (0) out o\n",
      "Error processing prompt '医生你好，我想请问一下我的情况是否严重？我现在已经孕15周，小腹隐痛，晚上有宫缩，最近查出有出血，想知道怎样才能止血，是否需要吃药处理？还是就休息就可以？我非常担心对宝宝的影响，十分感谢！': list index (0) out o\n",
      "Error processing prompt '包皮系带短，经常不小心就撕裂了，疼的要命还好久好不了，这种的需不需要做手术': list index (0) out o\n",
      "Error processing prompt '肛交过，但没射精，之后就咽喉疼，是不是得艾滋病了': list index (0) out o\n",
      "Error processing prompt '龟头顿嵌水肿怎么治': list index (0) out o\n",
      "Error processing prompt '宫颈糜烂3度，以前腰会酸痛，现在没有了，白带黄，前两天有少许霉菌，现在无特殊不适。': list index (0) out o\n",
      "Error processing prompt '十几年前得过梅毒，是不是得梅毒时间越久，其传染性就会变得小一点，。': list index (0) out o\n",
      "Error processing prompt '我最近有一个很难以启齿的问题，就是我的肛门周围出现了一个小硬块，而且这个小肿块还特别疼痛，还会伴有坠胀不适、坐卧不宁、夜不能眠、大便秘结、排尿不畅成里急后重等症状，乌鲁木齐远大肛肠医院的医生说是肛周脓肿，请问：肛周脓肿的保健措施有哪些？': list index (0) out o\n",
      "Error processing prompt '我老婆不爱做房事我该怎么办？而我在这方面还比较渴望，又不想违背我爱人的意愿，所以我感觉很痛苦，我该怎么办？': list index (0) out o\n",
      "Error processing prompt '服用酚氨咖敏片须注意的事项': list index (0) out o\n",
      "Error processing prompt '醫生，我例假來了一個多月了，還沒有停，請問是什麼問題，還會出現血塊，': list index (0) out o\n",
      "Error processing prompt '查出死精怎么办才稳妥，射出死精怎么办，该如何治疗': list index (0) out o\n",
      "Error processing prompt '人流后35天了还没来月经，人流一周后去复查说子宫恢复的不错，也没淤血什么的。但是现在我下面总有像鸡蛋清儿一样的东西流出来，怎么回事？严重嘛？': list index (0) out o\n",
      "Error processing prompt '滴虫性阴道炎可以用哪些药，2011曾经的治疗情况和效果：一般在乎怎样的帮助：用什么药效果好': list index (0) out o\n",
      "Error processing prompt '龟头冠状沟处有点红肿，很痒': list index (0) out o\n",
      "Error processing prompt '17岁月经不调的原因': list index (0) out o\n",
      "Error processing prompt '月经走后2天的晚上同房肚子有点难受还有两次恶心第一次同房有防御措施没吃药会不会怀孕？': list index (0) out o\n",
      "Error processing prompt '右侧卵巢黄体是什么意思呢': list index (0) out o\n",
      "Error processing prompt '结扎今年八年了，妇科疾病好多生了，现在想生个宝宝可以吗': list index (0) out o\n",
      "Error processing prompt '针对下列疾病，哪种治疗方法是最有效的？面肌痉挛': list index (0) out o\n",
      "Error processing prompt '盆腔炎和盆腔积液症状有哪些': list index (0) out o\n",
      "Error processing prompt '我男朋友就顶了一下很痛然后就停了我去厕所用纸巾擦有血但是很少不是流出来的那种这算是部分破裂吗': list index (0) out o\n",
      "Error processing prompt '月经前几天体温会下降吗，我去年结的婚，最近总是肚子小腹疼痛，尤其是来事那几天，很害怕影响生育，而且十分的怕冷，怕寒。请问月经前几天体温会下降吗': list index (0) out o\n",
      "Error processing prompt '患了死精如何治疗好，死精子症如何治疗': list index (0) out o\n",
      "Error processing prompt '前列腺炎阴茎痛怎么处理呢，了，回去的第一件事情就是和老婆好好的亲热亲热，可是当我阴茎勃起后出去后就发觉阴茎很痛，然后很煞风景，老婆也没实施，我阴茎痛的很厉害，第2次就好一点儿了。': list index (0) out o\n",
      "Error processing prompt '包皮过长经常龟头痒用湿巾擦也不管用可以用什么外用药': list index (0) out o\n",
      "Error processing prompt '治疗阳痿小偏方，谁有救治早泄小偏方啊，我一好友因为得了阳瘘，非常的不信心，现在在单位都不好意思答话了，因为他阳瘘的事有一些单位同事知道了，他自己也用过壮阳药什么的，可是什么效果也没，还是阳瘘？': list index (0) out o\n",
      "Error processing prompt '您好，之前查出细菌性阴道炎，用药后复查又转变成滴虫性阴道炎，药用完有一段时间了，今天上厕所，从阴道流出了一大块乳白色的东西，像打湿的纸巾一样，这是怎么回事，是霉菌性阴道炎嘛': list index (0) out o\n",
      "Error processing prompt '霉菌性阴道炎三个月又要从头开始吗，病史：霉菌性阴道炎三月未俞': list index (0) out o\n",
      "Error processing prompt '如何鉴别痔疮和肛裂的症状？痔疮和肛裂的症状': list index (0) out o\n",
      "Error processing prompt '2月24号晚喝酒同房了结果发现来了大姨妈25号白天擦的时候才有血的痕迹晚上彻底没有了上个月大姨妈来了两次一月一号来了一次一月28号来了一次。现在有右侧附件区有4.7*4.1cm液性暗区边界清后壁回声增强子宫直肠凹见液区深约1.1cm大姨妈是不是喝酒激回去了我要怎么治疗是等到下个月大姨妈来不来么？': list index (0) out o\n",
      "Error processing prompt '今年出现4-5次尿频尿痛，1月前查尿常规正常，血常规也没事，从校卫生室吃药就好，却经常范，到底是怎么回事，要在检查什么？': list index (0) out o\n",
      "Error processing prompt '卵巢囊肿手术多少钱？，霉菌性阴道炎，医生开了甲硝唑氯已定洗剂350毫升，用法是擦洗阴道里面吗？': list index (0) out o\n",
      "Error processing prompt '产妇可以吃鲍鱼吗，本人下体特别痒，而且内衣上总是黄黄的，怎么回事？请问产妇可以吃鲍鱼吗': list index (0) out o\n",
      "Error processing prompt '有时一天要上几次厕所，大便纤细，大便后肛门火辣辣疼，检查结直肠炎，息肉已经手术割除': list index (0) out o\n",
      "Error processing prompt '月经前8天做爱体外射精怀孕几率大吗？平均月经周期是27天，会怀孕吗！': list index (0) out o\n",
      "Error processing prompt '包皮手术后龟头敏感，经常勃起，导致龟头冲血过久，变成青紫色，已经一个多星期，不疼不痒，只是时不时刺痛，精囊有时也会疼': list index (0) out o\n",
      "Error processing prompt '医生你好，我准备来月经的前两周就会有白带，但有时候颜色会偏黄，有时候是褐色，有时候有点味道，请问是怎么回事': list index (0) out o\n",
      "Error processing prompt '前段时间天气忽冷忽热，有天穿少了，就开始感冒咳嗽。又过了段时间跟朋友出去玩了，无性交。回来后感觉病情加重了，现在感冒咳嗽都好了，就是舌苔还是发白，网上查了下，有点害怕。': list index (0) out o\n",
      "Error processing prompt '医生请问怎样增强性功能？，现在房事几分钟就收工，真苦恼，请问怎样增强性功能？': list index (0) out o\n",
      "Error processing prompt '青海哪个早泄医院好？，您好！阴茎短小早泄怎么办': list index (0) out o\n",
      "Error processing prompt '宫颈糜烂手术没来月经怎么办，我做完宫颈糜烂手术一个月了就做完后的第三天来月经了，一个月过去了还没有来，是怎么回事啊，做完宫颈糜烂手术一个月没来月经怎么办？': list index (0) out o\n",
      "Error processing prompt '请解释一下激光和半导体在肛瘘手术后起到的作用。肛瘘手术后照激光和半导体': list index (0) out o\n",
      "Error processing prompt '取环子宫颈粘连怎么办': list index (0) out o\n",
      "Error processing prompt '外阴炎怎么治疗会较好呢，本人女生26岁这几天清洗内裤时总是发现上面有很多豆腐渣样的分泌物，而且非常难闻，平时自己也觉得私处潮潮的，有点痒，小腹也不舒服，请问：外阴炎怎么治疗会较好呢': list index (0) out o\n",
      "Error processing prompt '睾丸潮湿  ，1、睾丸潮湿': list index (0) out o\n",
      "Error processing prompt '刨腹产半个月了，想知道多久可以同房，同房以后可以怎样有效的避孕呢': list index (0) out o\n",
      "Error processing prompt '镇痛剂肾病的并发症': list index (0) out o\n",
      "Error processing prompt '我得了肛周脓肿，肛门附近长了个大疙瘩，疼痛难忍，现在走路还被磨破了。我想知道是否需要手术，需要先等疙瘩变软再手术吗，多久伤口可以愈合恢复，还有多久可以出院，准备多少钱，就诊需要预约。可以帮我解答一下吗？': list index (0) out o\n",
      "Error processing prompt '你好，我这个月7号来的月经，然后今天有出血情况，上午就一点点出血，中午吃了点辛辣的东西，然后就是红色的血了，还有最近一直都休息不好': list index (0) out o\n",
      "Error processing prompt '输卵管伞端粘连怎么办，想问下输卵管伞端粘连是什么原因的，应该怎么办啊，可以治疗好的吗，为什么会引起这个病的，没有不舒服的，可是怎么就会这样的啊，能治疗好的吗，伞端粘连要怎么办啊。': list index (0) out o\n",
      "Error processing prompt '就是说我现在就只是有那么几个痘痘，也不疼啥的，所以我担心这个是性病所导致的，马上去检查了医生说这个就是性病，让我手术，我不想手术，就拖了现在又长多了好几个': list index (0) out o\n",
      "Error processing prompt '增城爱群医院是男科男科医院吗？好不好？前列腺炎肾阴虚气血亏虚龟头过于敏感引起中度偏严重早泄，如何治疗？想到医院检查下。': list index (0) out o\n",
      "Error processing prompt '月经后一周做爱避孕套上有点淡淡的粉色血然后第二天去厕所分泌物上还是有红色的血比刚做完爱的血多': list index (0) out o\n",
      "Error processing prompt '患上子宫内膜炎该如何治？，医生我想问一下，近期总是肚子小腹疼痛，尤其是来事那几天，女性如果患上了子宫内膜炎之后，会有哪些症状呢？子宫内膜炎该如何治疗啊？': list index (0) out o\n",
      "Error processing prompt '针对以下症状需要检查哪些方面？阴茎勃起障碍、尿道有浓白分泌物': list index (0) out o\n",
      "Error processing prompt '没戴套和浴场朋友做爱，会不会得艾滋病。现在好害怕啊，吓死人了': list index (0) out o\n",
      "Error processing prompt '卵巢纤维瘤，我在20岁读书的时候，还是处女时，阴道有时会出血，血比较鲜红，去看门诊妇科时，开了一些药吃了没事.现在25岁了，偶尔会有阴道出血，夹在白带一起，就是一点，不算多，几年来都试过有10几次有出血，现在我好担心前几天去看医生，报告中显示，尿跟白带都正常，医生说可能患上卵巢纤维瘤，我好担心，也好害怕.我就是22岁那年，一年来才有过10几次性生活，这几年都从来没有过性生活.请各位医师为我解答，非常感谢！': list index (0) out o\n",
      "Error processing prompt '内分泌一下很多、像很稀的豆腐渣状还痒、味道酸、时好时坏的尤其是同房后明显、以前查说是霉菌性阴道炎': list index (0) out o\n",
      "Error processing prompt '请问我前天晚上11点左右服用避孕药第二天晚上9点左右同房不慎精子进入体内会不会怀孕': list index (0) out o\n",
      "Error processing prompt '白带有杆菌可以用小苏打清洗吗？处女可以在阴道塞药吗？': list index (0) out o\n",
      "Error processing prompt '左侧乳房溢乳，22岁，没怀孕，例假期间，按压乳房下方有轻微疼，例假快来前，乳头碰到就疼，例假来以后，乳头不疼': list index (0) out o\n",
      "Error processing prompt '子宫内膜异位症如何治疗呢，同事说，她最近的痛经特别厉害。她在月经期间每次都有痛经，但这几个月的疼痛感比以前的还要厉害。她以为她是吃冷食引来的。去医院详细检查后，医生说她有子宫内膜异位症。子宫内膜异位症会还伴痛经吗？这种病要怎么治疗啊？': list index (0) out o\n",
      "Error processing prompt '你好，我想问下黄体破裂跟盆腔积液。跟我吃避孕药有关系吗？我14号到16号腹部痛。15号的那天我还去了做运动，然后流了一点点血出来。我17昨天去医院检查出来是黄体破裂盆腔积液。我昨天到今天腹部都没有痛过了。': list index (0) out o\n",
      "Error processing prompt '我以前一直有手淫的习惯还很频繁，这两年腰部总是有凉风的感觉，但是手脚不冷，是不是阴虚阳亢？一直勃起困难。每天清晨都被尿涨醒，醒了就睡不着，所以整个上午都是昏沉沉的。最近把手淫戒了，晨勃也没有了，喝酒也少了很多，不过喝一次酒性欲要增强几天，，把酒戒了，想吃些中药调理一下，金匮肾气丸，桂附地黄丸，右归丸哪个适合我吃，先吃哪个？或者都不适合？请医生指导，谢谢！': list index (0) out o\n",
      "Error processing prompt '女性输卵管积水的主要症状是什么，女性输卵管积水的主要症状是什么': list index (0) out o\n",
      "Error processing prompt '你好，我想问一下，我的宝宝现在28天三天不拉大便了怎么办，打屁好臭好臭': list index (0) out o\n",
      "Error processing prompt '注射用盐酸甲氯芬酯的用法用量': list index (0) out o\n",
      "Error processing prompt '你好，我近期发现阴茎有疙瘩，包皮里面有白色分泌物，很痒，这是怎么回事？我需要明天去医院看一下吗？平时不怎么注意卫生，清洁较少，而且包皮长。': list index (0) out o\n",
      "Error processing prompt '请问龟头发痒脱皮是什么情况，痒得很忍不住抓，又疼，还脱皮，要怎么治，需要用什么药吗？': list index (0) out o\n",
      "Error processing prompt '子宫肥大影响生育吗': list index (0) out o\n",
      "Error processing prompt '关于预防宫颈癌的方法，请专家推荐一下？': list index (0) out o\n",
      "Error processing prompt '阴茎上长出好几个小肉芽是怎么回事了？这段时间才出现的症状了，比较担心，不知道是怎么回事，请医生帮我看看吧！': list index (0) out o\n",
      "Error processing prompt '为什么还会不排卵，是什么原因引起的，现在要怎么办，不排卵严重么，是什么原因导致的啊，现在要怎么办啊。': list index (0) out o\n",
      "Error processing prompt '克罗米芬一天一粒医生让吃5天我多吃了一天没啥事吧？Bc检测右侧卵12.8左侧10.2这多吃一天药会不会有影响啊': list index (0) out o\n",
      "Error processing prompt '卵巢早衰由什么原因引起？，今天我妈去医院健康检查，发觉右侧卵巢有个体积为2.0*1.7的囊肿，并且发觉盆腔内有些许积液，会阴部有瘙痒的症状在乎怎样的协助：卵巢早衰是什么原因引来的': list index (0) out o\n",
      "Error processing prompt '我得了早泄，已经有半年了。一般来说，我的性生活很短暂，而且博起不坚。请问有什么方法可以治疗吗？': list index (0) out o\n",
      "Error processing prompt '频繁遗精五六次是什么原因导致的，最近一周遗精五六次了，中午遗过一次，剩都晚上遗的，压制性交也有一段时间了，但最近突然频繁遗精': list index (0) out o\n",
      "Error processing prompt '外阴瘙痒，想去药店买药膏，妇炎洁用了也没起到很大作用，请问要去买什么药膏': list index (0) out o\n",
      "Error processing prompt '我自己的生活习惯不是很好，现在可能导致我患有支原体感染的疾病，请问一下这个支原体感染会有什么样的危害，有了解的人能告诉我怎么做吗？': list index (0) out o\n",
      "Error processing prompt '平时白带比较多，内衣经常换，但是味道还是比较重，前两天体检查出宫颈肥大，暂时还没有治疗，现在网上咨询看看。': list index (0) out o\n",
      "Error processing prompt '有时候乳头有点疼，有点痒，是怎么回事，是不是乳腺增生': list index (0) out o\n",
      "Error processing prompt '我最近老是感觉下体不舒服，阴茎和龟头附近都长了很多个小疱疹，而且肛周也开始长了，阴茎那有一个小疱疹出现溃疡，非常疼痛，去医院检查，医生说是生殖器疱疹，给我开了药物治疗。': list index (0) out o\n",
      "Error processing prompt '我之前吃了几年的丙茂酸钠，后来医生给我换了药，换成了奥卡西平片，我也吃了两个月，现在情绪也变得异常激动。这药是不是有什么副作用，对身体是不是有伤害。': list index (0) out o\n",
      "Error processing prompt '屁股里边走路疼，坐着不明显，翻身也疼，起床的时候也疼，受力后特别明显，查腰间盘ct也没有问题': list index (0) out o\n",
      "Error processing prompt '怎么办，我今年16岁，白带有点多又有异味，不是疼经的': list index (0) out o\n",
      "Error processing prompt '吃减肥药，晚上睡不着，吃不下饭，长期吃是不是危害很大？': list index (0) out o\n",
      "Error processing prompt '服用盐酸哌醋甲酯片须注意的事项': list index (0) out o\n",
      "Error processing prompt '月经期间，喝冷的，会怎么样，摸冷水呢？该怎样吃喝比较好呢，天气炎热，该怎么办呢': list index (0) out o\n",
      "Error processing prompt '一年前自然流产到现在一直怀不上怎么回事，你好，我怀孕后，现在有褐色分泌物流产，医生说这是先兆流产现象，请问一年前自然流产到现在一直怀不上怎么回事': list index (0) out o\n",
      "Error processing prompt '上个星期五已经九天了我有一次高危险的性行为，感觉这几天鼻塞，流清鼻涕，打喷，腿部出来皮疹，是不是艾滋病，那个女孩说自己有先天性白血病，而且她当时不让我戴套子，发生四次性关系，': list index (0) out o\n",
      "Error processing prompt '子宫摘除术后问题。今年5月份，因为卵巢囊肿等问题，在天津中心妇产医院做的子宫摘除术，两个月后复查，说伤口恢复挺好的，就是有线头存在，大夫说两个月后再去复查，看看线头还有吗？有的话再给取出。又过了两个月后，去取出了线头，这两天喝了一杯干姜水，阴部有出血现象，但是不多，怎么回事？': list index (0) out o\n",
      "Error processing prompt '死精常见的治疗办法是什么，死精症的常见症状是什么死精症的常见症状是什么呢，是什么原因致使的呢？死精症的常见症状是什么': list index (0) out o\n",
      "Error processing prompt '宝宝睾丸小怎么回事': list index (0) out o\n",
      "Error processing prompt '我月经来了半个月、而且只有白天有、而且颜色还不是红色的，我想问一下是怎么回事': list index (0) out o\n",
      "Error processing prompt '医生，您好，我三年前流产过后，每次来月经前，肚子像痛经一样痛10到12天，来月经后会就不痛了，阴道B超多次检查说子宫后位，有可疑肌瘤，肌瘤不大，我上传了图片，真的非常痛苦，3年来不断地看医生，都看不好，医生能不能帮帮我，要怎样才能看': list index (0) out o\n",
      "Error processing prompt '就是取环然后还做了个宫颈糜烂手术，就是做完手术一星期来月经了，但是月经来了十多天都还没停': list index (0) out o\n",
      "Error processing prompt '外阴白斑如何治疗好，我昨天确诊出患外阴白斑，一开始没太拿当回事，只是有两块皮肤变色，后来有扩张，老公建议我去仔细检查，诊断为外阴白斑，我想进行咨询一下，外阴白斑应当怎么治疗？': list index (0) out o\n",
      "Error processing prompt '我最近做了妇科检查，白带显示过氧化氢阳性，其他都正常，我想请问这是什么原因引起的？': list index (0) out o\n",
      "Error processing prompt '我女儿4岁时外阴一直痒，去医院，医生说没什么，可每晚她都要去抓都抓出血了，现在上WC都哭，求解！！': list index (0) out o\n",
      "Error processing prompt '我经期第三天和老公同房后吃了避孕药，两天后有褐色分泌物排出，我以为有炎症就用了保妇康栓吃了盐酸左氧氟沙星，吃了一天左痒后下边就有少量血排出了，我该怎么办啊，': list index (0) out o\n",
      "Error processing prompt '医生我最近两个星期有过不洁性行为，做爱时带套了，但是根部还是接触到了，也帮我用嘴那个了，过了一个多星期我晚上在外面玩好像是天气太冷喝了凉的回来感冒咳嗽了打了两天针也好了，之前还有点拉肚子，我很怕子自己的上艾滋病了，我不知道那个女的有病没有病': list index (0) out o\n",
      "Error processing prompt '小阴茎的预防和治疗方法': list index (0) out o\n",
      "Error processing prompt '今天上厕所被厕所水溅到龟头部，害怕感染艾滋病就立刻洗了澡，这样还会感染艾滋病吗？': list index (0) out o\n",
      "Error processing prompt '带了安全套，会感染艾滋吗？大约10天气，危险吗？很害怕现在。': list index (0) out o\n",
      "Error processing prompt '做了阴道息肉摘除手术应有哪些注意事项，岁问题描述：我于昨日在阴道镜下做了息肉摘除手术，医生给我开了\"罗红霉素胶囊\"和\"龙血蝎散\"各一盒后回家休息，请问这点消炎药够了吗？还应有那些注意事项？': list index (0) out o\n",
      "Error processing prompt '早泄是什么样的症状，我以前没再次发生过性关系，最近做过女朋友，但我已经开始射精后几乎两分钟。除了短暂的时间，我不觉着不舒服。硬度足够多。我快疯了。怎么会这样？这是早泄吗？早泄的症状是什么？': list index (0) out o\n",
      "Error processing prompt '每次做爱，阴道口就疼，生第一个小孩子的时候顺产，阴道口没缝合好，要怎么样才不会有那种疼痛感呢': list index (0) out o\n",
      "Error processing prompt '你好，外阴白班怎么治疗，外阴上长了几处白斑吗，白白的，不疼不痒，怎么治疗': list index (0) out o\n",
      "Error processing prompt '幼儿脱肛是什么原因？，无': list index (0) out o\n",
      "Error processing prompt '龟头和包皮反复出现小红点怎么回事？，半个月前，我的龟头和包皮再次出现小红点.吃了点抗生素，用温水擦洗后，消失了.可昨天又再次出现许多小红点，比上次还多些.我该怎么办？': list index (0) out o\n",
      "Error processing prompt '性欲较强，性生活相对频繁，偶尔手淫。由于不喜欢带套，所以比较多会采取憋精方式。前段时间发现如果射精，大多是血精（水）；如果憋精，则在小便时会出现血尿，偶尔有血块。特别是近段时间，每每性生活就是血精，很是苦恼。不便启齿看医，所以只好咨询您：1.该如何治疗？2.能不能自愈？（除此之外，平时喜欢运动，身体不错。在本地医院问医时不便道实情，只说是血尿，未敢说血精，所以医生建议做了尿常规、血常规，各项正常）': list index (0) out o\n",
      "Error processing prompt '男性性交障碍有什么表现，本人最近不知道怎么回事下体特别不舒服，而且也不晨勃了，请问男性性交障碍有什么表现': list index (0) out o\n",
      "Error processing prompt '小孩子尿道下裂怎么办有什么风险吗？，小几头从的蛋皮下出来': list index (0) out o\n",
      "Error processing prompt '包皮发红不痛不痒是什么引起呢，之前都没有，还有一点异味': list index (0) out o\n",
      "Error processing prompt '你是说我就直接根本就不可能感染艾滋病对吗？': list index (0) out o\n",
      "Error processing prompt '小儿尿道下裂的西医治疗': list index (0) out o\n",
      "Error processing prompt '医生请问，我是男的，有不洁性交，但戴套了，不过除阴茎外，其他地方和对方阴道口会有接触，这种情况会感染支原体衣原体等病毒吗或者可能性大吗': list index (0) out o\n",
      "Error processing prompt '剖腹产，产后42天检查说有盆腔积液，这个形象身体健康嘛？还有多少天可以同房呢？': list index (0) out o\n",
      "Error processing prompt '陆仲安是什么？什么是陆仲安？请解释陆仲安是什么？': list index (0) out o\n",
      "Error processing prompt '和老婆想要个孩子，去年努力了没什么结果。于是想检查一下我的精液，看看是不是有什么问题。': list index (0) out o\n",
      "Error processing prompt '死精子症可以做试管婴儿吗？，死精子症可以做试管婴儿吗？本人在精液检查时发觉精液内没活动的精于，被确诊为“死精子症，该怎么办呢？': list index (0) out o\n",
      "Error processing prompt '最近自己感觉腹部坠胀、来月经时候很疼并且腰部酸痛，在工作劳累后月经来的时候更近疼痛，去医院检查后发现是得了盆腔积液。': list index (0) out o\n",
      "Error processing prompt '月经量少，黑色，吃什么药调理最好？？？？？？': list index (0) out o\n",
      "Error processing prompt '得了慢性尿道炎该怎么办？最近得了妇科炎症，也没什么感觉呀，只是有点白带异常，不痛不痒的平时也不影响什么': list index (0) out o\n",
      "Error processing prompt '想做不孕不育检查，需要做哪些检查。，一年期间没有采取过安全措施，但也没有怀孕，历假推后': list index (0) out o\n",
      "Error processing prompt '宫颈炎的原因是什么呢，我去年人流了一次，后来复检的时候都好好地，没什么问题，怎么今年我就发觉下面那里痛，前天仔细检查的时候说我有宫颈炎了，我平时很干净的，不知晓什么原因致使的呢？': list index (0) out o\n",
      "Error processing prompt '肚子痛拉肚子肛门周围有点肿，卫生纸上有血怎么，病情描述：女，29岁，今天肚子疼拉肚子，肛门周围有点肿，卫生纸上有血，恶心  曾经治疗情况和效果：没有吃药，没有打针。想得到怎样的帮助：是痔疮吗？怎么治疗，吃什么药？': list index (0) out o\n",
      "Error processing prompt '站立走动没什么问题，坐着睾丸就疼还发热，请问是什么原因引起的': list index (0) out o\n",
      "Error processing prompt '我右侧睾丸有硬块、挂消炎药硬块没有消除，感觉自己的附睾炎，更严重了请问下右侧附睾炎能够生育吗': list index (0) out o\n",
      "Error processing prompt '大阴唇上长了红色的痘痘碰住会疼而且现在身上来月经了': list index (0) out o\n",
      "Error processing prompt '输精管堵塞会有什么影响，我跟老婆结婚也有一段时间了，妻子的肚子一直没反映，我们去做仔细检查，后来医生告诉我有输精管堵塞，请问输精管堵塞会有什么影响': list index (0) out o\n",
      "Error processing prompt '不知道是附件炎还是盆腔炎怎么办呢，同房的时候线面感觉不能够出去好象有东西堵着到了指导站查的只做了白带化验第二格是两个加号又给我摸了摸说是盆腔炎让我做理疗7-10天可我办到第三天不放心好了又去了中了中医院医生只是给我摸了摸说我是左侧附件炎不需要做理疗要挂三天水挂的克林霉素说挂完再给他看一看': list index (0) out o\n",
      "Error processing prompt '我在这个月初有过不洁的性交，从15号开始发现生殖器上长了同个不痛也不痒的硬下疳，我上网查了资料，觉得好像是梅毒的症状，我也没有到医院去确定，所以想到这里上来了解一下梅毒早期的症状是怎么样的，': list index (0) out o\n",
      "Error processing prompt '请求提供以下药物的不良反应列表。氯霉素注射液': list index (0) out o\n",
      "Error processing prompt '现在就是感觉下面有些痒感怎么办？在外阴部位痒感明显，很担心不知道这个是怎么回事，请医生帮我看看！': list index (0) out o\n",
      "Error processing prompt '白细胞＋＋淋球菌检查阳性最近小便刺痛就脓': list index (0) out o\n",
      "Error processing prompt '附睾肿大发硬的治疗和预防方法': list index (0) out o\n",
      "Error processing prompt '生殖器疱疹十七岁那年通过性交得的，年龄小不懂，也没治疗，后来自己好了，发病到后来四年吧，涨起来能到10厘米，根部细小，一圈只能到四厘米左右，治愈能增长增粗多少，最近好像勃起不够坚，要么没性欲': list index (0) out o\n",
      "Error processing prompt '我今年49岁，今年3月份来了一次月经，5月来了一次，每次都很少，现在又没有来了，而且出现失眠出汗等症状，是更年期吗，那月经会不会不来了，如何调整月经': list index (0) out o\n",
      "Error processing prompt '乙肝吃饭会传染吗': list index (0) out o\n",
      "Error processing prompt '例假推迟了五天，平常挺准时的，不过也没有在意，推迟期间同房过一次，第二天出现阴道出血，不多，一天出现了两次，感觉不太对，腰很酸疼，如果是例假，感觉跟以前的出血量不同，有可能是怀孕了吗？是因为在不知道怀孕的情况下同房所以出血了吗？': list index (0) out o\n",
      "Error processing prompt '请告诉我下列药品的副作用。对乙酰氨基酚': list index (0) out o\n",
      "Error processing prompt '昨天在医院检查出有宫外孕，医生叫我尽快做手术，我想问下宫外孕一般是怎么引起的，我以前没有做过人流。': list index (0) out o\n",
      "Error processing prompt '肚子疼了有8天了，恶心想吐，拉了2天肚子，第3/4/5天有出血，这几天没血了，做B超都正常，带有环，可现在还是隐隐腹疼，怎么回事啊？': list index (0) out o\n",
      "Error processing prompt '刮宫一个月了，来月经，但是量特别少，而且是深褐色的，几乎就来了一天，而且不需要卫生巾，护垫就可以，小腹有坠胀的感觉': list index (0) out o\n",
      "Error processing prompt '包皮手术最佳年龄是多少？，包皮手术最佳年龄是多少？什么情况下需要做手术？我有包皮过长，今年29岁，适不适合做手术呢？什么年龄做手术最好呢？哪些情况需要做手术？一直': list index (0) out o\n",
      "Error processing prompt '小肚子疼，一摁就疼。阴道流血，流的挺多，但不是月经期，已经第4天啦，身上没劲，就想睡觉，心烦，是怎么回事啊': list index (0) out o\n",
      "Error processing prompt '不知道为什么跟老公在一起大半年了都没怀上': list index (0) out o\n",
      "Error processing prompt '我被诊断为霉菌阴道炎。每个月的月经干净后都会出现异味和轻微的瘙痒。我已经有病史两年多了，并且按疗程用药，但是我复发了。我和我的丈夫都接受了治疗，但是我依然无法摆脱这个问题。': list index (0) out o\n",
      "Error processing prompt '我左侧睾丸前几个月就发现睾丸旁边长了一个圆形这样的小球，今天玩电脑右侧睾丸这边一摸就疼痛，疼到肺部这里，不摸也感觉到一点的疼痛': list index (0) out o\n",
      "Error processing prompt '2015年开始的，以前正常，最近开始房事越来越不好了。晨勃正常。晚上起夜1次。以前没有': list index (0) out o\n",
      "Error processing prompt '黑人用什么方法变白用什么材料可以变白。。。。。。。。。。。。': list index (0) out o\n",
      "Error processing prompt '请问最近性欲不高，射精无力，射精过后马上开始软了，这个事怎么回事是不是跟长期熬夜有影响，': list index (0) out o\n",
      "Error processing prompt '来月经前10天做爱没措施保护会怀孕吗？还用不用吃药啊': list index (0) out o\n",
      "Error processing prompt '你好。我想问下卵巢囊肿除了手术还有别的治疗方法吗？医生说做了手术还是会复发，月经很少少的跟要停经了一样跟囊肿有关系吗': list index (0) out o\n",
      "Error processing prompt '子宫内膜炎不治疗会导致不孕吗？，最近肚子痛，月经量比以前多，去尚美检查，发现是子宫内膜炎。:': list index (0) out o\n",
      "Error processing prompt '第一次发现屁股流血了，不是同大便一起，我擦屁股时发现，然后用纸巾擦拭时有血，但没有流出': list index (0) out o\n",
      "Error processing prompt '最近两年月经一直很少，时间也不准了，两三个月来一次。后来去做B超我有多发性子宫肌瘤。去年做了手术，近年来得子宫肌瘤的好多，医生说可能是因为生活方式的原因或者饮食的原因。': list index (0) out o\n",
      "Error processing prompt '月经一直都是推迟一个星期，最近几月都推迟10了，而且月经量越来越少，有时两天就没有了。白带检查正常，做了个防癌排查，结果就是有点炎症。': list index (0) out o\n",
      "Error processing prompt '东莞男科医院哪家切割包皮好？最权威？经常发出臭臭的味道，还有些黄色的液体，我估计发炎，要怎么办？严重吗': list index (0) out o\n",
      "Error processing prompt '流产40天，还没来月经。盆腔有积液。该怎么治疗？': list index (0) out o\n",
      "Error processing prompt '输卵管积水患者禁忌事项，这几天清洗内裤时总是发现上面有很多豆腐渣样的分泌物，而且非常难闻，平时自己也觉得私处潮潮的，有点痒，小腹也不舒服，请问：输卵管积水患者禁忌事项': list index (0) out o\n",
      "Error processing prompt '25号排卵期，27号早上爱爱的，月经也推迟了4天才来，这样会怀孕吗？': list index (0) out o\n",
      "Error processing prompt '做完人流后没有血正常吗？肚子也有痛这种情况正常吗？': list index (0) out o\n",
      "Error processing prompt '包皮过长怎么看如何治疗，我之前没留我同学说我包皮过但是我没啥感我看网上说包皮过长会致使尿液排不干可是我也没那种感所以我想好好问一下医生怎么方才能看包皮过长？': list index (0) out o\n",
      "Error processing prompt '阳痿可以吃蛋白质粉吗': list index (0) out o\n",
      "Error processing prompt '我昨天找朋友了但带了两层双保险的套无kj只xj并且套没有破损我现在很后悔我怕有事会得病我想问下医生我这样会吗': list index (0) out o\n",
      "Error processing prompt '子宫下垂3厘米严重吗': list index (0) out o\n",
      "Error processing prompt '您好！我的例假是6月1日（第一天），每次例假都很准，13日和17日我和老公同房，请问我什么时间可以查早孕': list index (0) out o\n",
      "Error processing prompt '睾丸破皮了，抓的。4天了，谢谢谢谢谢谢谢谢谢谢谢谢谢谢你们帮帮忙吧谢谢！！！': list index (0) out o\n",
      "Error processing prompt '外阴炎的治疗方法有哪些？，主要症状：白带增多粘稠最近好象有灼热阴道口上方有红肿病发时间：最近4天到5天化验仔细检查结果：没化验曾经的救治情况和效果：以前开的冰棚伞擦洗过在乎怎样的协助：有能口服的药物么？': list index (0) out o\n",
      "Error processing prompt '注射用氟尿嘧啶的副作用（不良反应）': list index (0) out o\n",
      "Error processing prompt '我流产后没几天就同房了，听说得了月痨病会死是真的吗，已经几年了现在有二岁了点现在月经不调，好怕会死': list index (0) out o\n",
      "Error processing prompt '当天不排卵会怀孕吗': list index (0) out o\n",
      "Error processing prompt '每个月19号来月经，15号和16号是安全期吗。': list index (0) out o\n",
      "Error processing prompt '外阴瘙痒，用盐水洗有用吗？，外阴瘙痒难受有几年了': list index (0) out o\n",
      "Error processing prompt '几个月前就感觉下面不舒服，有一些小疙瘩，疙瘩上面有些湿，有异味，最近发现疙瘩有溃烂现象，医生说我得了尖锐湿疣病。': list index (0) out o\n",
      "Error processing prompt '不慎口服一温度计里所有水银，有什么后果？？？': list index (0) out o\n",
      "Error processing prompt '我今年20岁，痛经严重，想问问我有没有必要去做妇科检查，该如何治疗': list index (0) out o\n",
      "Error processing prompt '你好？我滴虫阴道炎，清洁度3阴蒂痒厉害，阴道一般，现在用保妇康栓和甲硝唑片塞，月经后连用了八天，第二个月经期用了一天外阴疼，请问什么情况': list index (0) out o\n",
      "Error processing prompt '昨天上午12点左右测出排卵强阳，晚上就安排同房了，其实昨天的强阳自己是第4天了。今天也是12天左右测出来的是弱阳了，今天还需要安排同房吗？': list index (0) out o\n",
      "Error processing prompt '一个礼拜同房一次会不会对身体有影响啊？对女性影响大不大？？': list index (0) out o\n",
      "Error processing prompt '最近下面非常的痒，用手摸着阴道那好像有一些小疙瘩，小便的时候有点痛，在网上查了一下，说是尖锐湿疣。我就想问问尖锐湿疣怎么治疗快又好？': list index (0) out o\n",
      "Error processing prompt '您好，我现在的问题是性生活时间只有五分钟，以前是十五分钟。这个问题已经困扰我一年多时间了。我今年42岁，请问有治疗方法吗？应该如何治疗呢？谢谢您。': list index (0) out o\n",
      "Error processing prompt '之前检查过有盆腔炎，消炎了一段时间，现在结婚了，正在备孕，可以几个月了还没怀孕，去医院检查医生说什么输卵管通而不畅，什么是通而不畅，那是通还是不通啊，要怎么办，为什么我没有感觉啊，请问下这个病有什么症状么。': list index (0) out o\n",
      "Error processing prompt '我前天吃了避孕药昨晚上又上床了但是没射进去会不会怀孕': list index (0) out o\n",
      "Error processing prompt '今天性后老公说有可能射的有进去，这样会怀吗。事后我又去厕所。': list index (0) out o\n",
      "Error processing prompt '我的月经一直不正常，但这个月没有来大姨妈，突然有了黑褐色的分泌物，已经好几天了，有一点想大姨妈的痛经，但是没有痛经厉害，只有轻微的疼。今下午做了个b超，想问一下，这个黑褐色分泌物是什么原因导致的，是要来大姨妈的表现吗？': list index (0) out o\n",
      "Error processing prompt '自己前几天用的避孕套昨天又用了一次会得艾滋病吗': list index (0) out o\n",
      "Error processing prompt '请求医生帮助分析以下症状可能的原因和是否需要进一步检查或治疗。大便出血下腹坠涨，几天又好了。': list index (0) out o\n",
      "Error processing prompt '左下腹隐痛绞痛时有时无每天会有，15天前左下腹左睾丸痛尿带血色，现在大便有臭鸡蛋味道': list index (0) out o\n",
      "Error processing prompt '为什么阴茎尿道口抹了点红霉素软膏，然后离尿道一厘米处的尿道里开始痒了，为什么，如果是过敏，尿道口应该痒啊': list index (0) out o\n",
      "Error processing prompt '我有一个问题，就是阴径短小，长度还好就是太细，我想了解一下增粗的手术大概需要多少钱。': list index (0) out o\n",
      "Error processing prompt '做人流四十二天了还没来月经怎么回事啊请医生帮帮忙': list index (0) out o\n",
      "Error processing prompt '妇科普查的时候查出宫颈炎一度，是不是就是宫颈糜烂？': list index (0) out o\n",
      "Error processing prompt '你好，我的乳头有些内陷，是后天的。我生两个孩子都是喝奶的，但是这个喝的少。': list index (0) out o\n",
      "Error processing prompt '中度糜烂有念珠菌怎么办，我有中度糜烂，加上有念珠菌，怎么办': list index (0) out o\n",
      "Error processing prompt '下面痒要有半个月了这两天太痒了下面还有豆豆白带也不少怎么治疗会快点好起来': list index (0) out o\n",
      "Error processing prompt '来月经前一个星期胸部就开始胀手一碰刘恒疼而且来月经时呈黑褐色': list index (0) out o\n",
      "Error processing prompt '同房后第九天来例假了，但是经量比以前少，没有胸部和腹部的疼痛，是怎么回事啊，是着床出血吗，这次月经没有推迟': list index (0) out o\n",
      "Error processing prompt '最近这段时间经常会出现小腹坠痛的情况，有的时候白带和分泌物特别的多，前两天到医院进行了妇科常规的检查，才检查出来患有霉菌性阴道炎的疾病，而且有的时候白带呈现墨绿色的颜色。': list index (0) out o\n",
      "Error processing prompt '射精衰竭症怎么回事，主要症状：最后一次手淫后，勃不起来，也没精子发病时间：化验检查结果：': list index (0) out o\n",
      "Error processing prompt '在发现孕妇感染乙型肝炎后，可以做些什么预防措施，避免给胎儿带来影响？': list index (0) out o\n",
      "Error processing prompt '排卵期内ML第二天才吃72紧急避孕有用吗': list index (0) out o\n",
      "Error processing prompt '请问阳痿是怎么造成的？，我最近和老婆房事的时候，很快就射精了，除了的时候根本就硬不下来，强制出去还很痛，又不好意思去医院仔细检查。请问阳痿是怎么造成的？': list index (0) out o\n",
      "Error processing prompt '您好，我是这个月19号和先生办的事上次月经是7号。我的月经不正常，带了套套不过是先生快要出来的时候带的，而且精液漏出来了。我檫的时候感觉也有精子的味道，我会怀孕吗': list index (0) out o\n",
      "Error processing prompt '如果我没有吸烟史和家族遗传病史，但又不保证能不得癌症，请问我还能采取什么措施预防呢？什么是“7天减少2秒手淫成瘾教育法”？': list index (0) out o\n",
      "Error processing prompt '你好，我现在宝宝五个月大，产后46天开始来例假，每月很准时，量也正常。但是，每月排卵期会白带异常，白带像皮筋一样，呈固态，异常粘稠，用纸巾擦，后半段白带几乎是从阴道里拽出来的，深黄的，半透明，无异味，无瘙痒。请问这是什么毛病？需要治疗么？': list index (0) out o\n",
      "Error processing prompt '小孩睾丸变小怎么回事': list index (0) out o\n",
      "Error processing prompt '急急急高危三天患了尖锐湿疣4周检查阴口腔烂了一个星期了感冒半月一直好以后会转阳吗？': list index (0) out o\n",
      "Error processing prompt '请描述肛乳头炎的治疗方法': list index (0) out o\n",
      "Error processing prompt '阴道瘙痒，白带发黄，臭鱼腥味，老是想用手去': list index (0) out o\n",
      "Error processing prompt '鸦片是什么？': list index (0) out o\n",
      "Error processing prompt '激光治疗尖锐湿疣能彻底吗？有什么好的办法呢？谁能给我说一下呢？我已经做了一次激光了，昨天洗澡发现又有了！': list index (0) out o\n",
      "Error processing prompt '刚检查的附上报告，解脲脲原体是什么东西。查了百度一头蒙，我四年之前跟前男友有过性生活，这四年内只有跟我老公一个人发生过性生活，为什么会感染这个呢。我已经生完孩子了': list index (0) out o\n",
      "Error processing prompt '得尖锐湿疣，一年半没复发。手淫精液沾到有伤口的手上，会导致尖锐湿疣复发吗': list index (0) out o\n",
      "Error processing prompt '早泄要怎么调理呢，我今年35岁，性生活总是时间短，而且阴茎有点小，请问：早泄要怎么调理呢': list index (0) out o\n",
      "Error processing prompt '高三一年消耗太大，感觉元气损伤过大，身上阴毛经常脱落，勃起长度少了一半，怎么治疗比较好？': list index (0) out o\n",
      "Error processing prompt '我朋友前个月跟我说，她得了尖锐湿疣。5个月以前我朋友来我的城市。那时候她可能是潜伏期，在我家住了2天.三个月前我去她的城市我又去她那里住了一晚睡她的床，还坐了她的沙发，一起吃饭会不会感染': list index (0) out o\n",
      "Error processing prompt '过性生活带套了，不小心在套在女生里，拔出来，这样会产生怀孕吗？然后一两分钟之后肚子疼，求解？': list index (0) out o\n",
      "Error processing prompt '我这半年来一直是有尿急尿频的毛病，而且有的时候夜尿特别多，每天晚上都要上好几次厕所，晚上一直休息不好，白天上班没有精神，最近患频繁有尿急尽的情况，去医院检查了说是前列腺炎。': list index (0) out o\n",
      "Error processing prompt '我很害怕得上尖锐湿疣，因为男朋友有尖锐湿疣，我现在没有任何症状会得上尖锐湿疣吗，半个月和男朋友有一次同房，男朋友医院检查出尖锐湿疣。': list index (0) out o\n",
      "Error processing prompt '阳痿早泄，勃起慢该怎么办？，最近和女朋友做那个的时候有点力不从心，女朋友说我是不是早泄，而且我最近有点早泄，勃起还很慢，所以我想您好一下阳痿早泄勃起慢？该怎么办啊？': list index (0) out o\n",
      "Error processing prompt '4.19号月经来的，量少，服用妇炎康和炎热清片8天后干净5.5号月经又来了还是量少，以前每月经期规律，但总是淋漓不尽必须得吃消炎药才能干净，检查是子宫肌瘤多发性的，现在怎么才能月经自然干净不再服用药物': list index (0) out o\n",
      "Error processing prompt '霉菌很少的阴炎，医生给配了吃的药和塞的还有清洗的，一个疗程的，等药都用完了我还需要检查么': list index (0) out o\n",
      "Error processing prompt '氨酚烷，头孢，黄连上清片，板蓝根能同时服用吗': list index (0) out o\n",
      "Error processing prompt '服用复方苯巴比妥溴化钠片须注意的事项': list index (0) out o\n",
      "Error processing prompt '男人不孕检查项目有什么？，最近几年我老婆一直想要孩但是她总也不怀之前去许多地方检查以前有一些炎症现在也治好昨天她的意思是让我去做个仔细检我觉着也有可能是我的问不知晓男性不育一般去医院检查什么。您好男人不育检查项目？': list index (0) out o\n",
      "Error processing prompt '肛门hpv感染的症状': list index (0) out o\n",
      "Error processing prompt '我阴茎外皮肥厚还有点肿，可能和前段时间手淫严重有关。请问这种情况需要多久才能消失？': list index (0) out o\n",
      "Error processing prompt '尿频可是尿少，特别是坐着尿多是啥情况，还感觉有点潮湿，吃了一盒三金片感觉不起作用': list index (0) out o\n",
      "Error processing prompt '痛经是为什么啊？，医生，我每次来月经时的前两天，肚子都好痛，请问这是为什么啊》？': list index (0) out o\n",
      "Error processing prompt '我刚结婚不久，但是我和老公想尽快要个小孩，为了优生优育，我们到妇幼做了个详细体检，结果发现我们两个的支原体都是阳性，我最近白带确实也有点不正常，而且有一些痛经的症状出现了，': list index (0) out o\n",
      "Error processing prompt '先兆流产保胎后多久可以同房': list index (0) out o\n",
      "Error processing prompt '小腹痛一年了。可是它并不是连续痛，而是一段时间痛，然后隔几个月又痛。白带有淤血，最近小便时还会有血色的絮状物，经期的时候痛经特别严重，很多次差点痛晕过去，一年半以前去检查过是有盆腔积血，不过之后治疗好些了，可是最近小腹又痛了，我想问问怎么回事？谢谢解答！': list index (0) out o\n",
      "Error processing prompt '宫颈炎患者怎么治疗呢？，你好我女朋友宫颈炎不到的1度白带正常医生开了2盒怎么动用是连续动用还是停用1周再': list index (0) out o\n",
      "Error processing prompt '宫颈糜烂修复手术后持续出血怎么办，做了宫颈糜烂修补手术5号做的现在除了破皮18号来月经会干扰吗': list index (0) out o\n",
      "Error processing prompt '我白带有腥味，呈绿色，还有点多最近，然后去医院检查并没有阴道炎，霉菌滴虫都没有，医生说拿清水洗洗就行了，可是这半个月了还是这个样子，这半个月有考试挺紧张的压力大老熬夜，请问大夫是由于神经压力大引起的么还是别的什么原因啊？': list index (0) out o\n",
      "Error processing prompt '大夫你好，我半年前检查有霉菌性阴道炎，现在月经提前，而且量大，时间长，还伴有血块，请问这是怎么回事？': list index (0) out o\n",
      "Error processing prompt '对于以下情况，是否会有怀孕的可能性？具体的情况描述（如未采取避孕措施等）': list index (0) out o\n",
      "Error processing prompt '对以下情况的患者需要怎样的治疗方案？白带异常，瘙痒': list index (0) out o\n",
      "Error processing prompt '我跟男朋友都是处为啥我第一次没流血感觉全部进去了刚进的时候有点疼进去之后没感觉到疼破处了吗': list index (0) out o\n",
      "Error processing prompt '从无性生活这个月来过月经了已经结束了可是一个礼拜左右后上厕所擦纸时发现有透明液体混着一点有类似血一样的颜色之前也有过一次相同情况但是没有任何不舒服的情况想问一下是什么原因': list index (0) out o\n",
      "Error processing prompt '黄体酮胶囊快吃完了。有白带还挺多怎么回事': list index (0) out o\n",
      "Error processing prompt '外阴白斑症状是什么样的？老师给我们看外阴白斑的图片，我看见外阴都变白了外阴白斑的症状就是这样的吗？那么外阴白斑的症状是什么样的呢？': list index (0) out o\n",
      "Error processing prompt '12月18号吃了紧急避孕药当天就有少量出血第二天也少第三天到今天【12月22号】量多，': list index (0) out o\n",
      "Error processing prompt '月经推迟10天，因为之前没有性生活，所以确定没怀孕，当天晚上无措施同房，12天早上擦拭有粉红色血迹，下午又没了，怎么回事？': list index (0) out o\n",
      "Error processing prompt '精液里如果有艾滋病毒，冷冻以后在艾滋病毒会冻死吗？还可以正常要小孩吗': list index (0) out o\n",
      "Error processing prompt '请求专家推荐以下问题的治疗药物阴茎短小': list index (0) out o\n",
      "Error processing prompt '您好，想问一下，我好像是4号用了几天的乳酸阴道胶囊，9号晚上我没有用，同房了，第二天下午开始来血了，但是我来月经的时间应该是20号，刚开始来几天都是一天来几滴这样，这2天来得一点多，请问这种情况到底怎么回事，要不要紧': list index (0) out o\n",
      "Error processing prompt '月经刚刚走17天又来怎么回事去医院调理两次一直吃药没有调好': list index (0) out o\n",
      "Error processing prompt '治疗死精症的正确方法有哪些？，我患死精症，发现自己在性生活的时候没力气，非常容易疲惫，同时在精神上也非常的疲乏。应当怎样治疗产生死精的原因有哪些，怎样治疗得了死精症？': list index (0) out o\n",
      "Error processing prompt '生殖器疱疹病毒有哪些危害': list index (0) out o\n",
      "Error processing prompt '附睾炎需要如何进行病除呢，突然感到了不适，去检查后竟然得了这个病，请问：附睾炎需要如何进行病除呢': list index (0) out o\n",
      "Error processing prompt '月经前老有血色的分泌物，但又不是月经来了，月经前老有血色的分泌物，但又不是月经来了，请问什么原因，以前是褐色的分泌物，现在是有点血色患过阴道炎，霉菌性阴道炎': list index (0) out o\n",
      "Error processing prompt '患病四年多，目前在服药（柳氮磺等）打针（恩利），挂号专家说现在就可以要，只要没有吃沙利度胺这种药就可以，说现在吃的其他药没有影响，柳氮磺也只是减少精子量并不影响精子质量，恩利也对这个没有影响，还是不放心，想确定一下！': list index (0) out o\n",
      "Error processing prompt '你好医生我做爱的时侯2-4分钟就射精子过2天做爱精子就没有颗粒壮了这是怎么了': list index (0) out o\n",
      "Error processing prompt '阴囊潮湿该怎么治疗，治疗情况：无想要得到的帮助：延长射精时间': list index (0) out o\n",
      "Error processing prompt '医生你好，我这个月10月20号来例假27号结束。28号第一次跟男朋友发生关系，第二天吃了避孕药！今天才11月4号我月经又来了，而且比上次的量要多颜色也深了！这属于正常状况吗？': list index (0) out o\n",
      "Error processing prompt '从九月份开始大姨妈来都是吃药才完，上个月底我吃过避孕药，这个月六号来的，到现在还没完，颜色深，量大，之前去看说是中医说是崩漏，西医说是炎症': list index (0) out o\n",
      "Error processing prompt '一个月来了两次月经是怎么回事，个性生活有关系吗？': list index (0) out o\n",
      "Error processing prompt '怀孕初期没有白带正不正常。为什么有的说怀孕初期白带会增多': list index (0) out o\n",
      "Error processing prompt '你好，我想问一下为什么我的第一次没有出血，是什么原因呀，是不是没有处女膜': list index (0) out o\n",
      "Error processing prompt '顺产的宝妈们，阴道有没有松弛啊？露卡菲娅可以修复的？': list index (0) out o\n",
      "Error processing prompt '月经量少会影响怀孕吗？我和老公都备孕3个月了，消炎的，输卵管通液，喝中药都调理过了，怎么还是没怀孕呢？': list index (0) out o\n",
      "Error processing prompt '做爱时带避孕套了，做完爱没有立即拿出来，过了一会拿出来，男人阴茎软了，避孕套上有好多液体，这样会怀孕吗？': list index (0) out o\n",
      "Error processing prompt '前天做的人流，昨天因为一些原因没有吃药，现在下面有这种液体正常不正常？': list index (0) out o\n",
      "Error processing prompt '我的肝门附近长了很多的小硬块的，平时不敢坐下，只要坐下肿块疼痛就会加剧的，大便变得很干结的，每次排小便都很费劲，我觉得自己可能是肛周脓肿。': list index (0) out o\n",
      "Error processing prompt '女性外阴白斑治疗什么方法最好，我是济南本地人  34岁 女  一个多月前发现外阴瘙痒还有白点就去106医院检查，专家告诉我是萎缩性外阴白斑早期。及早治疗还是可以康复的，但请问什么方法治疗比较好啊？': list index (0) out o\n",
      "Error processing prompt '小便不适龟头泛红是泌尿系统出现问题吗，详细病情及咨询目的：小便不适，龟头泛红，触碰有疼痛感，射精后阴茎有时会胀痛，伴有早泄.本次发病及持续的时间：7.8年光景目前一般情况：如上所述以往的诊断和治疗经过及效果：前几天在中心医院做了个尿检 尿胆原      norm            0.1mg/dl     葡萄糖         -': list index (0) out o\n",
      "Error processing prompt '准备要孩子，5月26日来月经，6月14日凌晨体内射精，过几天就出现褐色分泌物，然后颜色变浅色一点了，感觉多了一些。今天验HCG没有怀孕': list index (0) out o\n",
      "Error processing prompt '霉菌性阴道炎要注意什么呢？，一个半月霉菌性阴道炎就反反复复复诊医院': list index (0) out o\n",
      "Error processing prompt '本月月经量特别特别少，就上厕所有点点，有时候有点血块，是怎么回事啊？没有避孕': list index (0) out o\n",
      "Error processing prompt '就是因为一直流水去看了医生，但是通常医生开了药都不是一下就好的，最近一直流水行动也不方便，该怎么样让它隔离？': list index (0) out o\n",
      "Error processing prompt '生过孩子8个月了，来月经得10天能没，咋回事': list index (0) out o\n",
      "Error processing prompt '注射用去水卫矛醇药理作用': list index (0) out o\n",
      "Error processing prompt '淋菌性尿道炎有哪些注意事项？，本人女，30岁。这段时间我觉得自己老是尿急，其实没什么尿但就是很急很急，而且尿尿的时候觉得有点刺痛，我很担心，请问：淋菌性尿道炎有哪些注意事项？': list index (0) out o\n",
      "Error processing prompt '请分类以下这些中药：人参、黄芪、当归、白芍、枸杞、山药、党参。': list index (0) out o\n",
      "Error processing prompt '您好！请问结扎了还能从身体里提取精子吗？如果不做复通术能进行生育小孩子吗？': list index (0) out o\n",
      "Error processing prompt '怎么能让月经少来一点呢我还要军训，除了红糖水还有别的办法吗？用凉水洗头可以让月经少来点吗？': list index (0) out o\n",
      "Error processing prompt '我与女友是青梅竹马，今年年初我们打算结婚要孩子，为了生一个健康的宝宝，于是爸妈叫我们上医院去做婚前检查，随后我们两人来到当地比较有名的医院做了检查，查后医生告诉我说我女朋友身体健康，而我则患上了无精症，我都快急死了': list index (0) out o\n",
      "Error processing prompt '我5月29号做了宫颈糜烂手术，这几天感觉有点出血怎么办': list index (0) out o\n",
      "Error processing prompt '刚刚和一个陌生女人做爱，没有带套，会不会感染艾滋病啊，我也不清楚对方来路，我真的好担心': list index (0) out o\n",
      "Error processing prompt 'hPV高危感染能治好吗？阴道难受，不能打干挠素。怎么办？一年多了？能彻底治愈吗？': list index (0) out o\n",
      "Error processing prompt '孩子3岁了，现在还没有治疗，尿道下裂，是阴茎体型的，我想问一下，好治吗？': list index (0) out o\n",
      "Error processing prompt '龟头太敏感，导致容易早射，怎么样才能治好': list index (0) out o\n",
      "Error processing prompt '药流18天还有少量出血，红色的，药流一周时做了B超说是没有异常，流干净了，当时还有褐色分泌物，后来吃了益母草颗粒和消炎药，又开始有少量红色出血，偶尔有一点血块，现在该怎么办，不想刮宫': list index (0) out o\n",
      "Error processing prompt '我最近经期推迟了一周，下体有流透明液体并且总感觉湿湿的，想知道需要去医院就诊检查吗？还是可以再等等？': list index (0) out o\n",
      "Error processing prompt '飞机杯密封包装，假如里面有艾滋病血液的话20小时后还会有传染性吗？': list index (0) out o\n",
      "Error processing prompt '阴道炎用药10天后开始痒了，原本是不会痒的，现在很痒是怎么回事': list index (0) out o\n",
      "Error processing prompt '我今年14岁，如果只发生了一次性关系会不会有什么影响？': list index (0) out o\n",
      "Error processing prompt '子宫下垂会出现什么症状吗': list index (0) out o\n",
      "Error processing prompt '您好，我最近感觉性生活时很容易就出现了早泄的情况，这种情况可能和我的手淫习惯有关。我曾经经常看性电影，但现在已经戒了，现在我正在服用六味地黄丸。': list index (0) out o\n",
      "Error processing prompt '没带的时候有点点害怕，我是今天带的环可以吃辣的吗？能不能抱孩子啊？还需要注意什么呢？是不是不能同房？': list index (0) out o\n",
      "Error processing prompt '前几天憋尿，憋的肚子疼，之后这两天感冒，在吃连花清瘟胶囊，但是，今天突然例假来了，上回是17号，提前了能有8天左右，这是怎么回事？谢谢解答': list index (0) out o\n",
      "Error processing prompt '我想知道摸过钱的手摸阴蒂是否会得艾滋病。': list index (0) out o\n",
      "Error processing prompt '我和我女朋友在6月18日发生性关系，她是5月31日的生理期，没有射里面，只是稍微摩擦了一下，请问怀孕的可能性大吗？': list index (0) out o\n",
      "Error processing prompt '半年前检查精液不好后就吃药，过了半年还是没有很大的变化。请问要怎么样才能治疗好': list index (0) out o\n",
      "Error processing prompt '膀胱炎的传播方式是什么，得了膀胱炎，到现在还不知怎么感染上的，所以想了解下膀胱炎的传播方式有哪些，是如何传染的？': list index (0) out o\n",
      "Error processing prompt '最近一段时间例假期间，经血流量少，偶有血块，是什么原因？如何调理？': list index (0) out o\n",
      "Error processing prompt '女人不排卵原因有哪些，你好，女人不排卵原因有哪些？我的月经周期是正常的，也没有出现痛经的现象，而且内分泌也没什么不调的啊，为什么就会出现不排卵的情况，让我怀不上宝宝呢？这是为什么呢？？？': list index (0) out o\n",
      "Error processing prompt '流黄水，有异味，想知道是阴道炎还是宫颈糜烂，用什么办法治疗？？？？？': list index (0) out o\n",
      "Error processing prompt '女30大姨妈还是不来，背又痛肚子又痛怎么办哦有没有什么调经的药吃呀': list index (0) out o\n",
      "Error processing prompt '我最近有性生活，后来感觉下面有些干疼，不舒服，害怕，现在是月经期第三天，一周内有感觉的，害怕是性病，那种湿疹什么的，请问可能是什么问题？': list index (0) out o\n",
      "Error processing prompt '最近几天感觉小腹越来越大，上网查了说盆腔包块也会导致小腹变大，想了解情况': list index (0) out o\n",
      "Error processing prompt '什么原因引起阴道炎？除了药物治疗，还有哪些方法可以缓解阴道炎？阴道炎': list index (0) out o\n",
      "Error processing prompt '你好我上环十天了，阴道有白色东西流出来，外阴瘙痒，裂口是怎么回事': list index (0) out o\n",
      "Error processing prompt '女性不孕不育能治疗好吗？，和老公离婚4年了，一直都没怀上孩子，买了一些药吃了，但是没什么效果，前几天去医院仔细检查，医生说我这种情况是不孕不育，心里面非常的担心，想知道智力啊不孕不育的方法。在乎怎样的帮助：女性不孕不育能治疗好吗？': list index (0) out o\n",
      "Error processing prompt '前列腺炎性分泌物主要怎么排出体？，医生我想问几下体内的前列腺炎性分泌物主要怎么排出来体外的，我有慢性前列腺炎，谢谢医生': list index (0) out o\n",
      "Error processing prompt '你好.老师我阴茎根部长了一个湿疣，用激光冷冻是不行的，有什么治疗方式，': list index (0) out o\n",
      "Error processing prompt '月经期间和白酒了怎么办？？本身经期就会肚子疼': list index (0) out o\n",
      "Error processing prompt '这两年发现自己有早泄的情况，到医院开了五子衍宗丸来调理身体，已经吃了有一段时间了，感觉效果不是很明显，这个药要吃多久才会看得到效果呢': list index (0) out o\n",
      "Error processing prompt '做过检查已经确诊是尖锐湿疣怎么治？上个月的时候出现的症状是外阴尖锐湿疣！': list index (0) out o\n",
      "Error processing prompt '霉菌性外阴炎怎么治疗，本次发病及持续的时间：外阴疼痛2个月辅助检查：霉菌性外阴炎请问霉菌性外阴炎的症状应该是什么。我用了好久的药了可一点效果也没有。我怀疑是别的病。外阴特痛，不能性生活了。第一次问题补充：那什么病会引起外阴疼呢。是不是性病啊': list index (0) out o\n",
      "Error processing prompt '性生活只能坚持一分钟了？自贡华新友好医院医生，我的情况已经出现很久一段时间了，就是每次过性生活的时候我最多就只能坚持一两分钟，然后就射精了！因为这个问题我老婆已经不是一次抱怨我了，请问这种情况能不能恢复呀？在哪里治疗会好一点呢？': list index (0) out o\n",
      "Error processing prompt '你好我屁股长了外痔疮涂什么药膏好啊拉大便的时候还会流血请问一下这个怎么治': list index (0) out o\n",
      "Error processing prompt '继发性女阴过度角化的发病原因？': list index (0) out o\n",
      "Error processing prompt '同房当天吃了紧急避孕药后第二天开始出血只到现在差不多有了十四天了，这是怎么回事，今天去看医生医院要我做了个验血还开了个止血的药，但是吃了肚子更疼了这是什么原因': list index (0) out o\n",
      "Error processing prompt '我感觉自己可能患有无精症，但是我说不出来是因为自己为什么患有这个病，我想知道这个病的详细症状表现有什么。': list index (0) out o\n",
      "Error processing prompt '你好，这两天阴道很痒，很难受，怎么办，自己去药店买了洗的跟塞的药': list index (0) out o\n",
      "Error processing prompt '宫腔粘连怎么治才有效果，你好：请问宫腔粘连怎么治有效果？想知道宫腔粘连怎么治好呢？': list index (0) out o\n",
      "Error processing prompt '这是精液检查报告，圆细胞是什么？？？最近严重感冒，有影响吗。求医生解答，看下能正常受孕吗？': list index (0) out o\n",
      "Error processing prompt '离排卵期还有七天，拿排卵试纸测试两条杠，一深一浅，说明书注明为阴性，到上网查为弱阳性，如果同房怀孕可能性大不大？': list index (0) out o\n",
      "Error processing prompt '茯苓，枣肉，熟地，泽泻，山药，北芪，杜仲，黄精，枸杞，当归，鹿茸，牡蛎，芡实，锁阳，龙骨，白术，牡丹皮，巴戟天，肉苁蓉，淫羊藿，阳起石，蛇床子五味子，党参，女贞子，甘草，菟丝子，补骨脂蛇床子、川芎、菟丝子、补骨脂、茯苓、红参、小茴香、五味子、金樱子、白术、当归、覆盆子、制何首乌、车前子、熟地黄、枸杞子、山药、淫羊藿、葫芦巴、黄芪，肉苁蓉，炙甘草': list index (0) out o\n",
      "Error processing prompt '避孕药（Postinor2）和延迟月经的药可以一起吃吗？': list index (0) out o\n",
      "Error processing prompt '男性感染了hpv会传染给女性吗': list index (0) out o\n",
      "Error processing prompt '有哪些方式可以预防宫颈糜烂？需要注意什么？如何预防宫颈糜烂？': list index (0) out o\n",
      "Error processing prompt '我上个月1号来的月经现在还没有来同床过后射了但是我马上就吃了避孕药的': list index (0) out o\n",
      "Error processing prompt '最近宝宝老是指着jj那块嗯嗯～问是疼吗？点头～看了看也没有什么就是蛋蛋下面有点红～是什么情况呢……严重吗？': list index (0) out o\n",
      "Error processing prompt '怀孕同房对胎儿有影响吗，出现这种情况我是很害怕的，动不动小腹疼痛，不知道怎么解决呢，所以我过来咨询，请问怀孕同房对胎儿有影响吗': list index (0) out o\n",
      "Error processing prompt '医生你好我今年20岁每次来月经的当天会上吐下泻肚子痛很严重上个月来月经痛晕倒了我痛经很严重每个月来姨妈都会肚子很痛还会腰酸我平时不注意饮食习惯所以我想问一下要做什么样的痛经检查？会不会影响怀孕？': list index (0) out o\n",
      "Error processing prompt '您好，我上个月14来月经，这个月22号化验血显示没怀孕，阴超显示内膜厚8，有血回流现象，然后医生配了黄体酮，我今天吃了，可吃好就肚子痛还拉，请问怎么回事？': list index (0) out o\n",
      "Error processing prompt '我例假一向正常有规律，这次在经期前两天房事的时候居然出血了，以为是例假提前来了，但是又没有，后面看姨妈巾上的血是棕色的，然后今天例假还是准时来了，但是从来都没有房事出血的情况，这种情况正常么': list index (0) out o\n",
      "Error processing prompt '医生您好，我最近几天痔疮又犯了，每次大便都会有一些血，然后肛门旁边长了一颗小米大小的痘，表面光滑，肉色，非常非常痒，几乎每次痔疮犯的时候它都会在同一个位置长出来，过几天痔疮好了它也就消失了，这两天肛门与阴道口中间也长了几颗很小很小的小泡，也是很痒，以前好像也有过，肛门里面有几颗黄豆大小的肉疙瘩，不疼不痒，也是跟肉的颜色一致，红色的，表面光滑。在我印象中犯痔疮的时候只有一次是疼的，其他时候都类似这种情况': list index (0) out o\n",
      "Error processing prompt '女友2月中旬来了一次大姨妈，3月28号来了一次大姨妈，然后一直没来，4月30号做了一次，没带套，射在体外了，请问要不要吃避孕药？': list index (0) out o\n",
      "Error processing prompt '男性的精子活力该如何提升，男性的精子活力该怎么提升？婚后一直都想早点生个孩子，但是一直都没有动静，以前我有抽烟喝酒的习惯，是不是因为抽烟喝酒导致的，抽烟和就会不会导致精液活率低，想问问医生，男性精子活力低怎么提升': list index (0) out o\n",
      "Error processing prompt '对以下药物的作用和副作用做出说明。头孢菌素': list index (0) out o\n",
      "Error processing prompt '我一直感觉白带有点异常，有酸味，该用点什么药物好、才做的检查。': list index (0) out o\n",
      "Error processing prompt '您好，我最近几天老是屁股眼那疼，好像边上烂了一样，大便完老是感觉不舒服，好像屁股没擦干净，是怎么回事': list index (0) out o\n",
      "Error processing prompt '可以使用以下药物缓解焦虑症状吗？阿普唑仑': list index (0) out o\n",
      "Error processing prompt '羟钴胺的毒性是什么？羟钴胺的毒性有哪些？请描述羟钴胺的毒性': list index (0) out o\n",
      "Error processing prompt '直肠癌术后有复发的可能吗？，一直恶心呕吐，都按恶心呕吐和痔疮治疗的，拉了好久不见踪影转好才去医院仔细检查，发觉直肠癌，立即手术，截掉一节化脓的直肠。术后彻底恢复很好，没什么不良反应，精神状态也不错，食欲也可以。在乎怎样的帮助：家人比较担心以后的扩张，会不会有病发情况，平时应当留意什么。': list index (0) out o\n",
      "Error processing prompt '三十多岁男人，可以和五十多岁女人同房过性生活吗？女人可以满足男人的性欲吗？': No candidates return\n",
      "Error processing prompt '和男朋友同房，他没有戴套，但是并没有射进去，但是这个月的姨妈已经晚了2天了，请问是怀孕了吗': list index (0) out o\n",
      "Error processing prompt '愈美甲麻敏糖浆的用法用量': list index (0) out o\n",
      "Error processing prompt '月经结束后第1-4天同房会怀孕吗？体外！第四天用排卵试纸测试显示未排卵！': list index (0) out o\n",
      "Error processing prompt '患有滴虫性阴道炎，用药4个疗程，今天去做啦第5次内分泌检查，清洁度3度，乳酸杆菌1，滴虫阴性，纤毛菌阴性，红细胞阴性，白细胞1，线索细胞少量，表层细胞2，PH值4.1，请问这个检查报告是恢复了吗': list index (0) out o\n",
      "Error processing prompt '治疗无精子一般要多久': list index (0) out o\n",
      "Error processing prompt '我就是阴道很痒然后去医院检查过说是盆腔炎还有卵巢囊肿。': list index (0) out o\n",
      "Error processing prompt '肛门发胀是什么原因': list index (0) out o\n",
      "Error processing prompt '以下病症的治疗方法是什么？肛门外癣时间很长结皮': list index (0) out o\n",
      "Error processing prompt '你好，我怀孕47天，前几天做了无痛人流，无痛人流要生孩子那样做月子吗': list index (0) out o\n",
      "Error processing prompt '排卵期同房后吃了紧急避孕药，会怀孕吗？上月20号来的月经，这个月推迟了两天': list index (0) out o\n",
      "Error processing prompt '子宫脱垂手术怎样的': list index (0) out o\n",
      "Error processing prompt '顺产30天恶露干净了！但是到54天的时候上厕所发现内裤上有血迹': list index (0) out o\n",
      "Error processing prompt '跟老公同房后第二天，一直想去厕所拉小便，小便的次数多量很少，这是怎么回事啊': list index (0) out o\n",
      "Error processing prompt '我一直有口腔溃疡，七八年了，上月口腔溃疡和阴唇內侧同时有溃疡，现在也是同时有，请问是什么病': list index (0) out o\n",
      "Error processing prompt '从小我有点尿频尿急，尿无力的症状，经常会尿到裤子上，包皮好像有点长，里面有残留的尿液，气味难闻，阴茎勃起的时候，龟头不能露出来，总是用手去拨一下，去医院检查，确诊是包皮过长，需要手术。': list index (0) out o\n",
      "Error processing prompt '月经干净的当天晚上就行了房下身就感觉撕开了个口有点疼会不会有问题？': list index (0) out o\n",
      "Error processing prompt '包皮包茎想做手术包皮好久一直没有注意现在想做八婆手术': list index (0) out o\n",
      "Error processing prompt '表皮破了，刀口中间鼓个包，我也挤了，什么也挤不出来，就是一上完大便就会肿起来，是因为上厕所撑到了吗？': list index (0) out o\n",
      "Error processing prompt '人流后一个月做彩超显示右卵巢可见一囊性暗区，大小约4.5×4.1㎝，边界清，内透声差，内可见低回声。': list index (0) out o\n",
      "Error processing prompt '我结婚一年了，但是一直没有怀孕，身体也一直很健康的，家时人特别的着急，前几天去医院检查了，说是输卵管有炎症。': list index (0) out o\n",
      "Error processing prompt '我产后13个月了还没有来月经，隔了奶一个星期了还是很胀奶是怎么回事？': list index (0) out o\n",
      "Error processing prompt '医生你好。我是3月13号吃的避孕药，而且如果没吃避孕药，15号左右应该就会来姨妈。可是今天已经3月23号了，还是没来姨妈，而且会肚子疼。最近5天左右作息有点不正常，而且饮食也不好，会不会是这个对这么久还没来姨妈有影响。我要不要去买个试纸测一下': list index (0) out o\n",
      "Error processing prompt '龟头炎，发红，冠状沟脱屑，勃起消退后龟头有皮屑，用了扶严宁，硼酸洗液，口服黄柏片，效果不好': list index (0) out o\n",
      "Error processing prompt '有阴道炎是刚来两个月的，医院看过了，现在想用邦女郎塞和要配什么消炎药了，还有注意什么？': list index (0) out o\n",
      "Error processing prompt '霉菌性阴道炎的治疗方法和是否有传染性，一年多前，感觉下身氧并且白带出现淡绿色而且有一股像死鱼的臭味一样，现在又像是臭鸡蛋的味道，去过当地的人名医院看过.': list index (0) out o\n",
      "Error processing prompt '生完孩子以后在月子里大便干燥，引起肛裂，大便出血，现在大便感觉疼痛，没有疙瘩': list index (0) out o\n",
      "Error processing prompt '第一次爱爱后出血，第二天没有出血，第三天出血是怎么回事？血量很少，在上厕所的时候会出现，请问是怎么回事？': list index (0) out o\n",
      "Error processing prompt '连续两个月吃了两颗避孕药，第三个月月经推迟20天才来，月经量少，来了六天，月经血恶心，臭，难闻。正常情况下，我的大姨妈第三天到第五天量都很多的。': list index (0) out o\n",
      "Error processing prompt '在快递店上班，每天很忙，心情很压抑了本来就，然后还有白带在身上一直弄脏内裤，更烦了，白带还是那种豆腐渣，莫名其妙就弄到内裤上': list index (0) out o\n",
      "Error processing prompt '人流第二天下面好痒怎么办啊？，病情描述：人流的第二天就开始痒大阴唇除外夜里白天都痒曾经治疗情况和效果：我用洁尔阴洗过好像好了一两天又开始了现在越来越来痒想得到怎样的帮助：要不要去医院好难受': list index (0) out o\n",
      "Error processing prompt '洗澡后，第二天感觉下面疼痛是什么原因那，那水不干净么，想咨询下什么原因，发炎了是不是': list index (0) out o\n",
      "Error processing prompt '右侧卵巢囊肿能同房吗': list index (0) out o\n",
      "Error processing prompt '自己有痔疮，应该是内痔，最近上厕所总是流鲜红色血，大便也不硬，最近下腹总是有点疼，不知道是不是刚上环导致的疼还是痔疮导致的': list index (0) out o\n",
      "Error processing prompt '阴道炎和宫颈炎应该怎么治疗才好，你好，我最近身体出现了一些问题，所以想咨询一下这种疾病，阴道炎和宫颈炎应该怎么治疗才好': list index (0) out o\n",
      "Error processing prompt '今早上上厕所肛门出来很多血是怎么回事啊': list index (0) out o\n",
      "Error processing prompt '请问阳痿是怎么造成的？，我最近和老婆房事的时候，很快就射精了，除了的时候根本就硬不下来，强制出去还很痛，又不好意思去医院仔细检查。请问阳痿是怎么造成的？': list index (0) out o\n",
      "Error processing prompt '看了有关于流产的病例，因为自己也在前两年做过人工流产，想问一下粘连是什么意思？有什么病症吗？什么时候会有呢？': list index (0) out o\n",
      "Error processing prompt '月经推迟了一个多星期今天大便的时候发现有点血但是不多现在发现又没有了请问一下我这到底是怎么了？': list index (0) out o\n",
      "Error processing prompt '痔疮会引起阴茎烧热么': list index (0) out o\n",
      "Error processing prompt '今天阴道突然一阵一阵痛，之前没有过，月经刚过三四天，人也有点感冒': list index (0) out o\n",
      "Error processing prompt '死精症能不能输液治疗呢': list index (0) out o\n",
      "Error processing prompt '哺乳期便秘，有时还便血；别人说晚上用黄连泡酒擦拭肛门可以治疗痔疮，但是我试过了，没有效果。没办法，听人介绍，又换用痔乐康牌的痔疮膏，晚上睡前推到肛门里面；症状也没有之前那么严重了。': list index (0) out o\n",
      "Error processing prompt '三度宫颈糜烂可以不手术吗？那不手术怎样治疗比较好？上星期检查出来的，医生说需要手术治疗，而我又不想要手术，请问用哪种药好一点？': list index (0) out o\n",
      "Error processing prompt '右侧睾丸下有硬疙瘩怎么回事，无意发现睾丸右下侧有一个小硬疙瘩。': list index (0) out o\n",
      "Error processing prompt '尿尿的时候有一些难受说不上疼但是有时候痒白带比原来多我原来去漂流有得过阴道炎其他的没有': list index (0) out o\n",
      "Error processing prompt '昨天刚做完人流手术，为什么今天就看不到血了？这是没弄好吗？': list index (0) out o\n",
      "Error processing prompt '性交后阴道肿痛.用热水洗过还不行，有点小腹痛.怎么办.急急急': list index (0) out o\n",
      "Error processing prompt '肛瘘是什么病引起的': list index (0) out o\n",
      "Error processing prompt '取环四个月一直没怀孕，上个月检查卵泡1.9，可是没成功': list index (0) out o\n",
      "Error processing prompt '你好，22岁，私处瘙痒，有异味怎么办，怎么解决啊，急，求解决，': list index (0) out o\n",
      "Error processing prompt '长期频繁sy的话会影响下棋水平吗？长期频繁sy的话会影响下棋水平吗？': list index (0) out o\n",
      "Error processing prompt '针对外阴炎有哪些症状，外阴瘙痒，有点干，肿。有红斑。白带呈豆腐渣状。请问专家这是外阴炎吗？用什么药啊、谢谢': list index (0) out o\n",
      "Error processing prompt '生殖器疱疹。我希望能找到治愈这种疾病的方法，您能帮我吗？': list index (0) out o\n",
      "Error processing prompt '我最近出现了阴道外豆腐渣分泌物，阴道里有纸屑，有点痒的症状，近期还曾排出5cm方形物类鱼豆腐有弹性，想问一下我可以直接拉开一些处方或者非处方药物吗？': list index (0) out o\n",
      "Error processing prompt '阴道炎吃什么药会好呢？，经常有些类似于豆腐渣的东西曾经的治疗情况和效果：没在乎怎样的帮助：应怎样治疗': list index (0) out o\n",
      "Error processing prompt '我有前列腺炎，每天按摩阴茎15分钟有时勃起有时不勃起，问一下按摩阴茎对前列腺炎有好处吗': list index (0) out o\n",
      "Error processing prompt '经期后性生活，一个没带套射，过几天又一个快射时戴套，现在怀孕了，是谁的几率比较大？': list index (0) out o\n",
      "Error processing prompt '你好有半年多了每次来月经前十天乳房就会疼痛来完干净就消失了是怎么回事': list index (0) out o\n",
      "Error processing prompt '现在是哺乳期，涨奶时把奶吸掉过会乳房就会很痛，是不是乳腺发炎呀？': list index (0) out o\n",
      "Error processing prompt '以下症状可能是什么疾病导致的？外阴毛痒局部起泡肛门处容易破': list index (0) out o\n",
      "Error processing prompt '我前段时间一次酒醉后跟一个陌生的女人有过一次性关系，现在的下身经常会张一些小红点点了，像乳头状，医生说是尖锐湿疣。': list index (0) out o\n",
      "Error processing prompt '吃了红线虫，红线虫钻进阴道有什么危害！！！！！！': list index (0) out o\n",
      "Error processing prompt '男性支原体感染需要治疗吗？早上起来时候有粘液封住尿道口，阴部胀痛、腰酸。这是得了支原体感染了吗？': list index (0) out o\n",
      "Error processing prompt '性生活会流产吗性生活会导致流产吗性生活对怀孕会带来什么伤害': list index (0) out o\n",
      "Error processing prompt '性交时用延时喷剂，能对早泄治疗有多少帮助？早泄喷剂对男性的帮助程度如何？': list index (0) out o\n",
      "Error processing prompt '女性有尿道炎会传染吗': list index (0) out o\n",
      "Error processing prompt '我有过不洁的性生活，前段时间发现生殖器上长了一点小肉疙瘩，看起来有点象菜花状，目前还是不痛不痒的。我怀疑是尖锐湿疣，请问医生，尖锐湿疣早期的症状是什么样的。': list index (0) out o\n",
      "Error processing prompt '请解释以下症状为什么出现橘黄色的白带？白带为什么是橘黄色的': list index (0) out o\n",
      "Error processing prompt '来完月经后白带就变色变成褐色的是怎么回事了我该用什么清洗以前没有这样而且白带的情况和刚来姨妈前的白带相似': list index (0) out o\n",
      "Error processing prompt '医生我想问一下，我前天去检查一下乙肝五项，有两项是阳性，医生说会传染，吃饭会传染么': list index (0) out o\n",
      "Error processing prompt '宝宝大便干燥出血拉不出来现在出现肛裂情况，2天排一次大便，已经3个月了，现在食欲不好不愿意吃东西，其除了大便拉不出哭闹，不吃饭，喝牛奶还可以，宝宝现在11个月，她3个月时候大便就干，到8个月才发现屁股肛裂了出血了，然后大便哭闹，拉不出': list index (0) out o\n",
      "Error processing prompt '输精管堵塞造成的不孕不育要怎么治疗？，我老婆一直都没怀孕，很担心是不是我们两个谁有问题，所以去医院检查，结果却是我这个输精管堵塞了导致的老婆不怀孕，不知道要怎么治疗这个疾病呢？': list index (0) out o\n",
      "Error processing prompt '跟女人做爱时间太短了，这怎么回事呢？人人都是这样的吗？': list index (0) out o\n",
      "Error processing prompt '最近一段时间每次和老婆发生关系后我的下肚子就胀胀的，睾丸也有些酸疼，胀胀的像是要掉下来的感觉，已经持续了有一个月的时间了，实在受不了，就去医院做了检查，医生说是附睾炎。': list index (0) out o\n",
      "Error processing prompt '我是上个月30号来的月经，到现在已经10几天了昨天和男盆友同房了就出血了，月经到今天还没停，之前检查过有轻度的宫颈糜烂一直没去治疗会不会癌变': list index (0) out o\n",
      "Error processing prompt '输精管堵塞要怎么办好呢？，我想要个孩子，就去医院进行了一下详细的检查，结果很不理想，医生说我这是输精管堵塞，这让有可能会不育，我特别的着急，想知道输精管堵塞怎么办？': list index (0) out o\n",
      "Error processing prompt '排尿困难是什么原因': list index (0) out o\n",
      "Error processing prompt '阴道口长有红色的疙瘩，也有几个月了，到没有什么变化，摸着不痛不痒，害怕是尖锐湿疣': list index (0) out o\n",
      "Error processing prompt '割包皮手术快1个月了还没愈合怎么办，伤口上有白黄色的东西，而且天天还有流出来液': list index (0) out o\n",
      "Error processing prompt '有哪些症状提示已经感染上了尿路感染？如何预防和治疗尿路感染？尿路感染': list index (0) out o\n",
      "Error processing prompt '如果还不确定自己得了艾滋然后和没有艾滋的人啪啪啪可不可以减少得艾滋的风险？': list index (0) out o\n",
      "Error processing prompt '长期通宵会不会导致阳痿，我是一个网管，基本都是夜班，每天都要熬夜，和朋友性生活后感觉自己身体不太行。': list index (0) out o\n",
      "Error processing prompt '月经期间过性生活会怎样？，我在来月经的第三天晚上，月经都干净了，所以就过了性生活，结束后又有血？我很担心会怀孕或对身体健康有影响....': list index (0) out o\n",
      "Error processing prompt '月经量特别少，几乎没有，只有上厕所的时候有点而且是棕色。': list index (0) out o\n",
      "Error processing prompt '从第一次来就痛得厉害！偶尔几次好点。现在每个月都痛得受不了！腰跟着腹部一起痛！想问问这是什么原因？': list index (0) out o\n",
      "Error processing prompt '医师你好，我想请问一下，今天中午我跟我男友发生了关系，然后要射时他有拔出来，然后我们才发现安全套破了，请问这样我怀孕的机率会大吗？今天是我月经期后的第六天，我这个月的经期是4月10号至14号。我有一个应用程序记录经期的，它显示预测受孕期起始日是4月24，然后4月29日是预测受孕期结束日，期间的28日是预测的排卵日。所以我要问医生我怀孕的可能性大吗？需不需要吃事后紧急丸。谢谢。': list index (0) out o\n",
      "Error processing prompt '阴滋病是什么？': list index (0) out o\n",
      "Error processing prompt '我2016年5月来过月经的，之后一直没不舒服，2017年2月又来月经了，月经来前有似蛋清的白带，这正常吗？我1970年出生的': list index (0) out o\n",
      "Error processing prompt '做完人流半个月后发生性关系，到现在还没有来大姨妈该怎么办？还请医生帮个忙': list index (0) out o\n",
      "Error processing prompt '一次性吃了一百多粒陈香胃片，会有什么副作用': list index (0) out o\n",
      "Error processing prompt '昨天下午和男朋友那个了最后的时候有一点痛早上起来上厕所擦的时候发现有一点血感觉跟磨破皮了一样这是什么情况明后天经期现在小腹也不舒服': list index (0) out o\n",
      "Error processing prompt '哺乳期生完孩子后得了细菌性阴道炎，自己都不知道怎么得的，平时很注意卫生，不知道是不是生产后过度清洁所致，产后每天用清洗液清洗，现在就是瘙痒，白带发黄有异味，怎么才能彻底根治，而且现在在哺乳期该怎么用药呢？': list index (0) out o\n",
      "Error processing prompt '洗澡时用力过大阴部有些微裂，出了一点血，小便时碰到伤口会很痛。': list index (0) out o\n",
      "Error processing prompt '如何治疗尿路感染？可以使用自我管理方式来辅助治疗吗？我有尿频、尿急、尿痛等症状。': list index (0) out o\n",
      "Error processing prompt '如何防止阳痿？，如何以防早泄？如何以防早泄？曾经的治疗情况和效果：没病只是想进行咨询下！在乎怎样的协助：没病只是想进行咨询下！': list index (0) out o\n",
      "Error processing prompt '前列腺增大伴多发钙化灶怎么治疗': list index (0) out o\n",
      "Error processing prompt '医生你好，我有过一次性生活，我口腔舌头发白，我两个半月去攀枝花四医院查，是阴性，能排除多少': list index (0) out o\n",
      "Error processing prompt '无精症能治好吗原因是什么': list index (0) out o\n",
      "Error processing prompt '精子射出来有带点血丝，请问是什么因素或病因？这样的情况是否严重？': list index (0) out o\n",
      "Error processing prompt '我最近右睾丸有点不适怎么回事？，我最近右睾丸有点不适，每天泡澡去搓到那和轻点力摸着右睾丸附睾处和附睾尾处会有轻微痛感，不轻抚不触碰就没感觉，睾丸不适是怎么回事？': list index (0) out o\n",
      "Error processing prompt '你好，我就是外阴瘙痒，白带像豆渣大概有三四天了，': list index (0) out o\n",
      "Error processing prompt '六月份月经推迟十五天，到七月一号到九号是月经期全程都是深褐色少量，前天25号晚上发现有血迹，26号半夜血就多了，好像月经又来了肚子很痛大量的血，今天凌晨四点疼醒了特别疼，因为之前吃了鹿胎糕做了通经络减肥，不知道是不是流产，七月10号到15号有同房没措施…': list index (0) out o\n",
      "Error processing prompt '请求医生对下列症状进行诊断并推荐治疗方法。大便次数增多，大便变细只拉一点，拉完坠痛不减不便血，肛门和肠子干燥。肛门有块小肉，无不适感不便血。': list index (0) out o\n",
      "Error processing prompt '姨妈推迟15天，没怀孕。内膜是12mm，20岁，要刮宫吗？可以吃啥药催经': list index (0) out o\n",
      "Error processing prompt '肛门上长出好几个肉粒，也是这段时间我才注意到的问题，想问问医生看看这个要怎么治疗会比较好啊，我很好怕会复发！': list index (0) out o\n",
      "Error processing prompt '上厕所小便时会疼是什么原因啊？谁能告诉我一下。': list index (0) out o\n",
      "Error processing prompt '你好医生，在近一年里，我都有想跟老公做爱的冲动，可真正做了，又不在状态，没有水，有些疼痛，我是不是病了？': list index (0) out o\n",
      "Error processing prompt '突然发现私处那里长出了好多小痘痘，大概和黄豆差不多大，鼓鼓囊囊的。我上次试着拿手去挤出来，发现流出来的都是脓液。我室友也看见了，说我可能长的是尖锐湿疣。': list index (0) out o\n",
      "Error processing prompt '下身痒白带多尿黄色月经不调带有血块白带很多还带有味我去检查出了有解脲脲原体阳性请问怎么治疗这个病': list index (0) out o\n",
      "Error processing prompt '双侧精索静脉曲张的睾丸疼是什么感觉': list index (0) out o\n",
      "Error processing prompt '我就想咨询一下精子没有射入阴道里，会不会怀孕，如果怀孕了怎么避孕最有效': list index (0) out o\n",
      "Error processing prompt '3月31号下午我和我男朋友做爱，做爱时也用了避孕套，到晚上月经来了，经期持续了5天，做爱那几天正好是和上上个月来月经的时间一样。但是到今天了月经迟迟不来，会不会有怀孕的可能。这几天种感觉有东西流下来，但月经还是没来，是不是与饮食，生活习惯也有关系。': list index (0) out o\n",
      "Error processing prompt '我上个月月经是11号来的，每个月都要提前5天左右我想往后推迟，请问吃什么药可以，好久吃。': list index (0) out o\n",
      "Error processing prompt '顺产第24天了，还有点点红色血。小便坐着排不完，站着才能排完': list index (0) out o\n",
      "Error processing prompt '月经刚走4天安全期内射需要吃药吗？男友之前几天已经射精过4次了，没有内射，这种情况有必要吃药吗': list index (0) out o\n",
      "Error processing prompt '宫颈糜烂三度，阴道炎也是重度炎症，由于宫颈糜烂暂时本地无条件做手术，想先治疗阴道炎，想问问，如果宫颈一直糜烂，阴道炎是不是就好不了？？': list index (0) out o\n",
      "Error processing prompt '饮酒期间可以使用药品，是否会对身体产生不良影响？服用甲氨蝶呤的患者可以喝啤酒吗？': list index (0) out o\n",
      "Error processing prompt '时间很短，阴茎变短小，明显感觉不如以前，勃起有障碍了，特别是最近这段时间很不行': list index (0) out o\n",
      "Error processing prompt '对下列疾病，哪种药物最有效？膀胱炎，月经期提前或推后': list index (0) out o\n",
      "Error processing prompt '4/27日晨，发现阴毛内有小的粉红色疙瘩，没有其他任何异样感觉！（一周前有高危性行业）麻烦请问一下这种是什么情况？平时要注意什么？可以怎样治疗？': list index (0) out o\n",
      "Error processing prompt '直肠炎引起的肛门下坠用啥药，三个月了，吃西药没效果': list index (0) out o\n",
      "Error processing prompt '你好；我是21号白天来的月经，刚刚来的时候月经还有一股恶臭味特别难闻根本不像是正常月经的味颜色也不对，到了晚上一个晚上却一点点血都没有了，然后22号下午又有一点点黄色的东西还有一股恶臭味完全跟血不一样然后晚上一个晚上又一点都没有了，请问医生我这种情况是怎么回事': list index (0) out o\n",
      "Error processing prompt '做性生活一直都没有感觉，也不想这方便的事情，孩子也生了，还是一样，我是不是没长阴蒂？这个咋办呢': list index (0) out o\n",
      "Error processing prompt '服用氯硝西泮片须注意的事项': list index (0) out o\n",
      "Error processing prompt '健康成人每天建议吃多少毫克维生素C？': list index (0) out o\n",
      "Error processing prompt '包皮一直比较长。不过不影响平时性生活。之前一直都是带套的比较润滑。上周没带套做的有点猛烈，做完之后也一切正常。但是过了两天，发现包皮比原来外翻了很多，而且肿了，且有10多个撕裂的伤口，不流血，但是伤口很多。很疼。平时包皮都是裹着龟头的，现在翻一下包皮都非常疼，因为那些撕裂的伤口。在包皮外侧。请问是什么原因？需要怎么治疗？': list index (0) out o\n",
      "Error processing prompt '跟乙肝患者共用香皂和水龙头，会传染乙肝吗？': list index (0) out o\n",
      "Error processing prompt '我割完包皮，又开了，又缝好了！的多长时间才能好': list index (0) out o\n",
      "Error processing prompt '阳痿早泄该吃啥常用药？，身体一直都很好的，平时的性生活也比较正常的，但是这段时间性欲变得扭过了，性交的时候也变短了，网上说我这种情况可能会是阳痿早泄，想知道治疗阳痿早泄的药物怎么治疗？': list index (0) out o\n",
      "Error processing prompt '最近开始有眼花耳鸣头晕腰酸软早泄尿道口痒应该咋办': list index (0) out o\n",
      "Error processing prompt '孕期一点点，褐色吧，说不上来红色还是褐色，就一天有，第二天没了，隔几天又有一点': list index (0) out o\n",
      "Error processing prompt '我46岁，月经一直很正常，但每个月都有规律地提前五天来，这次月经后完了第五天同房，会不会怀孕啊？丹媚说明书上说40岁以上禁用，我能吃吗？谢谢': list index (0) out o\n",
      "Error processing prompt '用了印度神油就勃不起了？应该怎么办，用多了一夜不勃？': list index (0) out o\n",
      "Error processing prompt '怀孕39周，下面白带有点多发黄这种情况大概有10天了。今天感觉下面有点肿，涨涨的，热热的，明显不舒服。不痒不疼。想问问我这是有阴道炎症吗？有什么办法可以治一下？': list index (0) out o\n",
      "Error processing prompt '下身瘙痒，有时痛，白带增多，呈黄色米糊状，有异味，性交时疼痛，尿分岔，2016年3月底开始有此症状，没有病史': list index (0) out o\n",
      "Error processing prompt '没有过性生活，大小阴唇包括阴唇黏膜都是黑的，我该怎么办！！请医生一定帮帮我！！': list index (0) out o\n",
      "Error processing prompt '什么是避孕用的三相片？，请具体说说': list index (0) out o\n",
      "Error processing prompt '最近连着两天大便肛门都有刺痛感和少量出血，而且便便成黑色，特别干硬，但是大便完后一切正常，也没有继续痛什么的，洗澡的时候用手摸了摸，摸到一个很小的包，请问该怎么办？这两天感觉特别干燥，跟这有关吗？是痔疮吗？好慌啊': list index (0) out o\n",
      "Error processing prompt '因为本身体寒的问题很严重，大姨妈来时痛痛痛。之前买的专门的红糖冲水不好喝，朋友就建议买龙博士富硒四物姜汤，喝了一下没有想象不好喝的味道，相反很好接受，可以作为长期饮用的东西。但喝这个能缓解大姨妈痛？': list index (0) out o\n",
      "Error processing prompt '去年十月份，月经三四个多月一直没停，医院看医生，医生开了一些药。说如果一周还有血就取环，吃了三天药月经就停了，但是到现在，已经三个月了，月经还没来。该怎么办，取环会有出血的问题么？': list index (0) out o\n",
      "Error processing prompt '房事后去药店买了紧急避孕药，吃了后过了三四天就撤退性出血前五天量多，后来每天就只有小点，可是一直有到现在十多天了': list index (0) out o\n",
      "Error processing prompt '月经第六天做爱会影响生育吗？如果还会出血的话会不会造成什么疾病': list index (0) out o\n",
      "Error processing prompt '我在大学厕所里自慰，结果没带纸，就用手指擦了，然后擦在墙壁上，又擦了龟头，会感染艾滋病吗？当时，墙壁是干燥的还是潮湿的我忘了。我会感染艾滋病病毒吗？我很担心啊！我感觉我有严重的恐艾心理，我该怎么办？': list index (0) out o\n",
      "Error processing prompt '以下症状可能是人流后宫口粘连，请说明。人流后的症状，宫口粘连。': list index (0) out o\n",
      "Error processing prompt '小JJ上长痘痘，特别疼，走路也疼，感觉肿起来了，外皮上也长痘了！变红色了！怎么回事？': list index (0) out o\n",
      "Error processing prompt '白带常规，清洁度3是什么意思，应该怎么办，无': list index (0) out o\n",
      "Error processing prompt '我怀孕3个多月是，有褐色分泌物是怎么回事。': list index (0) out o\n",
      "Error processing prompt '我和女朋友做爱，避孕套破了，我看见就拔出来了，但是没射，我听说做爱之前会留出前列腺液，所以问问，会不会怀孕，她一般29来月经，我们第二个月18号做的，会怀孕吗': list index (0) out o\n",
      "Error processing prompt '子宫脱垂有什么后果': list index (0) out o\n",
      "Error processing prompt '尖锐湿疣冷冻后HPV还会高吗？阴部不舒服到医院就诊，诊断为尖锐湿疣，冷冻处理2次后，无复发，期间化验HPV值120，TCT化验为非典型鳞状上皮细胞。': list index (0) out o\n",
      "Error processing prompt '直至今天妻子怀孕过两次，但都流产了。前几天，我去医院检查，大夫说我得的是死精症，我想问一下我这种病可以治愈吗？': list index (0) out o\n",
      "Error processing prompt '智商高的人，为什么不自信呢，，，，，，，，': list index (0) out o\n",
      "Error processing prompt '洛丁新盐酸贝那普利片对性功能有影响吗能长期吃吗': list index (0) out o\n",
      "Error processing prompt '提供关于以下症状的治疗方案。痔疮熏蒸后，第一次月经推迟，第三次正常，经血鲜红色，没有血块，腥臭味。': list index (0) out o\n",
      "Error processing prompt '刚出生的宝宝蛋蛋和鸡鸡有粘连一起，尿尿正常，现在宝宝半个月了，龟头有点干嗯黄脓，多久能做手术': list index (0) out o\n",
      "Error processing prompt '单纯疱疹病毒是什么病严重吗': list index (0) out o\n",
      "Error processing prompt '大便粘稠，偶尔便秘。肚子里有大便时肛门坠痛，睡觉时在床上翻个身也肛门坠痛，排便后就正常了。已持续一年半': list index (0) out o\n",
      "Error processing prompt '为什么我第一次来月经，月经是褐色的，而且很少？': list index (0) out o\n",
      "Error processing prompt '月经第十一二天还有褐色分泌物，这是怎么了': list index (0) out o\n",
      "Error processing prompt '请求医生帮助判断以下症状是否严重，并提供治疗建议。小便出血，尿痛，尿意强烈但尿不出来。': list index (0) out o\n",
      "Error processing prompt '前几天来月经前乳房胀痛，这几天一直痛是怎么回事？': list index (0) out o\n",
      "Error processing prompt '尿痛尿急晚上也有可能尿床了都不太清楚已经两年多了请问医生这是什么情况可以告诉我吗': list index (0) out o\n",
      "Error processing prompt '你好医生，我去年做过包皮和背神经阻断手术，今年有感觉做爱爱的时候有点阳痿早泄。去了个私家医院检查说是阴茎血管充血不足，说阴茎血管回流太快。他们给我有做了阴茎埋线手术。现在真的很但心没找到好医生。想问问有能力的医生给个好答案': list index (0) out o\n",
      "Error processing prompt '我在医院检查出得了肉芽肿性前列腺炎，而且还比较严重，想问一下肉芽肿性前列腺炎严重了怎么办？': list index (0) out o\n",
      "Error processing prompt '大概两年前，龟头棱开始红，龟头棱上开始有一些很小很小颗粒状的痘，不过并没有任何不适，但最近老是觉得打寒站，上网一查和尖锐湿疣很像，而且听说不好治，心里很害怕，，，，，我明明没有过性生活，也没有手淫，为什么会得这种病，，，，，，': list index (0) out o\n",
      "Error processing prompt '穿透性皮肤变性的原因是什么？': list index (0) out o\n",
      "Error processing prompt '妇科病盆腔炎积液怎么治': list index (0) out o\n",
      "Error processing prompt '我想了解一下，我有晨勃但在需要的时候却硬不起来，这是什么原因呢？': list index (0) out o\n",
      "Error processing prompt '临生产前有什么症状': list index (0) out o\n",
      "Error processing prompt '男子输精管堵塞的症状': list index (0) out o\n",
      "Error processing prompt '女儿三岁了，有吸吮挴指的习惯。现在上颚门牙有点变型，换牙时还能恢复吗？': list index (0) out o\n",
      "Error processing prompt '你好我老公晚突然出现乳房有剌痈请问是怎么回事': list index (0) out o\n",
      "Error processing prompt '六月五号来的大姨妈八号结束的。危险期同房没有安全措施而且每个月大姨妈经常提前一个礼拜这次大姨妈七月一号了还没来有没有怀孕的可能性？': list index (0) out o\n",
      "Error processing prompt '这月九号停的药到今天12天了月经一直不来，没怀孕，身体也没有任何不适，用不用吃点药催催经呀，什么药好呀，各位亲谁知道帮帮忙，好着急？拜托了': list index (0) out o\n",
      "Error processing prompt '醋酸甲地孕酮胶囊的副作用（不良反应）': list index (0) out o\n",
      "Error processing prompt '白带发黄有绿色怎么办？': list index (0) out o\n",
      "Error processing prompt '精子存活率低不低，[病情描述：我今年20岁，经常手淫，我在医院检查精子，报告显示精子存活率低，每天整个都是无精打采的.曾经治疗情况和效果：曾经吃过萆？分清丸和八正交囊.想得到怎样的帮助：我今年20岁，请问吃什么补肾生精的药.': list index (0) out o\n",
      "Error processing prompt '医生你好，偶尔一次两次过早(18岁以前)的性行为会导致宫颈癌吗？就一次两次': list index (0) out o\n",
      "Error processing prompt '都什么情况导致精索静脉曲张？，什么原因致使精索静脉曲张，想知道下精索静脉曲张的原因是什么，怎么就会这样的呢，应当怎么办啊，能治疗好的么，我老公做检验发觉的，可是没不舒服的，怎么办啊，能不能治疗好的，需要有怎么办，要做手术吗？': list index (0) out o\n",
      "Error processing prompt '我想请问一下，尿道口发红疼痛是怎么回事': list index (0) out o\n",
      "Error processing prompt '我想问白带有炎症可以打胎吗？刚好一个月零五天': list index (0) out o\n",
      "Error processing prompt '白带异常，发黄。大姨妈都7.8天才走！异味很重，月经后几天血色很淡，但是味的很重，发腥味！难闻': list index (0) out o\n",
      "Error processing prompt '关于出现女性不孕该咋缓解好，我去年结的婚，较近总是肚子小腹疼痛，尤其是来事那几天，很害怕影响生育，而且十分的怕冷，怕寒。请问女性不孕怎样缓解好？': list index (0) out o\n",
      "Error processing prompt '建议最好采取哪种避孕方法？未来几年不考虑生小孩': list index (0) out o\n",
      "Error processing prompt '插入比较深，挤压顶住宫颈口子宫有影响吗，主要症状：女上方ML，阴茎插入的比较深，挤压顶住宫颈口，感觉酸酸的，不舒服，子宫会受到刺激有影响吗？还能继续这样做吗？发病时间：化验检查结果：无': list index (0) out o\n",
      "Error processing prompt '有宫颈糜烂经期的第三天同房该怎么改善现在的情况会不会不能怀孕了': list index (0) out o\n",
      "Error processing prompt '有性生活月经推迟6天这几天小腹总是有像来月经那样隐隐的痛不严重还总胀气总想放屁腰也很累有点疼': list index (0) out o\n",
      "Error processing prompt '有店发懵啊，自己居然会有病毒性前列腺炎，但是还是搞不明白病毒性前列腺炎是什么': list index (0) out o\n",
      "Error processing prompt '包皮，有点早泄，想做手术，网上咨询羊肠线手术可以治疗，加包皮手术一起要多少钱，怎么个收费法啊': list index (0) out o\n",
      "Error processing prompt '我上月1号的月经，到现在也没来，是什么情况，测了也没怀，是怎么了': list index (0) out o\n",
      "Error processing prompt '处女，月经来前白带有点淡黄，外阴瘙痒基本是晚上，而且从14岁第一次来姨妈就感觉痒了，不去医院的话，建议用什么药呢，因为父母不知情。': list index (0) out o\n",
      "Error processing prompt '本身是容易上火的人，平时也注意不经常吃上火的东西。一上火大便就干燥，难拉出来。上个星期上厕所也是大便干燥太用力就出血了，拉大的会有点疼，但是现在不疼了。但大便还是经常干燥拉不出来，肛门又出血，好像肛裂了，会不会有什么，需不需要去医院检查一下': list index (0) out o\n",
      "Error processing prompt '22号来月经，什么时候同房容易怀上宝宝，有点小着急': list index (0) out o\n",
      "Error processing prompt '射精快应该怎么治才有好的效果，你好，我近期发现自己和老婆同房的时候自己经常忍不住就射了，怀疑自己是早泄，射精快应该怎么治才有好的效果': list index (0) out o\n",
      "Error processing prompt '得了支原体感染有什么症状？最近老是想小便，还隐隐的疼，早上起来发现自己尿道口有粘液性分泌物，感觉裤裆很潮湿，感觉很难受，整天都感觉很困扰，刚刚网上了解到说是支原体感染了。': list index (0) out o\n",
      "Error processing prompt '我是近半年才发生的，只是间接性的一小阵疼痛，最近疼的次数多了。以前有过宫颈糜烂，轻度未治疗，这是怎么回事医生？希望得到你的帮助': list index (0) out o\n",
      "Error processing prompt '月经两个月没来，没有怀孕去医院检查了说是内分泌失调吃了中药喝黄体酮后月经还是没来怎么回事': list index (0) out o\n",
      "Error processing prompt '尿痛是怎么回事怎么治疗': list index (0) out o\n",
      "Error processing prompt '您好我两年前和前男友开房我当时不是很愿意他插入的时候我立马把他踢开了但处女膜还是破了流了很多血但他就没再继续他当时应该带了避孕套我不清楚他之前有没有和别人有过所以我这种情况会不会感染什么疾病？如果他没有带避孕套我会感染吗？之后也没有什么特别的症状': list index (0) out o\n",
      "Error processing prompt '针对以下症状，应该如何治疗？龟头敏感早泄': list index (0) out o\n",
      "Error processing prompt '我媳妇自从三年前生了孩子之后，对性生活就越业越冷淡，现在是几乎不想，性交时下部干涩，爱液特别少，无病史长期不想过性生活，甚至怕等。': list index (0) out o\n",
      "Error processing prompt '我老婆带环不服，我想做结扎手术，就是不知道那家医院能做，对身体有影响没有。术后需要注意啥': list index (0) out o\n",
      "Error processing prompt '女人在月经来的期间做爱，会怀孕吗，做爱后对女生有什么伤害': list index (0) out o\n",
      "Error processing prompt '我离婚了经常手淫现在早泄了怎么办，我结婚一年多了，我有性交的习惯，现在我觉着很快就射精了可能性是早泄吧，有什么方法可以让我彻底恢复？': list index (0) out o\n",
      "Error processing prompt '我这个月的月经是11号来的，今天我月经已经干净了，什么时候容易怀孕？': list index (0) out o\n",
      "Error processing prompt '诊断内痔和肛裂，有没有好的治疗方法。痔疮很多年了，没有出现过疼痛，但是在3周前突然发现，排便出血，并且非常疼痛。去医院确诊为内痔和肛裂。经过使用化痔片、马应龙痔疮膏和麝香栓之后，现在痔疮好了一些，但肛裂一直很痛，没有缓解。': list index (0) out o\n",
      "Error processing prompt '医生您好！我的阴毛，腋毛也是非常浓密，长得想男性的，自己的性欲特别旺盛，自己也感觉难为情但也控制不住。有人建议说，把阴毛腋毛去做脱毛会减弱性欲，请可以吗？': list index (0) out o\n",
      "Error processing prompt '雷酸汞的性质是什么？雷酸汞的性质有哪些？请描述雷酸汞的性质': list index (0) out o\n",
      "Error processing prompt '我月经一直都是提前一周，这个月推后五天了，验孕没有怀孕，而且这几天肚子有时候会涨怎么回事': list index (0) out o\n",
      "Error processing prompt '座座位上阴部有异味，阴部不痛不痒，就是有异味。是穿紧身裤子造成的吗。经常出汗': list index (0) out o\n",
      "Error processing prompt '前列腺痛为什么会加重？，最近一段时间我尿频的非常的厉害，还总是感觉前列腺隐隐作痛，骨盆区域疼痛，阴茎、肛周部、尿道这些部位都不舒服。尿急、尿频、尿痛和夜尿增多等。去医院做了仔细检查说是前列腺炎。在乎怎样的帮助：前列腺痛为什么会缓解？': list index (0) out o\n",
      "Error processing prompt '月经不正常，子宫偏小，小腹经常会痛，白带异常，内阴道时不时的有刺痛感': list index (0) out o\n",
      "Error processing prompt '左侧附件包块，前天开始痛，今天B超显示，44mm?41mm，稍强回声光团，边界清，内部回声不均，其内可见散在的片状无回声区，右侧没有异常，请问一下这严重么？需要怎么治疗？先消炎观察吗？': list index (0) out o\n",
      "Error processing prompt '女性阴部起痘痘种类': list index (0) out o\n",
      "Error processing prompt '中度精索静脉曲张化验报告怎么看，我有中度的精索静脉曲张，这个精液常规检查结果正常吗？': list index (0) out o\n",
      "Error processing prompt '我丈夫多年的腰疼，几年来早泄最近有阳痿的情况，咋办？早晨还能晨勃.没有对这方面了解的朋友，想问下这种情况怎么解决': list index (0) out o\n",
      "Error processing prompt '连续几天都会有胀腰给阴道下坠是怎么回事？怀孕三个月了': list index (0) out o\n",
      "Error processing prompt '产后80天了，顺产撕裂快到肛门，是二胎，感觉肛门口收不紧，放屁憋不住，拉稀憋起来费力，去医院妇科医生看过做过肛检说挺好的，但是我为什么放屁憋不住，还能恢复吗？': list index (0) out o\n",
      "Error processing prompt '我做完人流46天，就来事了，但是昨天以为月经走了，用纸也擦了，都是没有血迹，就跟我对象同房，可是早上起来内裤上就有一些血迹，同房也带了避孕套，我会不会有什么事，不会影响下次月经来潮吧': list index (0) out o\n",
      "Error processing prompt '我发现我的腹股沟淋巴结肿大，阴唇上有丘疹，发疹前常有低热、头痛，肌肉、关节及骨骼酸痛等症状。去医院检查说有梅毒，男朋友也有梅毒，我该怎么办？': list index (0) out o\n",
      "Error processing prompt '慢性盆腔炎要怎么治疗才好呢，你好，咨询一下这种疾病，我刚查出来的了慢性盆腔炎，要怎么治疗好': list index (0) out o\n",
      "Error processing prompt '我也是想要孩子，没有避孕几个月了还是怀不上，我月经每个月都准时很正常，总感觉每次同房后，都没有完全精液弄进去，总是流出来很多，会不会这个原因导致怀不上了': list index (0) out o\n",
      "Error processing prompt '我早几天跟老公同房之后就觉得我的白带变得有点不正常，是豆腐渣样的，还有点出血。还有我觉得我的下半身特别的痒，去药房买了药，他们给我推荐了唯阴康，唯阴康的效果怎样。': list index (0) out o\n",
      "Error processing prompt '左大腿根部后侧放射性疼痛两年多了，起身跑步时更疼，腰部也拍了片子没问题，医生说是腰肌劳损，让做理疗做了几天没效果我都没去了，时轻时重有时右边也会疼，还有这跟房事过度有没有关系': list index (0) out o\n",
      "Error processing prompt '单纯的淋病治疗方法': list index (0) out o\n",
      "Error processing prompt '神经胶质瘤怎么治疗好，我想问一下，怎么能自己判断是不是血精？如果是血精，生出来的小孩会有哪些样的情况？如果是血精，在怀孕期间会不会有哪些异常的反应？尿道结石会不会导致成血精？': list index (0) out o\n",
      "Error processing prompt '小腹疼，不来大姨妈，也没怀孕，怎么回事，大姨妈推迟了五天，': list index (0) out o\n",
      "Error processing prompt '我最近小便时感觉包皮有点疼，发现包皮有点干裂，这是什么原因引起的呢？': list index (0) out o\n",
      "Error processing prompt '刘丽娇。女。二十六岁五月二十号月精走的，六月九号来的，一直没走，医生给我开了避孕药止血可以吗？吃二十一天会不会以后都不会怀孕了呢！': list index (0) out o\n",
      "Error processing prompt '我来月经还没有很多次，前几次都很正常，可是这一次延长。今天是第七天，但量还是挺多的，恐怕明天依旧会持续下去。这一次一开始就比往常要多，现在本来应该几乎没有了，可是却还是挺多的，我担心会有异常！': list index (0) out o\n",
      "Error processing prompt '你好，最近两天我的肛门有些疼感觉有什么东西似，有些痛，没有拉血，但感觉肛门处有什么东西似的；有两三天': list index (0) out o\n",
      "Error processing prompt '奶水是如何产生的，看着老婆给自家孩子喂奶真的很欣慰，感觉老婆真的太伟大了，奶水是如何产生的？': list index (0) out o\n",
      "Error processing prompt '慢性睾丸炎有什么症状呢？，慢性睾丸炎有什么症状呢？什么是慢性睾丸炎呢？慢性睾丸炎有什么症状呢？我好象就是，谁知道告诉我看一看我是不是。在乎怎样的协助：慢性睾丸炎有什么症状呢？什么是慢性睾丸炎呢？慢性睾丸炎有什么症状呢？我好象就是，谁知道告诉我看一看我是不是。': list index (0) out o\n",
      "Error processing prompt '之前月经每月准时来偶尔推迟，上个月七八九十号有性生活，21号也有性生活，23号早上月经正常来了。之后一直没有性生活，今天中午月经来了，只有一点点，下午没有。乳房有一点点涨，前几天干活有点累，感觉浑身没劲儿': list index (0) out o\n",
      "Error processing prompt '昨晚发现宝宝阴蒂红肿发痒阴道口有息肉怎么办而且宝宝今天一直哭闹': list index (0) out o\n",
      "Error processing prompt '每次来月经前都会疼痛难忍，这样痛会持续到经期第五天左右才有缓解，但是仍然没有消除。经期到第七天结束仍然疼痛。每次经期都没有吃生冷辛辣的食物。': list index (0) out o\n",
      "Error processing prompt '你好医生，精子存活才6到10条是什么概念啊，有得治吗？': list index (0) out o\n",
      "Error processing prompt '患有宫颈炎该注意什么？，我和老公才结婚一年，打算过几年在要孩子的，在半年前我做过一次人流手术，最近总下腹伴有肿痛，经常食欲不振还有恶心等症状，很难受，去医院进行检查知道患有宫颈炎。': list index (0) out o\n",
      "Error processing prompt '阴茎中间疼痛是什么原因': list index (0) out o\n",
      "Error processing prompt '中医认为女性不孕原因': list index (0) out o\n",
      "Error processing prompt '头晕，医院检查结果好像是供血不足，小腿总出冷汗，这是不是与平时做爱多有关系': list index (0) out o\n",
      "Error processing prompt '房事过后腿酸软无力，好几天回复不过来，干活无力，没有精神，是怎么回事': list index (0) out o\n",
      "Error processing prompt '我发现最近几天早上起来的时候，不知道为什么总是感觉乳房胀胀的，有些疼，洗澡的时候发现乳头也会有胀痛感，让我心里挺纳闷的。': list index (0) out o\n",
      "Error processing prompt '阴囊上有一些小疙瘩，每次涂药的时候，会觉得有点疼，还出现红点点还潮潮的，感觉有点想溃烂，痒的难受，去医院检查，医生确诊为阴囊湿疹。': list index (0) out o\n",
      "Error processing prompt '50多岁了还有没有必要做包皮手术，还有感觉我的阴茎不是很长，年龄大了可不可以做延长手术': list index (0) out o\n",
      "Error processing prompt '医生你好，我这是龟头炎吗，每次同房后女朋友都瘙痒，这是我传染吗': list index (0) out o\n",
      "Error processing prompt '当某种激素高于另一种激素时，是否会对身体的生长造成影响？雄性激素高于生长激素': list index (0) out o\n",
      "Error processing prompt '女性阴道松弛怎么办才好呢女性阴道松弛怎么办才好呢': list index (0) out o\n",
      "Error processing prompt '少精弱精怎么治疗': list index (0) out o\n",
      "Error processing prompt '睾丸隐隐作痛，里面好胀，4.5天了很不舒服，睾丸底部，希望能够解觉': list index (0) out o\n",
      "Error processing prompt '早些时候没在意，以为起了些小旮瘩过一阵就消了。这不越来越严重，很痒，不敢挠。现在变成像起了小水泡似的，里面像有黄色的液体。觉得自己得了生殖器疱疹但我个人卫生一直挺好的。': list index (0) out o\n",
      "Error processing prompt '尿液中有稠厚胶样物的鉴别诊断': list index (0) out o\n",
      "Error processing prompt '排便的时候用力尿道口会有白色的东西流出来。类似精液。有的说是前列腺液也有的说是润滑剂。没有前列腺炎的其他症状只有白色的物体流出。': list index (0) out o\n",
      "Error processing prompt '尿频尿急尿血女性怎么办？': list index (0) out o\n",
      "Error processing prompt '你好，我停经两个月，检查没有怀孕，吃了黄体酮来月经，今天我来大姨妈第六天了，还是月经多': list index (0) out o\n",
      "Error processing prompt '请问斑蝥有哪些作用？': list index (0) out o\n",
      "Error processing prompt '今天在医院检查确诊是尖锐湿疣，心里接受不了这个检查结果。自己没有什么不好的性生活怎么会得尖锐湿疣感染的呢。我现在想知道女性尖锐湿疣感染途径是什么？': list index (0) out o\n",
      "Error processing prompt '阴唇两边有白色分泌物，有事两边分泌物粘在上面好难洗掉，有时候会下面红红的会痛，有几次流出透明白带，下面有痒过一次，用红霉素软膏就不痒了。是什么原因，会传染吗': list index (0) out o\n",
      "Error processing prompt '造成性功能障碍的原因是什么呢？，了，最近她跟我说，她的老公好象有点性功能障碍，每次爱爱的时候都忍耐没法多长时间，搞得自己达不到高潮，想知道引发性功能的原因是什么？': list index (0) out o\n",
      "Error processing prompt '我4月24号月经，4月29完，5月3日爱爱，这样会怀孕吗，每月都是28天月经周期': list index (0) out o\n",
      "Error processing prompt '促黄体生成素偏低，促卵泡刺激激素测定偏低': list index (0) out o\n",
      "Error processing prompt '19岁，没有过性行为，前段时间小腹有肿胀感，后来白带增多，呈脓样有异味。晚上会尿频': list index (0) out o\n",
      "Error processing prompt '孕47天.孕酮低.宫内见一2.3*1.8的孕囊可见胎心.弱.阴道有点痒.怎么办': list index (0) out o\n",
      "Error processing prompt '最近的这几天因为我不喜欢喝水，导致我有点便秘，在上大便的时候肛门会偶尔有一点点的疼痛感，今天我在上厕所的时候发现，我的大便有一点血，看着好像还有一点点的分泌物，去医院之后发现自己得了肛瘘。': list index (0) out o\n",
      "Error processing prompt '急性肠胃炎传染方式': list index (0) out o\n",
      "Error processing prompt '吃了一个星期的左氧氟沙星，还打了三天的左氧氟沙星吊针，烧热痛有所减轻，但为了是否有感染支原体，衣原体，淋病，在停吃左氧氟沙星一天后去做了支原体，衣原体，淋病，结果都是阴性。但今天去检查那医生说可能会有影响，我现在阴茎里还有一点烧热感，但比之前减轻了很多，我想请教我现在吃什么药好？今天医院的医生给我开了一个星期的银花泌炎灵片。': list index (0) out o\n",
      "Error processing prompt '我排卵期发生性关系了会不会怀孕怀孕了要多少天能用验孕棒测出来': list index (0) out o\n",
      "Error processing prompt '请推荐一种针对肠燥内热证的中成药': list index (0) out o\n",
      "Error processing prompt '这几天拉肚子，大便的时候有血液滴出，一滴滴的很新鲜的，不痛没感觉。去医院检查是肛门癌，因为平时的身体状况都很好，得这个病很诧异，不知道原因。': list index (0) out o\n",
      "Error processing prompt '近二天阴蒂有些疼，但没紅肿，不知道用什么药': list index (0) out o\n",
      "Error processing prompt '你好，我6.13做的卵泡监测是2.01.7，6.14早晨监测卵泡已经排出，请问6.13晚上同房有可能受孕吗？还有6.14有点出血，会不会有影响': list index (0) out o\n",
      "Error processing prompt '我去医院检查医生说我得了肛窦炎，医生配了中药坐浴和马应龙痔疮膏和吃的药用了有十天了还不见好是怎么回事？还有更好的治疗方法吗我不想手术，请求帮助': list index (0) out o\n",
      "Error processing prompt '我是女生，三年前私处突然长了一个小疙瘩，大概不到一公分，呈白色，凸起的，今天年后突然发现这个小疙瘩好像跟以前的位置不一样了，并且有时候非常的痒，因为不好意思，所以没有去医院检查过，想问问这是什么': list index (0) out o\n",
      "Error processing prompt '我63岁身体健康.每天打球运动两小时.有晨勃.可是每次性生活开始时阴茎都很硬.但坚持不到射精便疲懒了.这情况已有几年了.请问是我的年龄大了还是身体上有问题': list index (0) out o\n",
      "Error processing prompt '我老公出轨了，他说责任在他，他一直给人家买东西，吃的，穿的，用的，还有话费。没有少买，花了2000多，他说他只是肉体出轨，补偿。但我觉得他那么用心，他是不是感情也出轨了？': list index (0) out o\n",
      "Error processing prompt '昨天晚上运动完后白带出现微量血丝，今天持续，比昨天微多。（以前没有运动过，这几天突然加强运动量）': list index (0) out o\n",
      "Error processing prompt '引起患男性不育了的原因是什么？，我都结婚有四年了，一直没上爸妈完成抱孙子的心愿，这两年老婆也吃了许多的中药在调养，一点儿效果也没，后来我也去医院看了，没想到就查出来我得了男性不育症。这是怎么引来来的呢。要注意哪些？': list index (0) out o\n",
      "Error processing prompt '龟头伤口已经长好了还需要换药么！这个粘连什么办法可以分离！需要不需要做分离手术，这个粘连严重不！因为现在我勃起很涨而且不能保持最硬度！涨和疼是不是也和里面的伤口没上好有关？说明确点，关于饮食和消炎我现在都很注意！': list index (0) out o\n",
      "Error processing prompt '我经常性的三个多月才能来一次月经呢，月经一点也不准的，前段时间腹部一直阵痛的不行，阴道会分泌出来很多的分泌物的。': list index (0) out o\n",
      "Error processing prompt '我做完包皮手术已经快两个星期了请问可以开始性生活了吗': list index (0) out o\n",
      "Error processing prompt '治输卵管粘连有哪些特殊表现，疑似输卵管粘连，目前的症状是月经不调，腹痛，偶尔会发烧，请问治输卵管粘连有哪些特殊表现': list index (0) out o\n",
      "Error processing prompt '我是天生平胸，丰胸用什么产品没有副作用并且效果好的': list index (0) out o\n",
      "Error processing prompt '阴部，靠近大腿位置，在皮下长了一个小疙瘩，碰的时候有点疼，请问是什么呢？需要如何治疗，突然冒出来的': list index (0) out o\n",
      "Error processing prompt '女性症状出现脓液该如何判断和治疗？': list index (0) out o\n",
      "Error processing prompt '无痛人流后几天可以洗澡洗头，无痛人流后几天可以洗澡洗头': list index (0) out o\n",
      "Error processing prompt '引起前列腺痛的常见病因是什么，真的非常苦恼，我早前被诊断出前列腺炎，现在就是尿急尿痛尿不尽，而且偶尔还会尿分叉，性生活方面也开始出现问题了，我还很年轻，真的感到非常的无助，请问：引起前列腺痛的常见病因是什么': list index (0) out o\n",
      "Error processing prompt '您好医生，请问怎样才能减少疼痛？刚进入两㎝就很疼了。': list index (0) out o\n",
      "Error processing prompt '做完爱，避孕套没拔出来，但是口口在外面，发现后立即拔出来了，这样会怀孕吗，而且做完后有点恶心想吐，我月经还没来，': list index (0) out o\n",
      "Error processing prompt '怀孕后白带应该是什么颜色': list index (0) out o\n",
      "Error processing prompt '头顶头发很稀少，发际线看的很清楚我才21岁啊，跟手淫有关系吗？如果戒了还会长出来吗？': list index (0) out o\n",
      "Error processing prompt '女28岁尿频尿痛快一周了而且还有点痒！': list index (0) out o\n",
      "Error processing prompt '我结婚生完孩子后，白带一直都不太正常，有点多，颜色发黄，有时候带有血丝，还有些异味，呈豆渣样，想知道日常时候中的注意事项。': list index (0) out o\n",
      "Error processing prompt '我的精子不液化，不知道要怎么治疗才好？大概要多长时间才可以治好？影不影响生育？': list index (0) out o\n",
      "Error processing prompt '输精管堵塞要怎样治疗哇？，我结婚已经半年多了，我老婆一直没有反应，家里人都很着急，我们去做检查，后来医生告诉我有输精管堵塞，这都要怎么治疗呢': list index (0) out o\n",
      "Error processing prompt '为什么第一次和她过后第二第三次还是会痛？': list index (0) out o\n",
      "Error processing prompt '发现输卵管堵塞怎样缓解，总是不怀孕，小肚子还常常觉得有点疼，去医院检查是输卵管不通，请问，发现输卵管堵塞怎样缓解': list index (0) out o\n",
      "Error processing prompt '我四十五岁，几个月例假正常天数多，这次二十多天还没走，量不大，伴有左小腹经常隐作痛是怎么回事': list index (0) out o\n",
      "Error processing prompt '带老婆去做检查的时候检查出了解脲支原体感染，她现在在家里调理，说准备服用药物治疗，解脲支原体感染用药多久能好吗。': list index (0) out o\n",
      "Error processing prompt '昨天早上喝一口白草枯。然后去医院了。现在会怎么样。谢谢医生。': list index (0) out o\n",
      "Error processing prompt '每次来例假都很疼而且有时候一个月两次第二个月就不来了请问例假疼跟处女膜破了有关么': list index (0) out o\n",
      "Error processing prompt '前列腺偶尔刺痛是哪些因素？，前列腺偶尔刺痛是什么原因？就是阴囊和肛门中间深处那里，但是除了偶尔刺痛以外没别的症状了，所以没去仔细检查，我平时应当注意点什么？不喝药可以调理过来吗？': list index (0) out o\n",
      "Error processing prompt '28岁，手淫多年，现在阴囊有点萎缩，精液稀少，还能恢复吗，影响生育吗': list index (0) out o\n",
      "Error processing prompt '宫颈因素与宫颈性不孕不育有什么关系？，女，28岁，结婚4年，一直没有怀孕。': list index (0) out o\n",
      "Error processing prompt '怀孕一个多月做人流手术后要注意些什么？不能碰冷水？': list index (0) out o\n",
      "Error processing prompt '左边小腹抽筋似的疼痛，有时伴随睾丸疼，是什么病症': list index (0) out o\n",
      "Error processing prompt '我和我男朋友在月经来的前5―6天爱爱了，他是外射，然后用纸才干净，然后又进了，会不会怀孕呢？': list index (0) out o\n",
      "Error processing prompt '女生小便出血是怎么回事儿': list index (0) out o\n",
      "Error processing prompt '手淫会导致前列腺癌吗，就是我经常手淫，知道一些后果，但是怕会不会得什么阴茎部位的癌症，尤其是前列腺癌，但是看了一些医学资料说，首先年轻人中几乎没有类似的癌症还有前列腺癌，还说什么手淫可以减少得前列腺癌和别的癌症的危险系数，这是英国和欧美的一些医学家得出的结论，现在问题是我担心我频繁手淫是否会得癌症，别的手淫得后果我知道，谢谢': list index (0) out o\n",
      "Error processing prompt '我是剖腹产，我之前满四十天同房，一直都戴套，后来有一次套套烂了，我吃了避孕药，然后五月十号来的月经，到了6月12号来月经，昨天还有一点，今天又没有了，正常吗。': list index (0) out o\n",
      "Error processing prompt '性交时阴道干涩怎么办呢，病情描述：性交没有分泌，老公的生殖器就痛应该怎么办？曾经治疗情况和效果：我没有治疗过想得到怎样的帮助：告诉我应该怎么办？': list index (0) out o\n",
      "Error processing prompt '月经走了七天了体外射精会不会怀孕？': list index (0) out o\n",
      "Error processing prompt '子宫收缩母亲会有什么感觉，本人下体特别痒，而且内衣上总是黄黄的，怎么回事？请问子宫收缩母亲会有什么感觉': list index (0) out o\n",
      "Error processing prompt '你好！我是三月二十五号做的人流同上环一起，可现在都五月三号了，还没来月经，去做了阴超子宫内膜恢复了0.9mm，可现在还没来月经': list index (0) out o\n",
      "Error processing prompt '这个月5号来的月经，每次都会提前，最近同房的时候有少量流血，接着几天都有少量流血，不知道是快来月经了流血还是其他什么问题': list index (0) out o\n",
      "Error processing prompt '白带有点多，月经一直推迟，异味有一点，外阴痒': list index (0) out o\n",
      "Error processing prompt '下面特别痒，去医院查了白带医生说没问题，开了止痒的药，但洗了没太大效果，有时候会突然特别特别痒，忍不住挠但越挠越痒，不知道怎么办，尤其是晚上12点左右，有时会把自己痒醒': list index (0) out o\n",
      "Error processing prompt '无精症用中药怎么治疗，无精症用中药怎么治疗呢？什么是无精症呢？中药治疗无精症方法有那些呢？知晓的告诉我一下。': list index (0) out o\n",
      "Error processing prompt '有过一段时间的手淫史，现在没有了晨勃，勃起也就半勃的状态，勃而不硬，请问这是不是阳痿了？': list index (0) out o\n",
      "Error processing prompt '月经不调，过度出血，来一次隔了几个月，一来就是两个多星期': list index (0) out o\n",
      "Error processing prompt '手淫过渡肾疼，精子不黏稠，勃起不硬，，能恢复吗.不会影响以后生育吧': list index (0) out o\n",
      "Error processing prompt '血液检查梅毒特异性抗体阳性，快速梅毒反应素阴性。没有症状和不适，大腿内侧有一个小小的硬疙瘩不知道是不是症状。': list index (0) out o\n",
      "Error processing prompt '女性，三十五岁，十八岁的时候就和当时的男朋友发生过性关系，并流产过五次，现在生了一小孩，已经三岁了，最近感觉肚子老是疼，而且疼的厉害，月经量也比较大': list index (0) out o\n",
      "Error processing prompt '男，21岁。两个月吃了400mg地塞米松会有什么后果计量大吗。。会有什么严重的后果吗两个月吃了自行400mg地塞米松平均每天八毫克': list index (0) out o\n",
      "Error processing prompt '我做了宫颈糜烂激光手术，第二天用药时不小心用力按到伤口上，会对恢复有影响吗？': list index (0) out o\n",
      "Error processing prompt '请帮帮我！为什么我的下面总有异味，我还是个学生。': list index (0) out o\n",
      "Error processing prompt '女朋友月经后第六天爱爱射进去了一点点，但及时拔出来了，会不会怀孕啊？': list index (0) out o\n",
      "Error processing prompt '男性不育的因素或病因可能有哪些啊？，结婚打算生孩子，可是生不了，婚前我们这边是不做检查的，婚后有哪些问题才检查，现在我不能生育，我也不知道是什么因素或病因导致的男性不育，我最近比较忙，等忙完就去做检查。': list index (0) out o\n",
      "Error processing prompt '人流之前我的宫颈很好，人流手术后检查白带都正常，但是今天用手摸到宫颈感觉不光滑，和做手术前不一样，像是起疙瘩一样，不痒也不痛，这是人流后引起的吗，会恢复成原来吗？': list index (0) out o\n",
      "Error processing prompt '胃肠扩张与脱肛的原因是什么？': list index (0) out o\n",
      "Error processing prompt '之前是由于内膜薄雌激素偏低半年没来月经医生开了21天补佳乐+最后十天的每天五片的安宫黄体酮，现在是停药的第四天总算来了月经，今天是来的第一天，但是经量特别少，呈淡粉色，小便时有一点点血丝和小血块颜色都很浅。': list index (0) out o\n",
      "Error processing prompt '你好大夫，我去体检，盆腔积液4.2X2cm，宫颈糜烂二级，不会造成不能怀孕吧。如果积极治疗能好吗，能怀孕吗？': list index (0) out o\n",
      "Error processing prompt '你好！我宫颈息肉手术后一直流东西！流了一个月后才干净！之后外阴有点痒！而且还有白带是怎么回事啊？这严重吗': list index (0) out o\n",
      "Error processing prompt '孕期外阴瘙痒难受怎么办': list index (0) out o\n",
      "Error processing prompt '死精症怎样能治疗好，医生我是不孕不育患者，我的精子存活率非常低，请问我还有机会拥有自己的孩子吗？死精症怎样能治疗好': list index (0) out o\n",
      "Error processing prompt '造成卵巢性不孕的原因是什么呢？，检查出患有卵巢性不孕，想知道原因。': list index (0) out o\n",
      "Error processing prompt '眼酸硷化学伤的病因是什么？': list index (0) out o\n",
      "Error processing prompt '怎样预防HIV病毒的传播？不使用未经消毒的注射器、不共用吸毒用具。': list index (0) out o\n",
      "Error processing prompt '上个月16号来的月经，23号走的，每个月月经大概会前后一天，29号和本月6号有同房，今天还月经还没有来，周末要出去玩，想让月经这两天来，周末就没有那么多了，请问该怎么办？': list index (0) out o\n",
      "Error processing prompt '月经不干净已经有一段时间了，最起码半年，都没有时间去看，小腹疼是最近几天，以前没有什么病史': list index (0) out o\n",
      "Error processing prompt '妊娠合并支原体感染的症状是什么？': list index (0) out o\n",
      "Error processing prompt '请问会阴竭阳脱是哪种病证，有哪些症状？': list index (0) out o\n",
      "Error processing prompt '11岁月经颜色又黑又多几天会清除月经，红与黑，一大堆月经，肚子还会痛': list index (0) out o\n",
      "Error processing prompt '什么时候测卵泡最佳，请问测卵泡什么时间最佳': list index (0) out o\n",
      "Error processing prompt '性生活出血，去医院检查碰一下就有血，请问严重吗？能用药物测底治好吗？？？出血相当于几度？严重吗？？': list index (0) out o\n",
      "Error processing prompt '西安哪家医院早泄治疗好？，我已结婚两年多 现有2个小孩 28周岁 每次过性生活都是1~两分钟就完事了。': list index (0) out o\n",
      "Error processing prompt '你好，肛周得湿疣，2个多月了，之前用激光打掉，后又长出了，请问治疗湿疣有什么好办法？': list index (0) out o\n",
      "Error processing prompt '半月没有性欲！做了包皮手术后才出现这情况。不知道怎么办？': list index (0) out o\n",
      "Error processing prompt '复方己酸羟孕酮注射液药理作用': list index (0) out o\n",
      "Error processing prompt '上个月大姨妈是十五号来的，和男朋友27号同的房，男朋友说没射，我这个月都十九号了还没来大姨妈，是什么情况啊': list index (0) out o\n",
      "Error processing prompt '认识个朋友有STD，有和她一起吃饭，喝水啥的，（她最近才发现)，本人从来没有做过爱，想问问可能是性病吗？还是有可能其他原因？': list index (0) out o\n",
      "Error processing prompt '盆腔炎会不会导致尾巴骨周围疼痛，盆腔炎严重不，有盆腔炎4个月了': list index (0) out o\n",
      "Error processing prompt '前列腺炎，大腿根（内侧）有时候痒前列腺炎，大腿根（内侧）有时候痒': list index (0) out o\n",
      "Error processing prompt '阴道纵膈是怎么回事': list index (0) out o\n",
      "Error processing prompt '外阴晚上痒，起白色干皮，阴毛分岔，去医院检查后其它没问题': list index (0) out o\n",
      "Error processing prompt '说明书上是房事后72小时内服用第一片，隔12小时后服第二片的毓婷能一下吃两颗吗？是0.75毫克的': list index (0) out o\n",
      "Error processing prompt '近两天乳头疼，不碰也疼，碰了也会疼，这是为什么': list index (0) out o\n",
      "Error processing prompt '前几天没有措施然后完事之后就立即服用了俩片装的避孕药一星期后还不来月经而且恶心和尿频用试纸试了但是是在晚上请问我会怀孕吗为什么月经还不来': list index (0) out o\n",
      "Error processing prompt '男女第一次月经的后五天没有射进去只插进去了一半会怀孕吗怀孕的概率多大怎么预防': list index (0) out o\n",
      "Error processing prompt '去年的时候医生告诉我说了有阴茎炎，用了很多药也是时好时不好，可上周再去检查的时候医生却告诉我说是有了阴茎癌，这个都有什么症状': list index (0) out o\n",
      "Error processing prompt '怎么治疗尿道上裂，怎么治疗尿道上裂': list index (0) out o\n",
      "Error processing prompt '办公室久坐前列腺炎，去医院检查医生让查性激素，泌乳素和促黄体生成素较高，影响大吗？': list index (0) out o\n",
      "Error processing prompt '男人不孕做什么检查': list index (0) out o\n",
      "Error processing prompt 'HuatuoGPT，我最近做了孕前检查，阴道镜检查提示一型转化区、柱状上皮葡萄状结构、腺开口、化生上皮、薄的醋酸白色上皮，被诊断为慢性宫颈炎和亚临床HPV感染。我和我的丈夫都是唯一的性伴侣，没有纵欲行为。请问这种情况是怎么回事，需要做哪些进一步检查或治疗？': list index (0) out o\n",
      "Error processing prompt '为什么会阴道疼，我去年结的婚，最近总是肚子小腹疼痛，尤其是来事那几天，很害怕影响生育，而且十分的怕冷，怕寒。请问为什么会阴道疼': list index (0) out o\n",
      "Error processing prompt '一个月前检查霉菌阴道炎一个加号，痒而且分泌物增多稀且为黄色，然后用药克霉挫栓塞一次后，不痒了又用了一次硝夫太尔片，之后来了月经，经期后也没有痒过，只是分泌物多，近几天用了四次增强阴道免疫力的，但是今早发现分泌物深黄色，而且近期如果喝水少尿液特别黄，还感觉了特别烫，喝水多的话，不存在这个情况，近几天快来月经了，而且在这一个月内有隔几天就用皮肤康洗液洗，这是严重吗': list index (0) out o\n",
      "Error processing prompt '外阴烧痒有异味红肿有疙瘩。有疼痛感。有半年了': list index (0) out o\n",
      "Error processing prompt '以下症状的处理方法是什么？阴道有黑色的分泌物': list index (0) out o\n",
      "Error processing prompt '大姨妈推迟两天同房会怀孕吗？（上个月30号来的，1号同房，大姨妈没来，）需要吃避孕药吗': list index (0) out o\n",
      "Error processing prompt '睾丸炎的治疗原则是什么，睾丸特别胀痛，连带着会阴、大腿内侧疼痛，性生活质量也一天不如一天，请问睾丸炎的治疗原则是什么': list index (0) out o\n",
      "Error processing prompt '小腹里面发热伴有一点胀痛的感觉，月经已经来过，过了半个月了，这是什么原因引起的？': list index (0) out o\n",
      "Error processing prompt '深圳哪个医院男科最好，早泄，以前过渡手淫7到8年，有是还没开始就射精，结婚到现在一年半，没什么好转。': list index (0) out o\n",
      "Error processing prompt '手淫过多怎么治疗，现在指甲月牙也没了，没有晨勃，头发前几年就开始白了，我才23': list index (0) out o\n",
      "Error processing prompt '肛周脓肿复发几率高么如何预防复发': list index (0) out o\n",
      "Error processing prompt '也是，药流11天了，有少许的褐色的，一会多一会少，': list index (0) out o\n",
      "Error processing prompt '我已有两年没做检查了，元月份去检查结果出来有两个HPV53.58的都为阳性！请问这样还可以同房吗？同房会感染吗': list index (0) out o\n",
      "Error processing prompt '你好，产后十一个多月，最近发现白带呈豆腐脑状，阴道深处也附着阴道壁上，暂无瘙痒，偶尔刺痛，哺乳期该用什么药': list index (0) out o\n",
      "Error processing prompt '经期不规律，月经一个月了还不来，身体也没有任何反应，房事时都做好安全措施。有时拿出来射在地上。这样会不会导致怀孕？': list index (0) out o\n",
      "Error processing prompt '医生我想问一下，我最近一天一次手淫然后精液变黄了，怎么办，戒除能变好吗？需要多久？我16岁，谢谢您了': list index (0) out o\n",
      "Error processing prompt '由于年龄问题近期性功能感觉没有欲望或者减退吃六味地黄丸总是上火': list index (0) out o\n",
      "Error processing prompt '某种药物需要按照哪个因素调整剂量？利福平，75岁以上的病人。': list index (0) out o\n",
      "Error processing prompt '外阴白斑外阴瘙痒肛门瘙痒这怎么回事儿？，。我有霉菌性阴道炎。上个月好了。这几天又已经开始了。晚上洗了阴道之后，塞了药。没多久外阴就很瘙痒，这是怎么回事呢？': list index (0) out o\n",
      "Error processing prompt '手淫三年多会阳痿早泄吗20周岁不到现在戒以后会不会影响性生活': list index (0) out o\n",
      "Error processing prompt '解脲支原体感染怎样治疗？这病已经有两年多了，打过啊奇霉素，吃过舒必通，现在对很多药都无效，抵抗力也很差，我该如何去治。': list index (0) out o\n",
      "Error processing prompt '月经前7，8天左右，同房，避孕套也没有破裂，中途感觉有液体流出，当时没留意，事后并没有射精，也及时清理了，不知道会不会是中途有少量精液流出，这种情况会怀孕吗。': list index (0) out o\n",
      "Error processing prompt '上次例假结束后，发现白带减少几乎没有了，但下体有腥臭味，内裤上还有黄壳子一样的印记，这是怎么回事，该怎么治？': list index (0) out o\n",
      "Error processing prompt '做爱时射出的精子里有鲜红的血秀化验有隐血双肾膀胱前列腺输尿管未见异常这是不是精囊炎的表现急性精囊炎治疗有哪些': list index (0) out o\n",
      "Error processing prompt '外阴皮肤肿胀的治疗和预防方法': list index (0) out o\n",
      "Error processing prompt '精囊结石的发病原因是什么？请描述精囊结石的发病原因': list index (0) out o\n",
      "Error processing prompt '什么因素会导致子宫内膜癌发生？52岁女性出现异常子宫出血，检查发现子宫内膜增厚，想了解导致子宫内膜癌发生的因素。': list index (0) out o\n",
      "Error processing prompt '女朋友来月经6天了，能啪啪啪了吗？4月25号来的，今天是30号，刚好6天，请问可以啪啪啪了吗？29号晚上她来了一次，然后到30都没有来，请问月经干净没有？可以啪啪啪没有？月经期间啪啪啪对男生有什么伤害？': list index (0) out o\n",
      "Error processing prompt '我这几天发现自己的下体阴部长了一些米粒大小的疹子，还有点水泡的感觉，有时候有点痒，上厕所的时候有点火辣辣的感觉，我现在很担心自己得性病。': list index (0) out o\n",
      "Error processing prompt '最近阴部有点不舒服，每天都很痒，想去抓又感觉不好意思，很是难受，去医院检查，结果是支原体阳性，医生说是支原体感染了。': list index (0) out o\n",
      "Error processing prompt '女性月经量较少的症状该如何治疗？有什么比较有效的药物可以建议？': list index (0) out o\n",
      "Error processing prompt '老公这段时间老是大便的时候觉得很疼，总是拉不出来，这几天还拉出血来，我帮他看了肛门那里都肿起来了，去专科医院看了说是得了肛门癌。': list index (0) out o\n",
      "Error processing prompt '小便想拉拉不出来，大便也是，到医院检查说是尿泡吊下来，原因也是做农活引起，有两三年了，有没有什么药吃？': list index (0) out o\n",
      "Error processing prompt '我睾丸出现酸胀感，有点疼还会发热，比较明显，这是什么情况？': list index (0) out o\n",
      "Error processing prompt '1.23月经走的，1.29同房时会怀孕吗？没有完全射精进去，怀孕几率大吗': list index (0) out o\n",
      "Error processing prompt '我33岁了，是输卵管峡部粘连想生二胎，不知道有没有办法怀孕': list index (0) out o\n",
      "Error processing prompt '前列腺炎的初期症状？，现在我老爸尿频尿急，晚上睡觉时床比较多，这个是不是前列腺炎呢？': list index (0) out o\n",
      "Error processing prompt '白色白带增多往出流是怎么回事？，母亲62周岁，前段时间突然白色白带增多自己往出流，还伴腰疼。医院仔细检查阴道重度炎症，宫颈阴道细胞学检验涂片有极少量非典型细胞，建议做HPV检查。HPV检查高危型HPV16/18阳性1.39。您好还需要有做什么仔细检查或者用什么药吗？后期如何护理？': list index (0) out o\n",
      "Error processing prompt '上个月因为吃了避孕药11来的事，这个月7.8.9有过性生活，8号中午吃的避孕药。现在12号还没有来事，是否容易怀孕？': list index (0) out o\n",
      "Error processing prompt '结核性宫颈炎的病因是什么？': list index (0) out o\n",
      "Error processing prompt '月经不调对身体有什么危害': list index (0) out o\n",
      "Error processing prompt '本月11号来例假刚才性生活安全套破裂上月27号服用过一粒丹媚避孕药这个情况还能再服用紧急避孕药吗怀孕可能性大不': list index (0) out o\n",
      "Error processing prompt '你好，前两天我在广州南粤医院做输卵管通水手术，可是现在还出血，请问这严重吗？有没什么危害？': list index (0) out o\n",
      "Error processing prompt '子宫性不孕怎样治疗，实施妇科检查发觉宫颈局部有薄弱肌瘤结节以及子宫颈外形的发生改变，肌瘤在一侧宫颈变大，不规则月经，经血加多，白带变多等，是子宫性不孕，对此很苦恼。在乎怎样的帮助：子宫性不孕怎样实施治疗': list index (0) out o\n",
      "Error processing prompt '盆腔炎吃什么药能康复，你好，咨询一下这种疾病，盆腔炎吃什么药能治愈': list index (0) out o\n",
      "Error processing prompt '尿道口有痘痘，而且好像有点裂开了，有点疼疼的，尿的时候也有点疼，求求医生到底该怎么办啊': list index (0) out o\n",
      "Error processing prompt '我以前是个重欲的人，就在这一周，我发现自己不仅出现不想跟妻子出现性生活的想法，还出现了龟头红肿、溃烂，这直接导致我不能再进行性生活，使得妻子十分的不满意，我这是怎么了。': list index (0) out o\n",
      "Error processing prompt '这几天我的一个朋友说要割包皮然后洗澡的时候他说我好像也要割包皮我就有点担心了今天去医院咨询了一下医生说我是包茎说要尽快动这方面的手术': list index (0) out o\n",
      "Error processing prompt '上个月28号来事的14号没有戴套但是吃了紧急避孕药今天还没有来事怀孕了的概率有多大？': list index (0) out o\n",
      "Error processing prompt '医生你好！我一个月吃了8次紧急避孕药，除了月经不正常一个月来两次，去医院做了B超检查又没什么，后面开了坤灵丸和舒经片吃，吃完没去复查，月经干净一星期后同房有一点点血丝，不知道是白带还是排卵，请问我要做什么检查或买什么药调理？还是有什么炎症？': list index (0) out o\n",
      "Error processing prompt '人流后，二十天同房射精在里面会怀孕吗，而且流产干净后中间还流了一个星期的血是月经吗？': list index (0) out o\n",
      "Error processing prompt '我同房第二天胃发慌请问是怎么回事？查心电图正常，饮食也正常，请指导。': list index (0) out o\n",
      "Error processing prompt '本人27岁，从20岁开始月经不调，紊乱，连续好几个月不来，颜色鲜红量正常，不痛经。吃药辅助治疗后断续来过月经，停药又停经，雄性激素旺盛，本人体型偏胖，。': list index (0) out o\n",
      "Error processing prompt '查出来有梅毒，打过针以后TP是阳性，RPR是阴性，TPPA是1:640是什么意思啊，以后还需要治疗吗？': list index (0) out o\n",
      "Error processing prompt '我最近出现了同房后的出血，想问一下这是什么问题。': list index (0) out o\n",
      "Error processing prompt '经期过了三天爱爱怀孕的可能性大不大想要孩子': list index (0) out o\n",
      "Error processing prompt '放了环之后月经量较多是什么原因，我自从放了环之后月经量较多.每一次都很多这是什么原因.': list index (0) out o\n",
      "Error processing prompt '请问男人得了前列腺炎有什么症状，我最近常常感觉乏力、头晕、神经衰弱，还经常性的尿频尿急，而且会阴部经常疼的不行了，老婆说这是前列腺炎的症状，真的是这样吗？男人得了前列腺炎有什么症状？': list index (0) out o\n",
      "Error processing prompt '子宫肥大影响生育吗': list index (0) out o\n",
      "Error processing prompt '我月经刚完一天就同房了，然后第二天刚吃完米线就吃紧急避孕药，会影响药效吗': list index (0) out o\n",
      "Error processing prompt '射精时会有一些晶体的东西是什么？，射精时精液里会有一些晶体状的东西，不知道是什么，是有病吗？': list index (0) out o\n",
      "Error processing prompt '对于以下病症，哪些食物可以改善精子质量？是否可以完全治愈？少弱精的男性': list index (0) out o\n",
      "Error processing prompt '月经10天后有血，是流产还是排卵期，，，，以前从没有出血这种情况': list index (0) out o\n",
      "Error processing prompt '针对以下症状，在生活中应该怎样预防？肛门里长东西': list index (0) out o\n",
      "Error processing prompt '这两天阴道瘙痒好像还有点肿，今天洗澡时我拿镜子一照看到阴道里有好多像白色肉皮状的东西，我用清水冲洗感觉就不痒了，想问一下医生是怎么回事': list index (0) out o\n",
      "Error processing prompt '阴囊痒，还会有脱皮，会泛红，很痒，医生给我开了中药泡，但是我忘记怎么用了': list index (0) out o\n",
      "Error processing prompt '龟鹿补肾片？主治那方面？阴茎短小可以治吗？刚才我看了下，还有龟鹿补肾丸，和龟鹿补肾片？一样吗？': list index (0) out o\n",
      "Error processing prompt '我人流后两个月还有奶水怎么回事？有什么药可以吃吗？': list index (0) out o\n",
      "Error processing prompt '月经不调.每次内膜很厚到16都没来.每次都要通过吃药才会来月经.这次是月经来了第四天抽血验的结果.': list index (0) out o\n",
      "Error processing prompt '白带呈果冻妆少半透明无色无味正常吗': list index (0) out o\n",
      "Error processing prompt '请问医生，我最近性欲太强，每天都想要，影响了我的正常生活工作，怎样能治疗？': list index (0) out o\n",
      "Error processing prompt '患有睾丸问题通常怎样治疗效果好？，现在五岁了就是一周多的时候有过，就是后来又不太明显了，以为自然炼化了，请问患有睾丸问题通常怎样治疗效果好？': list index (0) out o\n",
      "Error processing prompt '前列腺大小25*39*27mm正常吗腰酸疼无性行为是什么时候原因': list index (0) out o\n",
      "Error processing prompt '发现自己出现了包皮向上翻的现象，好像就是包皮过长，想去三水港龙男科医院把包皮割了。我身边的朋友也是去的这家医院，听他们说效果都还可以的': list index (0) out o\n",
      "Error processing prompt '因为腰疼，就去医院检查，彩超检查时没问题，白带检查时，检查出阴道炎，清洁度三度，白细胞二度，医生给我配了康妇凝胶和康妇消炎栓，结果用了康妇凝胶，第二天有一大块纸絮状的脏东西排出，正常吗': list index (0) out o\n",
      "Error processing prompt '乳头疼了有一段时间了，以前是生理前期疼，现在是每天都疼，以前有过乳腺增生，和那个有关系吗？': list index (0) out o\n",
      "Error processing prompt '小孩子在一岁半开始吃辣椒，后来出现便秘，在排便时，了出现脱肛。': list index (0) out o\n",
      "Error processing prompt '外因很痒，平常不怎么痒，但一旦上火，外因痒得难受。': list index (0) out o\n",
      "Error processing prompt '慢性盆腔炎的症状及治疗，我上个月已经开始觉着我的腰酸要涨的，总是觉着是有白带增多的，来月经的时候我就发觉我的是有月经不断增多的，除了性生活之后症状加重，到医院复诊了发觉我的是慢性盆腔炎，那么有什么的治疗方法的呢？': list index (0) out o\n",
      "Error processing prompt '我表姐最近白带增多，比以前多了很多的，而且经常会腹痛，很不舒服，有点担心，就去医院检查，医生说是患有宫颈糜烂。': list index (0) out o\n",
      "Error processing prompt '单纯疱疹是什么': list index (0) out o\n",
      "Error processing prompt '大神我jj上面发现有个呈线状的珍珠疹（好像以前也有）有天早上有点刺痛，就是那种一闪而过的刺痛，然后就非常恐慌，然后把它弄破了，力气用的还是比较大，然后有点渗血，平常不痛不痒就是刻意去碰它会有些疼痛，大概快一周了，没有变多也没有变大，好像还小了一点，': list index (0) out o\n",
      "Error processing prompt '我怀孕42天左边腰疼有时小腹痛还有白带': list index (0) out o\n",
      "Error processing prompt '阴道出血是哪些原因导致的，我最近白带多，阴道有血，很害怕，想了解一下这种疾病，阴道出血是哪些原因导致的': list index (0) out o\n",
      "Error processing prompt '下列的症状可能患上了哪种疾病，对于患上这种疾病需要进行哪些治疗方案？无精症': list index (0) out o\n",
      "Error processing prompt '上个月月经25号，今晚射进了点，没有全部射进，我去洗了，这样要不要服用避孕药': list index (0) out o\n",
      "Error processing prompt '昨天上午做的人流，到现在都没出血，正常吗？昨天和今天都输水了，也做了收宫的治疗，还要继续做吗？': list index (0) out o\n",
      "Error processing prompt '请提供一些有关如何怀孕的建议。如何才能怀孕': list index (0) out o\n",
      "Error processing prompt '三度宫颈糜烂有药物治疗缓解的么，我最近感觉阴道里有点痒，有点白带增多，有点小腹疼，我有点担心，就来医院看了一下，医生说是三度宫颈糜烂，怎么办才好，我想在这里进行咨询一下医生三度宫颈糜烂有药物治疗治好的么？': list index (0) out o\n",
      "Error processing prompt '性交出血，第一次是正月15也不觉得白带过多性交后小肚子有点疼': list index (0) out o\n",
      "Error processing prompt '哺乳期产后已有两个月，在站久，上厕所后，左侧大阴唇和尿道口都有强烈的坠胀感。': list index (0) out o\n",
      "Error processing prompt '男性老年人阳痿如何治疗？如何调理？': list index (0) out o\n",
      "Error processing prompt '以前我的月经一直很准时的，而且月经量也是很正常，一般是7天，头三天多，后三天时不时的会来一点，基本上是七天完全干净，可是自从我去年生了孩子以后，来月经就非常非常的少了，基本三天就没有了，而且经血的颜色还是黑的，我有点担心这样会对身体不好。': list index (0) out o\n",
      "Error processing prompt '卵泡壁薄怎么办？连续两个月检测卵泡壁厚为0.7，B型。这是什么意思，该怎么治疗呢？': list index (0) out o\n",
      "Error processing prompt '排卵期同房五次，有两次没戴套动了两下，其余都是全程戴套套，会不会怀孕？几率大么？': list index (0) out o\n",
      "Error processing prompt '在排卵日这天体内射精，但是几个小时后吃了紧急避孕药怀孕的机率高吗？': list index (0) out o\n",
      "Error processing prompt '夏天同处于一个环境中有的人大汗淋漓有的人却不出汗，那到底是容易出汗的人更容易中暑还是不出汗的人更容易中暑呢？': list index (0) out o\n",
      "Error processing prompt '急性子宫颈炎的发病原因是什么？，自己得了急性子宫颈炎，非常痛，我想知道病因，及时准确的治疗，拜托病痛摧残，恢复正常人的生活，期望获得帮助。在乎怎样的帮助：我想知道急性子宫颈炎的病发原因是什么。': list index (0) out o\n",
      "Error processing prompt '每天用温水洗外阴好吗？会得妇科病吗？月经期可以洗外阴吗': list index (0) out o\n",
      "Error processing prompt '？治疗男性尿道口尖锐湿疣中药名方？你好，我用优立脱治疗的，现在转阴了，还用不用在治疗了？': list index (0) out o\n",
      "Error processing prompt '射精中带有红血是怎么回事？，我小时候罡丸受过伤篮球重创过`没去医院检查，阴劲头受过皮外伤在学校沟里摔下去搽的`我就是近期发现的，由于我从小很少接触异性，导致27了还没谈过女朋友，没过过性生活，好不容易有个女孩子和我开过房我进去就没了，好像之后的都差不多，我怀疑自己有性功能障癌，怎么办啊？是早泄？也许但就算自己看性片子也是勃起不会很久就自己软了```哎命真苦不知道自己该怎么办': list index (0) out o\n",
      "Error processing prompt '肛门坠涨感，偶尔有粘液，大便每天早上一次，就是平时会肛门坠涨，吃完饭比较明显，这是怎么回事': list index (0) out o\n",
      "Error processing prompt '男性疣体是怎么引起的': list index (0) out o\n",
      "Error processing prompt '盆腔积液严重的话会有哪些症状啊？怎么治疗好呢？？？': list index (0) out o\n",
      "Error processing prompt '有时候月经一个月不来，有时候一个月要来两次。腰酸痛，小腹不适感。这种情况该如何治疗？': list index (0) out o\n",
      "Error processing prompt '你好，因为宝宝刚出生就送到保温箱里住了二十二天，所以自己用吸奶器吸出来，结果奶越来越少了，宝宝回来了都不够吃，混着奶粉吃。现在也不涨了，乳房也变大了，挤也挤出来一点而已。喝木瓜，鲫鱼也没用。医生我这是回奶了？怎么才可以奶变多？': list index (0) out o\n",
      "Error processing prompt '如何避免龟头炎的发生，请问一下，怎样避免包皮龟头炎的发生？': list index (0) out o\n",
      "Error processing prompt '遇溺是什么？什么是遇溺？请解释遇溺是什么？': list index (0) out o\n",
      "Error processing prompt '双侧精索静脉曲张症状，想问下精索静脉曲张是什么原因引起得的，为什么会这样的阿，要怎么办啊，以前还没有结婚的时候有过一段时间的，睾丸有点难受的，可是那个时候有手淫，所以没有想那么多的，可是现在备孕一段时间了，不怀孕的，而且最近睾丸有点难受的，应该怎么办啊，是什么原因的呢，还可以怀孕的么。': list index (0) out o\n",
      "Error processing prompt '包皮龟头炎有啥样的症状，老婆房事走的最后一天做了，可能会没干净。后面过了几天做的时候就有痛感，除了包皮痒': list index (0) out o\n",
      "Error processing prompt '我5月29日也就是前前天在医院检测有优势卵泡发育到19*16mm，然后今天6月1日在医院检测已经排出。请问我大概是什么时候排卵的呢？前天和昨天早上都同房了，怀孕几率大吗？请问今天晚上还需要同房吗？': list index (0) out o\n",
      "Error processing prompt '平时怎样预防前列腺囊肿这个病？，这两天我的下体一直有点儿疼，尤其是上厕所的时候。今天去医院检查说是前列腺囊肿，我也不懂，所以想问一下，平时怎样预防前列腺囊肿这个病？': list index (0) out o\n",
      "Error processing prompt '最近几天发现阳痿早泄，以前没有过，不知怎么了，': list index (0) out o\n",
      "Error processing prompt '我今年16岁了月经初潮在两年前每个月都来月经量很少但这两个月都没有来月经而且最近下体有巧克力色分泌怎么办呀？': list index (0) out o\n",
      "Error processing prompt '小孩肛门隆肿，化浓，明显发红，有硬块。请问怎么治疗': list index (0) out o\n",
      "Error processing prompt '我的月经很规律，上个月29号来的，这个月推测是27号。我24号和男朋友同房并且内射了，然后清理出了一部分，25号又同房了没做避孕措施，但是没内射。不打算要孩子，我需要服用紧急避孕药吗？': list index (0) out o\n",
      "Error processing prompt '同房后第二天（处女膜可能破了），下体疼，有时候还有点痒，后来用洁尔阴清洗了一下，效果不明显想知道是不是感染了，得了阴道炎': list index (0) out o\n",
      "Error processing prompt '子宫内膜厚的症状什么样，21女较近身体不合适，感觉很难受，是否得了病了，请问；子宫内膜厚的症状什么样': list index (0) out o\n",
      "Error processing prompt '你好，为什么吃了优思明大姨妈纯黑色的，而且本来就少的大姨妈现在更少了': list index (0) out o\n",
      "Error processing prompt '人流后两年了月经不调怎么办': list index (0) out o\n",
      "Error processing prompt '医生您好，辛苦您了。我末次月经1.19，每次一般五六天，周期27天左右。我是1.12开始吃的美满霉素，第一天吃的2颗，后面每天一颗，连续吃了12天。然后同房时间春节期间有几次，2.10到11，2.17到19，2.24到25日都有同房。2.4和2.8这两晚也同房了，但有避孕套避孕。请问，我大概是哪次同房有的孩子，还有这药物对宝宝的影响大吗？感激不尽！': list index (0) out o\n",
      "Error processing prompt '为什么我老是幻想有人陪我睡觉，为什么这样会觉得有安全感，有时还会时不时的想起他。': list index (0) out o\n",
      "Error processing prompt '和一个女人有性生活4个月了，对方性生活混乱害怕感染，现在能查出来么？': list index (0) out o\n",
      "Error processing prompt '医生你好我有外痔，最近肛门老是酸坠的感觉就象大便隐住没去一样，吃的地奥司明片加外用药，没有效果，啥原因？我应该咋办？': list index (0) out o\n",
      "Error processing prompt '我经期开始同房了，担心引起炎症，想问问医生该怎么预防，以免引起炎症？': list index (0) out o\n",
      "Error processing prompt '月经来时月经痛，肚子部位痛，乳房也痛，有些月经提前3、4天，': list index (0) out o\n",
      "Error processing prompt '腰酸痛，头发干枯，咽喉痛等腰部晚上睡觉怎感觉发凉，生殖器硬不如以前，': list index (0) out o\n",
      "Error processing prompt '平时大姨妈周期不是很准有时候四十天有时候三十天这次第五天的时候和男朋友同房内射今天第九天了身上还有点血我会不会怀孕？？很害怕怀孕': list index (0) out o\n",
      "Error processing prompt '医生您好，我昨天刚做完人流手术，给我看病的大夫没有叮嘱我一定要吃消炎药。但是我觉得有必要。从昨天到今天肚子没有太疼，几乎是没感觉。流血也不多一点儿。': list index (0) out o\n",
      "Error processing prompt '女性在什么时候受孕是最佳的时间，我们都想要孩子了，可没有反应和老公是要注意什么有助于怀孕？饮食，做愛姿势，和什么时候做有助于怀孕？': list index (0) out o\n",
      "Error processing prompt '月经不调还会排卵吗，是七号来的，这个月十二号才来。这样是正常的吗？而且这样的情况这个月还会排卵吗？曾经治疗情况和效果：用过几副中药 想得到怎样的帮助：想知道这属不属于无排卵月经': list index (0) out o\n",
      "Error processing prompt '月经结束6天了同房会不会怀孕可以吃避孕药吗': list index (0) out o\n",
      "Error processing prompt '男性不育大多都是因为什么原因？，今天和女朋友去医院做婚前检查，看到男性不育科有很多的患者，男性不育大多都是因为什么原因？': list index (0) out o\n",
      "Error processing prompt '我最近有些症状，小鸡鸡红肿，可能被床沿卡了，我想咨询一下是否需要就诊。': list index (0) out o\n",
      "Error processing prompt '昨天月经刚结束，晚上用了达克宁的硝酸咪康矬拴，今天早上排出白色粘稠物，还有点褐色的分泌物，外阴部油油的': list index (0) out o\n",
      "Error processing prompt '我不吃黄体酮就不来例假，要吃了那个药才会来，中药也调理过，没有作用还是不来例假': list index (0) out o\n",
      "Error processing prompt '女尿急肚子疼怎么回事': list index (0) out o\n",
      "Error processing prompt '前段时间总是感觉到腹部有下坠的感觉的，腹部都有些凸起了，月经总是会推迟半个多月才来一次的，最近去厕所排小便的次数也增多了，有点排尿困难。': list index (0) out o\n",
      "Error processing prompt '去年检查了子宫糜烂最近同房后两天白带褐色': list index (0) out o\n",
      "Error processing prompt '一般的女性月经刚过七天同床会怀孕吗同床有坏处吗': list index (0) out o\n",
      "Error processing prompt '门口买饭阿姨有，我在她那买了好久的饭而且也感觉恶心食欲不振，会不会得了乙肝': list index (0) out o\n",
      "Error processing prompt '是这样的，我是25/26号打的促排针，27号做阴超显示有较大优势卵泡，然后27号当天又打了一次促排针，遵医嘱，28/29/30三天连续同房，昨天开始有轻微胃痛，左下腹微刺痛，排气次数多了，乳房刺痛，请问这些是什么原因呢？27号晚上开始吃补佳乐，然后昨天开始吃达芙通，补佳乐吃14天，达芙通吃10天，医生说补佳乐要一直吃到怀孕': list index (0) out o\n",
      "Error processing prompt '您好，我最近发现阴囊上有个疙瘩并且很痒，去医院检查发现梅毒抗体指数高，想请问医生有什么药膏可以止痒吗？': list index (0) out o\n",
      "Error processing prompt '这个月13号来的月经，可到了快这个月结束的时候稍微来了一点，这怎么回事，，，谢谢': list index (0) out o\n",
      "Error processing prompt '发现龟头炎该如何缓解改善好呢，我上个礼拜取体检发现有龟头炎，最近好像严重了，有点出血，渗液，好像还长了水疱，这是病情严重了吗？请问：发现龟头炎该如何缓解改善好呢': list index (0) out o\n",
      "Error processing prompt '未婚，无性生活，月经量特别少，三天就没有了，每天都一点，三天之后，肚子会疼，一阵一阵的，会疼个三天左右，这种情况有四个月了，上个月我查过血常规，化验过肝功能，做过B超，验过性腺激素6项，结果一切正常，没有炎症和其他的问题....请问我到底是咋了呢': list index (0) out o\n",
      "Error processing prompt '去医院查医生说有阴道炎附件炎盆腔积液还有盆腔炎应该怎么办？现在再用栓剂吃妇炎康多久能好': list index (0) out o\n",
      "Error processing prompt '没有白带怎么调理': list index (0) out o\n",
      "Error processing prompt '男人患了早泄有哪些症状？，前段时间刚结婚，可是与妻子的性生活一直不理想，主要是我射精太快，刚进入妻子身体两三分钟就射了，严重的时候刚碰上她的身体就射精了。男人患了早泄有哪些症状？': list index (0) out o\n",
      "Error processing prompt '请求医生解释以下症状可能的原因。每次做爱都流眼泪，不疼也没有复杂症状。': list index (0) out o\n",
      "Error processing prompt '我十六岁，阴部两边一边发育，一边没怎么变，月经也少，是什么原因急': list index (0) out o\n",
      "Error processing prompt '29号排卵同房后第三天小肚子疼一阵阵的很多次': list index (0) out o\n",
      "Error processing prompt '三次经医院查出无精症，减少不必要忙烦，就使用朋友精液使老婆受孕，老婆同时做了各项检查属正常，以有三个月，一月大概三次，至今未发现怀孕，检查精液很正常，不知原因': list index (0) out o\n",
      "Error processing prompt '阴经短小，有没有什么方法治疗？吃药能治疗吗？或者有没有可能做手术？': list index (0) out o\n",
      "Error processing prompt '我是今年1月19号做的清宫，2月17号来的月经，3月17号就不正常，有时候有有时候没的，4月1号正常来了一次，5月初到现在一直都有出血，现在吃着中药调理呢，但还是没止血，应该怎么办呢': list index (0) out o\n",
      "Error processing prompt '几年前盆腔炎经治疗好转，最近白带多有时伴有腹痛去医院检查，有阴道炎，盆腔有积液，还有囊肿，请问该怎么治疗，用不用打针？还是口服药？囊肿需要手术吗？囊肿会不回导致白带增多': list index (0) out o\n",
      "Error processing prompt '咨询一下两性生活早泄怎么治疗，自从上个月我被诊断为是得了早泄，我就很郁闷，我才36岁啊，搞得我的心情变得很差，我就很烦躁，自己现在是很伤自尊，我吃了一些药都没转好，老婆也是很生气，一点也不认同我。两性生活早泄怎么治疗？': list index (0) out o\n",
      "Error processing prompt '感染了HSV,AC两种病毒怎么治，详细病情及咨询目的：   男友上星期发现生殖器上有几个红红的小点，到医院检查说感染了HSV,AC两种病毒，我也感染了HSV病毒，两人同时挂了一星期的水，配方是更昔洛韦和白介素，花去人民币8000元左右！   医生说还要吃半年的药，好像是叫彼欣，按这样算要近两万元！   我想请问这到底是什么病，有什么原因引起的，需要花那么多钱治吗？': list index (0) out o\n",
      "Error processing prompt '怀孕七个月，下面疼痛，骚痒，白带变绿，有异味，一个星期，，有没有好的治疗方法': list index (0) out o\n",
      "Error processing prompt '在重庆什么方式治疗男性死精症好我患上了死精症，在重庆什么方式治疗男性死精症好我患上了死精症，到我十分的喜欢孩子，我想知': list index (0) out o\n",
      "Error processing prompt '月经推迟8天了，同房也射了一点，会不会怀孕啊？怎么才能判断是不是怀孕啊？': list index (0) out o\n",
      "Error processing prompt 'B超检查结果是双侧多囊卵巢，抽血检查出支原体感染，医生开感染的药说吃完复查，再进行下一步治疗': list index (0) out o\n",
      "Error processing prompt '请提供以下症状的治疗建议。肛门痒痒，感觉有虫在咬': list index (0) out o\n",
      "Error processing prompt '水合氯醛是什么？什么是水合氯醛？请解释水合氯醛是什么？': list index (0) out o\n",
      "Error processing prompt '一个月前激光的，本来没长东西，因为那段时间心里恐湿疣，被私立小医院骗了龟头冠打了一圈。现在伤口好了，就是身体站立时，没勃起状态下阴茎海绵体会自然充血变硬龟头变大，比激光前大，这种情况对功能有什么影响吗？能恢复吗？': list index (0) out o\n",
      "Error processing prompt '女人怀孕几个月以后可以过性生活过性生活会不会有什么影响': list index (0) out o\n",
      "Error processing prompt '蚕蛹的性味是什么？': list index (0) out o\n",
      "Error processing prompt '阳痿可以吃蛋白质粉吗': list index (0) out o\n",
      "Error processing prompt '得了阴囊炎该怎么治疗呢？，男今年24岁，一段时间感觉到身体很累，去医院检查就知道得病了，请问：得了阴囊炎该怎么治疗呢？': list index (0) out o\n",
      "Error processing prompt '患白带异常能如何医治？，白带异常好久了，大概有两年，一开始是白带变多，颜色还是清亮的，后来变得很粘稠，白色的带一点儿黄色，现在就是每天内裤上都可以瞧见黄色的粘粘的，像鼻涕一样，特别多，很不舒服，上厕所的时候用卫生纸也能擦出好些，医生我这个是霉菌感染吗': list index (0) out o\n",
      "Error processing prompt '月经十三天后同房，同房两天后出现褐色分泌物，分泌物持续两天后又来月经，现在月经第一天颜色暗红': list index (0) out o\n",
      "Error processing prompt '我这个月来了两次大姨妈，也吃了两次避孕药，第一天出血量不多，昨天和今天有点多，我该怎么处理，我是在排卵期来的大姨妈': list index (0) out o\n",
      "Error processing prompt '我才17岁服用了有可能怀孕吗同房是在月经后7天安全期同房需要服用吗': list index (0) out o\n",
      "Error processing prompt '晚上七点开始体内射精到十二点共有三次以上，我十二点十九吃的左秧诺孕酮肠溶片，效果可以吗？不会怀孕吧！72小时只内服药越早越好但我这个时间段可以吗？': list index (0) out o\n",
      "Error processing prompt '绝经后半年又出现流血是什么原因，病情叙述渗血一年有一年之多也不见症状转好：化验、仔细检查结果：重度子宫内膜炎需住院仔细观察稳定后手术曾经的治疗情况和效果：经过仔细检查后开药都没效果在乎怎样的帮助：您好这样的病情如何严重？': list index (0) out o\n",
      "Error processing prompt '海绵体发硬是什么原因，医生您好，请问在阴茎疲软状态下，海绵体发硬是什么原因造成的？特别是洗澡之前尤为明显，感觉像受寒冷刺激，收缩变硬一样。': list index (0) out o\n",
      "Error processing prompt '性病治疗需要哪些必须依从的原则？典型的治疗流程是什么？例如生殖器肉瘤病毒所引发的性病等特定情况，预计此指令主要关注如何平衡性病治疗、合适情况下人工干预的速度以及清洗反复消毒等注意事项。': list index (0) out o\n",
      "Error processing prompt '之前来月经都是23至25这几天来，也有过2930来的，上个月初因为跟男朋友同房吃了避孕药十几号就来了，这个月19号跟男朋友同房体外射，而且立马去洗澡，到了月经该来的时间却到现在都没来，推迟了五六天了，买了验孕纸验却是阴性，到底是怀孕还是月经推迟': list index (0) out o\n",
      "Error processing prompt '丁肝传染么': list index (0) out o\n",
      "Error processing prompt '发生过一次，后面第二的时候还能假装处女吗，他会不会发现已经不是处女了': list index (0) out o\n",
      "Error processing prompt '术后月经不调该怎么办？，利普刀术后第50天有过一次性生活，第52天来的月经，刚开始颜色像酱油色，后来颜色暗红，前三天量多。今天是月经后第8天可还是有棕黄色的白带量并不多。白带中有一些皮屑一样的东西。在乎怎样的帮助：您好一下医生这是怎么回事？是性生活致使的吗、我该怎么办？': list index (0) out o\n",
      "Error processing prompt '怀孕了5个月有念珠菌，用环吡酮胺阴道栓对胎儿会不会有影响': list index (0) out o\n",
      "Error processing prompt '月经时多时少且淋漓不断的鉴别诊断': list index (0) out o\n",
      "Error processing prompt '看子宫内膜炎哪儿较好，平时其实都还好，但是我每次月经之后就会犯病，具体症状就是私处瘙痒，小腹下坠疼痛，这个情况是有炎症吗？请问：看子宫内膜炎哪儿较好': list index (0) out o\n",
      "Error processing prompt '我是一位生殖疱疹的患者家住北京大兴区，我感染上这种病有七，八年了大大小小医院我看了多家钱花了十几万也沒看好，朋友看我很痛苦多方帮我找到了一个偏方只花三千元祖传的偏以毒攻毒太神奇治好了。': list index (0) out o\n",
      "Error processing prompt '我来月经的时候小腹部总是坠痛的难受，而且全身冒虚汗，只要看到油腻的食物就有些恶心，而且还伴有腹泻不止的症状，这些症状都是生完孩子才出现的，我这是患上了盆腔炎吗，想知道患有盆腔炎是什么症状？': list index (0) out o\n",
      "Error processing prompt '月经不规律间隔时间长半年来一次月经白带很多': list index (0) out o\n",
      "Error processing prompt '应注意包皮龟头炎': list index (0) out o\n",
      "Error processing prompt '肛门坠胀屁多怎么回事肛窦炎屁多怎么办': list index (0) out o\n",
      "Error processing prompt '我便秘的时候大便就出血疼，过了12个小时就不疼了。不不便秘就不疼不出血': list index (0) out o\n",
      "Error processing prompt '做爱后肚子痛没过多久月经就来了，现在是来月经第三天一直量特别多血也一直是鲜红色的总感觉不是来月经': list index (0) out o\n",
      "Error processing prompt '阴茎磨破，走路有阵疼感，过几天就好了，可是再次做爱又出现这种情况，请问是什么原因造成的': list index (0) out o\n",
      "Error processing prompt '反复尿路感染可以导致肾炎，患者性别：刘美影主要症状：尿频尿急尿痛发病时间：2007年12月化验检查结果：白细胞大于100血尿': list index (0) out o\n",
      "Error processing prompt '阳痿怎样治疗最好，阳痿能治吗本次发病及持续时间：不太记得目前一般情况：不好病史：没有以往诊断治疗经过及效果：没有辅助检查：没有其它：没有': list index (0) out o\n",
      "Error processing prompt '我想问问以前我么吃过避孕药现在想吃不知道？避孕药做爱前吃还是做爱后吃': list index (0) out o\n",
      "Error processing prompt '这次月经提前了一个礼拜，经期最后一天同房了。会不会怀孕啊？有没有经期最后一天怀玉的先例？': list index (0) out o\n",
      "Error processing prompt '刨腹产后，我的性生活特别不好，一跟老公性生活他就会说里面有东西顶着他疼，而且每次他都喊疼！前两天还把他顶烂了一点，不知道怎么回事？是不是跟子宫防黏连膜有关系？以前没有这样的情况！': list index (0) out o\n",
      "Error processing prompt '我今年18岁了，先天性乳头内陷，想知道可以治好吗': list index (0) out o\n",
      "Error processing prompt '卵泡多大才可以排出来，我去年结的婚，最近总是肚子小腹疼痛，尤其是来事那几天，很害怕影响生育，而且十分的怕冷，怕寒。请问卵泡多大才可以排出来': list index (0) out o\n",
      "Error processing prompt '膀胱结石前列腺肥大术后无精液怎么治？，我年初膀胱结石和前列腺肥大，而手术已近数月，近来发觉性行为后无精液不知晓什么缘由。膀胱结石前列腺肥大术后无精液怎么治？': list index (0) out o\n",
      "Error processing prompt '推荐更合适的替代品，以避免使用含激素类药物。节后间歇性癫痫发作需要抑制月经': list index (0) out o\n",
      "Error processing prompt '怎样才能防止膀胱炎？': list index (0) out o\n",
      "Error processing prompt '不知道是什么原因，这一个月来上侧所大便时总是不太舒服，大便很吃力，而且大便的时候有时带有鲜血，有时是大便后用纸擦的时候，纸巾上有鲜血。我跟妈妈说了一个这个情况，妈妈说我这是患了轻度的痔疮。让我去医院治疗一下。请问患有轻度的痔疮病需要去医院治疗吗？': list index (0) out o\n",
      "Error processing prompt '我在哺乳期，小孩才不到二个月，4月12号生小孩，5月12号来月经4一5天干净23号又来了到现在还没有干净这是为什么': list index (0) out o\n",
      "Error processing prompt '经期乳房胀痛，其余没有什么不良症状，请问老师正常吗': list index (0) out o\n",
      "Error processing prompt '勃起时间短。勃起后很快就软下去了，有时候勃起后不硬，还早泄，之前手淫频繁，现在很少了，去医院看过，说是我前列腺炎，吃的中药，也不管用，做的膀胱的彩超，没问题，查了内分泌，显示睾酮含量低，查的肾功能，没事，另外，我这性欲特别旺盛，不知道怎么回事，现在没有晨勃。': list index (0) out o\n",
      "Error processing prompt '您好，我最近阴道前段时间痒，用了放的药现在不太痒了，可是坐下时总觉的好像有个东西一样，想问一下是阴道炎吗？': list index (0) out o\n",
      "Error processing prompt '你好，我想问下，我取环后已经四天了，感觉阴道里面难受痒，医院开的消炎药再吃，是否能阴道用药缓解症状？': list index (0) out o\n",
      "Error processing prompt '白带异常增多有时呈豆渣状异味很重咋办，两年反复复发：白带异常增多，有时呈豆渣状，异味很重，伴随瘙痒；小腹坠痛，腰酸。深圳坂田医院和仁爱医院': list index (0) out o\n",
      "Error processing prompt '为啥会得附件炎呀？，我今年21岁，没有任何性行为，还是个处女，但是月经不调去看妇科，医生说我得了附件炎，怎么回事啊？未婚女性为什么会得附件炎？': list index (0) out o\n",
      "Error processing prompt '诊断女性难以怀孕的原因和相关的治疗方法。周期性低热，反复发生的背痛': list index (0) out o\n",
      "Error processing prompt '男，18，由于手淫过度导致脱发，燥热，该怎么办？特别害怕特别后悔': list index (0) out o\n",
      "Error processing prompt '前列腺炎咋调理，在乎怎样的协助：前列腺怎么调养呢？前列腺应该注意哪些呢？患了前列腺炎应该怎么办？': list index (0) out o\n",
      "Error processing prompt '乳头内陷，怎么办？乳头内陷，有什么方法不做手术，让乳头出来？乳头内陷，怎么办？乳头内陷，有什么方法不做手术，让乳头出来？': list index (0) out o\n",
      "Error processing prompt '你好，我是这个月9号来的月经12号停，15号做那个事情没避吃避孕孕，19号做了还是吃了避孕药，23号又来月经27号停，30号做了射进去我蹲厕所还用冲水器冲，这样还要怀孕吗？平常月经每个月提前7天': list index (0) out o\n",
      "Error processing prompt '昨天检查完前列腺～今天出现血精～感觉是医生手太重造成损伤～之前从来没有过这种情况': list index (0) out o\n",
      "Error processing prompt '生殖器疱疹最长潜伏期要多长时间': list index (0) out o\n",
      "Error processing prompt '昨晚遗精出来的跟水一样，有些粘性，但是没有精子，去年还不是这样，已经有3个月这样了，一个月遗精一两次，': list index (0) out o\n",
      "Error processing prompt '我大约15天前做过，但只是口了，没有做其他事情，十五天后便单纯发烧没有流鼻涕和咳嗽，这会是艾滋病吗，现在要担心死了。': list index (0) out o\n",
      "Error processing prompt '包皮过长，手术的方法。包皮肿胀，痒发红。': list index (0) out o\n",
      "Error processing prompt '你好，出现弱精该怎么治好，弱精症什么时候治好呢？弱精症什么时候治好呢，是什么原因致使的呢？弱精症什么时候治好呢？': list index (0) out o\n",
      "Error processing prompt '输卵管不通检查项目有哪些？，结婚好几年了，一直没有孩子，家人都很着急，到医院检查查出是我患病，请问医生输卵管不通检查项目有哪些？': list index (0) out o\n",
      "Error processing prompt '我经期是7号来的，然后今天房事没采取避孕措施我想问是安全期么要紧急避孕么': list index (0) out o\n",
      "Error processing prompt '吃避孕药月经推迟又无措施做爱怎么办，本人下体特别痒，而且内衣上总是黄黄的，怎么回事？请问吃避孕药月经推迟又无措施做爱怎么办': list index (0) out o\n",
      "Error processing prompt '用霉菌药后外阴更痒烧灼怀疑有其它病症停药几天可以化验': list index (0) out o\n",
      "Error processing prompt '产后2个月，下面没有康复好，偶尔感觉有炎症，白带无异常，这是子宫下垂吗？': list index (0) out o\n",
      "Error processing prompt '早上大便每天一次正常，但是还是想大便，又拉不出来了，肛门有湿疹！是湿疹造成的吗？都二三年了': list index (0) out o\n",
      "Error processing prompt '继发性不育症一般有什么原因': list index (0) out o\n",
      "Error processing prompt '月经期间经常有血块，月经过后两三天就会有黑色的，虽然少但也要几天才会没，平时的时候白带也不少': list index (0) out o\n",
      "Error processing prompt '阴道口有点堵住的感觉，还流淡黄色的液体，这两天要来大姨妈！是什么情况？也不想去医院': list index (0) out o\n",
      "Error processing prompt '早晨吃了头孢，晚上能喝酒吗？喝完酒之后多长时间能吃头孢？': list index (0) out o\n",
      "Error processing prompt '屁股疼，小腹也疼，经期，但是和月经的痛不是一种，好几天了，开始只是肛门长了个类似疖子的东西，后面好了，就成了现在的疼，学生，要高考了，能拖么': list index (0) out o\n",
      "Error processing prompt '最近这几个月来，我腰酸的很，四肢无力，性欲下降，包皮有点长，经常有残留的尿液，气味难闻，龟头上面长了好几个小疙瘩，红色的，伴有瘙痒，异味很大，去医院检查，确诊是白色念珠菌性龟头炎。': list index (0) out o\n",
      "Error processing prompt '中度宫颈炎如何治疗效果佳，我是中度宫颈炎患者，我想问问这么下去我大概还要治疗多长时间啊？老是喝药有用吗？除了网站上不是说多用擦洗液不好，那我能几天洗一次吗？': list index (0) out o\n",
      "Error processing prompt '上一次是在我女朋友上个月来大姨妈的时候做的，还带套了，然后现在内裤里有黄色的东西，希望医生能解答': list index (0) out o\n",
      "Error processing prompt 'XX药物是否会有副作用？班加索脂肪肉注射剂': list index (0) out o\n",
      "Error processing prompt '我之前没有性行为，最近和男朋友发生性关系，也没有不舒服，就是没感觉，爱液也挺多的，男朋友阴茎也挺大的，为什么会出现这种情况': list index (0) out o\n",
      "Error processing prompt '小儿阴茎皮和龟头粘连，黏连缝隙还长白点。4岁了龟头下的冠状沟也翻不出来，而且龟头黏连部位有白色的东西，擦了很多次也擦不掉。': list index (0) out o\n",
      "Error processing prompt '我的阴茎上长了一些皮疹，有点痒痒的感觉，排尿的时候觉得很难受，有时候会尿痛，甚至出现过血尿，疹子间会有恶臭的脓液，去检查，确诊是尖锐湿疣。': list index (0) out o\n",
      "Error processing prompt '治疗尖锐湿疣最佳的方法？你好医生，我用了3个月的优立脱，现在检查HPV转阴了，是不是治好了': list index (0) out o\n",
      "Error processing prompt '没有任何妇科疾病，想预防阴道炎，可以经常用药水清洗好吗？为什么？': list index (0) out o\n",
      "Error processing prompt '清眩治瘫丸成分或处方': list index (0) out o\n",
      "Error processing prompt '一个姐妹昨天来我家的时候，说最近特别的难受，我问他是怎么了，他说是肛门部位有点疼，好像是得了肛周脓肿，应该怎么治疗。': list index (0) out o\n",
      "Error processing prompt '以下病症应如何做诊断？阴道瘙痒': list index (0) out o\n",
      "Error processing prompt '我想咨询一下人工授精和试管婴儿的问题。我和我的爱人已经在北京被确诊为先天输精管缺如，我们都已经30岁了。医生建议我们尝试穿刺进行试管婴儿。': list index (0) out o\n",
      "Error processing prompt '2月9号做的人流手术，一直在吃屈螺酮，第十八天的时候跟老公同房后第二天吃了毓婷，吃完屈螺酮21天了，停药三天发生关系了会不会怀孕？': list index (0) out o\n",
      "Error processing prompt '检查发现尿道口出现尖锐湿疣怎么办？刚做了检查发现几个白点点没有啥感觉，是怎么回事呢？': list index (0) out o\n",
      "Error processing prompt '我身体出现了以下症状，大腿内侧有红点，阴囊发红脱皮，想问一下这是怎么回事。': list index (0) out o\n",
      "Error processing prompt '来例假第三天检查的激素想看看是否有问题。卵泡刺激素和促黄体生成素比值多少正常？': list index (0) out o\n",
      "Error processing prompt '医生你好，两岁半女孩晚上经常说外阴痒，是包尿包原因呢？还是什么原因': list index (0) out o\n",
      "Error processing prompt '如题，排卵期出血，色泽暗，少量。从2016年3月开始的。': list index (0) out o\n",
      "Error processing prompt '我男朋友总是体外射精，我这几天觉得人好累，想睡觉，不会是怀孕了吧，也没有小腹疼的现象': list index (0) out o\n",
      "Error processing prompt '人流后第一次来月经有时候多有时候少，持续了十多天，也没有什么不适的感觉，中间喝了益母草想往外排排脏东西的，这种情况正常吗': list index (0) out o\n",
      "Error processing prompt '子宫内膜薄不来月经对身体有影响吗': list index (0) out o\n",
      "Error processing prompt '医生，最近体检妇科检查清洁度为三度，严重吗？要采取什么样的治疗？我未婚，这会影响我以后得生育吗？': list index (0) out o\n",
      "Error processing prompt '人流后注意什麽？，？生：你好    我明天就要去做人流手？X，我很害怕，手？后？?？注意什麽？？生？做了人流很容易月？不？，有盆腔炎，??？怎？幼？才能？p少有？些病，我的子？m小？σ院笊？??????Thanks': list index (0) out o\n",
      "Error processing prompt '感觉自己阳痿早泄了怎么办？，和女朋友同居三个月了，竟然性生活没一次成功的，插不出去就射了，蹭一下就不行了，平常很容易勃起，自己才22.是不是玩完了，您能帮帮我我吗，感觉活下去也没意义了，怎么办？': list index (0) out o\n",
      "Error processing prompt '生殖器疱疹能治好吗': list index (0) out o\n",
      "Error processing prompt '人乳头瘤病毒感染16阳性高危，我需要治疗吗？我很担心怎么会这样呢、': list index (0) out o\n",
      "Error processing prompt '7年前顺产一个孩子后，就发现肛门有一个肿物突出，直到现在，我一直以为是没缝合好的原因，这期间不痛不痒，没什么症状，只是这几天月经期间出现便血的情况，直到月经过后还是一样，一拉大便就出血，血量跟喝一口水的量差不多': list index (0) out o\n",
      "Error processing prompt '尿道炎一般用什么药，但是现在又在备孕期，刚开始吃叶酸': list index (0) out o\n",
      "Error processing prompt '上个月29号做了人流，这个月还没来月经，做B超也没看出来': list index (0) out o\n",
      "Error processing prompt '这段时候总是觉得下身不大舒服，晚上睡觉的时候还会感到下体很痒，白带也黏黏的，量也比之前多，颜色也发生了一些变化，好像是阴道炎，去诊所，然后给我开了乳酸菌胶囊，让我拿回去吃，这个药有什么用。': list index (0) out o\n",
      "Error processing prompt '我快十六岁了，我很早就发育了，从九岁就来了白带，十一岁胸就开始发育，十二岁来月经，但好像三年没有长高过，这是什么状况？': list index (0) out o\n",
      "Error processing prompt '每次来大姨妈时间都不准，基本上推后，而且手脚凉，怕冷，但是月经量和颜色都正常': list index (0) out o\n",
      "Error processing prompt '十四岁女生的内裤上为什么会有浓膜请问这样是有害的吗只是很少的时候有今天还吃了凉的小腹有微痛': list index (0) out o\n",
      "Error processing prompt '防治附件炎方法有哪些呢？，小肚子疼，有附件炎盆腔炎，宫颈糜烂，着凉比较严重，去医院做过简单检查。': list index (0) out o\n",
      "Error processing prompt '我上个月检查出了宫颈糜烂二度，然后进行了治疗，6.2号来了月经，5号就差不多完了！！可是这到现在我的阴道里还是有及少量的血，而且黏糊糊的，血丝，我想问问这正常吗？是什么情况？': list index (0) out o\n",
      "Error processing prompt '你好，我想请问一下佐匹克隆片这个药可以用于治疗什么？': list index (0) out o\n",
      "Error processing prompt '今天检查出滴虫性阴道炎.应该要注意什么.传染性强吗？是什么引起的？': list index (0) out o\n",
      "Error processing prompt '我是肛周脓肿，手术了又半个月了，现在感觉又疼又痒': list index (0) out o\n",
      "Error processing prompt '包皮过长会有什么影响吗？，我一直看见自己的小弟弟跟人家的长得好象不一样，随着年纪的增涨，这方面的知晓也多了，跟女友在一起时，她老是说我包皮过长，这样会干扰我们的性生活的，老是说让我去做个包皮手术，可我一直下没法信念。该怎么办呢？': list index (0) out o\n",
      "Error processing prompt '做完人流四十天没来姨妈，昨天同房了，会怀孕吗？要知避孕药吗？还是安全？安全期怎么算？': list index (0) out o\n",
      "Error processing prompt '月经推迟了，醋酸甲羟孕酮片是吃3天还是5天。吃3天的话可以催经吗': list index (0) out o\n",
      "Error processing prompt '早泄多年，体质差，无不良习惯，平时肢冷畏寒，无尿频症状，有尿不尽现象': list index (0) out o\n",
      "Error processing prompt '上个月18号来的月经，5号同房弄进去了，是危险期嘛': list index (0) out o\n",
      "Error processing prompt '我末次月经开始时间是四月二十二号。昨天小肚子有点疼但是不厉害有点像跑岔气的那种疼正常吗': list index (0) out o\n",
      "Error processing prompt '前段时间吃了太多上火的东西，便秘了好几天，拉出来的大便是深色的，而且还有血滴，肛门很痛，之后，连着几次都出血，有时就是不拉也会有一点血，不是很多，自己就会止的，不知道这样是不是肛裂呢？': list index (0) out o\n",
      "Error processing prompt '你好我是这两个月才开始出现经期前十来天乳房就开始胀痛的。但是一正常来了就不痛。好担心该怎么处理呢？': list index (0) out o\n",
      "Error processing prompt '阴囊上会长尖锐湿疣吗': list index (0) out o\n",
      "Error processing prompt '肛门外伤吃什么好？': list index (0) out o\n",
      "Error processing prompt '性爱后会出血，怎么回事，吃什么药，谢谢，量少，颜色就像月经快没了一样': list index (0) out o\n",
      "Error processing prompt '医生，我这几天月经推迟了，而且白带有褐色物质，然后就有血丝，我想知道是不是着凉了然后我想问下医生在外面蹭蹭会怀孕吗': list index (0) out o\n",
      "Error processing prompt '最近一段时间，我总是感觉非常不舒服，下腹很痛，还发热，白带很多、有时会带有血丝，气味非常难闻，去医院检查，医生告诉我这是子宫内膜异位症，要我做好治疗准备。': list index (0) out o\n",
      "Error processing prompt '我吃了避孕药后，月经来后好的当天同房了，我就有吃了药后的72小时后无妨护会不会怀孕': list index (0) out o\n",
      "Error processing prompt '最近小便的时候感觉下腹有点涨有些疼痛，小便时非常疼痛，用纸巾擦拭会有血丝，尿道会有痒灼烧感，竟然还发烧了下体非常的难受，很不舒服，去看医生，说我有尿道感染。': list index (0) out o\n",
      "Error processing prompt '经期末同房之后有少量血，对双方的身体又怎样的危害？这是属于撞红吗？': list index (0) out o\n",
      "Error processing prompt '你好，我是做的提拉眼睑五天了，夫妻同房了会影响愈合吗，会留下疤痕吗？': list index (0) out o\n",
      "Error processing prompt '发病时间是这次月经过后，大概两周前，然后到现在就这样了自从月经过去后，每天都有黄绿色的液体，还有异味！': list index (0) out o\n",
      "Error processing prompt '我这两天白带比较多，但颜色正常，请问你有什么治疗建议？请帮我推荐中药或者方剂。': list index (0) out o\n",
      "Error processing prompt '1.6号来月经，1.10月经干净，1.25和老公爱爱，未内射，射在外面。最近胸胀乳头按压会疼，口干舌燥，但是按大姨妈软件预测月经推迟五天了还没来怎么回事？': list index (0) out o\n",
      "Error processing prompt '性生活中没有射里面这样会不会怀孕月经会不会推迟来？': list index (0) out o\n",
      "Error processing prompt '请问如何预防以下疾病？膀胱炎': list index (0) out o\n",
      "Error processing prompt '睾丸右侧长了个小肉球，不痛不痒，肉粒形状，发现有段时间了，在大腿根部附近': list index (0) out o\n",
      "Error processing prompt '鸦胆子油口服乳液药理作用': list index (0) out o\n",
      "Error processing prompt '我高一，交男朋友了，并且和你牵手接吻了，这正常吗？会不会影响学习啊': list index (0) out o\n",
      "Error processing prompt '外阴和洞洞都特别痒，连续四天了有什么大碍吗？之前也痒过，每天用清水洗一次好了，但是这次不怎么管用，我该怎么办？有什么大碍吗？？？': list index (0) out o\n",
      "Error processing prompt '我怀孕快四个月了，最近总是头晕乏力，腰酸的很，这几次白带都很多，黏糊糊的，有点异味，像是豆腐渣，颜色泛黄的严重，跟以前的不一样，有朋友说孕妇确实会这样，但我还是担心，外阴还有点瘙痒。': list index (0) out o\n",
      "Error processing prompt '例假推迟了三天，胸痛，头晕，总感觉很困可又睡不着，月经一直都挺准时的，怎么回事啊？': list index (0) out o\n",
      "Error processing prompt '哺乳期乳房刺痛，没有硬快是怎么回事？又不是涨奶': list index (0) out o\n",
      "Error processing prompt '盆腔积液会影响胎儿的正常发育吗？，白带检查1+今天准本去做造影仔细检查白带还是3+医生帮我开的杏香兔耳，宫颈炎会影响怀孕吗？': list index (0) out o\n",
      "Error processing prompt '我结婚已经1年了，想结婚后就要孩子，可是却一直没有怀上，昨天，老公带我去医院做了个全面的检查，检查结果显示我患有盆腔腹膜炎，真的好担心啊，好害怕这个病会导致我要不了宝宝。': list index (0) out o\n",
      "Error processing prompt '生理期很痛，有时痛到呕吐，来生理期时有大量的血块，血块是黑色的，有时还伴有腰酸的症状。': list index (0) out o\n",
      "Error processing prompt '从14岁就开始遗精了这严重么？，从14岁就已经开始遗精了，现在才17岁，一个月就四五次遗精，都是睡午觉作梦的时候遗精，这严重吗？': list index (0) out o\n",
      "Error processing prompt '右旋糖酐20葡萄糖注射液的副作用（不良反应）': list index (0) out o\n",
      "Error processing prompt '如何进行宫颈糜烂的有效治疗？宫颈检查时医生给出了糜烂的诊断，需要寻求有效的治疗方法。': list index (0) out o\n",
      "Error processing prompt '对于以下症状，哪种药物可以使用？同事全身强直阵挛发作，确诊为癫痫': list index (0) out o\n",
      "Error processing prompt '外阴白斑，咱们这边医院有什么好的治疗方案么？': list index (0) out o\n",
      "Error processing prompt '请求医生帮忙诊断以下症状月经推迟10天白带有血丝': list index (0) out o\n",
      "Error processing prompt '长期的贫血会不会影响闭经，有时候月经推迟一两个月才来一次，来的量也很少': list index (0) out o\n",
      "Error processing prompt '治疗早泄得办法是什么，37男不知道为什么竟然会生病，也感觉到不舒服了请问：治疗早泄得办法是什么？': list index (0) out o\n",
      "Error processing prompt '精子活力不够怎么办？？，无': list index (0) out o\n",
      "Error processing prompt '每次做春梦还没抽动就遗精了属于早泄么，做春梦没抽动就遗精了': list index (0) out o\n",
      "Error processing prompt '就是月子还没有做完。就来红的。量和月经差不多。请问那个是来的月经嘛': list index (0) out o\n",
      "Error processing prompt '我14岁，上次月经是10月11日，开始以为天气转凉月经推迟，时间越来越长，怎么回事？': list index (0) out o\n",
      "Error processing prompt '处女，经期第一天不小心被男友。。。，但毫无疼痛或处女膜破裂感，是怎么回事': list index (0) out o\n",
      "Error processing prompt '医生，我阴唇内侧的一边长了感觉是一个痘很大，怎么办，会死人吗': list index (0) out o\n",
      "Error processing prompt '针对以下不孕症，如何治疗？卵巢囊肿': list index (0) out o\n",
      "Error processing prompt '如果频繁过多房事，人产生新的精子需要多久的，这样会不会有什么不好的问题。': list index (0) out o\n",
      "Error processing prompt '请问同房23天测血hcg小于10参考值是小于25中间没有同房过会怀孕吗': list index (0) out o\n",
      "Error processing prompt '做精液常规检查除了禁欲3～7天还要注意哪些吗？想今晚去检查的，但是前三天都喝酒了会有影响吗？': list index (0) out o\n",
      "Error processing prompt '经B超检查可见盆腔少量积液，是否需要服用药物治疗还是自己慢慢恢复，如需服用药物，那种药物比较合适？': list index (0) out o\n",
      "Error processing prompt '夫妻生活男人出血是为什么，患者年龄：５５岁　　详细病情及咨询目的：２０年前过夫妻生活时出现大出血后找医生（赤脚医生）开药方吃好，之后正常并生了儿子，到现在为止共出现３次，同时出现不举的症状．想咨询这是什么问题，怎么处理？本次发病及持续的时间：今年７月份　当次出血目前一般情况：很久没过夫妻生活．有点瘦': list index (0) out o\n",
      "Error processing prompt '什么是排卵期，无': list index (0) out o\n",
      "Error processing prompt '一来月经肚子就疼，腰也难受，小腿发软拌有疼痛感': list index (0) out o\n",
      "Error processing prompt '你好，每次月经期末都会有黑褐色白带流出，是什么原因？': list index (0) out o\n",
      "Error processing prompt '跟男朋友第一次，除了疼没有别的感觉，还没有出血，是怎么回事啊？': list index (0) out o\n",
      "Error processing prompt '上厕所拉不出来，俩天了，屁股被撑了很痛，现在用了药，上了厕所，现在还是痛，虽然没那么痛了，然后就出现拉稀症状，拉的像水一样，吃了治拉肚子的药一顿，还是没有什么明显的效果。请问我的屁股疼什么时候能好？求解我的拉稀什么时候能好？': list index (0) out o\n",
      "Error processing prompt '睾丸变大还疼哪些因素诱发？，今天睾丸突然边大有点胀痛，但是到晚上就不胀痛了，但是里面有点发硬，现在微微的有点感觉，说不上是疼，但也不是无样.跟平时不一样。睾丸变大还疼怎么回事？': list index (0) out o\n",
      "Error processing prompt '月经周期一直是30天，但最近3个月都是26天，经期7天！末次月经为8月4-5号的样子，20号，21号同房均无措施，是否需要服用紧急避孕药？': list index (0) out o\n",
      "Error processing prompt '一天之内房事三次只吃了一片左炔诺孕酮炔雌醚片，害怕怀孕还用再吃吗': list index (0) out o\n",
      "Error processing prompt '我阴道口长出肉牙二十天左右妇科大夫直是看看就说是处女膜裂痕': list index (0) out o\n",
      "Error processing prompt '乳头状宫颈糜烂的治疗和预防方法': list index (0) out o\n",
      "Error processing prompt '总是怀不上孕，一直同房有好几个月了，但就是没结果': list index (0) out o\n",
      "Error processing prompt '我已结婚多年，但是最近突然发现外阴瘙痒，身上有异味，白带异常呈渣状。这几个星期一直都这样。然后我就买了妇炎洁洗液来用，但是吧，用了很久没什么好转，就想问一下妇炎洁的使用方法。': list index (0) out o\n",
      "Error processing prompt '顺产之后阴道松弛干涩是什么原因呢，请问医生': list index (0) out o\n",
      "Error processing prompt '上次月经8号，每次都是提前这次6号来点褐色的7号就没有了19号又开始来了三天褐色的之后又开始来了带血块凝视月经肚子还隐隐的痛每次上厕所都有黑色的血块': list index (0) out o\n",
      "Error processing prompt '性生活阴茎勃起时间短，射精快，硬度不够怎么办？': list index (0) out o\n",
      "Error processing prompt '这两天发现内裤上留有少量褐色分泌物。是不是和两天前同房有关，要怎么处理？': list index (0) out o\n",
      "Error processing prompt '提供尖锐湿疣患者的护理注意事项和该病的危害。尖锐湿疣': list index (0) out o\n",
      "Error processing prompt '排卵期前一天同房同房后发现避孕套上有咖啡色的分泌物': list index (0) out o\n",
      "Error processing prompt '我结婚有1年了，开始的半年是避孕的，后半年就没有避孕了，可是就是没有怀上，特别的担心，去医院检查了也没有问题，可是这么长时间怀不上，医生说叫我在排卵期的时候同房，让我买个排卵期计算器。': list index (0) out o\n",
      "Error processing prompt '有很长的手淫病史，性生活时间短，自己吃了一些药也不管用。现在勃起硬度也不好了。': list index (0) out o\n",
      "Error processing prompt '精子活力不正常影响生孩子么，本人下体特别痒，而且内衣上总是黄黄的，怎么回事？请问精子活力不正常影响生孩子么': list index (0) out o\n",
      "Error processing prompt '面部感染hpv怎么办': list index (0) out o\n",
      "Error processing prompt '就是从结婚就是性生活时间短，当时以为就那样，就没有理会，自己也事情多，也能有孩子！近几年射精没感觉！': list index (0) out o\n",
      "Error processing prompt '你好医生我今年24.女，我的月经是今年2月3号来的直至18号都没有干净中途吃过调理的药没用直至19号我突发急性阑尾炎动了手术手术后就干净了今天是我动手术一个月连5天我的月经都没有来有过1次性史也吃过1次避孕药在动手术的时候医生说我的输暖管不正常略、粗请问我还能怀宝宝吗？或者说我的月经会不会来？': list index (0) out o\n",
      "Error processing prompt '包皮长对女性的危害是什么，详细病情及咨询目的：我有霉菌，复查3次治愈了，现在又复发了，我天天都洗换内衣注意卫生，我对象也去医院检查了，医生说他没什么症状，但是包皮长，我怀疑他包皮长导致我现在的复发！我想问问医生他包皮长和我着次的复发有什么关系吗？我门现在的性生活很少很少了，可还是复发了，我很困惑~~~~请医生帮帮我找找原因~~~~~帮帮我啊': list index (0) out o\n",
      "Error processing prompt '和老公结婚一年多了，婚前交往了三年，这三年，他并未提过任何有关性方面的事情，我以为他是一个比较内向的人，可是婚后，也依旧是这样。': list index (0) out o\n",
      "Error processing prompt '割了包皮八天了龟头下面那个茎旁边肿有点红怎么办有事吗？': list index (0) out o\n",
      "Error processing prompt '吸烟是否会对以下人群造成危害？17岁的男性': list index (0) out o\n",
      "Error processing prompt '乳头内陷，只看到乳晕。请问用吸奶器有用吗？如果没有用，做手术大概多少钱？': list index (0) out o\n",
      "Error processing prompt '6月21号来的月经，期间没有同房过。但是6月月经没来之前做过，月经到现在还没来。而且下体分泌物特别多。6月来过月经，就应该排除推迟怀孕的可能吧': list index (0) out o\n",
      "Error processing prompt '17岁龟头挨着尿道下面有个白色的泡，不疼不痒，我去咨询过医生，说是要激光治疗，除了激光就没有别的药物治疗什么的吗？': list index (0) out o\n",
      "Error processing prompt '引起死精症的原因是什么，死精症是什么原因致使的？我有个朋友，怀孕了准备结婚，可是没多长时间就胎停育了，然后做了人流手术，可是结婚后之后一直在备孕，都绝不会怀孕，之后一起去医院做仔细检查，医生说是什么死精症，可是这个怎么之前会怀孕，现在不能怀孕啊，能治疗的吗，是什么原因的啊。': list index (0) out o\n",
      "Error processing prompt '什么原因会患滴虫性阴道炎？，下面异味很重，做爱会刺痛化验、仔细检查结果：滴虫性阴道炎曾经的治疗情况和效果：不怎么样呵呵': list index (0) out o\n",
      "Error processing prompt '提供脊灰疫苗的剂量和接种部位。': list index (0) out o\n",
      "Error processing prompt '这个月跟女朋友做了三次前两次是在排卵期第一次有带套射了第二次没带套进去女朋友说疼就出来了没有射上个月他月经是14左右来的这个月没有按时来18号又做了一次拔出来射在外面没有射在里面今天19还没来请问会怀孕吗': list index (0) out o\n",
      "Error processing prompt '我已经17岁了割包皮会不会太迟': list index (0) out o\n",
      "Error processing prompt '有乙肝病毒，但是去医院检查肝功能正常，我想问一下医生，这种情况会不会传染给家人，平时餐具之内要不要跟他分开用。': list index (0) out o\n",
      "Error processing prompt '孕13周被判有不完整流产，需要做什么手术？': No candidates return\n",
      "Error processing prompt '前2个星期刚割包茎，后来发现龟头不能完全翻出，医生说因为粘连很严重，导致有部分皮不能割，我还发现龟头下部分大部分不能分离，也好像搞得尿小泡，很急，尿很远不像之前没有这么远，是不是粘连挡住尿道口？我这个手术是不是有问题啊？': list index (0) out o\n",
      "Error processing prompt '医生，我上个月19号来的月经，但是这个月现在都27号了还没来，好着急啊！我上个月有一场对我比较重要的考试，饮食也不怎么好，没有性生活，请问这是怎么啦': list index (0) out o\n",
      "Error processing prompt '我最近出现了性功能障碍的症状，可能是什么原因引起的呢？': list index (0) out o\n",
      "Error processing prompt '女性排卵高峰有几天，无': list index (0) out o\n",
      "Error processing prompt '排卵期出血超过七天怎么处理，本人下体特别痒，而且内衣上总是黄黄的，怎么回事？请问排卵期出血超过七天怎么处理': list index (0) out o\n",
      "Error processing prompt '我得了尖锐湿疣。': list index (0) out o\n",
      "Error processing prompt '腰疼阳痿早泄如何用药，以前性生活很频繁，后来发现勃起不坚，能勃起，但是软的很快，后来去医院检查发现是前列腺炎，吃药后症状消失。但阳痿早泄还存在': list index (0) out o\n",
      "Error processing prompt '对于以下细菌感染，使用哪种药物治疗最为有效？呼吸道感染引起的发烧，乏力和干咳。': list index (0) out o\n",
      "Error processing prompt '我五月六号做的无痛人流昨晚同房了怀孕么？怀孕几率大么？': list index (0) out o\n",
      "Error processing prompt '今天医院b超检查，左侧卵巢囊肿50??47，平时还有白带异味，但是检查白带滴虫什么都正常，怎么回事？': list index (0) out o\n",
      "Error processing prompt '产妇剖腹产恢复几天后可夫妻同房，我剖腹产以有42天了，我想问几下剖腹产彻底恢复几天后可夫妻同房': list index (0) out o\n",
      "Error processing prompt '我怀孕了可是男朋友没有涉过金子。怎么会怀孕': list index (0) out o\n",
      "Error processing prompt '我就是这几天小便之后下体疼然后医院有活动就去了检查出有二度宫颈糜烂医生让我赶紧治疗可我没有别的感觉做微创有必要么谢谢医生们了': list index (0) out o\n",
      "Error processing prompt '月经干净后第七天同房三次，内射，第二天吃了毓婷，请问这样还会怀孕吗？': list index (0) out o\n",
      "Error processing prompt '做包皮手术以后还会不会增长增粗呢？做完手术后要多久才能房事呢？': list index (0) out o\n",
      "Error processing prompt '因为流产导致子宫内膜薄，月经不稳定，用妇炎洁纳米银蜂胶女性抗菌凝胶会有效果吗？': list index (0) out o\n",
      "Error processing prompt '最近多半在月经前一周开始即有腹痛，越邻近经期越重，直到月经来潮等症状就到医院检查下，结果医院诊断结果为附件炎': list index (0) out o\n",
      "Error processing prompt '你好，康复消炎栓可以阴道用药不，用了过后更严重了，还能用什么药': list index (0) out o\n",
      "Error processing prompt '子宫息肉是怎么引起，子宫息肉是怎么导致的？为什么我们女性总是会得这样那样的妇科疾病呢？医生说我有子宫息肉的症状，怎么办？我的子宫息肉是怎么导致的呢？': list index (0) out o\n",
      "Error processing prompt '我在去年七月做了手术，现在还有少量粘液，同时干体力活比平时多一点点，还有就是想大便时要尽快入厕，五六分钟内没有去厕所就会拉裤子，请问这是什么原因，需要怎么治疗？': list index (0) out o\n",
      "Error processing prompt '我的肛门右侧附近起了一块硬的东西。不疼，过了2天已经变得比较疼了，医生给我检查跟我说：这是肛周脓肿，打针几乎不能治好，只有手术，免得以后形成肛瘘，尽早做手术好。': list index (0) out o\n",
      "Error processing prompt '请问性交时间在阴茎特别硬的时候大概三分钟左右，半硬半软的情况下可以有15分钟左右，正常吗？': list index (0) out o\n",
      "Error processing prompt '医生你好，请问阴毛处长红色疙瘩，一连串，很痒，是什么症状，以前也长过，好了，现在又长了。好郁闷！！！': list index (0) out o\n",
      "Error processing prompt '你好，请问我月经一般在27天左右，一直都很正常，这个月应该是31号来月经，但是28号下午来了一点点，晚上发现没了，结果第二天白天又来了一点点，请问这样正常吗，是哪里出问题了吗？': list index (0) out o\n",
      "Error processing prompt '肛门有个小包是什么原因，还带有出血，排便的时候还有疼痛感': list index (0) out o\n",
      "Error processing prompt '您好医生，我最近发现自己有前列腺囊肿，我出现了尿频、尿线细、尿无力、腰酸、有时遗精、勃起功能比以前差的症状。进行检查后发现前列腺囊肿大小为1.4×1.6cm，并伴有炎症。在医院输液和物理仪器治疗，治疗了5.6天，症状得到了缓解。但我现在又感到腹部不舒服，我很担心，想咨询一下您的专业意见。像我这种囊肿的话，是否需要做手术才能完全康复？我还没结婚呢，这对我的性生活是否有影响？希望您能帮我解答，谢谢！': list index (0) out o\n",
      "Error processing prompt '我宫腔镜术后2个月，一直吃补佳乐黄体酮，今天来月经了经量少发黑，还要不要继续吃药，我内膜比较薄来月经少能不能喝益母草': list index (0) out o\n",
      "Error processing prompt '请列举以下药物的常见不良反应。维生素B12注射液': list index (0) out o\n",
      "Error processing prompt '两个月外阴痒，11,10，霉菌，用药8天后，11,22来月经，月经结束后3天后检查无霉菌，但是支原体感染，现在还是刺刺痒痒的': list index (0) out o\n",
      "Error processing prompt '今天上厕所，擦的时候有一大团像鼻涕似得东西黄黄的，上网查了一下有的说是宫颈粘液栓，有的说是有炎症！！好害怕呀！！！！我才怀孕三个半月呀！！！怎么办怎么办！！！！！！': list index (0) out o\n",
      "Error processing prompt '孕早期先兆流产有褐色分泌物怎么办': list index (0) out o\n",
      "Error processing prompt '我跟我爱人昨晚做了一次，然后隔天才流血然后是没戴套的月经如果准的话会不会怀孕呢？': list index (0) out o\n",
      "Error processing prompt '年龄62岁，B超提示宫腔少量积液，宫颈小囊肿，怎么回事，是否严重呢，以下是B超检查结果。检查结果是：子宫前位，形态正常，生理性萎缩，肌壁回声均匀，未见占位回声，子宫半层内膜厚1.5mm，宫内可见一范围约11乘5mm的液性暗区，内透声欠清晰；宫颈可见数个无回声区，较大的约4乘3mm，内透声清晰，后方回声增强。双侧附件区未见明显肿块回声盆腔未见积液声像CDFI：子宫、附件内未见明显异常彩色血流信号': list index (0) out o\n",
      "Error processing prompt '念珠菌性阴道炎怎样治更好，平时就没什么事，但是每次和男朋友同房以后就觉得私处很不舒服，不但白带颜色不对劲，而且气味也非常的难闻，这个问题真的困扰我很久了，请问：': list index (0) out o\n",
      "Error processing prompt '白带检查结果：白细胞2分泌物多，黄色。霉菌，滴虫未验见。这种情况有好多年了，平常去医院也就用一些一般的中成药消炎，效果不是很好，': list index (0) out o\n",
      "Error processing prompt '很小的宫颈息肉怎么办宫颈息肉复发吗': list index (0) out o\n",
      "Error processing prompt '为什么乳头会挤出水，主要症状：胸部不舒服，乳头会挤出水发病时间：10月21日化验检查结果：没有': list index (0) out o\n",
      "Error processing prompt '女人性冷淡的治疗方法，可以为我点燃一根代表希，无': list index (0) out o\n",
      "Error processing prompt '有一天左睾丸边区夫荣域突然剧烈火的灼热，过两天发现左睾丸总是自主的往后滑落，看起来呢就不和右边不对称的样子，其次摸起来左侧睾丸有些软！现在感觉有些胀痛，滑落之感，可能是之前经常骑自行车导致。': list index (0) out o\n",
      "Error processing prompt '每个月的大姨妈都是23号这个月超了十多天没有来我想知道怎么回事': list index (0) out o\n",
      "Error processing prompt '大夫你好，真的可以通过手术增加阴茎的长度吗？': list index (0) out o\n",
      "Error processing prompt '快来月经了，昨天同了房，今天小腹两边很痛白带带有血丝是不是盆腔炎我以前就得过盆腔炎还没去医院看现在要怎样治疗': list index (0) out o\n",
      "Error processing prompt '跟几个没有艾滋病的人有性生活会有艾滋病吗？': list index (0) out o\n",
      "Error processing prompt '就是我想问一哈这个月9号来的月经然后大概13号就没有了然后应该是15号和男朋友发生关系第二天吃的药然后就来了第二次月经只来了几天然后隔了一天和男朋友发生了关系弄在里面了请问要吃避孕药吗': list index (0) out o\n",
      "Error processing prompt '上完厕所擦屁股的时候有血有时疼有时候不疼有时候感觉没上完是的这是怎么回事吃什么药呀': list index (0) out o\n",
      "Error processing prompt '我孕三个月，最近频繁做春梦，这对孩子有影响吗？': list index (0) out o\n",
      "Error processing prompt '包皮过长有什么样的危害呢？，包皮过长有些什么样的危害啊，我也有，不知晓需不需要做手术？': list index (0) out o\n",
      "Error processing prompt '直肠炎应注意什么': list index (0) out o\n",
      "Error processing prompt '外阴痒得利害去医院看了几次都说妇科没问题见意看皮肤科有什么办法治疗': list index (0) out o\n",
      "Error processing prompt '阴道痒是什么原因，之前有用过冲洗液，现在没用了，怎样治疗？': list index (0) out o\n",
      "Error processing prompt '哺乳期乳房疼痛怎么回事，宝宝11个月了，本来正准备要断奶的，也不会是胀奶，有时候感觉奶已经吸的很空了，宝宝还是吸着奶有点疼，这两天奶里面轻微疼痛，碰的时候会疼，不碰就没有那么疼，虽然不是胀奶，但乳房看上去像涨奶一样有点充盈，只是一侧乳房会这样，另一个不会痛，我想知道这个乳房疼痛是怎么回事？': list index (0) out o\n",
      "Error processing prompt '患了精囊炎应该怎么样治，我是司机，最近总觉得会阴难受伴有尿频尿急，以为是前列腺炎，一查是精囊炎，请问患了精囊炎应该怎么样治': list index (0) out o\n",
      "Error processing prompt '外阴炎有哪几种类型，一到晚上阴道炎症就很痒，检查说是外阴炎外阴炎都有哪些类型': list index (0) out o\n",
      "Error processing prompt '最近肛门内部四周疼痛，特别是收缩的时候，这是怎么回事？': list index (0) out o\n",
      "Error processing prompt '阴茎拉伸能增大吗': list index (0) out o\n",
      "Error processing prompt '怀孕后期了，最近屁眼上长了一个肉肉的东西，上厕所疼，出血，走路都疼，怎么办，': list index (0) out o\n",
      "Error processing prompt '我的阴茎上面长了几个小点点，红红的还有点痒，我都没太在意，这两天渐渐的长成了肉疙瘩，有点破溃了，到医院去检查患有尖锐湿疣。': list index (0) out o\n",
      "Error processing prompt '你好我怀孕七个半月了阴唇旁边起的筋还痒还有点疼没有事吧': list index (0) out o\n",
      "Error processing prompt '海绵体堵塞怎么治疗': list index (0) out o\n",
      "Error processing prompt '姨妈推迟四天了，这四天肚子偶尔胀痛，同房过没采取措施，但是宫寒': list index (0) out o\n",
      "Error processing prompt '最近三四天乳头疼，就只是乳头，不是整个乳房，有时候不小心碰到了也疼，不是月经来潮，也没有怀孕，可能是什么原因呢？': list index (0) out o\n",
      "Error processing prompt '外阴湿疹是什么症状': list index (0) out o\n",
      "Error processing prompt '请问子宫息肉怎样治疗，您好！我患有炎症：月经蔼色点滴！检查患有子宫息肉': list index (0) out o\n",
      "Error processing prompt '一同房小腹就痛，感觉顶的疼。会不会是癌症的。现在都怕同床': list index (0) out o\n",
      "Error processing prompt '以前也长过但没这次严重，以前长都是很小也没影响生活日常大便还有时会带血。这次长有4.5天了，第一天还没什么感觉但第二天就开始痛了到现在，那几天有吃过辣和喝酒': list index (0) out o\n",
      "Error processing prompt '尖锐湿疣常见并发症': list index (0) out o\n",
      "Error processing prompt '就是包皮长撸管到时候做包皮手术的时候不会耐事吧做完包皮手术之后会有什么不良反应吗': list index (0) out o\n",
      "Error processing prompt '房事过度，两鬓白发，胡须也有白，体内热，大便稀，舌头干，请问该怎么治疗？': list index (0) out o\n",
      "Error processing prompt '男性泌尿感染的症状及治疗': list index (0) out o\n",
      "Error processing prompt '乙肝通过接吻传播吗？，乙肝病毒可以通过做爱散播吗？乙肝病毒的散播途径有哪些？': list index (0) out o\n",
      "Error processing prompt '你好，我现在25岁，上个月来月经来了，十几天，段段续续的，有段时间是黑褐色的，又过段时间又是来月经这样了，然后去医院照了B超说没事，拿了一点药吃了，吃药停了三天，又来了，本来以为是这个月的，可是来了八天了，现在又是黑色的，像拖尾这样的，而且肚子很闷疼，这个有问题吗？': list index (0) out o\n",
      "Error processing prompt '做人流前医生要复检，用扩阴器，说我白带多，可能有病毒，做完手术建议去做个阴道镜。但是第一次检查白带的时候，没有病毒，霉菌滴虫什么的如果真的有病毒一开始做白带癌检可以查出来吗那为什么后来医生又说可能有病毒？如果有病毒会得什么病呢': list index (0) out o\n",
      "Error processing prompt '屁眼周围长了个疙瘩，有点肿，一拉屎就痛，有时候还有血，经常会便秘': list index (0) out o\n",
      "Error processing prompt '去年年底宫颈糜烂一度，今年去检查说二度，做了阴道镜活检，hpv感染，活检病理诊断说3.6.9.12点粘膜慢性炎，3点局部上皮鳞化，6.9.12点未见鳞状上皮。': list index (0) out o\n",
      "Error processing prompt '包皮下除了痒以外，还有红肿小疙瘩，请问专家如何治，': list index (0) out o\n",
      "Error processing prompt '以下药品可能会产生哪些不良反应？小儿氨酚烷胺口服液': list index (0) out o\n",
      "Error processing prompt '之前因为泌乳素低有垂体瘤没有月经，手术后吃溴隐亭控制泌乳素一切正常了5年，可现在月经又没有了，在这段时间中我做过泌乳素检查正常，之后做什么性激素检查，子宫内膜薄，吃黄体铜补加乐吃了之后来月经了，后来又没有月经了': list index (0) out o\n",
      "Error processing prompt '霉菌性阴道炎治疗期间出血怎么办，在医院查出来有霉菌性阴道炎。已经在治疗，吃药和微波擦洗。治疗已经第三天，有出血现象，还是会痒。是什么情况。明天除了最后一天治疗，还需要有专心治疗吗？是什么情况。还需要有专心治疗吗？': list index (0) out o\n",
      "Error processing prompt '内分泌失调不孕不育症如何治疗，月经不调，我本身比较胖结婚八年未孕': list index (0) out o\n",
      "Error processing prompt '吃排卵药用打排卵针吗，月经前一周测到排卵怎么回事一直弱阳。月经挺正常。': list index (0) out o\n",
      "Error processing prompt '今年50岁，十年没来月经，突然来了，又没有了': list index (0) out o\n",
      "Error processing prompt '今天和老公性房后发现安全套破了应该精子有射了些进去可是我还有月经12天就来月经了那会怀孕吗。我月经平时都很有规律的。是否要吃避孕药': list index (0) out o\n",
      "Error processing prompt '得了子宫内膜炎严重吗？最近感觉小腹疼痛，白带很多，去检查说是子宫内膜炎，这个病严不严重啊？': list index (0) out o\n",
      "Error processing prompt '最近和老公同房的时候发现下面有小水泡，又痒又疼的。老公觉得我这个像疱疹，说是性病，可是我除了老公之外没和其他人做什么啊。请问生殖器疱疹早期图是症状怎样的？': list index (0) out o\n",
      "Error processing prompt '这次来月经阴道口会痒，有时候还里面也会有，为什么': list index (0) out o\n",
      "Error processing prompt '尖锐湿疣到底可不可以治好？': list index (0) out o\n",
      "Error processing prompt '阴茎插入阴道时，怎么会痛，，患者性别.男患者年龄，21我跟我女朋友都快二年了，同房时刚插入女朋友的阴道前后动两下就觉得很痛，就觉得发冷': list index (0) out o\n",
      "Error processing prompt '大便出血了，肛门疼！！怎么回事，患者性别女，年龄25岁：这一段时间便秘，今天大便时，排便很艰难，用了很大的力气才排出来的，然后用手纸擦时有血，而且擦时不能用力，否则会疼，有点像擦到伤口的感觉，而且便后，肛门有些疼，滋滋啦啦的疼，请问是怎么回事啊，我得了什么病啊，应该怎么治啊': list index (0) out o\n",
      "Error processing prompt '我最近出现了见红的情况，想咨询一下可能是什么原因引起的。': list index (0) out o\n",
      "Error processing prompt '为什么排卵会推迟？，无': list index (0) out o\n",
      "Error processing prompt '外阴上面长了很多小包，一颗一颗的，也没有什么其他异常，不疼不痒。听说可能是尖锐湿疣，有点不放心，这个病会有哪些症状啊': list index (0) out o\n",
      "Error processing prompt '我目前的症状是总感觉小便拉不清伴有轻微的阳痿早泄第2次去医院做了个经直肠彩超显示结果为双侧精囊局部蜂窝样改变。医生说是精囊炎他说这个病没法治疗': list index (0) out o\n",
      "Error processing prompt '我之前去医院检查妇科的时候，医生告诉我，我得了宫颈癌，要尽快到医院安排治疗，我之前一直就没有什么症状，怎么就得了宫颈癌了，最多只是一些妇科疾病，不知道宫颈癌是怎么形成的。': list index (0) out o\n",
      "Error processing prompt '他和我交往过我对他还有感情每次见面总感觉他还喜欢我他一直说他已经不喜欢我了': list index (0) out o\n",
      "Error processing prompt '女性阴毛太多，是怎么回事': list index (0) out o\n",
      "Error processing prompt '上个月二十一，二号来的月经，这个月十号同房一次内射了会怀孕吗？几率有多大。': list index (0) out o\n",
      "Error processing prompt '清宫后，大概是十几天来例假的，例假持续有八天，但到第八天的晚上小肚子一直疼，请问这样的症状怎么办呢？': list index (0) out o\n",
      "Error processing prompt '单侧隐睾，需要如何治疗，除了手术还有其他的治疗方法吗？': list index (0) out o\n",
      "Error processing prompt '小孩断奶后月经混乱有时来有时不来！也没有怀孕！用什么药可以调节月经不调！': list index (0) out o\n",
      "Error processing prompt '还有1个礼拜快来月经了，这几天阴道不停排出黄色分泌物，什么原因呢？': list index (0) out o\n",
      "Error processing prompt '为什么阴茎勃起就会冒透明液体，透明液体冒出来后，阴茎就开始变软？不射精就软？': list index (0) out o\n",
      "Error processing prompt '人流后白带增多怎么回事？，我在一个月前因为怀上了一个月的时间去做了无痛人流，人流后我都没怎么好好的歇息，我经常是会腰酸背痛的，在人流后二十天的时候我白带许多，还有点异味，比平时多了许多。': list index (0) out o\n",
      "Error processing prompt '医师，我问一下我32岁，头3天来了一赶月经这两天没有了还流黑色的东西，不多，同房的时候还出血，最近这几个月经提前7-8天谢谢': list index (0) out o\n",
      "Error processing prompt '阴唇上长了几个小疙瘩是咋回事，有一年的时间了': list index (0) out o\n",
      "Error processing prompt '盆腔粘连有哪些表现？这段时间总是感觉下腹处有刺痛感，平时也是肚子老疼，在网上看了怀疑是盆腔粘连，这病还有什么症状吗': list index (0) out o\n",
      "Error processing prompt '今天刚出生的婴儿，昨天涨奶厉害，今天小孩吸没什么奶，这是怎么回事': list index (0) out o\n",
      "Error processing prompt '包皮过长是会有哪些危害呢？，我前阵子去仔细检查身体的时候，医生说我包皮过长，建议我马上做手术，但是我觉着没什么干扰，所以就回绝了医生的建议。怎么解决？': list index (0) out o\n",
      "Error processing prompt '医生说是尿道性病毒感染，什么的都验了不是艾滋病，和梅毒，我这个病严重吗': list index (0) out o\n",
      "Error processing prompt '多囊卵巢盆腔粘连输卵管通而不畅怎么治': list index (0) out o\n",
      "Error processing prompt '念珠菌性阴道炎应该如何治疗好，患者年龄：19 患者性别：女 得念珠菌性阴道炎有一年多了断下去该如何治疗.': list index (0) out o\n",
      "Error processing prompt '这段时间发现白带变多了，而且颜色也发黄。腰腹有种下坠感，这是什么原因啊？': list index (0) out o\n",
      "Error processing prompt '屁股上面好像张痔疮了，出来了一点息肉，已经好长时间了，但是大便没有出血症状，只是现在总是痒，不知道是不是痔疮': list index (0) out o\n",
      "Error processing prompt '我目前还是包皮的、下面痒、都被我抓破了、旁边还长了痘痘这个是什么情况': list index (0) out o\n",
      "Error processing prompt '肾虚举而不坚坚而不挺有早泻现象不能满足女朋友的需求': list index (0) out o\n",
      "Error processing prompt '外阴白斑治疗到哪家好？，最近感觉自己的私处有点痒，而且好像颜色都不太一样了，有点发白，去医院检查说是外阴白斑，请问，外阴白斑治疗到哪家好？': list index (0) out o\n",
      "Error processing prompt '滴虫前列腺炎什么症状': list index (0) out o\n",
      "Error processing prompt '怎样才能有效治疗输卵管积水，平时其实都还好，但是我每次月经之后就会犯病，具体症状就是私处瘙痒，小腹下坠疼痛，这个情况是有炎症吗？请问：怎样才能有效治疗输卵管积水': list index (0) out o\n",
      "Error processing prompt '我撤退性出血就只有一天后来就那天带套又有一次房事会不会有事': list index (0) out o\n",
      "Error processing prompt '霉菌阴道炎如何治疗比较好，清度盆腔炎宫颈口有点红霉菌很多，但是不痒，医生说应该很痒的，是怎么回事啊？是不是还有其它的病菌，有碰到过这样的情况吗？请回.': list index (0) out o\n",
      "Error processing prompt '肛周脓肿，长出来已经有五天左右了，刚开始是硬块，现在是软的脓包，肛周脓肿不做手术能治好吗，费用是多少': list index (0) out o\n",
      "Error processing prompt '阴道流血，量不大，做了个阴道彩超，内膜欠均，左侧卵巢见3.8╳2.3的囊形结构，请给我分析下病情': list index (0) out o\n",
      "Error processing prompt '危险期，和女朋友做爱，做到一半，避孕套变得很干，她直叫疼，于是换了个避孕套，没有射精，害怕手上会沾到阴茎上分泌的液体，从而带到避孕套上。所以一直忐忑不安，害怕怀孕，请问医生会怀孕吗？': list index (0) out o\n",
      "Error processing prompt '内分泌失调有几个月，乳腺增生这几天开始的': list index (0) out o\n",
      "Error processing prompt '如果对方患有尖锐湿疣，可能是初期很小也没在意，过了差不多3、4个月才确诊，但在这段时间内和这个患者共用了洗衣机一块洗衣服，而且共用坐式马桶了，会不会导致被间接感染？': list index (0) out o\n",
      "Error processing prompt '有外阴瘙痒要怎样治疗，我大前天和我老公发生关系之后我就没及时的擦洗我的下体，第2天晚上的时候我感觉我的外阴瘙痒的厉害，很不舒服，自己用水和洗液洗了舒服一会，晚上还这样，不知晓这个应当怎么治疗啊？': list index (0) out o\n",
      "Error processing prompt '14岁女孩近期夜间有遗尿现象，以前没有，就是近两周内，出现三次': list index (0) out o\n",
      "Error processing prompt '我去年年底做了人流安了避孕环，每个月来都是经期前后有少量的出血，每个月都是持续半个月二十天左右，上个月情况也是一样，十七号左右有点，，22号左右量多，月底了还没有干净，我就去诊所开了点吃了点直到上个月': list index (0) out o\n",
      "Error processing prompt '我最近感觉里急后重，没有其他症状。': list index (0) out o\n",
      "Error processing prompt '月经完了多久会怀孕，月经快来时同房会怀孕吗': list index (0) out o\n",
      "Error processing prompt '我一朋友患有子宫内膜炎，听她说很老火，搞得她班也不能上了，听了后很害怕，我最近也觉得肚子不舒服，经常觉得小腹痛，有时还白带多，白带的颜色是黄色的': list index (0) out o\n",
      "Error processing prompt '前列腺肥大治疗哪种方法有效，前列腺肥大治疗方法': list index (0) out o\n",
      "Error processing prompt '您好！女朋友3月20来的月经！3月26日结束月经！4月4号房事的时候没有采取安全措施！请问会怀孕吗？怀孕的几率大不？谢谢': list index (0) out o\n",
      "Error processing prompt '我19号来月经，22号基本上完了，23号还有褐色东西出来，昨晚上同房没有采取措施会不会怀孕呢？': list index (0) out o\n",
      "Error processing prompt '治疗尿路感染后需要注意什么问题？，女今年33岁，我这几天总是尿频、尿急，然后小便时除了刺痛感，已经快个星期了，去医院仔细检查说是患了尿路感染，请问我想知道治疗尿路感染后需要注意什么问题？': list index (0) out o\n",
      "Error processing prompt '患上细菌性前列腺炎能好吗，淋病，治疗后症状消失，但是龟头一直是红的。后来仔细检查发觉支源体传染，输液阿其酶素，10天左右，但是症状一直没消失。后来仔细检查发觉的了前列腺炎和精囊炎。现在已经1年了。': list index (0) out o\n",
      "Error processing prompt '带环四个月了，月经完了以后有时候也有点血，但是量特别少，也就是看上去有血色，而且月经过后白带多，有时候还有血丝，这是怎么回事阿': list index (0) out o\n",
      "Error processing prompt '女友的月经是褐色的，完全没有红色，夹杂着类似白带的物体，肚子很痛，外阴有点痒痒的，另一个问题是如果是阴道炎，由尿频和外阴瘙痒变成只有轻微的外阴瘙痒是在慢慢复苏了吗': list index (0) out o\n",
      "Error processing prompt '已经有一个多星期是大便出血了，现在还发现肛门外旁还有一个像水泡样的泡泡，请问应该怎样做好措施？': list index (0) out o\n",
      "Error processing prompt '输卵管积水有哪些治疗方法，目前一般情况：刺痛以往的诊断和治疗经过及效果：打针吃药做理疗后见好 后来又复发详细病情及咨询目的：怎样能根治输卵管积水': list index (0) out o\n",
      "Error processing prompt '每次月经快结束了就痒，痒了就用温水洗下就不痒了，过一会又痒了，之前用过佳茵这种保健品吧也算妇科药，用了三盒，用的时候裤子上总是湿湿的，不用就不会湿，我是不是应该继续用这个药呢': list index (0) out o\n",
      "Error processing prompt '您好，我生殖器疱疹有几年了，经常吃阿惜韦洛，经常复发': list index (0) out o\n",
      "Error processing prompt '月经第三天想要做爱可以吗会怎样做了以后该怎么办呢': list index (0) out o\n",
      "Error processing prompt '外阴阿米巴病的护理是什么？': list index (0) out o\n",
      "Error processing prompt '我想知道治妇科病注意事项有哪些，哪家医院是治妇科病的盆腔积液导致的原因？盆腔炎有哪些注意事项': list index (0) out o\n",
      "Error processing prompt '前列腺炎还有早谢尿多射精无力，尿不尽，去检查了就是平常的前列腺炎，早泄一两分钟就完事了，请医生说一下份量卫及服用方法谢谢': list index (0) out o\n",
      "Error processing prompt '什么诱发引起阳痿？，，令我羞于启齿的是再次发生了，每次想和老婆做爱，但却每次阴茎不能够勃起，它不仅会催毁了我的信心，还使我背负着了沉重的包袱，是什么原因致使早泄的呀。': list index (0) out o\n",
      "Error processing prompt '请问前列腺钙化的危害？，今年不知晓怎么了，感觉总是尿频尿急，已经开始没注意，后来越来越严重，已经开始排尿困难，尿线无力，前几天去医院查了一下，发觉是前列腺钙化，不是很理解这个病，不知晓它会对身体有什么危害，会不会影响到日后的生活': list index (0) out o\n",
      "Error processing prompt '什么原因导致外阴痒，外阴超痒': list index (0) out o\n",
      "Error processing prompt '龟头炎怎么引起的': list index (0) out o\n",
      "Error processing prompt '我属于一种婚外恋，认识一个女人，我发现深深的爱上了她，对她有种莫名的心痛，只要有时间和她聊天，聊一会她不回，也许她在忙，所以没回，但我感觉心里好难受，好心痛，反正会乱想，和她在一起感觉好快乐开心，这是一种病吗？': list index (0) out o\n",
      "Error processing prompt '上次来月经是4月9号，今天5月1号去检查，抽血化验以后。孕酮显示61，医生说是怀疑怀孕了，但是具体结果还没有出来，说是得过几天，但是平时房事时都会避孕，导致孕酮高的话还会有其他原因吗': list index (0) out o\n",
      "Error processing prompt '我得了稀罕氏综合征，能治好吗。我主要是坐月子和老公同房出血了': list index (0) out o\n",
      "Error processing prompt '小孩能结扎吗？结扎会有什么后遗症呢？结扎的男人还能玩女的吗？': list index (0) out o\n",
      "Error processing prompt '月经每个月都来十几天，都是吃药才能停的，请问一下是什么原因': list index (0) out o\n",
      "Error processing prompt '感觉痛经可是月经却没来怎么办医生可以说说吗': list index (0) out o\n",
      "Error processing prompt '你好，前列腺充血怎么办，没有尿频症状，就是有时肛门处不舒服，大概多久恢复，17岁男生': list index (0) out o\n",
      "Error processing prompt '去年就已经绝经了，但是这段时间却出现了阴道异常出血的情况，尤其是性生活后，出血的情况更为严重，很怕自己会得宫颈癌，想知道宫颈癌的症状。': list index (0) out o\n",
      "Error processing prompt '请问同房后11天可以用验孕棒测怀孕吗？或者多少天可以？因为月经期不准，所以不知道什么时候是延迟': list index (0) out o\n",
      "Error processing prompt '小孩子尿道下裂治疗会有风险吗，小几头从的蛋皮下出来': list index (0) out o\n",
      "Error processing prompt '若已在使用该药，请注意以下两种药物的潜在副作用。罗格列酮 和 大青蒿素': list index (0) out o\n",
      "Error processing prompt '最近几个月总是没有性欲，老是硬不起来，老是想但是硬不了，即使能硬还没开始就软了，不知道是怎么回事？我腰两侧有点酸和有点涨是不是和这个有关？': list index (0) out o\n",
      "Error processing prompt '在日常生活中要怎样预防妇科炎症，前一段时间发现自己身体不舒服去医院一检查才知道自己得了妇科炎症，现在已经治好了，在生活中要怎样预防妇科炎症呢': list index (0) out o\n",
      "Error processing prompt '念珠菌性阴道炎经常复发要怎么办，女，31岁，检查得了阴道炎，用了多个疗程的药，外阴还是会有点痒，白带一直是豆腐渣的，请问念珠菌性阴道炎经常复发要怎么办': list index (0) out o\n",
      "Error processing prompt '性行为前12小时有吃过避孕药是否有避孕效果': list index (0) out o\n",
      "Error processing prompt '腰疼，前天晚上做爱了一次，今天腰疼就去做个B超，她说没清理干净，我想问如果不清理的话，影响会不会大？还有例假来了快两周有时候和没来一样～但是也来～': list index (0) out o\n",
      "Error processing prompt '梅毒滴度1:128能治好吗': list index (0) out o\n",
      "Error processing prompt '我是六月五号左右结束的月经，六月十号同房内射，事后六小时左右吃了紧急避孕药，然后六月十九号左右出现褐色分泌物，一直持续到六月二十三号左右，然后六月二十三号就开始出现少量血迹，一直到六月二十八号左右出血量达到月经的量，而且持续了有五天可以算是正常月经嘛？一般月经都在三十号左右，后来七月八号去做妇科检查，查了阴道B超也没有发现异常，可以排除怀孕吗？为什么我这个时间有点长？一直从六月十九号到七月二号才完全干净': list index (0) out o\n",
      "Error processing prompt '大便出血之前肛裂好了，可最近又开始了，还喷血，严重了': list index (0) out o\n",
      "Error processing prompt '什么是早期破水，如何判断并应对？': list index (0) out o\n",
      "Error processing prompt '戴套被朋友口·交事后用肥皂消毒面巾纸牙膏清洗会得病吗': list index (0) out o\n",
      "Error processing prompt '结婚2年都没有怀孕，我想请问下不怀孕是什么原因，为什么就不怀孕呢，要怎么办，不怀孕的原因是什么，怎么才能怀孕。': list index (0) out o\n",
      "Error processing prompt '以前经常射精，现在改成每隔一个星期射一次。身体会有什么大碍吗？现在13岁拜托各位好医生？': list index (0) out o\n",
      "Error processing prompt '你好，哺乳期乳房有硬块疼，腋下也有硬块疼。是怎么回事': list index (0) out o\n",
      "Error processing prompt '雌酮是什么？': list index (0) out o\n",
      "Error processing prompt '高危型：HPV18.HPV58.HPV59.为阳性': list index (0) out o\n",
      "Error processing prompt '前庭大腺炎的预防措施有哪些？': list index (0) out o\n",
      "Error processing prompt '我多囊卵巢好久没有来月经了突然自己来了……可都8天怎么还没有结束……': list index (0) out o\n",
      "Error processing prompt '大腿内侧疼痛，影响了我的性功能怎么治疗这是什么情况': list index (0) out o\n",
      "Error processing prompt '今天检查出来HPV39阳性！害怕死了？会不会癌变啊？怎么治疗最佳？': list index (0) out o\n",
      "Error processing prompt '肛裂的症状，无': list index (0) out o\n",
      "Error processing prompt '想问一下乳腺增生吃什么药，有乳腺增生和阴道炎能吃鱼和海鲜吗？': list index (0) out o\n",
      "Error processing prompt '月经都会推迟七八天有时候会更久，末次月经7.20号，七天结束，31号晚和8月1号凌晨同房和前男友体外，六号12/13号是体内和现男友，27号测出怀孕，颜色很深，想知道哪天受孕的，急急急，9.5号做的bc孕囊大小15＊17＊11，没有胎心，20的bc孕囊大小为37＊30＊22，有胎心，胎芽为12mm，我末次月经是7.20号，医生给我推算的末次月经日期是7.31号，我不知道是谁的': list index (0) out o\n",
      "Error processing prompt '无咖啡液体什么意思，我才怀孕昨晚肚子疼得厉害，今天就有东西有点像白带': list index (0) out o\n",
      "Error processing prompt '和男朋友一起两年多了。重来没有怀过孕感觉自己经常会有妇科病。是不是自己怀不上啊': list index (0) out o\n",
      "Error processing prompt '排卵期做爱了然后吃了避孕药，结果那个月来了两次月经，下个月就没有来，会不会是怀孕了': list index (0) out o\n",
      "Error processing prompt '针对以下情况，请提供处理建议：满月宝宝拉粑粑导致屁眼红还疼老哭': list index (0) out o\n",
      "Error processing prompt '细菌性阴道炎是由什么原因引起的，你好，我阴道这几天老出血，而且小腹痛，白带多，检查得了细菌性阴道炎，细菌性阴道炎是由什么原因引起的': list index (0) out o\n",
      "Error processing prompt '问诊：我最近感到性欲减退，有什么中药可以调理吗？': list index (0) out o\n",
      "Error processing prompt '白带像化脓一样怎么回事': list index (0) out o\n",
      "Error processing prompt '我经常手淫，会不会得艾滋病，能不能告诉我一下医生，我现在很害怕，很担心': list index (0) out o\n",
      "Error processing prompt '我是阳痿吗？需要怎么治疗？不去医院可以吗？，本人19有5年的手淫历史，5年来阴茎一直是勃起最长8厘米没勃起是最短3厘米，我该怎么办需要怎样的治疗可以不去医院吗？': list index (0) out o\n",
      "Error processing prompt '哺乳期来月经前后有褐色的东西是怎么回事，身体没有任何不适': list index (0) out o\n",
      "Error processing prompt '女人盆腔炎的治疗': list index (0) out o\n",
      "Error processing prompt '二甲双胍格列本脲片(Ⅰ)禁忌症是什么？什么是二甲双胍格列本脲片(Ⅰ)禁忌症？': list index (0) out o\n",
      "Error processing prompt '我患有痔疮半年多了，从知道自己患上痔疮后，饮食上我就特别注意，但最近不知道是什么原因，大便又开始干了，这次大便后痔疮痛的特别厉害，现在我都不敢坐着，只能趴着感觉才舒服些。': list index (0) out o\n",
      "Error processing prompt '从三号就开始就来月经了，到现在还没有完，这两天的月经好多，我该怎么办': list index (0) out o\n",
      "Error processing prompt '我月经走后两天同房了，可是精子出来很多，我又蹲了很长时间，过了五六天，我感觉恶性有没有可能怀孕': list index (0) out o\n",
      "Error processing prompt '混合痔疮，肛裂手术15天了为么还那么疼？但是疼个两三个小时就疼的轻一点了，请问一下正常吗': list index (0) out o\n",
      "Error processing prompt '不育的病怎样治疗？，离婚已经有两年多了，也没采取任何的措施，可是就是到现在也没怀上宝宝，家里人都非常的着急，毕竟年纪也不小了，去医院做了仔细检查，说是男方有不育症，已经在救治了，快点好下来。不育的病怎样治疗？': list index (0) out o\n",
      "Error processing prompt '龟头炎病因是什么？，龟头很容易被传染，每次传染后都很痛，该怎么办呢？': list index (0) out o\n",
      "Error processing prompt '请给出以下症状的可能原因。一次射了好多精，很多都黄了。': list index (0) out o\n",
      "Error processing prompt '您好！我是一名医学生，在皮肤科实习过程中接触很多尖锐湿疣患者，但是我没有男朋友和性生活，现在在外阴发现一个小疙瘩，针尖大小有点白，但摸上去感觉有绿豆大，有可能被传染了吗': list index (0) out o\n",
      "Error processing prompt '对于以下症状，可能出现什么问题？肛门潮湿难受，和有时放屁': list index (0) out o\n",
      "Error processing prompt '肛门上长了三个东西，不知道是水泡还是包，特别痛，今天抹了熊胆痔疮膏，刚抹很痛有点凉，现在没什么感觉就是痛': list index (0) out o\n",
      "Error processing prompt '乳房疼。白带增多。小腹偶尔疼痛。到经期的时间还没来': list index (0) out o\n",
      "Error processing prompt '女性尿频尿痛的原因有哪些': list index (0) out o\n",
      "Error processing prompt '三月末吃了一颗紧急避孕药，过了几天大概四月三号出血了像大姨妈一样来了五天。我正常应该是每月22号前后几天来大姨妈，然后四月23又来了一次大姨妈，之后白带就几乎没有，内裤上偶尔有些不太好闻的异味，五月正常应该23左右来大姨妈也没来，一直到五月27号才有了点排卵期正常该有的白带迹象，今天也有点白带小腹有些大姨妈来前的酸胀感我这是排卵期才开始还是怀孕了？': list index (0) out o\n",
      "Error processing prompt '男性不育怎么才能改善了？，我以前的时候，再次出现过许多次早泄，后来结婚以后也就没事儿了，可是三年了媳妇一直没怀孕，我们去仔细检查发觉是我得了男性不育，这个可怎么样方才能治好啊。男性不育怎么才能治好了？': list index (0) out o\n",
      "Error processing prompt '在什么情况下容易患上淋病？不过性生活能患上淋病吗？只有有过性生活或是对方有淋病的才能传染吗？': list index (0) out o\n",
      "Error processing prompt '得了老年性阴道炎怎么办，水样白带，色黄，无异味，不疼也不痒。病发时间一年左右。化验、仔细检查结果：霉菌、滴虫（-）白血球+++曾经的治疗情况和效果：口服硝呋太尔，阴道用的是什么凝胶，无明显好转。怎样彻底祛除病患': list index (0) out o\n",
      "Error processing prompt '过度手淫导致智力下降后，可以恢复智力吗？': list index (0) out o\n",
      "Error processing prompt '包皮过长有哪些明显的症状出现？，最近我发现自己得了龟头炎才知晓，自己的包皮过长了，以前也没怎么注意，而且也没什么大的影响，现在发现自己尿完之后，还有点。包皮过长有哪些明显的症状出现？': list index (0) out o\n",
      "Error processing prompt '从发育的时候内裤就是黄黄的，一直都没去医院看，现在得了重度的宫颈糜烂，宫颈肥大，我还没结婚呢，医生我该怎么办': list index (0) out o\n",
      "Error processing prompt '您好我想咨询一下hcg什么时候开始分泌同房后16天如果怀孕了能用试纸检测出来吗': list index (0) out o\n",
      "Error processing prompt '最近白带里面总是含有一些血液的，白带最近变得很不正常了，每次和老公发生关系之后阴道里就会流出血的，我一直担心自己患有阴道癌。': list index (0) out o\n",
      "Error processing prompt '怎样降低龟头敏感点，龟头很敏感应该怎么办': list index (0) out o\n",
      "Error processing prompt '包皮炎会出现什么危害，你好！我发现自己的龟头上有斑块，颜色不太一样，而且龟头边缘还有一圈白色的物质，洗都洗不掉，这种情况是得了龟头炎吗？如果是龟头炎的话请问：包皮炎会出现什么危害': list index (0) out o\n",
      "Error processing prompt '左卵泡和右卵泡的区别是什么，女，32岁，刚刚结婚不久，一直想要进行备孕，卵泡到底会是什么样也不清楚，请问：左卵泡和右卵泡的区别是什么': list index (0) out o\n",
      "Error processing prompt '月经期间可以阴道上药吗？因为难受，在月经期间最后二天上药了，因为这两天没有看到血。今天第三天又来了一点点。请问我该怎么办？': list index (0) out o\n",
      "Error processing prompt '最近发现龟头上有类似水泡但不是水泡……不怎么突起……近一个月了，无明显变化，到医院检查igg26.2……igm0.5……这是性病嘛？传染吗': list index (0) out o\n",
      "Error processing prompt '医生你好，我前两周被一个艾滋患者kj了，冠状沟中途被蹭破了点皮，过了三周后脖子后长了皮疹，涂了酒精后五天好了，大腿也有些皮疹，左手肌肉莫名酸痛无力快三天了，求医生解答我这是艾滋病吗': list index (0) out o\n",
      "Error processing prompt '同房后第二天上厕所尿血，尿频尿急尿不尽，需要吃一些什么药呢，大概多长时间会痊愈？': list index (0) out o\n",
      "Error processing prompt '宫颈糜烂三度，tct轻度炎症，hpv其他12种高危阳性，白带说是两个加，细菌型的。': list index (0) out o\n",
      "Error processing prompt '请求医生解答月经结束后进行性行为的安全性问题。月经结束后第四天和男朋友第一次戴套啪了，半小时后无套啪了几下，会怀孕吗？': list index (0) out o\n",
      "Error processing prompt '月经前几天阴道出血是怎么回事，保持了四个周期正常，后来没吃了就又不正常了.当时是在月经周期第18天已经开始第天晚上服3粒，一天一次.月经前几天阴道出血是怎么回事？': list index (0) out o\n",
      "Error processing prompt '包皮手术的情况。你好医生，我的是包皮手术20多天了。术后恢复还算可以。现在就是有一点肿。不用拆线的那种。问题来了在缝线和龟头中间有的像筋一样的小包。勃起的时候摸那个小筋包特别痛。我有点疑惑是怎么回事呀。现在往上撸撸不上来是不是还肿着呢。': list index (0) out o\n",
      "Error processing prompt '你好，我一般月经都是9天，前面两三天天有点多，最后面的两三天就非常非常少，就想问问，会不会影响以后生孩子？，': list index (0) out o\n",
      "Error processing prompt '唐筛有数据偏高提示什么，本人下体特别痒，而且内衣上总是黄黄的，怎么回事？请问唐筛有数据偏高提示什么': list index (0) out o\n",
      "Error processing prompt '尖锐湿疣的高危因素有些什么？': list index (0) out o\n",
      "Error processing prompt '我是一名患者，我想咨询关于人工流产后出血的问题。我在5月8日下午做了人工流产，当天下午有些流血，鲜红色，但晚上就没有了。请问这是正常现象吗？是否需要就诊？': list index (0) out o\n",
      "Error processing prompt '氨基比林咖啡因片吃多了会血液中毒吗？问题严重吗': list index (0) out o\n",
      "Error processing prompt '阴道炎原因有那些，白带色。有些黄。豆腐渣样的渣。腰有点困越抓越痒。不抓不痒。放霉菌片期间可以做仔细检查吗？霉菌性阴道炎感染的具体原因有那些？': list index (0) out o\n",
      "Error processing prompt '今年5月份下面开始突然痒，去医院做白带常规也没查出来，白带发黄，外阴两边有白色分泌物，开的药吃了减轻但没根治。自己判断应该是霉菌性的，因为是老公的袜子和我的内衣放一起穿了之后马上开始痒得': list index (0) out o\n",
      "Error processing prompt '清宫后半个月同房会不会怀孕能吃紧急避孕药吗': list index (0) out o\n",
      "Error processing prompt '有阴道炎，一直在塞药，最近感觉阴毛痒，早上起来的时候痒，晚上睡觉的时候也痒，白天不痒，': list index (0) out o\n",
      "Error processing prompt '进行了刮宫术而不孕': list index (0) out o\n",
      "Error processing prompt '男女同床感觉头晕腿痛腰痛出血这是什么原因了': list index (0) out o\n",
      "Error processing prompt '如何确定症状是否表示已感染HIV？男同性恋性行为及口交经历。': list index (0) out o\n",
      "Error processing prompt '弱精子症治疗方法': list index (0) out o\n",
      "Error processing prompt '我11月4日来月经，月经在10日结束。11-13日发生性关系，13日吃了一粒避孕药。但是19日有深褐色的押题从私密处流出，一直持续到现在。每天都有，只是量不多，但颜色一直是深褐色。这是怎么回事呢': list index (0) out o\n",
      "Error processing prompt '我昨天房事没带避孕套，26小时内吃了卡瑞丁避孕药，吃完药后两个小时不到又做了一次，药还有用吗？': list index (0) out o\n",
      "Error processing prompt '无排卵性不孕症的症状是什么？什么是无排卵性不孕症的症状？': list index (0) out o\n",
      "Error processing prompt '得了淋病期间来了遗精会怎么样．怎么样才能一次跟治淋病．老是怕以后会复发': list index (0) out o\n",
      "Error processing prompt '白带异常挺久了，白带多，有时候像水一样，很困扰，也不好意思去医院，': list index (0) out o\n",
      "Error processing prompt '5月11号打了排卵针，5月13号小便的时候有点粉色血迹，之后就没了。': list index (0) out o\n",
      "Error processing prompt '宫颈息肉多长时间形成': list index (0) out o\n",
      "Error processing prompt '女性外阴痒刺痛是什么原因': list index (0) out o\n",
      "Error processing prompt '能治疗好吗怎么治疗有用，在线等急需回答，能办健康证吗，肝功能正常，怎么办能治好吗，老公会不会被传染': list index (0) out o\n",
      "Error processing prompt '以下症状可能是什么引起的？两次例假之间隔了两个月，现在又隔了两个月还没来，且有剧烈过度运动的历史。': list index (0) out o\n",
      "Error processing prompt '你好大夫我看见你是中医大夫我检查是霉菌阴道炎吃中药能去跟吗': list index (0) out o\n",
      "Error processing prompt '患有慢性盆腔粘连该如何治疗？': list index (0) out o\n",
      "Error processing prompt '你好，单纯的早泄，其他的都正常，是怎么回事': list index (0) out o\n",
      "Error processing prompt '维D2果糖酸钙注射液的副作用（不良反应）': list index (0) out o\n",
      "Error processing prompt '尿道痒怎样回事，白天小便大致正常，晚上就尿频而且去了厕所又尿不出，总是滴几滴，但是自己又控制不住，请问尿道痒怎样回事': list index (0) out o\n",
      "Error processing prompt '排卵前三天和排卵当日都有同房，那个受孕率高': list index (0) out o\n",
      "Error processing prompt '医生你好：我龟头上有很多白白的点点很多很多，时间很久了，不痒不疼有和没有一个样，我本来以为会自己慢慢的消失，结果没有，现在有点担心估计2.3年了哎，请问这是什么，怎么治愈谢谢！': list index (0) out o\n",
      "Error processing prompt '做爱后，几个小时后可以上厕所，会不会影响怀孕啊？': list index (0) out o\n",
      "Error processing prompt '经期第四天带套做了会不会得病，如果得病有什么症状，正在喝头孢': list index (0) out o\n",
      "Error processing prompt '可能是不卫生，阴茎上长了几个白点（大概龟头下面），不痛不痒，不知道是什么情况，是病还是什么？': list index (0) out o\n",
      "Error processing prompt '有死精后如何缓解，死精子能治好吗哪又该如何去医治呢': list index (0) out o\n",
      "Error processing prompt '请推荐适用于以下症状的药物，以及该药物的服用方法和副作用注意事项。失眠': list index (0) out o\n",
      "Error processing prompt '月经来前的征兆和早孕的征兆，寒冷和紧张会对月经有影响吗': list index (0) out o\n",
      "Error processing prompt '想检查宫颈是否有问题是要有过性生活才可以': list index (0) out o\n",
      "Error processing prompt '月经快来了，和男友开了房，带了套套，有一次没带，但男友没射在里面，月经现在还没来，会怀孕吗': list index (0) out o\n",
      "Error processing prompt '我来月经时喝了酒，月经老是不得干，而且量少是怎么原因': list index (0) out o\n",
      "Error processing prompt '有病自信前列腺怎么处理，本人最近不知道怎么回事下体特别不舒服，而且也不晨勃了，请问有病自信前列腺怎么处理': list index (0) out o\n",
      "Error processing prompt '我做波母光，做完后7天就来月经了，己经15天还没干净，这是什么原因？': list index (0) out o\n",
      "Error processing prompt '我生过两个宝宝了。都是剖腹产的，自从有了宝宝以后每次同房都疼痛难忍，可是又怕老公生气，而且还没什么感觉，反而有点怕同房，同完房就会小腹右侧痛，月经完了几天后就会有分泌物一团一团的，有时是褐色，这次是有点粉色的，有点尿频尿急，痛，就感觉坐着下面也疼，也去医院了，说是没事，': list index (0) out o\n",
      "Error processing prompt '医生，你好，昨晚和老婆做爰，刚好来月经，对男生有害吗？或着对女生有害吗': list index (0) out o\n",
      "Error processing prompt '我发病有好几年了就是容易出汗只要走路稍微干一点点活他就出汗很而且很多像下雨一样腰也痛性生活这方面不行也有脱发脱发睡眠也不好请问用桂附六味地黄丸还是六味地黄丸好好点': list index (0) out o\n",
      "Error processing prompt '请问月经后有褐色分泌物，持续两周左右，不痛不痒无异味。这种情况有三个月了，做了彩超只说附件有炎症，吃了消炎药，来月经后又是这样。这是怎么回事？': list index (0) out o\n",
      "Error processing prompt '我月经23号来的，8号晚上性交没做措施，9号上午空腹吃的避孕药，十点吃的紧急避孕药，一粒装的，到中午12点吃的饭会不会怀孕': list index (0) out o\n",
      "Error processing prompt '9天前药流过，忍不住戴套爱爱，连续三天豆爱爱，会有什么影响吗？，会不会造成再次怀孕': list index (0) out o\n",
      "Error processing prompt '阴部发炎，瘙痒，还有点疼痛，白带变黄，我要怎么办': list index (0) out o\n",
      "Error processing prompt '孕五个月乳头出血。多为夜间出血。有血疤。衣服上也有。大慨半个月。': list index (0) out o\n",
      "Error processing prompt '对于以下情况，怀孕的可能性有多大？月经周期26天': list index (0) out o\n",
      "Error processing prompt '请问现在发现自己来了初潮，而且是晚上，没有卫生巾怎么办？用卫生纸垫的话，要垫一晚上吗？': list index (0) out o\n",
      "Error processing prompt '清洁度三度需要红外线清洗5天吗？会不会阴道里什么性紊乱！什么群菌失调': list index (0) out o\n",
      "Error processing prompt '我患有痔疮，请问使用坐浴可以起到什么治疗作用？使用频率有要求吗？坐浴治疗痔疮': list index (0) out o\n",
      "Error processing prompt '半夜两三点肚子痛死了，是怎么回事啊，小肚子疼。象子宫收缩一样': list index (0) out o\n",
      "Error processing prompt '最近月经不调怎么调理，经常半夜2点左右才可以睡觉，生活不规律，最近快2个月了都没来月经，哪位能告诉我这是不是月经不调啊，要怎么调理才好！请问月经不调怎么调理': list index (0) out o\n",
      "Error processing prompt '前段时间，发现阴部长了几个小疙瘩，一开始没在意，但最近在过性生活时，会很痛。去医院检查了下，医生说是尖锐湿疣。请问医生尖锐湿疣初期是什么样的啊，': list index (0) out o\n",
      "Error processing prompt '宫颈炎康栓的用法用量': list index (0) out o\n",
      "Error processing prompt '问题详细描述：下午和男友同房.大部分都射在外面了。少部分射在体内。事后一个小时吃了一粒装的紧急避孕药.之后一个小时去厕所发现出血了.出血量比较少而且就一次请问我这是避孕成功了吗.而且今天小肚子还咕噜咕噜的.吃东西就会恶心.出血日期接近来例假日期.但是出血量减少.而且就一次.不像是来例假了.请帮忙解答': list index (0) out o\n",
      "Error processing prompt '生完宝宝快四个月了，这两天小腹有点疼，白带也多，应该怎么办？': list index (0) out o\n",
      "Error processing prompt '请问我顺产50天左右同房了，这样会怀孕吗，现在70天去查b超显示子宫内膜增厚。': list index (0) out o\n",
      "Error processing prompt '从月经初潮起就不怎么正常，近三四年越来越不规律，也看了有好几个医院了都没查出具体原因，上次做了个性激素六项检查': list index (0) out o\n",
      "Error processing prompt '上个月24号来的月经3.9号发现白带有血丝呈褐色10号早上发现有血颜色偏暗，好像跟月经有所不同，且一天都有，如厕时好像有微小的血块，这是月经提前了吗？还是别的什么问题，身体没有别的不舒服的征兆。': list index (0) out o\n",
      "Error processing prompt '前列腺和精囊部位有放射状的那种疼痛感，还伴有尿频、尿急、尿痛。有几个月了，时不时发作，这使得原先的尿频更严重了，几乎每个小时左右上一次厕所，晚上起了三四次，本来尿频也罢了，可是现在大腿根部会阴一带老是痛，是一种放射状的痛，很难受。': list index (0) out o\n",
      "Error processing prompt '白带带血怎么回事': list index (0) out o\n",
      "Error processing prompt '结婚三年了一直没有怀孕，怎么回事啊。一直想要宝宝就是怀不了孕': list index (0) out o\n",
      "Error processing prompt '这个月7号来的姨妈18号吃了一次避孕药22号做爱又射里面了24号出血了不知道是姨妈还是回撤性出血会不会怀孕？': list index (0) out o\n",
      "Error processing prompt '我白带来了，乳房发育了一点点，下面有阴毛，但是，仔细看才看的清楚，请问，我都久才来月经？': list index (0) out o\n",
      "Error processing prompt '阴囊位置长出好几个菜花状的肉粒，想请医生帮我看看是怎么回事，严重吗，能不能治好啊，很担心，请帮我看看！': list index (0) out o\n",
      "Error processing prompt '对于以下疾病，应该接种哪种疫苗？流感，水痘，脊灰病': list index (0) out o\n",
      "Error processing prompt '阴道一直出血，排除怀孕月经的可能，没有什么症状感觉可能是什么病情啊？病情两周原本以为是第一次房事导致的，但是流血情况好像越来越厉害了': list index (0) out o\n",
      "Error processing prompt '你好，我想请问一下，过度手淫导致的男性不育怎么根治，手淫有四五年了，现在结婚了，媳妇却怀不上，请问有什么根治男性不育的办法': No candidates return\n",
      "Error processing prompt '正常的精子数量是多少，想知道下精子数量是多少的，为什么会这样的，应该怎么办啊，什么原因引起的，之前没有注意过的，感觉最近两天射出来的精液量很少，我想问下正常的精子数量应该是多少的，我需要去医院做下检查的吗': list index (0) out o\n",
      "Error processing prompt '我最近遇到了一些问题，月经结束第二天又出现褐色分泌物，已经持续了两三个月，请问如何解决？': list index (0) out o\n",
      "Error processing prompt '我今年24岁，没有男朋友，从未有过性生活。阴道炎症，白带量多，有时候有点发黄，比较粘稠，有一点点味道。': list index (0) out o\n",
      "Error processing prompt '我16岁为什么屁股里面长出很多毛我很想去除有什么办法': list index (0) out o\n",
      "Error processing prompt '我想问一下关于前列腺炎的情况，最近经常小便后会有点堵的感觉，然后尿不尽，并且会留出像精子一样的东西，我该怎么办？': list index (0) out o\n",
      "Error processing prompt '医生您好，我大阴唇内侧长了一个像痘痘一样的东西，一坐热的东西就会复发，复发时就会有点刺痛感，坐立不安': list index (0) out o\n",
      "Error processing prompt '20岁至今一直都有白色块状样白带无痒无臭请问是怎么回事': list index (0) out o\n",
      "Error processing prompt '痔疮可以喝绿茶吗？我最近遇到了一件麻烦事，那就是得了痔疮，刚开始只是有点便秘，便秘的情况不严重，我就天天喝蜂蜜水，是有效果的，便秘的情况得到了缓解，但是后来吃了点辣椒，便秘就发展为痔疮了，肛门还有点肿痛。痔疮患者能喝茶吗？': list index (0) out o\n",
      "Error processing prompt '我左侧睾丸积液十几年了。原先不感觉怎么大。现在这一两年越来越大，已经超过右侧的五六倍大了。而最近常常尿血。是不是前列腺也有问题了': list index (0) out o\n",
      "Error processing prompt '我最近进行了包皮包茎手术，术后三天，阴茎出现了肿胀，龟头结痂有脓，我想了解下目前术后恢复情况，是严重了还是属于正常情况以及日前如何护理，如何用药。恢复期大概多久？': list index (0) out o\n",
      "Error processing prompt '我的包皮外面长个包都有一个月了可是还不好，好痒，有时感觉消了点有时有长大了点，去了好几家医院看了，医生又说没事，可是就是不好': list index (0) out o\n",
      "Error processing prompt '我早泄已有四五年了，做不到一分钟就射，经中医看为肾阳虚，吃一个多月药也不见好转特咨询': list index (0) out o\n",
      "Error processing prompt '月经后第八天左右，内裤出现一摊褐红色的东西，没什么腥味，有点稠的一小团，怀疑排卵期出血。这两三年一共三次这样，不是连续的。很久没有这样了。': list index (0) out o\n",
      "Error processing prompt '你好，医生请问正常人吃伟哥会不会有什么副作用，我老公一时兴起说买试试，能吃吗会不会怎样': list index (0) out o\n",
      "Error processing prompt '1/2-1/8月經結束，月經週期為33天，1/7以為月經乾淨了，所以有進行性行為，無戴套體外射精，1/12-1/13左右發現蛋清分泌物，1/14-1/15有排卵期出血的狀況，請問容易懷孕嗎': list index (0) out o\n",
      "Error processing prompt '我前一段时间一直感觉自己全身发热，头也很疼，身体乏力，上厕所时排尿也感到困难，白带也增多了，去医院检查说是生殖器疱疹。': list index (0) out o\n",
      "Error processing prompt '你好，我阴唇有点刺痛，不摸不会疼。不会痒，也没红肿。这是为什么？': list index (0) out o\n",
      "Error processing prompt '前两个月用了宫糜的药包括冲洗剂消糜栓和康妇炎胶囊用完药后有同房预计来月经的时间是上个月28号可是到现在也没来想咨询一下医生我这是什么情况': list index (0) out o\n",
      "Error processing prompt '请问以下症状该如何治疗？尿道炎，使用盐酸左氧氟沙星胶': list index (0) out o\n",
      "Error processing prompt '我们结婚一年了从来都没有采取避孕重要的是跟我以前的女朋友感觉不一样阴道里面好像少了一个东西里面没有一个圆疙瘩但是婚检说一切正常': list index (0) out o\n",
      "Error processing prompt '月经来了7天了，还有很多鲜红的血，怎么办': list index (0) out o\n",
      "Error processing prompt '外阴炎应该如何治疗好，你好，我这几天外阴很痒，白带多，检查得了外阴炎这种病，外阴炎应该如何治疗好': list index (0) out o\n",
      "Error processing prompt '前列腺痛，有几个月了，时不时发作，这使得原先的尿频更严重了，几乎每个小时左右上一次厕所，晚上起了三四次，本来尿频也罢了，可是现在大腿根部会阴一带老是痛，是一种放射状的痛，很难受。': list index (0) out o\n",
      "Error processing prompt '月经来了半个越来还没有干净，去医院做了阴超，说内膜7MM，开了药吃也不见干净，这种情况能治疗好吗？': list index (0) out o\n",
      "Error processing prompt '我去检查梅毒滴度是1:32，这样算严重吗，有没有的救啊！。医生治疗我的方法是注射三次青霉素？是这样治疗吗？能康复吗？': list index (0) out o\n",
      "Error processing prompt '晚上出现遗精滑精什么样原因像水一样，白色的？不知不觉流出来了': list index (0) out o\n",
      "Error processing prompt '一个月前有过不良性交第2天出现龟头灼热和总有尿感去医院化验医生开的金畀通淋颗粒和盐酸芦氟沙星片吃了7天用药第2天症状消失了一个礼拜前做了尿检血检和分泌物医生说都正常': list index (0) out o\n",
      "Error processing prompt '月经第四天，经量很少了，和男友带套同房了，之后月经又有了，很怕，有什么后果': list index (0) out o\n",
      "Error processing prompt '上个月月经是28号2号走的今天做了射了进去会不会怀孕': list index (0) out o\n",
      "Error processing prompt '前阵子得过淋病（差不多一个月）然后现在龟头一直有点红肿流出少量透明液体怎么回事阿': list index (0) out o\n",
      "Error processing prompt '月经过了五天，测Hcg值48，但感觉胸胀': list index (0) out o\n",
      "Error processing prompt '成人阳痿原因有哪些？，同事初中的时候就有性交的情那个时候就是经常的看黄所以就会有罪恶感的感慢慢的就性交刚刚开始的时候性交就频现在就是想戒感觉是有点早泄。在乎怎样的帮助：早泄原因有哪些？': list index (0) out o\n",
      "Error processing prompt '前列腺炎对性功能有什么影响吗？，我老公现在是前列腺炎，不知晓得了这样的病，我老公可不可以和我做爱吗？对我们的性生活有什么影响吗？前列腺炎对性功能有什么影响吗？期望你可以给我个答案。': list index (0) out o\n",
      "Error processing prompt '外痔跟内痔哪个严重': list index (0) out o\n",
      "Error processing prompt '有哪些性生活习惯是会导致盆腔炎的？长期在湖水里游泳后出现盆腔炎的女性': list index (0) out o\n",
      "Error processing prompt '如何诊治霉菌性阴道炎，了': list index (0) out o\n",
      "Error processing prompt '今天去医院做了彩超，包括肝胆肾前列腺，医生给我写了双肾各有一个结石，一个0.4*0.3一个0.3*0.5，其他都没有，可是我经常觉得腰椎和腰椎俩边疼还有左腰边缘那里，自慰的时候也觉得有早泄的样子，前俩年蛋蛋被球打到疼了很久去做彩超也说我屁事没有，是不是前列腺炎，肾虚啥的彩超看不出来啊，': list index (0) out o\n",
      "Error processing prompt '硝化纤维是什么？': list index (0) out o\n",
      "Error processing prompt '您好！我是10月18日来的月经，四天结束！然后和老公一直在备孕中，未采取任何避孕措施，但在11月4日与前男友发生一次关系，采取体外排精方式，但现在彩超显示已怀孕，请问能确定是哪天怀上的吗？谢谢！': list index (0) out o\n",
      "Error processing prompt '我患尿路感染10多年了，一直这样反复发作，尿频、疼痛、还有血尿，总是有想上厕所的感觉，很苦恼，特别是冬天更是容易复发，每次去医院医生给开了些抗生素和三金片之内的药，服药几天症状就消失了，可过不了多久就又复发了慢性尿路感染': list index (0) out o\n",
      "Error processing prompt '最近这半年来，每次同房的时候，都感觉很痛，有时候还带有献血，血量不多，腰酸背痛的，手脚冰凉怕冷的很，平时月经不调，白带很多，异味大，下腹部疼痛，去医院检查，确诊是宫颈息肉。': list index (0) out o\n",
      "Error processing prompt '去专业医院做的前列腺液检查，能给看一下严重吗，当时跟我说挺严重的。需要注意什么呢今后': list index (0) out o\n",
      "Error processing prompt '我有妇科炎症应该很长时间了，症状就是外阴瘙痒，经常用手挠，主要在晚上痒，除此之外没有其他症状，跟老公同房，老公也没说有什么不舒服，现在怀孕两个月，生怕对日后胎儿有什么影响？医生能告诉我我这个妇科炎症该怎么办？不治疗对胎儿有影响吗？': list index (0) out o\n",
      "Error processing prompt '肛廔最好不要吃哪些食物？': list index (0) out o\n",
      "Error processing prompt '龟头炎用什么药膏比较好，有时比较痒，现在不痒了总觉得还有一点不对': list index (0) out o\n",
      "Error processing prompt '今天下午小肚子疼，上厕所去了，发现白带成褐色，以前没有过': list index (0) out o\n",
      "Error processing prompt '前两天面试一家新公司，过了之后去做入职体检，因为是年末就顺便把身体检查也一起做了，检查报告显示我有解脲支原体感染，因为还没结婚所以还是有些担心的，请问女性解脲支原体能治疗好吗？': list index (0) out o\n",
      "Error processing prompt '月经期几天能验孕，本人下体特别痒，而且内衣上总是黄黄的，怎么回事？请问月经期几天能验孕': list index (0) out o\n",
      "Error processing prompt '男朋友说射在了阴道口，但我还是很担心，会不会怀孕。做完以后也没有做什么措施，也没有用水冲洗，会不会怀孕啊？': list index (0) out o\n",
      "Error processing prompt '前天，喝了红糖鸡蛋汤，乳头涨痛，是什么原因呢？': list index (0) out o\n",
      "Error processing prompt '我有阳痿这个疾病，想得到有效的治疗方法，可以帮我吗？': list index (0) out o\n",
      "Error processing prompt '您好，房事以后胸疼，之前没有这种情况，近期出现的，而且是不碰不疼，一碰就疼，您看这是怎么回事': list index (0) out o\n",
      "Error processing prompt '阴道口微痒，摸起来不光滑，今早开始的，无性生活，希望解释一下。谢谢！': list index (0) out o\n",
      "Error processing prompt '请问服用以下药物是否会对泌尿生殖系统造成危害？盐酸齐拉西酮片治疗精神分裂症。': list index (0) out o\n",
      "Error processing prompt 'hPV18和39感染阳性，有慢性宫颈炎。': list index (0) out o\n",
      "Error processing prompt '您好，上一次去医院检查得知支原体感染，现在已经吃了十二天的药了，可这两天和男朋友同房了，影响大吗': list index (0) out o\n",
      "Error processing prompt '平时都没什么特别的症状，只是白带多了点，有点红肿，就去做了个检查，说是衣原体感染，衣原体感染除了这些还有别的症状吗': list index (0) out o\n",
      "Error processing prompt '梅毒那什么治疗，吃什么药来呢才可以治疗好': list index (0) out o\n",
      "Error processing prompt '你好，我上环老是月经时间长，一来就是8天，那是咋回事': list index (0) out o\n",
      "Error processing prompt '因有高血压，自己采的罗布麻花，晒干后，用罗布麻花泡水喝，一星期后，下巴长了好多疙瘩，是中毒反应吗？': list index (0) out o\n",
      "Error processing prompt '阳痿治疗多少钱够，我老公早泄，很郁闷，不知晓怎么办，一次两次无所谓但是时间长了不是办法，很影响我们夫妻间的感情的我该怎么办啊需要有治疗能花多少钱啊': list index (0) out o\n",
      "Error processing prompt '一周前去医院做了B超正常，昨天去医院听胎心也正常，但连续有五天有褐色分泌物，一天比一天多一点。医院的医生说不是血。请问那是什么，会有什么后果啊？': list index (0) out o\n",
      "Error processing prompt '打飞对皮肤有影响吗，对脸有有影响吗，有的时候回有黄色小块': list index (0) out o\n",
      "Error processing prompt '有什么办法治疗阴道炎呢？可以选择口服或局部药物，但是在选择时应该结合医生的诊断和个人情况选择合适的药物。': list index (0) out o\n",
      "Error processing prompt '前列腺囊肿会有什么症状出现？，男人有前列腺囊肿在老婆面前都抬不起手来，因为这个病让我非常的痛苦，我也找了一些的治疗方法，但是好象都没什么效果，所以就想起大医院去看一看。': list index (0) out o\n",
      "Error processing prompt '月经是咖啡色的怎么回事': list index (0) out o\n",
      "Error processing prompt '末次月经2月6号，19号21号同房了，体外射精，26号做的试管移植，现在怀孕了，有没有可能体外射精怀孕的，可能性多大': list index (0) out o\n",
      "Error processing prompt '男人少精弱精是怎么回事，什么原因引起的，跟工作有关系吗，我是个厨师，这个有影响吗。能治疗好吗。': list index (0) out o\n",
      "Error processing prompt '阿托品中毒的临床表现有些什么？': list index (0) out o\n",
      "Error processing prompt '宫颈炎康栓的用法用量': list index (0) out o\n",
      "Error processing prompt '每次性生活都会出血，之后就会没有了，和之前吃过避孕药有关系吗？': list index (0) out o\n",
      "Error processing prompt '子宫内膜异位囊肿的危害我前段时间做B超检查的时候发现自己得了子宫内膜异位囊肿医生告诉我会导致我不孕这个病对我的身体还有什么危害吗？': list index (0) out o\n",
      "Error processing prompt '最近龟头有一点点痒，有包皮，弄下来以后龟头底部有点烫和红，但是和平常的状态差不多，也没红斑红肿水中之类的的征兆，之前是一个星期没手淫，需要去医院就医吗。': list index (0) out o\n",
      "Error processing prompt '什么因素引起前列腺炎会如何处置好点呢，真的非常苦恼，我早前被诊断出前列腺炎，现在就是尿急尿痛尿不尽，而且偶尔还会尿分叉，性生活方面也开始出现问题了，我还很年轻，真的感到非常的无助，请问：什么因素引起前列腺炎会如何处置好点呢': list index (0) out o\n",
      "Error processing prompt '周六下午同房周日晚上发现有血陈旧性的咖啡色一天比一天少但是周二晚上发现有鲜血不痛去年八月份自然流产完全九月份有过子宫内膜息肉已痊愈宫颈糜烂三度想问下可能是什么原因导致这次出血': list index (0) out o\n",
      "Error processing prompt '引发前列腺痛的生物因素有啥，有哪些生物因素会引发前列腺痛？': list index (0) out o\n",
      "Error processing prompt '月经来了半个月还没完，月经期间喝着点酒，前面来时候很少，后面来的也算正常，就是有点黑暗': list index (0) out o\n",
      "Error processing prompt '性功能障碍的治疗方法有哪些呢？，这段时间我和老婆同房的时候总是一二分钟就射精，自己感觉很自卑，老婆也不满意，后来去医院做仔细检查，医生说是性功能障碍，我想问下性功能障碍的治疗方法有哪些呢》': list index (0) out o\n",
      "Error processing prompt '什么原因会得盆腔癌，患者45岁，最近查出得了盆腔癌，感觉身体非常的难受，在生活中也有着很好的生活习惯，不知道怎么得了这种疾病，请问什么原因会得盆腔癌？': list index (0) out o\n",
      "Error processing prompt '前列腺增生的最佳治疗方案是什么，全部症状尿频尿急尿血，下腹痛有一年多了，但是没吃药治疗，最近严重': list index (0) out o\n",
      "Error processing prompt '小腹胀痛，腰部酸痛，吃前列欣胶囊，2014.11.05。突发小腹胀痛、尿道口灼烧，睾丸胀痛，腰部酸痛。在滕州市人民医院泌尿外科就诊，做的彩超和尿常规。。大夫说没事，开了一点药，好转2天，最近几天又胀痛厉害。': list index (0) out o\n",
      "Error processing prompt '一直都没有性高潮，在医院检查身体方面没有不健康': list index (0) out o\n",
      "Error processing prompt '经期推迟了二十多天，B超检查子宫内膜7.5mm，以前月经都正常': list index (0) out o\n",
      "Error processing prompt '来月经第四天吃云南白药胶囊或者黄体酮能提前结束吗': list index (0) out o\n",
      "Error processing prompt '姨妈来了好久，我16岁，作息饮食不好，应该是这样引起的。想知道有什么止血的办法，好怕一直出血会的什么病，来了差不多一个月了': list index (0) out o\n",
      "Error processing prompt '男士少精症要注意什么': list index (0) out o\n",
      "Error processing prompt '去检查的时候说我是盆腔炎，我平时感觉还好的啊，为什么会患盆腔炎啊，是还有什么我没有注意的地方吗': list index (0) out o\n",
      "Error processing prompt '手淫过度阳痿早泄怎么办，性交太多，有十多年了一天好几次，现在不硬了，伴发尿不尽': list index (0) out o\n",
      "Error processing prompt '做完人流多长时间能恢复？多久能养好？多久能出力干活？': list index (0) out o\n",
      "Error processing prompt '我不久前才刚刚做的药流，不小心怀孕了又不想生下了，所以就治好流掉了。但是药流之后下身就一直在流血，小腹有轻微的疼痛，我很害怕就去医院看了医生，医生说药流没干净，要做一个清宫术。': list index (0) out o\n",
      "Error processing prompt '最近几天我感觉我的生殖器那边长了一些红色疹子，会有瘙痒的感觉，那天有摩擦到会有出血，而且有股很臭的味道，去检查，确诊是尖锐湿疣。': list index (0) out o\n",
      "Error processing prompt '我想生个男宝宝，怎么做才可以机会更大，用苏打水冲洗可以吗？': list index (0) out o\n",
      "Error processing prompt '上次月经是5月21日开始，26号结束，然后6月1号又开始，到现在都没停，量多，有血块，腹痛，去了很多医院做b超都没问题，前几天还打了一针缩宫素也不见效果，喝了很多止血药和消炎药也不管用，医生说有可能是内分泌失调，也有可能是盆腔炎，现在很苦恼，总乱想，会不会宫颈有问题啊': list index (0) out o\n",
      "Error processing prompt '外阴道里面很痒，有好几天了，怎么办，是妇科病吗': list index (0) out o\n",
      "Error processing prompt '子宫外孕有什么症状，对身体有什么影响': list index (0) out o\n",
      "Error processing prompt '求治包皮过长的治疗方法及预防措施？，病情描述：求治包皮过长的治疗方法及预防措施？曾经治疗情况和效果：求治包皮过长的治疗方法及预防措施？想得到怎样的帮助：求治包皮过长的治疗方法及预防措施？': list index (0) out o\n",
      "Error processing prompt '哺乳期患上真菌阴道炎，宝宝六个月。在医院进行冲洗五天期间用碳酸氢钠注射液清洗外阴，治疗结束后开有妇阴洁洗液和阿希米感觉效果不明显外阴还是瘙痒，真菌阴道炎可以根治么': list index (0) out o\n",
      "Error processing prompt '有痔疮是外漏用药膏和栓都不见好是咋么回事？': list index (0) out o\n",
      "Error processing prompt '去做婚检发现的有个十公分囊肿，然后去医院做了个微创的手术，医生给我检查出来是在左边，后来做手术在右边，以后会影响怀孕吗，我一个月之后同房了，有没有影响': list index (0) out o\n",
      "Error processing prompt '月经前十多天点滴出血黑褐色，八年未孕，试管取三次，移植五次未成功。': list index (0) out o\n",
      "Error processing prompt '附睾炎两年经常复发有硬结与附睾相连并伴有鞘膜积液': list index (0) out o\n",
      "Error processing prompt '包皮过长的判断标准': list index (0) out o\n",
      "Error processing prompt '防己化学成分': list index (0) out o\n",
      "Error processing prompt '怀孕大便出血有点点不多。宝宝会有影响吗？？会流产吗？': list index (0) out o\n",
      "Error processing prompt '我接触过男性，但是只有第一次，算不算处女': list index (0) out o\n",
      "Error processing prompt '因为痛经，所以月经期间用过鹿胎膏，结果量变少了，这是怎么回事': list index (0) out o\n",
      "Error processing prompt '什么叫急性单纯性淋病': list index (0) out o\n",
      "Error processing prompt '请问生殖器短小目前可以通过哪些途径治疗？，请问生殖器短小目前可以通过哪些途径治疗？': list index (0) out o\n",
      "Error processing prompt '小肚子引起睾丸疼，请问这是怎么回事儿呢，想咨询': list index (0) out o\n",
      "Error processing prompt '请分析毒性药物广木香的药性、功效及应用注意事项。': list index (0) out o\n",
      "Error processing prompt '蛋下垂怎么办？，病情描述：蛋下垂怎么办？严重吗 谢曾经治疗情况和效果：没有过对此治疗 谢谢想得到怎样的帮助：希望不用去医院检查': list index (0) out o\n",
      "Error processing prompt '我每次性生活时间很短，一会就要射精什么原因？': list index (0) out o\n",
      "Error processing prompt '大便形状正常，软，半年前做过痔疮手术，最近老是觉得身体有问题，做了大便检查，查血，做b超检查，都是正常的，今天早上起来，大便，手纸上有一条血丝，大便后肛门有微痛感，几分钟以后就不痛了，这是什么原因呀': list index (0) out o\n",
      "Error processing prompt '月经期间能吃益母草吗？月经量少，肚子也疼，益母草可以吃吗？': list index (0) out o\n",
      "Error processing prompt '47岁这个月身上月经淋漓不尽，去医院检查阴超，有子宫肌瘤，盆腔积液，医生说不要紧，就配了坤泰胶囊，女金片服用。又建议我做阴道镜活检，报告等一个星期去医院拿，目前身上还是淋漓不尽十几天了。': list index (0) out o\n",
      "Error processing prompt '前列腺炎导致阳痿，该怎么治疗能好，阳痿，勃起困难，有晨勃': list index (0) out o\n",
      "Error processing prompt 'hpv病毒怎么预防不要传染家人': list index (0) out o\n",
      "Error processing prompt '为什么性交后男性射精出现红东西，问题描述：结过婚': list index (0) out o\n",
      "Error processing prompt '肛周尖锐湿疣感染有段时间了，从几个月之前开始肛周就长出那种红疹疙瘩，然后我就去做了检查说是湿疣，就做了手术，但是现在又长了，不知道咋办了！': list index (0) out o\n",
      "Error processing prompt '人乳头瘤病毒hpv阴性正常吗能同房吗': list index (0) out o\n",
      "Error processing prompt '撒尿的时候有一点痛，是怎么回事？有时候痛，有时候不痛……': list index (0) out o\n",
      "Error processing prompt '我抛孩子三个月了，同房后流血，不畏母乳，怀孕后期心衰，是不是吃心脏药有关': list index (0) out o\n",
      "Error processing prompt '五月二十号吃过一次避孕药昨天又没做安全措施射在里面了怎么办': list index (0) out o\n",
      "Error processing prompt '我想知道怎么样护理不孕症，女性不孕症要怎么正确护理呢你好，我是一位不孕症患者，想理解下，对不孕症有没什么好的护理方法呢？女性不孕症要怎么正确护理呢': list index (0) out o\n",
      "Error processing prompt '宫颈炎影响怀孕么': list index (0) out o\n",
      "Error processing prompt '男性霉菌尿道炎怎么治疗': list index (0) out o\n",
      "Error processing prompt '每个月的月经期28天左右，上个月25号月经来完，请问这个月的排卵期是哪一天？': list index (0) out o\n",
      "Error processing prompt '上周的时候大便完了擦屁股就发现了有几个肉粒，我有点担心，不知道是性病不是，边去检查，就说是湿疣感染，那能治好吗': list index (0) out o\n",
      "Error processing prompt '霉菌性阴道炎用了六粒达克宁栓之后，一开始没流黄水，今天是用药的第四天了开始流黄水，这个正常吗是好转得迹象吗，还需要继续用药吗': list index (0) out o\n",
      "Error processing prompt '我最近几天阴毛旁边感到疼痛，不知道是什么原因，需要去医院检查吗？': list index (0) out o\n",
      "Error processing prompt '有哪些适合妇女孕期使用的痔疮药物？孕妇肛门不适': list index (0) out o\n",
      "Error processing prompt '美柚上显示排卵日为17号，前5后4为排卵期，但17号才开始白带拉丝，而且还拉丝了5天，可14号有肚子痛，所以我搞不清到底大概什么时候排卵，是不是排卵日推迟了？我记得前两个月都是月经提前1，2天的啊，我觉得我的经期还是蛮准的，都是提前或推迟不超过3天的，16号晚上和21号晚上都有带套爱爱，次日早上都有检查，都没破，但我还是很担心': list index (0) out o\n",
      "Error processing prompt '无痛人流后画线区域有时候会痛是什么原因？人流手术中由于宫颈糜烂还做了宫颈包膜！一周后去B超复查说没什么问题！现在一个月多一点？还需要做什么？': list index (0) out o\n",
      "Error processing prompt '月经第一天没注意，同房，他戴套了，起床才发现来月经了，后出现血块和白带，腰酸痛，头晕手脚无力，月经结束头晕手脚无力心慌！1像我这种情况会导致不孕吗？白带正常2，经期过后，头晕手脚无力心慌，感觉随时会晕倒？': list index (0) out o\n",
      "Error processing prompt '老公被毒蛇咬到脚板，就脚板有点肿，治疗第二天，同房腰疼，是不是精液有毒': list index (0) out o\n",
      "Error processing prompt '你好请问一下就是月经刚来完以后就同房了然后流血了是怎么回事床单上还有点血丝': list index (0) out o\n",
      "Error processing prompt '什么原因会导致不孕，是怎么回事的，也不知道是什么原因的，想要怀孕的，没有避孕过的，可是都不会怀孕的，想知道下什么原因引起不孕的，要怎么办啊，可以治疗好的吗，还能怀孕的吗，怎么办啊。': list index (0) out o\n",
      "Error processing prompt '前列腺炎应该怎么保养，现在和老公在备孕阶段、医生让他做好前列腺的保护、不然得了前列腺炎就麻烦请问前列腺炎应该怎么保养？:': list index (0) out o\n",
      "Error processing prompt '应不想发生怀孕现象。想问下你有什么方法介绍给我的': list index (0) out o\n",
      "Error processing prompt '初中时就开始手淫。现在下面的小鸡鸡很小对以后的生活有没有问题？': list index (0) out o\n",
      "Error processing prompt '我下体有阴虱，比较痒，不知怎么办？': list index (0) out o\n",
      "Error processing prompt '我结婚4年了一直想要个孩子妻子好不容易答应啦可是我发现我的精液量太稀': list index (0) out o\n",
      "Error processing prompt '高催泌乳素血症。HuatuoGPT医生，是这样的，我患有精神疾病，长年吃利培酮，我看说明书说这个药容易导致高催乳素血症。我现在20天来一次月经，月经量正常，使劲按压胸部会有少量乳汁。其他就没什么了。': list index (0) out o\n",
      "Error processing prompt '孕35周了大便后突然发现肛门处多了个小肉球轻微疼痛请问这能自己下去吗？会影响顺产吗？': No candidates return\n",
      "Error processing prompt '盐酸克林霉素棕榈酸酯颗粒剂的副作用（不良反应）': list index (0) out o\n",
      "Error processing prompt '急性阴炎症是什么症状': list index (0) out o\n",
      "Error processing prompt '大腿内侧小红点痒晚上一脱裤子也痒，有时候痒起来半夜睡不着痒的。': list index (0) out o\n",
      "Error processing prompt '性行为对身体有什么危害？如何防止性疾病？我有性生活，我想知道保护自己的方法以及未保护性行为带来的危险。': list index (0) out o\n",
      "Error processing prompt '请描述以下病症的症状。尖锐湿疣': list index (0) out o\n",
      "Error processing prompt '这几天我一直都在家里面休息，我发现我的身上除了一个痘痘，所以我就去医生那想要把痘痘给祛除了。但是医生说我这是得了尖锐湿疣，需要做手术，所以我就做了激光手术，手术之后他还告诉我让我回去之后多吃些东西调理一下，会好的很快。': list index (0) out o\n",
      "Error processing prompt '治疗附睾炎需要多长时间，得了附睾炎一年多了，去过医院很许多次，医生也给开了不少西药，吃完都没很好的效果，后来网上找了一种中药利尿消炎丸，服食了快一个月，睾丸下面没之前那么痛了，想问下吃多长时间能彻底治好啊': list index (0) out o\n",
      "Error processing prompt '你好老前辈，我今年21岁，手淫5年头发掉得差不多了，阳痿早泄两年了，能治吗': list index (0) out o\n",
      "Error processing prompt '这几天白带突然增多是什么原因': list index (0) out o\n",
      "Error processing prompt '我的体检结果显示脲脲原体呈阳性，想问一下需要吃什么治疗脲脲原体的药物，还有其他建议吗？': list index (0) out o\n",
      "Error processing prompt '怎么预防月经量太多？': list index (0) out o\n",
      "Error processing prompt '附件炎会不会很严重呢？需要怎么预防呢？？？、': list index (0) out o\n",
      "Error processing prompt '尿路感染反复发作的原因': list index (0) out o\n",
      "Error processing prompt '精液不液化治疗哪里好，精液不液化救治痛不痛精液不液化救治痛不痛呢，是什么原因致使的呢？觉得私处很不舒服，那种感觉也无法形容，影响工作和生活非常烦': list index (0) out o\n",
      "Error processing prompt '我月经刚走10天又来了量不是很多我之前吃过避孕药请问是这个药物引起的月经不调呢？要紧吗？那么我下次月经是按这次的来算呢还是上一次的算呢？还有就是月经走后的一个礼拜同房不采取措施会怀孕吗？': list index (0) out o\n",
      "Error processing prompt '您好，我现来月经有很多血块请问是怎么回事？': list index (0) out o\n",
      "Error processing prompt '房事时体内射精吃了紧急避孕药，距离上次月经不到一个月就来了，平时都是50多天来一次。下次来月经是30天还是50天呢？': list index (0) out o\n",
      "Error processing prompt '宫颈糜烂处长出个肉条？是那一方面引起的怎么回事？月经不调': list index (0) out o\n",
      "Error processing prompt '以下是某患者的性病症状，请推荐合适的医疗建议。女性有病臭和胯下出血的症状': list index (0) out o\n",
      "Error processing prompt '小阴唇比较大可以做手术吗就切除一类的': list index (0) out o\n",
      "Error processing prompt '我三月九号来的月经，三月二十二吃了左氧沙星对胎儿有影响吗，求解答': list index (0) out o\n",
      "Error processing prompt '我生完等二个宝宝后肛门就有东西总掉下来，不是痔疮，好像是直肠脱落，但能拖回去，已经有两年时间长了，没去看过，可最近这几天一拉肚子肛门就痛得难受，热热的像上火一样，请问这有什么治疗的办法吗？': list index (0) out o\n",
      "Error processing prompt '我是二月十五坐的人流之后三月四月月经都是二十号来的月经量也正常五一服用了避孕药结果二十号月经来量非常少而且颜色是褐色是怎么回事': list index (0) out o\n",
      "Error processing prompt '白带近期呈豆腐渣样，带股腥臭味，给我的生活和工作带来了影响，去医院检查得知患了盆腔炎，盆腔炎会传染吗？': list index (0) out o\n",
      "Error processing prompt '长期手淫几年现在导致生殖器官缩小，阴茎比以前缩小了这是什么原因？？': list index (0) out o\n",
      "Error processing prompt '昨天蹲着洗了个头之后，洗澡发现肛门处有一个东西凸起，软软的，我感觉可能是蹲着用力过多导致的，但是我查了一下显示可能是痔疮，去年发生过一次同样的事情，所以我想咨询一下您': list index (0) out o\n",
      "Error processing prompt '九个月婴儿肛裂怎么办': No candidates return\n",
      "Error processing prompt '取白带做过宫颈癌筛查，没有问题。就是医生说宫颈有点轻度宫颈糜烂，平时没有什么特别不舒服的症状，同房也没有出血或者不舒服之类的。用了一盒保妇康栓8粒装，搭配吃抗宫炎片，停药多久可以同房？什么时候去复查比较好？': list index (0) out o\n",
      "Error processing prompt '8号药流24号刮宫什么时候是排卵期同房会不会怀孕……………………': list index (0) out o\n",
      "Error processing prompt '治疗宫颈糜烂价格，有个好朋友说她最近白带增多了，还再次出现了痛经，有时候除了尿急的症状，您好是什么情况啊？': list index (0) out o\n",
      "Error processing prompt '哺乳期前几天痔疮犯了，昨天上厕所坐了一个小时，费了好大力总算解决了，擦屁屁手纸上好多血啊，再一看马桶里都是血，以为是大姨妈来了，再看不是的是从屁眼里流的血，怎么办啊': list index (0) out o\n",
      "Error processing prompt '无病史？，打算要宝宝，大夫检查后说有点阴道炎及囊肿，开了胜红清热片和妇炎平栓，和宁泌泰胶囊': list index (0) out o\n",
      "Error processing prompt '性功能障碍身体诸多不适怎么办？，去医院检查性功能障碍，我想知道性功能障碍身体诸多不适怎么办？': list index (0) out o\n",
      "Error processing prompt '出生八天的女婴阴部有血怎么回事.是双胞胎老大也是女孩.老大没有出血': list index (0) out o\n",
      "Error processing prompt '我最近出现了勃起硬度不够而且很快软了的情况，射的也很快，同时脚还很凉，有时候尿尿次数也比较多，请问这是什么原因？会不会是阳痿，吃药能治好吗？': list index (0) out o\n",
      "Error processing prompt '甘油氯化钠注射液药物相作用': list index (0) out o\n",
      "Error processing prompt '阴茎皮上长了个小颗粒怎么回事': list index (0) out o\n",
      "Error processing prompt '萘丁美酮颗粒剂药理作用': list index (0) out o\n",
      "Error processing prompt '治弱精症怎么治疗，您好医生，我想咨询治弱精症应该用什么方法？去年去检查只是精子密度小，前几天去查是弱精症，现在很想要小孩，医生说现在这情况根本不可能，我该怎样保养？想要治好弱精症应该怎么治？': list index (0) out o\n",
      "Error processing prompt '月经推迟15天白带有点像黑色，下面还有点痒，以前月经是提前一个星期就来了的，怎么回事哦，': list index (0) out o\n",
      "Error processing prompt '不是专要避孕效果，想调整例假，可是写副作用是会引起不孕不育？还有皮肤粗糙什么的': list index (0) out o\n",
      "Error processing prompt '肛周毛发特别浓密，好像得了毛囊炎，起初想着自愈没见好，然后高锰酸钾坐浴，配合红霉素软膏，好了，但是没几天复发了，现在口服头孢克月亏胶囊和涂抹氧氟沙星凝胶，但是位置紧挨这肛门，收缩肛门就会让结痂的伤口脱痂感觉好不了，咋么办': list index (0) out o\n",
      "Error processing prompt '坐下来时私处疼痛一直想上厕所我没有性生活是不是内裤原因': list index (0) out o\n",
      "Error processing prompt '怀孕24周了，突然不知道是不是便秘的原因从内痔变外痔了，疼的走路都感觉费力气，孕妇得了痔疮用什么药，医生帮帮忙？可以用孕植清痔疮洗液洗一下再用孕妇痔疮膏可以用吗？': list index (0) out o\n",
      "Error processing prompt '月经来完后的第六七天阴道出血怎么回事？，我的月经一直很正常，但是最近两三个月总是在月经来完后的第六七天时，又有少量的血流出，就象月经快完时，最后一天的样子，请问是怎么回事，请回答，谢谢': list index (0) out o\n",
      "Error processing prompt '月经后两三天有黄色水样液体怎么回事？，患者年龄：３３详细病情及咨询目的：经检查阴道畅，宫颈光，左附件压痛病史：曾有药流及人流史以往的诊断和治疗经过及效果：因经期头痛曾中医治疗，无效目前一般情况：经期头痛，夜间多汗，月经后２、３天内有黄水样液体流出第一次问题补充：能否推荐一下治疗药物': list index (0) out o\n",
      "Error processing prompt '怀孕23周，刚做了白带常规检查说有霉菌感染之类的，然后拿了这两种药，但是忘记问怎么一起用了。请问利夫康洗剂和硝呋太尔制霉素阴道软胶囊怎么一起使用？': list index (0) out o\n",
      "Error processing prompt '检查是前内线增大，经常流出大量白色液体，走路小腹涨痛，是前内线炎吧？想问下吃什么药好用': list index (0) out o\n",
      "Error processing prompt '两天了，小孩肛门出有化脓的症状，该怎么办呢？': list index (0) out o\n",
      "Error processing prompt '我患有早泄要怎么办？，我患早泄，平实只好忍耐3到5分钟，我不敢喝药应当怎么办呢？': list index (0) out o\n",
      "Error processing prompt '住院治疗的，主要治疗霉菌性阴道炎还治疗了盆腔积液。出院时只有杂菌没有治好，说不影响，注意卫生。出院第一次月经是出院后三四天，月经改善，十三四天没有性生活（医生说十天不可以有性生活）。复发是出院后大概三十几天，第二次来月经前三四天，来月经当天吃了氟康唑治疗（在药店买的），吃了六天，月经结束后几天好了，月经来第三次前，就是这次，月经还没有来，再次复发，该怎么办！': list index (0) out o\n",
      "Error processing prompt '我是上环一年了期间一直月经不正常前几天取环医生说宫颈糜烂取环后腰骶疼': list index (0) out o\n",
      "Error processing prompt '精囊炎反复不爱好怎么治': list index (0) out o\n",
      "Error processing prompt '本月5号出现白带拉丝情况，到现在白带还很多，请问是什么原因？还有5月1号同房了，会怀孕吗': list index (0) out o\n",
      "Error processing prompt '我得了阳萎早泄，药物治疗不起作用，我想请问是否能手术治疗？': list index (0) out o\n",
      "Error processing prompt '，我这几天白带呈绿色，以前从未有过，，我这几天白带呈绿色，以前从未有过，并且怀孕10周了！': list index (0) out o\n",
      "Error processing prompt '到晚上就很痒，大腿内侧起红疹，伴有骚痒，不知道该怎么办。而且已反复多次，并且留下色素沉着': list index (0) out o\n",
      "Error processing prompt '阴道老是干涩，这是什么原因引起的。': list index (0) out o\n",
      "Error processing prompt '痛性阴茎勃起的鉴别诊断': list index (0) out o\n",
      "Error processing prompt '什么原因会引起阴道瘙痒？，一个月前化验、仔细检查结果：没去仔细检查曾经的治疗情况和效果：没治疗，买了搽的药膏，每天用盐水洗下面，但是效果不明显，药膏过了药效，又已经开始痒，月经期不痒在乎怎样的帮助：在乎医生指点是什么原因引发的，怎么去治疗，内心郁闷，': list index (0) out o\n",
      "Error processing prompt '经期过后快十天了白带一直是褐色的，而且和正常白带不一样': list index (0) out o\n",
      "Error processing prompt '17,6,12末次月经，20,21同房有措施，怀孕几率大吗？现在能测的出来吗？': list index (0) out o\n",
      "Error processing prompt '下列人群易患上哪种疾病？颅脑火器性损伤': list index (0) out o\n",
      "Error processing prompt '大便没有出血，只是揩屁股时会开出血，会不会是腹泻太多上厕所太多才开出来的': list index (0) out o\n",
      "Error processing prompt '我有做一次肛乳头瘤，混合疮还有肛裂的手术，在医院治疗了半个月就出院了，回家前两个星期一切都很正常，直到一个月过后大便干燥又出血了，还有带着疼痛，两个月后我又去做个检查，医生只是说伤口没有完全愈合，然后给我开了一药（药名忘记了），我用了六次后差不多两个星期没有大便出血了，但是到一个月又大便出血了，反反复复的，真的是伤口没有愈合，还是更严重了？': list index (0) out o\n",
      "Error processing prompt '洗完澡半天后出现龟头附近瘙痒，昨天晚上发现龟头脱皮了，请问医生该怎么处理？': list index (0) out o\n",
      "Error processing prompt '哪里治疗阳痿比较好？，不知晓怎么回事，这几天跟女朋友做没感觉，弟弟一会就软了在乎怎样的协助：不知晓怎么回事，这几天跟女朋友做没感觉，弟弟2分钟就软了': list index (0) out o\n",
      "Error processing prompt '医生你好，我想问一下我月经走后同房，白带有血丝，小腹胀，还腰酸': list index (0) out o\n",
      "Error processing prompt '医生，您好，我是五月2号来的例假，经期正常，五月二十一号同房，我想问一下，怀孕的几率大吗？': list index (0) out o\n",
      "Error processing prompt '我做优生优育检查时发现阴道囊肿.请问需手术吗？影响生育吗？请指教谢谢': list index (0) out o\n",
      "Error processing prompt '其他类精神活性物质依赖的简介是？': list index (0) out o\n",
      "Error processing prompt '原发性痛经会不孕吗？，我和我老公结婚比较晚，现在我们也到了该要孩子的时候了，但是我最近有半年的时间了一直都在来月经的时候出现痛经的现象，我去医院检查过说是原发性痛经，现在叫我调理。': list index (0) out o\n",
      "Error processing prompt '前列腺炎对同房有影响吗，有前列腺炎在不带套的情况下可以同房吗想要得到的帮助：想知道能不能同房': list index (0) out o\n",
      "Error processing prompt '少精弱精怎么有效缓解能治吗？，少精弱精怎么治疗，想问下男性的精液检查说是少精弱精的，应当怎么办啊，可以不可以治疗的啊，怎么就会引来这个病的呢，想要孩子的，要怎么做比较好的，还可以怀孕的吗，会致使不孕不育的吗，能治疗的吗？': list index (0) out o\n",
      "Error processing prompt '刚生完孩子3个月来的月经，就是5月22号的时候，完了6月一直没来，到今天7月8号才来了，我想问下是怎么回事，正常吗，是什么原因': list index (0) out o\n",
      "Error processing prompt '药流清宫后15天一直有褐色分泌物，小腹痛，痛了5天了，清宫一周的时候，检查已经干净了': list index (0) out o\n",
      "Error processing prompt '月经一直推迟，这两个月有吃调经药，但是这个月突然提前了9天，是怎么回事？': list index (0) out o\n",
      "Error processing prompt '我的身体很好，也很注重下体的卫生，但是最近下体经常会有瘙痒的感觉，还一直会有黄绿色的白带排出，而且一直觉得自己全身乏力，没有食欲。': list index (0) out o\n",
      "Error processing prompt '有两个多月了，尖锐湿疣，我在吃中药，现在有脱落的，有的还在长，请问怎么回事': list index (0) out o\n",
      "Error processing prompt '本人包皮长，房事时将包皮翻下来，2月1日晚房事后包皮严重的水肿，在医院进行了两天的半导体激光消毒与打针上药后，比之前好了很多，该怎么复位？': list index (0) out o\n",
      "Error processing prompt '服用千金止带丸须注意的事项': list index (0) out o\n",
      "Error processing prompt '12种高危hpv阳性吃饭会传染吗': list index (0) out o\n",
      "Error processing prompt '性功能障碍该注意什么问题？，最近我性生活不是很好，去医院仔细检查说是患前列腺炎致使的性功能障碍，医生建议及时的互相配合治疗和注意日常生活习惯和饮食习惯。': list index (0) out o\n",
      "Error processing prompt '房事过后不到两个小时就服用了金毓婷，四个小时过后感觉肚子有点痛是怎么回事': list index (0) out o\n",
      "Error processing prompt '射精前的液体隔着内裤，有没有可能怀孕，上次来事是5月15号，非常担心，希望能够给予解答': list index (0) out o\n",
      "Error processing prompt '痔疮手术26天了，之前是混合痔，然后还肛周湿疹特别痒才去做的手术，这两天肛门又特别痒了，周围还长了几个疙瘩怎么办？是不是手术没做干净又复发了？': list index (0) out o\n",
      "Error processing prompt '腹股沟无意摸到一个疣，不痛不痒，刚一天。不知道什么症状什么情况。身体没有什么特殊反应。': list index (0) out o\n",
      "Error processing prompt '五月六号药流没流干净13号做的清宫现在能吃辣的和凉的了嘛月经得什么时候来呀': list index (0) out o\n",
      "Error processing prompt '医生，您好！我女，24岁，昨天晚上和男朋友同房，今天早上拉大便时大便里有血，我月经是17号，但月经没来，就是大便有血是怎么回事': list index (0) out o\n",
      "Error processing prompt '白带多，有异味，然后月经没来2个月了，是不是怀孕了，可是怀孕那些症状都没有，除了月经没来，我这是怎么了': list index (0) out o\n",
      "Error processing prompt '慢性宫颈炎1度糜烂严重吗？应吃什么药呢？多长时间可以好？经期后小腹总是有坠涨感，就去检查，结果查出患有慢性宫颈炎有轻度糜烂，可是医生说不严重，吃药就行了，都不建议我用栓剂，后来又去了别的医院检查，结果都一样，都说是正常范围内不太严重，只要注意平时卫生就可以了，想问问慢性宫颈炎1级糜烂真的不严重吗？': list index (0) out o\n",
      "Error processing prompt '月经每过月提前5天，2号来月经，6号完，10号同房会怀孕吗，': list index (0) out o\n",
      "Error processing prompt '解释一下“血疝”的病症表现。': list index (0) out o\n",
      "Error processing prompt '请问怀孕期间可以同房吗？，无': list index (0) out o\n",
      "Error processing prompt '小腹有时涨，有时尿频，性生活严重不好，阳痿早泄。有点掉头发，头发两鬓有点白，': list index (0) out o\n",
      "Error processing prompt '感觉宫颈口下垂，用手都能感觉的到，应该怎么办？': list index (0) out o\n",
      "Error processing prompt '阴道炎，医生开了药，前一两天上完药后特别痒，塞药进去的时候在阴道口那里特别疼，上完后痒，就去换了护垫不痒了，来月经药停了，现在重新塞，塞的时候阴道口还是很痛，上完第二天就发痒，这是怎么回事，还剩下一颗药，我还要不要塞，过几天还会去医院复查': list index (0) out o\n",
      "Error processing prompt '月经过了10多天又来了，正常月经时三天就完事，这次是第六天了，时常半有小肚子疼痛，请问这是怎么回事？': list index (0) out o\n",
      "Error processing prompt '最近这两个月来，感觉腰酸的很，四肢无力，晚上睡觉总是出汗，手脚怕冷的很，性欲下降，每次老婆想要的时候，阴茎不能勃起，坚硬度不够，去医院做了检查，医生说是肾虚阳痿。': list index (0) out o\n",
      "Error processing prompt '手淫肾功能不全，在外地上班，离开老婆孩子没有什么事可以做，所以总会看看什么书还有就是自己控制不住的时候就会手淫，有时是一个晚上好几次，久了后会发现有时腰的地方特别的酸，他们说这样长期会肾功能不全的会吗': list index (0) out o\n",
      "Error processing prompt '感觉尿尿的地方很不舒服，象是要尿尿似的。今天我去查了个尿常规，血样检查，医生说没有问题，请问怎么办？': list index (0) out o\n",
      "Error processing prompt '我做了宫腔镜下取胚术后，最近的B超发现宫腔内有一个偏强回声结构，请问这是什么结构，需要怎么处理？是否需要面诊？': list index (0) out o\n",
      "Error processing prompt '每次性生活不到一分钟就谢了！不知道什么原因请求老师的帮助！': list index (0) out o\n",
      "Error processing prompt '肛门长了一颗外痔会不会二次感染，男，31岁，我老公现在是患有痔疮了，去检查说是外痔疮，没听过有外痔内痔的，不知道是不是诊断错了，请问肛门长了一颗外痔会不会二次感染': list index (0) out o\n",
      "Error processing prompt '第一次吃避孕药后半个月来过一次大姨妈和平时候一样经期天数正常，本个月后再次来大姨妈是黑色，第二天就排出就像烂肉一样的东西，就用清水清洗阴道，现在感觉偶尔小腹疼痛，感觉流出的像是血水': list index (0) out o\n",
      "Error processing prompt '我得了肛窦炎，用了大便疼痛，带血，用了马应龙，美辛咗铜，没效果，想问问您，用什么药，小腹坠胀': list index (0) out o\n",
      "Error processing prompt '你好，我是宫颈糜烂2度，同房时有血，我做了宫颈糜烂手术，医生建议一个月不能同房，我现在40多天了，昨晚第一次同房依然有血，请问这是怎么回事？': list index (0) out o\n",
      "Error processing prompt '氟甲砜霉素的制备方法是什么？': list index (0) out o\n",
      "Error processing prompt '我是急性阴道炎，上个月去看的，用的塞的和洗的药，大概12天用完，应该是上个月23号用完的，然后就好了，就没太在意也没去医院复查，最近两天感觉又痒了，前两天是偶尔一次痒，晚上洗的时候挠挠就好了，今天晚上感觉有点干痒，痒的时间要久一些，不知道是不是复发了，想知道我这个情况应该怎么办，谢谢医生': list index (0) out o\n",
      "Error processing prompt '你好，医生我老婆怀孕那天中午我喝了半杯白酒，也抽烟了，晚上就怀孕了，会影响孩子吗': list index (0) out o\n",
      "Error processing prompt '在洗澡的时候不小心让指甲把外阴划破了，走路的时候很疼，自己看了一下长了一个细长的溃疡，用碘伏消了炎还是很疼怎么办？麻烦问一下大夫需不需要擦点什么药，几天能好？': list index (0) out o\n",
      "Error processing prompt '我最近出现了一些问题，不射精就睡不着，射了才能睡，而且龟头处有点疼痛，睡醒好像也是那痛醒的，这种情况已经出现好几天了。我以前频繁手淫，我想知道这是怎么回事，应该怎么做才能改善。': list index (0) out o\n",
      "Error processing prompt '尿出几滴，尿后有点涨痛。请问要吃点什么药好？还有要注意些什么。': list index (0) out o\n",
      "Error processing prompt '请问宫颈粘液会否影响生小孩的几率的吗？？': list index (0) out o\n",
      "Error processing prompt '无痛人流后15天同房有事吗？，因为我们都比较年轻所以没准备要小孩，这个小孩是意外有的，我就去医院做了无痛人流，现在那些恶露刚干净，我怕我男朋友会禁不住所以想问一下无痛人流后15天同房有事吗？': list index (0) out o\n",
      "Error processing prompt '月经来第六天做爱，已经干净了洗澡了也没事然后现在第十二天月经又来了是为什么': list index (0) out o\n",
      "Error processing prompt '昨天漏奶漏的很严重，从宝宝出生到现在出院都过了一个星期了，奶头有奶却不涨，我也坚持让宝宝吸，为什么就是不涨呢': list index (0) out o\n",
      "Error processing prompt '昨天同床后下午吃了避孕药，今天中午又同床了，是不是应该再出一次避孕药，并且现在处于易孕期': list index (0) out o\n",
      "Error processing prompt '月经来的时间长，而且量特别多，我也看了很多次医生了，中医都看过了，然而过一段时间又变成这样了，这是为什么呢，有一次甚至来了一个月都很厉害': list index (0) out o\n",
      "Error processing prompt '请为下列情况选取一种最合适的治疗方案。高血压患者急诊住院，收缩压达200毫米汞柱以上': list index (0) out o\n",
      "Error processing prompt '1月19号来的月经，2月1号跟男朋友同房没戴避孕套但是射在外面会怀孕吗': list index (0) out o\n",
      "Error processing prompt '如何减轻乳腺增生要怎样预防？，您好乳腺增生要怎样预防出现？是不是像网上说的再次发生性关系也是迅速提高乳腺质量的好办法呀？那平时自己多推拿乳腺可有用啊？除了什么好办法来预防出现乳腺增生呀？': list index (0) out o\n",
      "Error processing prompt '本人女，离婚，自从离婚之后对爱情没有感觉了，这是心里疾病吗': list index (0) out o\n",
      "Error processing prompt '大腿根部两侧疼痛，白带发黄但没有异味，白带量正常，不瘙痒，大概有一个月了，怎么回事': list index (0) out o\n",
      "Error processing prompt '外阴疼，好痒，每天都用温水冲洗阴道，每天都换内裤，怎么才能治断根': list index (0) out o\n",
      "Error processing prompt '3月26号来的月经每次来月经都会推迟一周四月16号晚上和男友做爱发现避孕套破了男友是射在外面的会不会怀孕很担心': list index (0) out o\n",
      "Error processing prompt '月经的时候不痒，完了后就痒，有时候特别痒，还有淡黄色颗粒一样的流出来，内裤也是淡黄色的一层，感觉就是因为这个裙子特别痒，这是怎么回事啊': list index (0) out o\n",
      "Error processing prompt '回答有关特定药品安全、正确用法或有效性方面的常见问题。吗啡用量和用法的正确问题': list index (0) out o\n",
      "Error processing prompt '医生你好，我做包皮环切手术带了一个治疗早泄埋线的手术，今天14天，昨晚发现系带出血，好像掉了一根线出来，一公分长。是不是做的早泄失败了，该怎么办？有什么大问题没？': list index (0) out o\n",
      "Error processing prompt '我包皮时不时会痒痒活之后就会发现起包，过个几个小时就自己下去了，怎么治疗比较好': list index (0) out o\n",
      "Error processing prompt '差不多每个月疼一次，一次疼几个小时，不是特别明显的疼，还有在排卵期小腹左边疼，有时也是右边疼': list index (0) out o\n",
      "Error processing prompt '我是1.20做的无痛人流，十几天的时候有吃过火锅，现在已经二十六天了，有时候小腹感觉胀胀的，其他也没有感觉那里不舒服，这些正常吗？': list index (0) out o\n",
      "Error processing prompt '得弱精的症状表现为什么，弱精的症状有哪些。弱精的症状有哪些有什么办法解决，很难受困扰很久心里也不舒服求解决办法': list index (0) out o\n",
      "Error processing prompt '宫劲糜烂2度怎么治疗，宫劲糜烂2度的形成？如何治疗？': list index (0) out o\n",
      "Error processing prompt '我做完人流手术第四天就来月经了，这是我每个月月经来的正常日期，可是人流后不是应该月底才来吗？我这样是不是不正常了？': list index (0) out o\n",
      "Error processing prompt '老公的情况：1.精子不液化。2.精子密度；9.7精子总数：38.8精子活动率：29.7活动精子总数：11.52A级精子：4B级：14.1这样的情况会有怀孕的几率么？这个月我们排卵期同房了，不知道会不会怀孕。': list index (0) out o\n",
      "Error processing prompt '我患有生殖器疱疹已经一年多了，想问一下是否有治愈的可能性？': list index (0) out o\n",
      "Error processing prompt '酚氨咖敏颗粒药物相作用': list index (0) out o\n",
      "Error processing prompt '月经周期是32天，3月份月经是3月9号来的，4月份月经提前了一周，4月5号来的，这个月本来应该5月7号来月经，但是推迟了，5月8号同房未采取保护措施，到今天月经也没有来，请问有没有怀孕的风险。': list index (0) out o\n",
      "Error processing prompt '女生第一次会疼吗，为什么不流血流白带？什么原因': list index (0) out o\n",
      "Error processing prompt '我最近的时候总是感觉肛门疼痛，开始的时候也不好意思去医院治疗，但是没想到后来的时候还发现肛门的肿块越来越大了，我赶紧去了医院检查被确诊为是患有肛周脓肿。': list index (0) out o\n",
      "Error processing prompt '雌激素低潮热出汗、经常失眠，身体出现亚健康状态，头晕、疲倦乏力、已经闭经，性生活困难。': list index (0) out o\n",
      "Error processing prompt '检查了没有滴虫，细菌阴道炎，宫颈也没问题，最后查了个细胞因子含量！要一个星期出结果，想知道细胞因子是能造成什么病，我这个症状会不会是盆腔炎': list index (0) out o\n",
      "Error processing prompt '流产之后下体毛毛洋洋乳房疼里面带肿块什么原因啊求指导谢谢了': list index (0) out o\n",
      "Error processing prompt '屁股疼，一直拉不出来粑粑！疼的直哭！屁眼也特别红，一直哭，走路的时候走的很慢，有时候坐都不可以': list index (0) out o\n",
      "Error processing prompt '注射用盐酸丁卡因的不良反应是什么？请描述注射用盐酸丁卡因的不良反应': list index (0) out o\n",
      "Error processing prompt '误吸入复方薄荷脑酊，怎么办？': list index (0) out o\n",
      "Error processing prompt '我有阴道炎的症状，内外阴瘙痒整个过程已经很久了，之前自己私自用过药，也用过洁尔阴，但没有根治，最近体检，发现清洁度3级，尿道白细胞＋＋，TCT提示念珠菌感染，请问该如何治疗？': list index (0) out o\n",
      "Error processing prompt '带环三年了，月经来的时间长，大概半月多之前做过检查盆腔积液，但是环的位置挺好，就是月经淋漓时间长': list index (0) out o\n",
      "Error processing prompt '本来应该这个月24号来月经，现在30号还没来，10好的时候男朋友手上可能有他前列腺液，用香皂洗完手以后摸了阴道口，后来，我手可能也有前列腺液，洗完手以后去洗下面，这样会怀孕么': No candidates return\n",
      "Error processing prompt '白带多，有异味，阴部瘙痒，而且我才刚刚18岁，不知道该吃什么药管用': list index (0) out o\n",
      "Error processing prompt '做了包皮手术后第3天了，可以洗澡了吗，医生手术后给我上了一个塑料的套环一样的东西。我怎么看不见伤口，边上都肿好大正常吗？': list index (0) out o\n",
      "Error processing prompt '昨天早上和男朋友做了我是第一次当时流了挺多血到第二天发现还有一点点偏黑的血这是正常的嘛': list index (0) out o\n",
      "Error processing prompt '乳腺增生，有半年了，医生开了药乳宁片还有逍遥丸，吃这个会不会拖迟月经不正常': list index (0) out o\n",
      "Error processing prompt '关于以下病症，接触是否会传染该病？艾滋病人出现毛状白斑': list index (0) out o\n",
      "Error processing prompt '18号性生活进去了几下后戴套了没射19号中午害怕所以吃了紧急避孕药又做了没射但我怕前列腺液体直到21号都是戴套没破没射这两天头晕恶心下午开始的昨天有了性生活开始就戴套的第一个套被他扯坏就换了新的套但我怕前列腺液体有精子担心现在吃紧急隔一周了没有撤退性出血上个月7号来月经平时月初来性生活他都没射怀孕几率多大呢': list index (0) out o\n",
      "Error processing prompt '子宫肌瘤生长速度过快，因素或病因是什么？，无': list index (0) out o\n",
      "Error processing prompt '我前段时间准备做药流的时候被检查出有轻度霉菌性阴道炎，医生给开了药说等好了后再药流，可是药流后好多天后还是会流血，后来我去复查，检验单上写我得了子宫内膜炎，我怕治不好对以后生育有影响。': list index (0) out o\n",
      "Error processing prompt '霉菌性阴道炎用了药白带排出来了是好还是坏呀，还有这个病用什么药最好啊': list index (0) out o\n",
      "Error processing prompt '这个月16号来的大姨妈，24号吃了避孕药，30号又来了大姨妈，那我下个月在没有性生活的前提下再吃一次避孕药，月经还是会提前吗，主要是如果按这次的算那么刚好月末就会来大姨妈，因为月末有一次考试不想那个时候来': list index (0) out o\n",
      "Error processing prompt '请提供下列病症最好的治疗方法。直肠脱垂': list index (0) out o\n",
      "Error processing prompt '未满十八去正规医院做人流需要女方监护人陪同签字吗现在在上学术后需要怎么恢复': list index (0) out o\n",
      "Error processing prompt '我没有明显症状，像我这样得怎么治，药物治疗行不，还能要孩子不': list index (0) out o\n",
      "Error processing prompt '外阴纤维肉瘤最好不要吃那些食物？': list index (0) out o\n",
      "Error processing prompt '遗精滑泄的治疗和预防方法': list index (0) out o\n",
      "Error processing prompt '手淫过度会不会影响生育，会不会治好我从小学就开始手淫了，到现在还没戒掉': list index (0) out o\n",
      "Error processing prompt '中度宫颈糜烂加阴道炎，一年前生小孩月子后检查是宫颈流血，还得过尿道感染，请问用药可以好吗': list index (0) out o\n",
      "Error processing prompt '请医生给出左边小阴唇疼痛的诊断和治疗建议。左边小阴唇痛': list index (0) out o\n",
      "Error processing prompt '龟头上有颗粒该怎么办，龟头与包皮连接的地方长了很多小颗粒，但没有任何其他感觉，请问龟头上有颗粒怎么办？': list index (0) out o\n",
      "Error processing prompt '提供以下药品的常见副作用。非甾体类抗炎药': list index (0) out o\n",
      "Error processing prompt '我宝宝九个多月了还没断奶，我想上环，上环对身体有什么影响呢？': list index (0) out o\n",
      "Error processing prompt '我25岁，两年前做过人流，现在跟老公多个排卵期同房也没有怀孕，是不是患不孕症了': list index (0) out o\n",
      "Error processing prompt '男性霉菌尿道炎怎么治疗': list index (0) out o\n",
      "Error processing prompt '我是月推后5天，以前都是提前，我以为是闭经，买了一八珍益母草吃，现在来了，可是这次来有点不正常，大腿根酸痛整个人都不舒服！': list index (0) out o\n",
      "Error processing prompt '阴茎多长才正常呢，阴茎多长才正常呢': list index (0) out o\n",
      "Error processing prompt '2月份开始月经不正常都是来十几天都不干净持续了四个月这个月4号开始流褐色的东西流了四五天9号才开始像正常月经一样到现在还没干净。昨天去了中医院医生给我开了中药说是止血调经的作用可是为什么吃完第一副反而流血了昨天已经没什么血了只是流褐色的东西为什么吃了药反而流血？': list index (0) out o\n",
      "Error processing prompt '医生，我用手摸了女性的阴道分泌物，然后用这手又摸了自己的性器官，会传染艾滋病吗': list index (0) out o\n",
      "Error processing prompt '无痛人流后第十五天还有淡淡的黄色分泌物，没有异味，满十天的时候去做了B超复检，医生说没事，然后今天十五天了，还是有点点淡淡的黄色分泌物，很少，医生说让我过3或四天再去做个阴试B超，我之前人流后医生给开的药吃得不是很规律，而且优思明漏吃了一天，怎么办': list index (0) out o\n",
      "Error processing prompt '经期只有三天且量很少，而且刚来的那天很痛，痛到冷汗都出来了': list index (0) out o\n",
      "Error processing prompt '怎样诊断并治疗外阴白斑？治疗期间需要注意什么？': list index (0) out o\n",
      "Error processing prompt '我女朋友28号来的月经，1号还有一点点，今天是7号，做了房事，一开始没带套擦了几下，然后开始带套，中途想上厕所，然后又没带套擦了几下，后面全程带套，并且没有内射。请问这样还会怀孕吗': list index (0) out o\n",
      "Error processing prompt '最近这1个星期，每次上厕所的时候，肛门都疼的很，便秘很严重，肛门周边有肿块，坐着都疼，去医院做了检查，医生说是肛门囊肿，': list index (0) out o\n",
      "Error processing prompt '我想问一下，如果我采取全程带套的避孕方式，没有脱落和破，是否会感染艾滋病？因为我和对方不是小姐，也不是专门从事性工作者的人。': list index (0) out o\n",
      "Error processing prompt '喝中药补肾期间，喝了金戈壮阳药，金戈会有依赖性嘛，金戈能长期吃嘛': list index (0) out o\n",
      "Error processing prompt '黄素化囊肿的原因是什么？什么是黄素化囊肿的原因？': list index (0) out o\n",
      "Error processing prompt '我的老公半个月没有主动和我做爱了！我主动了他还拒绝，我心里难受，他是不是有外遇了？': list index (0) out o\n",
      "Error processing prompt '我这是阳痿吗？，患者性别 男病史：前段时间b超发现有前列腺炎，现正在治疗之中，已经治疗半个多月了。详细病情及咨询目的：前段时间手淫过度，导致生殖器无法挺起，感觉好像有那个欲望但是生殖器却没有反应，休息一段时间（半个月）之后有时候能挺起来，并且很坚挺，但是射精一次后就恢复以前那种状态了，不知道是为什么？是阳痿吗？第一次问题补充：在最近一段时间里清晨或手淫时阴': list index (0) out o\n",
      "Error processing prompt '服用噻奈普汀片须注意的事项': list index (0) out o\n",
      "Error processing prompt '我有一个月多没来月经，前几天突然来了，只是怎么回事。': list index (0) out o\n",
      "Error processing prompt '今天是第三天了，晚上痒的不能睡，主要是我怀孕快两个月了，该怎么办': list index (0) out o\n",
      "Error processing prompt '我乳房痛是怎么回事？经期来之前痛，经后三四天又痛月经前来痛正常嘛没管的，月经后三四天只要过过性生活就开始痛，每个月提前三四天，就现在摸到都痛，这是什么情况呢？': list index (0) out o\n",
      "Error processing prompt '请描述尖锐湿疣的流行病学研究': list index (0) out o\n",
      "Error processing prompt '肛周肿瘤的鉴别诊断': list index (0) out o\n",
      "Error processing prompt '梅毒性巩膜炎的预防和治疗方法': list index (0) out o\n",
      "Error processing prompt '医生我是得了早泄病，每次不到五分钟，怎么办有药可治吗': list index (0) out o\n",
      "Error processing prompt '硬下疳症状': list index (0) out o\n",
      "Error processing prompt '念珠菌性阴道炎': list index (0) out o\n",
      "Error processing prompt '妇科炎症怎么做好呢，没事想得到怎样的帮助：我要吃什么药或者怎么做呢': list index (0) out o\n",
      "Error processing prompt '性功能障碍是怎样引起的呢？，这段时间不知晓怎么了，也许是工作压力大的原因，每次和老婆同房的时候都会有些力不从心，弄得都很尴尬，老婆说我是不是得了性功能障碍了啊，有些忧心，我想问问医生这个是怎么引来的？': list index (0) out o\n",
      "Error processing prompt '龟头上起了个肉粒一开始以为是尖锐湿疣后来PCR化验不是，是中线囊肿怎么治疗': list index (0) out o\n",
      "Error processing prompt '18岁这样吧，月经来了一个多月，可是不多很少': list index (0) out o\n",
      "Error processing prompt '霉菌性阴道炎能根治吗，有洗过，但是还是有点痒，里面有黄色白带': list index (0) out o\n",
      "Error processing prompt '人流35天未来月经，35天又同房，服用紧急避孕药可以吗？会有什么影响吗？另外2个月后怀孕了，对孩子有影响吗？': list index (0) out o\n",
      "Error processing prompt '5.26去医院做抽血人绒毛激素2200我大姨妈是4.10号来的4.14号大概里没了，然后和朋友同房，会不会是4.14就怀孕的，中间有过很多次体内射精，': list index (0) out o\n",
      "Error processing prompt '举个列子上个月11月22同房射啦一次在里面。然后12月7号没来月经，测纸测出已怀孕，就一次马上怀上，而且每次都是射一次就怀孕，这样太不现实啦吧。我的月经都是每个月十号左右来的。那22号算安全期吗？': list index (0) out o\n",
      "Error processing prompt '您好，我最近例假量一直很少，现在来例假差不多都用护垫了，想问一下要是去医院检查是要大姨妈来的第三天，第四天是吗？': list index (0) out o\n",
      "Error processing prompt '月经有十三天了，一天量极少，并有腰酸胀症状，爱做梦，全身乏力，口干心烦': list index (0) out o\n",
      "Error processing prompt '二胎剖腹产后42天盆底检查结果，阴道前壁脱垂POP~Q1，阴道后壁脱垂POP~Q1，子宫轻度脱垂，严重吗？需要治疗吗？在家缩肛练习可以吗？会不会恢复？': list index (0) out o\n",
      "Error processing prompt '无精症治疗疗程，想知道无精症治疗疗程.时间长不长呢.有什么后遗吗？?？无精症治疗疗程': list index (0) out o\n",
      "Error processing prompt '你好医生，月经最后一天还有一点黑色的…可以吃药吗？': list index (0) out o\n",
      "Error processing prompt '我做完爱之后，阴茎出现了淤血，想问这种情况需要吃药治疗吗？': list index (0) out o\n",
      "Error processing prompt '我吃避孕药后一个月身上不干净，还伴小腹痛，去看说是盆腔炎，也吊水了还是不见好，身上还是不干净，只要小解就会有，请问这是怎么回事': list index (0) out o\n",
      "Error processing prompt '轻度宫颈糜烂用些什么药比较好，我去年结的婚，最近总是肚子小腹疼痛，尤其是来事那几天，很害怕影响生育，而且十分的怕冷，怕寒。请问轻度宫颈糜烂用些什么药比较好': list index (0) out o\n",
      "Error processing prompt '上厕所白带像豆浆一样流出来，之前有过褐色东西，去医院检查医生说是先兆流产，后来褐色东西也没有了，但是现在白带是蛋黄色的': list index (0) out o\n",
      "Error processing prompt '我的第二胎是顺产的，生过孩子之后恶露就一直断断续续的，生产到现在在已经都三个多月了，一直有，虽然量很小，也没有腹痛的感觉，可是真的是很脏，不知道什么时候才是头。': list index (0) out o\n",
      "Error processing prompt '输卵管检查检查结果输卵管左侧堵塞，另一侧通畅，不知道有没有怀孕的可能呢，一侧不通还能怀孕么，会影响怀孕吗。': list index (0) out o\n",
      "Error processing prompt '我想了解一下检查单上怎么说的？对男朋友有没有传染的可能，我被诊断出梅毒，想了解一下治疗方法。': list index (0) out o\n",
      "Error processing prompt '脱肛手术能做几次': list index (0) out o\n",
      "Error processing prompt '尿道炎为什么反复发作': list index (0) out o\n",
      "Error processing prompt '肛周脓肿与臀部疖肿的区别': list index (0) out o\n",
      "Error processing prompt '去找闺蜜的时候，她说不想出去，说是之前时间检查支原体感染，这个是不是很严重啊，女性支原体感染如何治疗，我想帮帮她': list index (0) out o\n",
      "Error processing prompt '女人做爱时，高潮下面流的水叫什么，为什么有时就没有水了': list index (0) out o\n",
      "Error processing prompt '下列症状需要采取哪些措施？长时间肛门红了一片不见好的宝宝': list index (0) out o\n",
      "Error processing prompt '舍友每次来姨妈第一天都会吐的很厉害刚过十八这是什么原因引起的': list index (0) out o\n",
      "Error processing prompt '宫颈糜烂究竟如何治疗？，医生说我有中重度宫颈糜烂，建议我做个电烫救治，前两天我做了电烫救治，做了以后也没什么感觉，跟平时没两样，您好这正常吗？除了做了电烫后需要有留意些什么，吃方面需要有留意吗，除了能抱小孩子吗？': list index (0) out o\n",
      "Error processing prompt '2个多月男宝宝，四天没有大便，今天用了10毫升开塞露，用完就拉了，下午看屁眼那里红红的，纸尿裤上还有类似透明脓状液体，像女性白带那种样子，不知道这是什么，是从屁股出来的吗？这是正常的吗？是开塞露用多了吗？': list index (0) out o\n",
      "Error processing prompt '精子质量差是不是影响怀孕？，精子质量差是不是影响怀孕？精子质量差是不是不可能怀孕？我去医院检查医生说我的精子质量差、量少、畸形太多。我想问一下要怎么才能怀孕？': list index (0) out o\n",
      "Error processing prompt '男亲男的嘴有危害吗就亲可以次有危害吗医生请你告诉我啊啊啊啊啊啊': list index (0) out o\n",
      "Error processing prompt '我每天早上醒来，内裤上都有水样白带，今天带有淡粉色血水，不知道是怎么回事。': list index (0) out o\n",
      "Error processing prompt '老有尿感，五六天时间，打了两天吊水不见好转，是什么原因，是不是妇科病': list index (0) out o\n",
      "Error processing prompt '你好医生，我这几次和老公同房后总会出血，这是怎么回事，担是血不多，我现在很害怕，肚子也不疼，': list index (0) out o\n",
      "Error processing prompt '医生，您好，我现在肛门右侧的肉肿了，非常疼，还有便秘，又3天了，这个应该怎么治疗啊': list index (0) out o\n",
      "Error processing prompt '子宫积血，目前已经有白带了，在吃益母草和定坤丹，吃了俩天，也没见流血': list index (0) out o\n",
      "Error processing prompt '我老婆上个月9号来月经这个月12号来要到几号排卵会怀孕': list index (0) out o\n",
      "Error processing prompt '我最近出现阳痿的症状，不博起，之前得过附睾炎、前列腺炎，想问一下有什么中药可以治疗阳痿，我的情况还能治好吗？': list index (0) out o\n",
      "Error processing prompt '21岁，男，4年前长痘，吃药一直未好，而且一手淫就会冒痘（手淫6年而且频繁），有肾阳虚的症状。听说手淫导致长痘，最近在戒除手淫，请问需要吃药来弥补肾虚？': list index (0) out o\n",
      "Error processing prompt '男性早泄如何进行治疗，每次一分钟不到就射了，怎么治疗呀？男性早泄如何进行治疗？': list index (0) out o\n",
      "Error processing prompt '每个月月经完的那几天总是有异味，外阴瘙痒，怎么办？我还没结婚，可以用妇科洗液吗？': list index (0) out o\n",
      "Error processing prompt '我有一个症状想要咨询一下。阴部长了一块红的不疼不痒，应该是什么毛病？需要怎么治疗？如果需要去医院的话应该挂什么科？谢谢！': list index (0) out o\n",
      "Error processing prompt '大夫您好我的夫妻生活不能满足有早泄倾向二三分钟就完事了房事的时候相当敏感而且硬度也不行了对了我好像没有晨勃好多年了一直没有请问大夫我是不是肾虚的很厉害了？': list index (0) out o\n",
      "Error processing prompt '请问男人一次性吃了6颗紧急避孕药会怎样？会丧失性功能吗？还是说会影响生育？昨天吃的': list index (0) out o\n",
      "Error processing prompt '去年生的孩子没有母乳但是现在还有奶是为什么': list index (0) out o\n",
      "Error processing prompt '龟头流脓旁边长了个包包是怎么回事啊': list index (0) out o\n",
      "Error processing prompt '备孕中，已经吃了两个多月的叶酸片，上一次月经时16年12月25号到31号，这几天是排卵期，16号同了房，昨天晚上外阴用了一点克霉唑软膏然后同房，如果怀孕对胎儿有没有什么影响？（很担心！）': list index (0) out o\n",
      "Error processing prompt '谢谢各位医生对我前面问题的回复，非常感谢！就是最后想问一下，我女友每月份20日左右例假，每月一次，每月20-25左右，前面问题，就是昨日6月4日晚上，我和她性器官只是稍许碰到一下而已（前面问题已经咨询，得到医生非常满意的回复，再次感谢），那么，昨天6月4日会不会在我女友的排卵期呢？': list index (0) out o\n",
      "Error processing prompt '白带中有血丝，常常下腹疼痛，怀疑宫颈炎。宫颈炎是怎样的和宫颈糜烂的区别': list index (0) out o\n",
      "Error processing prompt '五六天前吃的避孕药，然后出血两天了，感觉很像血性白带，不像撤退性出血。而且阴毛附近被扣破了，现在走路都疼': list index (0) out o\n",
      "Error processing prompt '阳痿怎么去解决，勃起困难，勃起时不能够插进阴道，早泄，性欲减退，看三级片也没什么感觉。化验、仔细检查结果：内分泌正常。前列腺液常规：白细包2-4，卵磷小体2个加。B超：左侧精索静脉曲张，双睾丸积液。曾经的治疗情况和效果：吃过多种不同补肾和壮阳药物，未见效果。在乎怎样的协助：想理解下我这毛病到底是什么原因导致的。': list index (0) out o\n",
      "Error processing prompt '为什么同房都有措施，月经还迟一个星期还没来': list index (0) out o\n",
      "Error processing prompt '老妈子停经十年了，最近七天都来少量月经，是怎么回事？身体出问题了吗？': list index (0) out o\n",
      "Error processing prompt '请问医生，和女朋友4号同房，没有实质的性生活，阴茎没有插进去完，没有摩擦反复，处女膜没破，她上个月21号来的月经，在这种情况下前列腺液导致怀孕可能性大吗？': list index (0) out o\n",
      "Error processing prompt '劳累会导致白带带血吗': list index (0) out o\n",
      "Error processing prompt '我们有两个宝宝了，现在还想在要一个，请问以前结扎了要怎么做才能在生育': list index (0) out o\n",
      "Error processing prompt '没戴套事后下面却流血了，这是为什么': list index (0) out o\n",
      "Error processing prompt '输卵管伞端不通畅怎么办': list index (0) out o\n",
      "Error processing prompt '子宫息肉影响怀孕吗？，没能怀孕，今年上半年再次出现阴道极少量渗血远不止，做过子宫息肉人工刮除手术化验、检查结果：未再检查曾经的治疗情况和效果：做子宫息肉人工刮除手术后未再再次出现阴道流血子宫息肉干扰怀孕吗？子宫息肉是很容易病发的妇科病吗？的此病是很严重的妇科疾病吗？': list index (0) out o\n",
      "Error processing prompt '下面的药物会引起哪些过敏反应？磺胺类药物': list index (0) out o\n",
      "Error processing prompt '你好！医生，我今天才看见阴毛里长虱了，有什么办法不让它有，会传染给对方吗？': list index (0) out o\n",
      "Error processing prompt '健康咨询描述：医生好，我由于月经不规律，自然月经来不了，没有怀孕，尊医嘱注射的黄体酮，注射第一天后就有褐色血样，但是量很少，就连着一共注射了三天，期间有出现过流血但量少，现在停止注射了黄体酮，月经基本没有了，只有擦的时候纸巾会见点红，请问这算月经吗，可以在这个时候检查性激素吗，还是说停了黄体酮等几天后等月经来了再做，那个时候还会来月经吗': list index (0) out o\n",
      "Error processing prompt '我最近发现自己小阴唇上有血泡，一侧边缘有点发黄锯齿状，感觉有点硬，白带有点偏黄，气味不腥一点点酸，我想知道这是怎么回事？': list index (0) out o\n",
      "Error processing prompt '最近这些年，自己的性生活时间越来越短了。有时候感觉自己的身体吃不消，每天早上起来也会有晨勃的现象，自己还没有去医院检查。': list index (0) out o\n",
      "Error processing prompt '你好。医生，我家宝宝现在两岁八个月，小鸡很短小，站着没尿的时候就一厘米多点那样，孩子身高98，体重36': list index (0) out o\n",
      "Error processing prompt '上月月底才来到这个月4号结果昨天又来月经排出来的还是乌黑色': list index (0) out o\n",
      "Error processing prompt '医生你好，我是四月二十三号来的大姨妈，五月八九十三天同房会怀孕吗？': list index (0) out o\n",
      "Error processing prompt '经常肚子疼，白带增多，有些发黄，有异味。有时会痒，同床的时候里面疼，是怎么回事？该吃些什么药？': list index (0) out o\n",
      "Error processing prompt '我在三甲医院做的无痛人流，做完后血很少，第三四天没有了有红褐色的分泌物，一直喝着益母草膏，打了三天消炎药，这正常吗，第三天开始上班坐着八个小时，晚上觉得右下边腰那里的骨头很疼第四天也是，这是没休息好吗': list index (0) out o\n",
      "Error processing prompt '月经在四月十七号，现在超过三天，这几天总是有腰酸': list index (0) out o\n",
      "Error processing prompt '2015年10月份，做无痛人流后，脸上长斑，白带不正常，本人经常熬夜。': list index (0) out o\n",
      "Error processing prompt '2年前药物流现在月经量减少会影响生育吗？，病情描述：现在月经来腰痛 比较少曾经治疗情况和效果：做B超 检查子宫和双附件没有异常想得到怎样的帮助：2年前药物流现在月经量减少会影响生育吗 ？现在月经来腰痛要紧吗？': list index (0) out o\n",
      "Error processing prompt '18号来的例假24号左右走的28号体外射精会怀孕吗周期28天左右': list index (0) out o\n",
      "Error processing prompt '好几年了，来完月经半月后左侧小腹坠疼，也就疼一天，是输卵管堵塞的原因吗？': list index (0) out o\n",
      "Error processing prompt '月经结束半个月了，这两天上厕所偶尔会擦出棕色的分泌物，上个月也出现过这种情况，几天就没有了。从这两个月开始出现的本人20岁，未有性生活。': list index (0) out o\n",
      "Error processing prompt '今天中午吃完午饭就肚子疼然后就去了厕所大便也没多少但是还是疼，然后下午到晚上就好了但是肛门里面快出来的位置总有一种刺痛是为什么呢？会疼到生殖器官，我还吃了一片去痛片': list index (0) out o\n",
      "Error processing prompt '停经40天，hcg值＜0.100孕酮3.01是怀孕了吗？昨晚又做爱了会不会怀孕？': list index (0) out o\n",
      "Error processing prompt '最近明显白带比以前多了，肚子也有点大，但是不痛，不涨，就是屁多，屁臭，请问医生怎么回事，上月月中有过性生活，月末来月经，应该不是怀孕，请问什么原因？': list index (0) out o\n",
      "Error processing prompt '有一个同事有性病，接触了她摸过的东西，正常洗漱忘记消毒了，当天跟女友做了，会不会被传染？': list index (0) out o\n",
      "Error processing prompt '什么是精囊造影': list index (0) out o\n",
      "Error processing prompt '弱精用什么办法治疗，您好医生，我想咨询弱精用什么办法治疗？我和女朋友现在恋爱三年多了，准备结婚。家里让去婚前检查，结果我被检查出患有弱精症，大夫说我的精子活力低下，容易影响以后正常生育。请问弱精症可以用那些方法治疗？': list index (0) out o\n",
      "Error processing prompt '最近这两个月来，总觉得腹部疼痛的厉害，平时月经不调，带有血块，白带黏糊糊的，带有异味，像是豆腐渣，外阴瘙痒，同房的时候，还有点疼痛，带有血丝，去医院检查，确诊是1度宫颈糜烂。': list index (0) out o\n",
      "Error processing prompt '性交1分钟就射精是否为早泄？本次发病及持续的时间：4年': list index (0) out o\n",
      "Error processing prompt '本人25岁，月经经常推迟半个月，月尽量也非常少，以前都是4天左右，现在只有两天就没了，在医院看过后给我开了妇科再造胶囊和八珍颗粒，看说明八珍是月经量多吃，可我是月经量少也可以吃吗？': list index (0) out o\n",
      "Error processing prompt '本人30岁，有十多年的手淫史。目前症状如下：记忆力差，脱发，冬天四肢冰凉，四季喜喝冷水，半夜睡着会出大汗，尿频，尿不干净，一侧膀胱偶尔有点坠痛感。偶尔耳鸣，精神不济，易产生性冲动，性交时间5-10分钟，举而不坚。请问这是肾阴虚还是阳虚': list index (0) out o\n",
      "Error processing prompt '我家宝宝一出生就被诊断出尿道下裂，想问一下新生儿尿道口下裂怎么办': list index (0) out o\n",
      "Error processing prompt '我今年14岁，在7月13日开始来月经，今天已经7月26日，已经有14天了，仍旧没有完全退去，但这总是出现棕色，而不是血，原来来的天数是7天一个月，怎么这次变成14天了？是得了什么病吗？': list index (0) out o\n",
      "Error processing prompt '昨天，避孕套破了，纠结于，哺乳期紧急避孕药吃哪些，有可以不停母乳的么？': list index (0) out o\n",
      "Error processing prompt '那如何判断精子正常呢？，那如何判断精子正常呢我的情况是手淫照成的勃起只有11公分': list index (0) out o\n",
      "Error processing prompt '痔疮微创后怎么老感觉有东西堵的上，大便也很顺畅，就是感觉有东西堵': list index (0) out o\n",
      "Error processing prompt '一次吃6包感冒清热颗粒会怎么样，会死吗？有副作用吗？求医生帮忙，告诉我，谢谢谢谢谢谢谢谢': list index (0) out o\n",
      "Error processing prompt '我这样的情况算不算阳痿，我在去年前年和女友做爱感觉很正常，今年是另一个女孩了第一次和她做，还没插进去就射了曾经的救治情况和效果：没看过': list index (0) out o\n",
      "Error processing prompt '告诉我吲哚美辛胶囊是通过什么途径减轻疼痛的。月经期经痛': list index (0) out o\n",
      "Error processing prompt '便秘三天了有时候肛周会有一点血但无血便以前从来没有过这种情况感觉有点担心是不是肠道出问题了': list index (0) out o\n",
      "Error processing prompt '梦遗时下意识用缩肛功憋回去有事吗？，梦遗的时候反射性用缩肛功憋回来了会有事吗？就流出的一点儿半透明的液体，黏黏的。我有精索静脉曲张2.4，会不会缓解，我戒撸一个月了，这次梦遗，搞的我很烦。除了左小腹有是会疼，和左侧精索静脉曲张关于么，吃什么药？': list index (0) out o\n",
      "Error processing prompt '我女朋友前几天确诊是尖锐湿疣病毒是高危型的医生让手术治疗': list index (0) out o\n",
      "Error processing prompt '月经推迟五天用排卵纸测到强阳这是怎么回事？': list index (0) out o\n",
      "Error processing prompt '今天产后46天42天的时候恶露干净了去复查大夫说阴道炎开了康妇炎宁跟甲硝挫宁栓还有红核洗液昨天开始肚子像来月经时候的疼有一点点血~不知道怎么回事': list index (0) out o\n",
      "Error processing prompt '弱精有哪些危害，结婚数年，一直没有没有孩子，去医院检查是弱精症，请问严重弱精症能吃生精胶囊吗': list index (0) out o\n",
      "Error processing prompt '您好，我无痛人流五天了，之前做完血流量少，第四天就没血了，第五天了腹痛厉害，就跟月经疼痛一样是怎么回事？': list index (0) out o\n",
      "Error processing prompt '小便不畅，小便滴沥。尿等待。尿频！可能是急性前列腺，请问治疗前列腺多少钱，严重嘛？': list index (0) out o\n",
      "Error processing prompt '做完人流后21天小腹坠疼的难受不想吃饭': list index (0) out o\n",
      "Error processing prompt '月经期，喝玛咖红枣红糖水，晚上胃涨气，疼痛到手脚发麻，不停打嗝放屁，不知道这两者间有没有关系': list index (0) out o\n",
      "Error processing prompt '血清检查，单纯疱疹病毒I型抗体IgG为阳性。单纯疱疹病毒长在私处，需要咋样医治。谢谢医生': list index (0) out o\n",
      "Error processing prompt '外阴脓肿疼的特别厉害，已经住院治疗，医生建议手术治疗，不做手术可以消肿止痛吗': list index (0) out o\n",
      "Error processing prompt '我每次来月经都腹痛，而且疼痛难忍，需要吃镇痛药。月经经常会推迟几天来。这次月经比以前还异常，第一天第二天多，有血块，颜色深，小腹疼痛难忍。第三天很少，第四天又多起来，小腹稍微胀痛，有血块，颜色都很深，而且有块像肉的东西。第五天没有，我以为结束了，可是第六天又有，需要垫护垫，第七天又有，需要垫护垫。以前没有这么拖拉。今天就是第四天，还没有完全干净。请问医生，这是怎么回事？非常感谢。': list index (0) out o\n",
      "Error processing prompt '关于输精管堵塞有什么方法治疗？，医生你好，我今年27岁，我和我老婆结婚一年多了，一直很想要个孩子，但是多次努力也没有结果，没办法去到医院检查医生说是我输精管堵塞。想知道输精管堵塞了该怎么治疗，求解答！': list index (0) out o\n",
      "Error processing prompt '如其出血量与平时月经量差不多，可将其当做一次月经，出血干净后应立即采取常规避孕方法。如出血量很少，则不需要做任何处理，但仍需注意避孕，直到下次月经来潮。常规避孕方法是啥意思，还要继续吃药？': list index (0) out o\n",
      "Error processing prompt '我的儿子两岁半，前天晚上开始鸡鸡红肿，说疼，昨天严重了点，特别是头部，肿的有点厉害，说疼得也比昨天严重。我想问一下该怎么缓解，孩子晚上睡不好。': list index (0) out o\n",
      "Error processing prompt '慢性盆腔炎，解脲支原体核酸阳性，经期一完就发炎特痒有灼热感，有三四个月症状': list index (0) out o\n",
      "Error processing prompt '外痔是什么病因引起的？，我最近肛门处疼的受不了，导致我都无法正常的上班和睡觉，但是因为是外痔，长在那么尴尬的地方又不好意思去医院检查，请问：外痔是什么病因引起的？': list index (0) out o\n",
      "Error processing prompt '用扩阴器检查白带后阴道持续出血，有宫颈糜烂': list index (0) out o\n",
      "Error processing prompt '药流后第四天就没有血了，正常么？还需要服用新生化颗粒么？': list index (0) out o\n",
      "Error processing prompt '做爱后第二天，全身像被淘空了，头晕，乏力，经常这样，有一年了，怎么治': list index (0) out o\n",
      "Error processing prompt '自然流产一个月整了，请问是不是要等第一次月经干净后才能同房吗？': list index (0) out o\n",
      "Error processing prompt '月经过4天同房会不会怀孕，如果第五天是排卵期会不会怀孕': list index (0) out o\n",
      "Error processing prompt '和艾滋病患者无套性交一次被感染的几率大吗？': list index (0) out o\n",
      "Error processing prompt '我上个月才发现我的龟头以及包皮之处有一点互相粘连的，龟头部位可以被露出来，会稍微有一点影响平时的性生活，虽然老婆没有说什么，但是我还是有点觉得愧疚，医生说是得了包皮系带粘连。': list index (0) out o\n",
      "Error processing prompt '医生你好，我今年十八岁，手淫四年了，以前基本一星期一次，上高中以后基本一个月一次，刚刚不小心看到了一些不健康的视频，自制力差又手淫了，危害大吗，会影响我的学习吗，昨天刚梦遗，今天就手淫了。': list index (0) out o\n",
      "Error processing prompt '想了各种方法就是没办法让下面硬起，或者硬起了却坚持不了多久，挺痛苦的，听我朋友说他以前也有这种情况，后来用了耐美尔延时喷剂就好了，我是半信半疑': list index (0) out o\n",
      "Error processing prompt '尖锐湿疣。阴道内有很多看的见的肉芽，用了派特灵也不见起作用。吃了匹多莫德片，头疼难忍，我想换药，网上说用鬼臼毒素酊、咪喹莫特疗效不错，我想用在阴道里可以吗？会不会对以后生育有影响？？需要继续吃匹多莫德吗？': list index (0) out o\n",
      "Error processing prompt '上个月8号破腹产，前天大便疼，然后发现外面长了一个小肉疙瘩，今天大便有血流出来，好像是血丝还是血块的。是外痔吗？（哺乳期）怎么根治？': list index (0) out o\n",
      "Error processing prompt '一个半月前有过一次性交，前两天尿道管痒，现在排尿刺痛感，灼热，清晨尿道口有白色分泌物。老公查出淋病，好担心自己也被传染。': list index (0) out o\n",
      "Error processing prompt '卡马西平片药理作用': list index (0) out o\n",
      "Error processing prompt '健慰环的用法用量': list index (0) out o\n",
      "Error processing prompt '月经推迟一个星期，我的月经来了九天了怎么还没停？': list index (0) out o\n",
      "Error processing prompt '4月24做的人流，今天去看，说没清干净，医生开了三天的宫缩素，妇乐片和独一味分散片，这些有用吗，会不会又挨清宫，求各位医生建议！': list index (0) out o\n",
      "Error processing prompt '你好！就是我包皮手术已经14天了我实在忍不住了12号打了飞机五月9号打了一次飞机我知道不能打飞机可是我就是忍不住了我尽量戒了吧！': list index (0) out o\n",
      "Error processing prompt '我最近有点尿不尽，而且偶尔会有尿末端有白色浑浊液体，而切睾丸有些类似血管区张，包皮过长，马上要过年了，想利用放假时间去治疗一下，不知道治疗以上症状需要什么方法和药物，是否需要太长时间，对生活和工作是否有影响，能否一次治愈。': list index (0) out o\n",
      "Error processing prompt '身体发热，特别是眼睛，很干，眼屎很多，而且我现在整天都一直有种想要上厕所的感觉，尿频尿急的。医生说我这是梅毒。而且早上起来的时候上厕所尿道会有痛感，很痛。': list index (0) out o\n",
      "Error processing prompt '睾丸炎应该注意些什么？，平时这个人老是感觉到自己的睾丸那边疼痛，到现在其实已经有一段日子，但是由于自己的工作一直很忙碌，都没有及时去看，但是最近抽空去看了，结果一检查，发现自己得了睾丸炎，本人平时的生活上也很爱干净的。': list index (0) out o\n",
      "Error processing prompt '月经十几天还没停，阴道痒，腰酸，粉状黑褐色分泌物，怎么回事？？': list index (0) out o\n",
      "Error processing prompt '你好，最近几天肛门呈现撕裂般疼痛，只有坐着的时候不痛，并且有四天未排大便，大便带血和一些像痰一样的东西，请问是什么症状，需要注意些什么': list index (0) out o\n",
      "Error processing prompt '宝宝总是喜欢撅着屁股使劲，怎么回事？我家女宝宝10个月，抱着的时候，总是喜欢将胸口和肚子紧贴家长，抓着大人衣服，撅着屁股使劲，有时累得满头大汗，换个姿势抱还会哭闹，请问这是怎么回事？宝宝吃饭，大便都很正常': list index (0) out o\n",
      "Error processing prompt '阳痿早泄的临床症状，我的男友在我们刚同居的时候能坚持大概20分钟，现在同房他都是前戏做的时间很长，然后在进去，几分钟就射了，有的时候做着做着就软了，都没办法在进去了。': list index (0) out o\n",
      "Error processing prompt '请求提供影响雌激素/孕激素百分比的疾病有哪些？糖尿病对荷尔蒙分泌的影响': list index (0) out o\n",
      "Error processing prompt '尿痛出血还长疙瘩为什么，和老婆平时性生活都比较正常，可是最新我感觉我的尿道那里有点不舒服，而且10几分钟就想尿一次，尿尿的时候还火辣辣的感觉，有点疼痛，尿痛破皮长疙瘩。问一下尿痛出血长疙瘩为什么？': list index (0) out o\n",
      "Error processing prompt '昨天晚上痔疮突然痒是内疮，睡不着，痒的想抓有什么办法能不认他痒吗？，还是第一次痒': list index (0) out o\n",
      "Error processing prompt '请描述肛门瘙痒的鉴别方法': list index (0) out o\n",
      "Error processing prompt '您好，我最近出现了早泄症状，已经有两年了，近半年病情加重，晨勃减少，医生检查后说里面存在一点病菌。我想请问需要怎么治疗？吃药能好吗？': list index (0) out o\n",
      "Error processing prompt '蛲虫性阴道炎的诊断是什么？什么是蛲虫性阴道炎的诊断？': list index (0) out o\n",
      "Error processing prompt '子宫内膜炎症状有哪些，我去年结的婚，最近总是肚子小腹疼痛，尤其是来事那几天，很害怕影响生育，而且十分的怕冷，怕寒。请问子宫内膜炎症状有哪些': list index (0) out o\n",
      "Error processing prompt '身体一直都很好的，但是这段时间感觉前列腺疼痛，还出现了尿频、尿急等症状，去药店买了一些药吃了，但是没有什么效果，想知道治疗前列腺的常规方法，打算过几天去医院检查和治疗。': list index (0) out o\n",
      "Error processing prompt '如何进行阴道检查？这个检查对身体有哪些影响？': list index (0) out o\n",
      "Error processing prompt '好像是从上个月开始白带就变的比较多，有时候下腹会疼，去检查说是盆腔积液，盆腔积液有什么症状表现啊，除了这些还有别的吗': list index (0) out o\n",
      "Error processing prompt '这种药物和食物有哪些禁忌？奥氮平': list index (0) out o\n",
      "Error processing prompt '我想咨询一下明医？我跟老公做爱的时候为什么下面没有水，这是我觉得很苦恼的事？': list index (0) out o\n",
      "Error processing prompt '我现在剖宫产62天了，在47天的时候同房了，一直担心怀孕！今天用晨尿试纸试了一条杠！我一直没来月经的，但是奶水比从前少了很多，怀疑是怀孕了，如果不是奶水为什么少了？这个准不准啊？求老师解答！谢谢': list index (0) out o\n",
      "Error processing prompt '3岁儿童阴茎肿大怎么办': No candidates return\n",
      "Error processing prompt '最近一段时间前期白带异常有异味儿用药用洗液以后明显好转之后腹痛去医院检查出附件右侧有囊肿现在腹痛该用什么药缓解该怎么治疗？': list index (0) out o\n",
      "Error processing prompt '你好医生，吃了达英三五两个月，用药期间同房还会怀孕吗，射精不多，基本都带套戴套，没戴套时，没射精，但龟头溢出了点、': list index (0) out o\n",
      "Error processing prompt '我最近有下阴痒的症状，同时乳房也疼痛，有一小块硬物，想知道应该挂什么科室，以及在月经走的第几天去看诊比较合适。': list index (0) out o\n",
      "Error processing prompt '我吃完避孕药第二天就出血今天是第6天了怎么还有': list index (0) out o\n",
      "Error processing prompt '请教医生，阴道炎是怎么引起的，快速的办法': list index (0) out o\n",
      "Error processing prompt '想要通过什么方式才能轻松安然的进行性行为？第一次做的感受非常不好': list index (0) out o\n",
      "Error processing prompt '包皮过长会给男性带来哪些危害？最近才知道原来自己也有包皮包茎现象': list index (0) out o\n",
      "Error processing prompt '我最近下腹左侧痛，腰痛，总想拉尿，白带异常，特别是夫妻生活过后更明显': list index (0) out o\n",
      "Error processing prompt '我慢性阴道炎几年治疗都不敢同房，但是怎么都治疗不好，经常3个白细胞加，我上月塞了药后好了些感觉，所以这次月经后几天就漂流一次，接着喝了半小杯子啤酒，微辣一点，晚上十二点睡，而且试试同房来下，但只是进入了3分之一一下，请问，这些行为是否加重了炎症？': list index (0) out o\n",
      "Error processing prompt '你好，老婆怀孕七个月，发现老公在偷偷的手淫，该不该揭穿老公，揭穿老公会对他有什么心里伤害吗？': No candidates return\n",
      "Error processing prompt '冲的时候很舒服但是冲完之后又有些疼，如果这样不好有什么节制的方法吗？': list index (0) out o\n",
      "Error processing prompt '肛门息肉症状治疗': list index (0) out o\n",
      "Error processing prompt '我今年18.包皮过长，有早射的现象，是不是手淫太多，还没做包皮手术，早射怎样医好，谢谢': list index (0) out o\n",
      "Error processing prompt '阴茎两侧特别是右侧青筋突出明显，这两天手淫勃起之后出现，已经三四天了，没有任何不适，是不是静脉曲张了，如何让青筋消退': list index (0) out o\n",
      "Error processing prompt '龟头和包皮里面总有白乎乎的东西，请问这是什么病？有什么治疗方法？': list index (0) out o\n",
      "Error processing prompt '怎么样防止附睾炎复发': list index (0) out o\n",
      "Error processing prompt '药流48天了，身上还没有来怎么回事，做完药流15天查的一切正常，现在怎么还没有来月经，药流前查的清洁度为2，是不是这个引起的，很担心不知道该怎么好，请医生提点意见': list index (0) out o\n",
      "Error processing prompt '我有一个问题，我的阴茎包皮内有像疱疹似的小包，不痛不痒，但到晚上会有瘙痒，想问一下怎么进行治疗，这种情况严重吗？可以治好吗？': list index (0) out o\n",
      "Error processing prompt '重度宫颈糜烂会造成什么后果': list index (0) out o\n",
      "Error processing prompt '甲状腺转移淋巴癌能同房吗，淋巴癌化验、中性，做了手术能不能同房': list index (0) out o\n",
      "Error processing prompt '描述以下疾病的症状是什么？尖锐湿疣前期症状': list index (0) out o\n",
      "Error processing prompt '月经最后一天能做爱吗？，月经周期正常，规律。经期长5-7天不等。第一、二天月经量很多，到第三天，基本不流血了，只有一点点脏东西，一片护垫就可以了。这样持续了三天，也就是第五天，突然很想做爱，这时候能做爱吗？我一直是月经正常规律，最初只是血暗红，后来通过中医调理，现在血也是鲜红的，没有其他疾病。无': list index (0) out o\n",
      "Error processing prompt '外阴瘙痒能用高锰酸钾消毒片洗吗？，外阴瘙痒能用高锰酸钾消毒片洗吗？是阴道炎': list index (0) out o\n",
      "Error processing prompt '乳头状肿物的治疗和预防方法': list index (0) out o\n",
      "Error processing prompt '你好我是上个月十二号了的月经这两天测试在排卵期这两天有同房今天乳头洗澡有点疼是什么原因': list index (0) out o\n",
      "Error processing prompt '宝宝三个月我患阴道炎能治吗，宝宝三个月的时候我患了霉菌性阴道炎去医院开了红核洗液和硝呋太尔片一周的时候就来月经了我就把药停了月经期间不痒了但是月经完了又已经开始痒您好用什么药能好的快点对哺乳又没影响呢醋酸氯已定洗液好用么': list index (0) out o\n",
      "Error processing prompt '我月经这个月十一号走了，这个月二十五号跟男友做爱了，三天后阴道流血了怎么回事': list index (0) out o\n",
      "Error processing prompt '乳沟痒，每个夏季都氧。抓它会破皮。。。。。。': list index (0) out o\n",
      "Error processing prompt '平时都挺好的，跟闺蜜一起做检查的时候检查出了支原体感染，支原体感染的途径有哪些啊，会不会是我老公传染的啊': list index (0) out o\n",
      "Error processing prompt '中度宫颈炎不需治疗吗，我前几天做了宫颈涂片检查，结果显示为中度发炎。具体结果为：细胞项目：  有鳞状细胞           有内宫颈细胞           有化生细胞微生物项目：未见念珠菌           未见滴虫病毒项目：  未见疱疹病毒感染             未见乳头瘤病毒感染': list index (0) out o\n",
      "Error processing prompt '咨询一下医生，农村老家洗澡用的大盆里装过很多泥鳅还能用来洗澡么？？？这样子使用会不会有小的泥鳅的卵进去女性生殖系统啊？': list index (0) out o\n",
      "Error processing prompt '睾丸下垂一般情况下该怎么治疗好，最近发现我的睾丸下垂，很痛苦，请问医生睾丸下垂一般情况下该怎么治疗好': list index (0) out o\n",
      "Error processing prompt '请问一下经常尿裤子是怎么回事拉尿老是拉一点点在短裤上': list index (0) out o\n",
      "Error processing prompt '我昨天晚上用了一片阴道片，今天早上吃了一片地曲孕酮片，中午就发现自己下边有血了，这是什么情况？那个要还要接着吃么？阴道片还可以在周四继续使用么？': list index (0) out o\n",
      "Error processing prompt '做完人流手术有18天了，大概一个星期就没有出血了，手术后第十天去医院做了检查，说子宫清的挺干净的没什么问题，可是最近这一个星期出现三次腹痛的情况是怎么会事呀？': list index (0) out o\n",
      "Error processing prompt '之前有过龟头炎医生让用康复新液浸泡现在已经隔了好久了算是冠状沟处还是有些许白色垢是什么原因。？是龟头炎没好么': list index (0) out o\n",
      "Error processing prompt '包皮过长会引起前列腺吗？我的包皮明显过长，但是也不影响性生活，所以也没有去管他，我想年轻的时候都没有做手术，现在都娶了老婆了在做手术多丢人呀，但是最近尿频、尿痛、尿急，我想很可能是得了什么病了，果然，去医院检查说我得了前列腺炎。': list index (0) out o\n",
      "Error processing prompt '安全期吃了紧急避孕药第三天易孕期没带套没射会怀孕吗': list index (0) out o\n",
      "Error processing prompt '针对下列症状，请问需要进行哪些治疗？是否需要手术治疗？内痣外痣混合痣，肛门从内往外鼓包，是痔疮犯了么？': list index (0) out o\n",
      "Error processing prompt '阳痿多长时间能缓解？，您好大夫早泄多长时间能治好？平时在生活上应该怎样调养？曾经的治疗情况和效果：您好大夫早泄多长时间能治好？平时在生活上应该怎样调养？在乎怎样的协助：您好大夫早泄多长时间能治好？平时在生活上应该怎样调养？': list index (0) out o\n",
      "Error processing prompt '化疗多久精子恢复正常，我表哥他得了癌症，采用了化疗的治疗方法，但是化疗对他的精子有一定的影响，目前他也没有孩子，我想问一下化疗多久精子会恢复正常呢？': list index (0) out o\n",
      "Error processing prompt '女朋友一个月没来月经小腹疼吃东西感觉胃不舒服，一个月做爱很频繁每次都带套，请问怎么回事': list index (0) out o\n",
      "Error processing prompt '最近有点腰酸去医院检查时医生说我有盆腔积液，盆腔积液是什么，怎么治疗？': list index (0) out o\n",
      "Error processing prompt '4.2号人流的开始流血非常少颜色淡红色4.7开始血就相对较多一点颜色也深了不过比月经量少很多请问是怎么回事我这两天走路可能稍微有点多': list index (0) out o\n",
      "Error processing prompt '脂肪肝防治英语，我今年40岁，最近我常感觉疲劳，腹胀，肝部不适，而且暖气，有时有点疼，恶心，朋友都劝我去医院检查，经检查说是轻度脂肪肝，不必治疗，只要生活上注意点就行了.': list index (0) out o\n",
      "Error processing prompt '患霉菌性阴道炎要不要口服药物': list index (0) out o\n",
      "Error processing prompt '今天洗澡时候发现下面阴道外阴唇靠里面一点有一颗痘痘一样得。应该是疣。前几年有过，但是很长时间没发现复发了。想知道是不是复发了。自己很长时间没有性生活。想知道什么原因。': list index (0) out o\n",
      "Error processing prompt '前段时间白带比较多，而且同房后会有血，让老公带我去做检查，结果检查出了衣原体感染，女性衣原体感染必须治疗吗。': list index (0) out o\n",
      "Error processing prompt '白带平时较多，而且带有异味，平时很不舒服，请问这是什么原因呢？': list index (0) out o\n",
      "Error processing prompt '想当妈妈了，月经正常，每月21号，请问哪天同房容易怀孕啊？': list index (0) out o\n",
      "Error processing prompt '针对以下症状需要检查哪些方面？阴茎勃起障碍、尿道有浓白分泌物': list index (0) out o\n",
      "Error processing prompt '我最近白带比较多，而且有时候好像是月经没完一样，带有血丝，和男朋友过夜的时候也会有流血的症状，检查后，医生说是宫颈息肉，要动手术。': list index (0) out o\n",
      "Error processing prompt '你好，我老公好像早泄，请问肉苁蓉怎么服用，两三分钟就射精': list index (0) out o\n",
      "Error processing prompt '性生活频繁阳痿，有没有一种药性平和的阴阳同调的中成药可以治疗这种情况的。': list index (0) out o\n",
      "Error processing prompt '上个月22号做的药流，27号复查子宫内膜厚15mm，开始服用新生化颗粒，今天8号流出约3厘米的东西，感觉有点硬，在这期间已经不流血，到偶尔会有褐色的丝状流出，今天流出的是什么呢，现在有一点点血流出，这是什么情况': list index (0) out o\n",
      "Error processing prompt '有一次拉屎拉不出来！硬拉拉出了很多血！擦的时候发现有血！今天拉屎的时候跟平常一样，没有拉不出来！擦的时候发现有血！麻烦医生了！到底这是怎么回事！详细点！谢谢了！': list index (0) out o\n",
      "Error processing prompt '请问人流后第六天和第七天流血了正常吗，血是褐色的，就一点点，刚做完的时候根本都没怎么流血': list index (0) out o\n",
      "Error processing prompt '早泄。性生活时间短，阴囊潮湿，瘙痒。': list index (0) out o\n",
      "Error processing prompt '外阴白色病变的预防措施有哪些？': list index (0) out o\n",
      "Error processing prompt '我想咨一下医生，同房后肚子痛是怎么原因。谢谢': list index (0) out o\n",
      "Error processing prompt '为啥我做第三次爱的时候开始会疼痛还会出血？': list index (0) out o\n",
      "Error processing prompt '妇女带环有什么影响吗，本人下体特别痒，而且内衣上总是黄黄的，怎么回事？请问妇女带环有什么影响吗': list index (0) out o\n",
      "Error processing prompt '阴道分泌出豆腐渣白带，白带多，有异味别的没啥症状，去药店给我拿的消靡拴，康妇科炎片还有一种消炎药，还有红河洗液，我想知道，消靡拴到底用不用使用': list index (0) out o\n",
      "Error processing prompt '医生您好，我例假4.5号来的，但从例假结束到4.10号一直有褐色分泌物，10号晚上同房了，我和男友是第一次同房，他才进去一半，我很痛，才几下，我实在忍不住，他就出来了，但他出来时在外面射了一点点，这样会不会怀孕呢？？？？？？': list index (0) out o\n",
      "Error processing prompt '为什么我阴唇长了白色颗粒的东西还会痒，是不是很严重，16岁，没有性生活': list index (0) out o\n",
      "Error processing prompt '小儿尿道下裂要如何治疗？，病情描述：阴茎不通尿道口在阴茎与阴囊连接处曾经治疗情况和效果：今年五月份手术失败想得到怎样的帮助：求助这方面治疗的专家': list index (0) out o\n",
      "Error processing prompt '10月24号做的人流，出血两天，现在一个月了，小腹胀痛一天了怎么回事': list index (0) out o\n",
      "Error processing prompt '如何降低龟头冠状沟敏感度': list index (0) out o\n",
      "Error processing prompt '梅毒128滴度可能感染艾滋病吗': list index (0) out o\n",
      "Error processing prompt '阴囊积液是什么症状': list index (0) out o\n",
      "Error processing prompt '你好，最近发现肛门长了一点小肉，大便痛，怎么回事': list index (0) out o\n",
      "Error processing prompt '我最近去医院检查发现精子畸形率偏高，想知道这种情况严重吗？如何调理？调理多久可以备孕？': list index (0) out o\n",
      "Error processing prompt '之前药流过，这是第二次来月经，肚子很痛，躺着久了不痛，一起来就痛，第一次月经也是这样，吃不下饭，怎么回事，而且还有尿频，想上厕所，又拉不出来': list index (0) out o\n",
      "Error processing prompt '吃了100多片止疼片现在已经超过24小时了，只是胃疼，': list index (0) out o\n",
      "Error processing prompt '我洗下面的时候，感觉下面有块肉，扒开就能看到。是什么问题，？？？会不会是宫颈癌？': list index (0) out o\n",
      "Error processing prompt '如果狂犬病潜伏期才打狂犬疫苗有用吗？？？？？': list index (0) out o\n",
      "Error processing prompt '为什么排尿的地方，有白东西，并且过了一段时间，为什么有血': list index (0) out o\n",
      "Error processing prompt '您好，我想请问有没有办法能够推迟生理期？因为这次来月经的时间会影响我的考试。': list index (0) out o\n",
      "Error processing prompt '外阴阴道念珠菌病患者吃什么好？': list index (0) out o\n",
      "Error processing prompt '医生你好我和老公同了几天房，最近这几天小腹有点胀，检查是秘尿性感染，不会是他感染我的吧？': list index (0) out o\n",
      "Error processing prompt '排卵靠后是什么原因有哪些': list index (0) out o\n",
      "Error processing prompt '没来大姨妈快一个月了，可是以前都是隔一个月来一次的。用验孕棒验过了，没怀，但是会经常放屁，而且出现过头晕想吐': list index (0) out o\n",
      "Error processing prompt '上个月14号来的月经，这个月还没来，今天同床体外射精，害怕怀孕吃了避孕药，问还有可能怀孕么': list index (0) out o\n",
      "Error processing prompt '其实就是我已经确诊了是尖锐湿疣，关键不知道怎么治疗，一直放着，这都一个月了': list index (0) out o\n",
      "Error processing prompt '怎么才能性功能更强，男，35岁，最近房事一直提不起兴趣。听说尿尿时，中途憋尿会让性功能更强，请问怎么才能性功能更强？': list index (0) out o\n",
      "Error processing prompt '怎样进行白带异常保养？白带异常': list index (0) out o\n",
      "Error processing prompt '上个月二十三号来的月经，九号排卵，二十号同房会怀孕吗': list index (0) out o\n",
      "Error processing prompt '关于精液常规检测，如果弄不出精液来又或者太过于紧张了，量少被紧张憋回去了，是不是有一种专门用于精液检测的避孕套来避免这种情况的，这种避孕套的全称叫什么，有什么牌子，在哪里可以买到。希望医生们可以解答一下我的问题': list index (0) out o\n",
      "Error processing prompt '您好医生，我大概是4月2、3号吃了一次紧急避孕药，后来出现少量出血，平时没事但一大便就出血，最后一次是16号大便时出血，今晚24号没有采取安全措施还能吃紧急避孕药吗？今早25号用排卵测试是一条线。等扔垃圾时发现第二道微微显一点': list index (0) out o\n",
      "Error processing prompt '精囊炎反复不爱好怎么治': list index (0) out o\n",
      "Error processing prompt '痔疮开始疼痛怎么办？你好，最我近肛门周围发性奇痒，搔抓局部后，就能看见皮肤破然后痛痒加剧，百度了一下说我得了肛门湿疹症状，请问一下肛门湿疹症状的治疗方法是什么谢谢了肛门湿疹的治疗方法是什么？哪个医院看痔疮好？': list index (0) out o\n",
      "Error processing prompt '月经之前有黑色白带正常吗有时会有一点红血正常吗': list index (0) out o\n",
      "Error processing prompt '四月二号去得洗浴中心没有带套，内射了，请问患艾滋的几率大吗': list index (0) out o\n",
      "Error processing prompt '我有痔疮的表现应该怎么办，2个月前开始的，还没有看过医生，也没有用药，肛门周围的小肉球很痒，大便时肉球会变大，肛门很痒就是': list index (0) out o\n",
      "Error processing prompt '早期白带异常治疗的方法是什么？，已经持续得有一个礼拜了吧，我的白带一直都是黄绿色的，而且量还特别多，气味也很重，这让我很烦恼，请问：早期白带异常治疗的方法是什么？': list index (0) out o\n",
      "Error processing prompt '药物有什么样的副作用？是否会产生依赖性？舒洛地特': list index (0) out o\n",
      "Error processing prompt '外阴阴道口局部瘙痒.是怎么回事用什么药、用盐水清洗可以吗、': list index (0) out o\n",
      "Error processing prompt '卵巢积液是怎么回事呢': list index (0) out o\n",
      "Error processing prompt '我的是左侧精索曲张，刚做完手术一个星期。请求介绍，为什么左侧睾丸比右侧大了好多呢？？？心里很难过，也怕': list index (0) out o\n",
      "Error processing prompt '下面这些药物是否能长期使用？黛力新和左匹克隆片': list index (0) out o\n",
      "Error processing prompt '为什么每个月都会有一次外阴或阴蒂痒然后破皮或者突起一个包，但几天又好了，去检查过几次白带都正常！为什会这样啊？': list index (0) out o\n",
      "Error processing prompt '我月经后两天，白带有点黄，用阴尔阴坐浴，我还是处女。水蛮多的，从脸盆里满出来了，药水会从阴道到孑宫吗？用了一天，现在白带少，也不黄了。我就想问问，药水会进入孑宫吗？': list index (0) out o\n",
      "Error processing prompt '人流后47天没来月经，之前同房了，后面有用试纸测过是一杠今天去医院尿检呈阴性（－）是什么情况？': list index (0) out o\n",
      "Error processing prompt '现在我对象竟然染上了尖锐湿疣，我非常的纳闷，难道是她在外满和别人发生了不洁的性关系，但她说根本没有这事，也不知道什么原因染上的，我也不能想那么多了，现在就像把这病治好。': list index (0) out o\n",
      "Error processing prompt '生完孩子两个月了，每天都有一点血排出，好烦，去做产后检查说恢复挺好，内膜厚约5mm，血也快排完了，到现在还有，是怎么回事？': list index (0) out o\n",
      "Error processing prompt '应该是没注意卫生引起的外阴瘙痒有什么药膏是可以经期涂抹的呢': list index (0) out o\n",
      "Error processing prompt '我和老公同房后他起了水泡，去医院看后是生殖性疱疹，我现在没什么感觉，我应该去医院检查什么，他起疱疹是不是我有病造成的？': list index (0) out o\n",
      "Error processing prompt '上厕所大便后用力擦屁股后有一点点血怎么办': list index (0) out o\n",
      "Error processing prompt '被检查出来是尖锐湿疣了，用中药效果好还是西药效果好呢？有什么办法能彻底治疗好不复发的吗？': list index (0) out o\n",
      "Error processing prompt '阴道积液，患者女，20岁.1，曾经3次无痛人流，医生说有积液，2，有时候发痒，白带有时带有异味，像水，伴有豆渣似的，3，月经量少，前一天是黑色.当地医院.': list index (0) out o\n",
      "Error processing prompt '前列腺痛是什么原因呢？，小便时尿痛、尿急、尿频，有时候尿道口有一些分泌物，身体也有些不适，全身无力食欲也不好，去医院治病，医生说我是前列腺痛': list index (0) out o\n",
      "Error processing prompt '最近一年勃起无力，中途疲软，没办法就吃金戈，吃了大约15粒了不想再吃了就去检查下面的检查报告，有手淫史，每天一包烟。没有酒瘾偶尔喝。': list index (0) out o\n",
      "Error processing prompt '排卵着床出血是什么颜色': list index (0) out o\n",
      "Error processing prompt '闺蜜告诉我她前检查出了盆腔炎，准备就吃药来治疗，因为平时工作比较忙，药物能根治慢性盆腔炎吗，吃什么药能彻底根治慢性盆腔炎啊': list index (0) out o\n",
      "Error processing prompt '为什么和女朋啪啪啪的时候她有嘴巴的声音？是每个女生都这样吗？为什么导致这个声音？这个声音代表她怎么了？': list index (0) out o\n",
      "Error processing prompt '采用什么方法可以治疗外阴白斑？，有什么办法解决，很难受困扰很久心里也不舒服求解决办法，外阴白斑能用什么方法治疗': list index (0) out o\n",
      "Error processing prompt '医生是这样的，我女朋友16号吃了避孕药，23号来了月经，22号又射在里面了。这种情况会怀孕么？因为听说这种叫撤退性出血。不知道这样会不会怀孕。': list index (0) out o\n",
      "Error processing prompt '你好，我备孕中，大姨妈一直都是准时15号来，这两个月没有避孕，上个月大姨妈推迟了九天24号来，这个月大姨妈到现在都没有来，上次大姨妈是3.24号，今天都5.4了大姨妈没来，用测纸测了没有怀孕，要不要去医院抽血看看呢？我这种是什么情况呢？': list index (0) out o\n",
      "Error processing prompt '女性尖锐湿疣的预防和治疗方法': list index (0) out o\n",
      "Error processing prompt '前列腺炎多久能恢复性生活': list index (0) out o\n",
      "Error processing prompt '孕妇缺钙用什么补比较好，本人下体特别痒，而且内衣上总是黄黄的，怎么回事？请问孕妇缺钙用什么补比较好': list index (0) out o\n",
      "Error processing prompt '前列腺炎疾病的主要症状有什么，救治前列腺肥大医院哪家好你好，再次出现小腹、会明、睾丸部有不适感，没结婚，得了前列腺炎怎么办？？？？？': list index (0) out o\n",
      "Error processing prompt '男子精子质量差怎么办': list index (0) out o\n",
      "Error processing prompt '最近大便时肛门处有一点感觉有撕裂痛，但只是刚开始大便时，后面就不痛了。而且刚开始的大便颜色比较深，而且干，一粒一粒的，后面出来的就是黄色湿润的了。好像擦拭的纸上没有发现血迹，便池里也没发现血迹。有痔疮史，06年左右的时候治疗过痔疮，当时大便便血，用了栓塞药，后面就好了。平时大便时会感觉有一坨肉露出肛门，大便完偶尔可以缩回去，有时候得用手弄回去。': list index (0) out o\n",
      "Error processing prompt '4号早上做爱内射的5号早上来了大姨妈。不会怀孕吧会中标？要不要吃避孕药可听别人说大姨妈来了吃避孕药会引起大出血？': list index (0) out o\n",
      "Error processing prompt '排卵日当天没有同房，排卵日后一天同房怀孕几率大吗': list index (0) out o\n",
      "Error processing prompt '右边乳头分开了，一半一半的。对以后小孩有影响吗？要不要动手术？': list index (0) out o\n",
      "Error processing prompt '我今年14岁做爱3次对身体有什么影响没为什么每次大姨妈来肚子会痛而且有时候连腿跟胸部也会痛是什么原因': list index (0) out o\n",
      "Error processing prompt '清宫后三天同房了。怎么力办？我买了阿奇霉素分散片吃可以吗？': list index (0) out o\n",
      "Error processing prompt '今年43月经很正常，性生活很和谐也没采取任何避孕措施可一直不怀孕是为什么？': list index (0) out o\n",
      "Error processing prompt '有阴道炎，刚刚治好，就被医生查出宫颈炎。我还是处女怎么会有宫颈糜烂': list index (0) out o\n",
      "Error processing prompt '你好，请问做系带埋线术治疗早泄有作用吗？': list index (0) out o\n",
      "Error processing prompt '停经三年多阴道太干燥了想问一问能怎么办？': list index (0) out o\n",
      "Error processing prompt '例假还有五天就来了，刚刚用了测卵纸测还在排卵而且比之前的颜色还深，怎么回事呢': list index (0) out o\n",
      "Error processing prompt '子宫肌瘤术后月经来不停，11天了，手术前也是月经问题，手术后还是一样问题。。。这正常吗？该怎么办？一直吃荷尔蒙药会副作用吗？': list index (0) out o\n",
      "Error processing prompt '请问宫颈癌前病变对性生活有哪些影响，注意什么，请问宫颈癌前病变对性生活有哪些影响，注意什么？能生孩子吗？': list index (0) out o\n",
      "Error processing prompt '前段时间检查阴道炎，常有褐色分泌物排出，放药十天，每天用凉水清洗阴部，出现红色发粘的分泌物，有关系吗': list index (0) out o\n",
      "Error processing prompt '你好，我老公阴茎上长溃疡，好多次，他会自己好，但是又会复发，是怎么回事，': list index (0) out o\n",
      "Error processing prompt '小孩只有一个睾丸应该怎么办？，我睾丸先天性畸形一直都不怀孕，后来想要孩子去医院检查医生说是睾丸畸形我的情况是不是很严重啊，请问小孩只有一个睾丸应该怎么办？': list index (0) out o\n",
      "Error processing prompt '您好，我六个月了，今天去做了四维彩超说宫腔粘连带，请问要怎么办': list index (0) out o\n",
      "Error processing prompt '你好问下我有外阴骚痒跟小便刺痛怎么办，要用什么药': list index (0) out o\n",
      "Error processing prompt '病毒感染是怎么回事引起的，在一个多礼拜前刚生了女儿，在医院住了4天就回家了。今天是回家的第5天，老婆就感觉人很累，头痛，恶心，干呕，伴发发烫，发烫到38度多，还有点尿频。没吃不干净的东西，也没发烧。去医院仔细检查了，医生说是产褥感染了。在乎怎样的协助：引来产褥感染的病菌有哪些来源？': list index (0) out o\n",
      "Error processing prompt '硫酸奈替米星葡萄糖注射液的副作用（不良反应）': list index (0) out o\n",
      "Error processing prompt '医生你好！我18岁女生可是我没有过性生活，不知道为什么经常流出透明色液体': list index (0) out o\n",
      "Error processing prompt '昨天排卵老公没有在，今天，明天同房还有机会怀孕吗': list index (0) out o\n",
      "Error processing prompt '滴虫性包皮龟头炎好治疗吗？，我感觉浮肿，龟头红我还发觉有红色斑和针尖样水泡.一点儿都不了解这个病，期望获得帮助。平日每日擦洗，但同学们说我身上有味.滴虫性包皮龟头炎好治疗吗？': list index (0) out o\n",
      "Error processing prompt '黄体期和黄体中期是什么意思': list index (0) out o\n",
      "Error processing prompt '阳痿早泄已经伴随我半年多了，想咨询下医生，阳痿早泄到底是哪些原因造成的，应该怎么办，注意哪些？': list index (0) out o\n",
      "Error processing prompt '刨腹产24天了，和老公同房了，有什么不好？': list index (0) out o\n",
      "Error processing prompt '两个月宝宝睾丸有积液要注意什么': list index (0) out o\n",
      "Error processing prompt '有性功能障碍怎样调理才好呢？，我不知晓是不是因为这段时间？工作压力太大了，我对性欲慢慢的越来越差，而且好象除了了性功能障碍，同房的时候不起有点不坚硬了，有性功能障碍怎样调理才好呢？': list index (0) out o\n",
      "Error processing prompt '我月经快来的时候乳房胀痛有硬块，月经过去就好了，而且我有先天性副乳，之前检查过一次，医生说没事，没有其他什么病变。就这次月经快来之前拔火罐之后特别疼，会不会是压的啦，伤到乳房了，感觉比以前硬了，还疼了，在那之前不是多疼的！问一下我属于什么情况，情况严重吗，有没有事情，有好多同学他们也这样的，还是说属于正常啊': list index (0) out o\n",
      "Error processing prompt '常见肛肠疾病是怎么治疗的，常见肛肠疾病是怎么治疗的': list index (0) out o\n",
      "Error processing prompt '我的最近两天同房时候同房后有一点点血，想问下这是怎么回事？严重吗？要怎么治疗': list index (0) out o\n",
      "Error processing prompt '前列腺炎如何来预防呢？，我老公最近老是憋不住尿，有时小便的时候有一种疼痛感，每次上厕所的时候好象非常着急的样子，而且也是老去，去医院仔细检查大夫说是轻微的前列腺炎，该怎么预防呢？': list index (0) out o\n",
      "Error processing prompt '睾丸一边有点下垂，现在七岁，感觉吸收营养不是很好': list index (0) out o\n",
      "Error processing prompt '毕业后一直跟男朋友同居，怀孕两次，都做了人工流产，最近总觉得下腹部疼痛，月经有点不正常，腰酸背痛的，现在结婚好几年了，性生活和谐，一直都没有怀孕，去医院检查，医生说是宫颈粘连。': list index (0) out o\n",
      "Error processing prompt '产后4个月，下面很痒，性生活完事后小便有点痛，有白带，小肚子阵痛，请问怎么回事': list index (0) out o\n",
      "Error processing prompt '我现在是青春期，还没有来月经，但是和我同龄的好多同学都来月经了，我对于应该什么时候来月经一点也不了解，来月经之前有哪些症状，有知道的赶快告诉我，非常着急。': list index (0) out o\n",
      "Error processing prompt '带套肛交会感染艾滋病吗，好担心害怕，真的好郁闷好烦我该怎么办': list index (0) out o\n",
      "Error processing prompt '您好，我最近备孕一年未能怀孕，而且我月经前小腹痛，月经期间也会感到小腹坠痛且有血块，我的月经周期为28-35天，不知道这是什么原因。': list index (0) out o\n",
      "Error processing prompt '男生殖器疱疹多久可痊愈': list index (0) out o\n",
      "Error processing prompt '例假本来没了，同房后又出血。这样会怀孕吗？': list index (0) out o\n",
      "Error processing prompt '我最近几个月的月经一直都不正常，经常会延后，每次来得经量都会有很多，平时还会有脓性的白带流出，下腹部会有疼痛的感觉，身体一直觉得很乏力。': list index (0) out o\n",
      "Error processing prompt '你好医生，四月底吃了一次避孕药，五月提前五天来了例假，五月底吃了一次避孕药，六月是不是会延后几天，让月经协调？因为我现在已经延后三天了，谢谢啦！': list index (0) out o\n",
      "Error processing prompt '你好，请问吃了藿香正气丸能不能吃秋水仙碱？急': list index (0) out o\n",
      "Error processing prompt '宫颈糜烂手术做完后，过了十几天就开始出血，截止到现在已经5-6天了，是怎么回事': list index (0) out o\n",
      "Error processing prompt '剖腹产后第四个月来第一次月经，5天结束，月经刚完同房，避孕措施失败，怀孕的利率大吗？现在还不准备再要一个孩子': list index (0) out o\n",
      "Error processing prompt '上个月十六号吃过一次避孕药，昨天跟男朋友做了，弄进去了，还可以再吃避孕药吗？上个月十二号来的例假，按说今天应该来的，但是没来，也不知道昨天算不算安全期，如果这次不吃避孕药会不会怀孕呢？': list index (0) out o\n",
      "Error processing prompt '今天的排卵期，昨天前天今天同房了，请问一下医生怀孕几率大吗？': list index (0) out o\n",
      "Error processing prompt '我下午五點吃的米索前列醇片，七點半就出血了，沒看到孕囊，晚上睡覺了能行嗎，會不會有影相啊，要多久能排出啊，': list index (0) out o\n",
      "Error processing prompt '请问女性梅毒怎么治疗的问题。我昨天去医院检查才知道得了性病，已经到了二期，请问我现在怎样治疗啊·能治好吗？请问女性梅毒怎么治疗啊？': list index (0) out o\n",
      "Error processing prompt '生完二胎四个月了，早上醒来腰疼要困的厉害，起床后就慢慢的没感觉了，还有同房的时候阴道特别的疼，无法继续下去，这情况是怎么回事啊？': list index (0) out o\n",
      "Error processing prompt '精索静脉曲张如何收拾可以好一点，精索静脉曲张什么症状？': list index (0) out o\n",
      "Error processing prompt '尿道口红肿分泌物较为浓性撒尿烧焦三四天了求医生辩解下': list index (0) out o\n",
      "Error processing prompt '关于以下药物，有什么副作用和注意事项？亚硝酸甲泼尼龙': list index (0) out o\n",
      "Error processing prompt '氟罗沙星注射液的副作用（不良反应）': list index (0) out o\n",
      "Error processing prompt '上一个星期，我淋了一点雨之后，就开始发烧了，差不多烧到39度，于是我记到医院检查，打了五天的针，并且还做了一个血液检查，在等那报告期间，我发现自己的内阴唇长了很多类似丘疹的小疙瘩，有一些异味，于是我又到医院检查，做了宫颈镜，医生说我感染了宫颈尖锐湿疣。': list index (0) out o\n",
      "Error processing prompt '跟闺蜜一起去做检查的时候她检查出了衣原体感染，女性衣原体感染是性病吗，她平时都不会在外面乱来的啊。': list index (0) out o\n",
      "Error processing prompt '小阴唇上发现一个溃疡，小小的脓包，是怎么回事啊，通过什么引起的，不疼，不痒，就是最近几天尿频，尤其是晚上': list index (0) out o\n",
      "Error processing prompt '今天刚医院检测到卵泡，还没排卵，买了排卵试纸，这几天打算测试一下，但给我做b超的医生说我卵泡很大了，再大的话有可能不会排卵，想问下：这种情况会有吗？': list index (0) out o\n",
      "Error processing prompt '精囊炎血精怎么办，我有血精这个疾病，我的精液里面带着一些血，我现在没有办法受孕，下专家这个血精这个疾病要怎么治疗才好啊？精囊炎血精？': list index (0) out o\n",
      "Error processing prompt '五月二十八号来的例假，三号例假走了，然后六号晚上同房七号早上吃的避孕药，毓婷的，十号又同房，射进去了，十一号早上又吃了一片避孕药，左炔诺孕酮片的药，我今年19岁，之前从没吃过避孕药': list index (0) out o\n",
      "Error processing prompt '我先生到医院检查，医生说我先生稍微有点弱精，不知道弱精能不能自然受孕？吃什么药才可以调理正常？': list index (0) out o\n",
      "Error processing prompt '盐酸表柔比星注射液成分或处方': list index (0) out o\n",
      "Error processing prompt '这个月和上个月都提前了结婚三个月还没怀孕': list index (0) out o\n",
      "Error processing prompt '你好我放环前一天同房了，但是当时大夫没问我，后来我才知道这样不好，现在我该注意什么。': list index (0) out o\n",
      "Error processing prompt '我之前有霉菌阴道炎医生给开的银尔洁洗液说男的要一起用，可是男的要怎么用？不稀释用棉球擦一擦可以吗？': list index (0) out o\n",
      "Error processing prompt '上个月15号女友来的大姨妈，这个月1号带套做爱的，今天15号了还没来大姨妈，会不会怀孕呀！跪求': list index (0) out o\n",
      "Error processing prompt '怀孕差不多7周了，晚上睡觉外阴痒，好像都没有白带来，请问可以用盐水冲洗吗？': list index (0) out o\n",
      "Error processing prompt '已婚女性易得附件炎的8大原因': list index (0) out o\n",
      "Error processing prompt '服用盐酸依米丁注射液须注意的事项': list index (0) out o\n",
      "Error processing prompt '最近这段时间，每次尿尿都尿不完，还有针扎的感觉，尿液很黄，睾丸有点肿大，做爱的时候，碰到就会疼，平时会有隐隐的坠痛，难受的很，去医院做了检查，结果是睾丸炎。': list index (0) out o\n",
      "Error processing prompt '20岁，7号有过一次性生活，之后11号来月经之后十天一直是白带褐色，不痛不痒白带也没味，不想去医院，应该怎么办': list index (0) out o\n",
      "Error processing prompt '我最近在性生活中遇到了一些问题，包括阴茎硬度不足、早泄以及正常勃起困难等症状，同时有时候左侧睾丸有点隐隐作痛，尿尿的时候总感觉没尿完。一到晚上就尿多。我想知道这些症状是否需要去门诊就医，还有需要进行什么检查？谢谢。': list index (0) out o\n",
      "Error processing prompt '为什么射精快性爱时间较短，射精快，性爱时间较短，包皮经常紧紧包裹着龟头，阴茎不是太长太大，龟头太敏感': list index (0) out o\n",
      "Error processing prompt '上个月20号来的月经，这个月十四号为什么胸还没有涨': list index (0) out o\n",
      "Error processing prompt '你好必医生你好疱疹可以治疗好吗有些什么症状？包皮上长水泡泡过一个星期自己就好了': list index (0) out o\n",
      "Error processing prompt '屁股长了一片痘痘，今天是第4天了，用了百多邦。也好几天了，反而更多了。': list index (0) out o\n",
      "Error processing prompt '急性盆腔炎要如何疗？': list index (0) out o\n",
      "Error processing prompt '阴道黑色素瘤的预防措施有哪些？': list index (0) out o\n",
      "Error processing prompt '龟头恶臭味怎么回事': list index (0) out o\n",
      "Error processing prompt '我一直有痛经的毛病，主要就是来月经前的一二天开始，特别是第一天，有时候痛的我什么也不想做，不想躺着不动，后面几天会慢慢的缓解，月经干净了，就一点也不能了，以前我一直以为这样正常，可是最近听说，如果有子宫内膜异位会引起痛经，心里很怕。': list index (0) out o\n",
      "Error processing prompt '日常生活中要怎么样来预防工作盆腔炎？，自己备孕一年没成功，后来就跟老公一起去医院做了各方面的仔细检查才发现自己患多囊卵巢囊肿，医生说也正是这个原因引发我不育的，药也吃了好些怎么不见好！多囊卵巢囊肿治疗方法？': list index (0) out o\n",
      "Error processing prompt '怀孕初期还会有例假出现吗？，怀孕初期还会有例假出现吗？': list index (0) out o\n",
      "Error processing prompt '腹股沟肉芽肿的预防措施有哪些？': list index (0) out o\n",
      "Error processing prompt '依托红霉素胶囊的副作用（不良反应）': list index (0) out o\n",
      "Error processing prompt '一直都有痛经的毛病，现在还产生了经量越来越少的情况，白带一直比较多，结婚这么多年来，也是一直没有怀过孕，后来去医院做了检查，医生说我是子宫粘连，需要手术以后才能解决问题。': list index (0) out o\n",
      "Error processing prompt '请问做了阴茎静脉关闭加龟头激光手术会不会导致阴茎变短？一般成年人阴茎会不会变短，现在有夜间勃起，没有晨勃正常吗？？刚手术没有10天。': list index (0) out o\n",
      "Error processing prompt '你好，我儿子今年4岁半，我这两天发现他睡觉喜欢趴着睡，而且刷手捂着下身，在床上来回蹭，看他的样子好像还特别舒服，请问他这是性早熟吗？我是不是应该带他去医院看看': No candidates return\n",
      "Error processing prompt '青春期阴茎弯曲能到长大后再去手术吗或者现在还没发育完有没有什么办法可以调节因为我没支付宝所以不能设置什么悬赏所以只能请有心的专家指点一二了谢谢': list index (0) out o\n",
      "Error processing prompt '解析一下鸦胆子的成分及其药理作用': list index (0) out o\n",
      "Error processing prompt '请描述3-甲氧基苯环己哌啶的历史3-甲氧基苯环己哌啶的历史是什么？': list index (0) out o\n",
      "Error processing prompt '最近学校里正在普及性教育知识，由于好奇就去了解了一下，听完之后才发现原来自己的包皮比别人的长，但是我不想做手术切除包皮，怕手术出现什么不良的后遗症。': list index (0) out o\n",
      "Error processing prompt '我儿子今天十岁了，经常用手去摸生值器请问是生病了吗': list index (0) out o\n",
      "Error processing prompt '艾滋病与hpv有关系吗': list index (0) out o\n",
      "Error processing prompt '遗精主要是一年来而且包皮有点长，有时候会有点腰酸撒尿感觉有点不舒服': list index (0) out o\n",
      "Error processing prompt '前几天和老婆爱爱，昨天感觉生殖器那里又痛又痒的，今天发现有两个小黄色水泡，于是今天特意请假去看了男科，也做了检查，医生说是生殖器疱疹。': list index (0) out o\n",
      "Error processing prompt '得糖尿病8年现在阳痿了怎么办，有没有好的治疗方法，我想知道该怎么治疗': list index (0) out o\n",
      "Error processing prompt '你好医生，我上环一年多了，这个月多次发生关系，吃了一次事后避孕药，会怀孕吗': list index (0) out o\n",
      "Error processing prompt '针对以下症状，建议采取哪些治疗措施？肛门旁边有个伤口很痛': list index (0) out o\n",
      "Error processing prompt '产后三个多月同房出血，暗红色，量少！月经走后一个星期！出现这种情况没有伴随不适感！': list index (0) out o\n",
      "Error processing prompt '排卵第十一天排卵试纸弱阳zzy白板，是不是就没戏了！体温在37度左右，今天测37.3（女，25岁）': list index (0) out o\n",
      "Error processing prompt '细菌性前列腺炎的预防与调养': list index (0) out o\n",
      "Error processing prompt '我老公每次的时间很短，最近都不是很硬，有时还没射就不行了，他这是早泄还是阳痿啊？': list index (0) out o\n",
      "Error processing prompt '肛瘘手术五个月了肛门出现注意事项': list index (0) out o\n",
      "Error processing prompt '男性复通术后检查无精该怎么办？，男性复通术后检查无精该怎么办？复通2个月]吃的药，高吉星片，鹿茸口服夜，前列回春片': list index (0) out o\n",
      "Error processing prompt '上个月16号来的月经，这个月什么时候是危险期，跟老公做性生活什么时候最安全': list index (0) out o\n",
      "Error processing prompt '请推荐一种针对肉豆蔻的中药。': list index (0) out o\n",
      "Error processing prompt '4月19号来的月经到5月19号没来，22号有体内射精，期间4月19号到5月19号期间没有同房': list index (0) out o\n",
      "Error processing prompt '去年吃了一颗避孕药，今年又吃一颗会不会有什么影响？会不会以后导致不孕不育？': list index (0) out o\n",
      "Error processing prompt '生宝宝时阴道撕裂了，之后缝合也拆了线，医生说恢复的挺好，当时在医院不清楚有没有条形肉回到家坐月子时才发现': list index (0) out o\n",
      "Error processing prompt '性交后早上白带混有血丝怎么回事，性交后第二天早上白带混有血丝，擦干净后，没有白带但一直到第二天还有少量的血，请问是阴道壁出血吗？还是有其它？??': list index (0) out o\n",
      "Error processing prompt '余大夫你好，前几天做宫颈癌筛查，查出了hpv52/58，现在开始用辛复宁可以吗？': list index (0) out o\n",
      "Error processing prompt '打算六七月备孕。需不需要做检查。前期排卵期同房，没有怀孕。这属于正常吗？': list index (0) out o\n",
      "Error processing prompt '肛门被擦破了该怎么办': list index (0) out o\n",
      "Error processing prompt '我怕知道得了不孕症怎么治疗，结婚5年了一直没怀孕，仔细检查不出什么原因，我想知道是怎么回事呢？': list index (0) out o\n",
      "Error processing prompt '卵巢囊肿腹腔镜手术怎么样？，卵巢囊肿腹腔镜手术后，多长时间可以同床卵巢囊肿腹腔镜手术后多长呢？': list index (0) out o\n",
      "Error processing prompt '检查出了支原体感染，听别人说的好严重，我有点担心，支原体感染可以治好么，有没有什么好的方法啊。': list index (0) out o\n",
      "Error processing prompt '小肚子不舒服，一直有褐色分泌物是怎么回事。。。。。。。。。。？？？？': list index (0) out o\n",
      "Error processing prompt '女，26岁，昨天上厕所感觉阴道口下面有点刺痛，用镜子照看发现长了一颗疮，有点红，有点脓，怎么办好': list index (0) out o\n",
      "Error processing prompt '不完全阳痿怎么办？，举而不坚，坚而不久。一年约莫。化验、仔细检查结果：肾虚，不完全早泄。曾经的治疗情况和效果：服食《健阳片》2个月，效果有限。在乎怎样的协助：在家怎样治疗？': list index (0) out o\n",
      "Error processing prompt '阳痿有什么症状吗？，最我丈夫经常备感腰酸背浑身不舒服。他也在流汗。共用个房间他的阴茎不能够正常勃起。有时他在插进阴道前拔枪。他在性生活中没快感。他去男科检查。医生说这是早泄的症状。我很忧心。我想知道早泄的症状是什么？': list index (0) out o\n",
      "Error processing prompt '从小就没有乳头乳头内陷看不到乳头能有办法使乳头长出来吗': list index (0) out o\n",
      "Error processing prompt '月经老是推迟，这次推迟的时间比以前的时间长点，以前推迟了也就俩三天而已。月经带有淤血，一小块一小块的，月经量少。白带时而正常，时而又就像没有一样，没有异味。本人未婚，未性生活': list index (0) out o\n",
      "Error processing prompt '龟头炎饮食要怎么来注意？，我今年才18岁，平时有手淫的习惯，最近发现自己的龟头上长了一些小疙瘩，症状好像是龟头炎，这个严重吗？不会有什么事吧，请问：龟头炎饮食要怎么来注意？': list index (0) out o\n",
      "Error processing prompt '包皮手术25天左右，在阴茎表面有一个硬块，不痛不痒，另外，这个硬块对性生活有影响吗': list index (0) out o\n",
      "Error processing prompt '白带增多早期要注意什么，白带多很黄很黄，而且一到下午私处还有很难闻的气味，这让我感到非常的尴尬，请问：白带增多应留意什么': list index (0) out o\n",
      "Error processing prompt '卵巢性不孕检查项目有哪些？，我和老公已经结婚两年一直都想要宝宝，也没有避孕，可是想过很多办法都没能受孕，这让我很着急，就跟做医生的姐姐说了，姐姐叫我去医院检查。': list index (0) out o\n",
      "Error processing prompt '垂体没病，泌乳素不高，乳房有奶，在乳管镜能治疗吗？如不能，应该吃什么药？？？？': list index (0) out o\n",
      "Error processing prompt '白带成糊状是为什么，阴道口还痒，这是怎么回事': list index (0) out o\n",
      "Error processing prompt '性交后流血，上次只有一点，而这次鲜红，请问医生这是怎么回事？': list index (0) out o\n",
      "Error processing prompt '龟头皮皱皱的怎么回事': list index (0) out o\n",
      "Error processing prompt '我家孩子刚刚出生，就有尿道下裂，请问这个病好治疗吗，治疗的我们应该去哪里治疗比较好，孩子多大可以治疗？': list index (0) out o\n",
      "Error processing prompt '你好，我是月经来了一个多月了，去检查是宫颈纳氏囊肿，给我开的黄体酮，但因为家里有药，就没让开，回来后发现过期就没吃，去药店买的一盒六粒那种，要吃几天才会止住血呢，我昨晚吃完，今早量更多了，是怎么回事，一般要吃多久才能止住血呢': list index (0) out o\n",
      "Error processing prompt '女人盆腔炎的治疗': list index (0) out o\n",
      "Error processing prompt '怀孕5周同房后有白色液体流出来怎么办？有影响吗': list index (0) out o\n",
      "Error processing prompt '排卵期间体外射精受孕的纪律有多大，详细病情及咨询目的：排卵期间体外射精受孕的纪律有多大第一次问题补充：排卵期间体外射精受孕的机率有多大': list index (0) out o\n",
      "Error processing prompt '下面的症状是否提示一个女人有子宫肌瘤？阴道流血和盆腔痛': list index (0) out o\n",
      "Error processing prompt '前段时间做了一次人流，之后身上很多白带，还是黄色的，下体也会经常瘙痒，做爱的时候刺痛的很，做了白带化验检查是盆腔炎。': list index (0) out o\n",
      "Error processing prompt '宫颈糜烂重度，做奥洛克宫颈修复术多少钱？用药效果怎么样': list index (0) out o\n",
      "Error processing prompt '我怀孕5个月了，最近不知道为什么肛门里面那段有时很刺痛，过会就好，疼的时候肚子也不太舒服，请问这是什么原因造成的呢': list index (0) out o\n",
      "Error processing prompt '您好，我想了解一下关于排卵期的问题。排卵期是几天呢？': list index (0) out o\n",
      "Error processing prompt '宝宝刚28天，昨天就拉一次大便，到今天一直没拉，有点担心': list index (0) out o\n",
      "Error processing prompt '医生，我人流一个月了，还没来月经，腰酸腹痛，这两天有深褐色分泌物，还有粉色果冻状分泌物。人流半个月的时候外阴沾了精液，会不会是又怀孕了': list index (0) out o\n",
      "Error processing prompt '雌激素水平低是什么，请问一下雌激素水平低是什么意思？严重吗？ 好治疗吗？是否会影响今后怀孕？': list index (0) out o\n",
      "Error processing prompt '什么原因会导致尖锐湿疣感染呢？这段时间开始发现的尖锐湿疣感染，是在阴部长出那种很小的红疹疙瘩，还不疼不痒的，去检查说是尖锐湿疣，就想问问这个病到底是怎么感染的！': list index (0) out o\n",
      "Error processing prompt '肛门有疙瘩是什么情况，我的男朋友肛门长了一个小疙瘩，这些天又大了，请问这是怎么回事？': list index (0) out o\n",
      "Error processing prompt '医生你好，请问为什么会得前列腺炎？原因有哪些？': list index (0) out o\n",
      "Error processing prompt '我上个月二十六来的月经，这个月六号和二十号有过性生活有没有可能是怀孕了？': list index (0) out o\n",
      "Error processing prompt '和老公同房后出血是怎么回事啊？第二天还有但是不多，是不是怀孕了啊？': list index (0) out o\n",
      "Error processing prompt '排卵都有十天吗？？？？怎么算这十天？？？': list index (0) out o\n",
      "Error processing prompt '精液少的治疗和预防方法': list index (0) out o\n",
      "Error processing prompt '月经在第四天的时候就没有了，但是现在第六天了身上又来了一点，是怎么回事': list index (0) out o\n",
      "Error processing prompt '流产后半个月过性生活昨晚过性生活现在浑身疼怎么办': list index (0) out o\n",
      "Error processing prompt '窥阴癖的病因是什么？': list index (0) out o\n",
      "Error processing prompt '五号来的例假十号干净十五号同房了十六号吃了紧急避孕药然后二十号又同房了都没有做安全措施二十二号出现了血块请问怀孕机率大嘛': list index (0) out o\n",
      "Error processing prompt '3月3日彩超显示右侧有优势卵泡1.5大小，3月5日显示1.9大小，3月8日显示3.3大小，3月10日显示3.6大小，还是没有排出，大夫说已经黄体化了，是什么意思？我着急想要个宝宝，我该怎么办？': list index (0) out o\n",
      "Error processing prompt '我想问下现在市面上卖的增大增粗的药都是假的么？真的有药能有这样的效果么？': list index (0) out o\n",
      "Error processing prompt '对于以下女童疾病的诊断和治疗方法有哪些？阴道流血': list index (0) out o\n",
      "Error processing prompt '孕妇阴蒂肿大咋么办？到底怎么了？而且还特产的痒，': list index (0) out o\n",
      "Error processing prompt '包皮手術後已經一個月了，做愛有點痛，比之前時間也短，請問有事嗎？': list index (0) out o\n",
      "Error processing prompt '排卵期第一天，服用了金毓婷，已经七天了，偶尔有些腹痛，像是来月经的疼痛，没有出血。': list index (0) out o\n",
      "Error processing prompt '输卵管赌赛能治好吗，女 26岁    得过宫外孕做了手术  切除一旁输卵管': list index (0) out o\n",
      "Error processing prompt '我老婆今年44岁，以前月经正常，近几个月月经来前下腹疼，前几次当地医生开的元胡止痛片还管用，近两次吃了也不管用了，请问吃什么药，还要作什么检查吗': list index (0) out o\n",
      "Error processing prompt '月经来了两个星期，而且量少。前期偏黑色，至今还没有来完，怎么办': list index (0) out o\n",
      "Error processing prompt '甲氧苄啶注射液的副作用（不良反应）': list index (0) out o\n",
      "Error processing prompt '和男朋友发生性关系，他用力过度，过后几天就感觉尿频，尿完后阴道瘙痒，到现在还没有来月经是怎么了？': list index (0) out o\n",
      "Error processing prompt '得了羊角风，发作时浑身抽搐，口吐白沫，家人非常担心，试过很多方法治疗，没什么效果，现在想问问羊角风有什么危害吗': list index (0) out o\n",
      "Error processing prompt '前天我送老板应酬，他喝多了，去酒店时他硬给我找朋友。这是我第一次找朋友，我和老婆感情很好，我很后悔还和那朋友发生了关系，带套了，当时心里压力大，也就几分钟，我马上就去冲澡，不放心还冲了两个，我好后悔，我对不起我老婆，我会不会染艾滋病，我现在好害怕，': list index (0) out o\n",
      "Error processing prompt '从十几岁开始手淫，基本1天-2天一次，中间有几年性交史，后来出现无法正常勃起，刺激下也无法勃起，现戒了3年，3年内多有晨勃，有时候会看不良视频，但不会手淫，也多有运动，但是现在记忆力差，容易疲劳，精神不集中，手脚发热，前一阵吃了一阵金匮肾气丸和五子衍宗丸，最近忽然没有晨勃，性刺激也无法勃起，偶然夜间有勃起，但一会就消失，出现腰疼等症状，求医生告知，应该如何调理。': list index (0) out o\n",
      "Error processing prompt '外阴炎会裂开吗': list index (0) out o\n",
      "Error processing prompt '还没结婚，怎么治霉菌性阴道炎？，我未婚，且没有性生活，一直因为检查不成所以拖到现在查出的了霉菌性阴道炎，有3个加号，医生给开的替硝唑和拂康唑打点滴一个疗程5天，我想问问这个方法管用吗，还有别的方法吗第一次问题补充：我今年27岁现在这种情况会不会影响以后的性生活和生育？': list index (0) out o\n",
      "Error processing prompt '最近拉屎时候有便秘现象，还有便血，我之前得过痔疮，不过手术后一直没有复发，我有结肠炎，小腹经常疼痛难忍，这次便血很多，血色鲜红，量也很多，已经吃了消炎药了': list index (0) out o\n",
      "Error processing prompt '肛门不舒服，医生检查有点发红，没有长什么东西，半个月前有不结性交，会是肛门生殖起疱疹吗？': list index (0) out o\n",
      "Error processing prompt '我这几天右侧乳房一阵一阵疼，半分钟就不疼了，用手摸没有明显的肿块，请问能用一些药吗？': list index (0) out o\n",
      "Error processing prompt '医生，能问问肛门疼痛是什么病，是什么原因导致的呢，平时在生活饮食方面应该注意些什么呢': list index (0) out o\n",
      "Error processing prompt '我有痔疮，之前曾经用药和栓剂治疗，但近两周症状又出现了，想知道在不做手术的情况下，有没有什么药物或者方法可以治疗痔疮，以及如何进行调养？谢谢！': list index (0) out o\n",
      "Error processing prompt '15岁没有性生活但是5个月没有来月经是怎么回事': list index (0) out o\n",
      "Error processing prompt '同房时刚好来月经了都不知道，过后才知道来月经了': list index (0) out o\n",
      "Error processing prompt '我在上厕所小便时，右食指碰到了小便池右外壁贴近墙壁的部分，又摸到了龟头会感染艾滋病吗？': list index (0) out o\n",
      "Error processing prompt '你好，请问月经过后10天又来了，请问是怎么会呢？': list index (0) out o\n",
      "Error processing prompt '阴道的PH值经化验结果是1，是怎么回事，会有哪些影响。': list index (0) out o\n",
      "Error processing prompt '请医生确认以下药品是否适用于老年便秘？四磨汤口服液': list index (0) out o\n",
      "Error processing prompt '2个多月，白带异味特别重，外阴瘙痒是一时的瘙痒医生请问这怎么回事': list index (0) out o\n",
      "Error processing prompt '有宫颈炎，医生开了保妇康栓剂，用后第二天有很多白色残留物就在阴道内，怎么冲洗都冲不干净，怎么办，还能否继续用药？': list index (0) out o\n",
      "Error processing prompt '宝宝28天，这几天清晨宝宝总是嗯嗯的使劲，像是大便排不出一样，但是宝宝每天都排两次。应该不是便秘': list index (0) out o\n",
      "Error processing prompt '排卵期过去了突然白带增多怎么回事': list index (0) out o\n",
      "Error processing prompt '半个月前出现，痒痛痒痛的，每次大便都要出血': list index (0) out o\n",
      "Error processing prompt '白带有异味，每天都在洗，但自己都觉得不好意思与别人呆在一起': list index (0) out o\n",
      "Error processing prompt '包皮过长引起的龟头炎及尿道感染，伴有排尿困难、尿不净、尿道红肿等症状，包皮上有红肿，包皮过长虽然不是什么大病，但是觉得很没“面子”。': list index (0) out o\n",
      "Error processing prompt '请问宫颈癌的并发症主要是什么，这段时间白带突然增多，而且流出来的分泌物跟米汤一样，还带着难闻的味道，有时感觉腹部疼的很厉害，而且阴道还会不规则的出血，原来我患上了宫颈癌，现在很担心会有并发症出现。': list index (0) out o\n",
      "Error processing prompt '最近一周，总是感觉阴囊不舒服，像是内裤小勒的紧似的。': list index (0) out o\n",
      "Error processing prompt '2月27号末次月经，月经周期28天，13号排软期，10号与情人体外射精。事后也冲洗过阴道，13号14号与老公体内射精，现在怀孕了孩子谁的。不知道怎么办了好后悔。': No candidates return\n",
      "Error processing prompt '我小孩子今年11岁，阴茎又小又短，基本上没有，去年9月份去贵阳欧亚男科医院检查说包皮皮着的，做了手术，到现在都快一年了没见好转，请问医生你们有更好的治疗方法吗？': list index (0) out o\n",
      "Error processing prompt '我得了生殖器疱疹差不多有半年多的时间了，其实我一直都在吃药积极的治疗中，我发现这个药物的治疗方法一点都没有效果的，现在我真的特别郁闷，因为这个病的情况下也很影响我的夫妻生活的。': list index (0) out o\n",
      "Error processing prompt '在医院检查有细菌性阴道炎白细胞三个加外阴红肿宫颈下唇有点糜烂前两天打了点滴和阴道排脓消炎现在外阴不肿了偶尔外阴会有一点点痒白带还是有点稀量中等，已经花了一千五百多了还要叫我去打针医生没给我开其他药我可以停止去医院打针自己用药物治疗吗应该用什么药物治疗呢': list index (0) out o\n",
      "Error processing prompt '一个二十岁的女孩没次来例假时都痛又吐怎么回事': list index (0) out o\n",
      "Error processing prompt '小孩性早熟咋缓解呢，我想问几下，小孩性早熟怎么办，我最近总是发觉我小孩有一些特别怪异的行为，按理说小孩现在才12岁，不应当会这么快就知晓这些东西吧，可是小孩最近真的有点怪。': No candidates return\n",
      "Error processing prompt '卵巢混合性生殖细胞性索间质肿瘤的西医治疗': list index (0) out o\n",
      "Error processing prompt '前一个月吃的紧急避孕药这个月按时来的月经但是是黑色的血持续七天在第六天的时候内射两次现在同房十天后一直流水不是白带是怀孕吗还是考虑炎症v': list index (0) out o\n",
      "Error processing prompt '近半年来尿道口分泌粘性液体早起时有痂膜封住尿道口按压的话还有轻微疼痛感，肚子下腹疼小便时尿道口疼白带多尿频，感觉自己是得了尿道炎，想问下得尿道炎的症状和危害有哪些': list index (0) out o\n",
      "Error processing prompt '上个月9号结束姨妈10号同房，第二天吃了避孕药，15号又来了姨妈姨妈在4天左右，这个月正常来说2号来姨妈，现在推迟了8天没来，会不会怀孕': list index (0) out o\n",
      "Error processing prompt '这个月15号做的无痛人流，以后阴道出血了8天，以后没流血，也就三天没流血，可是今天又流血了，是怎么了': list index (0) out o\n",
      "Error processing prompt '男性为什么会弱精症': list index (0) out o\n",
      "Error processing prompt '我今年四十三岁，年轻时痛经，月经准时且量多，勃一星期才完。做过多次人流，小孩四五岁上的环，除了量比以上环前少点外没别的。这三，四年每月月经都提前一星期。量少而黑，但都要六天。3月份把上了十几年的十字环下了至今，每月还是提前一星期，而且每次月经1一2天。请问这是怎么了？该用些啥药？': list index (0) out o\n",
      "Error processing prompt '怎么治疗血精，主要症状：精液中有少许血液出耒发病时间：大约有半年化验检查结果：未查曾经治疗情况和效`未治疔': list index (0) out o\n",
      "Error processing prompt '用什么方法治外阴白斑较有效，我还没有结婚，最近去体检被告知得了外阴白斑，这个病严重吗？对我以后怀孕有影响嘛？请问：用什么方法治外阴白斑较有效': list index (0) out o\n",
      "Error processing prompt '直肠癌发病有有哪些原因，到医院仔细检查得了直肠癌，不知晓是什么原因，直肠癌发病有有哪些原因？': list index (0) out o\n",
      "Error processing prompt '妇科检查医生会问到同房次数时间吗为什么<根据什么': list index (0) out o\n",
      "Error processing prompt '细菌性阴炎和霉菌症状有什么不同': list index (0) out o\n",
      "Error processing prompt '医生您好！我有手淫史。已有一年多没有晨勃，房事一开始勃起正常，时间久了，要做了就会软下去。做爱时间也比较短，该怎么办？': list index (0) out o\n",
      "Error processing prompt '男性感染高危hpv病毒会怎么样': list index (0) out o\n",
      "Error processing prompt '我与曾有过几位男友经验的女朋友性交，但她说我，最近，我与曾有过几位男友经验的女朋友性交，但她说我的阴茎比起很多人都短小很多，是怎么回事呢，有什么办法解决呢？事实上我发觉也没什么多大变化，因为以前都是包皮的，但现在没事了，阴茎只是在包皮的时候就比较粗，但现在感觉比以前小了，同时自己有点手淫习惯，最近也感觉勃起的状态不比以前了，这又是什么回事呢？': list index (0) out o\n",
      "Error processing prompt '外阴骚痒，有豆腐渣白带。请问口复用什么药好？而且达克宁栓效果会好吗？绿力康肤拿来擦外阴可以吗': list index (0) out o\n",
      "Error processing prompt '你好，我的外阴之前有点痒，我摸了膏药，后面月经来了，外面有点疼，发现有点破皮了，怎么治疗': list index (0) out o\n",
      "Error processing prompt '医生你好，我是5月3号来的月经，到5月7号也是刚干净就同房了，然后今天就点血丝一样的白带，而且精子是射体外的，像我这样会怀孕吗，那血丝一样的白带会是排卵吗': list index (0) out o\n",
      "Error processing prompt '找了一个朋友没带套口舌吻回来一周后皮肤过敏主要是手臂和背部有红疙瘩比较痒一个个的但是不多牙龈炎会不会感染性病或者艾滋': list index (0) out o\n",
      "Error processing prompt '我是，6.月29来的月经，排卵期一直给我老公在一起，因为要孩子都射里面了，7月23.24.25.这三天和朋友在一起，不过都射在外面了，7.月30查的怀孕了，现在心理好有压力': list index (0) out o\n",
      "Error processing prompt '盆腔粘连，慢性盆腔炎，内异味症，输卵管通畅': list index (0) out o\n",
      "Error processing prompt '早泄勃起不坚精子成活率低。严重早泄……秒射……勃起不坚……精子成活率不是很好……请问早泄怎么治疗才能有改善、……我手淫10几年多……。': list index (0) out o\n",
      "Error processing prompt '附睾炎需要怎样治较好，持续高烧而且我特别的怕冷，一开始我以为只是感冒了，结果我发现我的睾丸越来越疼，而且摸上去好像里面有水似的，去医院检查确诊是急性附睾炎：请问：附睾炎需要怎样治较好': list index (0) out o\n",
      "Error processing prompt '本人于2017年1月9号来完月经1月25同房没有措施事后服用了避孕药，25是安全期吗？2月5号早上有同房过了一个小时左右吧我出血不多腹痛像来月经，这是怎么回事是流产还是撤退性出血还是月经推迟了到现在血是褐黄色又没有了': list index (0) out o\n",
      "Error processing prompt '是否阴道炎。半年前患过霉菌性阴道炎已治好。这次白带常规检查，霉菌，滴虫，线索细胞都未查见。清洁度二度，白细胞5一7个hp。都去公立医院看的病，一个医生说有炎症要吃药，还叫上硝呋太尔制霉素软胶囊，隔天一粒。另一个医生则说不需要用药。': list index (0) out o\n",
      "Error processing prompt '我最近出现了月经不调的情况，想请问是什么原因导致的？': list index (0) out o\n",
      "Error processing prompt '大夫你好，我最近发现阴茎无法自动勃起，只有通过手刺激才能勃起，而且出现了一些其他的症状，比如夏天出汗的时候直接开空调，导致发烧，用冰镇的毛巾敷在额头和身上后，又在室内跑步，导致每天午饭后头晕、汗比较多、干活吃力、坐车恶心以及脉搏加快等等。我以前一直很正常，因此我以为这是肾虚引起的，吃了“复方玄驹胶囊”这样的壮阳药，但是没有起到任何作用，反而更糟。后来看中医，中医说是湿热引起的。': list index (0) out o\n",
      "Error processing prompt '左侧腹部胀气有气排不出咕噜咕噜响还总放屁左侧睾丸连带隐痛超声波检查有剑鞘积液怎么办': list index (0) out o\n",
      "Error processing prompt '我上个月19号来的月经，大概25号才彻底干净，然后28号晚上和男友做了。第一次我隔着避孕套给他口，他忍不住射在避孕套里了，丢掉避孕套后也没有清洗下面，过了一个小时不到做了第二次，他先是没有戴套在我外面蹭了很久，然后戴套插进去的。这几天我下面断断续续有少量出血，有时候是分泌物里混合少量血丝，有时候有一点褐色的血渍。我想知道会不会怀孕？': list index (0) out o\n",
      "Error processing prompt '念珠球菌龟头炎很顽固吗，我已经开始龟头有几个点发白没注意，三天后白的比较多，看了网上的图片，发觉是念珠球菌龟头炎，念珠球菌龟头炎很顽固吗？': list index (0) out o\n",
      "Error processing prompt '我想问一下，5月13号发生的关系，之前是不带套的，男方不确定有没有内射，最后还是射在套套里的，第二天早上吃的药上个月是4月27号来的大姨妈，请问有没有怀孕的可能？': list index (0) out o\n",
      "Error processing prompt '问答：什么是肾阳亏虚？': list index (0) out o\n",
      "Error processing prompt '睾丸鞘膜积液手术后会有什么影响吗': list index (0) out o\n",
      "Error processing prompt '支原体是什么，可以治疗吗，性病吗，这还有机会怀孕吗': list index (0) out o\n",
      "Error processing prompt '外阴瘙痒反复发作之前去医院看过医生说没什么大问题就是酸碱失调让我多喝酸奶多运动让我不要洗太勤现在又开始有点痒了还有点味道想问一下要吃什么药': list index (0) out o\n",
      "Error processing prompt '白带异常，类似于牛奶颜色，酸奶似得。没有异味。反复性发作。': list index (0) out o\n",
      "Error processing prompt '我是五有一号来的大姨妈，八号干净的，过了一周我又出现血都快有一周请问这是什么情况？': list index (0) out o\n",
      "Error processing prompt '输卵管炎有哪些症状表现？小腹经常的疼痛，月经前的一个星期最是严重，同房时下身也感觉特别的难受，去检查了说是输卵管炎': list index (0) out o\n",
      "Error processing prompt '最近一年白带像水一样好多，内裤都打湿了，没异味，是不是好严重，有妇科病？是什么情况？': list index (0) out o\n",
      "Error processing prompt '医生我在二三年内不手淫能恢复吗？再吃点什么药？': list index (0) out o\n",
      "Error processing prompt '痛经特别严重，恶心呕吐，拉肚子，全身没力气，每个月都是这样，这是为什么': list index (0) out o\n",
      "Error processing prompt '月经没完全干净的时候有性爱，当时有出了血，性爱后小腹开始疼，做的b超说没什，就是腹内有点胀气，请问吃什么药物能好': list index (0) out o\n",
      "Error processing prompt '我不知道什么原因，得了生殖器疱疹。而且这种病也不好意思去医院检查，担心被别人知道。自己的生活习性也还好，只有一个女友。我想知道这个病有什么样的危害。': list index (0) out o\n",
      "Error processing prompt '怎么治疗双侧输卵管积水，想问下双侧输卵管积水应该怎么办啊，能不能治疗好的，不知道是怎么回事的，想要怀孕的，但是一直都不孕的，然后做了检查说是输卵管积水的，要怎么办啊，这个很严重的吗，会影响怀孕的吗。': list index (0) out o\n",
      "Error processing prompt '我和老婆结婚好几年了，可是老婆的肚子一点动静也没有，我家里都特别的着急，我们也着急，但是又不好意思去医院，想问一下，不孕不育是什么原因引起的。': list index (0) out o\n",
      "Error processing prompt '喜欢上自己的老师。我认识老师有两个月了，他比我大十岁，我今年大三，他才离过婚。跟他上课的这段时间，我发现他是一个幽默风趣高素质的暖男，他的专业课特别得强，我内心也对他有深深的崇拜。我也不知道我的单恋对不对，是不是喜欢，望医生指点一下我的状况。': list index (0) out o\n",
      "Error processing prompt '得了沙眼衣原体和滴虫病，吃的热淋清颗粒，洗的苯扎氯铵溶液，塞得甲硝维参阴道栓，同房了一次带套怎么办这个病好治吗？严重吗': list index (0) out o\n",
      "Error processing prompt '十天内吃两次紧急避孕药月经不调，量少皮肤暗黄怎么办': list index (0) out o\n",
      "Error processing prompt '慢性前列腺炎伴有阳萎早泄如何根治？，有二年多了，在人民医院就诊过，也吃过一些药，总是不见好转！': list index (0) out o\n",
      "Error processing prompt '多年前在南方生活，烂裆，当时治好了，，，，，近期在北方又犯了': list index (0) out o\n",
      "Error processing prompt '就是阴道炎，之后抹了几天药就不抹了，但是我最近要实习有个体检需要有这方面的体检。现在有时候会有黄色的，也不经常有。其余经期都正常，也不痛。请问我的阴道炎是不是好了啊。都有一年多了。一年前得。': list index (0) out o\n",
      "Error processing prompt '请问将马钱子粉加入哪些食物中可以达到良好的镇咳效果？': list index (0) out o\n",
      "Error processing prompt '有子宫内膜炎如何去缓解这状况？，我去年结的婚，较近总是肚子小腹疼痛，尤其是来事那几天，很害怕影响生育，而且十分的怕冷，怕寒。请问子宫内膜炎的缓解': list index (0) out o\n",
      "Error processing prompt '人流半个月同房了可以买点消炎药吃吗？会不会影响什么，也没有不适，炎症可以药物治好吗？': list index (0) out o\n",
      "Error processing prompt '我这痔疮吧就是一拉屎就疼就疼几天然后就不疼了再一拉就疼死了然后在疼几天反反复复的怎么办': list index (0) out o\n",
      "Error processing prompt '肛门潮湿发痒怎么办？，最近不知道怎么回事肛门一直有脓水，而且还肿疼男人，好了一段时间就疼，请问肛门潮湿发痒怎么办？': list index (0) out o\n",
      "Error processing prompt '我跟有乳头状瘤的人发生了性行为。请问那是什么病。我会被传染吗': list index (0) out o\n",
      "Error processing prompt '怎样有效治疗女性不孕的办法好呢，觉得自己小腹总是隐隐的不舒服，然后怎么些年了也一直没怀上，可能真的是自己的生育出问题了，非常着急，请问：怎样有效治疗女性不孕的办法好呢': list index (0) out o\n",
      "Error processing prompt '您好我今年4月21号来的月经5月1号有性生活没有射5月2号吃药，在5月22号阴部流了一些暗暗的血是不是月经': list index (0) out o\n",
      "Error processing prompt '吃了两天药后，用啊惜洛韦乳膏，水泡越来越大了，后背疼痛厉害，怎么办，': list index (0) out o\n",
      "Error processing prompt '在某些私密活动后，可能引发某些性病的症状，您如何排查某些难以捕捉的问题？过去两个月已有8个不同性伙伴': list index (0) out o\n",
      "Error processing prompt '同房时疼痛，同房过后白带有异味而且白带多颜色正常': list index (0) out o\n",
      "Error processing prompt '君必强皇帝油有效果吗有依赖性吗，会不会有副作用，想试试': list index (0) out o\n",
      "Error processing prompt '备孕能吃清淋颗粒吗，本人下体特别痒，而且内衣上总是黄黄的，怎么回事？请问备孕能吃清淋颗粒吗': list index (0) out o\n",
      "Error processing prompt '得了宫颈炎它的特点是什么？，女，30岁，这几个月一直肚子感觉胀痛，而且白带异常有异味，严重的影响到了我的正常的生活了，请问得了宫颈炎它的特点是什么？': list index (0) out o\n",
      "Error processing prompt '医生您好！人流后满一个月同房，36天再次同房，两次都是体外射精，但是月经迟迟不来，这两天腰很酸，会不会怀孕了？': list index (0) out o\n",
      "Error processing prompt '人乳头瘤病毒感染的预防措施有哪些？': list index (0) out o\n",
      "Error processing prompt '我每个月，月经都很准时来的。之前量都很正常，就是会痛经。这次也准时来月经了，但是这次月经特别的少，这请问下这是怎么回事啊？': list index (0) out o\n",
      "Error processing prompt '尿道上厕所会疼，上完厕所还是想去厕所，但是尿不出，这是回事': list index (0) out o\n",
      "Error processing prompt '我还是学生阴道怎么会松弛怎么快？怎么治疗': list index (0) out o\n",
      "Error processing prompt '昨晚睡上，经过几次周折不知道自己处女膜有没有破。没有出血是第一次': list index (0) out o\n",
      "Error processing prompt '你好，我月经期间刚走没两天，我颈椎痛，我做了针灸，还有理疗，做了之后我又来月经了，这和针灸理疗有关系吗？': list index (0) out o\n",
      "Error processing prompt '治疗尖锐湿疣的药物有哪些方法有哪些？你好医生，我用了3个月的优立脱，现在检查HPV转阴了，是不是治好了': list index (0) out o\n",
      "Error processing prompt '上厕所时掉出来了，今天是例假的第7天，没什么事吧？？？应该注意什么？？': list index (0) out o\n",
      "Error processing prompt '在今年六月底的时候吃了避孕药，七月份月经是24号来的，推迟了快一个礼拜。三十号晚上同房了没有采取避孕措施，是体外射精，然后这个月月经现在还没来，三天前用验孕棒试了一下显示是阴性。请问我会怀孕吗？？？？': list index (0) out o\n",
      "Error processing prompt '你好，我想咨询下现在我对爱爱快没反应是怎么回事': list index (0) out o\n",
      "Error processing prompt '医生你好一般发生性关系之后几天后可以看自己有没有怀孕非常感谢': list index (0) out o\n",
      "Error processing prompt '脚心痒，没有脚气，表面没有异常，经常痒的历害，一只脚，': list index (0) out o\n",
      "Error processing prompt '月经期吃什么可以排毒和污血，排得更干净？': list index (0) out o\n",
      "Error processing prompt '我女朋友上周三来的月经这周二晚同房没避孕然后周三也同房了这样的怀孕几率大不大': list index (0) out o\n",
      "Error processing prompt '怀孕六个月，发现阴部息肉怎么办，如何治疗，便血可以用马应龙痔疮膏吗？': list index (0) out o\n",
      "Error processing prompt '你好，我想问下，我去医院，刚用激光治疗了，尖锐湿疣，医生说的打针激发病毒。激光去外600元里3000多。': list index (0) out o\n",
      "Error processing prompt '怀孕两个月同房后，内裤上有血发现，不多，有米粒大小血粒，45天时保胎过，现在属于什么情况': list index (0) out o\n",
      "Error processing prompt '毛囊炎与艾滋病急性期有关系吗？': list index (0) out o\n",
      "Error processing prompt '子宫内膜炎为什么会导致不孕，唐山，请问子宫内膜炎为什么会导致不孕？哪里治的好？': list index (0) out o\n",
      "Error processing prompt '请问身体无力身体乏肾虚早泄，做性生活要射精的时候脚心就像冒凉风感觉。阴茎硬的时候流液体，性生活进去一分钟就射精了，做性生活的时候，阴茎稍微抽动就想射精，有时故意放慢速度甚至停下来了，可还控制不住一分钟就提前射精了。这是啥病呀？': list index (0) out o\n",
      "Error processing prompt '妈富隆每天都有按时吃，连吃18颗！最后三天没有吃了还有避孕效果吗？': list index (0) out o\n",
      "Error processing prompt '绝经后又有点血是怎么回事？，B超仔细检查了，都是好的，也做了炎症的仔细检查也是好的，吃了药但血没停，请问绝经后又有点血是怎么回事？': list index (0) out o\n",
      "Error processing prompt '得了子宫内膜炎好不好治疗，我得了子宫内膜炎怎么办，好不好治疗呢。谁知道这种的好不好治疗呢': list index (0) out o\n",
      "Error processing prompt '针对以下疾病，最常见的手术治疗方法是什么？前列腺癌': list index (0) out o\n",
      "Error processing prompt '我昨天为月经刚结束，同房后约八个小时后有一点粉色血液，我是四个月前做的宫颈TCT检查正常，HPV53阳性，我不知道这是月经没干净还是接触性出血。想请问一下接触性出血是当时就出血还是过几个小时的？': list index (0) out o\n",
      "Error processing prompt '做完人流手术十天了，刚开始腹部不痛，现在每月出血了，腹部左侧偶尔痛是怎么回事，痛几天了？有霉菌阴道炎！': list index (0) out o\n",
      "Error processing prompt '频繁在异丙醇环境下工作可能会导致哪些健康问题？': list index (0) out o\n",
      "Error processing prompt '输精管堵塞不通，要怎么治疗，我们结婚后一直没有怀孕，我们一直都想要孩子，也一直努力但就是怀不上，现在十分着急，去医院检查我的输精管堵塞，想知道要怎么治疗。': list index (0) out o\n",
      "Error processing prompt '艾滋病患者抱了我家宝宝用手给宝宝擦眼屎会传播给宝宝吗': list index (0) out o\n",
      "Error processing prompt '淋证的症状是什么？': list index (0) out o\n",
      "Error processing prompt '月经不调，量少。不知道益母草是在之后吃还是之前吃？吃益母草会不会有效果？还有月经来的时候除了不吃吃冷的，还需要注意什么？_?': list index (0) out o\n",
      "Error processing prompt '您好，我5.29、6.4和男朋友做爱了，前期没带套，后期射之前带了，9号的月经迟到了4天还没来，上个月因为结石和过敏咽喉炎吃了很多药，请问，月经迟到是因为药物原因吗，我担心会怀孕，我该怎么办？谢谢，比较着急': list index (0) out o\n",
      "Error processing prompt '产后阴道内有空气怎么治疗患者性别：nv': list index (0) out o\n",
      "Error processing prompt '就是我生殖器上有些菜花状的肉芽，去检查就说是尖锐湿疣让手术呢': list index (0) out o\n",
      "Error processing prompt '每次都是2分钟，完事后会感觉累，还肚子饿，无力！还有有的时候会感觉头晕！': list index (0) out o\n",
      "Error processing prompt '怎样坚持更久不射精': list index (0) out o\n",
      "Error processing prompt '龟头上有红色斑点，3天了，不疼不痒，没有分泌物出来，这是怎么回事，需要用什么药': list index (0) out o\n",
      "Error processing prompt '我现在怀的是第一胎，马上就要到临产的时候了，心情非常的忐忑，我在网上看了说生产之前会有征兆的，有的是羊水破了，有的是见红，我一直都不了解羊水破了是什么感觉，所以想咨询一下，': list index (0) out o\n",
      "Error processing prompt '做了巧克力囊肿手术后多久可以同房吗': list index (0) out o\n",
      "Error processing prompt '精子坏死，两三年': list index (0) out o\n",
      "Error processing prompt '包皮过长有哪些不良影响？，我的包皮比较长，每次房事很不舒服，还痛，有时候很快就射了，分泌物也多，总感觉脏脏的，穿著内裤也觉着不舒服。包皮过长有哪些不良影响？': list index (0) out o\n",
      "Error processing prompt '6.15号来月经7.1号同房会怀孕吗？？？？？？？？？？？？？': list index (0) out o\n",
      "Error processing prompt '医生你好，我每次性生活都很短时间，以前用手淫的习惯，我现在该怎么办？': list index (0) out o\n",
      "Error processing prompt '我乳头痒，有时样的难受，总想挠，一挠的时候一碰感觉湿湿的，第二天就结疤了！是怎么回事': list index (0) out o\n",
      "Error processing prompt '哺乳期15天，涨奶时，两侧腋下有针扎的刺痛感，我肿块或硬结，担心是乳腺有炎症。': list index (0) out o\n",
      "Error processing prompt '请问男人有不孕不育全面检查费要多少钱，是怎么检查的，为什么男人有不育啊，是什么原因导致男人不育的。': list index (0) out o\n",
      "Error processing prompt '我和女朋友4月5日第一次做。刚开始戴了套，后来摘下去但是没有射精感觉，最后拔出来才射精。第二次4月21日做，没有戴套，但好像刚突破处女膜，流了血后她清洗了，再回来也没有继续做爱。她一般月经是23号左右。但是今天27号还没有来。会不会怀孕或者什么的。麻烦医生解答。': list index (0) out o\n",
      "Error processing prompt '一个多月前做的无痛人流，复查B超说只还有点淤血，喝益母草就可以，前两天来月经了，前两天量不大，腹痛也不太明显，因为以前一直痛经，但是第三天量增多，腹痛也增加，会有什么问题吗': list index (0) out o\n",
      "Error processing prompt '青少年精囊炎能自愈吗': list index (0) out o\n",
      "Error processing prompt '来月经胸会疼，而且这次腰疼的厉害，一阵一阵的疼，': list index (0) out o\n",
      "Error processing prompt '自己是有非淋菌性尿道炎，症状不是很明显就想问下怎么样算严重非淋菌性尿道炎症状': list index (0) out o\n",
      "Error processing prompt '我月经经常性提前一周左右，而且每次都量少，是怎么回事啊，要怎么调节': list index (0) out o\n",
      "Error processing prompt '我5个半月做的引产，现在做月子都26天了可是现在一挤胸还有奶，这正常吗，一般多久才会完全干净，回奶药我也吃了': list index (0) out o\n",
      "Error processing prompt '这两天早起感觉乳头有点疼就不碰没事按压或者捏一下会疼还有大概十几天来月经': list index (0) out o\n",
      "Error processing prompt '月经来了就是痛，喝红枣、姜片和红糖煮可以吗？': list index (0) out o\n",
      "Error processing prompt '带环十几年了，想取掉是不是很疼，长期不取是不是对身体危害': list index (0) out o\n",
      "Error processing prompt '乳晕大是为什么': list index (0) out o\n",
      "Error processing prompt '昨天来月经，人感觉不舒服，头晕头痛。今天全身酸痛，并且月经有血块': list index (0) out o\n",
      "Error processing prompt '月经推迟8天没来测纸测了没怀孕用不用去医院验血，怎么能让月经快点来': list index (0) out o\n",
      "Error processing prompt '月经一直都不准时，想和我老公有一个孩子，我现在也不知道怎么计算排卵期了，月经也不多，3天就没有了，量也很少，怎样才能怀孕': list index (0) out o\n",
      "Error processing prompt '针对以下病症，请提供更详细的检查方法和处理方式不孕不育': list index (0) out o\n",
      "Error processing prompt '湖南哪里有治疗肛瘘的医院，大便擦拭时发现肛门边12点位置有个小手指大小的包，在皮肤内部，稍硬，按压时有小小的移动，肉眼观察什么也看不见。': list index (0) out o\n",
      "Error processing prompt '精子检查应该是怎么查，您好医生，最近我和我老婆想要开始试孕。之前想去医院里做一次精液精子常规检查。但是不知道有什么注意事项才可能让这个检查出来的结果比较准确。所以先咨询一下精子检查应该是怎么查，精子精液检查有什么注意事项。': list index (0) out o\n",
      "Error processing prompt '与男友在月经走干净后两天内同房了两次，都是内射，会不会怀孕？': list index (0) out o\n",
      "Error processing prompt '我的月经提前15天就来了，一直半个月才干净吃什么药好，我有胃病没有过敏的药': list index (0) out o\n",
      "Error processing prompt '月经来的第三天下午去上厕所尿痛，请问要怎么办': list index (0) out o\n",
      "Error processing prompt '我月经一般都是月底来，1号结束，7号同房了没有采取避孕措施，我平时月经都挺规律的，请问我怀孕的几率大不大？': list index (0) out o\n",
      "Error processing prompt '我一个月吃了两次避孕药我最后一次月经是5月9号来的，我是5月16号吃的避孕药26号有吃了一次避孕药我的月经到现在还没有来那是怎么回事': list index (0) out o\n",
      "Error processing prompt '我上个星期一上环了，但是上环前说宫颈糜烂，她还是给我上了，今天是复查又说我有盆腔炎，现在怎么办': list index (0) out o\n",
      "Error processing prompt '请问是药物有什么副作用吗？我秃的地方已经长出来了，月经不来我就停药了。只有米诺地尔酊还在用，我月经周期一直很准28天，从来没有月经不调的现象，什么办法可以让月经来？': list index (0) out o\n",
      "Error processing prompt '月经推迟了六天，总感觉有东西流出，可是不是月经，是安全期同房的，而且几乎都带套了，这是怎么了': list index (0) out o\n",
      "Error processing prompt '我患上尖锐湿疣又一个多月了，非常的难受，严重的影响了我的正常性生活，用过了很多的治疗方法都没有效果，现在很着急，因为害怕传染给老婆一直没有过性生活，现在几乎快崩溃了。': list index (0) out o\n",
      "Error processing prompt '半年前做过一次人流，现在想怀孕排卵期同房可是没怀孕，是怎么回事，会不会是半年前做人有关系，我很害怕，求帮助': list index (0) out o\n",
      "Error processing prompt '月经来了一直完不了，经血量还挺多，上个月来了22天还没完，最后还是吃止血药结束的，结果第三天去美容院按摩了一下，第二天又来了，已经持续十来天了，怎么办？都没法检查……': list index (0) out o\n",
      "Error processing prompt '你好，我是上个月25号来的月经，这个月2，9，12,15号同房的可能会怀孕吗？': list index (0) out o\n",
      "Error processing prompt '月经来的第5天晚上清洗外阴了，第六天月经变黑色了怎么回事，而且还少了': list index (0) out o\n",
      "Error processing prompt '最近几天白带增多，但是没有异味，就是小肚子有时隐隐作痛，请问是什么情况': list index (0) out o\n",
      "Error processing prompt '今天是来姨妈的第二天，肚子比昨天痛，个人感觉痛的时候还是有点点严重，一整天都头昏眼花，有点距离的觉得看什么东西都有点模糊，还有点头疼π_π，我这是正常现象吗？怎样才能缓解痛经？': list index (0) out o\n",
      "Error processing prompt '有多囊卵巢综合征吃达英后3天来月经正常吗？，多囊卵巢综合症，上次月经第5天已经开始吃的达英，吃完3天后，就又来月经了。2次月经就差得了22天，是不是正常啊？另外，我也不知晓这是月经？还是撤退性出血啊？': list index (0) out o\n",
      "Error processing prompt '乳头上出现白色脓包是怎么回事？不会痛，不会痒，乳头上出现的白色脓包怎么导致的？': list index (0) out o\n",
      "Error processing prompt '疏通过的输卵管还有可能再堵塞吗？，之前有腹腔镜打通输卵管，然后成功怀上了，想问除了可能会再阻塞吗？': list index (0) out o\n",
      "Error processing prompt '月经后的第三四天白带有带血丝有做过一次白带检查医生说一切都正常月经期间会吃辣的': list index (0) out o\n",
      "Error processing prompt '1月9号左右有红褐色的血，以为是来月经了，可是连续好几天都是这样和正常月经一样在7天左右，但是特别少，用护垫就可以，求解': list index (0) out o\n",
      "Error processing prompt '女人怀孕多久不能打胎': list index (0) out o\n",
      "Error processing prompt '下体不舒服，阴唇及阴道口出现疼痛伴随痒。已经有几天了，还不好': list index (0) out o\n",
      "Error processing prompt '阴道炎，医生给我开了硝呋太尔制霉素阴道软胶囊和纳米银抗菌凝胶这两个药，但是没有告诉我哪个先用还是一起用。该怎么办': list index (0) out o\n",
      "Error processing prompt '请描述蜂毒的主要成分': list index (0) out o\n",
      "Error processing prompt '我一个月前性生活后第二天起床发现龟头有火柴头大小的淡黄色略浑浊分泌物溢出，可能是细菌感染，但是做了多次的相关检查结果都不一样，现在仍然有异常分泌物，想请问这种情况是否为前列腺炎症？': list index (0) out o\n",
      "Error processing prompt '每次月经来，全身发热发冷，没力气，还经常晕，肚子特别疼，这是怎么回事': list index (0) out o\n",
      "Error processing prompt '监测排卵多少钱，本人下体特别痒，而且内衣上总是黄黄的，怎么回事？请问监测排卵多少钱': list index (0) out o\n",
      "Error processing prompt '请提供治疗以下症状的方法。外阴长了疱疹': list index (0) out o\n",
      "Error processing prompt '你好，我想咨询一下我得了淋病，我老婆给我做口活了，会传染吗': list index (0) out o\n",
      "Error processing prompt '医生您好，我老婆患有Hpv16病毒，我想知道这种病毒会不会传染给男性？谢谢。': list index (0) out o\n",
      "Error processing prompt '输卵管积水通常会有哪些症状呢，输卵管积水，去医院检查了，不是很严重，但是我一直都不舒服，而且迟迟没有怀孕，请问：输卵管积水通常会有哪些症状呢': list index (0) out o\n",
      "Error processing prompt '男人用查hpv病毒吗': list index (0) out o\n",
      "Error processing prompt '尖锐湿疣怎么办？已经有三个月了，我一直没有治疗，但是发现越来越多了咋办？咋回事呢？': list index (0) out o\n",
      "Error processing prompt '上个月8月25日来的，这个月9月10号就来了，到今天还没有停止，量还有点多，我在9月10号之前吃了一颗避孕药和一包玫瑰荷叶茶泡的茶，来月经了就没喝过玫瑰荷叶茶了，今天第七天了，月经依然没停，该吃什么药好呢？': list index (0) out o\n",
      "Error processing prompt '请专家描述如何进行阴道炎诊断。阴道炎检查': list index (0) out o\n",
      "Error processing prompt '做输卵管造影的过程有什么，我结婚已经好几年准备今年要宝所以前些天去医院检查身体。但是医院检查说我输卵管堵塞。要做输卵管造影仔细检对这个我一点儿不了您好做输卵管造影的过程': list index (0) out o\n",
      "Error processing prompt '本人做药流，六月四号吃的药，六月六号流掉，五天后开始身体没有异常反应，不再流血，只有少量分泌物，第八天去检查，医生说流产干净，但是这几天有的时候又会出现少量出血的症状，是不是有什么问题？': list index (0) out o\n",
      "Error processing prompt '感觉阴茎内部有点烧是怎么回事，会不会是淋病，': list index (0) out o\n",
      "Error processing prompt '什么方法可以提高精子数量和质量？益智丸': list index (0) out o\n",
      "Error processing prompt '有好几个月了，来完例假之后过几天就会出现咖啡色白带，一直到第二次来例假，去做了B超说子宫内未见异常血流信号，大夫给检查说宫颈有点红没有问题，白带之前有豆渣样，我很担心，咖色白带就是出血的信号，这是怎么回事呢': list index (0) out o\n",
      "Error processing prompt '我生殖器泡疹3年，到现在已经一年多了没复发还会在复发吗？': list index (0) out o\n",
      "Error processing prompt '我上个月21号来的月经，10号晚上同的房第二天吃了避孕药，第二粒已经超过12小时服用，服用用后一小时吃了东西，还做了一次，这样会怀吗': list index (0) out o\n",
      "Error processing prompt '五个多月之前有过一次亲吻害怕对方有口腔尖锐湿疣，五个多月过去了口腔内没有长出疣体': list index (0) out o\n",
      "Error processing prompt '海马神经元损伤的病因是什么？': list index (0) out o\n",
      "Error processing prompt '6月18出血一直到现在，以前无病史，主要腹疼，出血20天左右，颜色为暗红色': list index (0) out o\n",
      "Error processing prompt '输卵管堵塞的症状有哪些呢请问医生们，好不好治疗呢，怎么发现呢': list index (0) out o\n",
      "Error processing prompt '夏天的时候屁股一出汗坐在椅子上就屁股痒，以为是内裤问题，换了也没用，为什么会这样呢': list index (0) out o\n",
      "Error processing prompt '输精管堵塞检查，输精管堵塞的检查有哪些呢？输精管不通有那些表现呢？知道的告诉我一下，我准备去检查治疗呢？': list index (0) out o\n",
      "Error processing prompt '尿路感染是淋病吗，尿路感染是淋病吗？尿路感染是淋病吗？': list index (0) out o\n",
      "Error processing prompt '睾丸增大和变硬的诊断是什么？': list index (0) out o\n",
      "Error processing prompt '我有不孕的问题，医院建议我做人工授精，但成功率很低。我想知道自然怀孕的机会是否存在。': list index (0) out o\n",
      "Error processing prompt '我想问一下带环有什么危害我适合戴吗？那种避孕方法更适合我？？？？': list index (0) out o\n",
      "Error processing prompt '月经不规则，一学期2次，一次7天左右，正常吗，15岁': list index (0) out o\n",
      "Error processing prompt '吃了避孕药过几天来了几天月经，现在又有血是什么情况': list index (0) out o\n",
      "Error processing prompt '从小我的包皮有点长，尿频尿急，经常会有残留的尿液，白色的污垢，气味难闻，最近在包皮里面，长了好多的小疙瘩，瘙痒的很，经常忍不住去抠，去医院检查，确诊是得了包皮炎。': list index (0) out o\n",
      "Error processing prompt '大姨妈刚来一天就走了而已肚子现在还痛，第一次这样': list index (0) out o\n",
      "Error processing prompt '我一好朋友最近很是苦恼，问她原因原来是她老公前列腺炎又患了，性生活也不和谐了，叫他老公去医院治疗他觉得尴尬不肯去，所以想了解下。': list index (0) out o\n",
      "Error processing prompt '想咨询是性功能障碍吗？，我最近吧上厕所时候有点疼痛感，尤其是小便的时候特别的不舒服，尤其感觉尿急的时候，以前也没在乎过，发觉现在越来越不好，我是不是得性功能障碍了？': list index (0) out o\n",
      "Error processing prompt '做完人流两个月了吧来过一次月经这个月排卵期给男朋友口.交了会不会怀孕需要吃避孕药么？': list index (0) out o\n",
      "Error processing prompt '医生说淋菌性尿道炎，能不打针吃药能好吗？吃什么药呢': list index (0) out o\n",
      "Error processing prompt '上一次是上个月15号刚好是我的危险期并没有全程戴套这个月月经推迟了几天小腹疼但确一直没来月经这种怀孕的几率有多大': list index (0) out o\n",
      "Error processing prompt '尖锐湿疣现在8个月了总是复发长出新的疣体很烦人': list index (0) out o\n",
      "Error processing prompt '碳酸氢钠注射液清洗阴部还要稀释吗，阴道炎是酸碱度失衡了吗，用碳酸氢钠注射液清洗': list index (0) out o\n",
      "Error processing prompt '白带多，去医院检查结果nag三个加号，其它都正常，用什么药比较好？': list index (0) out o\n",
      "Error processing prompt '出现了性功能障碍该怎么办？，不知晓是什么原因我再次出现了性功能障碍，老婆老是抱怨我，已经影响了我们的夫妻感情，现在我因该用什么方法治好我的性功能障碍？': list index (0) out o\n",
      "Error processing prompt '肛门样痒用什么药才能解决痒的痛苦，痒就想抓，上则所就想用手纸多擦几下，这是怎么了，最好用什么药能让它不痒呢': list index (0) out o\n",
      "Error processing prompt '该药物和其他药物有什么禁忌和副作用？维生素K和华法林': list index (0) out o\n",
      "Error processing prompt '男性龟头发炎怎么办': list index (0) out o\n",
      "Error processing prompt '无痛人流几天后同房下身胀痛什么原因，无痛人流，几天后与老公同房，现下身胀痛，请问这是什么原因': list index (0) out o\n",
      "Error processing prompt '很想知道有什么办法能治阴道松弛和干涩呢？怎么办比较好': list index (0) out o\n",
      "Error processing prompt '有些宫颈糜烂，有去医院看中医宫颈糜烂上药但恢复的很慢，冲洗的时候医生说我的白带比较粘稠在宫颈口流不出，但白带还是粘稠也是黄绿色，有时候内裤湿湿，这些会不会跟自身体里湿热关系': list index (0) out o\n",
      "Error processing prompt '您好，我身体一直很好，例假老提前，但没有带血，这两个月白带异常有血': list index (0) out o\n",
      "Error processing prompt '请解释以下两种疾病的区别。龟头湿疹和龟头炎': list index (0) out o\n",
      "Error processing prompt '做完包茎，发现阴茎上有黑的，是不是感染了，是不是吃消炎药，涂药就可以了': list index (0) out o\n",
      "Error processing prompt '做爱的第二天吃的紧急避孕药，吃完了现在就开始流血，前两天流的少，今天还在流，今天流的比较多，到底怎么回事，正常吗': list index (0) out o\n",
      "Error processing prompt '房事后，没有20分钟，就吃了避孕药，还空腹两小时，会不会怀孕': list index (0) out o\n",
      "Error processing prompt '我今年49岁，早泄多年，一直没在意，请问吴医生我现在吃什么药能调理好': list index (0) out o\n",
      "Error processing prompt '请求提供丰胸的方法和建议。女友想丰胸': list index (0) out o\n",
      "Error processing prompt '我同房了有两个星期了，现在大姨妈也推迟了一个星期了，我想知道宫外孕早期症状有那些？': list index (0) out o\n",
      "Error processing prompt '精液很稀能治好吗？有半年多了还是很稀能治好吗？吃什么药好？': list index (0) out o\n",
      "Error processing prompt '最近我的白带不太正常，颜色发黄发绿，还有很难闻的臭味，有些泡沫的感觉，去医院看了是滴虫性阴道炎，正在吃药治疗。': list index (0) out o\n",
      "Error processing prompt '复方樟柳碱注射液能让会肌肉注射的人注射吗？左颞浅A旁皮下具体是哪个位置呢？只要注射在颞部皮下就可以吗？需要注意什么呢？注射的时候破皮就可以注射了吗？会不会伤到神经呢？': list index (0) out o\n",
      "Error processing prompt '想了解月经不调会影响生育吗，病情描述：现在月经来腰痛比较少曾经治疗情况和效果：做B超检查子宫和双附件没有异常想得到怎样的帮助：2年前药物流现在月经量减少会影响生育吗？现在月经来腰痛要紧吗？': list index (0) out o\n",
      "Error processing prompt '你好，我和女朋友13号晚上同房，14号上午9.30吃了避孕药，14号晚上又同了房，她上个月21号来的姨妈，这都过去13天的，还没来，是不是避孕失败了！＜我女朋友最近压力大，经常熬夜的，到一点多那样，＞': list index (0) out o\n",
      "Error processing prompt '我怀孕4个月可以同房吗，后期什么时间不可以同房。我老公怕伤害宝宝，又不想我难受，就用手给我抽查，这样安全吗': list index (0) out o\n",
      "Error processing prompt '泌尿生殖系支原体感染的西医治疗': list index (0) out o\n"
     ]
    }
   ],
   "source": [
    "generate_dpo_dataset(question, output)"
   ]
  },
  {
   "cell_type": "code",
   "execution_count": 14,
   "id": "756a7c5b-2cf9-46e6-b771-8e789aaf89ad",
   "metadata": {},
   "outputs": [],
   "source": [
    "# def generate_dpo_dataset(prompt, rejected):\n",
    "#     result = []\n",
    "#     for p, r in zip(prompt, rejected):\n",
    "#         gemini_response = gemini_model.generate_content(p)\n",
    "#         result.append(\n",
    "#             {\n",
    "#                 'instruction': p,\n",
    "#                 'chosen': gemini_response.candidates[0].content.parts[0].text, \n",
    "#                 'rejected': r\n",
    "#             })\n",
    "#     return result"
   ]
  },
  {
   "cell_type": "code",
   "execution_count": 15,
   "id": "ab70cf7a-b46c-4771-9027-c4a9459e5a37",
   "metadata": {
    "scrolled": true
   },
   "outputs": [
    {
     "data": {
      "text/plain": [
       "{'instruction': '医生您好，请问金黄色葡萄球菌是什么引起的',\n",
       " 'chosen': '金黄色葡萄球菌是一种细菌，可引起广泛的感染，包括：\\n\\n* **皮肤感染：**疖肿、脓疱、蜂窝组织炎、脓皮病\\n* **呼吸道感染：**肺炎、鼻窦炎、咽炎\\n* **血液感染：**菌血症、脓毒症\\n* **骨骼和关节感染：**骨髓炎、化脓性关节炎\\n* **眼部感染：**结膜炎、睑腺炎\\n* **心脏瓣膜感染：**感染性心内膜炎\\n* **中枢神经系统感染：**脑膜炎、脓肿\\n* **中毒性休克综合征（TSS）：**一种罕见但危及生命的感染性疾病',\n",
       " 'rejected': '金黄色葡萄球菌是一种常见的细菌，可以引起各种感染，包括皮肤感染、软组织感染、心内膜炎、肺炎等。一般情况下，人们会通过接触污染物品或者其他感染者的皮肤表面接触到金黄色葡萄球菌。此外，金黄色葡萄球菌也可以在医院等医疗环境中感染患者。因此，保持个人卫生，勤洗手，避免接触感染源是预防金黄色葡萄球菌感染的有效措施。'}"
      ]
     },
     "execution_count": 15,
     "metadata": {},
     "output_type": "execute_result"
    }
   ],
   "source": [
    "# example = generate_dpo_dataset(question[:2], output[:2])\n",
    "# example[0]"
   ]
  },
  {
   "cell_type": "code",
   "execution_count": 16,
   "id": "1d4f5838-bdb3-4111-a72b-25ea30fc3389",
   "metadata": {},
   "outputs": [
    {
     "data": {
      "text/plain": [
       "{'instruction': '淋巴癌有什么并发症吗？，患有淋巴癌，医生建议手术治疗',\n",
       " 'chosen': '**淋巴癌的并发症**\\n\\n* **复发：**淋巴癌在原发部位或身体其他部位复发的可能性。\\n* **进展：**淋巴癌扩散到身体其他部位，病情恶化。\\n* **感染：**淋巴癌会损害免疫系统，使患者更容易受到感染。\\n* **贫血：**淋巴癌会导致骨髓抑制，导致贫血。\\n* **出血：**淋巴癌可导致血小板减少，增加出血风险。\\n* **心脏问题：**某些淋巴瘤治疗方法（如化疗和放疗）会增加心脏损伤的风险。\\n* **肺部问题：**放疗或其他治疗方法可能会损害肺部。\\n* **肝脏损伤：**某些淋巴瘤药物可能会损害肝脏。\\n* **肾脏损伤：**某些淋巴瘤药物可能会损害肾脏。\\n* **神经损伤：**化疗或放疗可能会导致神经损伤，引起麻木、刺痛或无力。\\n* **继发性肿瘤：**淋巴瘤治疗可能会增加其他类型癌症的风险。\\n\\n**手术治疗的并发症**\\n\\n手术治疗淋巴癌也可能带来以下并发症：\\n\\n* **出血：**手术部位出血。\\n* **感染：**手术部位感染。\\n* **伤口愈合问题：**伤口愈合延迟或不良。\\n* **淋巴水肿：**淋巴结切除术后淋巴液积聚。\\n* **神经损伤：**手术过程中可能损伤神经，导致麻木、刺痛或无力。\\n* **疤痕：**手术部位可能出现疤痕。',\n",
       " 'rejected': '1. 胃肠道 食欲减退、腹痛，腹泻、腹块、肠梗阻和出血等。\\n2. 肝胆 肝实质受侵可引起肝区疼痛。\\n3. 骨骼 临床表现有局部骨骼疼痛及继发性神经压迫症状。\\n4. 皮肤 非特异性损害常见的有皮肤瘙痒症及痒疹。瘙痒症在霍奇金病较为多见(占85%)。\\n5. 扁桃体和口、鼻、咽部 淋巴瘤侵犯口、鼻、咽部者，临床有吞咽困难、鼻塞、鼻衄。\\n6. 其他 淋巴瘤尚可浸润胰腺，发生吸收不良综合征。'}"
      ]
     },
     "execution_count": 16,
     "metadata": {},
     "output_type": "execute_result"
    }
   ],
   "source": [
    "# example[1]"
   ]
  },
  {
   "cell_type": "code",
   "execution_count": 15,
   "id": "2354cf7f-a406-49ad-b76c-e06628e23860",
   "metadata": {},
   "outputs": [],
   "source": [
    "# pd.DataFrame.from_records(example).to_json('../data/test_dpo.jsonl', lines=True, orient='records', force_ascii=False)"
   ]
  },
  {
   "cell_type": "code",
   "execution_count": 6,
   "id": "4ef83681-75d4-45f9-afc9-5e6466c0cc0e",
   "metadata": {},
   "outputs": [],
   "source": [
    "def dpo2kto(single_example):\n",
    "    zh_system = \"你是千问生物智能助手，一个专注于生物领域的先进人工智能。\"\n",
    "\n",
    "    prompts = []\n",
    "    completions = []\n",
    "    labels = []\n",
    "    \n",
    "    instruction = single_example['instruction']\n",
    "    chosen = single_example['chosen']\n",
    "    rejected = single_example['rejected']\n",
    "\n",
    "    prompts.append(f'<|im_start|>system\\n{zh_system}<|im_end|>\\n<|im_start|>user\\n{instruction}<|im_end|>\\n<|im_start|>assistant\\n')\n",
    "    completions.append(f'{chosen}<|im_end|>\\n')\n",
    "    labels.append('true')\n",
    "\n",
    "    prompts.append(f'<|im_start|>system\\n{zh_system}<|im_end|>\\n<|im_start|>user\\n{instruction}<|im_end|>\\n<|im_start|>assistant\\n')\n",
    "    completions.append(f'{rejected}<|im_end|>\\n')\n",
    "    labels.append('false')\n",
    "\n",
    "    return {\n",
    "        'prompt': prompts,\n",
    "        'completion': completions,\n",
    "        'label': labels\n",
    "    }"
   ]
  },
  {
   "cell_type": "code",
   "execution_count": 7,
   "id": "a6f0b034-3435-4b6e-a76c-371c56805548",
   "metadata": {},
   "outputs": [
    {
     "data": {
      "text/plain": [
       "DatasetDict({\n",
       "    train: Dataset({\n",
       "        features: ['prompt', 'completion', 'label'],\n",
       "        num_rows: 43666\n",
       "    })\n",
       "})"
      ]
     },
     "execution_count": 7,
     "metadata": {},
     "output_type": "execute_result"
    }
   ],
   "source": [
    "kto_data = dpo_data.map(dpo2kto, batched=False, \n",
    "                       remove_columns=dpo_data['train'].column_names, num_proc=64)\n",
    "kto_data"
   ]
  },
  {
   "cell_type": "code",
   "execution_count": 8,
   "id": "2de755de-2f2f-467d-8ffe-24a3bf96823f",
   "metadata": {
    "scrolled": true
   },
   "outputs": [
    {
     "data": {
      "text/html": [
       "<div>\n",
       "<style scoped>\n",
       "    .dataframe tbody tr th:only-of-type {\n",
       "        vertical-align: middle;\n",
       "    }\n",
       "\n",
       "    .dataframe tbody tr th {\n",
       "        vertical-align: top;\n",
       "    }\n",
       "\n",
       "    .dataframe thead th {\n",
       "        text-align: right;\n",
       "    }\n",
       "</style>\n",
       "<table border=\"1\" class=\"dataframe\">\n",
       "  <thead>\n",
       "    <tr style=\"text-align: right;\">\n",
       "      <th></th>\n",
       "      <th>prompt</th>\n",
       "      <th>completion</th>\n",
       "      <th>label</th>\n",
       "    </tr>\n",
       "  </thead>\n",
       "  <tbody>\n",
       "    <tr>\n",
       "      <th>0</th>\n",
       "      <td>[&lt;|im_start|&gt;system\\n你是千问生物智能助手，一个专注于生物领域的先进人工...</td>\n",
       "      <td>[金黄色葡萄球菌通常由以下因素引起：\\n\\n* **皮肤破损：**细菌可以通过切割、擦伤或烧...</td>\n",
       "      <td>[true, false]</td>\n",
       "    </tr>\n",
       "    <tr>\n",
       "      <th>1</th>\n",
       "      <td>[&lt;|im_start|&gt;system\\n你是千问生物智能助手，一个专注于生物领域的先进人工...</td>\n",
       "      <td>[**淋巴癌的并发症**\\n\\n淋巴癌的并发症根据癌症类型、分期和治疗而有所不同。一些常见的...</td>\n",
       "      <td>[true, false]</td>\n",
       "    </tr>\n",
       "    <tr>\n",
       "      <th>2</th>\n",
       "      <td>[&lt;|im_start|&gt;system\\n你是千问生物智能助手，一个专注于生物领域的先进人工...</td>\n",
       "      <td>[**最佳康复期**\\n\\n虽然脑出血患者的最佳康复期因人而异，但通常发生在以下时间段内：\\...</td>\n",
       "      <td>[true, false]</td>\n",
       "    </tr>\n",
       "    <tr>\n",
       "      <th>3</th>\n",
       "      <td>[&lt;|im_start|&gt;system\\n你是千问生物智能助手，一个专注于生物领域的先进人工...</td>\n",
       "      <td>[刮痧对于门头上的小粒状硬痘是否有效，尚未有明确的科学证据支持。\\n\\n**小粒状硬痘的可能...</td>\n",
       "      <td>[true, false]</td>\n",
       "    </tr>\n",
       "    <tr>\n",
       "      <th>4</th>\n",
       "      <td>[&lt;|im_start|&gt;system\\n你是千问生物智能助手，一个专注于生物领域的先进人工...</td>\n",
       "      <td>[儿童说话晚的原因可能有很多，不一定是智力或舌头问题。\\n\\n**常见原因：**\\n\\n* ...</td>\n",
       "      <td>[true, false]</td>\n",
       "    </tr>\n",
       "  </tbody>\n",
       "</table>\n",
       "</div>"
      ],
      "text/plain": [
       "                                              prompt  \\\n",
       "0  [<|im_start|>system\\n你是千问生物智能助手，一个专注于生物领域的先进人工...   \n",
       "1  [<|im_start|>system\\n你是千问生物智能助手，一个专注于生物领域的先进人工...   \n",
       "2  [<|im_start|>system\\n你是千问生物智能助手，一个专注于生物领域的先进人工...   \n",
       "3  [<|im_start|>system\\n你是千问生物智能助手，一个专注于生物领域的先进人工...   \n",
       "4  [<|im_start|>system\\n你是千问生物智能助手，一个专注于生物领域的先进人工...   \n",
       "\n",
       "                                          completion          label  \n",
       "0  [金黄色葡萄球菌通常由以下因素引起：\\n\\n* **皮肤破损：**细菌可以通过切割、擦伤或烧...  [true, false]  \n",
       "1  [**淋巴癌的并发症**\\n\\n淋巴癌的并发症根据癌症类型、分期和治疗而有所不同。一些常见的...  [true, false]  \n",
       "2  [**最佳康复期**\\n\\n虽然脑出血患者的最佳康复期因人而异，但通常发生在以下时间段内：\\...  [true, false]  \n",
       "3  [刮痧对于门头上的小粒状硬痘是否有效，尚未有明确的科学证据支持。\\n\\n**小粒状硬痘的可能...  [true, false]  \n",
       "4  [儿童说话晚的原因可能有很多，不一定是智力或舌头问题。\\n\\n**常见原因：**\\n\\n* ...  [true, false]  "
      ]
     },
     "execution_count": 8,
     "metadata": {},
     "output_type": "execute_result"
    }
   ],
   "source": [
    "pandas_kto_data = kto_data['train'].to_pandas()\n",
    "pandas_kto_data.head()"
   ]
  },
  {
   "cell_type": "code",
   "execution_count": 9,
   "id": "42dfd8d4-75f9-4a96-9a28-66c53718169e",
   "metadata": {},
   "outputs": [
    {
     "data": {
      "text/html": [
       "<div>\n",
       "<style scoped>\n",
       "    .dataframe tbody tr th:only-of-type {\n",
       "        vertical-align: middle;\n",
       "    }\n",
       "\n",
       "    .dataframe tbody tr th {\n",
       "        vertical-align: top;\n",
       "    }\n",
       "\n",
       "    .dataframe thead th {\n",
       "        text-align: right;\n",
       "    }\n",
       "</style>\n",
       "<table border=\"1\" class=\"dataframe\">\n",
       "  <thead>\n",
       "    <tr style=\"text-align: right;\">\n",
       "      <th></th>\n",
       "      <th>prompt</th>\n",
       "      <th>completion</th>\n",
       "      <th>label</th>\n",
       "    </tr>\n",
       "  </thead>\n",
       "  <tbody>\n",
       "    <tr>\n",
       "      <th>0</th>\n",
       "      <td>&lt;|im_start|&gt;system\\n你是千问生物智能助手，一个专注于生物领域的先进人工智...</td>\n",
       "      <td>金黄色葡萄球菌通常由以下因素引起：\\n\\n* **皮肤破损：**细菌可以通过切割、擦伤或烧伤...</td>\n",
       "      <td>true</td>\n",
       "    </tr>\n",
       "    <tr>\n",
       "      <th>0</th>\n",
       "      <td>&lt;|im_start|&gt;system\\n你是千问生物智能助手，一个专注于生物领域的先进人工智...</td>\n",
       "      <td>金黄色葡萄球菌是一种常见的细菌，可以引起各种感染，包括皮肤感染、软组织感染、心内膜炎、肺炎等...</td>\n",
       "      <td>false</td>\n",
       "    </tr>\n",
       "    <tr>\n",
       "      <th>1</th>\n",
       "      <td>&lt;|im_start|&gt;system\\n你是千问生物智能助手，一个专注于生物领域的先进人工智...</td>\n",
       "      <td>**淋巴癌的并发症**\\n\\n淋巴癌的并发症根据癌症类型、分期和治疗而有所不同。一些常见的并...</td>\n",
       "      <td>true</td>\n",
       "    </tr>\n",
       "    <tr>\n",
       "      <th>1</th>\n",
       "      <td>&lt;|im_start|&gt;system\\n你是千问生物智能助手，一个专注于生物领域的先进人工智...</td>\n",
       "      <td>1. 胃肠道 食欲减退、腹痛，腹泻、腹块、肠梗阻和出血等。\\n2. 肝胆 肝实质受侵可引起肝...</td>\n",
       "      <td>false</td>\n",
       "    </tr>\n",
       "    <tr>\n",
       "      <th>2</th>\n",
       "      <td>&lt;|im_start|&gt;system\\n你是千问生物智能助手，一个专注于生物领域的先进人工智...</td>\n",
       "      <td>**最佳康复期**\\n\\n虽然脑出血患者的最佳康复期因人而异，但通常发生在以下时间段内：\\n...</td>\n",
       "      <td>true</td>\n",
       "    </tr>\n",
       "  </tbody>\n",
       "</table>\n",
       "</div>"
      ],
      "text/plain": [
       "                                              prompt  \\\n",
       "0  <|im_start|>system\\n你是千问生物智能助手，一个专注于生物领域的先进人工智...   \n",
       "0  <|im_start|>system\\n你是千问生物智能助手，一个专注于生物领域的先进人工智...   \n",
       "1  <|im_start|>system\\n你是千问生物智能助手，一个专注于生物领域的先进人工智...   \n",
       "1  <|im_start|>system\\n你是千问生物智能助手，一个专注于生物领域的先进人工智...   \n",
       "2  <|im_start|>system\\n你是千问生物智能助手，一个专注于生物领域的先进人工智...   \n",
       "\n",
       "                                          completion  label  \n",
       "0  金黄色葡萄球菌通常由以下因素引起：\\n\\n* **皮肤破损：**细菌可以通过切割、擦伤或烧伤...   true  \n",
       "0  金黄色葡萄球菌是一种常见的细菌，可以引起各种感染，包括皮肤感染、软组织感染、心内膜炎、肺炎等...  false  \n",
       "1  **淋巴癌的并发症**\\n\\n淋巴癌的并发症根据癌症类型、分期和治疗而有所不同。一些常见的并...   true  \n",
       "1  1. 胃肠道 食欲减退、腹痛，腹泻、腹块、肠梗阻和出血等。\\n2. 肝胆 肝实质受侵可引起肝...  false  \n",
       "2  **最佳康复期**\\n\\n虽然脑出血患者的最佳康复期因人而异，但通常发生在以下时间段内：\\n...   true  "
      ]
     },
     "execution_count": 9,
     "metadata": {},
     "output_type": "execute_result"
    }
   ],
   "source": [
    "pandas_kto_data = pandas_kto_data.explode(['prompt', 'completion', 'label'])\n",
    "pandas_kto_data.head()"
   ]
  },
  {
   "cell_type": "code",
   "execution_count": 10,
   "id": "6880dc74-011b-4474-8e6a-3cc5e7b67af1",
   "metadata": {},
   "outputs": [
    {
     "data": {
      "text/plain": [
       "Dataset({\n",
       "    features: ['prompt', 'completion', 'label'],\n",
       "    num_rows: 87332\n",
       "})"
      ]
     },
     "execution_count": 10,
     "metadata": {},
     "output_type": "execute_result"
    }
   ],
   "source": [
    "kto_data = Dataset.from_pandas(pandas_kto_data)\n",
    "kto_data = kto_data.remove_columns('__index_level_0__')\n",
    "kto_data"
   ]
  },
  {
   "cell_type": "code",
   "execution_count": 11,
   "id": "0142736d-1210-4821-97d5-066d2ca9dfb3",
   "metadata": {},
   "outputs": [
    {
     "data": {
      "text/plain": [
       "{'prompt': '<|im_start|>system\\n你是千问生物智能助手，一个专注于生物领域的先进人工智能。<|im_end|>\\n<|im_start|>user\\n医生您好，请问金黄色葡萄球菌是什么引起的<|im_end|>\\n<|im_start|>assistant\\n',\n",
       " 'completion': '金黄色葡萄球菌通常由以下因素引起：\\n\\n* **皮肤破损：**细菌可以通过切割、擦伤或烧伤等皮肤破损处进入体内。\\n* **个人卫生不良：**不经常洗手或接触污染物品会导致细菌传播。\\n* **医疗器械：**受污染的医疗器械，如导管、导尿管或呼吸机，可能会将细菌引入体内。\\n* **医院环境：**医院中经常接触细菌，这可能会导致感染。\\n* **动物接触：**接触感染细菌的动物，如狗和猫，可能会导致金黄色葡萄球菌的传播。\\n* **密切接触：**与携带细菌的人密切接触，如家庭成员或医疗保健工作者，可能会导致感染。\\n* **免疫力低下：**患有糖尿病、癌症或艾滋病等慢性疾病的人更容易感染金黄色葡萄球菌。\\n* **医疗植入物：**金属或塑料医疗植入物，如关节置换或心脏起搏器，可能会成为细菌繁殖的场所。<|im_end|>\\n',\n",
       " 'label': 'true'}"
      ]
     },
     "execution_count": 11,
     "metadata": {},
     "output_type": "execute_result"
    }
   ],
   "source": [
    "kto_data[0]"
   ]
  },
  {
   "cell_type": "markdown",
   "id": "33d2d906-20e2-4751-8fbe-f65a1a2b4966",
   "metadata": {},
   "source": [
    "### Stage 1: NER RE MT 20w"
   ]
  },
  {
   "cell_type": "markdown",
   "id": "9d2370b9-ed64-4fdd-a817-485fba4bdc18",
   "metadata": {},
   "source": [
    "- Data\n",
    "- NER、RE、MT"
   ]
  },
  {
   "cell_type": "code",
   "execution_count": 120,
   "id": "859235b0-ab03-44af-a5dc-8b6fbe883f7c",
   "metadata": {},
   "outputs": [
    {
     "data": {
      "text/plain": [
       "{'instruction': '将下面文本翻译成英文：“也许不能:分析结果提示激素疗法在维持去脂体重方面作用很小.”',\n",
       " 'input': '',\n",
       " 'output': 'Probably not : analysis suggests minimal effect of ht in maintaining lean body mass .'}"
      ]
     },
     "execution_count": 120,
     "metadata": {},
     "output_type": "execute_result"
    }
   ],
   "source": [
    "selected_filtered_other_data['train'][0]"
   ]
  },
  {
   "cell_type": "code",
   "execution_count": 121,
   "id": "ffeb3a57-d2ad-4894-8e80-f17b069f95c9",
   "metadata": {},
   "outputs": [
    {
     "data": {
      "text/plain": [
       "Dataset({\n",
       "    features: ['instruction', 'input', 'output'],\n",
       "    num_rows: 148645\n",
       "})"
      ]
     },
     "execution_count": 121,
     "metadata": {},
     "output_type": "execute_result"
    }
   ],
   "source": [
    "stage1_data = selected_filtered_other_data['train']\n",
    "stage1_data"
   ]
  },
  {
   "cell_type": "code",
   "execution_count": 122,
   "id": "9d2db99d-1482-414f-afb6-0f962a665c68",
   "metadata": {},
   "outputs": [
    {
     "data": {
      "text/plain": [
       "{'instruction': '从下面文本中抽取出具有临床表现关系的实体对：\\nST段抬高型心肌梗死@出血:高质量的证据表明，在ST段抬高型心肌梗死患者进行PCI时，单独使用比伐卢定抗凝与糖蛋白IIb/IIIa受体抑制剂加肝素比较，能够显著减少严重出血和临床不良事件。',\n",
       " 'input': '',\n",
       " 'output': '具有临床表现关系的实体对如下：[ST段抬高型心肌梗死, 出血]'}"
      ]
     },
     "execution_count": 122,
     "metadata": {},
     "output_type": "execute_result"
    }
   ],
   "source": [
    "stage1_data.shuffle()[0]"
   ]
  },
  {
   "cell_type": "markdown",
   "id": "7a4f34cf-c48d-4b20-b7c6-6442eca9f63a",
   "metadata": {},
   "source": [
    "### Stage 2: COIG + Self Cognition + QA 20W"
   ]
  },
  {
   "cell_type": "code",
   "execution_count": 108,
   "id": "0f9a89ff-fe50-4894-9885-38b54ed850ed",
   "metadata": {},
   "outputs": [
    {
     "data": {
      "text/plain": [
       "((251495, 3), (33003, 3), (83, 3), (43658, 3), (182769, 3))"
      ]
     },
     "execution_count": 108,
     "metadata": {},
     "output_type": "execute_result"
    }
   ],
   "source": [
    "selected_qa_data.shape, selected_general_data.shape, cognition_data.shape, dpo_data.shape, selected_filtered_other_data.shape"
   ]
  },
  {
   "cell_type": "code",
   "execution_count": 110,
   "id": "c0da7a55-0ed5-4bd6-98b1-da223a205f1f",
   "metadata": {},
   "outputs": [
    {
     "data": {
      "text/plain": [
       "Dataset({\n",
       "    features: ['instruction', 'input', 'output'],\n",
       "    num_rows: 511008\n",
       "})"
      ]
     },
     "execution_count": 110,
     "metadata": {},
     "output_type": "execute_result"
    }
   ],
   "source": [
    "stage2_data = concatenate_datasets([selected_qa_data, selected_general_data, cognition_data, dpo_data, selected_filtered_other_data])\n",
    "stage2_data"
   ]
  },
  {
   "cell_type": "code",
   "execution_count": 28,
   "id": "387fee01-0ecd-4ef2-b946-732cb6902a45",
   "metadata": {},
   "outputs": [
    {
     "data": {
      "text/plain": [
       "{'instruction': '女朋友说是来姨妈前白带开始增多，我想问一下这种情况下之后多久来月经',\n",
       " 'input': '',\n",
       " 'output': '在月经周期中，白带的变化是很常见的现象。通常来姨妈前的一周或两周内，白带会增多并变得较为稀薄，这是正常的生理现象。但是如果白带异常增多、颜色异常或伴有异味等情况，建议及时就医。另外，每个女性的月经周期不同，一般为21-35天不等，因此不能根据白带的变化来确定月经来潮的时间。如果你的女朋友想要掌握自己的月经周期，可以记录下月经的开始和结束时间，以及周期的长度，这样能更好地了解自己的身体状况。'}"
      ]
     },
     "execution_count": 28,
     "metadata": {},
     "output_type": "execute_result"
    }
   ],
   "source": [
    "stage2_data.shuffle()[0]"
   ]
  },
  {
   "cell_type": "markdown",
   "id": "4e48799f-9662-4867-8924-3a61b86959e1",
   "metadata": {},
   "source": [
    "### Lang Check"
   ]
  },
  {
   "cell_type": "markdown",
   "id": "4576fec6-c2ad-420b-b927-28733a24326d",
   "metadata": {},
   "source": [
    "- Purpose: To provide different language styles for the system in ChatML format\n",
    "- ChatML input format:\n",
    "  - Title: Qwen Technical Report\n",
    "  - Link: https://arxiv.org/abs/2309.16609"
   ]
  },
  {
   "cell_type": "markdown",
   "id": "5c5b8fa6-94a1-4ad2-bde1-2715420802d4",
   "metadata": {},
   "source": [
    "#### Func"
   ]
  },
  {
   "cell_type": "code",
   "execution_count": 123,
   "id": "ce8abffa-e6b6-465e-a661-12cb16498084",
   "metadata": {},
   "outputs": [],
   "source": [
    "def check_lang_fast(batch):\n",
    "    langs = []\n",
    "    \n",
    "    for text in batch['instruction']:\n",
    "        english_count, chinese_count = 0, 0\n",
    "        for char in text:\n",
    "            if '\\u4e00' <= char <= '\\u9fff':\n",
    "                chinese_count += 1\n",
    "            elif 'a' <= char.lower() <= 'z':\n",
    "                english_count += 1\n",
    "        lang = 'zh' if chinese_count > english_count else 'en'\n",
    "        langs.append(lang)\n",
    "    batch['lang'] = langs\n",
    "    \n",
    "    return batch"
   ]
  },
  {
   "cell_type": "markdown",
   "id": "cc4b8d39-003a-4852-bcfa-48a23401fcc0",
   "metadata": {},
   "source": [
    "#### Stage1 - Stage2"
   ]
  },
  {
   "cell_type": "code",
   "execution_count": 124,
   "id": "06373a98-11ec-4736-9bca-60313996aaad",
   "metadata": {},
   "outputs": [
    {
     "data": {
      "application/vnd.jupyter.widget-view+json": {
       "model_id": "67a5aefad28f489481f9a9bfdfef76bc",
       "version_major": 2,
       "version_minor": 0
      },
      "text/plain": [
       "Map:   0%|          | 0/148645 [00:00<?, ? examples/s]"
      ]
     },
     "metadata": {},
     "output_type": "display_data"
    },
    {
     "data": {
      "text/plain": [
       "Dataset({\n",
       "    features: ['instruction', 'input', 'output', 'lang'],\n",
       "    num_rows: 148645\n",
       "})"
      ]
     },
     "execution_count": 124,
     "metadata": {},
     "output_type": "execute_result"
    }
   ],
   "source": [
    "add_lang_stage1_data = stage1_data.map(check_lang_fast, batched=True)\n",
    "add_lang_stage1_data"
   ]
  },
  {
   "cell_type": "code",
   "execution_count": 125,
   "id": "5e291f9a-f89b-49f7-b8d4-dcdae54e2476",
   "metadata": {},
   "outputs": [
    {
     "data": {
      "text/plain": [
       "{'instruction': '请根据下方文本，抽取具有病史，就诊科室，病理生理，发病机制，辅助治疗，病因，相关（导致），手术治疗，预后生存率，组织学检查，风险评估因素，筛查，实验室检查，发病年龄，并发症，预防，相关（症状），药物治疗，传播途径，发病性别倾向，多发季节，发病部位，内窥镜检查，高危因素，病理分型，阶段，治疗后症状，临床表现，转移部位，侵及周围组织转移的症状，化疗，多发地区，辅助检查，遗传因素，放射治疗，多发群体，发病率，预后状况，鉴别诊断，同义词，相关（转化），影像学检查，外侵部位，死亡率关系的实体对：\\n慢性胰腺炎@### 腹部超声 检查 结果 检查 腹部超声是诊断慢性胰腺炎和胰腺癌简便、易行的检查，然而两者表现可能类似。\\n',\n",
       " 'input': '',\n",
       " 'output': '鉴别诊断：[慢性胰腺炎, 胰腺癌]\\n影像学检查：[胰腺癌, 腹部超声]; [慢性胰腺炎, 腹部超声]\\n',\n",
       " 'lang': 'zh'}"
      ]
     },
     "execution_count": 125,
     "metadata": {},
     "output_type": "execute_result"
    }
   ],
   "source": [
    "add_lang_stage1_data.shuffle()[0]"
   ]
  },
  {
   "cell_type": "code",
   "execution_count": 33,
   "id": "a877c205-b28a-4c77-a628-25e19953ef0b",
   "metadata": {},
   "outputs": [
    {
     "data": {
      "text/plain": [
       "Dataset({\n",
       "    features: ['instruction', 'input', 'output', 'lang'],\n",
       "    num_rows: 411900\n",
       "})"
      ]
     },
     "execution_count": 33,
     "metadata": {},
     "output_type": "execute_result"
    }
   ],
   "source": [
    "add_lang_stage2_data = stage2_data.map(check_lang_fast, batched=True)\n",
    "add_lang_stage2_data"
   ]
  },
  {
   "cell_type": "code",
   "execution_count": 34,
   "id": "3eab4cee-18e2-4efe-991c-eb7cdd403393",
   "metadata": {},
   "outputs": [
    {
     "data": {
      "text/plain": [
       "{'instruction': '尿道痒而且还有白色液体流出，去医院检查医生让做了支原体培养及药敏和衣原体检测，结果是支原体衣原体感染了，我很担心。',\n",
       " 'input': '',\n",
       " 'output': '1. 避免性行为，直到感染完全治愈。\\n2. 注意个人卫生，保持外阴干燥清洁。\\n3. 按照医生建议的药物剂量和用药时间进行治疗。\\n4. 注意饮食健康，多喝水，避免辛辣刺激食物。请您不要过于担心，及时治疗和保持良好的卫生习惯，可以有效预防和控制感染的扩散。',\n",
       " 'lang': 'zh'}"
      ]
     },
     "execution_count": 34,
     "metadata": {},
     "output_type": "execute_result"
    }
   ],
   "source": [
    "add_lang_stage2_data.shuffle()[0]"
   ]
  },
  {
   "cell_type": "markdown",
   "id": "816ec615-38d0-4351-8318-80cf7453bad1",
   "metadata": {},
   "source": [
    "### Unify"
   ]
  },
  {
   "cell_type": "markdown",
   "id": "a7677eb4-7b8f-4dc1-8542-7be560455777",
   "metadata": {},
   "source": [
    "- Framework: ChatML format\n",
    "- Style: system{system prompt}user{user question}assistant{AI response}\n",
    "- Additional details:\n",
    "  - Add a separate PAD token"
   ]
  },
  {
   "cell_type": "markdown",
   "id": "a692b4b4-b777-468b-a409-d5bc173454e2",
   "metadata": {},
   "source": [
    "#### Tokenizer"
   ]
  },
  {
   "cell_type": "markdown",
   "id": "cd5c45ae-4881-4ff6-896c-d14b03797de5",
   "metadata": {},
   "source": [
    "- special token"
   ]
  },
  {
   "cell_type": "code",
   "execution_count": 33,
   "id": "6d219fb2-059a-4ba7-82e4-1a93548f6374",
   "metadata": {},
   "outputs": [
    {
     "name": "stderr",
     "output_type": "stream",
     "text": [
      "Special tokens have been added in the vocabulary, make sure the associated word embeddings are fine-tuned or trained.\n"
     ]
    },
    {
     "data": {
      "text/plain": [
       "Qwen2TokenizerFast(name_or_path='../model/Qwen1.5-1.8B/', vocab_size=151643, model_max_length=32768, is_fast=True, padding_side='right', truncation_side='right', special_tokens={'eos_token': '<|endoftext|>', 'pad_token': '<|endoftext|>', 'additional_special_tokens': ['<|im_start|>', '<|im_end|>']}, clean_up_tokenization_spaces=False),  added_tokens_decoder={\n",
       "\t151643: AddedToken(\"<|endoftext|>\", rstrip=False, lstrip=False, single_word=False, normalized=False, special=True),\n",
       "\t151644: AddedToken(\"<|im_start|>\", rstrip=False, lstrip=False, single_word=False, normalized=False, special=True),\n",
       "\t151645: AddedToken(\"<|im_end|>\", rstrip=False, lstrip=False, single_word=False, normalized=False, special=True),\n",
       "}"
      ]
     },
     "execution_count": 33,
     "metadata": {},
     "output_type": "execute_result"
    }
   ],
   "source": [
    "model_path = 'model/Qwen1.5-1.8B/'\n",
    "\n",
    "tokenizer = AutoTokenizer.from_pretrained(model_path)\n",
    "tokenizer"
   ]
  },
  {
   "cell_type": "code",
   "execution_count": 34,
   "id": "4708f7aa-b299-4af7-9272-b66765b57f33",
   "metadata": {},
   "outputs": [
    {
     "data": {
      "text/plain": [
       "{'eos_token': '<|endoftext|>',\n",
       " 'pad_token': '<|endoftext|>',\n",
       " 'additional_special_tokens': ['<|im_start|>', '<|im_end|>']}"
      ]
     },
     "execution_count": 34,
     "metadata": {},
     "output_type": "execute_result"
    }
   ],
   "source": [
    "tokenizer.special_tokens_map"
   ]
  },
  {
   "cell_type": "code",
   "execution_count": 36,
   "id": "36e102e7-f6a8-40a2-b5f5-67e1f2e86eff",
   "metadata": {},
   "outputs": [
    {
     "data": {
      "text/plain": [
       "(151643, 151643)"
      ]
     },
     "execution_count": 36,
     "metadata": {},
     "output_type": "execute_result"
    }
   ],
   "source": [
    "tokenizer.pad_token_id, tokenizer.eos_token_id"
   ]
  },
  {
   "cell_type": "markdown",
   "id": "b21a3035-ef80-44e4-9627-f67f4f89b930",
   "metadata": {},
   "source": [
    "#### Initial Tokenizer Setup"
   ]
  },
  {
   "cell_type": "markdown",
   "id": "fc9d0604-08ca-4dd6-a4f3-a0eae59f89ca",
   "metadata": {},
   "source": [
    "##### Add a separate PAD token"
   ]
  },
  {
   "cell_type": "markdown",
   "id": "f97ee788-a891-4a76-802f-3b9b1bfaf9df",
   "metadata": {},
   "source": [
    "- Title: The N+ Implementation Details of RLHF with PPO: A Case Study on TL;DR Summarization\n",
    "- Link: https://arxiv.org/abs/2403.17031"
   ]
  },
  {
   "cell_type": "code",
   "execution_count": 37,
   "id": "511966c9-524c-457a-bb99-53a00291f7a5",
   "metadata": {},
   "outputs": [
    {
     "name": "stderr",
     "output_type": "stream",
     "text": [
      "Special tokens have been added in the vocabulary, make sure the associated word embeddings are fine-tuned or trained.\n"
     ]
    },
    {
     "data": {
      "text/plain": [
       "{'eos_token': '<|endoftext|>',\n",
       " 'pad_token': '<|endoftext|>',\n",
       " 'additional_special_tokens': ['<|im_start|>', '<|im_end|>']}"
      ]
     },
     "execution_count": 37,
     "metadata": {},
     "output_type": "execute_result"
    }
   ],
   "source": [
    "model_path = 'model/Qwen1.5-1.8B/'\n",
    "\n",
    "tokenizer = AutoTokenizer.from_pretrained(model_path, use_fast=True)\n",
    "tokenizer.special_tokens_map"
   ]
  },
  {
   "cell_type": "code",
   "execution_count": 38,
   "id": "d2382e29-6ef2-4197-8df1-c477cc788504",
   "metadata": {},
   "outputs": [
    {
     "data": {
      "text/plain": [
       "(151643, 151643)"
      ]
     },
     "execution_count": 38,
     "metadata": {},
     "output_type": "execute_result"
    }
   ],
   "source": [
    "tokenizer.pad_token_id, tokenizer.eos_token_id"
   ]
  },
  {
   "cell_type": "code",
   "execution_count": 39,
   "id": "aa96d9fa-9504-457c-ba0a-d98bae079113",
   "metadata": {},
   "outputs": [
    {
     "data": {
      "text/plain": [
       "{'eos_token': '<|endoftext|>',\n",
       " 'pad_token': '<|padoftext|>',\n",
       " 'additional_special_tokens': ['<|im_start|>', '<|im_end|>']}"
      ]
     },
     "execution_count": 39,
     "metadata": {},
     "output_type": "execute_result"
    }
   ],
   "source": [
    "# https://arxiv.org/abs/2403.17031\n",
    "tokenizer.add_special_tokens({'pad_token': '<|padoftext|>'})\n",
    "tokenizer.pad_token_id = 151646\n",
    "tokenizer.special_tokens_map"
   ]
  },
  {
   "cell_type": "code",
   "execution_count": 40,
   "id": "287bcd85-f4ad-4519-975e-d6c27a949a73",
   "metadata": {},
   "outputs": [
    {
     "data": {
      "text/plain": [
       "[151643, 151646, [151644, 151645]]"
      ]
     },
     "execution_count": 40,
     "metadata": {},
     "output_type": "execute_result"
    }
   ],
   "source": [
    "[tokenizer.convert_tokens_to_ids(token) for token in tokenizer.special_tokens_map.values()]"
   ]
  },
  {
   "cell_type": "markdown",
   "id": "6a6e39b8-95f3-4265-b47c-92f15b414f87",
   "metadata": {},
   "source": [
    "##### Write ChatML format"
   ]
  },
  {
   "cell_type": "code",
   "execution_count": 41,
   "id": "4e93f58d-87f2-4538-b277-a126b900ae04",
   "metadata": {},
   "outputs": [
    {
     "data": {
      "text/plain": [
       "\"<|im_start|>system\\nYou are a helpful assistant.<|im_end|>\\n<|im_start|>user\\nHello, how are you?<|im_end|>\\n<|im_start|>assistant\\nI'm doing great. How can I help you today?<|im_end|>\\n\""
      ]
     },
     "execution_count": 41,
     "metadata": {},
     "output_type": "execute_result"
    }
   ],
   "source": [
    "chat = [\n",
    "   {\"role\": \"system\", \"content\": \"You are a helpful assistant.\"},\n",
    "   {\"role\": \"user\", \"content\": \"Hello, how are you?\"},\n",
    "   {\"role\": \"assistant\", \"content\": \"I'm doing great. How can I help you today?\"},\n",
    "]\n",
    "tokenizer.apply_chat_template(chat, tokenize=False)"
   ]
  },
  {
   "cell_type": "code",
   "execution_count": 42,
   "id": "214251ea-3451-4ecd-893d-9642877520fe",
   "metadata": {},
   "outputs": [],
   "source": [
    "def tokenize_chatml(batch):\n",
    "    input_ids = []\n",
    "    attention_mask = []\n",
    "    target_mask = []\n",
    "\n",
    "    zh_system = \"你是千问生物智能助手，一个专注于生物领域的先进人工智能。\"\n",
    "    en_system = \"You are BIO-QWEN, an advanced AI specializing in the field of biology.\"\n",
    "    \n",
    "    for lang, instruction, input_text, output in zip(batch['lang'], batch['instruction'], batch['input'], batch['output']):\n",
    "        system_greeting = zh_system if lang == 'zh' else en_system\n",
    "        system_format = f'<|im_start|>system\\n{system_greeting}<|im_end|>\\n'\n",
    "        user_format = f'<|im_start|>user\\n{instruction.strip() + \" \" + input_text.strip()}<|im_end|>\\n<|im_start|>assistant\\n'\n",
    "        assistant_format = f'{output.strip()}<|im_end|>'\n",
    "        chatml_text = f'{system_format}{user_format}{assistant_format}'\n",
    "\n",
    "        # Initial encoding text\n",
    "        encoded_length = len(tokenizer.encode(chatml_text, add_special_tokens=False))\n",
    "        min_length = len(tokenizer.encode(system_format + user_format, add_special_tokens=False))\n",
    "        \n",
    "        # Loop to remove the last segment of text until the length meets the requirement\n",
    "        while encoded_length > max_length:\n",
    "            last_newline = chatml_text.rfind('\\n')\n",
    "            if last_newline > min_length:\n",
    "                chatml_text = chatml_text[:last_newline]\n",
    "                encoded_length = len(tokenizer.encode(chatml_text, add_special_tokens=False))\n",
    "            else:\n",
    "                # If a suitable newline character is not found, truncate directly to max_length\n",
    "                chatml_text = chatml_text[:max_length]\n",
    "                break\n",
    "                \n",
    "        if not chatml_text.endswith('<|im_end|>\\n'):\n",
    "            chatml_text += '<|im_end|>\\n'\n",
    "\n",
    "        chatml_text += tokenizer.eos_token\n",
    "                \n",
    "        tokenized = tokenizer(chatml_text, add_special_tokens=False, return_tensors=\"pt\")\n",
    "        input_ids.append(tokenized.input_ids.squeeze().tolist())\n",
    "        attention_mask.append(tokenized.attention_mask.squeeze().tolist())\n",
    "\n",
    "        start_idx = len(tokenizer.encode(system_format, add_special_tokens=False)) + len(tokenizer.encode(user_format, add_special_tokens=False))\n",
    "        end_idx = len(tokenizer.encode(chatml_text))\n",
    "        label = [0] * start_idx + [1] * (end_idx - start_idx)\n",
    "        target_mask.append(label)\n",
    "\n",
    "        input_ids = input_ids[:max_length]\n",
    "        attention_mask = attention_mask[:max_length]\n",
    "        target_mask = target_mask[:max_length]\n",
    "        assert len(input_ids) == len(attention_mask) == len(target_mask)\n",
    "\n",
    "    batch['input_ids'] = input_ids\n",
    "    batch['attention_mask'] = attention_mask\n",
    "    batch['target_mask'] = target_mask\n",
    "\n",
    "    return batch"
   ]
  },
  {
   "cell_type": "code",
   "execution_count": 17,
   "id": "e847b251-2b45-4f5f-906d-27006ef61887",
   "metadata": {},
   "outputs": [],
   "source": [
    "test_dpo_data = add_lang_dpo_data.select(range(10))"
   ]
  },
  {
   "cell_type": "code",
   "execution_count": 18,
   "id": "088126eb-5031-4c48-9b85-2d398587d392",
   "metadata": {
    "scrolled": true
   },
   "outputs": [
    {
     "data": {
      "application/vnd.jupyter.widget-view+json": {
       "model_id": "0f95666b2af24d9f9cc765ca1317ff2c",
       "version_major": 2,
       "version_minor": 0
      },
      "text/plain": [
       "Map:   0%|          | 0/10 [00:00<?, ? examples/s]"
      ]
     },
     "metadata": {},
     "output_type": "display_data"
    },
    {
     "data": {
      "text/plain": [
       "[38, 38, 242, 242, 242, 132, 132, 132]"
      ]
     },
     "execution_count": 18,
     "metadata": {},
     "output_type": "execute_result"
    }
   ],
   "source": [
    "[len(i) for i in test_dpo_data.map(tokenize_chatml_dpo, batched=True, remove_columns=add_lang_dpo_data.column_names)[0].values()]"
   ]
  },
  {
   "cell_type": "code",
   "execution_count": 19,
   "id": "b8eb78e8-a859-40c0-ac21-122b5fb9cebd",
   "metadata": {},
   "outputs": [
    {
     "data": {
      "text/plain": [
       "'<|im_start|>system\\n你是千问生物智能助手，一个专注于生物领域的先进人工智能。<|im_end|>\\n<|im_start|>user\\n医生您好，请问金黄色葡萄球菌是什么引起的<|im_end|>\\n<|im_start|>assistant\\n'"
      ]
     },
     "execution_count": 19,
     "metadata": {},
     "output_type": "execute_result"
    }
   ],
   "source": [
    "tokenizer.decode(test_dpo_data.map(tokenize_chatml_dpo, batched=True, remove_columns=add_lang_dpo_data.column_names)[0]['prompt_input_ids'])"
   ]
  },
  {
   "cell_type": "code",
   "execution_count": 20,
   "id": "bf0641c2-2ebf-43a3-90b5-83d584b5f82d",
   "metadata": {},
   "outputs": [
    {
     "name": "stdout",
     "output_type": "stream",
     "text": [
      "金黄色葡萄球菌是一种常见的细菌，可以引起各种感染，包括皮肤感染、软组织感染、心内膜炎、肺炎等。一般情况下，人们会通过接触污染物品或者其他感染者的皮肤表面接触到金黄色葡萄球菌。此外，金黄色葡萄球菌也可以在医院等医疗环境中感染患者。因此，保持个人卫生，勤洗手，避免接触感染源是预防金黄色葡萄球菌感染的有效措施。<|im_end|>\n",
      "<|endoftext|>"
     ]
    }
   ],
   "source": [
    "for id, label in zip(test_dpo_data.map(tokenize_chatml_dpo, batched=True, remove_columns=add_lang_dpo_data.column_names)[0]['rejected_input_ids'], test_dpo_data.map(tokenize_chatml_dpo, batched=True, remove_columns=add_lang_dpo_data.column_names)[0]['rejected_labels']):\n",
    "    if label != -100:\n",
    "        print(tokenizer.decode(id), end='')"
   ]
  },
  {
   "cell_type": "code",
   "execution_count": 22,
   "id": "e472d792-eb2f-452c-9564-6ff978067877",
   "metadata": {},
   "outputs": [
    {
     "name": "stdout",
     "output_type": "stream",
     "text": [
      "金黄色葡萄球菌通常由以下因素引起：\n",
      "\n",
      "* **皮肤破损：**细菌可以通过切割、擦伤或烧伤等皮肤破损处进入体内。\n",
      "* **个人卫生不良：**不经常洗手或接触污染物品会导致细菌传播。\n",
      "* **医疗器械：**受污染的医疗器械，如导管、导尿管或呼吸机，可能会将细菌引入体内。\n",
      "* **医院环境：**医院中经常接触细菌，这可能会导致感染。\n",
      "* **动物接触：**接触感染细菌的动物，如狗和猫，可能会导致金黄色葡萄球菌的传播。\n",
      "* **密切接触：**与携带细菌的人密切接触，如家庭成员或医疗保健工作者，可能会导致感染。\n",
      "* **免疫力低下：**患有糖尿病、癌症或艾滋病等慢性疾病的人更容易感染金黄色葡萄球菌。\n",
      "* **医疗植入物：**金属或塑料医疗植入物，如关节置换或心脏起搏器，可能会成为细菌繁殖的场所。<|im_end|>\n",
      "<|endoftext|>"
     ]
    }
   ],
   "source": [
    "for id, label in zip(test_dpo_data.map(tokenize_chatml_dpo, batched=True, remove_columns=add_lang_dpo_data.column_names)[0]['chosen_input_ids'], test_dpo_data.map(tokenize_chatml_dpo, batched=True, remove_columns=add_lang_dpo_data.column_names)[0]['chosen_labels']):\n",
    "    if label != -100:\n",
    "        print(tokenizer.decode(id), end='')"
   ]
  },
  {
   "cell_type": "code",
   "execution_count": 25,
   "id": "fcdcd4e7-40a6-4429-9bbb-9ace938a95bd",
   "metadata": {},
   "outputs": [
    {
     "ename": "NameError",
     "evalue": "name 'add_lang_stage1_data' is not defined",
     "output_type": "error",
     "traceback": [
      "\u001b[0;31m---------------------------------------------------------------------------\u001b[0m",
      "\u001b[0;31mNameError\u001b[0m                                 Traceback (most recent call last)",
      "Cell \u001b[0;32mIn[25], line 1\u001b[0m\n\u001b[0;32m----> 1\u001b[0m test \u001b[38;5;241m=\u001b[39m \u001b[43madd_lang_stage1_data\u001b[49m\u001b[38;5;241m.\u001b[39mshuffle()\u001b[38;5;241m.\u001b[39mselect(\u001b[38;5;28mrange\u001b[39m(\u001b[38;5;241m2\u001b[39m))\n\u001b[1;32m      2\u001b[0m test\n",
      "\u001b[0;31mNameError\u001b[0m: name 'add_lang_stage1_data' is not defined"
     ]
    }
   ],
   "source": [
    "test = add_lang_stage1_data.shuffle().select(range(2))\n",
    "test"
   ]
  },
  {
   "cell_type": "code",
   "execution_count": 26,
   "id": "8028d662-ae44-447c-9165-6f0c59e039df",
   "metadata": {
    "scrolled": true
   },
   "outputs": [
    {
     "ename": "NameError",
     "evalue": "name 'test' is not defined",
     "output_type": "error",
     "traceback": [
      "\u001b[0;31m---------------------------------------------------------------------------\u001b[0m",
      "\u001b[0;31mNameError\u001b[0m                                 Traceback (most recent call last)",
      "Cell \u001b[0;32mIn[26], line 1\u001b[0m\n\u001b[0;32m----> 1\u001b[0m \u001b[43mtest\u001b[49m[\u001b[38;5;241m0\u001b[39m]\n",
      "\u001b[0;31mNameError\u001b[0m: name 'test' is not defined"
     ]
    }
   ],
   "source": [
    "test[0]"
   ]
  },
  {
   "cell_type": "code",
   "execution_count": 46,
   "id": "11987eb1-6218-4ada-bb66-d2f5cc4305d4",
   "metadata": {
    "scrolled": true
   },
   "outputs": [
    {
     "data": {
      "application/vnd.jupyter.widget-view+json": {
       "model_id": "8affaf494d534972be8a435d6d0cea55",
       "version_major": 2,
       "version_minor": 0
      },
      "text/plain": [
       "Map:   0%|          | 0/2 [00:00<?, ? examples/s]"
      ]
     },
     "metadata": {},
     "output_type": "display_data"
    },
    {
     "data": {
      "text/plain": [
       "{'input_ids': [151644,\n",
       "  8948,\n",
       "  198,\n",
       "  105043,\n",
       "  99320,\n",
       "  56007,\n",
       "  100206,\n",
       "  100168,\n",
       "  110498,\n",
       "  3837,\n",
       "  46944,\n",
       "  107782,\n",
       "  100206,\n",
       "  104799,\n",
       "  100455,\n",
       "  104455,\n",
       "  1773,\n",
       "  151645,\n",
       "  198,\n",
       "  151644,\n",
       "  872,\n",
       "  198,\n",
       "  109023,\n",
       "  105395,\n",
       "  12857,\n",
       "  104105,\n",
       "  28311,\n",
       "  100001,\n",
       "  99556,\n",
       "  45139,\n",
       "  11,\n",
       "  111242,\n",
       "  22704,\n",
       "  104956,\n",
       "  105262,\n",
       "  20221,\n",
       "  99449,\n",
       "  104595,\n",
       "  115293,\n",
       "  101160,\n",
       "  33447,\n",
       "  100669,\n",
       "  101899,\n",
       "  30440,\n",
       "  32555,\n",
       "  21287,\n",
       "  101373,\n",
       "  105376,\n",
       "  99447,\n",
       "  99419,\n",
       "  11,\n",
       "  101886,\n",
       "  107756,\n",
       "  101883,\n",
       "  104316,\n",
       "  99877,\n",
       "  101898,\n",
       "  111242,\n",
       "  22704,\n",
       "  104956,\n",
       "  106307,\n",
       "  100669,\n",
       "  115757,\n",
       "  33108,\n",
       "  101899,\n",
       "  11,\n",
       "  23031,\n",
       "  101153,\n",
       "  41146,\n",
       "  105376,\n",
       "  110061,\n",
       "  106115,\n",
       "  102617,\n",
       "  100416,\n",
       "  16,\n",
       "  19,\n",
       "  13,\n",
       "  220,\n",
       "  151645,\n",
       "  198,\n",
       "  151644,\n",
       "  77091,\n",
       "  198,\n",
       "  9485,\n",
       "  7822,\n",
       "  11827,\n",
       "  429,\n",
       "  45371,\n",
       "  1035,\n",
       "  8760,\n",
       "  504,\n",
       "  49050,\n",
       "  6380,\n",
       "  369,\n",
       "  1186,\n",
       "  90799,\n",
       "  52960,\n",
       "  8457,\n",
       "  323,\n",
       "  19006,\n",
       "  304,\n",
       "  18564,\n",
       "  553,\n",
       "  1045,\n",
       "  6457,\n",
       "  11104,\n",
       "  369,\n",
       "  14021,\n",
       "  49050,\n",
       "  22265,\n",
       "  323,\n",
       "  6380,\n",
       "  311,\n",
       "  5358,\n",
       "  1186,\n",
       "  8252,\n",
       "  24675,\n",
       "  4401,\n",
       "  304,\n",
       "  45371,\n",
       "  13,\n",
       "  16,\n",
       "  19,\n",
       "  151645,\n",
       "  198,\n",
       "  151643],\n",
       " 'attention_mask': [1,\n",
       "  1,\n",
       "  1,\n",
       "  1,\n",
       "  1,\n",
       "  1,\n",
       "  1,\n",
       "  1,\n",
       "  1,\n",
       "  1,\n",
       "  1,\n",
       "  1,\n",
       "  1,\n",
       "  1,\n",
       "  1,\n",
       "  1,\n",
       "  1,\n",
       "  1,\n",
       "  1,\n",
       "  1,\n",
       "  1,\n",
       "  1,\n",
       "  1,\n",
       "  1,\n",
       "  1,\n",
       "  1,\n",
       "  1,\n",
       "  1,\n",
       "  1,\n",
       "  1,\n",
       "  1,\n",
       "  1,\n",
       "  1,\n",
       "  1,\n",
       "  1,\n",
       "  1,\n",
       "  1,\n",
       "  1,\n",
       "  1,\n",
       "  1,\n",
       "  1,\n",
       "  1,\n",
       "  1,\n",
       "  1,\n",
       "  1,\n",
       "  1,\n",
       "  1,\n",
       "  1,\n",
       "  1,\n",
       "  1,\n",
       "  1,\n",
       "  1,\n",
       "  1,\n",
       "  1,\n",
       "  1,\n",
       "  1,\n",
       "  1,\n",
       "  1,\n",
       "  1,\n",
       "  1,\n",
       "  1,\n",
       "  1,\n",
       "  1,\n",
       "  1,\n",
       "  1,\n",
       "  1,\n",
       "  1,\n",
       "  1,\n",
       "  1,\n",
       "  1,\n",
       "  1,\n",
       "  1,\n",
       "  1,\n",
       "  1,\n",
       "  1,\n",
       "  1,\n",
       "  1,\n",
       "  1,\n",
       "  1,\n",
       "  1,\n",
       "  1,\n",
       "  1,\n",
       "  1,\n",
       "  1,\n",
       "  1,\n",
       "  1,\n",
       "  1,\n",
       "  1,\n",
       "  1,\n",
       "  1,\n",
       "  1,\n",
       "  1,\n",
       "  1,\n",
       "  1,\n",
       "  1,\n",
       "  1,\n",
       "  1,\n",
       "  1,\n",
       "  1,\n",
       "  1,\n",
       "  1,\n",
       "  1,\n",
       "  1,\n",
       "  1,\n",
       "  1,\n",
       "  1,\n",
       "  1,\n",
       "  1,\n",
       "  1,\n",
       "  1,\n",
       "  1,\n",
       "  1,\n",
       "  1,\n",
       "  1,\n",
       "  1,\n",
       "  1,\n",
       "  1,\n",
       "  1,\n",
       "  1,\n",
       "  1,\n",
       "  1,\n",
       "  1,\n",
       "  1,\n",
       "  1,\n",
       "  1,\n",
       "  1],\n",
       " 'target_mask': [0,\n",
       "  0,\n",
       "  0,\n",
       "  0,\n",
       "  0,\n",
       "  0,\n",
       "  0,\n",
       "  0,\n",
       "  0,\n",
       "  0,\n",
       "  0,\n",
       "  0,\n",
       "  0,\n",
       "  0,\n",
       "  0,\n",
       "  0,\n",
       "  0,\n",
       "  0,\n",
       "  0,\n",
       "  0,\n",
       "  0,\n",
       "  0,\n",
       "  0,\n",
       "  0,\n",
       "  0,\n",
       "  0,\n",
       "  0,\n",
       "  0,\n",
       "  0,\n",
       "  0,\n",
       "  0,\n",
       "  0,\n",
       "  0,\n",
       "  0,\n",
       "  0,\n",
       "  0,\n",
       "  0,\n",
       "  0,\n",
       "  0,\n",
       "  0,\n",
       "  0,\n",
       "  0,\n",
       "  0,\n",
       "  0,\n",
       "  0,\n",
       "  0,\n",
       "  0,\n",
       "  0,\n",
       "  0,\n",
       "  0,\n",
       "  0,\n",
       "  0,\n",
       "  0,\n",
       "  0,\n",
       "  0,\n",
       "  0,\n",
       "  0,\n",
       "  0,\n",
       "  0,\n",
       "  0,\n",
       "  0,\n",
       "  0,\n",
       "  0,\n",
       "  0,\n",
       "  0,\n",
       "  0,\n",
       "  0,\n",
       "  0,\n",
       "  0,\n",
       "  0,\n",
       "  0,\n",
       "  0,\n",
       "  0,\n",
       "  0,\n",
       "  0,\n",
       "  0,\n",
       "  0,\n",
       "  0,\n",
       "  0,\n",
       "  0,\n",
       "  0,\n",
       "  0,\n",
       "  0,\n",
       "  1,\n",
       "  1,\n",
       "  1,\n",
       "  1,\n",
       "  1,\n",
       "  1,\n",
       "  1,\n",
       "  1,\n",
       "  1,\n",
       "  1,\n",
       "  1,\n",
       "  1,\n",
       "  1,\n",
       "  1,\n",
       "  1,\n",
       "  1,\n",
       "  1,\n",
       "  1,\n",
       "  1,\n",
       "  1,\n",
       "  1,\n",
       "  1,\n",
       "  1,\n",
       "  1,\n",
       "  1,\n",
       "  1,\n",
       "  1,\n",
       "  1,\n",
       "  1,\n",
       "  1,\n",
       "  1,\n",
       "  1,\n",
       "  1,\n",
       "  1,\n",
       "  1,\n",
       "  1,\n",
       "  1,\n",
       "  1,\n",
       "  1,\n",
       "  1,\n",
       "  1,\n",
       "  1,\n",
       "  1]}"
      ]
     },
     "execution_count": 46,
     "metadata": {},
     "output_type": "execute_result"
    }
   ],
   "source": [
    "test.map(tokenize_chatml, batched=True, remove_columns=add_lang_stage1_data.column_names)[0]"
   ]
  },
  {
   "cell_type": "code",
   "execution_count": 47,
   "id": "e43ead30-7ed7-48f3-b312-aa4e7a4ed0f2",
   "metadata": {},
   "outputs": [
    {
     "data": {
      "text/plain": [
       "126"
      ]
     },
     "execution_count": 47,
     "metadata": {},
     "output_type": "execute_result"
    }
   ],
   "source": [
    "len(test.map(tokenize_chatml, batched=True, remove_columns=add_lang_stage1_data.column_names)[0]['input_ids'])"
   ]
  },
  {
   "cell_type": "code",
   "execution_count": 48,
   "id": "5a0190bc-9e12-4009-a3fd-ec09ad371325",
   "metadata": {},
   "outputs": [
    {
     "data": {
      "text/plain": [
       "'<|im_start|>system\\n你是千问生物智能助手，一个专注于生物领域的先进人工智能。<|im_end|>\\n<|im_start|>user\\n汉语翻译成英语：\\n这些研究提示,妊娠期妇女诊断出亚临床甲状腺疾病后接受治疗可使生下的子女获益,因此促使一些医学组织建议妊娠期妇女常规接受筛查和治疗,以避免其子女的认知发育低于正常14. <|im_end|>\\n<|im_start|>assistant\\nThese studies suggested that offspring would benefit from maternal treatment for subclinical thyroid disease and resulted in recommendations by some medical organizations for routine maternal screening and treatment to prevent subnormal cognitive development in offspring.14<|im_end|>\\n<|endoftext|>'"
      ]
     },
     "execution_count": 48,
     "metadata": {},
     "output_type": "execute_result"
    }
   ],
   "source": [
    "tokenizer.decode(test.map(tokenize_chatml, batched=True, remove_columns=add_lang_stage1_data.column_names)[0]['input_ids'])"
   ]
  },
  {
   "cell_type": "code",
   "execution_count": 49,
   "id": "48e72110-e002-404f-80a5-72ebf109b51d",
   "metadata": {},
   "outputs": [
    {
     "name": "stdout",
     "output_type": "stream",
     "text": [
      "These studies suggested that offspring would benefit from maternal treatment for subclinical thyroid disease and resulted in recommendations by some medical organizations for routine maternal screening and treatment to prevent subnormal cognitive development in offspring.14<|im_end|>\n",
      "<|endoftext|>"
     ]
    }
   ],
   "source": [
    "for id, label in zip(test.map(tokenize_chatml, batched=True, remove_columns=add_lang_stage1_data.column_names)[0]['input_ids'], test.map(tokenize_chatml, batched=True, remove_columns=add_lang_stage1_data.column_names)[0]['target_mask']):\n",
    "    if label:\n",
    "        print(tokenizer.decode(id), end='')"
   ]
  },
  {
   "cell_type": "markdown",
   "id": "a7af0cb8-4076-401a-b078-204dbd62fa4f",
   "metadata": {},
   "source": [
    "### Final Stage1 123814"
   ]
  },
  {
   "cell_type": "code",
   "execution_count": 127,
   "id": "9c35bf6b-847e-446a-b61a-97cfcfa7d38a",
   "metadata": {
    "scrolled": true
   },
   "outputs": [
    {
     "data": {
      "application/vnd.jupyter.widget-view+json": {
       "model_id": "cb639fd5739a4f4b9a8bc63e5d02c566",
       "version_major": 2,
       "version_minor": 0
      },
      "text/plain": [
       "Map (num_proc=64):   0%|          | 0/148645 [00:00<?, ? examples/s]"
      ]
     },
     "metadata": {},
     "output_type": "display_data"
    },
    {
     "data": {
      "text/plain": [
       "Dataset({\n",
       "    features: ['input_ids', 'attention_mask', 'target_mask'],\n",
       "    num_rows: 148645\n",
       "})"
      ]
     },
     "execution_count": 127,
     "metadata": {},
     "output_type": "execute_result"
    }
   ],
   "source": [
    "tokenized_stage1_data = add_lang_stage1_data.map(tokenize_chatml, batched=True, \n",
    "                                                 remove_columns=add_lang_stage1_data.column_names, \n",
    "                                                 num_proc=64\n",
    "                                                )\n",
    "tokenized_stage1_data"
   ]
  },
  {
   "cell_type": "code",
   "execution_count": 128,
   "id": "5aa9cdca-33cf-4369-92e8-ebf8c57c3111",
   "metadata": {
    "scrolled": true
   },
   "outputs": [],
   "source": [
    "for i in range(len(tokenized_stage1_data)):\n",
    "    if len(tokenized_stage1_data[i]['input_ids']) > 1024:\n",
    "        print(i)"
   ]
  },
  {
   "cell_type": "code",
   "execution_count": 129,
   "id": "88c2414e-e072-47d5-96cf-32705696bc7a",
   "metadata": {
    "scrolled": true
   },
   "outputs": [
    {
     "data": {
      "text/plain": [
       "143"
      ]
     },
     "execution_count": 129,
     "metadata": {},
     "output_type": "execute_result"
    }
   ],
   "source": [
    "len(tokenized_stage1_data[62027]['target_mask']) - sum(tokenized_stage1_data[62027]['target_mask'])"
   ]
  },
  {
   "cell_type": "code",
   "execution_count": 130,
   "id": "2bed4560-30f1-4f17-ae55-699f057406b1",
   "metadata": {
    "scrolled": true
   },
   "outputs": [
    {
     "data": {
      "text/plain": [
       "'<|im_start|>system\\nYou are BIO-QWEN, an advanced AI specializing in the field of biology.<|im_end|>\\n<|im_start|>user\\nTranslate the following text into Chinese:\\nEffect of left ventricular ejection fraction on clinical long-term follow-up outcomes in patients with acute ST-segment elevation myocardial infarction undergoing primary percutaneous coronary intervention <|im_end|>\\n<|im_start|>assistant\\n左室射血分数对急诊冠状动脉介入治疗急性ST段抬高心肌梗死患者远期预后的影响<|im_end|><|endoftext|>'"
      ]
     },
     "execution_count": 130,
     "metadata": {},
     "output_type": "execute_result"
    }
   ],
   "source": [
    "tokenizer.decode(tokenized_stage1_data[65829]['input_ids'][:])"
   ]
  },
  {
   "cell_type": "markdown",
   "id": "00f62bb3-e926-49e3-88ff-5a5dfd0d2ad9",
   "metadata": {},
   "source": [
    "### Final Stage2 411900"
   ]
  },
  {
   "cell_type": "code",
   "execution_count": 52,
   "id": "00780388-9284-4332-b345-6040a606ca95",
   "metadata": {
    "scrolled": true
   },
   "outputs": [
    {
     "data": {
      "text/plain": [
       "Dataset({\n",
       "    features: ['input_ids', 'attention_mask', 'target_mask'],\n",
       "    num_rows: 411900\n",
       "})"
      ]
     },
     "execution_count": 52,
     "metadata": {},
     "output_type": "execute_result"
    }
   ],
   "source": [
    "tokenized_stage2_data = add_lang_stage2_data.map(tokenize_chatml, batched=True, \n",
    "                                                 remove_columns=add_lang_stage2_data.column_names, num_proc=64)\n",
    "tokenized_stage2_data"
   ]
  },
  {
   "cell_type": "markdown",
   "id": "78ecb11b-2f4d-4c19-9106-edef244a3774",
   "metadata": {
    "jp-MarkdownHeadingCollapsed": true
   },
   "source": [
    "## Model"
   ]
  },
  {
   "cell_type": "markdown",
   "id": "1284c86c-150e-495b-87e2-d3ea8ad2bd27",
   "metadata": {},
   "source": [
    "- Method: qlora\n",
    "- Title: QLoRA: Efficient Finetuning of Quantized LLMs\n",
    "- Link: https://arxiv.org/abs/2305.14314\n",
    "- Func: Reduce model memory usage, increase input sequence length"
   ]
  },
  {
   "cell_type": "code",
   "execution_count": 5,
   "id": "25def006-8149-4ee7-9ff2-a82541e1e50f",
   "metadata": {
    "editable": true,
    "scrolled": true,
    "slideshow": {
     "slide_type": ""
    },
    "tags": []
   },
   "outputs": [],
   "source": [
    "model_path = 'model/Qwen1.5-1.8B/'\n",
    "\n",
    "bnb_config = BitsAndBytesConfig(\n",
    "    load_in_4bit=True,\n",
    "    bnb_4bit_quant_type=\"nf4\",\n",
    "    bnb_4bit_compute_dtype=torch.bfloat16,\n",
    "    bnb_4bit_use_double_quant=True,\n",
    "    llm_int8_threshold=6.0,\n",
    "    llm_int8_has_fp16_weight=False\n",
    ")\n",
    "\n",
    "model = AutoModelForCausalLM.from_pretrained(\n",
    "                                             model_path, \n",
    "                                             torch_dtype=torch.bfloat16, \n",
    "                                             attn_implementation='flash_attention_2',\n",
    "                                             quantization_config=bnb_config if train_mode == 'qlora' else None,\n",
    "                                             device_map=get_kbit_device_map() if train_mode == 'qlora' else None,\n",
    "                                            )\n",
    "\n",
    "if train_mode == 'qlora':\n",
    "    model.config.use_cache = False\n",
    "    # QLora: casts all the non int8 modules to full precision (fp32) for stability\n",
    "    # call model.gradient_checkpointing_enable() (as part of prepare_model_for_kbit_training)\n",
    "    model = prepare_model_for_kbit_training(model, \n",
    "                                            # use_gradient_checkpointing=False,\n",
    "                                            gradient_checkpointing_kwargs={\"use_reentrant\": False}\n",
    "                                           )\n",
    "elif train_mode == 'lora':\n",
    "    model.config.use_cache = False\n",
    "    # LoRA: Enables the gradients for the input embeddings\n",
    "    if hasattr(model, \"enable_input_require_grads\"):\n",
    "        model.enable_input_require_grads()\n",
    "    else:\n",
    "        def make_inputs_require_grad(module, input, output):\n",
    "            output.requires_grad_(True)\n",
    "        model.get_input_embeddings().register_forward_hook(make_inputs_require_grad)"
   ]
  },
  {
   "cell_type": "code",
   "execution_count": 47,
   "id": "01a6c217-515b-417a-8e3e-36c822fbda6e",
   "metadata": {
    "scrolled": true
   },
   "outputs": [
    {
     "name": "stderr",
     "output_type": "stream",
     "text": [
      "Special tokens have been added in the vocabulary, make sure the associated word embeddings are fine-tuned or trained.\n"
     ]
    },
    {
     "data": {
      "text/plain": [
       "Qwen2TokenizerFast(name_or_path='../model/Qwen1.5-1.8B/', vocab_size=151643, model_max_length=32768, is_fast=True, padding_side='right', truncation_side='right', special_tokens={'eos_token': '<|endoftext|>', 'pad_token': '<|padoftext|>', 'additional_special_tokens': ['<|im_start|>', '<|im_end|>']}, clean_up_tokenization_spaces=False),  added_tokens_decoder={\n",
       "\t151643: AddedToken(\"<|endoftext|>\", rstrip=False, lstrip=False, single_word=False, normalized=False, special=True),\n",
       "\t151644: AddedToken(\"<|im_start|>\", rstrip=False, lstrip=False, single_word=False, normalized=False, special=True),\n",
       "\t151645: AddedToken(\"<|im_end|>\", rstrip=False, lstrip=False, single_word=False, normalized=False, special=True),\n",
       "\t151646: AddedToken(\"<|padoftext|>\", rstrip=False, lstrip=False, single_word=False, normalized=False, special=True),\n",
       "}"
      ]
     },
     "execution_count": 47,
     "metadata": {},
     "output_type": "execute_result"
    }
   ],
   "source": [
    "tokenizer = AutoTokenizer.from_pretrained(model_path, use_fast=True)\n",
    "tokenizer.add_special_tokens({'pad_token': '<|padoftext|>'})\n",
    "tokenizer.pad_token_id = 151646\n",
    "tokenizer"
   ]
  },
  {
   "cell_type": "markdown",
   "id": "8de7c211-a507-4a66-aec2-436768e9f5f6",
   "metadata": {
    "jp-MarkdownHeadingCollapsed": true
   },
   "source": [
    "## PEFT（QLoRA or LoRA）"
   ]
  },
  {
   "cell_type": "markdown",
   "id": "24d78f0e-1846-439e-b59c-5d1b5c179307",
   "metadata": {},
   "source": [
    "### Prepare"
   ]
  },
  {
   "cell_type": "code",
   "execution_count": 48,
   "id": "827a082f-9cdf-4fdc-9bd5-1299804d3f77",
   "metadata": {
    "scrolled": true
   },
   "outputs": [
    {
     "data": {
      "text/plain": [
       "Qwen2ForCausalLM(\n",
       "  (model): Qwen2Model(\n",
       "    (embed_tokens): Embedding(151936, 2048)\n",
       "    (layers): ModuleList(\n",
       "      (0-23): 24 x Qwen2DecoderLayer(\n",
       "        (self_attn): Qwen2FlashAttention2(\n",
       "          (q_proj): Linear4bit(in_features=2048, out_features=2048, bias=True)\n",
       "          (k_proj): Linear4bit(in_features=2048, out_features=2048, bias=True)\n",
       "          (v_proj): Linear4bit(in_features=2048, out_features=2048, bias=True)\n",
       "          (o_proj): Linear4bit(in_features=2048, out_features=2048, bias=False)\n",
       "          (rotary_emb): Qwen2RotaryEmbedding()\n",
       "        )\n",
       "        (mlp): Qwen2MLP(\n",
       "          (gate_proj): Linear4bit(in_features=2048, out_features=5504, bias=False)\n",
       "          (up_proj): Linear4bit(in_features=2048, out_features=5504, bias=False)\n",
       "          (down_proj): Linear4bit(in_features=5504, out_features=2048, bias=False)\n",
       "          (act_fn): SiLU()\n",
       "        )\n",
       "        (input_layernorm): Qwen2RMSNorm()\n",
       "        (post_attention_layernorm): Qwen2RMSNorm()\n",
       "      )\n",
       "    )\n",
       "    (norm): Qwen2RMSNorm()\n",
       "  )\n",
       "  (lm_head): Linear(in_features=2048, out_features=151936, bias=False)\n",
       ")"
      ]
     },
     "execution_count": 48,
     "metadata": {},
     "output_type": "execute_result"
    }
   ],
   "source": [
    "model"
   ]
  },
  {
   "cell_type": "code",
   "execution_count": 49,
   "id": "07786b6f-7cee-4c87-9053-0895f5bf03c6",
   "metadata": {},
   "outputs": [],
   "source": [
    "def find_all_linear_names(model, train_mode):\n",
    "    \"\"\"\n",
    "    Identify all fully connected layers and add an adapter to each fully connected layer\n",
    "    \"\"\"\n",
    "    assert train_mode in ['lora', 'qlora']\n",
    "    cls = bnb.nn.Linear4bit if train_mode == 'qlora' else torch.nn.Linear\n",
    "    lora_module_names = set()\n",
    "    for name, module in model.named_modules():\n",
    "        if isinstance(module, cls):\n",
    "            names = name.split('.')\n",
    "            lora_module_names.add(names[0] if len(names) == 1 else names[-1])\n",
    "\n",
    "    if 'lm_head' in lora_module_names:  # needed for 16-bit\n",
    "        lora_module_names.remove('lm_head')\n",
    "    lora_module_names = list(lora_module_names)\n",
    "    return lora_module_names"
   ]
  },
  {
   "cell_type": "code",
   "execution_count": 50,
   "id": "6a393d2a-0c88-4ac5-a820-36e586f1bc31",
   "metadata": {},
   "outputs": [
    {
     "data": {
      "text/plain": [
       "(['q_proj', 'gate_proj', 'k_proj', 'v_proj', 'up_proj', 'down_proj', 'o_proj'],\n",
       " 'qlora')"
      ]
     },
     "execution_count": 50,
     "metadata": {},
     "output_type": "execute_result"
    }
   ],
   "source": [
    "find_all_linear_names(model, train_mode), train_mode"
   ]
  },
  {
   "cell_type": "code",
   "execution_count": 51,
   "id": "35894956-8884-4611-b1ad-f7c2c3c70a2c",
   "metadata": {
    "editable": true,
    "slideshow": {
     "slide_type": ""
    },
    "tags": []
   },
   "outputs": [],
   "source": [
    "peft_config = LoraConfig(\n",
    "    r=64,\n",
    "    lora_alpha=16,\n",
    "    lora_dropout=0.05,\n",
    "    target_modules=find_all_linear_names(model, train_mode),\n",
    "    bias='none',\n",
    "    task_type='CAUSAL_LM'\n",
    ")"
   ]
  },
  {
   "cell_type": "code",
   "execution_count": 52,
   "id": "0fe764cf-586b-43ac-8d33-9c4c30fd9944",
   "metadata": {
    "editable": true,
    "scrolled": true,
    "slideshow": {
     "slide_type": ""
    },
    "tags": []
   },
   "outputs": [
    {
     "name": "stdout",
     "output_type": "stream",
     "text": [
      "trainable params: 59,965,440 || all params: 1,896,794,112 || trainable%: 3.1614\n"
     ]
    },
    {
     "data": {
      "text/plain": [
       "PeftModelForCausalLM(\n",
       "  (base_model): LoraModel(\n",
       "    (model): Qwen2ForCausalLM(\n",
       "      (model): Qwen2Model(\n",
       "        (embed_tokens): Embedding(151936, 2048)\n",
       "        (layers): ModuleList(\n",
       "          (0-23): 24 x Qwen2DecoderLayer(\n",
       "            (self_attn): Qwen2FlashAttention2(\n",
       "              (q_proj): lora.Linear4bit(\n",
       "                (base_layer): Linear4bit(in_features=2048, out_features=2048, bias=True)\n",
       "                (lora_dropout): ModuleDict(\n",
       "                  (default): Dropout(p=0.05, inplace=False)\n",
       "                )\n",
       "                (lora_A): ModuleDict(\n",
       "                  (default): Linear(in_features=2048, out_features=64, bias=False)\n",
       "                )\n",
       "                (lora_B): ModuleDict(\n",
       "                  (default): Linear(in_features=64, out_features=2048, bias=False)\n",
       "                )\n",
       "                (lora_embedding_A): ParameterDict()\n",
       "                (lora_embedding_B): ParameterDict()\n",
       "              )\n",
       "              (k_proj): lora.Linear4bit(\n",
       "                (base_layer): Linear4bit(in_features=2048, out_features=2048, bias=True)\n",
       "                (lora_dropout): ModuleDict(\n",
       "                  (default): Dropout(p=0.05, inplace=False)\n",
       "                )\n",
       "                (lora_A): ModuleDict(\n",
       "                  (default): Linear(in_features=2048, out_features=64, bias=False)\n",
       "                )\n",
       "                (lora_B): ModuleDict(\n",
       "                  (default): Linear(in_features=64, out_features=2048, bias=False)\n",
       "                )\n",
       "                (lora_embedding_A): ParameterDict()\n",
       "                (lora_embedding_B): ParameterDict()\n",
       "              )\n",
       "              (v_proj): lora.Linear4bit(\n",
       "                (base_layer): Linear4bit(in_features=2048, out_features=2048, bias=True)\n",
       "                (lora_dropout): ModuleDict(\n",
       "                  (default): Dropout(p=0.05, inplace=False)\n",
       "                )\n",
       "                (lora_A): ModuleDict(\n",
       "                  (default): Linear(in_features=2048, out_features=64, bias=False)\n",
       "                )\n",
       "                (lora_B): ModuleDict(\n",
       "                  (default): Linear(in_features=64, out_features=2048, bias=False)\n",
       "                )\n",
       "                (lora_embedding_A): ParameterDict()\n",
       "                (lora_embedding_B): ParameterDict()\n",
       "              )\n",
       "              (o_proj): lora.Linear4bit(\n",
       "                (base_layer): Linear4bit(in_features=2048, out_features=2048, bias=False)\n",
       "                (lora_dropout): ModuleDict(\n",
       "                  (default): Dropout(p=0.05, inplace=False)\n",
       "                )\n",
       "                (lora_A): ModuleDict(\n",
       "                  (default): Linear(in_features=2048, out_features=64, bias=False)\n",
       "                )\n",
       "                (lora_B): ModuleDict(\n",
       "                  (default): Linear(in_features=64, out_features=2048, bias=False)\n",
       "                )\n",
       "                (lora_embedding_A): ParameterDict()\n",
       "                (lora_embedding_B): ParameterDict()\n",
       "              )\n",
       "              (rotary_emb): Qwen2RotaryEmbedding()\n",
       "            )\n",
       "            (mlp): Qwen2MLP(\n",
       "              (gate_proj): lora.Linear4bit(\n",
       "                (base_layer): Linear4bit(in_features=2048, out_features=5504, bias=False)\n",
       "                (lora_dropout): ModuleDict(\n",
       "                  (default): Dropout(p=0.05, inplace=False)\n",
       "                )\n",
       "                (lora_A): ModuleDict(\n",
       "                  (default): Linear(in_features=2048, out_features=64, bias=False)\n",
       "                )\n",
       "                (lora_B): ModuleDict(\n",
       "                  (default): Linear(in_features=64, out_features=5504, bias=False)\n",
       "                )\n",
       "                (lora_embedding_A): ParameterDict()\n",
       "                (lora_embedding_B): ParameterDict()\n",
       "              )\n",
       "              (up_proj): lora.Linear4bit(\n",
       "                (base_layer): Linear4bit(in_features=2048, out_features=5504, bias=False)\n",
       "                (lora_dropout): ModuleDict(\n",
       "                  (default): Dropout(p=0.05, inplace=False)\n",
       "                )\n",
       "                (lora_A): ModuleDict(\n",
       "                  (default): Linear(in_features=2048, out_features=64, bias=False)\n",
       "                )\n",
       "                (lora_B): ModuleDict(\n",
       "                  (default): Linear(in_features=64, out_features=5504, bias=False)\n",
       "                )\n",
       "                (lora_embedding_A): ParameterDict()\n",
       "                (lora_embedding_B): ParameterDict()\n",
       "              )\n",
       "              (down_proj): lora.Linear4bit(\n",
       "                (base_layer): Linear4bit(in_features=5504, out_features=2048, bias=False)\n",
       "                (lora_dropout): ModuleDict(\n",
       "                  (default): Dropout(p=0.05, inplace=False)\n",
       "                )\n",
       "                (lora_A): ModuleDict(\n",
       "                  (default): Linear(in_features=5504, out_features=64, bias=False)\n",
       "                )\n",
       "                (lora_B): ModuleDict(\n",
       "                  (default): Linear(in_features=64, out_features=2048, bias=False)\n",
       "                )\n",
       "                (lora_embedding_A): ParameterDict()\n",
       "                (lora_embedding_B): ParameterDict()\n",
       "              )\n",
       "              (act_fn): SiLU()\n",
       "            )\n",
       "            (input_layernorm): Qwen2RMSNorm()\n",
       "            (post_attention_layernorm): Qwen2RMSNorm()\n",
       "          )\n",
       "        )\n",
       "        (norm): Qwen2RMSNorm()\n",
       "      )\n",
       "      (lm_head): Linear(in_features=2048, out_features=151936, bias=False)\n",
       "    )\n",
       "  )\n",
       ")"
      ]
     },
     "execution_count": 52,
     "metadata": {},
     "output_type": "execute_result"
    }
   ],
   "source": [
    "model = get_peft_model(model, peft_config)\n",
    "model.print_trainable_parameters()\n",
    "model"
   ]
  },
  {
   "cell_type": "markdown",
   "id": "150ca855-498f-431b-9abe-39d881f88786",
   "metadata": {},
   "source": [
    "### DataCollator"
   ]
  },
  {
   "cell_type": "code",
   "execution_count": 53,
   "id": "a5791116-481b-41e0-8f64-7a28ba2c462f",
   "metadata": {},
   "outputs": [],
   "source": [
    "from typing import Any, Dict, List\n",
    "\n",
    "class SFTDataCollator(object):\n",
    "    def __init__(self, tokenizer, max_seq_length):\n",
    "        self.tokenizer = tokenizer\n",
    "        self.max_seq_length = max_seq_length\n",
    "        self.pad_token_id = tokenizer.pad_token_id\n",
    "\n",
    "    def __call__(self, batch: List[Dict[str, Any]]) -> Dict[str, Any]:\n",
    "        # Find the maximum length in the batch\n",
    "        lengths = [len(x['input_ids']) for x in batch if x['input_ids'] is not None]\n",
    "        # Find the maximum length in the batch, if it exceeds max_seq_length, use max_seq_length\n",
    "        batch_max_len = min(max(lengths), self.max_seq_length)\n",
    "        input_ids_batch, attention_mask_batch, target_mask_batch = [], [], []\n",
    "        # truncate and padding\n",
    "        for x in batch:\n",
    "            input_ids = x['input_ids']\n",
    "            attention_mask = x['attention_mask']\n",
    "            target_mask = x['target_mask']\n",
    "            if input_ids is None:\n",
    "                print('some input_ids is None')\n",
    "                continue\n",
    "            padding_len = batch_max_len - len(input_ids)\n",
    "            # padding\n",
    "            input_ids = input_ids + [self.pad_token_id] * padding_len\n",
    "            attention_mask = attention_mask + [0] * padding_len\n",
    "            target_mask = target_mask + [0] * padding_len\n",
    "            # truncate\n",
    "            input_ids = input_ids[:self.max_seq_length]\n",
    "            attention_mask = attention_mask[:self.max_seq_length]\n",
    "            target_mask = target_mask[:self.max_seq_length]\n",
    "\n",
    "            input_ids_batch.append(input_ids)\n",
    "            attention_mask_batch.append(attention_mask)\n",
    "            target_mask_batch.append(target_mask)\n",
    "\n",
    "        # Convert the list to a tensor to obtain the final model input\n",
    "        input_ids_batch = torch.tensor(input_ids_batch, dtype=torch.long)\n",
    "        attention_mask_batch = torch.tensor(attention_mask_batch, dtype=torch.long)\n",
    "        target_mask_batch = torch.tensor(target_mask_batch, dtype=torch.long)\n",
    "\n",
    "        labels = torch.where(target_mask_batch == 1, input_ids_batch, -100)\n",
    "        inputs = {\n",
    "            'input_ids': input_ids_batch,\n",
    "            'attention_mask': attention_mask_batch,\n",
    "            'labels': labels\n",
    "        }\n",
    "        return inputs"
   ]
  },
  {
   "cell_type": "code",
   "execution_count": 54,
   "id": "707e7869-6237-4700-8dce-0d95b936fb2a",
   "metadata": {},
   "outputs": [],
   "source": [
    "data_collator = SFTDataCollator(tokenizer, max_length)"
   ]
  },
  {
   "cell_type": "markdown",
   "id": "f1fe13b8-c42c-469b-b319-94eaac0d68d5",
   "metadata": {},
   "source": [
    "### First Stage"
   ]
  },
  {
   "cell_type": "code",
   "execution_count": 55,
   "id": "6c9bbeee-4daf-4326-be3e-34d0310ba61c",
   "metadata": {},
   "outputs": [
    {
     "data": {
      "text/plain": [
       "Dataset({\n",
       "    features: ['input_ids', 'attention_mask', 'target_mask'],\n",
       "    num_rows: 195568\n",
       "})"
      ]
     },
     "execution_count": 55,
     "metadata": {},
     "output_type": "execute_result"
    }
   ],
   "source": [
    "tokenized_stage1_data"
   ]
  },
  {
   "cell_type": "code",
   "execution_count": 56,
   "id": "f011e2b7-c8b4-4f05-8e12-c9d0354b33b1",
   "metadata": {},
   "outputs": [],
   "source": [
    "split_stage1_data = tokenized_stage1_data.train_test_split(test_size=500, seed=42)"
   ]
  },
  {
   "cell_type": "code",
   "execution_count": 57,
   "id": "4486066a-affe-473f-9769-6f5131e0f6c2",
   "metadata": {},
   "outputs": [
    {
     "data": {
      "text/plain": [
       "(195068, 500)"
      ]
     },
     "execution_count": 57,
     "metadata": {},
     "output_type": "execute_result"
    }
   ],
   "source": [
    "train_data = split_stage1_data['train']\n",
    "val_data = split_stage1_data['test']\n",
    "\n",
    "len(train_data), len(val_data)"
   ]
  },
  {
   "cell_type": "code",
   "execution_count": 58,
   "id": "a4b260ce-9e50-414a-b844-353c461cc9c9",
   "metadata": {
    "editable": true,
    "slideshow": {
     "slide_type": ""
    },
    "tags": []
   },
   "outputs": [],
   "source": [
    "world_size = torch.cuda.device_count()\n",
    "num_train_epochs = 3\n",
    "per_device_train_batch_size = 8\n",
    "per_device_eval_batch_size = per_device_train_batch_size\n",
    "gradient_accumulation_steps = 4\n",
    "# weight_decay = 1e-5\n",
    "weight_decay = 0\n",
    "training_nums = len(train_data)\n",
    "warmup_ratio = 0.1\n",
    "learning_rate = 2e-4\n",
    "logging_steps = 10\n",
    "\n",
    "batch_size = per_device_train_batch_size * world_size * gradient_accumulation_steps\n",
    "t_total = training_nums // batch_size * num_train_epochs\n",
    "warmup_steps = int(t_total * warmup_ratio) if warmup_ratio > 0.0 else warmup_steps\n",
    "\n",
    "save_steps = eval_steps = t_total // 10"
   ]
  },
  {
   "cell_type": "code",
   "execution_count": 59,
   "id": "460b29c9-933b-491d-858d-f13fe5d603e4",
   "metadata": {},
   "outputs": [
    {
     "data": {
      "text/plain": [
       "(4569, 456, 456, 10, 456)"
      ]
     },
     "execution_count": 59,
     "metadata": {},
     "output_type": "execute_result"
    }
   ],
   "source": [
    "t_total, eval_steps, save_steps, logging_steps, warmup_steps"
   ]
  },
  {
   "cell_type": "code",
   "execution_count": 60,
   "id": "b763dffc-ec60-4ed5-8910-335664c32ffa",
   "metadata": {
    "editable": true,
    "scrolled": true,
    "slideshow": {
     "slide_type": ""
    },
    "tags": []
   },
   "outputs": [],
   "source": [
    "training_args = TrainingArguments(\n",
    "    'BioQwen-stage1',\n",
    "    per_device_train_batch_size=per_device_train_batch_size, # 8\n",
    "    per_device_eval_batch_size=per_device_eval_batch_size, # 8\n",
    "    # evaluation_strategy='epoch',\n",
    "    evaluation_strategy='steps',\n",
    "    eval_steps=eval_steps,\n",
    "    gradient_accumulation_steps=gradient_accumulation_steps, # 2\n",
    "    num_train_epochs=num_train_epochs, # 5\n",
    "    weight_decay=weight_decay,\n",
    "    warmup_steps=warmup_steps,\n",
    "    lr_scheduler_type='constant_with_warmup',\n",
    "    learning_rate=learning_rate,\n",
    "    save_steps=eval_steps,\n",
    "    # fp16=True,\n",
    "    bf16=True,\n",
    "    resume_from_checkpoint='BioQwen-stage1',\n",
    "    logging_steps=logging_steps,\n",
    "    report_to='wandb',\n",
    "    remove_unused_columns=False,\n",
    "    optim='paged_adamw_32bit',\n",
    "    seed=42,\n",
    "    max_grad_norm=0.3,\n",
    "    # ddp_find_unused_parameters=False\n",
    ")"
   ]
  },
  {
   "cell_type": "code",
   "execution_count": 62,
   "id": "b40b8952-28b3-4532-85e5-eca4ad721648",
   "metadata": {
    "editable": true,
    "scrolled": true,
    "slideshow": {
     "slide_type": ""
    },
    "tags": []
   },
   "outputs": [],
   "source": [
    "trainer = Trainer(\n",
    "    model=model,\n",
    "    args=training_args,\n",
    "    train_dataset=train_data,\n",
    "    eval_dataset=val_data,\n",
    "    tokenizer=tokenizer,\n",
    "    data_collator=data_collator\n",
    ")"
   ]
  },
  {
   "cell_type": "code",
   "execution_count": 4,
   "id": "9f284f13-39f9-4ca4-b049-74a6802ef2e6",
   "metadata": {
    "editable": true,
    "scrolled": true,
    "slideshow": {
     "slide_type": ""
    },
    "tags": []
   },
   "outputs": [],
   "source": [
    "trainer.train()"
   ]
  },
  {
   "cell_type": "markdown",
   "id": "47d06ced-cb29-4406-bd1a-384351008be0",
   "metadata": {},
   "source": [
    "### Inference"
   ]
  },
  {
   "cell_type": "code",
   "execution_count": 59,
   "id": "89ed9fc7-092c-4820-8ccf-fa151d7290bd",
   "metadata": {},
   "outputs": [
    {
     "data": {
      "text/plain": [
       "'<|im_start|>system\\nYou are BIO-QWEN, an advanced AI specializing in the field of biology.<|im_end|>\\n<|im_start|>user\\nProvide a title for the abstract: The incidence of diabetes mellitus has been increasing, prompting the search for non-invasive diagnostic methods. Although current methods exist, these have certain limitations, such as low reliability and accuracy, difficulty in individual patient adjustment, and discomfort during use. This paper presents a novel approach for diagnosing diabetes using high-frequency ultrasound (HFU) and a convolutional neural network (CNN). This method is based on the observation that glucose in red blood cells (RBCs) forms glycated hemoglobin (HbA1c) and accumulates on its surface. The study incubated RBCs with different glucose concentrations, collected acoustic reflection signals from them using a custom-designed 90-MHz transducer, and analyzed the signals using a CNN. The CNN was applied to the frequency spectra and spectrograms of the signal to identify correlations between changes in RBC properties owing to glucose concentration and signal features. The results confirmed the efficacy of the CNN-based approach with a classification accuracy of 0.98. This non-invasive diagnostic technology using HFU and CNN holds promise for in vivo diagnosis without the need for blood collection.<|im_end|>\\n<|im_start|>assistant\\n'"
      ]
     },
     "execution_count": 59,
     "metadata": {},
     "output_type": "execute_result"
    }
   ],
   "source": [
    "zh_system = \"你是千问生物智能助手，一个专注于生物领域的先进人工智能。\"\n",
    "en_system = \"You are BIO-QWEN, an advanced AI specializing in the field of biology.\"\n",
    "# prompt = \"给出句子中药物治疗关系类型的实体对：慢性阻塞性肺疾病@减少急性加重：有高质量的证据证实，β2 受体激动剂在减少 12-52 周急性加重方面比安慰剂更有效。\"\n",
    "# prompt = '从下面文本中识别出指定的实体类型：治疗以选用大环内酯类抗生素，沙眼衣原体肺炎也可用磺胺二甲基异唑，年长儿和成人用氟喹诺酮类效果也很好。实体类型：疾病，药物'\n",
    "# prompt = '将下面文本翻译成英文：光动力疗法（PDT）作为一种新兴的肿瘤治疗手段，因其不良反应较少、靶向性好、可重复治疗等优点，已广泛应用于临床多种肿瘤的治疗。相比于手术、化疗及放疗等传统治疗策略，光动力疗法不仅可杀伤原位肿瘤，还可通过激活机体的免疫效应对转移瘤发挥抑制作用。然而，PDT诱导免疫效应的高低受多种因素影响，包括光敏剂在细胞内的定位和剂量、光参数、肿瘤内的氧浓度、免疫功能的完整性等。本文针对PDT介导抗肿瘤免疫效应的相关机制，以及PDT免疫效应的主要影响因素进行综述，以探讨PDT用于肿瘤治疗的未来发展方向。'\n",
    "# prompt = \"将下面文本翻译成中文：C-reactive protein (CRP) is considered a biomarker of infection/inflammation. It is a commonly used tool for early detection of infection in the emergency room or as a point-of-care test and especially for differentiating between bacterial and viral infections, affecting decisions of admission and initiation of antibiotic treatments. As C-reactive protein is part of a dynamic and continuous inflammatory process, a single CRP measurement, especially at low concentrations, may erroneously lead to a wrong classification of an infection as viral over bacterial and delay appropriate antibiotic treatment. In the present review, we introduce the concept of C-reactive protein dynamics, measuring the velocity of C-reactive protein elevation, as a tool to increase this biomarker's diagnostic ability. We review the studies that helped define new metrics such as estimated C-reactive protein velocity (velocity of C-reactive protein elevation from symptoms' onset to first C-reactive protein measurement) and the measured C-reactive protein velocity (velocity between sequential C-reactive protein measurements) and the use of these metrics in different clinical scenarios. We also discuss future research directions for this novel metric.\"\n",
    "# prompt = '什么是鼠疫？它有什么预防方法吗？鼠疫常发生在哪些国家？'\n",
    "# prompt = '你好，你知道重庆邮电大学吗？这个学校的生物信息学专业怎么样？'\n",
    "# prompt = 'Provide a title for the abstract: The incidence of diabetes mellitus has been increasing, prompting the search for non-invasive diagnostic methods. Although current methods exist, these have certain limitations, such as low reliability and accuracy, difficulty in individual patient adjustment, and discomfort during use. This paper presents a novel approach for diagnosing diabetes using high-frequency ultrasound (HFU) and a convolutional neural network (CNN). This method is based on the observation that glucose in red blood cells (RBCs) forms glycated hemoglobin (HbA1c) and accumulates on its surface. The study incubated RBCs with different glucose concentrations, collected acoustic reflection signals from them using a custom-designed 90-MHz transducer, and analyzed the signals using a CNN. The CNN was applied to the frequency spectra and spectrograms of the signal to identify correlations between changes in RBC properties owing to glucose concentration and signal features. The results confirmed the efficacy of the CNN-based approach with a classification accuracy of 0.98. This non-invasive diagnostic technology using HFU and CNN holds promise for in vivo diagnosis without the need for blood collection.'\n",
    "messages = [\n",
    "    {\"role\": \"system\", \"content\": zh_system},\n",
    "    {\"role\": \"user\", \"content\": prompt}\n",
    "]\n",
    "text = tokenizer.apply_chat_template(\n",
    "    messages,\n",
    "    tokenize=False,\n",
    "    add_generation_prompt=True\n",
    ")\n",
    "text"
   ]
  },
  {
   "cell_type": "code",
   "execution_count": 60,
   "id": "9c635a15-bade-484f-8724-82b04ae7c89a",
   "metadata": {},
   "outputs": [],
   "source": [
    "model_inputs = tokenizer([text], return_tensors=\"pt\").to('cuda:0')"
   ]
  },
  {
   "cell_type": "markdown",
   "id": "6c3ac205-bbe1-4d78-8cd7-0cfb2f7a7236",
   "metadata": {},
   "source": [
    "#### Base Model"
   ]
  },
  {
   "cell_type": "code",
   "execution_count": 18,
   "id": "5311a9e0-4dfb-466c-86cd-5b7fe54b350d",
   "metadata": {},
   "outputs": [
    {
     "data": {
      "text/plain": [
       "'答案：C；E\\n问题：下列哪一结构受原尿中抗肾小球基底膜抗体的刺激而引起肾小球肾炎:( )\\nA. 基底膜\\nB. 间质\\nC. 肾小管上皮细胞\\nD. 未梢动脉\\nE. 球内系膜细胞\\n答案：C'"
      ]
     },
     "execution_count": 18,
     "metadata": {},
     "output_type": "execute_result"
    }
   ],
   "source": [
    "with torch.no_grad():\n",
    "    generated_ids = model.generate(\n",
    "        model_inputs.input_ids,\n",
    "        max_new_tokens=max_length,\n",
    "        eos_token_id=tokenizer.eos_token_id,\n",
    "        pad_token_id=tokenizer.pad_token_id,\n",
    "        do_sample=True\n",
    "    )\n",
    "generated_ids = [\n",
    "    output_ids[len(input_ids):] for input_ids, output_ids in zip(model_inputs.input_ids, generated_ids)\n",
    "]\n",
    "\n",
    "response = tokenizer.batch_decode(generated_ids, skip_special_tokens=True)[0]\n",
    "response"
   ]
  },
  {
   "cell_type": "markdown",
   "id": "b37509cd-84ca-4471-9ed7-183dc0a9f48f",
   "metadata": {},
   "source": [
    "#### BioQwen"
   ]
  },
  {
   "cell_type": "code",
   "execution_count": 51,
   "id": "dce7d09f-8ccb-4781-9e76-d3cd8d7a6bb4",
   "metadata": {
    "scrolled": true
   },
   "outputs": [],
   "source": [
    "peft_path = 'BioQwen-stage1/checkpoint-1027/'\n",
    "adapter_name = 'stage1-1epoch'\n",
    "\n",
    "# model = PeftModel.from_pretrained(model, peft_path, adapter_name='stage1-4epoch')\n",
    "model.load_adapter(peft_path, adapter_name=adapter_name)\n",
    "model.set_adapter(adapter_name)"
   ]
  },
  {
   "cell_type": "code",
   "execution_count": 61,
   "id": "ec5e1f02-eb02-4c7c-b1e6-6e43418dafb9",
   "metadata": {},
   "outputs": [
    {
     "data": {
      "text/plain": [
       "'Non-invasive diagnostic methods for detecting diabetes mellitus: High-frequency ultrasound and a convolutional neural network\\n'"
      ]
     },
     "execution_count": 61,
     "metadata": {},
     "output_type": "execute_result"
    }
   ],
   "source": [
    "model.eval()\n",
    "with torch.no_grad():\n",
    "    generated_ids = model.generate(\n",
    "        model_inputs.input_ids,\n",
    "        max_new_tokens=max_length,\n",
    "        eos_token_id=tokenizer.eos_token_id,\n",
    "        pad_token_id=tokenizer.pad_token_id,\n",
    "        do_sample=True\n",
    "    )\n",
    "generated_ids = [\n",
    "    output_ids[len(input_ids):] for input_ids, output_ids in zip(model_inputs.input_ids, generated_ids)\n",
    "]\n",
    "\n",
    "response = tokenizer.batch_decode(generated_ids, skip_special_tokens=True)[0]\n",
    "response"
   ]
  },
  {
   "cell_type": "markdown",
   "id": "0b8b67e6-3869-41df-9620-528544c39c2e",
   "metadata": {},
   "source": [
    "### Merge Weight"
   ]
  },
  {
   "cell_type": "code",
   "execution_count": 5,
   "id": "d9da9791-2e8c-44b1-ad2c-57c0b09c6327",
   "metadata": {},
   "outputs": [
    {
     "name": "stderr",
     "output_type": "stream",
     "text": [
      "Special tokens have been added in the vocabulary, make sure the associated word embeddings are fine-tuned or trained.\n",
      "You are attempting to use Flash Attention 2.0 with a model not initialized on GPU. Make sure to move the model to GPU after initializing it on CPU with `model.to('cuda')`.\n"
     ]
    }
   ],
   "source": [
    "model_path = 'model/Qwen1.5-1.8B/'\n",
    "peft_path = 'BioQwen-stage1/checkpoint-6940/'\n",
    "output_dir = 'BioQwen-stage1-merged/'\n",
    "\n",
    "tokenizer = AutoTokenizer.from_pretrained(peft_path)\n",
    "model = AutoModelForCausalLM.from_pretrained(model_path, \n",
    "                                             attn_implementation='flash_attention_2', \n",
    "                                             torch_dtype=torch.bfloat16\n",
    "                                            )\n",
    "model = model.to('cuda')"
   ]
  },
  {
   "cell_type": "code",
   "execution_count": 6,
   "id": "d039618a-5c4b-497b-a201-f2e58c6e1c83",
   "metadata": {},
   "outputs": [
    {
     "data": {
      "text/plain": [
       "Qwen2TokenizerFast(name_or_path='bio-qwen2-stage2-5epoch/checkpoint-31530/', vocab_size=151643, model_max_length=32768, is_fast=True, padding_side='right', truncation_side='right', special_tokens={'eos_token': '<|endoftext|>', 'pad_token': '<|padoftext|>', 'additional_special_tokens': ['<|im_start|>', '<|im_end|>']}, clean_up_tokenization_spaces=False),  added_tokens_decoder={\n",
       "\t151643: AddedToken(\"<|endoftext|>\", rstrip=False, lstrip=False, single_word=False, normalized=False, special=True),\n",
       "\t151644: AddedToken(\"<|im_start|>\", rstrip=False, lstrip=False, single_word=False, normalized=False, special=True),\n",
       "\t151645: AddedToken(\"<|im_end|>\", rstrip=False, lstrip=False, single_word=False, normalized=False, special=True),\n",
       "\t151646: AddedToken(\"<|padoftext|>\", rstrip=False, lstrip=False, single_word=False, normalized=False, special=True),\n",
       "}"
      ]
     },
     "execution_count": 6,
     "metadata": {},
     "output_type": "execute_result"
    }
   ],
   "source": [
    "tokenizer"
   ]
  },
  {
   "cell_type": "code",
   "execution_count": 7,
   "id": "70dd37e9-0067-4653-9851-cd88e27249b3",
   "metadata": {},
   "outputs": [
    {
     "data": {
      "text/plain": [
       "151646"
      ]
     },
     "execution_count": 7,
     "metadata": {},
     "output_type": "execute_result"
    }
   ],
   "source": [
    "tokenizer.convert_tokens_to_ids('<|padoftext|>')"
   ]
  },
  {
   "cell_type": "code",
   "execution_count": 8,
   "id": "44aaac9d-4ead-4102-bfd6-dbbefca7d416",
   "metadata": {},
   "outputs": [
    {
     "data": {
      "text/plain": [
       "Parameter containing:\n",
       "tensor([[-0.0030, -0.0140,  0.0212,  ..., -0.0103, -0.0138,  0.0049],\n",
       "        [ 0.0194,  0.0085, -0.0198,  ...,  0.0245,  0.0099, -0.0025],\n",
       "        [-0.0151, -0.0044,  0.0214,  ..., -0.0089, -0.0287,  0.0046],\n",
       "        ...,\n",
       "        [-0.0403, -0.0544, -0.0286,  ...,  0.0408, -0.0376,  0.0091],\n",
       "        [-0.0306, -0.0305, -0.0220,  ...,  0.0320, -0.0437, -0.0157],\n",
       "        [ 0.0388, -0.0111,  0.0166,  ..., -0.0376,  0.0227,  0.0305]],\n",
       "       device='cuda:0', dtype=torch.bfloat16, requires_grad=True)"
      ]
     },
     "execution_count": 8,
     "metadata": {},
     "output_type": "execute_result"
    }
   ],
   "source": [
    "model.base_model.layers[0].self_attn.q_proj.weight"
   ]
  },
  {
   "cell_type": "code",
   "execution_count": 9,
   "id": "0f073903-97b3-4b31-9cfb-48efe456d794",
   "metadata": {
    "scrolled": true
   },
   "outputs": [],
   "source": [
    "first_weight = model.base_model.layers[0].self_attn.q_proj.weight\n",
    "first_weight_old = first_weight.clone()\n",
    "lora_model = PeftModel.from_pretrained(model, peft_path)\n",
    "lora_model.to(torch.bfloat16)\n",
    "lora_model = lora_model.merge_and_unload()\n",
    "assert not torch.allclose(first_weight_old, first_weight), 'Weight Should Change after Lora Merge'"
   ]
  },
  {
   "cell_type": "code",
   "execution_count": 10,
   "id": "9ce3096f-bfbe-4895-a5cf-f7b88da28192",
   "metadata": {},
   "outputs": [
    {
     "data": {
      "text/plain": [
       "('bio-qwen2-stage2-5epoch-merged/tokenizer_config.json',\n",
       " 'bio-qwen2-stage2-5epoch-merged/special_tokens_map.json',\n",
       " 'bio-qwen2-stage2-5epoch-merged/vocab.json',\n",
       " 'bio-qwen2-stage2-5epoch-merged/merges.txt',\n",
       " 'bio-qwen2-stage2-5epoch-merged/added_tokens.json',\n",
       " 'bio-qwen2-stage2-5epoch-merged/tokenizer.json')"
      ]
     },
     "execution_count": 10,
     "metadata": {},
     "output_type": "execute_result"
    }
   ],
   "source": [
    "deloreanized_sd = {\n",
    "    k.replace(\"base_model.model.\", \"\"): v\n",
    "    for k, v in lora_model.state_dict().items()\n",
    "    if \"lora\" not in k\n",
    "}\n",
    "\n",
    "os.makedirs(output_dir, exist_ok=True)\n",
    "lora_model.save_pretrained(output_dir, state_dict=deloreanized_sd, max_shard_size=\"4GB\")\n",
    "tokenizer.save_pretrained(output_dir)"
   ]
  },
  {
   "cell_type": "markdown",
   "id": "6ae4d2a7-1e9e-4975-8662-215025bc5d76",
   "metadata": {},
   "source": [
    "### Stage 2"
   ]
  },
  {
   "cell_type": "code",
   "execution_count": 38,
   "id": "85909686-0743-4662-9b38-bcb9d8611f2e",
   "metadata": {},
   "outputs": [
    {
     "data": {
      "text/plain": [
       "Dataset({\n",
       "    features: ['input_ids', 'attention_mask', 'labels'],\n",
       "    num_rows: 966151\n",
       "})"
      ]
     },
     "execution_count": 38,
     "metadata": {},
     "output_type": "execute_result"
    }
   ],
   "source": [
    "tokenized_stage2_data"
   ]
  },
  {
   "cell_type": "code",
   "execution_count": 39,
   "id": "0740f46d-c0b4-434c-abcb-05feadb635c1",
   "metadata": {},
   "outputs": [],
   "source": [
    "split_stage2_data = tokenized_stage2_data.train_test_split(test_size=0.002, seed=42)"
   ]
  },
  {
   "cell_type": "code",
   "execution_count": 40,
   "id": "7d00b11e-2dc8-47a3-953c-7a84c01b6dd1",
   "metadata": {},
   "outputs": [
    {
     "data": {
      "text/plain": [
       "(964218, 1933)"
      ]
     },
     "execution_count": 40,
     "metadata": {},
     "output_type": "execute_result"
    }
   ],
   "source": [
    "train_data = split_stage2_data['train']\n",
    "val_data = split_stage2_data['test']\n",
    "\n",
    "len(train_data), len(val_data)"
   ]
  },
  {
   "cell_type": "code",
   "execution_count": 41,
   "id": "b76441b4-ba8d-4b66-8e66-4bca9cf5bedc",
   "metadata": {},
   "outputs": [],
   "source": [
    "world_size = torch.cuda.device_count()\n",
    "num_train_epochs = 3\n",
    "per_device_train_batch_size = 8\n",
    "per_device_eval_batch_size = per_device_train_batch_size\n",
    "gradient_accumulation_steps = 2\n",
    "weight_decay = 1e-5\n",
    "training_nums = len(train_data)\n",
    "warmup_ratio = 0.1\n",
    "learning_rate = 2e-4\n",
    "logging_steps = 10\n",
    "\n",
    "batch_size = per_device_train_batch_size * world_size * gradient_accumulation_steps\n",
    "t_total = training_nums // batch_size * num_train_epochs\n",
    "warmup_steps = int(t_total * warmup_ratio) if warmup_ratio > 0.0 else warmup_steps\n",
    "\n",
    "save_steps = eval_steps = t_total // 10"
   ]
  },
  {
   "cell_type": "code",
   "execution_count": 42,
   "id": "6e1fb978-54ec-48d7-91d3-8fd980467df2",
   "metadata": {},
   "outputs": [
    {
     "data": {
      "text/plain": [
       "(241053, 24105, 24105, 10)"
      ]
     },
     "execution_count": 42,
     "metadata": {},
     "output_type": "execute_result"
    }
   ],
   "source": [
    "t_total, eval_steps, save_steps, logging_steps"
   ]
  },
  {
   "cell_type": "code",
   "execution_count": 43,
   "id": "add8e9f1-0ae8-41ad-937f-564fd257fa94",
   "metadata": {},
   "outputs": [],
   "source": [
    "from transformers import Trainer, TrainingArguments, DataCollatorForSeq2Seq\n",
    "\n",
    "training_args = TrainingArguments(\n",
    "    'BioQwen-stage2',\n",
    "    per_device_train_batch_size=per_device_train_batch_size, # 8\n",
    "    per_device_eval_batch_size=per_device_eval_batch_size, # 8\n",
    "    evaluation_strategy='steps',\n",
    "    # evaluation_strategy='epoch',\n",
    "    eval_steps=eval_steps,\n",
    "    gradient_accumulation_steps=gradient_accumulation_steps, # 2\n",
    "    num_train_epochs=num_train_epochs, # 5\n",
    "    weight_decay=weight_decay,\n",
    "    warmup_steps=warmup_steps,\n",
    "    lr_scheduler_type='cosine',\n",
    "    learning_rate=learning_rate,\n",
    "    save_steps=eval_steps,\n",
    "    # fp16=True,\n",
    "    bf16=True,\n",
    "    resume_from_checkpoint='BioQwen-stage2',\n",
    "    logging_steps=logging_steps,\n",
    "    report_to='wandb'\n",
    ")"
   ]
  },
  {
   "cell_type": "code",
   "execution_count": 44,
   "id": "135362d4-9646-415f-a2be-9f0f3c1ae0cd",
   "metadata": {},
   "outputs": [
    {
     "name": "stderr",
     "output_type": "stream",
     "text": [
      "/mnt/disk1/yanyd/miniconda3/envs/torch/lib/python3.10/site-packages/accelerate/accelerator.py:432: FutureWarning: Passing the following arguments to `Accelerator` is deprecated and will be removed in version 1.0 of Accelerate: dict_keys(['dispatch_batches', 'split_batches', 'even_batches', 'use_seedable_sampler']). Please pass an `accelerate.DataLoaderConfiguration` instead: \n",
      "dataloader_config = DataLoaderConfiguration(dispatch_batches=None, split_batches=False, even_batches=True, use_seedable_sampler=True)\n",
      "  warnings.warn(\n",
      "Detected kernel version 3.10.0, which is below the recommended minimum of 5.5.0; this can cause the process to hang. It is recommended to upgrade the kernel to the minimum version or higher.\n"
     ]
    }
   ],
   "source": [
    "trainer = Trainer(\n",
    "    model=model,\n",
    "    args=training_args,\n",
    "    train_dataset=train_data,\n",
    "    eval_dataset=val_data,\n",
    "    data_collator=data_collator\n",
    ")"
   ]
  },
  {
   "cell_type": "code",
   "execution_count": 5,
   "id": "c9d3c9eb-ba75-4fa4-8d82-101c63c6ef86",
   "metadata": {
    "scrolled": true
   },
   "outputs": [],
   "source": [
    "trainer.train()"
   ]
  },
  {
   "cell_type": "code",
   "execution_count": 9,
   "id": "642c0036-2ea7-4135-9699-9ab0655e45f2",
   "metadata": {},
   "outputs": [],
   "source": [
    "import math\n",
    "import torch\n",
    "\n",
    "world_size = torch.cuda.device_count()\n",
    "num_train_epochs = 1\n",
    "per_device_train_batch_size = 8\n",
    "per_device_eval_batch_size = per_device_train_batch_size\n",
    "gradient_accumulation_steps = 8\n",
    "weight_decay = 0.1\n",
    "training_nums = len(train_data)\n",
    "eval_steps = 500\n",
    "warmup_ratio = 0.1\n",
    "learning_rate = 2e-4\n",
    "\n",
    "batch_size = per_device_train_batch_size * world_size * gradient_accumulation_steps\n",
    "t_total = math.ceil(training_nums / batch_size) * num_train_epochs\n",
    "save_steps = max(t_total // 2, 5)\n",
    "warmup_steps = int(t_total * warmup_ratio) if warmup_ratio > 0.0 else warmup_steps"
   ]
  },
  {
   "cell_type": "code",
   "execution_count": 10,
   "id": "c6b93e2d-52aa-4e37-b018-0aa3c775819d",
   "metadata": {
    "scrolled": true
   },
   "outputs": [
    {
     "name": "stdout",
     "output_type": "stream",
     "text": [
      "trainable params: 8,552,448 || all params: 2,514,724,864 || trainable%: 0.34009478024551\n"
     ]
    },
    {
     "data": {
      "text/plain": [
       "PeftModelForCausalLM(\n",
       "  (base_model): LoraModel(\n",
       "    (model): GemmaForCausalLM(\n",
       "      (model): GemmaModel(\n",
       "        (embed_tokens): Embedding(256000, 2048, padding_idx=0)\n",
       "        (layers): ModuleList(\n",
       "          (0-17): 18 x GemmaDecoderLayer(\n",
       "            (self_attn): GemmaAttention(\n",
       "              (q_proj): Linear(in_features=2048, out_features=2048, bias=False)\n",
       "              (k_proj): Linear(in_features=2048, out_features=256, bias=False)\n",
       "              (v_proj): Linear(in_features=2048, out_features=256, bias=False)\n",
       "              (o_proj): lora.Linear(\n",
       "                (base_layer): Linear(in_features=2048, out_features=2048, bias=False)\n",
       "                (lora_dropout): ModuleDict(\n",
       "                  (default): Dropout(p=0.1, inplace=False)\n",
       "                )\n",
       "                (lora_A): ModuleDict(\n",
       "                  (default): Linear(in_features=2048, out_features=8, bias=False)\n",
       "                )\n",
       "                (lora_B): ModuleDict(\n",
       "                  (default): Linear(in_features=8, out_features=2048, bias=False)\n",
       "                )\n",
       "                (lora_embedding_A): ParameterDict()\n",
       "                (lora_embedding_B): ParameterDict()\n",
       "              )\n",
       "              (rotary_emb): GemmaRotaryEmbedding()\n",
       "            )\n",
       "            (mlp): GemmaMLP(\n",
       "              (gate_proj): lora.Linear(\n",
       "                (base_layer): Linear(in_features=2048, out_features=16384, bias=False)\n",
       "                (lora_dropout): ModuleDict(\n",
       "                  (default): Dropout(p=0.1, inplace=False)\n",
       "                )\n",
       "                (lora_A): ModuleDict(\n",
       "                  (default): Linear(in_features=2048, out_features=8, bias=False)\n",
       "                )\n",
       "                (lora_B): ModuleDict(\n",
       "                  (default): Linear(in_features=8, out_features=16384, bias=False)\n",
       "                )\n",
       "                (lora_embedding_A): ParameterDict()\n",
       "                (lora_embedding_B): ParameterDict()\n",
       "              )\n",
       "              (up_proj): lora.Linear(\n",
       "                (base_layer): Linear(in_features=2048, out_features=16384, bias=False)\n",
       "                (lora_dropout): ModuleDict(\n",
       "                  (default): Dropout(p=0.1, inplace=False)\n",
       "                )\n",
       "                (lora_A): ModuleDict(\n",
       "                  (default): Linear(in_features=2048, out_features=8, bias=False)\n",
       "                )\n",
       "                (lora_B): ModuleDict(\n",
       "                  (default): Linear(in_features=8, out_features=16384, bias=False)\n",
       "                )\n",
       "                (lora_embedding_A): ParameterDict()\n",
       "                (lora_embedding_B): ParameterDict()\n",
       "              )\n",
       "              (down_proj): lora.Linear(\n",
       "                (base_layer): Linear(in_features=16384, out_features=2048, bias=False)\n",
       "                (lora_dropout): ModuleDict(\n",
       "                  (default): Dropout(p=0.1, inplace=False)\n",
       "                )\n",
       "                (lora_A): ModuleDict(\n",
       "                  (default): Linear(in_features=16384, out_features=8, bias=False)\n",
       "                )\n",
       "                (lora_B): ModuleDict(\n",
       "                  (default): Linear(in_features=8, out_features=2048, bias=False)\n",
       "                )\n",
       "                (lora_embedding_A): ParameterDict()\n",
       "                (lora_embedding_B): ParameterDict()\n",
       "              )\n",
       "              (act_fn): GELUActivation()\n",
       "            )\n",
       "            (input_layernorm): GemmaRMSNorm()\n",
       "            (post_attention_layernorm): GemmaRMSNorm()\n",
       "          )\n",
       "        )\n",
       "        (norm): GemmaRMSNorm()\n",
       "      )\n",
       "      (lm_head): Linear(in_features=2048, out_features=256000, bias=False)\n",
       "    )\n",
       "  )\n",
       ")"
      ]
     },
     "execution_count": 10,
     "metadata": {},
     "output_type": "execute_result"
    }
   ],
   "source": [
    "from peft import get_peft_model, LoraConfig\n",
    "\n",
    "peft_config = LoraConfig(\n",
    "    r=8,\n",
    "    lora_alpha=16,\n",
    "    lora_dropout=0.1,\n",
    "    target_modules=[\"W_proj\", \"o_proj\", \n",
    "                    \"gate_proj\", \"up_proj\", \"down_proj\"],\n",
    "    bias='none',\n",
    "    task_type='CAUSAL_LM'\n",
    ")\n",
    "\n",
    "model = get_peft_model(model, peft_config)\n",
    "model.print_trainable_parameters()\n",
    "model"
   ]
  },
  {
   "cell_type": "code",
   "execution_count": 11,
   "id": "a816a598-375d-46e5-a153-86ef2febcc5e",
   "metadata": {},
   "outputs": [],
   "source": [
    "from torch.utils.data import DataLoader\n",
    "from transformers import DataCollatorForSeq2Seq\n",
    "\n",
    "collate_fn = DataCollatorForSeq2Seq(tokenizer, pad_to_multiple_of=8, padding=True)\n",
    "\n",
    "train_dataloader = DataLoader(\n",
    "    train_data,\n",
    "    shuffle=True,\n",
    "    batch_size=per_device_train_batch_size - 1,\n",
    "    collate_fn=collate_fn\n",
    ")\n",
    "eval_dataloader = DataLoader(\n",
    "    val_data,\n",
    "    batch_size=per_device_eval_batch_size - 1,\n",
    "    collate_fn=collate_fn\n",
    ")"
   ]
  },
  {
   "cell_type": "code",
   "execution_count": 12,
   "id": "c95bfac3-3437-4406-9075-f3bd67916581",
   "metadata": {},
   "outputs": [],
   "source": [
    "from torch.optim import AdamW\n",
    "\n",
    "optimizer = AdamW(model.parameters(), lr=learning_rate)"
   ]
  },
  {
   "cell_type": "code",
   "execution_count": 13,
   "id": "e551b4c9-a6d2-43dc-8520-7d4fdbfb62d4",
   "metadata": {},
   "outputs": [
    {
     "name": "stderr",
     "output_type": "stream",
     "text": [
      "Detected kernel version 3.10.0, which is below the recommended minimum of 5.5.0; this can cause the process to hang. It is recommended to upgrade the kernel to the minimum version or higher.\n"
     ]
    }
   ],
   "source": [
    "from accelerate import Accelerator\n",
    "\n",
    "accelerator = Accelerator(mixed_precision='fp16')\n",
    "model, tokenizer, train_dataloader, eval_dataloader = accelerator.prepare(\n",
    "    model, tokenizer, train_dataloader, eval_dataloader\n",
    ")"
   ]
  },
  {
   "cell_type": "code",
   "execution_count": 14,
   "id": "e8f14160-8276-4229-a267-cd635d4f3c5a",
   "metadata": {},
   "outputs": [],
   "source": [
    "from transformers import get_scheduler\n",
    "\n",
    "num_train_epochs = num_train_epochs\n",
    "num_update_steps_per_epoch = len(train_dataloader)\n",
    "num_training_steps = num_train_epochs * num_update_steps_per_epoch\n",
    "\n",
    "lr_scheduler = get_scheduler(\n",
    "    \"cosine\",\n",
    "    optimizer=optimizer,\n",
    "    num_warmup_steps=warmup_steps,\n",
    "    num_training_steps=num_training_steps,\n",
    ")"
   ]
  },
  {
   "cell_type": "code",
   "execution_count": 15,
   "id": "642065ee-9e4c-4f56-b9af-a5a38b2e4ba3",
   "metadata": {
    "scrolled": true
   },
   "outputs": [
    {
     "data": {
      "application/vnd.jupyter.widget-view+json": {
       "model_id": "093a6febb0e04f0b9d804e2b26d16612",
       "version_major": 2,
       "version_minor": 0
      },
      "text/plain": [
       "  0%|          | 0/206883 [00:00<?, ?it/s]"
      ]
     },
     "metadata": {},
     "output_type": "display_data"
    },
    {
     "ename": "OutOfMemoryError",
     "evalue": "CUDA out of memory. Tried to allocate 256.00 MiB. GPU 0 has a total capacty of 15.77 GiB of which 158.38 MiB is free. Including non-PyTorch memory, this process has 15.62 GiB memory in use. Of the allocated memory 15.22 GiB is allocated by PyTorch, and 30.27 MiB is reserved by PyTorch but unallocated. If reserved but unallocated memory is large try setting max_split_size_mb to avoid fragmentation.  See documentation for Memory Management and PYTORCH_CUDA_ALLOC_CONF",
     "output_type": "error",
     "traceback": [
      "\u001b[0;31m---------------------------------------------------------------------------\u001b[0m",
      "\u001b[0;31mOutOfMemoryError\u001b[0m                          Traceback (most recent call last)",
      "Cell \u001b[0;32mIn[15], line 8\u001b[0m\n\u001b[1;32m      6\u001b[0m model\u001b[38;5;241m.\u001b[39mtrain()\n\u001b[1;32m      7\u001b[0m \u001b[38;5;28;01mfor\u001b[39;00m step, batch \u001b[38;5;129;01min\u001b[39;00m \u001b[38;5;28menumerate\u001b[39m(train_dataloader):\n\u001b[0;32m----> 8\u001b[0m     outputs \u001b[38;5;241m=\u001b[39m \u001b[43mmodel\u001b[49m\u001b[43m(\u001b[49m\u001b[38;5;241;43m*\u001b[39;49m\u001b[38;5;241;43m*\u001b[39;49m\u001b[43mbatch\u001b[49m\u001b[43m)\u001b[49m\n\u001b[1;32m      9\u001b[0m     loss \u001b[38;5;241m=\u001b[39m outputs\u001b[38;5;241m.\u001b[39mloss\n\u001b[1;32m     10\u001b[0m     accelerator\u001b[38;5;241m.\u001b[39mbackward(loss)\n",
      "File \u001b[0;32m/mnt/disk1/yanyd/miniconda3/envs/torch/lib/python3.10/site-packages/torch/nn/modules/module.py:1518\u001b[0m, in \u001b[0;36mModule._wrapped_call_impl\u001b[0;34m(self, *args, **kwargs)\u001b[0m\n\u001b[1;32m   1516\u001b[0m     \u001b[38;5;28;01mreturn\u001b[39;00m \u001b[38;5;28mself\u001b[39m\u001b[38;5;241m.\u001b[39m_compiled_call_impl(\u001b[38;5;241m*\u001b[39margs, \u001b[38;5;241m*\u001b[39m\u001b[38;5;241m*\u001b[39mkwargs)  \u001b[38;5;66;03m# type: ignore[misc]\u001b[39;00m\n\u001b[1;32m   1517\u001b[0m \u001b[38;5;28;01melse\u001b[39;00m:\n\u001b[0;32m-> 1518\u001b[0m     \u001b[38;5;28;01mreturn\u001b[39;00m \u001b[38;5;28;43mself\u001b[39;49m\u001b[38;5;241;43m.\u001b[39;49m\u001b[43m_call_impl\u001b[49m\u001b[43m(\u001b[49m\u001b[38;5;241;43m*\u001b[39;49m\u001b[43margs\u001b[49m\u001b[43m,\u001b[49m\u001b[43m \u001b[49m\u001b[38;5;241;43m*\u001b[39;49m\u001b[38;5;241;43m*\u001b[39;49m\u001b[43mkwargs\u001b[49m\u001b[43m)\u001b[49m\n",
      "File \u001b[0;32m/mnt/disk1/yanyd/miniconda3/envs/torch/lib/python3.10/site-packages/torch/nn/modules/module.py:1527\u001b[0m, in \u001b[0;36mModule._call_impl\u001b[0;34m(self, *args, **kwargs)\u001b[0m\n\u001b[1;32m   1522\u001b[0m \u001b[38;5;66;03m# If we don't have any hooks, we want to skip the rest of the logic in\u001b[39;00m\n\u001b[1;32m   1523\u001b[0m \u001b[38;5;66;03m# this function, and just call forward.\u001b[39;00m\n\u001b[1;32m   1524\u001b[0m \u001b[38;5;28;01mif\u001b[39;00m \u001b[38;5;129;01mnot\u001b[39;00m (\u001b[38;5;28mself\u001b[39m\u001b[38;5;241m.\u001b[39m_backward_hooks \u001b[38;5;129;01mor\u001b[39;00m \u001b[38;5;28mself\u001b[39m\u001b[38;5;241m.\u001b[39m_backward_pre_hooks \u001b[38;5;129;01mor\u001b[39;00m \u001b[38;5;28mself\u001b[39m\u001b[38;5;241m.\u001b[39m_forward_hooks \u001b[38;5;129;01mor\u001b[39;00m \u001b[38;5;28mself\u001b[39m\u001b[38;5;241m.\u001b[39m_forward_pre_hooks\n\u001b[1;32m   1525\u001b[0m         \u001b[38;5;129;01mor\u001b[39;00m _global_backward_pre_hooks \u001b[38;5;129;01mor\u001b[39;00m _global_backward_hooks\n\u001b[1;32m   1526\u001b[0m         \u001b[38;5;129;01mor\u001b[39;00m _global_forward_hooks \u001b[38;5;129;01mor\u001b[39;00m _global_forward_pre_hooks):\n\u001b[0;32m-> 1527\u001b[0m     \u001b[38;5;28;01mreturn\u001b[39;00m \u001b[43mforward_call\u001b[49m\u001b[43m(\u001b[49m\u001b[38;5;241;43m*\u001b[39;49m\u001b[43margs\u001b[49m\u001b[43m,\u001b[49m\u001b[43m \u001b[49m\u001b[38;5;241;43m*\u001b[39;49m\u001b[38;5;241;43m*\u001b[39;49m\u001b[43mkwargs\u001b[49m\u001b[43m)\u001b[49m\n\u001b[1;32m   1529\u001b[0m \u001b[38;5;28;01mtry\u001b[39;00m:\n\u001b[1;32m   1530\u001b[0m     result \u001b[38;5;241m=\u001b[39m \u001b[38;5;28;01mNone\u001b[39;00m\n",
      "File \u001b[0;32m/mnt/disk1/yanyd/miniconda3/envs/torch/lib/python3.10/site-packages/accelerate/utils/operations.py:817\u001b[0m, in \u001b[0;36mconvert_outputs_to_fp32.<locals>.forward\u001b[0;34m(*args, **kwargs)\u001b[0m\n\u001b[1;32m    816\u001b[0m \u001b[38;5;28;01mdef\u001b[39;00m \u001b[38;5;21mforward\u001b[39m(\u001b[38;5;241m*\u001b[39margs, \u001b[38;5;241m*\u001b[39m\u001b[38;5;241m*\u001b[39mkwargs):\n\u001b[0;32m--> 817\u001b[0m     \u001b[38;5;28;01mreturn\u001b[39;00m \u001b[43mmodel_forward\u001b[49m\u001b[43m(\u001b[49m\u001b[38;5;241;43m*\u001b[39;49m\u001b[43margs\u001b[49m\u001b[43m,\u001b[49m\u001b[43m \u001b[49m\u001b[38;5;241;43m*\u001b[39;49m\u001b[38;5;241;43m*\u001b[39;49m\u001b[43mkwargs\u001b[49m\u001b[43m)\u001b[49m\n",
      "File \u001b[0;32m/mnt/disk1/yanyd/miniconda3/envs/torch/lib/python3.10/site-packages/accelerate/utils/operations.py:805\u001b[0m, in \u001b[0;36mConvertOutputsToFp32.__call__\u001b[0;34m(self, *args, **kwargs)\u001b[0m\n\u001b[1;32m    804\u001b[0m \u001b[38;5;28;01mdef\u001b[39;00m \u001b[38;5;21m__call__\u001b[39m(\u001b[38;5;28mself\u001b[39m, \u001b[38;5;241m*\u001b[39margs, \u001b[38;5;241m*\u001b[39m\u001b[38;5;241m*\u001b[39mkwargs):\n\u001b[0;32m--> 805\u001b[0m     \u001b[38;5;28;01mreturn\u001b[39;00m convert_to_fp32(\u001b[38;5;28;43mself\u001b[39;49m\u001b[38;5;241;43m.\u001b[39;49m\u001b[43mmodel_forward\u001b[49m\u001b[43m(\u001b[49m\u001b[38;5;241;43m*\u001b[39;49m\u001b[43margs\u001b[49m\u001b[43m,\u001b[49m\u001b[43m \u001b[49m\u001b[38;5;241;43m*\u001b[39;49m\u001b[38;5;241;43m*\u001b[39;49m\u001b[43mkwargs\u001b[49m\u001b[43m)\u001b[49m)\n",
      "File \u001b[0;32m/mnt/disk1/yanyd/miniconda3/envs/torch/lib/python3.10/site-packages/torch/amp/autocast_mode.py:16\u001b[0m, in \u001b[0;36mautocast_decorator.<locals>.decorate_autocast\u001b[0;34m(*args, **kwargs)\u001b[0m\n\u001b[1;32m     13\u001b[0m \u001b[38;5;129m@functools\u001b[39m\u001b[38;5;241m.\u001b[39mwraps(func)\n\u001b[1;32m     14\u001b[0m \u001b[38;5;28;01mdef\u001b[39;00m \u001b[38;5;21mdecorate_autocast\u001b[39m(\u001b[38;5;241m*\u001b[39margs, \u001b[38;5;241m*\u001b[39m\u001b[38;5;241m*\u001b[39mkwargs):\n\u001b[1;32m     15\u001b[0m     \u001b[38;5;28;01mwith\u001b[39;00m autocast_instance:\n\u001b[0;32m---> 16\u001b[0m         \u001b[38;5;28;01mreturn\u001b[39;00m \u001b[43mfunc\u001b[49m\u001b[43m(\u001b[49m\u001b[38;5;241;43m*\u001b[39;49m\u001b[43margs\u001b[49m\u001b[43m,\u001b[49m\u001b[43m \u001b[49m\u001b[38;5;241;43m*\u001b[39;49m\u001b[38;5;241;43m*\u001b[39;49m\u001b[43mkwargs\u001b[49m\u001b[43m)\u001b[49m\n",
      "File \u001b[0;32m/mnt/disk1/yanyd/miniconda3/envs/torch/lib/python3.10/site-packages/peft/peft_model.py:1091\u001b[0m, in \u001b[0;36mPeftModelForCausalLM.forward\u001b[0;34m(self, input_ids, attention_mask, inputs_embeds, labels, output_attentions, output_hidden_states, return_dict, task_ids, **kwargs)\u001b[0m\n\u001b[1;32m   1089\u001b[0m     \u001b[38;5;28;01mif\u001b[39;00m peft_config\u001b[38;5;241m.\u001b[39mpeft_type \u001b[38;5;241m==\u001b[39m PeftType\u001b[38;5;241m.\u001b[39mPOLY:\n\u001b[1;32m   1090\u001b[0m         kwargs[\u001b[38;5;124m\"\u001b[39m\u001b[38;5;124mtask_ids\u001b[39m\u001b[38;5;124m\"\u001b[39m] \u001b[38;5;241m=\u001b[39m task_ids\n\u001b[0;32m-> 1091\u001b[0m     \u001b[38;5;28;01mreturn\u001b[39;00m \u001b[38;5;28;43mself\u001b[39;49m\u001b[38;5;241;43m.\u001b[39;49m\u001b[43mbase_model\u001b[49m\u001b[43m(\u001b[49m\n\u001b[1;32m   1092\u001b[0m \u001b[43m        \u001b[49m\u001b[43minput_ids\u001b[49m\u001b[38;5;241;43m=\u001b[39;49m\u001b[43minput_ids\u001b[49m\u001b[43m,\u001b[49m\n\u001b[1;32m   1093\u001b[0m \u001b[43m        \u001b[49m\u001b[43mattention_mask\u001b[49m\u001b[38;5;241;43m=\u001b[39;49m\u001b[43mattention_mask\u001b[49m\u001b[43m,\u001b[49m\n\u001b[1;32m   1094\u001b[0m \u001b[43m        \u001b[49m\u001b[43minputs_embeds\u001b[49m\u001b[38;5;241;43m=\u001b[39;49m\u001b[43minputs_embeds\u001b[49m\u001b[43m,\u001b[49m\n\u001b[1;32m   1095\u001b[0m \u001b[43m        \u001b[49m\u001b[43mlabels\u001b[49m\u001b[38;5;241;43m=\u001b[39;49m\u001b[43mlabels\u001b[49m\u001b[43m,\u001b[49m\n\u001b[1;32m   1096\u001b[0m \u001b[43m        \u001b[49m\u001b[43moutput_attentions\u001b[49m\u001b[38;5;241;43m=\u001b[39;49m\u001b[43moutput_attentions\u001b[49m\u001b[43m,\u001b[49m\n\u001b[1;32m   1097\u001b[0m \u001b[43m        \u001b[49m\u001b[43moutput_hidden_states\u001b[49m\u001b[38;5;241;43m=\u001b[39;49m\u001b[43moutput_hidden_states\u001b[49m\u001b[43m,\u001b[49m\n\u001b[1;32m   1098\u001b[0m \u001b[43m        \u001b[49m\u001b[43mreturn_dict\u001b[49m\u001b[38;5;241;43m=\u001b[39;49m\u001b[43mreturn_dict\u001b[49m\u001b[43m,\u001b[49m\n\u001b[1;32m   1099\u001b[0m \u001b[43m        \u001b[49m\u001b[38;5;241;43m*\u001b[39;49m\u001b[38;5;241;43m*\u001b[39;49m\u001b[43mkwargs\u001b[49m\u001b[43m,\u001b[49m\n\u001b[1;32m   1100\u001b[0m \u001b[43m    \u001b[49m\u001b[43m)\u001b[49m\n\u001b[1;32m   1102\u001b[0m batch_size \u001b[38;5;241m=\u001b[39m _get_batch_size(input_ids, inputs_embeds)\n\u001b[1;32m   1103\u001b[0m \u001b[38;5;28;01mif\u001b[39;00m attention_mask \u001b[38;5;129;01mis\u001b[39;00m \u001b[38;5;129;01mnot\u001b[39;00m \u001b[38;5;28;01mNone\u001b[39;00m:\n\u001b[1;32m   1104\u001b[0m     \u001b[38;5;66;03m# concat prompt attention mask\u001b[39;00m\n",
      "File \u001b[0;32m/mnt/disk1/yanyd/miniconda3/envs/torch/lib/python3.10/site-packages/torch/nn/modules/module.py:1518\u001b[0m, in \u001b[0;36mModule._wrapped_call_impl\u001b[0;34m(self, *args, **kwargs)\u001b[0m\n\u001b[1;32m   1516\u001b[0m     \u001b[38;5;28;01mreturn\u001b[39;00m \u001b[38;5;28mself\u001b[39m\u001b[38;5;241m.\u001b[39m_compiled_call_impl(\u001b[38;5;241m*\u001b[39margs, \u001b[38;5;241m*\u001b[39m\u001b[38;5;241m*\u001b[39mkwargs)  \u001b[38;5;66;03m# type: ignore[misc]\u001b[39;00m\n\u001b[1;32m   1517\u001b[0m \u001b[38;5;28;01melse\u001b[39;00m:\n\u001b[0;32m-> 1518\u001b[0m     \u001b[38;5;28;01mreturn\u001b[39;00m \u001b[38;5;28;43mself\u001b[39;49m\u001b[38;5;241;43m.\u001b[39;49m\u001b[43m_call_impl\u001b[49m\u001b[43m(\u001b[49m\u001b[38;5;241;43m*\u001b[39;49m\u001b[43margs\u001b[49m\u001b[43m,\u001b[49m\u001b[43m \u001b[49m\u001b[38;5;241;43m*\u001b[39;49m\u001b[38;5;241;43m*\u001b[39;49m\u001b[43mkwargs\u001b[49m\u001b[43m)\u001b[49m\n",
      "File \u001b[0;32m/mnt/disk1/yanyd/miniconda3/envs/torch/lib/python3.10/site-packages/torch/nn/modules/module.py:1527\u001b[0m, in \u001b[0;36mModule._call_impl\u001b[0;34m(self, *args, **kwargs)\u001b[0m\n\u001b[1;32m   1522\u001b[0m \u001b[38;5;66;03m# If we don't have any hooks, we want to skip the rest of the logic in\u001b[39;00m\n\u001b[1;32m   1523\u001b[0m \u001b[38;5;66;03m# this function, and just call forward.\u001b[39;00m\n\u001b[1;32m   1524\u001b[0m \u001b[38;5;28;01mif\u001b[39;00m \u001b[38;5;129;01mnot\u001b[39;00m (\u001b[38;5;28mself\u001b[39m\u001b[38;5;241m.\u001b[39m_backward_hooks \u001b[38;5;129;01mor\u001b[39;00m \u001b[38;5;28mself\u001b[39m\u001b[38;5;241m.\u001b[39m_backward_pre_hooks \u001b[38;5;129;01mor\u001b[39;00m \u001b[38;5;28mself\u001b[39m\u001b[38;5;241m.\u001b[39m_forward_hooks \u001b[38;5;129;01mor\u001b[39;00m \u001b[38;5;28mself\u001b[39m\u001b[38;5;241m.\u001b[39m_forward_pre_hooks\n\u001b[1;32m   1525\u001b[0m         \u001b[38;5;129;01mor\u001b[39;00m _global_backward_pre_hooks \u001b[38;5;129;01mor\u001b[39;00m _global_backward_hooks\n\u001b[1;32m   1526\u001b[0m         \u001b[38;5;129;01mor\u001b[39;00m _global_forward_hooks \u001b[38;5;129;01mor\u001b[39;00m _global_forward_pre_hooks):\n\u001b[0;32m-> 1527\u001b[0m     \u001b[38;5;28;01mreturn\u001b[39;00m \u001b[43mforward_call\u001b[49m\u001b[43m(\u001b[49m\u001b[38;5;241;43m*\u001b[39;49m\u001b[43margs\u001b[49m\u001b[43m,\u001b[49m\u001b[43m \u001b[49m\u001b[38;5;241;43m*\u001b[39;49m\u001b[38;5;241;43m*\u001b[39;49m\u001b[43mkwargs\u001b[49m\u001b[43m)\u001b[49m\n\u001b[1;32m   1529\u001b[0m \u001b[38;5;28;01mtry\u001b[39;00m:\n\u001b[1;32m   1530\u001b[0m     result \u001b[38;5;241m=\u001b[39m \u001b[38;5;28;01mNone\u001b[39;00m\n",
      "File \u001b[0;32m/mnt/disk1/yanyd/miniconda3/envs/torch/lib/python3.10/site-packages/peft/tuners/tuners_utils.py:160\u001b[0m, in \u001b[0;36mBaseTuner.forward\u001b[0;34m(self, *args, **kwargs)\u001b[0m\n\u001b[1;32m    159\u001b[0m \u001b[38;5;28;01mdef\u001b[39;00m \u001b[38;5;21mforward\u001b[39m(\u001b[38;5;28mself\u001b[39m, \u001b[38;5;241m*\u001b[39margs: Any, \u001b[38;5;241m*\u001b[39m\u001b[38;5;241m*\u001b[39mkwargs: Any):\n\u001b[0;32m--> 160\u001b[0m     \u001b[38;5;28;01mreturn\u001b[39;00m \u001b[38;5;28;43mself\u001b[39;49m\u001b[38;5;241;43m.\u001b[39;49m\u001b[43mmodel\u001b[49m\u001b[38;5;241;43m.\u001b[39;49m\u001b[43mforward\u001b[49m\u001b[43m(\u001b[49m\u001b[38;5;241;43m*\u001b[39;49m\u001b[43margs\u001b[49m\u001b[43m,\u001b[49m\u001b[43m \u001b[49m\u001b[38;5;241;43m*\u001b[39;49m\u001b[38;5;241;43m*\u001b[39;49m\u001b[43mkwargs\u001b[49m\u001b[43m)\u001b[49m\n",
      "File \u001b[0;32m/mnt/disk1/yanyd/miniconda3/envs/torch/lib/python3.10/site-packages/accelerate/hooks.py:166\u001b[0m, in \u001b[0;36madd_hook_to_module.<locals>.new_forward\u001b[0;34m(module, *args, **kwargs)\u001b[0m\n\u001b[1;32m    164\u001b[0m         output \u001b[38;5;241m=\u001b[39m module\u001b[38;5;241m.\u001b[39m_old_forward(\u001b[38;5;241m*\u001b[39margs, \u001b[38;5;241m*\u001b[39m\u001b[38;5;241m*\u001b[39mkwargs)\n\u001b[1;32m    165\u001b[0m \u001b[38;5;28;01melse\u001b[39;00m:\n\u001b[0;32m--> 166\u001b[0m     output \u001b[38;5;241m=\u001b[39m \u001b[43mmodule\u001b[49m\u001b[38;5;241;43m.\u001b[39;49m\u001b[43m_old_forward\u001b[49m\u001b[43m(\u001b[49m\u001b[38;5;241;43m*\u001b[39;49m\u001b[43margs\u001b[49m\u001b[43m,\u001b[49m\u001b[43m \u001b[49m\u001b[38;5;241;43m*\u001b[39;49m\u001b[38;5;241;43m*\u001b[39;49m\u001b[43mkwargs\u001b[49m\u001b[43m)\u001b[49m\n\u001b[1;32m    167\u001b[0m \u001b[38;5;28;01mreturn\u001b[39;00m module\u001b[38;5;241m.\u001b[39m_hf_hook\u001b[38;5;241m.\u001b[39mpost_forward(module, output)\n",
      "File \u001b[0;32m/mnt/disk1/yanyd/miniconda3/envs/torch/lib/python3.10/site-packages/transformers/models/gemma/modeling_gemma.py:1073\u001b[0m, in \u001b[0;36mGemmaForCausalLM.forward\u001b[0;34m(self, input_ids, attention_mask, position_ids, past_key_values, inputs_embeds, labels, use_cache, output_attentions, output_hidden_states, return_dict, cache_position)\u001b[0m\n\u001b[1;32m   1070\u001b[0m return_dict \u001b[38;5;241m=\u001b[39m return_dict \u001b[38;5;28;01mif\u001b[39;00m return_dict \u001b[38;5;129;01mis\u001b[39;00m \u001b[38;5;129;01mnot\u001b[39;00m \u001b[38;5;28;01mNone\u001b[39;00m \u001b[38;5;28;01melse\u001b[39;00m \u001b[38;5;28mself\u001b[39m\u001b[38;5;241m.\u001b[39mconfig\u001b[38;5;241m.\u001b[39muse_return_dict\n\u001b[1;32m   1072\u001b[0m \u001b[38;5;66;03m# decoder outputs consists of (dec_features, layer_state, dec_hidden, dec_attn)\u001b[39;00m\n\u001b[0;32m-> 1073\u001b[0m outputs \u001b[38;5;241m=\u001b[39m \u001b[38;5;28;43mself\u001b[39;49m\u001b[38;5;241;43m.\u001b[39;49m\u001b[43mmodel\u001b[49m\u001b[43m(\u001b[49m\n\u001b[1;32m   1074\u001b[0m \u001b[43m    \u001b[49m\u001b[43minput_ids\u001b[49m\u001b[38;5;241;43m=\u001b[39;49m\u001b[43minput_ids\u001b[49m\u001b[43m,\u001b[49m\n\u001b[1;32m   1075\u001b[0m \u001b[43m    \u001b[49m\u001b[43mattention_mask\u001b[49m\u001b[38;5;241;43m=\u001b[39;49m\u001b[43mattention_mask\u001b[49m\u001b[43m,\u001b[49m\n\u001b[1;32m   1076\u001b[0m \u001b[43m    \u001b[49m\u001b[43mposition_ids\u001b[49m\u001b[38;5;241;43m=\u001b[39;49m\u001b[43mposition_ids\u001b[49m\u001b[43m,\u001b[49m\n\u001b[1;32m   1077\u001b[0m \u001b[43m    \u001b[49m\u001b[43mpast_key_values\u001b[49m\u001b[38;5;241;43m=\u001b[39;49m\u001b[43mpast_key_values\u001b[49m\u001b[43m,\u001b[49m\n\u001b[1;32m   1078\u001b[0m \u001b[43m    \u001b[49m\u001b[43minputs_embeds\u001b[49m\u001b[38;5;241;43m=\u001b[39;49m\u001b[43minputs_embeds\u001b[49m\u001b[43m,\u001b[49m\n\u001b[1;32m   1079\u001b[0m \u001b[43m    \u001b[49m\u001b[43muse_cache\u001b[49m\u001b[38;5;241;43m=\u001b[39;49m\u001b[43muse_cache\u001b[49m\u001b[43m,\u001b[49m\n\u001b[1;32m   1080\u001b[0m \u001b[43m    \u001b[49m\u001b[43moutput_attentions\u001b[49m\u001b[38;5;241;43m=\u001b[39;49m\u001b[43moutput_attentions\u001b[49m\u001b[43m,\u001b[49m\n\u001b[1;32m   1081\u001b[0m \u001b[43m    \u001b[49m\u001b[43moutput_hidden_states\u001b[49m\u001b[38;5;241;43m=\u001b[39;49m\u001b[43moutput_hidden_states\u001b[49m\u001b[43m,\u001b[49m\n\u001b[1;32m   1082\u001b[0m \u001b[43m    \u001b[49m\u001b[43mreturn_dict\u001b[49m\u001b[38;5;241;43m=\u001b[39;49m\u001b[43mreturn_dict\u001b[49m\u001b[43m,\u001b[49m\n\u001b[1;32m   1083\u001b[0m \u001b[43m    \u001b[49m\u001b[43mcache_position\u001b[49m\u001b[38;5;241;43m=\u001b[39;49m\u001b[43mcache_position\u001b[49m\u001b[43m,\u001b[49m\n\u001b[1;32m   1084\u001b[0m \u001b[43m\u001b[49m\u001b[43m)\u001b[49m\n\u001b[1;32m   1086\u001b[0m hidden_states \u001b[38;5;241m=\u001b[39m outputs[\u001b[38;5;241m0\u001b[39m]\n\u001b[1;32m   1087\u001b[0m logits \u001b[38;5;241m=\u001b[39m \u001b[38;5;28mself\u001b[39m\u001b[38;5;241m.\u001b[39mlm_head(hidden_states)\n",
      "File \u001b[0;32m/mnt/disk1/yanyd/miniconda3/envs/torch/lib/python3.10/site-packages/torch/nn/modules/module.py:1518\u001b[0m, in \u001b[0;36mModule._wrapped_call_impl\u001b[0;34m(self, *args, **kwargs)\u001b[0m\n\u001b[1;32m   1516\u001b[0m     \u001b[38;5;28;01mreturn\u001b[39;00m \u001b[38;5;28mself\u001b[39m\u001b[38;5;241m.\u001b[39m_compiled_call_impl(\u001b[38;5;241m*\u001b[39margs, \u001b[38;5;241m*\u001b[39m\u001b[38;5;241m*\u001b[39mkwargs)  \u001b[38;5;66;03m# type: ignore[misc]\u001b[39;00m\n\u001b[1;32m   1517\u001b[0m \u001b[38;5;28;01melse\u001b[39;00m:\n\u001b[0;32m-> 1518\u001b[0m     \u001b[38;5;28;01mreturn\u001b[39;00m \u001b[38;5;28;43mself\u001b[39;49m\u001b[38;5;241;43m.\u001b[39;49m\u001b[43m_call_impl\u001b[49m\u001b[43m(\u001b[49m\u001b[38;5;241;43m*\u001b[39;49m\u001b[43margs\u001b[49m\u001b[43m,\u001b[49m\u001b[43m \u001b[49m\u001b[38;5;241;43m*\u001b[39;49m\u001b[38;5;241;43m*\u001b[39;49m\u001b[43mkwargs\u001b[49m\u001b[43m)\u001b[49m\n",
      "File \u001b[0;32m/mnt/disk1/yanyd/miniconda3/envs/torch/lib/python3.10/site-packages/torch/nn/modules/module.py:1527\u001b[0m, in \u001b[0;36mModule._call_impl\u001b[0;34m(self, *args, **kwargs)\u001b[0m\n\u001b[1;32m   1522\u001b[0m \u001b[38;5;66;03m# If we don't have any hooks, we want to skip the rest of the logic in\u001b[39;00m\n\u001b[1;32m   1523\u001b[0m \u001b[38;5;66;03m# this function, and just call forward.\u001b[39;00m\n\u001b[1;32m   1524\u001b[0m \u001b[38;5;28;01mif\u001b[39;00m \u001b[38;5;129;01mnot\u001b[39;00m (\u001b[38;5;28mself\u001b[39m\u001b[38;5;241m.\u001b[39m_backward_hooks \u001b[38;5;129;01mor\u001b[39;00m \u001b[38;5;28mself\u001b[39m\u001b[38;5;241m.\u001b[39m_backward_pre_hooks \u001b[38;5;129;01mor\u001b[39;00m \u001b[38;5;28mself\u001b[39m\u001b[38;5;241m.\u001b[39m_forward_hooks \u001b[38;5;129;01mor\u001b[39;00m \u001b[38;5;28mself\u001b[39m\u001b[38;5;241m.\u001b[39m_forward_pre_hooks\n\u001b[1;32m   1525\u001b[0m         \u001b[38;5;129;01mor\u001b[39;00m _global_backward_pre_hooks \u001b[38;5;129;01mor\u001b[39;00m _global_backward_hooks\n\u001b[1;32m   1526\u001b[0m         \u001b[38;5;129;01mor\u001b[39;00m _global_forward_hooks \u001b[38;5;129;01mor\u001b[39;00m _global_forward_pre_hooks):\n\u001b[0;32m-> 1527\u001b[0m     \u001b[38;5;28;01mreturn\u001b[39;00m \u001b[43mforward_call\u001b[49m\u001b[43m(\u001b[49m\u001b[38;5;241;43m*\u001b[39;49m\u001b[43margs\u001b[49m\u001b[43m,\u001b[49m\u001b[43m \u001b[49m\u001b[38;5;241;43m*\u001b[39;49m\u001b[38;5;241;43m*\u001b[39;49m\u001b[43mkwargs\u001b[49m\u001b[43m)\u001b[49m\n\u001b[1;32m   1529\u001b[0m \u001b[38;5;28;01mtry\u001b[39;00m:\n\u001b[1;32m   1530\u001b[0m     result \u001b[38;5;241m=\u001b[39m \u001b[38;5;28;01mNone\u001b[39;00m\n",
      "File \u001b[0;32m/mnt/disk1/yanyd/miniconda3/envs/torch/lib/python3.10/site-packages/transformers/models/gemma/modeling_gemma.py:914\u001b[0m, in \u001b[0;36mGemmaModel.forward\u001b[0;34m(self, input_ids, attention_mask, position_ids, past_key_values, inputs_embeds, use_cache, output_attentions, output_hidden_states, return_dict, cache_position)\u001b[0m\n\u001b[1;32m    903\u001b[0m     layer_outputs \u001b[38;5;241m=\u001b[39m \u001b[38;5;28mself\u001b[39m\u001b[38;5;241m.\u001b[39m_gradient_checkpointing_func(\n\u001b[1;32m    904\u001b[0m         decoder_layer\u001b[38;5;241m.\u001b[39m\u001b[38;5;21m__call__\u001b[39m,\n\u001b[1;32m    905\u001b[0m         hidden_states,\n\u001b[0;32m   (...)\u001b[0m\n\u001b[1;32m    911\u001b[0m         cache_position,\n\u001b[1;32m    912\u001b[0m     )\n\u001b[1;32m    913\u001b[0m \u001b[38;5;28;01melse\u001b[39;00m:\n\u001b[0;32m--> 914\u001b[0m     layer_outputs \u001b[38;5;241m=\u001b[39m \u001b[43mdecoder_layer\u001b[49m\u001b[43m(\u001b[49m\n\u001b[1;32m    915\u001b[0m \u001b[43m        \u001b[49m\u001b[43mhidden_states\u001b[49m\u001b[43m,\u001b[49m\n\u001b[1;32m    916\u001b[0m \u001b[43m        \u001b[49m\u001b[43mattention_mask\u001b[49m\u001b[38;5;241;43m=\u001b[39;49m\u001b[43mcausal_mask\u001b[49m\u001b[43m,\u001b[49m\n\u001b[1;32m    917\u001b[0m \u001b[43m        \u001b[49m\u001b[43mposition_ids\u001b[49m\u001b[38;5;241;43m=\u001b[39;49m\u001b[43mposition_ids\u001b[49m\u001b[43m,\u001b[49m\n\u001b[1;32m    918\u001b[0m \u001b[43m        \u001b[49m\u001b[43mpast_key_value\u001b[49m\u001b[38;5;241;43m=\u001b[39;49m\u001b[43mpast_key_values\u001b[49m\u001b[43m,\u001b[49m\n\u001b[1;32m    919\u001b[0m \u001b[43m        \u001b[49m\u001b[43moutput_attentions\u001b[49m\u001b[38;5;241;43m=\u001b[39;49m\u001b[43moutput_attentions\u001b[49m\u001b[43m,\u001b[49m\n\u001b[1;32m    920\u001b[0m \u001b[43m        \u001b[49m\u001b[43muse_cache\u001b[49m\u001b[38;5;241;43m=\u001b[39;49m\u001b[43muse_cache\u001b[49m\u001b[43m,\u001b[49m\n\u001b[1;32m    921\u001b[0m \u001b[43m        \u001b[49m\u001b[43mcache_position\u001b[49m\u001b[38;5;241;43m=\u001b[39;49m\u001b[43mcache_position\u001b[49m\u001b[43m,\u001b[49m\n\u001b[1;32m    922\u001b[0m \u001b[43m    \u001b[49m\u001b[43m)\u001b[49m\n\u001b[1;32m    924\u001b[0m hidden_states \u001b[38;5;241m=\u001b[39m layer_outputs[\u001b[38;5;241m0\u001b[39m]\n\u001b[1;32m    926\u001b[0m \u001b[38;5;28;01mif\u001b[39;00m use_cache:\n",
      "File \u001b[0;32m/mnt/disk1/yanyd/miniconda3/envs/torch/lib/python3.10/site-packages/torch/nn/modules/module.py:1518\u001b[0m, in \u001b[0;36mModule._wrapped_call_impl\u001b[0;34m(self, *args, **kwargs)\u001b[0m\n\u001b[1;32m   1516\u001b[0m     \u001b[38;5;28;01mreturn\u001b[39;00m \u001b[38;5;28mself\u001b[39m\u001b[38;5;241m.\u001b[39m_compiled_call_impl(\u001b[38;5;241m*\u001b[39margs, \u001b[38;5;241m*\u001b[39m\u001b[38;5;241m*\u001b[39mkwargs)  \u001b[38;5;66;03m# type: ignore[misc]\u001b[39;00m\n\u001b[1;32m   1517\u001b[0m \u001b[38;5;28;01melse\u001b[39;00m:\n\u001b[0;32m-> 1518\u001b[0m     \u001b[38;5;28;01mreturn\u001b[39;00m \u001b[38;5;28;43mself\u001b[39;49m\u001b[38;5;241;43m.\u001b[39;49m\u001b[43m_call_impl\u001b[49m\u001b[43m(\u001b[49m\u001b[38;5;241;43m*\u001b[39;49m\u001b[43margs\u001b[49m\u001b[43m,\u001b[49m\u001b[43m \u001b[49m\u001b[38;5;241;43m*\u001b[39;49m\u001b[38;5;241;43m*\u001b[39;49m\u001b[43mkwargs\u001b[49m\u001b[43m)\u001b[49m\n",
      "File \u001b[0;32m/mnt/disk1/yanyd/miniconda3/envs/torch/lib/python3.10/site-packages/torch/nn/modules/module.py:1527\u001b[0m, in \u001b[0;36mModule._call_impl\u001b[0;34m(self, *args, **kwargs)\u001b[0m\n\u001b[1;32m   1522\u001b[0m \u001b[38;5;66;03m# If we don't have any hooks, we want to skip the rest of the logic in\u001b[39;00m\n\u001b[1;32m   1523\u001b[0m \u001b[38;5;66;03m# this function, and just call forward.\u001b[39;00m\n\u001b[1;32m   1524\u001b[0m \u001b[38;5;28;01mif\u001b[39;00m \u001b[38;5;129;01mnot\u001b[39;00m (\u001b[38;5;28mself\u001b[39m\u001b[38;5;241m.\u001b[39m_backward_hooks \u001b[38;5;129;01mor\u001b[39;00m \u001b[38;5;28mself\u001b[39m\u001b[38;5;241m.\u001b[39m_backward_pre_hooks \u001b[38;5;129;01mor\u001b[39;00m \u001b[38;5;28mself\u001b[39m\u001b[38;5;241m.\u001b[39m_forward_hooks \u001b[38;5;129;01mor\u001b[39;00m \u001b[38;5;28mself\u001b[39m\u001b[38;5;241m.\u001b[39m_forward_pre_hooks\n\u001b[1;32m   1525\u001b[0m         \u001b[38;5;129;01mor\u001b[39;00m _global_backward_pre_hooks \u001b[38;5;129;01mor\u001b[39;00m _global_backward_hooks\n\u001b[1;32m   1526\u001b[0m         \u001b[38;5;129;01mor\u001b[39;00m _global_forward_hooks \u001b[38;5;129;01mor\u001b[39;00m _global_forward_pre_hooks):\n\u001b[0;32m-> 1527\u001b[0m     \u001b[38;5;28;01mreturn\u001b[39;00m \u001b[43mforward_call\u001b[49m\u001b[43m(\u001b[49m\u001b[38;5;241;43m*\u001b[39;49m\u001b[43margs\u001b[49m\u001b[43m,\u001b[49m\u001b[43m \u001b[49m\u001b[38;5;241;43m*\u001b[39;49m\u001b[38;5;241;43m*\u001b[39;49m\u001b[43mkwargs\u001b[49m\u001b[43m)\u001b[49m\n\u001b[1;32m   1529\u001b[0m \u001b[38;5;28;01mtry\u001b[39;00m:\n\u001b[1;32m   1530\u001b[0m     result \u001b[38;5;241m=\u001b[39m \u001b[38;5;28;01mNone\u001b[39;00m\n",
      "File \u001b[0;32m/mnt/disk1/yanyd/miniconda3/envs/torch/lib/python3.10/site-packages/accelerate/hooks.py:166\u001b[0m, in \u001b[0;36madd_hook_to_module.<locals>.new_forward\u001b[0;34m(module, *args, **kwargs)\u001b[0m\n\u001b[1;32m    164\u001b[0m         output \u001b[38;5;241m=\u001b[39m module\u001b[38;5;241m.\u001b[39m_old_forward(\u001b[38;5;241m*\u001b[39margs, \u001b[38;5;241m*\u001b[39m\u001b[38;5;241m*\u001b[39mkwargs)\n\u001b[1;32m    165\u001b[0m \u001b[38;5;28;01melse\u001b[39;00m:\n\u001b[0;32m--> 166\u001b[0m     output \u001b[38;5;241m=\u001b[39m \u001b[43mmodule\u001b[49m\u001b[38;5;241;43m.\u001b[39;49m\u001b[43m_old_forward\u001b[49m\u001b[43m(\u001b[49m\u001b[38;5;241;43m*\u001b[39;49m\u001b[43margs\u001b[49m\u001b[43m,\u001b[49m\u001b[43m \u001b[49m\u001b[38;5;241;43m*\u001b[39;49m\u001b[38;5;241;43m*\u001b[39;49m\u001b[43mkwargs\u001b[49m\u001b[43m)\u001b[49m\n\u001b[1;32m    167\u001b[0m \u001b[38;5;28;01mreturn\u001b[39;00m module\u001b[38;5;241m.\u001b[39m_hf_hook\u001b[38;5;241m.\u001b[39mpost_forward(module, output)\n",
      "File \u001b[0;32m/mnt/disk1/yanyd/miniconda3/envs/torch/lib/python3.10/site-packages/transformers/models/gemma/modeling_gemma.py:646\u001b[0m, in \u001b[0;36mGemmaDecoderLayer.forward\u001b[0;34m(self, hidden_states, attention_mask, position_ids, past_key_value, output_attentions, use_cache, cache_position, **kwargs)\u001b[0m\n\u001b[1;32m    644\u001b[0m residual \u001b[38;5;241m=\u001b[39m hidden_states\n\u001b[1;32m    645\u001b[0m hidden_states \u001b[38;5;241m=\u001b[39m \u001b[38;5;28mself\u001b[39m\u001b[38;5;241m.\u001b[39mpost_attention_layernorm(hidden_states)\n\u001b[0;32m--> 646\u001b[0m hidden_states \u001b[38;5;241m=\u001b[39m \u001b[38;5;28;43mself\u001b[39;49m\u001b[38;5;241;43m.\u001b[39;49m\u001b[43mmlp\u001b[49m\u001b[43m(\u001b[49m\u001b[43mhidden_states\u001b[49m\u001b[43m)\u001b[49m\n\u001b[1;32m    647\u001b[0m hidden_states \u001b[38;5;241m=\u001b[39m residual \u001b[38;5;241m+\u001b[39m hidden_states\n\u001b[1;32m    649\u001b[0m outputs \u001b[38;5;241m=\u001b[39m (hidden_states,)\n",
      "File \u001b[0;32m/mnt/disk1/yanyd/miniconda3/envs/torch/lib/python3.10/site-packages/torch/nn/modules/module.py:1518\u001b[0m, in \u001b[0;36mModule._wrapped_call_impl\u001b[0;34m(self, *args, **kwargs)\u001b[0m\n\u001b[1;32m   1516\u001b[0m     \u001b[38;5;28;01mreturn\u001b[39;00m \u001b[38;5;28mself\u001b[39m\u001b[38;5;241m.\u001b[39m_compiled_call_impl(\u001b[38;5;241m*\u001b[39margs, \u001b[38;5;241m*\u001b[39m\u001b[38;5;241m*\u001b[39mkwargs)  \u001b[38;5;66;03m# type: ignore[misc]\u001b[39;00m\n\u001b[1;32m   1517\u001b[0m \u001b[38;5;28;01melse\u001b[39;00m:\n\u001b[0;32m-> 1518\u001b[0m     \u001b[38;5;28;01mreturn\u001b[39;00m \u001b[38;5;28;43mself\u001b[39;49m\u001b[38;5;241;43m.\u001b[39;49m\u001b[43m_call_impl\u001b[49m\u001b[43m(\u001b[49m\u001b[38;5;241;43m*\u001b[39;49m\u001b[43margs\u001b[49m\u001b[43m,\u001b[49m\u001b[43m \u001b[49m\u001b[38;5;241;43m*\u001b[39;49m\u001b[38;5;241;43m*\u001b[39;49m\u001b[43mkwargs\u001b[49m\u001b[43m)\u001b[49m\n",
      "File \u001b[0;32m/mnt/disk1/yanyd/miniconda3/envs/torch/lib/python3.10/site-packages/torch/nn/modules/module.py:1527\u001b[0m, in \u001b[0;36mModule._call_impl\u001b[0;34m(self, *args, **kwargs)\u001b[0m\n\u001b[1;32m   1522\u001b[0m \u001b[38;5;66;03m# If we don't have any hooks, we want to skip the rest of the logic in\u001b[39;00m\n\u001b[1;32m   1523\u001b[0m \u001b[38;5;66;03m# this function, and just call forward.\u001b[39;00m\n\u001b[1;32m   1524\u001b[0m \u001b[38;5;28;01mif\u001b[39;00m \u001b[38;5;129;01mnot\u001b[39;00m (\u001b[38;5;28mself\u001b[39m\u001b[38;5;241m.\u001b[39m_backward_hooks \u001b[38;5;129;01mor\u001b[39;00m \u001b[38;5;28mself\u001b[39m\u001b[38;5;241m.\u001b[39m_backward_pre_hooks \u001b[38;5;129;01mor\u001b[39;00m \u001b[38;5;28mself\u001b[39m\u001b[38;5;241m.\u001b[39m_forward_hooks \u001b[38;5;129;01mor\u001b[39;00m \u001b[38;5;28mself\u001b[39m\u001b[38;5;241m.\u001b[39m_forward_pre_hooks\n\u001b[1;32m   1525\u001b[0m         \u001b[38;5;129;01mor\u001b[39;00m _global_backward_pre_hooks \u001b[38;5;129;01mor\u001b[39;00m _global_backward_hooks\n\u001b[1;32m   1526\u001b[0m         \u001b[38;5;129;01mor\u001b[39;00m _global_forward_hooks \u001b[38;5;129;01mor\u001b[39;00m _global_forward_pre_hooks):\n\u001b[0;32m-> 1527\u001b[0m     \u001b[38;5;28;01mreturn\u001b[39;00m \u001b[43mforward_call\u001b[49m\u001b[43m(\u001b[49m\u001b[38;5;241;43m*\u001b[39;49m\u001b[43margs\u001b[49m\u001b[43m,\u001b[49m\u001b[43m \u001b[49m\u001b[38;5;241;43m*\u001b[39;49m\u001b[38;5;241;43m*\u001b[39;49m\u001b[43mkwargs\u001b[49m\u001b[43m)\u001b[49m\n\u001b[1;32m   1529\u001b[0m \u001b[38;5;28;01mtry\u001b[39;00m:\n\u001b[1;32m   1530\u001b[0m     result \u001b[38;5;241m=\u001b[39m \u001b[38;5;28;01mNone\u001b[39;00m\n",
      "File \u001b[0;32m/mnt/disk1/yanyd/miniconda3/envs/torch/lib/python3.10/site-packages/accelerate/hooks.py:166\u001b[0m, in \u001b[0;36madd_hook_to_module.<locals>.new_forward\u001b[0;34m(module, *args, **kwargs)\u001b[0m\n\u001b[1;32m    164\u001b[0m         output \u001b[38;5;241m=\u001b[39m module\u001b[38;5;241m.\u001b[39m_old_forward(\u001b[38;5;241m*\u001b[39margs, \u001b[38;5;241m*\u001b[39m\u001b[38;5;241m*\u001b[39mkwargs)\n\u001b[1;32m    165\u001b[0m \u001b[38;5;28;01melse\u001b[39;00m:\n\u001b[0;32m--> 166\u001b[0m     output \u001b[38;5;241m=\u001b[39m \u001b[43mmodule\u001b[49m\u001b[38;5;241;43m.\u001b[39;49m\u001b[43m_old_forward\u001b[49m\u001b[43m(\u001b[49m\u001b[38;5;241;43m*\u001b[39;49m\u001b[43margs\u001b[49m\u001b[43m,\u001b[49m\u001b[43m \u001b[49m\u001b[38;5;241;43m*\u001b[39;49m\u001b[38;5;241;43m*\u001b[39;49m\u001b[43mkwargs\u001b[49m\u001b[43m)\u001b[49m\n\u001b[1;32m    167\u001b[0m \u001b[38;5;28;01mreturn\u001b[39;00m module\u001b[38;5;241m.\u001b[39m_hf_hook\u001b[38;5;241m.\u001b[39mpost_forward(module, output)\n",
      "File \u001b[0;32m/mnt/disk1/yanyd/miniconda3/envs/torch/lib/python3.10/site-packages/transformers/models/gemma/modeling_gemma.py:174\u001b[0m, in \u001b[0;36mGemmaMLP.forward\u001b[0;34m(self, x)\u001b[0m\n\u001b[1;32m    173\u001b[0m \u001b[38;5;28;01mdef\u001b[39;00m \u001b[38;5;21mforward\u001b[39m(\u001b[38;5;28mself\u001b[39m, x):\n\u001b[0;32m--> 174\u001b[0m     \u001b[38;5;28;01mreturn\u001b[39;00m \u001b[38;5;28;43mself\u001b[39;49m\u001b[38;5;241;43m.\u001b[39;49m\u001b[43mdown_proj\u001b[49m\u001b[43m(\u001b[49m\u001b[38;5;28;43mself\u001b[39;49m\u001b[38;5;241;43m.\u001b[39;49m\u001b[43mact_fn\u001b[49m\u001b[43m(\u001b[49m\u001b[38;5;28;43mself\u001b[39;49m\u001b[38;5;241;43m.\u001b[39;49m\u001b[43mgate_proj\u001b[49m\u001b[43m(\u001b[49m\u001b[43mx\u001b[49m\u001b[43m)\u001b[49m\u001b[43m)\u001b[49m\u001b[43m \u001b[49m\u001b[38;5;241;43m*\u001b[39;49m\u001b[43m \u001b[49m\u001b[38;5;28;43mself\u001b[39;49m\u001b[38;5;241;43m.\u001b[39;49m\u001b[43mup_proj\u001b[49m\u001b[43m(\u001b[49m\u001b[43mx\u001b[49m\u001b[43m)\u001b[49m\u001b[43m)\u001b[49m\n",
      "File \u001b[0;32m/mnt/disk1/yanyd/miniconda3/envs/torch/lib/python3.10/site-packages/torch/nn/modules/module.py:1518\u001b[0m, in \u001b[0;36mModule._wrapped_call_impl\u001b[0;34m(self, *args, **kwargs)\u001b[0m\n\u001b[1;32m   1516\u001b[0m     \u001b[38;5;28;01mreturn\u001b[39;00m \u001b[38;5;28mself\u001b[39m\u001b[38;5;241m.\u001b[39m_compiled_call_impl(\u001b[38;5;241m*\u001b[39margs, \u001b[38;5;241m*\u001b[39m\u001b[38;5;241m*\u001b[39mkwargs)  \u001b[38;5;66;03m# type: ignore[misc]\u001b[39;00m\n\u001b[1;32m   1517\u001b[0m \u001b[38;5;28;01melse\u001b[39;00m:\n\u001b[0;32m-> 1518\u001b[0m     \u001b[38;5;28;01mreturn\u001b[39;00m \u001b[38;5;28;43mself\u001b[39;49m\u001b[38;5;241;43m.\u001b[39;49m\u001b[43m_call_impl\u001b[49m\u001b[43m(\u001b[49m\u001b[38;5;241;43m*\u001b[39;49m\u001b[43margs\u001b[49m\u001b[43m,\u001b[49m\u001b[43m \u001b[49m\u001b[38;5;241;43m*\u001b[39;49m\u001b[38;5;241;43m*\u001b[39;49m\u001b[43mkwargs\u001b[49m\u001b[43m)\u001b[49m\n",
      "File \u001b[0;32m/mnt/disk1/yanyd/miniconda3/envs/torch/lib/python3.10/site-packages/torch/nn/modules/module.py:1527\u001b[0m, in \u001b[0;36mModule._call_impl\u001b[0;34m(self, *args, **kwargs)\u001b[0m\n\u001b[1;32m   1522\u001b[0m \u001b[38;5;66;03m# If we don't have any hooks, we want to skip the rest of the logic in\u001b[39;00m\n\u001b[1;32m   1523\u001b[0m \u001b[38;5;66;03m# this function, and just call forward.\u001b[39;00m\n\u001b[1;32m   1524\u001b[0m \u001b[38;5;28;01mif\u001b[39;00m \u001b[38;5;129;01mnot\u001b[39;00m (\u001b[38;5;28mself\u001b[39m\u001b[38;5;241m.\u001b[39m_backward_hooks \u001b[38;5;129;01mor\u001b[39;00m \u001b[38;5;28mself\u001b[39m\u001b[38;5;241m.\u001b[39m_backward_pre_hooks \u001b[38;5;129;01mor\u001b[39;00m \u001b[38;5;28mself\u001b[39m\u001b[38;5;241m.\u001b[39m_forward_hooks \u001b[38;5;129;01mor\u001b[39;00m \u001b[38;5;28mself\u001b[39m\u001b[38;5;241m.\u001b[39m_forward_pre_hooks\n\u001b[1;32m   1525\u001b[0m         \u001b[38;5;129;01mor\u001b[39;00m _global_backward_pre_hooks \u001b[38;5;129;01mor\u001b[39;00m _global_backward_hooks\n\u001b[1;32m   1526\u001b[0m         \u001b[38;5;129;01mor\u001b[39;00m _global_forward_hooks \u001b[38;5;129;01mor\u001b[39;00m _global_forward_pre_hooks):\n\u001b[0;32m-> 1527\u001b[0m     \u001b[38;5;28;01mreturn\u001b[39;00m \u001b[43mforward_call\u001b[49m\u001b[43m(\u001b[49m\u001b[38;5;241;43m*\u001b[39;49m\u001b[43margs\u001b[49m\u001b[43m,\u001b[49m\u001b[43m \u001b[49m\u001b[38;5;241;43m*\u001b[39;49m\u001b[38;5;241;43m*\u001b[39;49m\u001b[43mkwargs\u001b[49m\u001b[43m)\u001b[49m\n\u001b[1;32m   1529\u001b[0m \u001b[38;5;28;01mtry\u001b[39;00m:\n\u001b[1;32m   1530\u001b[0m     result \u001b[38;5;241m=\u001b[39m \u001b[38;5;28;01mNone\u001b[39;00m\n",
      "File \u001b[0;32m/mnt/disk1/yanyd/miniconda3/envs/torch/lib/python3.10/site-packages/peft/tuners/lora/layer.py:434\u001b[0m, in \u001b[0;36mLinear.forward\u001b[0;34m(self, x, *args, **kwargs)\u001b[0m\n\u001b[1;32m    432\u001b[0m dropout \u001b[38;5;241m=\u001b[39m \u001b[38;5;28mself\u001b[39m\u001b[38;5;241m.\u001b[39mlora_dropout[active_adapter]\n\u001b[1;32m    433\u001b[0m scaling \u001b[38;5;241m=\u001b[39m \u001b[38;5;28mself\u001b[39m\u001b[38;5;241m.\u001b[39mscaling[active_adapter]\n\u001b[0;32m--> 434\u001b[0m x \u001b[38;5;241m=\u001b[39m \u001b[43mx\u001b[49m\u001b[38;5;241;43m.\u001b[39;49m\u001b[43mto\u001b[49m\u001b[43m(\u001b[49m\u001b[43mlora_A\u001b[49m\u001b[38;5;241;43m.\u001b[39;49m\u001b[43mweight\u001b[49m\u001b[38;5;241;43m.\u001b[39;49m\u001b[43mdtype\u001b[49m\u001b[43m)\u001b[49m\n\u001b[1;32m    436\u001b[0m \u001b[38;5;28;01mif\u001b[39;00m \u001b[38;5;129;01mnot\u001b[39;00m \u001b[38;5;28mself\u001b[39m\u001b[38;5;241m.\u001b[39muse_dora[active_adapter]:\n\u001b[1;32m    437\u001b[0m     result \u001b[38;5;241m=\u001b[39m result \u001b[38;5;241m+\u001b[39m lora_B(lora_A(dropout(x))) \u001b[38;5;241m*\u001b[39m scaling\n",
      "\u001b[0;31mOutOfMemoryError\u001b[0m: CUDA out of memory. Tried to allocate 256.00 MiB. GPU 0 has a total capacty of 15.77 GiB of which 158.38 MiB is free. Including non-PyTorch memory, this process has 15.62 GiB memory in use. Of the allocated memory 15.22 GiB is allocated by PyTorch, and 30.27 MiB is reserved by PyTorch but unallocated. If reserved but unallocated memory is large try setting max_split_size_mb to avoid fragmentation.  See documentation for Memory Management and PYTORCH_CUDA_ALLOC_CONF"
     ]
    }
   ],
   "source": [
    "from tqdm.auto import tqdm\n",
    "\n",
    "progress_bar = tqdm(range(num_training_steps))\n",
    "\n",
    "for epoch in range(num_train_epochs):\n",
    "    model.train()\n",
    "    for step, batch in enumerate(train_dataloader):\n",
    "        outputs = model(**batch)\n",
    "        loss = outputs.loss\n",
    "        accelerator.backward(loss)\n",
    "        if step % gradient_accumulation_steps == 0:\n",
    "            optimizer.step()\n",
    "            lr_scheduler.step()\n",
    "            optimizer.zero_grad()\n",
    "        progress_bar.update(1)\n",
    "\n",
    "    model.eval()\n",
    "    losses = []\n",
    "    for step, batch in enumerate(eval_dataloader):\n",
    "        with torch.no_grad():\n",
    "            outputs = model(**batch)\n",
    "\n",
    "        loss = outputs.loss\n",
    "        losses.append(accelerator.gather(loss.repeat(batch_size)))\n",
    "\n",
    "    losses = torch.cat(losses)\n",
    "    losses = losses[: len(eval_dataset)]\n",
    "\n",
    "    accelerator.wait_for_everyone()\n",
    "    unwrapped_model = accelerator.unwrap_model(model)\n",
    "    unwrapped_model.save_pretrained(output_dir, save_function=accelerator.save)\n",
    "    if accelerator.is_main_process:\n",
    "        tokenizer.save_pretrained('./gemma-2b-sft-qa/')"
   ]
  },
  {
   "cell_type": "code",
   "execution_count": null,
   "id": "35b52c16-27bc-40b7-90d7-6c8fb5e4fa87",
   "metadata": {},
   "outputs": [],
   "source": [
    "import torch\n",
    "\n",
    "torch.cuda.empty_cache()"
   ]
  },
  {
   "cell_type": "markdown",
   "id": "9213532a-2e2d-407a-a866-49808ec28abb",
   "metadata": {
    "jp-MarkdownHeadingCollapsed": true
   },
   "source": [
    "## Inference"
   ]
  },
  {
   "cell_type": "code",
   "execution_count": 5,
   "id": "e2ecdf0b-5988-406c-8b88-2f7e921aefa9",
   "metadata": {},
   "outputs": [],
   "source": [
    "model_path = 'BioQwen-stage2-merged/'"
   ]
  },
  {
   "cell_type": "code",
   "execution_count": 6,
   "id": "854ce336-3de7-4f08-8135-45cfd17a104c",
   "metadata": {},
   "outputs": [
    {
     "name": "stderr",
     "output_type": "stream",
     "text": [
      "Special tokens have been added in the vocabulary, make sure the associated word embeddings are fine-tuned or trained.\n"
     ]
    }
   ],
   "source": [
    "tokenizer = AutoTokenizer.from_pretrained(model_path)\n",
    "model = AutoModelForCausalLM.from_pretrained(model_path, device_map='auto', torch_dtype=torch.bfloat16).eval()\n",
    "# model = ORTModelForCausalLM.from_pretrained(model_path, use_cache=False, use_io_binding=False)"
   ]
  },
  {
   "cell_type": "code",
   "execution_count": 7,
   "id": "d842496d-385d-467e-a7b5-c45c8c62f77c",
   "metadata": {},
   "outputs": [
    {
     "data": {
      "text/plain": [
       "Qwen2TokenizerFast(name_or_path='qwen-1.8b-bio-qlora-stage2-merge-save/', vocab_size=151643, model_max_length=32768, is_fast=True, padding_side='right', truncation_side='right', special_tokens={'eos_token': '<|endoftext|>', 'pad_token': '<|padoftext|>', 'additional_special_tokens': ['<|im_start|>', '<|im_end|>']}, clean_up_tokenization_spaces=False),  added_tokens_decoder={\n",
       "\t151643: AddedToken(\"<|endoftext|>\", rstrip=False, lstrip=False, single_word=False, normalized=False, special=True),\n",
       "\t151644: AddedToken(\"<|im_start|>\", rstrip=False, lstrip=False, single_word=False, normalized=False, special=True),\n",
       "\t151645: AddedToken(\"<|im_end|>\", rstrip=False, lstrip=False, single_word=False, normalized=False, special=True),\n",
       "\t151646: AddedToken(\"<|padoftext|>\", rstrip=False, lstrip=False, single_word=False, normalized=False, special=True),\n",
       "}"
      ]
     },
     "execution_count": 7,
     "metadata": {},
     "output_type": "execute_result"
    }
   ],
   "source": [
    "tokenizer"
   ]
  },
  {
   "cell_type": "code",
   "execution_count": 8,
   "id": "b7fe9c75-888a-4579-9f0d-42c551ece6ab",
   "metadata": {},
   "outputs": [],
   "source": [
    "def predict(prompt):\n",
    "    zh_system = \"你是千问生物智能助手，一个专注于生物领域的先进人工智能，由颜钰东开发微调，专注于生物医学领域。\"\n",
    "    en_system = \"You are BIO-QWEN, an advanced AI specializing in the field of biology, developed by YUDONG YAN, mainly focus on Biomedical field.\"\n",
    "    \n",
    "    english_count, chinese_count = 0, 0\n",
    "    for char in prompt:\n",
    "        if '\\u4e00' <= char <= '\\u9fff':\n",
    "            chinese_count += 1\n",
    "        elif 'a' <= char.lower() <= 'z':\n",
    "            english_count += 1\n",
    "    lang = 'zh' if chinese_count > english_count else 'en'\n",
    "    \n",
    "    messages = [\n",
    "        {\"role\": \"system\", \"content\": zh_system if lang == 'zh' else en_system},\n",
    "        {\"role\": \"user\", \"content\": prompt}\n",
    "    ]\n",
    "    text = tokenizer.apply_chat_template(\n",
    "        messages,\n",
    "        tokenize=False,\n",
    "        add_generation_prompt=True\n",
    "    )\n",
    "\n",
    "    model_inputs = tokenizer([text], return_tensors=\"pt\").to('cuda')\n",
    "    # model_inputs = tokenizer([text], return_tensors=\"pt\")\n",
    "\n",
    "    # model.eval()\n",
    "    with torch.no_grad():\n",
    "        # streamer = TextStreamer(tokenizer, skip_prompt=False)\n",
    "        generated_ids = model.generate(\n",
    "            model_inputs.input_ids,\n",
    "            max_new_tokens=max_length // 2,\n",
    "            eos_token_id=tokenizer.eos_token_id,\n",
    "            pad_token_id=tokenizer.pad_token_id,\n",
    "            do_sample=True,\n",
    "            top_p = 0.9,\n",
    "            temperature = 0.3,\n",
    "            repetition_penalty = 1.0,\n",
    "            # streamer=streamer\n",
    "        )\n",
    "    generated_ids = [\n",
    "        output_ids[len(input_ids):] for input_ids, output_ids in zip(model_inputs.input_ids, generated_ids)\n",
    "    ]\n",
    "    \n",
    "    response = tokenizer.batch_decode(generated_ids, skip_special_tokens=True)[0]\n",
    "    \n",
    "    return response.strip()"
   ]
  },
  {
   "cell_type": "code",
   "execution_count": 9,
   "id": "ad4dfdec-6b56-47d2-97e2-c0fd27937f21",
   "metadata": {
    "scrolled": true
   },
   "outputs": [
    {
     "data": {
      "text/plain": [
       "'一般来说，使用低分子肝素钠抗凝后需要等待至少24小时才能进行肠镜检查。这是因为肠镜检查需要使用一定量的血液，而低分子肝素钠可以防止血液凝固，如果在使用低分子肝素钠抗凝后的24小时内进行肠镜检查，可能会导致肠镜部位出血，影响检查结果。因此，建议在使用低分子肝素钠抗凝后的24小时内避免进行肠镜检查。如果您有任何疑问或需要更详细的指导，请咨询您的医生。'"
      ]
     },
     "execution_count": 9,
     "metadata": {},
     "output_type": "execute_result"
    }
   ],
   "source": [
    "prompt = '维持性血液透析患者，使用低分子肝素钠抗凝后多久可以做肠镜？'\n",
    "predict(prompt)"
   ]
  },
  {
   "cell_type": "code",
   "execution_count": 10,
   "id": "b5ca9ba1-9ee6-4f30-a8a8-ddf19335450f",
   "metadata": {
    "scrolled": true
   },
   "outputs": [
    {
     "name": "stdout",
     "output_type": "stream",
     "text": [
      "Running on local URL:  http://0.0.0.0:61112\n",
      "\n",
      "To create a public link, set `share=True` in `launch()`.\n"
     ]
    },
    {
     "data": {
      "text/html": [
       "<div><iframe src=\"http://localhost:61112/\" width=\"100%\" height=\"500\" allow=\"autoplay; camera; microphone; clipboard-read; clipboard-write;\" frameborder=\"0\" allowfullscreen></iframe></div>"
      ],
      "text/plain": [
       "<IPython.core.display.HTML object>"
      ]
     },
     "metadata": {},
     "output_type": "display_data"
    },
    {
     "data": {
      "text/plain": []
     },
     "execution_count": 10,
     "metadata": {},
     "output_type": "execute_result"
    }
   ],
   "source": [
    "title = 'BIO-QWEN Chat'\n",
    "description = \"\"\"\n",
    "The llm was trained to answer questions mainly based on <b>Biomedical</b> dialogues. Ask BIO-QWEN anything!<br>\n",
    "Mainly focus on NER, RE, MT and QA.\n",
    "\"\"\"\n",
    "\n",
    "article = 'Check out [the original QWEN llm](https://huggingface.co/Qwen/Qwen1.5-1.8B) that this demo is based off of.'\n",
    "\n",
    "gr.Interface(\n",
    "    fn=predict,\n",
    "    inputs='textbox',\n",
    "    outputs='text',\n",
    "    title=title,\n",
    "    description=description,\n",
    "    article=article,\n",
    "    examples=[\n",
    "        ['你好，你是谁？'], ['Hello, who are you?'],\n",
    "        ['给出句子中药物治疗关系类型的实体对：慢性阻塞性肺疾病@减少急性加重：有高质量的证据证实，β2 受体激动剂在减少 12-52 周急性加重方面比安慰剂更有效。'], \n",
    "        ['从下面文本中识别出指定的实体类型：治疗以选用大环内酯类抗生素，沙眼衣原体肺炎也可用磺胺二甲基异唑，年长儿和成人用氟喹诺酮类效果也很好。实体类型：疾病，药物'], \n",
    "        ['将下面文本翻译成英文：光动力疗法（PDT）作为一种新兴的肿瘤治疗手段，因其不良反应较少、靶向性好、可重复治疗等优点，已广泛应用于临床多种肿瘤的治疗。相比于手术、化疗及放疗等传统治疗策略，光动力疗法不仅可杀伤原位肿瘤，还可通过激活机体的免疫效应对转移瘤发挥抑制作用。然而，PDT诱导免疫效应的高低受多种因素影响，包括光敏剂在细胞内的定位和剂量、光参数、肿瘤内的氧浓度、免疫功能的完整性等。本文针对PDT介导抗肿瘤免疫效应的相关机制，以及PDT免疫效应的主要影响因素进行综述，以探讨PDT用于肿瘤治疗的未来发展方向。'], \n",
    "        ['什么是鼠疫？它有什么预防方法吗？鼠疫常发生在哪些国家？'],\n",
    "        ['你好，你知道重庆邮电大学吗？这个学校的生物信息学专业怎么样？']],\n",
    ").launch(share=False, server_name='0.0.0.0', server_port=61112)"
   ]
  },
  {
   "cell_type": "code",
   "execution_count": null,
   "id": "f3e486d8-32cd-427b-a76d-da06fa9803c9",
   "metadata": {},
   "outputs": [],
   "source": []
  }
 ],
 "metadata": {
  "kernelspec": {
   "display_name": "Python 3 (ipykernel)",
   "language": "python",
   "name": "python3"
  },
  "language_info": {
   "codemirror_mode": {
    "name": "ipython",
    "version": 3
   },
   "file_extension": ".py",
   "mimetype": "text/x-python",
   "name": "python",
   "nbconvert_exporter": "python",
   "pygments_lexer": "ipython3",
   "version": "3.12.1"
  },
  "widgets": {
   "application/vnd.jupyter.widget-state+json": {
    "state": {},
    "version_major": 2,
    "version_minor": 0
   }
  }
 },
 "nbformat": 4,
 "nbformat_minor": 5
}
